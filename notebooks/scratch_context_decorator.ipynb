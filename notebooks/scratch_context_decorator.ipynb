{
 "cells": [
  {
   "cell_type": "code",
   "execution_count": 1,
   "metadata": {
    "ExecuteTime": {
     "end_time": "2020-12-12T04:34:40.526000Z",
     "start_time": "2020-12-12T04:34:40.521077Z"
    }
   },
   "outputs": [],
   "source": [
    "from contextlib import contextmanager\n",
    "from functools import wraps, update_wrapper, partial\n",
    "import time"
   ]
  },
  {
   "cell_type": "code",
   "execution_count": 44,
   "metadata": {
    "ExecuteTime": {
     "end_time": "2020-12-13T06:22:19.495512Z",
     "start_time": "2020-12-13T06:22:19.487778Z"
    }
   },
   "outputs": [],
   "source": [
    "class Timed:\n",
    "    \n",
    "    def __init__(self, func=None):\n",
    "        print('in init')\n",
    "        if func:\n",
    "            self.func = func\n",
    "            update_wrapper(self, func)\n",
    "        \n",
    "    def __call__(self, *args, **kwargs):\n",
    "        print('in call')\n",
    "        self.__enter__()\n",
    "        res = self.func(*args, **kwargs)\n",
    "        self.__exit__(None, None, None)\n",
    "        return res\n",
    "    \n",
    "    def __enter__(self):\n",
    "        self.start = time.time()\n",
    "        print('enter')\n",
    "    \n",
    "    def __exit__(self, exc_type, exc_value, traceback):\n",
    "        print('exit:', time.time() - self.start)\n",
    "        self.start = None"
   ]
  },
  {
   "cell_type": "code",
   "execution_count": 45,
   "metadata": {
    "ExecuteTime": {
     "end_time": "2020-12-13T06:22:19.788966Z",
     "start_time": "2020-12-13T06:22:19.782380Z"
    }
   },
   "outputs": [
    {
     "name": "stdout",
     "output_type": "stream",
     "text": [
      "in init\n"
     ]
    }
   ],
   "source": [
    "@Timed\n",
    "def foo(a, b=1, c='c'):\n",
    "    \"\"\"foo docs\"\"\"\n",
    "    for i in range(1, b+1):\n",
    "        time.sleep(1)\n",
    "        a += i\n",
    "    return a"
   ]
  },
  {
   "cell_type": "code",
   "execution_count": 46,
   "metadata": {
    "ExecuteTime": {
     "end_time": "2020-12-13T06:22:21.274466Z",
     "start_time": "2020-12-13T06:22:20.268213Z"
    }
   },
   "outputs": [
    {
     "name": "stdout",
     "output_type": "stream",
     "text": [
      "in call\n",
      "enter\n",
      "exit: 1.0024421215057373\n",
      "4\n"
     ]
    }
   ],
   "source": [
    "print(foo(3))"
   ]
  },
  {
   "cell_type": "code",
   "execution_count": 47,
   "metadata": {
    "ExecuteTime": {
     "end_time": "2020-12-13T06:22:22.940009Z",
     "start_time": "2020-12-13T06:22:21.935936Z"
    }
   },
   "outputs": [
    {
     "name": "stdout",
     "output_type": "stream",
     "text": [
      "in init\n",
      "enter\n",
      "in call\n",
      "enter\n",
      "exit: 1.000110149383545\n",
      "6\n",
      "exit: 1.000378131866455\n"
     ]
    }
   ],
   "source": [
    "with Timed():\n",
    "    print(foo(5))"
   ]
  },
  {
   "cell_type": "code",
   "execution_count": 48,
   "metadata": {
    "ExecuteTime": {
     "end_time": "2020-12-13T06:22:25.101207Z",
     "start_time": "2020-12-13T06:22:24.092735Z"
    }
   },
   "outputs": [
    {
     "name": "stdout",
     "output_type": "stream",
     "text": [
      "in init\n",
      "enter\n",
      "10000001\n",
      "exit: 1.0012190341949463\n"
     ]
    }
   ],
   "source": [
    "with Timed():\n",
    "    a = 1\n",
    "    for i in range(10_000_000):\n",
    "        a += 1\n",
    "    print(a)"
   ]
  },
  {
   "cell_type": "code",
   "execution_count": 49,
   "metadata": {
    "ExecuteTime": {
     "end_time": "2020-12-13T06:22:47.643911Z",
     "start_time": "2020-12-13T06:22:46.731700Z"
    }
   },
   "outputs": [
    {
     "name": "stdout",
     "output_type": "stream",
     "text": [
      "in init\n",
      "enter\n",
      "10000001\n",
      "exit: 0.8945257663726807\n"
     ]
    },
    {
     "ename": "TypeError",
     "evalue": "unsupported operand type(s) for +: 'int' and 'str'",
     "output_type": "error",
     "traceback": [
      "\u001b[0;31m---------------------------------------------------------------------------\u001b[0m",
      "\u001b[0;31mTypeError\u001b[0m                                 Traceback (most recent call last)",
      "\u001b[0;32m<ipython-input-49-877a164ea256>\u001b[0m in \u001b[0;36m<module>\u001b[0;34m\u001b[0m\n\u001b[1;32m      4\u001b[0m         \u001b[0ma\u001b[0m \u001b[0;34m+=\u001b[0m \u001b[0;36m1\u001b[0m\u001b[0;34m\u001b[0m\u001b[0;34m\u001b[0m\u001b[0m\n\u001b[1;32m      5\u001b[0m     \u001b[0mprint\u001b[0m\u001b[0;34m(\u001b[0m\u001b[0ma\u001b[0m\u001b[0;34m)\u001b[0m\u001b[0;34m\u001b[0m\u001b[0;34m\u001b[0m\u001b[0m\n\u001b[0;32m----> 6\u001b[0;31m     \u001b[0mprint\u001b[0m\u001b[0;34m(\u001b[0m\u001b[0ma\u001b[0m \u001b[0;34m+\u001b[0m \u001b[0;34m'a'\u001b[0m\u001b[0;34m)\u001b[0m\u001b[0;34m\u001b[0m\u001b[0;34m\u001b[0m\u001b[0m\n\u001b[0m",
      "\u001b[0;31mTypeError\u001b[0m: unsupported operand type(s) for +: 'int' and 'str'"
     ]
    }
   ],
   "source": [
    "with Timed():\n",
    "    a = 1\n",
    "    for i in range(10_000_000):\n",
    "        a += 1\n",
    "    print(a)\n",
    "    print(a + 'a')"
   ]
  },
  {
   "cell_type": "markdown",
   "metadata": {},
   "source": [
    "## Approach 1\n",
    "\n",
    "Issues\n",
    "- non-strict mode doesn't work\n",
    "- bit fuzzy re how `__call__` is working. Weird that calling exit() with None works."
   ]
  },
  {
   "cell_type": "code",
   "execution_count": 54,
   "metadata": {
    "ExecuteTime": {
     "end_time": "2020-12-13T06:24:01.838581Z",
     "start_time": "2020-12-13T06:24:01.833897Z"
    }
   },
   "outputs": [],
   "source": [
    "class ContextDecorator:\n",
    "    \n",
    "    def __init__(self, func=None):\n",
    "        print('parent init')\n",
    "        if func:\n",
    "            self.func = func\n",
    "            update_wrapper(self, func)\n",
    "    \n",
    "    def __call__(self, *args, **kwargs):\n",
    "        print('parent call')\n",
    "        self.__enter__()\n",
    "        res = self.func(*args, **kwargs)\n",
    "        self.__exit__(None, None, None)\n",
    "        return res"
   ]
  },
  {
   "cell_type": "code",
   "execution_count": 55,
   "metadata": {
    "ExecuteTime": {
     "end_time": "2020-12-13T06:24:02.363323Z",
     "start_time": "2020-12-13T06:24:02.356259Z"
    }
   },
   "outputs": [],
   "source": [
    "class NewTimed(ContextDecorator):\n",
    "    \n",
    "    def __init__(self, func=None):\n",
    "        super().__init__(func)\n",
    "        \n",
    "    def __enter__(self):\n",
    "        self.start = time.time()\n",
    "        print('enter')\n",
    "    \n",
    "    def __exit__(self, exc_type, exc_value, traceback):\n",
    "        print('exit:', time.time() - self.start)\n",
    "        self.start = None"
   ]
  },
  {
   "cell_type": "code",
   "execution_count": 56,
   "metadata": {
    "ExecuteTime": {
     "end_time": "2020-12-13T06:24:02.683456Z",
     "start_time": "2020-12-13T06:24:02.677543Z"
    }
   },
   "outputs": [
    {
     "name": "stdout",
     "output_type": "stream",
     "text": [
      "parent init\n"
     ]
    }
   ],
   "source": [
    "@NewTimed\n",
    "def new_foo(a, b=1, c='c'):\n",
    "    \"\"\"foo docs\"\"\"\n",
    "    for i in range(1, b+1):\n",
    "        time.sleep(1)\n",
    "        a += i\n",
    "    return a"
   ]
  },
  {
   "cell_type": "code",
   "execution_count": 57,
   "metadata": {
    "ExecuteTime": {
     "end_time": "2020-12-13T06:24:04.369723Z",
     "start_time": "2020-12-13T06:24:03.362475Z"
    }
   },
   "outputs": [
    {
     "name": "stdout",
     "output_type": "stream",
     "text": [
      "parent call\n",
      "enter\n",
      "exit: 1.0015151500701904\n"
     ]
    },
    {
     "data": {
      "text/plain": [
       "32"
      ]
     },
     "execution_count": 57,
     "metadata": {},
     "output_type": "execute_result"
    }
   ],
   "source": [
    "new_foo(31)"
   ]
  },
  {
   "cell_type": "code",
   "execution_count": 58,
   "metadata": {
    "ExecuteTime": {
     "end_time": "2020-12-13T06:24:15.630329Z",
     "start_time": "2020-12-13T06:24:14.679204Z"
    }
   },
   "outputs": [
    {
     "name": "stdout",
     "output_type": "stream",
     "text": [
      "parent init\n",
      "enter\n",
      "10000001\n",
      "exit: 0.9463701248168945\n"
     ]
    }
   ],
   "source": [
    "with NewTimed():\n",
    "    a = 1\n",
    "    for i in range(10_000_000):\n",
    "        a += 1\n",
    "    print(a)"
   ]
  },
  {
   "cell_type": "markdown",
   "metadata": {},
   "source": [
    "### reproduce timebox"
   ]
  },
  {
   "cell_type": "code",
   "execution_count": 59,
   "metadata": {
    "ExecuteTime": {
     "end_time": "2020-12-13T06:24:24.907966Z",
     "start_time": "2020-12-13T06:24:24.904687Z"
    }
   },
   "outputs": [],
   "source": [
    "import signal\n",
    "import warnings"
   ]
  },
  {
   "cell_type": "code",
   "execution_count": 14,
   "metadata": {
    "ExecuteTime": {
     "end_time": "2020-12-12T04:44:01.965711Z",
     "start_time": "2020-12-12T04:44:01.957997Z"
    }
   },
   "outputs": [],
   "source": [
    "class TimeExceededError(Exception):\n",
    "    pass\n",
    "\n",
    "def timebox_handler(time, frame):\n",
    "    raise TimeExceededError('Time limit exceeded.')\n",
    "\n",
    "@contextmanager\n",
    "def timebox(time, strict=True):\n",
    "    try:\n",
    "        signal.signal(signal.SIGALRM, timebox_handler)\n",
    "        signal.alarm(time)\n",
    "        yield\n",
    "    except Exception as e:\n",
    "        if strict: raise\n",
    "        warnings.warn(e.args[0])\n",
    "    finally:\n",
    "        signal.alarm(0)\n",
    "\n",
    "def timeboxed(time, strict=True):\n",
    "    def intermediate_wrapper(func):\n",
    "        @wraps(func)\n",
    "        def wrapper(*args, **kwargs):\n",
    "            with timebox(time, strict) as tb:\n",
    "                return func(*args, **kwargs)\n",
    "        return wrapper\n",
    "    return intermediate_wrapper"
   ]
  },
  {
   "cell_type": "code",
   "execution_count": 74,
   "metadata": {
    "ExecuteTime": {
     "end_time": "2020-12-13T06:33:29.890595Z",
     "start_time": "2020-12-13T06:33:29.883897Z"
    }
   },
   "outputs": [],
   "source": [
    "class Timebox(ContextDecorator):\n",
    "    \n",
    "    def __init__(self, time, strict=True):\n",
    "        print('child init')\n",
    "        self.time = time\n",
    "        self.strict = strict\n",
    "        \n",
    "    def __call__(self, *args, **kwargs):\n",
    "        if not hasattr(self, 'func'):\n",
    "            print('child call: in if')\n",
    "            super().__init__(args[0])\n",
    "            return self.__call__\n",
    "        \n",
    "        print('child call: after if')\n",
    "        return super().__call__(*args, **kwargs)\n",
    "    \n",
    "    def __enter__(self):\n",
    "        print('enter')\n",
    "        signal.signal(signal.SIGALRM, timebox_handler)\n",
    "        signal.alarm(self.time)\n",
    "        \n",
    "    def __exit__(self, exc_type, exc_value, traceback):\n",
    "        print('exit')\n",
    "        signal.alarm(0)\n",
    "        if exc_type:\n",
    "            if self.strict: \n",
    "                print('strict')\n",
    "                raise\n",
    "            else:\n",
    "                print('not strict')\n",
    "                warnings.warn(exc_type)\n",
    "                return True"
   ]
  },
  {
   "cell_type": "code",
   "execution_count": 75,
   "metadata": {
    "ExecuteTime": {
     "end_time": "2020-12-13T06:33:30.319190Z",
     "start_time": "2020-12-13T06:33:30.313376Z"
    }
   },
   "outputs": [
    {
     "name": "stdout",
     "output_type": "stream",
     "text": [
      "child init\n",
      "child call: in if\n",
      "parent init\n"
     ]
    }
   ],
   "source": [
    "@Timebox(1)\n",
    "def bar(a, b=True, c=3, **kwargs):\n",
    "    print('start bar')\n",
    "    time.sleep(a)\n",
    "    print('end bar')\n",
    "    return a*c"
   ]
  },
  {
   "cell_type": "code",
   "execution_count": 76,
   "metadata": {
    "ExecuteTime": {
     "end_time": "2020-12-13T06:33:31.428965Z",
     "start_time": "2020-12-13T06:33:30.922625Z"
    }
   },
   "outputs": [
    {
     "name": "stdout",
     "output_type": "stream",
     "text": [
      "child call: after if\n",
      "parent call\n",
      "enter\n",
      "start bar\n",
      "end bar\n",
      "exit\n"
     ]
    },
    {
     "data": {
      "text/plain": [
       "1.5"
      ]
     },
     "execution_count": 76,
     "metadata": {},
     "output_type": "execute_result"
    }
   ],
   "source": [
    "bar(0.5)"
   ]
  },
  {
   "cell_type": "code",
   "execution_count": 77,
   "metadata": {
    "ExecuteTime": {
     "end_time": "2020-12-13T06:33:35.734589Z",
     "start_time": "2020-12-13T06:33:34.710494Z"
    }
   },
   "outputs": [
    {
     "name": "stdout",
     "output_type": "stream",
     "text": [
      "child call: after if\n",
      "parent call\n",
      "enter\n",
      "start bar\n"
     ]
    },
    {
     "ename": "TimeExceededError",
     "evalue": "Time limit exceeded.",
     "output_type": "error",
     "traceback": [
      "\u001b[0;31m---------------------------------------------------------------------------\u001b[0m",
      "\u001b[0;31mTimeExceededError\u001b[0m                         Traceback (most recent call last)",
      "\u001b[0;32m<ipython-input-77-0699623aa859>\u001b[0m in \u001b[0;36m<module>\u001b[0;34m\u001b[0m\n\u001b[0;32m----> 1\u001b[0;31m \u001b[0mbar\u001b[0m\u001b[0;34m(\u001b[0m\u001b[0;36m2\u001b[0m\u001b[0;34m)\u001b[0m\u001b[0;34m\u001b[0m\u001b[0;34m\u001b[0m\u001b[0m\n\u001b[0m",
      "\u001b[0;32m<ipython-input-74-99ac47108ed4>\u001b[0m in \u001b[0;36m__call__\u001b[0;34m(self, *args, **kwargs)\u001b[0m\n\u001b[1;32m     13\u001b[0m \u001b[0;34m\u001b[0m\u001b[0m\n\u001b[1;32m     14\u001b[0m         \u001b[0mprint\u001b[0m\u001b[0;34m(\u001b[0m\u001b[0;34m'child call: after if'\u001b[0m\u001b[0;34m)\u001b[0m\u001b[0;34m\u001b[0m\u001b[0;34m\u001b[0m\u001b[0m\n\u001b[0;32m---> 15\u001b[0;31m         \u001b[0;32mreturn\u001b[0m \u001b[0msuper\u001b[0m\u001b[0;34m(\u001b[0m\u001b[0;34m)\u001b[0m\u001b[0;34m.\u001b[0m\u001b[0m__call__\u001b[0m\u001b[0;34m(\u001b[0m\u001b[0;34m*\u001b[0m\u001b[0margs\u001b[0m\u001b[0;34m,\u001b[0m \u001b[0;34m**\u001b[0m\u001b[0mkwargs\u001b[0m\u001b[0;34m)\u001b[0m\u001b[0;34m\u001b[0m\u001b[0;34m\u001b[0m\u001b[0m\n\u001b[0m\u001b[1;32m     16\u001b[0m \u001b[0;34m\u001b[0m\u001b[0m\n\u001b[1;32m     17\u001b[0m     \u001b[0;32mdef\u001b[0m \u001b[0m__enter__\u001b[0m\u001b[0;34m(\u001b[0m\u001b[0mself\u001b[0m\u001b[0;34m)\u001b[0m\u001b[0;34m:\u001b[0m\u001b[0;34m\u001b[0m\u001b[0;34m\u001b[0m\u001b[0m\n",
      "\u001b[0;32m<ipython-input-54-e50afcc0c282>\u001b[0m in \u001b[0;36m__call__\u001b[0;34m(self, *args, **kwargs)\u001b[0m\n\u001b[1;32m     10\u001b[0m         \u001b[0mprint\u001b[0m\u001b[0;34m(\u001b[0m\u001b[0;34m'parent call'\u001b[0m\u001b[0;34m)\u001b[0m\u001b[0;34m\u001b[0m\u001b[0;34m\u001b[0m\u001b[0m\n\u001b[1;32m     11\u001b[0m         \u001b[0mself\u001b[0m\u001b[0;34m.\u001b[0m\u001b[0m__enter__\u001b[0m\u001b[0;34m(\u001b[0m\u001b[0;34m)\u001b[0m\u001b[0;34m\u001b[0m\u001b[0;34m\u001b[0m\u001b[0m\n\u001b[0;32m---> 12\u001b[0;31m         \u001b[0mres\u001b[0m \u001b[0;34m=\u001b[0m \u001b[0mself\u001b[0m\u001b[0;34m.\u001b[0m\u001b[0mfunc\u001b[0m\u001b[0;34m(\u001b[0m\u001b[0;34m*\u001b[0m\u001b[0margs\u001b[0m\u001b[0;34m,\u001b[0m \u001b[0;34m**\u001b[0m\u001b[0mkwargs\u001b[0m\u001b[0;34m)\u001b[0m\u001b[0;34m\u001b[0m\u001b[0;34m\u001b[0m\u001b[0m\n\u001b[0m\u001b[1;32m     13\u001b[0m         \u001b[0mself\u001b[0m\u001b[0;34m.\u001b[0m\u001b[0m__exit__\u001b[0m\u001b[0;34m(\u001b[0m\u001b[0;32mNone\u001b[0m\u001b[0;34m,\u001b[0m \u001b[0;32mNone\u001b[0m\u001b[0;34m,\u001b[0m \u001b[0;32mNone\u001b[0m\u001b[0;34m)\u001b[0m\u001b[0;34m\u001b[0m\u001b[0;34m\u001b[0m\u001b[0m\n\u001b[1;32m     14\u001b[0m         \u001b[0;32mreturn\u001b[0m \u001b[0mres\u001b[0m\u001b[0;34m\u001b[0m\u001b[0;34m\u001b[0m\u001b[0m\n",
      "\u001b[0;32m<ipython-input-75-1194e20aa501>\u001b[0m in \u001b[0;36mbar\u001b[0;34m(a, b, c, **kwargs)\u001b[0m\n\u001b[1;32m      2\u001b[0m \u001b[0;32mdef\u001b[0m \u001b[0mbar\u001b[0m\u001b[0;34m(\u001b[0m\u001b[0ma\u001b[0m\u001b[0;34m,\u001b[0m \u001b[0mb\u001b[0m\u001b[0;34m=\u001b[0m\u001b[0;32mTrue\u001b[0m\u001b[0;34m,\u001b[0m \u001b[0mc\u001b[0m\u001b[0;34m=\u001b[0m\u001b[0;36m3\u001b[0m\u001b[0;34m,\u001b[0m \u001b[0;34m**\u001b[0m\u001b[0mkwargs\u001b[0m\u001b[0;34m)\u001b[0m\u001b[0;34m:\u001b[0m\u001b[0;34m\u001b[0m\u001b[0;34m\u001b[0m\u001b[0m\n\u001b[1;32m      3\u001b[0m     \u001b[0mprint\u001b[0m\u001b[0;34m(\u001b[0m\u001b[0;34m'start bar'\u001b[0m\u001b[0;34m)\u001b[0m\u001b[0;34m\u001b[0m\u001b[0;34m\u001b[0m\u001b[0m\n\u001b[0;32m----> 4\u001b[0;31m     \u001b[0mtime\u001b[0m\u001b[0;34m.\u001b[0m\u001b[0msleep\u001b[0m\u001b[0;34m(\u001b[0m\u001b[0ma\u001b[0m\u001b[0;34m)\u001b[0m\u001b[0;34m\u001b[0m\u001b[0;34m\u001b[0m\u001b[0m\n\u001b[0m\u001b[1;32m      5\u001b[0m     \u001b[0mprint\u001b[0m\u001b[0;34m(\u001b[0m\u001b[0;34m'end bar'\u001b[0m\u001b[0;34m)\u001b[0m\u001b[0;34m\u001b[0m\u001b[0;34m\u001b[0m\u001b[0m\n\u001b[1;32m      6\u001b[0m     \u001b[0;32mreturn\u001b[0m \u001b[0ma\u001b[0m\u001b[0;34m*\u001b[0m\u001b[0mc\u001b[0m\u001b[0;34m\u001b[0m\u001b[0;34m\u001b[0m\u001b[0m\n",
      "\u001b[0;32m<ipython-input-14-39b93a446f87>\u001b[0m in \u001b[0;36mtimebox_handler\u001b[0;34m(time, frame)\u001b[0m\n\u001b[1;32m      3\u001b[0m \u001b[0;34m\u001b[0m\u001b[0m\n\u001b[1;32m      4\u001b[0m \u001b[0;32mdef\u001b[0m \u001b[0mtimebox_handler\u001b[0m\u001b[0;34m(\u001b[0m\u001b[0mtime\u001b[0m\u001b[0;34m,\u001b[0m \u001b[0mframe\u001b[0m\u001b[0;34m)\u001b[0m\u001b[0;34m:\u001b[0m\u001b[0;34m\u001b[0m\u001b[0;34m\u001b[0m\u001b[0m\n\u001b[0;32m----> 5\u001b[0;31m     \u001b[0;32mraise\u001b[0m \u001b[0mTimeExceededError\u001b[0m\u001b[0;34m(\u001b[0m\u001b[0;34m'Time limit exceeded.'\u001b[0m\u001b[0;34m)\u001b[0m\u001b[0;34m\u001b[0m\u001b[0;34m\u001b[0m\u001b[0m\n\u001b[0m\u001b[1;32m      6\u001b[0m \u001b[0;34m\u001b[0m\u001b[0m\n\u001b[1;32m      7\u001b[0m \u001b[0;34m@\u001b[0m\u001b[0mcontextmanager\u001b[0m\u001b[0;34m\u001b[0m\u001b[0;34m\u001b[0m\u001b[0m\n",
      "\u001b[0;31mTimeExceededError\u001b[0m: Time limit exceeded."
     ]
    }
   ],
   "source": [
    "bar(2)"
   ]
  },
  {
   "cell_type": "code",
   "execution_count": 78,
   "metadata": {
    "ExecuteTime": {
     "end_time": "2020-12-13T06:33:43.761370Z",
     "start_time": "2020-12-13T06:33:42.753479Z"
    }
   },
   "outputs": [
    {
     "name": "stdout",
     "output_type": "stream",
     "text": [
      "child init\n",
      "enter\n",
      "start inside\n",
      "end inside\n",
      "exit\n"
     ]
    }
   ],
   "source": [
    "with Timebox(2):\n",
    "    print('start inside')\n",
    "    time.sleep(1)\n",
    "    print('end inside')"
   ]
  },
  {
   "cell_type": "code",
   "execution_count": 79,
   "metadata": {
    "ExecuteTime": {
     "end_time": "2020-12-13T06:33:46.639890Z",
     "start_time": "2020-12-13T06:33:44.618214Z"
    }
   },
   "outputs": [
    {
     "name": "stdout",
     "output_type": "stream",
     "text": [
      "child init\n",
      "enter\n",
      "start inside\n",
      "exit\n",
      "strict\n"
     ]
    },
    {
     "ename": "TimeExceededError",
     "evalue": "Time limit exceeded.",
     "output_type": "error",
     "traceback": [
      "\u001b[0;31m---------------------------------------------------------------------------\u001b[0m",
      "\u001b[0;31mTimeExceededError\u001b[0m                         Traceback (most recent call last)",
      "\u001b[0;32m<ipython-input-79-30ea819e62cc>\u001b[0m in \u001b[0;36m<module>\u001b[0;34m\u001b[0m\n\u001b[1;32m      2\u001b[0m     \u001b[0mprint\u001b[0m\u001b[0;34m(\u001b[0m\u001b[0;34m'start inside'\u001b[0m\u001b[0;34m)\u001b[0m\u001b[0;34m\u001b[0m\u001b[0;34m\u001b[0m\u001b[0m\n\u001b[1;32m      3\u001b[0m     \u001b[0mtime\u001b[0m\u001b[0;34m.\u001b[0m\u001b[0msleep\u001b[0m\u001b[0;34m(\u001b[0m\u001b[0;36m3\u001b[0m\u001b[0;34m)\u001b[0m\u001b[0;34m\u001b[0m\u001b[0;34m\u001b[0m\u001b[0m\n\u001b[0;32m----> 4\u001b[0;31m     \u001b[0mprint\u001b[0m\u001b[0;34m(\u001b[0m\u001b[0;34m'end inside'\u001b[0m\u001b[0;34m)\u001b[0m\u001b[0;34m\u001b[0m\u001b[0;34m\u001b[0m\u001b[0m\n\u001b[0m",
      "\u001b[0;32m<ipython-input-79-30ea819e62cc>\u001b[0m in \u001b[0;36m<module>\u001b[0;34m\u001b[0m\n\u001b[1;32m      1\u001b[0m \u001b[0;32mwith\u001b[0m \u001b[0mTimebox\u001b[0m\u001b[0;34m(\u001b[0m\u001b[0;36m2\u001b[0m\u001b[0;34m)\u001b[0m\u001b[0;34m:\u001b[0m\u001b[0;34m\u001b[0m\u001b[0;34m\u001b[0m\u001b[0m\n\u001b[1;32m      2\u001b[0m     \u001b[0mprint\u001b[0m\u001b[0;34m(\u001b[0m\u001b[0;34m'start inside'\u001b[0m\u001b[0;34m)\u001b[0m\u001b[0;34m\u001b[0m\u001b[0;34m\u001b[0m\u001b[0m\n\u001b[0;32m----> 3\u001b[0;31m     \u001b[0mtime\u001b[0m\u001b[0;34m.\u001b[0m\u001b[0msleep\u001b[0m\u001b[0;34m(\u001b[0m\u001b[0;36m3\u001b[0m\u001b[0;34m)\u001b[0m\u001b[0;34m\u001b[0m\u001b[0;34m\u001b[0m\u001b[0m\n\u001b[0m\u001b[1;32m      4\u001b[0m     \u001b[0mprint\u001b[0m\u001b[0;34m(\u001b[0m\u001b[0;34m'end inside'\u001b[0m\u001b[0;34m)\u001b[0m\u001b[0;34m\u001b[0m\u001b[0;34m\u001b[0m\u001b[0m\n",
      "\u001b[0;32m<ipython-input-14-39b93a446f87>\u001b[0m in \u001b[0;36mtimebox_handler\u001b[0;34m(time, frame)\u001b[0m\n\u001b[1;32m      3\u001b[0m \u001b[0;34m\u001b[0m\u001b[0m\n\u001b[1;32m      4\u001b[0m \u001b[0;32mdef\u001b[0m \u001b[0mtimebox_handler\u001b[0m\u001b[0;34m(\u001b[0m\u001b[0mtime\u001b[0m\u001b[0;34m,\u001b[0m \u001b[0mframe\u001b[0m\u001b[0;34m)\u001b[0m\u001b[0;34m:\u001b[0m\u001b[0;34m\u001b[0m\u001b[0;34m\u001b[0m\u001b[0m\n\u001b[0;32m----> 5\u001b[0;31m     \u001b[0;32mraise\u001b[0m \u001b[0mTimeExceededError\u001b[0m\u001b[0;34m(\u001b[0m\u001b[0;34m'Time limit exceeded.'\u001b[0m\u001b[0;34m)\u001b[0m\u001b[0;34m\u001b[0m\u001b[0;34m\u001b[0m\u001b[0m\n\u001b[0m\u001b[1;32m      6\u001b[0m \u001b[0;34m\u001b[0m\u001b[0m\n\u001b[1;32m      7\u001b[0m \u001b[0;34m@\u001b[0m\u001b[0mcontextmanager\u001b[0m\u001b[0;34m\u001b[0m\u001b[0;34m\u001b[0m\u001b[0m\n",
      "\u001b[0;31mTimeExceededError\u001b[0m: Time limit exceeded."
     ]
    }
   ],
   "source": [
    "with Timebox(2):\n",
    "    print('start inside')\n",
    "    time.sleep(3)\n",
    "    print('end inside')"
   ]
  },
  {
   "cell_type": "code",
   "execution_count": 80,
   "metadata": {
    "ExecuteTime": {
     "end_time": "2020-12-13T06:33:51.622464Z",
     "start_time": "2020-12-13T06:33:49.614467Z"
    }
   },
   "outputs": [
    {
     "name": "stdout",
     "output_type": "stream",
     "text": [
      "child init\n",
      "enter\n",
      "start inside\n",
      "exit\n",
      "not strict\n"
     ]
    },
    {
     "name": "stderr",
     "output_type": "stream",
     "text": [
      "/Users/hmamin/anaconda3/lib/python3.7/site-packages/ipykernel_launcher.py:31: UserWarning: <class '__main__.TimeExceededError'>\n"
     ]
    }
   ],
   "source": [
    "# This should NOT raise an error because strict=False. It seems like __exit__\n",
    "# doesn't raise it but something does.\n",
    "with Timebox(2, False):\n",
    "    print('start inside')\n",
    "    time.sleep(3)\n",
    "    print('end inside')"
   ]
  },
  {
   "cell_type": "markdown",
   "metadata": {},
   "source": [
    "## Approach 2\n",
    "\n",
    "Deals with decorators that accept arguments.\n",
    "\n",
    "Issues\n",
    "\n",
    "- Non-strict mode still doesn't work\n",
    "- Still don't quite understand how call() is calling exit()"
   ]
  },
  {
   "cell_type": "code",
   "execution_count": 171,
   "metadata": {
    "ExecuteTime": {
     "end_time": "2020-12-13T07:09:19.005956Z",
     "start_time": "2020-12-13T07:09:19.001988Z"
    }
   },
   "outputs": [],
   "source": [
    "from abc import ABC, abstractmethod\n",
    "from contextlib import contextmanager\n",
    "\n",
    "from htools import assert_raises, wrapmethods, debug"
   ]
  },
  {
   "cell_type": "code",
   "execution_count": 189,
   "metadata": {
    "ExecuteTime": {
     "end_time": "2020-12-13T07:18:18.163208Z",
     "start_time": "2020-12-13T07:18:18.154943Z"
    }
   },
   "outputs": [],
   "source": [
    "class ContextDecorator(ABC):\n",
    "    \"\"\"Abstract class that makes it easier to define classes that can serve\n",
    "    either as decorators or context managers. This is a viable option if the\n",
    "    function decorator case effectively wants to execute the function inside a\n",
    "    context manager. If you want to do something more complex, this may not be\n",
    "    appropriate since it's not clear what would happen in the context manager\n",
    "    use case.\n",
    "    \n",
    "    Examples\n",
    "    --------\n",
    "    import time\n",
    "    \n",
    "    class Timer(ContextDecorator):\n",
    "        \n",
    "        def __init__(self):\n",
    "            # More complex decorators might need to store variables here.\n",
    "            \n",
    "        def __enter__(self):\n",
    "            self.start = time.perf_counter()\n",
    "            \n",
    "        def __exit__(self, exc_type, exc_value, traceback):\n",
    "            print('TIME:', time.perf_counter() - self.start)\n",
    "            \n",
    "    @Timer()\n",
    "    def foo(a, *args):\n",
    "        # do something\n",
    "        \n",
    "    with Timer():\n",
    "        # do something\n",
    "        \n",
    "    # Both of these usage methods work!\n",
    "    \"\"\"\n",
    "    \n",
    "    def __call__(self, *args, **kwargs):\n",
    "        \"\"\"This method is NOT called when using child class as a context \n",
    "        manager.\n",
    "        \"\"\"\n",
    "        # Handle case where the decorated function is implicitly passed to the\n",
    "        # decorator. Return the uncalled method just like how we often\n",
    "        # `return wrapper` when writing a decorator as a function.\n",
    "        if not hasattr(self, 'func'):\n",
    "            self._wrap_func(args[0])\n",
    "            return self.__call__\n",
    "\n",
    "        self.__enter__()\n",
    "        res = self.func(*args, **kwargs)\n",
    "        self.__exit__(None, None, None)\n",
    "        return res\n",
    "    \n",
    "    def _wrap_func(self, func):\n",
    "        self.func = func\n",
    "        update_wrapper(self, func)\n",
    "        \n",
    "    @abstractmethod\n",
    "    def __enter__(self):\n",
    "        \"\"\"Do whatever you want to happen before executing the function (or \n",
    "        the block of code inside the context manager).\n",
    "        \"\"\"\n",
    "    \n",
    "    @abstractmethod\n",
    "    def __exit__(self, exc_type, exc_value, traceback):\n",
    "        \"\"\"Do anything that happens after the function finishes executing.\n",
    "        The three arguments will all be None unless an error occurs. \n",
    "        To suppress an error, this method must return True.\n",
    "        \"\"\""
   ]
  },
  {
   "cell_type": "code",
   "execution_count": 181,
   "metadata": {
    "ExecuteTime": {
     "end_time": "2020-12-13T07:14:58.798836Z",
     "start_time": "2020-12-13T07:14:58.790652Z"
    }
   },
   "outputs": [],
   "source": [
    "class TimeboxNew(ContextDecorator):\n",
    "\n",
    "    @debug\n",
    "    def __init__(self, time, strict=True):\n",
    "        self.time = time\n",
    "        self.strict = strict\n",
    "    \n",
    "    @debug\n",
    "    def __enter__(self):\n",
    "        signal.signal(signal.SIGALRM, timebox_handler)\n",
    "        signal.alarm(self.time)\n",
    "    \n",
    "    @debug\n",
    "    def __exit__(self, exc_type, exc_value, traceback):\n",
    "        signal.alarm(0)\n",
    "        if exc_type:\n",
    "            if self.strict: \n",
    "                raise\n",
    "            else:\n",
    "                warnings.warn(exc_type)\n",
    "                return True"
   ]
  },
  {
   "cell_type": "code",
   "execution_count": 182,
   "metadata": {
    "ExecuteTime": {
     "end_time": "2020-12-13T07:14:59.260603Z",
     "start_time": "2020-12-13T07:14:59.253172Z"
    }
   },
   "outputs": [
    {
     "name": "stdout",
     "output_type": "stream",
     "text": [
      "\n",
      "CALLING TimeboxNew.__init__(time=1, strict=True)\n"
     ]
    }
   ],
   "source": [
    "@TimeboxNew(1)\n",
    "def bar_new(a, b=True, c=3, **kwargs):\n",
    "    print('start bar')\n",
    "    time.sleep(a)\n",
    "    print('end bar')\n",
    "    return a*c"
   ]
  },
  {
   "cell_type": "code",
   "execution_count": 183,
   "metadata": {
    "ExecuteTime": {
     "end_time": "2020-12-13T07:15:00.438261Z",
     "start_time": "2020-12-13T07:14:59.431048Z"
    }
   },
   "outputs": [
    {
     "name": "stdout",
     "output_type": "stream",
     "text": [
      "\n",
      "CALLING TimeboxNew.__enter__()\n",
      "start bar\n",
      "As expected, got TimeExceededError(Time limit exceeded.).\n"
     ]
    }
   ],
   "source": [
    "with assert_raises(TimeExceededError):\n",
    "    bar_new(2)"
   ]
  },
  {
   "cell_type": "code",
   "execution_count": 184,
   "metadata": {
    "ExecuteTime": {
     "end_time": "2020-12-13T07:15:00.951640Z",
     "start_time": "2020-12-13T07:15:00.440884Z"
    }
   },
   "outputs": [
    {
     "name": "stdout",
     "output_type": "stream",
     "text": [
      "\n",
      "CALLING TimeboxNew.__enter__()\n",
      "start bar\n",
      "end bar\n",
      "\n",
      "CALLING TimeboxNew.__exit__(exc_type=None, exc_value=None, traceback=None)\n"
     ]
    },
    {
     "data": {
      "text/plain": [
       "1.5"
      ]
     },
     "execution_count": 184,
     "metadata": {},
     "output_type": "execute_result"
    }
   ],
   "source": [
    "bar_new(.5)"
   ]
  },
  {
   "cell_type": "code",
   "execution_count": 185,
   "metadata": {
    "ExecuteTime": {
     "end_time": "2020-12-13T07:15:01.962800Z",
     "start_time": "2020-12-13T07:15:00.954377Z"
    }
   },
   "outputs": [
    {
     "name": "stdout",
     "output_type": "stream",
     "text": [
      "\n",
      "CALLING TimeboxNew.__init__(time=2, strict=True)\n",
      "\n",
      "CALLING TimeboxNew.__enter__()\n",
      "start inside\n",
      "end inside\n",
      "\n",
      "CALLING TimeboxNew.__exit__(exc_type=None, exc_value=None, traceback=None)\n"
     ]
    }
   ],
   "source": [
    "with TimeboxNew(2):\n",
    "    print('start inside')\n",
    "    time.sleep(1)\n",
    "    print('end inside')"
   ]
  },
  {
   "cell_type": "code",
   "execution_count": 186,
   "metadata": {
    "ExecuteTime": {
     "end_time": "2020-12-13T07:15:02.973336Z",
     "start_time": "2020-12-13T07:15:01.965047Z"
    }
   },
   "outputs": [
    {
     "name": "stdout",
     "output_type": "stream",
     "text": [
      "\n",
      "CALLING TimeboxNew.__init__(time=1, strict=True)\n",
      "\n",
      "CALLING TimeboxNew.__enter__()\n",
      "start inside\n",
      "\n",
      "CALLING TimeboxNew.__exit__(exc_type=<class '__main__.TimeExceededError'>, exc_value=TimeExceededError('Time limit exceeded.'), traceback=<traceback object at 0x1a1bfef048>)\n",
      "As expected, got TimeExceededError(Time limit exceeded.).\n"
     ]
    }
   ],
   "source": [
    "with assert_raises(TimeExceededError):\n",
    "    with TimeboxNew(1):\n",
    "        print('start inside')\n",
    "        time.sleep(2)\n",
    "        print('end inside')"
   ]
  },
  {
   "cell_type": "code",
   "execution_count": 187,
   "metadata": {
    "ExecuteTime": {
     "end_time": "2020-12-13T07:15:03.984038Z",
     "start_time": "2020-12-13T07:15:02.977265Z"
    }
   },
   "outputs": [
    {
     "name": "stdout",
     "output_type": "stream",
     "text": [
      "\n",
      "CALLING TimeboxNew.__init__(time=1, strict=False)\n",
      "\n",
      "CALLING TimeboxNew.__enter__()\n",
      "start inside\n",
      "\n",
      "CALLING TimeboxNew.__exit__(exc_type=<class '__main__.TimeExceededError'>, exc_value=TimeExceededError('Time limit exceeded.'), traceback=<traceback object at 0x1a1bff8408>)\n"
     ]
    },
    {
     "name": "stderr",
     "output_type": "stream",
     "text": [
      "/Users/hmamin/anaconda3/lib/python3.7/site-packages/ipykernel_launcher.py:20: UserWarning: <class '__main__.TimeExceededError'>\n"
     ]
    }
   ],
   "source": [
    "with TimeboxNew(1, False):\n",
    "    print('start inside')\n",
    "    time.sleep(2)\n",
    "    print('end inside')"
   ]
  },
  {
   "cell_type": "code",
   "execution_count": null,
   "metadata": {},
   "outputs": [],
   "source": []
  },
  {
   "cell_type": "code",
   "execution_count": null,
   "metadata": {},
   "outputs": [],
   "source": []
  }
 ],
 "metadata": {
  "kernelspec": {
   "display_name": "Python 3",
   "language": "python",
   "name": "python3"
  },
  "language_info": {
   "codemirror_mode": {
    "name": "ipython",
    "version": 3
   },
   "file_extension": ".py",
   "mimetype": "text/x-python",
   "name": "python",
   "nbconvert_exporter": "python",
   "pygments_lexer": "ipython3",
   "version": "3.7.3"
  }
 },
 "nbformat": 4,
 "nbformat_minor": 2
}
