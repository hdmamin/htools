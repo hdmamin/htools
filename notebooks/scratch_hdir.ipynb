{
 "cells": [
  {
   "cell_type": "code",
   "execution_count": 3,
   "metadata": {
    "ExecuteTime": {
     "end_time": "2019-10-17T06:05:22.005127Z",
     "start_time": "2019-10-17T06:05:20.620356Z"
    }
   },
   "outputs": [],
   "source": [
    "from htools.htools import hdir\n",
    "import numpy as np\n",
    "import pandas as pd\n",
    "import re"
   ]
  },
  {
   "cell_type": "markdown",
   "metadata": {},
   "source": [
    "## tdir"
   ]
  },
  {
   "cell_type": "code",
   "execution_count": 39,
   "metadata": {
    "ExecuteTime": {
     "end_time": "2019-10-17T06:18:32.288779Z",
     "start_time": "2019-10-17T06:18:32.283659Z"
    }
   },
   "outputs": [],
   "source": [
    "def tdir(obj, methods=False, **kwargs):\n",
    "    out = dict()\n",
    "    for k, v in hdir(obj, **kwargs).items():\n",
    "        if v == 'attribute':\n",
    "            out[k] = type(getattr(obj, k))\n",
    "            \n",
    "        # Only methods that don't require additional arguments are added.\n",
    "        elif methods and v == 'method':\n",
    "            try:\n",
    "                out[k] = type(getattr(obj, k)())\n",
    "            except TypeError:\n",
    "                continue\n",
    "        \n",
    "    return out    "
   ]
  },
  {
   "cell_type": "code",
   "execution_count": 32,
   "metadata": {
    "ExecuteTime": {
     "end_time": "2019-10-17T06:17:22.084994Z",
     "start_time": "2019-10-17T06:17:22.079327Z"
    }
   },
   "outputs": [
    {
     "data": {
      "text/plain": [
       "{'denominator': int, 'imag': int, 'numerator': int, 'real': int}"
      ]
     },
     "execution_count": 32,
     "metadata": {},
     "output_type": "execute_result"
    }
   ],
   "source": [
    "tdir(6)"
   ]
  },
  {
   "cell_type": "code",
   "execution_count": 33,
   "metadata": {
    "ExecuteTime": {
     "end_time": "2019-10-17T06:17:22.739173Z",
     "start_time": "2019-10-17T06:17:22.731814Z"
    }
   },
   "outputs": [
    {
     "data": {
      "text/plain": [
       "{'__doc__': str,\n",
       " 'denominator': int,\n",
       " 'imag': int,\n",
       " 'numerator': int,\n",
       " 'real': int}"
      ]
     },
     "execution_count": 33,
     "metadata": {},
     "output_type": "execute_result"
    }
   ],
   "source": [
    "tdir(0, magics=True)"
   ]
  },
  {
   "cell_type": "code",
   "execution_count": 35,
   "metadata": {
    "ExecuteTime": {
     "end_time": "2019-10-17T06:17:36.867390Z",
     "start_time": "2019-10-17T06:17:36.861039Z"
    }
   },
   "outputs": [
    {
     "data": {
      "text/plain": [
       "{'bit_length': int,\n",
       " 'conjugate': int,\n",
       " 'denominator': int,\n",
       " 'imag': int,\n",
       " 'numerator': int,\n",
       " 'real': int}"
      ]
     },
     "execution_count": 35,
     "metadata": {},
     "output_type": "execute_result"
    }
   ],
   "source": [
    "tdir(0, True)"
   ]
  },
  {
   "cell_type": "code",
   "execution_count": 37,
   "metadata": {
    "ExecuteTime": {
     "end_time": "2019-10-17T06:17:58.536370Z",
     "start_time": "2019-10-17T06:17:58.530336Z"
    }
   },
   "outputs": [
    {
     "data": {
      "text/plain": [
       "0"
      ]
     },
     "execution_count": 37,
     "metadata": {},
     "output_type": "execute_result"
    }
   ],
   "source": [
    "a = 0\n",
    "a.conjugate()"
   ]
  },
  {
   "cell_type": "markdown",
   "metadata": {},
   "source": [
    "## hdir (aybe change to cdir for callable or mdir for methoddir or adir for attrdir)"
   ]
  },
  {
   "cell_type": "code",
   "execution_count": 51,
   "metadata": {
    "ExecuteTime": {
     "end_time": "2019-09-25T05:15:38.157672Z",
     "start_time": "2019-09-25T05:15:38.151587Z"
    }
   },
   "outputs": [],
   "source": [
    "a = [1, 2, 3]\n",
    "s = 'abc'\n",
    "t = ('a', 'b')\n",
    "d = {'a': 1, 'b': 2}\n",
    "n = np.arange(5)\n",
    "\n",
    "items = [a, s, t, d, n]"
   ]
  },
  {
   "cell_type": "code",
   "execution_count": 52,
   "metadata": {
    "ExecuteTime": {
     "end_time": "2019-09-25T05:15:38.781678Z",
     "start_time": "2019-09-25T05:15:38.774187Z"
    }
   },
   "outputs": [
    {
     "name": "stdout",
     "output_type": "stream",
     "text": [
      "{'append': 'method', 'clear': 'method', 'copy': 'method', 'count': 'method', 'extend': 'method', 'index': 'method', 'insert': 'method', 'pop': 'method', 'remove': 'method', 'reverse': 'method', 'sort': 'method'}\n",
      "\n",
      "{'capitalize': 'method', 'casefold': 'method', 'center': 'method', 'count': 'method', 'encode': 'method', 'endswith': 'method', 'expandtabs': 'method', 'find': 'method', 'format': 'method', 'format_map': 'method', 'index': 'method', 'isalnum': 'method', 'isalpha': 'method', 'isascii': 'method', 'isdecimal': 'method', 'isdigit': 'method', 'isidentifier': 'method', 'islower': 'method', 'isnumeric': 'method', 'isprintable': 'method', 'isspace': 'method', 'istitle': 'method', 'isupper': 'method', 'join': 'method', 'ljust': 'method', 'lower': 'method', 'lstrip': 'method', 'maketrans': 'method', 'partition': 'method', 'replace': 'method', 'rfind': 'method', 'rindex': 'method', 'rjust': 'method', 'rpartition': 'method', 'rsplit': 'method', 'rstrip': 'method', 'split': 'method', 'splitlines': 'method', 'startswith': 'method', 'strip': 'method', 'swapcase': 'method', 'title': 'method', 'translate': 'method', 'upper': 'method', 'zfill': 'method'}\n",
      "\n",
      "{'count': 'method', 'index': 'method'}\n",
      "\n",
      "{'clear': 'method', 'copy': 'method', 'fromkeys': 'method', 'get': 'method', 'items': 'method', 'keys': 'method', 'pop': 'method', 'popitem': 'method', 'setdefault': 'method', 'update': 'method', 'values': 'method'}\n",
      "\n",
      "{'T': 'attribute', 'all': 'method', 'any': 'method', 'argmax': 'method', 'argmin': 'method', 'argpartition': 'method', 'argsort': 'method', 'astype': 'method', 'base': 'attribute', 'byteswap': 'method', 'choose': 'method', 'clip': 'method', 'compress': 'method', 'conj': 'method', 'conjugate': 'method', 'copy': 'method', 'ctypes': 'attribute', 'cumprod': 'method', 'cumsum': 'method', 'data': 'attribute', 'diagonal': 'method', 'dot': 'method', 'dtype': 'attribute', 'dump': 'method', 'dumps': 'method', 'fill': 'method', 'flags': 'attribute', 'flat': 'attribute', 'flatten': 'method', 'getfield': 'method', 'imag': 'attribute', 'item': 'method', 'itemset': 'method', 'itemsize': 'attribute', 'max': 'method', 'mean': 'method', 'min': 'method', 'nbytes': 'attribute', 'ndim': 'attribute', 'newbyteorder': 'method', 'nonzero': 'method', 'partition': 'method', 'prod': 'method', 'ptp': 'method', 'put': 'method', 'ravel': 'method', 'real': 'attribute', 'repeat': 'method', 'reshape': 'method', 'resize': 'method', 'round': 'method', 'searchsorted': 'method', 'setfield': 'method', 'setflags': 'method', 'shape': 'attribute', 'size': 'attribute', 'sort': 'method', 'squeeze': 'method', 'std': 'method', 'strides': 'attribute', 'sum': 'method', 'swapaxes': 'method', 'take': 'method', 'tobytes': 'method', 'tofile': 'method', 'tolist': 'method', 'tostring': 'method', 'trace': 'method', 'transpose': 'method', 'var': 'method', 'view': 'method'}\n",
      "\n"
     ]
    }
   ],
   "source": [
    "for item in items:\n",
    "    print(hdir(item), end='\\n\\n')"
   ]
  },
  {
   "cell_type": "code",
   "execution_count": 21,
   "metadata": {
    "ExecuteTime": {
     "end_time": "2019-09-25T05:07:38.003150Z",
     "start_time": "2019-09-25T05:07:37.998687Z"
    }
   },
   "outputs": [],
   "source": [
    "def is_internal(name):\n",
    "    return bool(re.match('_[^_]', name))"
   ]
  },
  {
   "cell_type": "code",
   "execution_count": 22,
   "metadata": {
    "ExecuteTime": {
     "end_time": "2019-09-25T05:07:38.843768Z",
     "start_time": "2019-09-25T05:07:38.837073Z"
    }
   },
   "outputs": [
    {
     "data": {
      "text/plain": [
       "[True, False]"
      ]
     },
     "execution_count": 22,
     "metadata": {},
     "output_type": "execute_result"
    }
   ],
   "source": [
    "[is_internal(attr) for attr in ['_add', '__add__']]"
   ]
  },
  {
   "cell_type": "code",
   "execution_count": 45,
   "metadata": {
    "ExecuteTime": {
     "end_time": "2019-09-25T05:14:56.887240Z",
     "start_time": "2019-09-25T05:14:56.882108Z"
    }
   },
   "outputs": [],
   "source": [
    "def mdir(obj, magics=False, internals=False):\n",
    "    out = {attr: ('method' if callable(getattr(obj, attr)) else 'attribute')\n",
    "              for attr in dir(obj)}\n",
    "    if magics and internals:\n",
    "        return out\n",
    "    \n",
    "    def keep_attr(attr, magics, internals):\n",
    "        return (magics or not attr.startswith('__')) and \\\n",
    "               (internals or not re.match('_[^_]', attr))\n",
    "\n",
    "    return {k: v for k, v in out.items() if keep_attr(k, magics, internals)}"
   ]
  },
  {
   "cell_type": "code",
   "execution_count": 101,
   "metadata": {
    "ExecuteTime": {
     "end_time": "2019-09-25T05:41:41.729196Z",
     "start_time": "2019-09-25T05:41:41.723932Z"
    }
   },
   "outputs": [],
   "source": [
    "def hdir_new(obj, magics=False, internals=False):\n",
    "    output = dict()\n",
    "    for attr in dir(obj):\n",
    "        # Exclude magics or internals if specified.\n",
    "        if (not magics and attr.startswith('__')) or \\\n",
    "           (not internals and re.match('_[^_]', attr)):\n",
    "            continue\n",
    "            \n",
    "        # Handle rare cases where...\n",
    "        try:\n",
    "            is_method = callable(getattr(obj, attr))\n",
    "        except Exception:\n",
    "            continue\n",
    "        \n",
    "        # Update output to specify whether attr is callable.\n",
    "        if is_method:\n",
    "            output[attr] = 'method'\n",
    "        else:\n",
    "            output[attr] = 'attribute'\n",
    "    return output"
   ]
  },
  {
   "cell_type": "code",
   "execution_count": 104,
   "metadata": {
    "ExecuteTime": {
     "end_time": "2019-09-25T05:42:01.499872Z",
     "start_time": "2019-09-25T05:42:01.494988Z"
    }
   },
   "outputs": [],
   "source": [
    "# Testing alternative to try/except block.\n",
    "\n",
    "# invoked = getattr(obj, attr, None)\n",
    "# if not invoked:\n",
    "#     continue\n",
    "    \n",
    "# if callable(invoked):\n",
    "#     output[attr] = 'method'\n",
    "# else:\n",
    "#     output[attr] = 'attribute'"
   ]
  },
  {
   "cell_type": "code",
   "execution_count": 87,
   "metadata": {
    "ExecuteTime": {
     "end_time": "2019-09-25T05:30:30.036718Z",
     "start_time": "2019-09-25T05:30:30.032249Z"
    }
   },
   "outputs": [],
   "source": [
    "class Block:\n",
    "    \n",
    "    def __init__(self, x):\n",
    "        self.x = x\n",
    "        \n",
    "    def a(self):\n",
    "        return 'a'\n",
    "    \n",
    "    def _b(self):\n",
    "        return '_b'\n",
    "    \n",
    "    def __str__(self):\n",
    "        return 'Block'"
   ]
  },
  {
   "cell_type": "code",
   "execution_count": 105,
   "metadata": {
    "ExecuteTime": {
     "end_time": "2019-09-25T05:42:07.109673Z",
     "start_time": "2019-09-25T05:42:07.105502Z"
    }
   },
   "outputs": [],
   "source": [
    "b = Block(4)"
   ]
  },
  {
   "cell_type": "code",
   "execution_count": 108,
   "metadata": {
    "ExecuteTime": {
     "end_time": "2019-09-25T05:43:16.080663Z",
     "start_time": "2019-09-25T05:43:16.070021Z"
    }
   },
   "outputs": [
    {
     "name": "stdout",
     "output_type": "stream",
     "text": [
      "(True, True)\n",
      "True\n",
      "(True, False)\n",
      "True\n",
      "(False, True)\n",
      "True\n",
      "(False, False)\n",
      "True\n"
     ]
    }
   ],
   "source": [
    "for magic_bool in (True, False):\n",
    "    for internal_bool in (True, False):\n",
    "        args = (magic_bool, internal_bool)\n",
    "        print(args)\n",
    "        print(hdir(n, *args) == mdir(n, *args) == hdir_new(n, *args))"
   ]
  },
  {
   "cell_type": "code",
   "execution_count": 91,
   "metadata": {
    "ExecuteTime": {
     "end_time": "2019-09-25T05:30:33.282025Z",
     "start_time": "2019-09-25T05:30:33.268600Z"
    }
   },
   "outputs": [
    {
     "data": {
      "text/html": [
       "<div>\n",
       "<style scoped>\n",
       "    .dataframe tbody tr th:only-of-type {\n",
       "        vertical-align: middle;\n",
       "    }\n",
       "\n",
       "    .dataframe tbody tr th {\n",
       "        vertical-align: top;\n",
       "    }\n",
       "\n",
       "    .dataframe thead th {\n",
       "        text-align: right;\n",
       "    }\n",
       "</style>\n",
       "<table border=\"1\" class=\"dataframe\">\n",
       "  <thead>\n",
       "    <tr style=\"text-align: right;\">\n",
       "      <th></th>\n",
       "      <th>0</th>\n",
       "      <th>1</th>\n",
       "      <th>2</th>\n",
       "    </tr>\n",
       "  </thead>\n",
       "  <tbody>\n",
       "    <tr>\n",
       "      <th>0</th>\n",
       "      <td>6</td>\n",
       "      <td>0</td>\n",
       "      <td>0</td>\n",
       "    </tr>\n",
       "    <tr>\n",
       "      <th>1</th>\n",
       "      <td>2</td>\n",
       "      <td>3</td>\n",
       "      <td>8</td>\n",
       "    </tr>\n",
       "    <tr>\n",
       "      <th>2</th>\n",
       "      <td>6</td>\n",
       "      <td>2</td>\n",
       "      <td>4</td>\n",
       "    </tr>\n",
       "    <tr>\n",
       "      <th>3</th>\n",
       "      <td>1</td>\n",
       "      <td>6</td>\n",
       "      <td>4</td>\n",
       "    </tr>\n",
       "    <tr>\n",
       "      <th>4</th>\n",
       "      <td>6</td>\n",
       "      <td>7</td>\n",
       "      <td>4</td>\n",
       "    </tr>\n",
       "  </tbody>\n",
       "</table>\n",
       "</div>"
      ],
      "text/plain": [
       "   0  1  2\n",
       "0  6  0  0\n",
       "1  2  3  8\n",
       "2  6  2  4\n",
       "3  1  6  4\n",
       "4  6  7  4"
      ]
     },
     "execution_count": 91,
     "metadata": {},
     "output_type": "execute_result"
    }
   ],
   "source": [
    "df = pd.DataFrame(np.random.randint(10, size=(5, 3)))\n",
    "df"
   ]
  },
  {
   "cell_type": "code",
   "execution_count": 107,
   "metadata": {
    "ExecuteTime": {
     "end_time": "2019-09-25T05:42:55.773105Z",
     "start_time": "2019-09-25T05:42:55.758325Z"
    }
   },
   "outputs": [
    {
     "name": "stderr",
     "output_type": "stream",
     "text": [
      "/Users/hmamin/anaconda3/envs/deeplearning/lib/python3.7/site-packages/ipykernel_launcher.py:11: FutureWarning: DataFrame.ftypes is deprecated and will be removed in a future version. Use DataFrame.dtypes instead.\n",
      "  # This is added back by InteractiveShellApp.init_path()\n",
      "/Users/hmamin/anaconda3/envs/deeplearning/lib/python3.7/site-packages/ipykernel_launcher.py:11: FutureWarning: \n",
      ".ix is deprecated. Please use\n",
      ".loc for label based indexing or\n",
      ".iloc for positional indexing\n",
      "\n",
      "See the documentation here:\n",
      "http://pandas.pydata.org/pandas-docs/stable/user_guide/indexing.html#ix-indexer-is-deprecated\n",
      "  # This is added back by InteractiveShellApp.init_path()\n"
     ]
    },
    {
     "data": {
      "text/plain": [
       "{'T': 'attribute',\n",
       " '__abs__': 'method',\n",
       " '__add__': 'method',\n",
       " '__and__': 'method',\n",
       " '__array__': 'method',\n",
       " '__array_priority__': 'attribute',\n",
       " '__array_wrap__': 'method',\n",
       " '__bool__': 'method',\n",
       " '__class__': 'method',\n",
       " '__contains__': 'method',\n",
       " '__copy__': 'method',\n",
       " '__deepcopy__': 'method',\n",
       " '__delattr__': 'method',\n",
       " '__delitem__': 'method',\n",
       " '__dict__': 'attribute',\n",
       " '__dir__': 'method',\n",
       " '__div__': 'method',\n",
       " '__doc__': 'attribute',\n",
       " '__eq__': 'method',\n",
       " '__finalize__': 'method',\n",
       " '__floordiv__': 'method',\n",
       " '__format__': 'method',\n",
       " '__ge__': 'method',\n",
       " '__getattr__': 'method',\n",
       " '__getattribute__': 'method',\n",
       " '__getitem__': 'method',\n",
       " '__getstate__': 'method',\n",
       " '__gt__': 'method',\n",
       " '__hash__': 'method',\n",
       " '__iadd__': 'method',\n",
       " '__iand__': 'method',\n",
       " '__ifloordiv__': 'method',\n",
       " '__imod__': 'method',\n",
       " '__imul__': 'method',\n",
       " '__init__': 'method',\n",
       " '__init_subclass__': 'method',\n",
       " '__invert__': 'method',\n",
       " '__ior__': 'method',\n",
       " '__ipow__': 'method',\n",
       " '__isub__': 'method',\n",
       " '__iter__': 'method',\n",
       " '__itruediv__': 'method',\n",
       " '__ixor__': 'method',\n",
       " '__le__': 'method',\n",
       " '__len__': 'method',\n",
       " '__lt__': 'method',\n",
       " '__matmul__': 'method',\n",
       " '__mod__': 'method',\n",
       " '__module__': 'attribute',\n",
       " '__mul__': 'method',\n",
       " '__ne__': 'method',\n",
       " '__neg__': 'method',\n",
       " '__new__': 'method',\n",
       " '__nonzero__': 'method',\n",
       " '__or__': 'method',\n",
       " '__pos__': 'method',\n",
       " '__pow__': 'method',\n",
       " '__radd__': 'method',\n",
       " '__rand__': 'method',\n",
       " '__rdiv__': 'method',\n",
       " '__reduce__': 'method',\n",
       " '__reduce_ex__': 'method',\n",
       " '__repr__': 'method',\n",
       " '__rfloordiv__': 'method',\n",
       " '__rmatmul__': 'method',\n",
       " '__rmod__': 'method',\n",
       " '__rmul__': 'method',\n",
       " '__ror__': 'method',\n",
       " '__round__': 'method',\n",
       " '__rpow__': 'method',\n",
       " '__rsub__': 'method',\n",
       " '__rtruediv__': 'method',\n",
       " '__rxor__': 'method',\n",
       " '__setattr__': 'method',\n",
       " '__setitem__': 'method',\n",
       " '__setstate__': 'method',\n",
       " '__sizeof__': 'method',\n",
       " '__str__': 'method',\n",
       " '__sub__': 'method',\n",
       " '__subclasshook__': 'method',\n",
       " '__truediv__': 'method',\n",
       " '__weakref__': 'attribute',\n",
       " '__xor__': 'method',\n",
       " 'abs': 'method',\n",
       " 'add': 'method',\n",
       " 'add_prefix': 'method',\n",
       " 'add_suffix': 'method',\n",
       " 'agg': 'method',\n",
       " 'aggregate': 'method',\n",
       " 'align': 'method',\n",
       " 'all': 'method',\n",
       " 'any': 'method',\n",
       " 'append': 'method',\n",
       " 'apply': 'method',\n",
       " 'applymap': 'method',\n",
       " 'as_matrix': 'method',\n",
       " 'asfreq': 'method',\n",
       " 'asof': 'method',\n",
       " 'assign': 'method',\n",
       " 'astype': 'method',\n",
       " 'at': 'method',\n",
       " 'at_time': 'method',\n",
       " 'axes': 'attribute',\n",
       " 'between_time': 'method',\n",
       " 'bfill': 'method',\n",
       " 'bool': 'method',\n",
       " 'boxplot': 'method',\n",
       " 'clip': 'method',\n",
       " 'clip_lower': 'method',\n",
       " 'clip_upper': 'method',\n",
       " 'columns': 'attribute',\n",
       " 'combine': 'method',\n",
       " 'combine_first': 'method',\n",
       " 'compound': 'method',\n",
       " 'copy': 'method',\n",
       " 'corr': 'method',\n",
       " 'corrwith': 'method',\n",
       " 'count': 'method',\n",
       " 'cov': 'method',\n",
       " 'cummax': 'method',\n",
       " 'cummin': 'method',\n",
       " 'cumprod': 'method',\n",
       " 'cumsum': 'method',\n",
       " 'describe': 'method',\n",
       " 'diff': 'method',\n",
       " 'div': 'method',\n",
       " 'divide': 'method',\n",
       " 'dot': 'method',\n",
       " 'drop': 'method',\n",
       " 'drop_duplicates': 'method',\n",
       " 'droplevel': 'method',\n",
       " 'dropna': 'method',\n",
       " 'dtypes': 'attribute',\n",
       " 'duplicated': 'method',\n",
       " 'empty': 'attribute',\n",
       " 'eq': 'method',\n",
       " 'equals': 'method',\n",
       " 'eval': 'method',\n",
       " 'ewm': 'method',\n",
       " 'expanding': 'method',\n",
       " 'explode': 'method',\n",
       " 'ffill': 'method',\n",
       " 'fillna': 'method',\n",
       " 'filter': 'method',\n",
       " 'first': 'method',\n",
       " 'first_valid_index': 'method',\n",
       " 'floordiv': 'method',\n",
       " 'from_dict': 'method',\n",
       " 'from_records': 'method',\n",
       " 'ftypes': 'attribute',\n",
       " 'ge': 'method',\n",
       " 'get': 'method',\n",
       " 'get_dtype_counts': 'method',\n",
       " 'get_ftype_counts': 'method',\n",
       " 'get_values': 'method',\n",
       " 'groupby': 'method',\n",
       " 'gt': 'method',\n",
       " 'head': 'method',\n",
       " 'hist': 'method',\n",
       " 'iat': 'method',\n",
       " 'idxmax': 'method',\n",
       " 'idxmin': 'method',\n",
       " 'iloc': 'method',\n",
       " 'index': 'attribute',\n",
       " 'infer_objects': 'method',\n",
       " 'info': 'method',\n",
       " 'insert': 'method',\n",
       " 'interpolate': 'method',\n",
       " 'isin': 'method',\n",
       " 'isna': 'method',\n",
       " 'isnull': 'method',\n",
       " 'items': 'method',\n",
       " 'iteritems': 'method',\n",
       " 'iterrows': 'method',\n",
       " 'itertuples': 'method',\n",
       " 'ix': 'method',\n",
       " 'join': 'method',\n",
       " 'keys': 'method',\n",
       " 'kurt': 'method',\n",
       " 'kurtosis': 'method',\n",
       " 'last': 'method',\n",
       " 'last_valid_index': 'method',\n",
       " 'le': 'method',\n",
       " 'loc': 'method',\n",
       " 'lookup': 'method',\n",
       " 'lt': 'method',\n",
       " 'mad': 'method',\n",
       " 'mask': 'method',\n",
       " 'max': 'method',\n",
       " 'mean': 'method',\n",
       " 'median': 'method',\n",
       " 'melt': 'method',\n",
       " 'memory_usage': 'method',\n",
       " 'merge': 'method',\n",
       " 'min': 'method',\n",
       " 'mod': 'method',\n",
       " 'mode': 'method',\n",
       " 'mul': 'method',\n",
       " 'multiply': 'method',\n",
       " 'ndim': 'attribute',\n",
       " 'ne': 'method',\n",
       " 'nlargest': 'method',\n",
       " 'notna': 'method',\n",
       " 'notnull': 'method',\n",
       " 'nsmallest': 'method',\n",
       " 'nunique': 'method',\n",
       " 'pct_change': 'method',\n",
       " 'pipe': 'method',\n",
       " 'pivot': 'method',\n",
       " 'pivot_table': 'method',\n",
       " 'plot': 'method',\n",
       " 'pop': 'method',\n",
       " 'pow': 'method',\n",
       " 'prod': 'method',\n",
       " 'product': 'method',\n",
       " 'quantile': 'method',\n",
       " 'query': 'method',\n",
       " 'radd': 'method',\n",
       " 'rank': 'method',\n",
       " 'rdiv': 'method',\n",
       " 'reindex': 'method',\n",
       " 'reindex_like': 'method',\n",
       " 'rename': 'method',\n",
       " 'rename_axis': 'method',\n",
       " 'reorder_levels': 'method',\n",
       " 'replace': 'method',\n",
       " 'resample': 'method',\n",
       " 'reset_index': 'method',\n",
       " 'rfloordiv': 'method',\n",
       " 'rmod': 'method',\n",
       " 'rmul': 'method',\n",
       " 'rolling': 'method',\n",
       " 'round': 'method',\n",
       " 'rpow': 'method',\n",
       " 'rsub': 'method',\n",
       " 'rtruediv': 'method',\n",
       " 'sample': 'method',\n",
       " 'select_dtypes': 'method',\n",
       " 'sem': 'method',\n",
       " 'set_axis': 'method',\n",
       " 'set_index': 'method',\n",
       " 'shape': 'attribute',\n",
       " 'shift': 'method',\n",
       " 'size': 'attribute',\n",
       " 'skew': 'method',\n",
       " 'slice_shift': 'method',\n",
       " 'sort_index': 'method',\n",
       " 'sort_values': 'method',\n",
       " 'squeeze': 'method',\n",
       " 'stack': 'method',\n",
       " 'std': 'method',\n",
       " 'style': 'attribute',\n",
       " 'sub': 'method',\n",
       " 'subtract': 'method',\n",
       " 'sum': 'method',\n",
       " 'swapaxes': 'method',\n",
       " 'swaplevel': 'method',\n",
       " 'tail': 'method',\n",
       " 'take': 'method',\n",
       " 'to_clipboard': 'method',\n",
       " 'to_csv': 'method',\n",
       " 'to_dense': 'method',\n",
       " 'to_dict': 'method',\n",
       " 'to_excel': 'method',\n",
       " 'to_feather': 'method',\n",
       " 'to_gbq': 'method',\n",
       " 'to_hdf': 'method',\n",
       " 'to_html': 'method',\n",
       " 'to_json': 'method',\n",
       " 'to_latex': 'method',\n",
       " 'to_msgpack': 'method',\n",
       " 'to_numpy': 'method',\n",
       " 'to_parquet': 'method',\n",
       " 'to_period': 'method',\n",
       " 'to_pickle': 'method',\n",
       " 'to_records': 'method',\n",
       " 'to_sparse': 'method',\n",
       " 'to_sql': 'method',\n",
       " 'to_stata': 'method',\n",
       " 'to_string': 'method',\n",
       " 'to_timestamp': 'method',\n",
       " 'to_xarray': 'method',\n",
       " 'transform': 'method',\n",
       " 'transpose': 'method',\n",
       " 'truediv': 'method',\n",
       " 'truncate': 'method',\n",
       " 'tshift': 'method',\n",
       " 'tz_convert': 'method',\n",
       " 'tz_localize': 'method',\n",
       " 'unstack': 'method',\n",
       " 'update': 'method',\n",
       " 'values': 'attribute',\n",
       " 'var': 'method',\n",
       " 'where': 'method',\n",
       " 'xs': 'method'}"
      ]
     },
     "execution_count": 107,
     "metadata": {},
     "output_type": "execute_result"
    }
   ],
   "source": [
    "hdir_new(df, magics=True)"
   ]
  },
  {
   "cell_type": "code",
   "execution_count": 116,
   "metadata": {
    "ExecuteTime": {
     "end_time": "2019-09-25T05:45:31.444437Z",
     "start_time": "2019-09-25T05:45:31.435833Z"
    }
   },
   "outputs": [
    {
     "name": "stdout",
     "output_type": "stream",
     "text": [
      "True True\n",
      "{'__class__': 'method', '__delattr__': 'method', '__dict__': 'attribute', '__dir__': 'method', '__doc__': 'attribute', '__eq__': 'method', '__format__': 'method', '__ge__': 'method', '__getattribute__': 'method', '__gt__': 'method', '__hash__': 'method', '__init__': 'method', '__init_subclass__': 'method', '__le__': 'method', '__lt__': 'method', '__module__': 'attribute', '__ne__': 'method', '__new__': 'method', '__reduce__': 'method', '__reduce_ex__': 'method', '__repr__': 'method', '__setattr__': 'method', '__sizeof__': 'method', '__str__': 'method', '__subclasshook__': 'method', '__weakref__': 'attribute', '_b': 'method', 'a': 'method', 'x': 'attribute'}\n",
      "\n",
      "True False\n",
      "{'__class__': 'method', '__delattr__': 'method', '__dict__': 'attribute', '__dir__': 'method', '__doc__': 'attribute', '__eq__': 'method', '__format__': 'method', '__ge__': 'method', '__getattribute__': 'method', '__gt__': 'method', '__hash__': 'method', '__init__': 'method', '__init_subclass__': 'method', '__le__': 'method', '__lt__': 'method', '__module__': 'attribute', '__ne__': 'method', '__new__': 'method', '__reduce__': 'method', '__reduce_ex__': 'method', '__repr__': 'method', '__setattr__': 'method', '__sizeof__': 'method', '__str__': 'method', '__subclasshook__': 'method', '__weakref__': 'attribute', 'a': 'method', 'x': 'attribute'}\n",
      "\n",
      "False True\n",
      "{'_b': 'method', 'a': 'method', 'x': 'attribute'}\n",
      "\n",
      "False False\n",
      "{'a': 'method', 'x': 'attribute'}\n",
      "\n"
     ]
    }
   ],
   "source": [
    "for flag1 in (True, False):\n",
    "    for flag2 in (True, False):\n",
    "        print(flag1, flag2)\n",
    "        print(hdir_new(b, flag1, flag2), end='\\n\\n')"
   ]
  },
  {
   "cell_type": "code",
   "execution_count": 114,
   "metadata": {
    "ExecuteTime": {
     "end_time": "2019-09-25T05:44:50.684430Z",
     "start_time": "2019-09-25T05:44:50.677888Z"
    }
   },
   "outputs": [
    {
     "data": {
      "text/plain": [
       "{'__class__': 'method',\n",
       " '__delattr__': 'method',\n",
       " '__dict__': 'attribute',\n",
       " '__dir__': 'method',\n",
       " '__doc__': 'attribute',\n",
       " '__eq__': 'method',\n",
       " '__format__': 'method',\n",
       " '__ge__': 'method',\n",
       " '__getattribute__': 'method',\n",
       " '__gt__': 'method',\n",
       " '__hash__': 'method',\n",
       " '__init__': 'method',\n",
       " '__init_subclass__': 'method',\n",
       " '__le__': 'method',\n",
       " '__lt__': 'method',\n",
       " '__module__': 'attribute',\n",
       " '__ne__': 'method',\n",
       " '__new__': 'method',\n",
       " '__reduce__': 'method',\n",
       " '__reduce_ex__': 'method',\n",
       " '__repr__': 'method',\n",
       " '__setattr__': 'method',\n",
       " '__sizeof__': 'method',\n",
       " '__str__': 'method',\n",
       " '__subclasshook__': 'method',\n",
       " '__weakref__': 'attribute',\n",
       " '_b': 'method',\n",
       " 'a': 'method',\n",
       " 'x': 'attribute'}"
      ]
     },
     "execution_count": 114,
     "metadata": {},
     "output_type": "execute_result"
    }
   ],
   "source": [
    "hdir_new(b, True, True)"
   ]
  },
  {
   "cell_type": "code",
   "execution_count": 111,
   "metadata": {
    "ExecuteTime": {
     "end_time": "2019-09-25T05:43:48.519276Z",
     "start_time": "2019-09-25T05:43:48.091827Z"
    }
   },
   "outputs": [
    {
     "name": "stdout",
     "output_type": "stream",
     "text": [
      "157 µs ± 51.5 µs per loop (mean ± std. dev. of 50 runs, 50 loops each)\n"
     ]
    }
   ],
   "source": [
    "%%timeit -n 50 -r 50\n",
    "hdir_new(n)"
   ]
  },
  {
   "cell_type": "code",
   "execution_count": 95,
   "metadata": {
    "ExecuteTime": {
     "end_time": "2019-09-18T04:14:05.965881Z",
     "start_time": "2019-09-18T04:14:05.959200Z"
    }
   },
   "outputs": [],
   "source": [
    "def attr_filter_factory(magics, internals):\n",
    "    \n",
    "    def filter_(attr):\n",
    "        if attr.startswith('__'):\n",
    "            if not magics: \n",
    "                return False\n",
    "            return True\n",
    "        \n",
    "        if attr.startswith('_'):\n",
    "            if not internals:\n",
    "                return False\n",
    "            return True\n",
    "        \n",
    "        return True\n",
    "    \n",
    "    return filter_"
   ]
  },
  {
   "cell_type": "code",
   "execution_count": 50,
   "metadata": {
    "ExecuteTime": {
     "end_time": "2019-09-18T03:59:35.599969Z",
     "start_time": "2019-09-18T03:59:35.595459Z"
    }
   },
   "outputs": [],
   "source": [
    "filters = dict(dummy_filter=attr_filter_factory(True, True),\n",
    "               no_magic_filter=attr_filter_factory(False, True),\n",
    "               no_internal_filter=attr_filter_factory(True, False),\n",
    "               no_magic_or_internal_filter=attr_filter_factory(False, False))"
   ]
  },
  {
   "cell_type": "code",
   "execution_count": 51,
   "metadata": {
    "ExecuteTime": {
     "end_time": "2019-09-18T03:59:36.020294Z",
     "start_time": "2019-09-18T03:59:36.014070Z"
    }
   },
   "outputs": [
    {
     "name": "stdout",
     "output_type": "stream",
     "text": [
      "dummy_filter \n",
      "__add__: True \n",
      "_recurse: True\n",
      "\n",
      "no_magic_filter \n",
      "__add__: False \n",
      "_recurse: True\n",
      "\n",
      "no_internal_filter \n",
      "__add__: True \n",
      "_recurse: False\n",
      "\n",
      "no_magic_or_internal_filter \n",
      "__add__: False \n",
      "_recurse: False\n",
      "\n"
     ]
    }
   ],
   "source": [
    "for name, f in filters.items():\n",
    "    print(f'{name} \\n__add__: {f(\"__add__\")} \\n_recurse: {f(\"_internal\")}\\n')"
   ]
  },
  {
   "cell_type": "code",
   "execution_count": 11,
   "metadata": {
    "ExecuteTime": {
     "end_time": "2019-09-18T03:19:20.121051Z",
     "start_time": "2019-09-18T03:19:20.114540Z"
    }
   },
   "outputs": [
    {
     "data": {
      "text/plain": [
       "{'__add__': 'method',\n",
       " '__class__': 'method',\n",
       " '__contains__': 'method',\n",
       " '__delattr__': 'method',\n",
       " '__delitem__': 'method',\n",
       " '__dir__': 'method',\n",
       " '__doc__': 'attr',\n",
       " '__eq__': 'method',\n",
       " '__format__': 'method',\n",
       " '__ge__': 'method',\n",
       " '__getattribute__': 'method',\n",
       " '__getitem__': 'method',\n",
       " '__gt__': 'method',\n",
       " '__hash__': 'attr',\n",
       " '__iadd__': 'method',\n",
       " '__imul__': 'method',\n",
       " '__init__': 'method',\n",
       " '__init_subclass__': 'method',\n",
       " '__iter__': 'method',\n",
       " '__le__': 'method',\n",
       " '__len__': 'method',\n",
       " '__lt__': 'method',\n",
       " '__mul__': 'method',\n",
       " '__ne__': 'method',\n",
       " '__new__': 'method',\n",
       " '__reduce__': 'method',\n",
       " '__reduce_ex__': 'method',\n",
       " '__repr__': 'method',\n",
       " '__reversed__': 'method',\n",
       " '__rmul__': 'method',\n",
       " '__setattr__': 'method',\n",
       " '__setitem__': 'method',\n",
       " '__sizeof__': 'method',\n",
       " '__str__': 'method',\n",
       " '__subclasshook__': 'method',\n",
       " 'append': 'method',\n",
       " 'clear': 'method',\n",
       " 'copy': 'method',\n",
       " 'count': 'method',\n",
       " 'extend': 'method',\n",
       " 'index': 'method',\n",
       " 'insert': 'method',\n",
       " 'pop': 'method',\n",
       " 'remove': 'method',\n",
       " 'reverse': 'method',\n",
       " 'sort': 'method'}"
      ]
     },
     "execution_count": 11,
     "metadata": {},
     "output_type": "execute_result"
    }
   ],
   "source": [
    "mdir(a)"
   ]
  },
  {
   "cell_type": "markdown",
   "metadata": {},
   "source": [
    "## Example for htimer docstring"
   ]
  },
  {
   "cell_type": "code",
   "execution_count": 99,
   "metadata": {
    "ExecuteTime": {
     "end_time": "2019-09-18T04:27:37.131029Z",
     "start_time": "2019-09-18T04:27:37.126906Z"
    }
   },
   "outputs": [],
   "source": [
    "import time\n",
    "\n",
    "@htimer\n",
    "def count_to(x):\n",
    "    for i in range(x):\n",
    "        time.sleep(.5)\n",
    "    print(x)"
   ]
  },
  {
   "cell_type": "code",
   "execution_count": 100,
   "metadata": {
    "ExecuteTime": {
     "end_time": "2019-09-18T04:27:46.727045Z",
     "start_time": "2019-09-18T04:27:41.684710Z"
    }
   },
   "outputs": [
    {
     "name": "stdout",
     "output_type": "stream",
     "text": [
      "10\n",
      "\n",
      "[TIMER]: function <count_to> executed in roughly 5.0365 seconds (conservatively).\n",
      "\n"
     ]
    }
   ],
   "source": [
    "count_to(10)"
   ]
  }
 ],
 "metadata": {
  "kernelspec": {
   "display_name": "Python 3",
   "language": "python",
   "name": "python3"
  },
  "language_info": {
   "codemirror_mode": {
    "name": "ipython",
    "version": 3
   },
   "file_extension": ".py",
   "mimetype": "text/x-python",
   "name": "python",
   "nbconvert_exporter": "python",
   "pygments_lexer": "ipython3",
   "version": "3.7.3"
  }
 },
 "nbformat": 4,
 "nbformat_minor": 2
}
