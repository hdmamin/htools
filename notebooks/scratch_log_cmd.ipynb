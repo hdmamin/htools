{
 "cells": [
  {
   "cell_type": "code",
   "execution_count": 1,
   "metadata": {
    "ExecuteTime": {
     "end_time": "2020-05-07T21:52:21.595099Z",
     "start_time": "2020-05-07T21:52:21.592604Z"
    }
   },
   "outputs": [],
   "source": [
    "from functools import wraps\n",
    "import inspect\n",
    "import sys"
   ]
  },
  {
   "cell_type": "code",
   "execution_count": 7,
   "metadata": {
    "ExecuteTime": {
     "end_time": "2020-05-07T17:28:18.372061Z",
     "start_time": "2020-05-07T17:28:18.366521Z"
    }
   },
   "outputs": [],
   "source": [
    "def log_cmd(path, mode='a'):\n",
    "    def decorator(func):\n",
    "        @wraps(func)\n",
    "        def wrapped(*args, **kwargs):\n",
    "            bound = inspect.signature(func).bind(*args, **kwargs)\n",
    "            print(bound)\n",
    "            if sys.argv[-1] not in ('--help', '-h'):\n",
    "                res = '\\npython'\n",
    "                for arg in sys.argv:\n",
    "                    pre = ' \\\\\\n\\t' if arg.startswith('-') else ' '\n",
    "                    res += pre+arg\n",
    "                print(res)\n",
    "            return func(*args, **kwargs)\n",
    "        return wrapped\n",
    "    return decorator"
   ]
  },
  {
   "cell_type": "code",
   "execution_count": 38,
   "metadata": {
    "ExecuteTime": {
     "end_time": "2020-05-07T17:34:16.018883Z",
     "start_time": "2020-05-07T17:34:16.015631Z"
    }
   },
   "outputs": [],
   "source": [
    "@log_cmd('my_path')\n",
    "def foo(a, b, *args, c=3, d='d', e='e', **kwargs):\n",
    "    print('in foo')"
   ]
  },
  {
   "cell_type": "code",
   "execution_count": 39,
   "metadata": {
    "ExecuteTime": {
     "end_time": "2020-05-07T17:34:16.892766Z",
     "start_time": "2020-05-07T17:34:16.889212Z"
    }
   },
   "outputs": [
    {
     "name": "stdout",
     "output_type": "stream",
     "text": [
      "<BoundArguments (a=1, b='b')>\n",
      "\n",
      "python /Users/harrisonmamin/.pyenv/versions/3.7.4/envs/main/lib/python3.7/site-packages/ipykernel_launcher.py \\\n",
      "\t-f /Users/harrisonmamin/Library/Jupyter/runtime/kernel-b60d3cc6-5bf4-446d-8696-ae8ca72648a7.json\n",
      "in foo\n"
     ]
    }
   ],
   "source": [
    "foo(1, 'b')"
   ]
  },
  {
   "cell_type": "code",
   "execution_count": 41,
   "metadata": {
    "ExecuteTime": {
     "end_time": "2020-05-07T17:35:08.854087Z",
     "start_time": "2020-05-07T17:35:08.848586Z"
    }
   },
   "outputs": [
    {
     "data": {
      "text/plain": [
       "OrderedDict([('a', 'a'),\n",
       "             ('b', 'b2'),\n",
       "             ('args', (44,)),\n",
       "             ('c', 3),\n",
       "             ('d', 'd'),\n",
       "             ('e', 'eee'),\n",
       "             ('g', 'g')])"
      ]
     },
     "execution_count": 41,
     "metadata": {},
     "output_type": "execute_result"
    }
   ],
   "source": [
    "bound = inspect.signature(foo).bind('a', 'b2', 44, e='eee', g='g')\n",
    "bound.apply_defaults()\n",
    "fn_locals = bound.arguments\n",
    "fn_locals.update(fn_locals.pop('kwargs'))\n",
    "fn_locals"
   ]
  },
  {
   "cell_type": "code",
   "execution_count": 43,
   "metadata": {
    "ExecuteTime": {
     "end_time": "2020-05-07T17:35:33.105380Z",
     "start_time": "2020-05-07T17:35:33.101733Z"
    }
   },
   "outputs": [
    {
     "data": {
      "text/plain": [
       "{'c': 3, 'd': 'd', 'e': 'eee'}"
      ]
     },
     "execution_count": 43,
     "metadata": {},
     "output_type": "execute_result"
    }
   ],
   "source": [
    "bound.kwargs"
   ]
  },
  {
   "cell_type": "code",
   "execution_count": 44,
   "metadata": {
    "ExecuteTime": {
     "end_time": "2020-05-07T17:35:36.134901Z",
     "start_time": "2020-05-07T17:35:36.131147Z"
    }
   },
   "outputs": [
    {
     "data": {
      "text/plain": [
       "('a', 'b2', 44)"
      ]
     },
     "execution_count": 44,
     "metadata": {},
     "output_type": "execute_result"
    }
   ],
   "source": [
    "bound.args"
   ]
  },
  {
   "cell_type": "code",
   "execution_count": 42,
   "metadata": {
    "ExecuteTime": {
     "end_time": "2020-05-07T17:35:17.968875Z",
     "start_time": "2020-05-07T17:35:17.964887Z"
    }
   },
   "outputs": [
    {
     "data": {
      "text/plain": [
       "OrderedDict([('a', 'a'),\n",
       "             ('b', 'b2'),\n",
       "             ('args', (44,)),\n",
       "             ('c', 3),\n",
       "             ('d', 'd'),\n",
       "             ('e', 'eee'),\n",
       "             ('g', 'g')])"
      ]
     },
     "execution_count": 42,
     "metadata": {},
     "output_type": "execute_result"
    }
   ],
   "source": [
    "bound.arguments"
   ]
  },
  {
   "cell_type": "code",
   "execution_count": 36,
   "metadata": {
    "ExecuteTime": {
     "end_time": "2020-05-07T17:34:04.436698Z",
     "start_time": "2020-05-07T17:34:04.434274Z"
    }
   },
   "outputs": [],
   "source": [
    "s = 'a={a}  b={b} c={c} d={d} e={e} g={g}'"
   ]
  },
  {
   "cell_type": "code",
   "execution_count": 45,
   "metadata": {
    "ExecuteTime": {
     "end_time": "2020-05-07T17:36:18.201714Z",
     "start_time": "2020-05-07T17:36:18.197860Z"
    }
   },
   "outputs": [
    {
     "data": {
      "text/plain": [
       "'a=a  b=b2 c=3 d=d e=eee g=g'"
      ]
     },
     "execution_count": 45,
     "metadata": {},
     "output_type": "execute_result"
    }
   ],
   "source": [
    "s.format(**fn_locals)"
   ]
  },
  {
   "cell_type": "code",
   "execution_count": 29,
   "metadata": {
    "ExecuteTime": {
     "end_time": "2020-05-07T21:56:48.198347Z",
     "start_time": "2020-05-07T21:56:48.194479Z"
    }
   },
   "outputs": [],
   "source": [
    "def count_calls(func):\n",
    "    @wraps(func)\n",
    "    def wrapped(*args, **kwargs):\n",
    "        calls = getattr(wrapped, 'calls', 0)\n",
    "        wrapped.calls = calls + 1\n",
    "        return func(*args, **kwargs)\n",
    "    return wrapped"
   ]
  },
  {
   "cell_type": "code",
   "execution_count": 37,
   "metadata": {
    "ExecuteTime": {
     "end_time": "2020-05-07T21:58:11.485970Z",
     "start_time": "2020-05-07T21:58:11.483286Z"
    }
   },
   "outputs": [],
   "source": [
    "@count_calls\n",
    "def foo(a):\n",
    "    print(foo.calls)\n",
    "    return a"
   ]
  },
  {
   "cell_type": "code",
   "execution_count": 38,
   "metadata": {
    "ExecuteTime": {
     "end_time": "2020-05-07T21:58:11.695291Z",
     "start_time": "2020-05-07T21:58:11.691265Z"
    }
   },
   "outputs": [
    {
     "name": "stdout",
     "output_type": "stream",
     "text": [
      "1\n"
     ]
    },
    {
     "data": {
      "text/plain": [
       "3"
      ]
     },
     "execution_count": 38,
     "metadata": {},
     "output_type": "execute_result"
    }
   ],
   "source": [
    "foo(3)"
   ]
  },
  {
   "cell_type": "code",
   "execution_count": 39,
   "metadata": {
    "ExecuteTime": {
     "end_time": "2020-05-07T21:58:14.460373Z",
     "start_time": "2020-05-07T21:58:14.456472Z"
    }
   },
   "outputs": [
    {
     "data": {
      "text/plain": [
       "1"
      ]
     },
     "execution_count": 39,
     "metadata": {},
     "output_type": "execute_result"
    }
   ],
   "source": [
    "foo.calls"
   ]
  },
  {
   "cell_type": "code",
   "execution_count": 40,
   "metadata": {
    "ExecuteTime": {
     "end_time": "2020-05-07T21:58:15.239287Z",
     "start_time": "2020-05-07T21:58:15.232875Z"
    }
   },
   "outputs": [
    {
     "ename": "AttributeError",
     "evalue": "'function' object has no attribute 'calls'",
     "output_type": "error",
     "traceback": [
      "\u001b[0;31m---------------------------------------------------------------------------\u001b[0m",
      "\u001b[0;31mAttributeError\u001b[0m                            Traceback (most recent call last)",
      "\u001b[0;32m<ipython-input-40-82b57078e228>\u001b[0m in \u001b[0;36m<module>\u001b[0;34m\u001b[0m\n\u001b[0;32m----> 1\u001b[0;31m \u001b[0mfoo\u001b[0m\u001b[0;34m.\u001b[0m\u001b[0m__wrapped__\u001b[0m\u001b[0;34m.\u001b[0m\u001b[0mcalls\u001b[0m\u001b[0;34m\u001b[0m\u001b[0;34m\u001b[0m\u001b[0m\n\u001b[0m",
      "\u001b[0;31mAttributeError\u001b[0m: 'function' object has no attribute 'calls'"
     ]
    }
   ],
   "source": [
    "foo.__wrapped__.calls"
   ]
  },
  {
   "cell_type": "code",
   "execution_count": 41,
   "metadata": {
    "ExecuteTime": {
     "end_time": "2020-05-07T21:58:16.817714Z",
     "start_time": "2020-05-07T21:58:16.813172Z"
    }
   },
   "outputs": [
    {
     "name": "stdout",
     "output_type": "stream",
     "text": [
      "2\n"
     ]
    },
    {
     "data": {
      "text/plain": [
       "4"
      ]
     },
     "execution_count": 41,
     "metadata": {},
     "output_type": "execute_result"
    }
   ],
   "source": [
    "foo(4)"
   ]
  },
  {
   "cell_type": "code",
   "execution_count": 42,
   "metadata": {
    "ExecuteTime": {
     "end_time": "2020-05-07T21:58:17.643041Z",
     "start_time": "2020-05-07T21:58:17.639016Z"
    }
   },
   "outputs": [
    {
     "data": {
      "text/plain": [
       "2"
      ]
     },
     "execution_count": 42,
     "metadata": {},
     "output_type": "execute_result"
    }
   ],
   "source": [
    "foo.calls"
   ]
  },
  {
   "cell_type": "code",
   "execution_count": 43,
   "metadata": {
    "ExecuteTime": {
     "end_time": "2020-05-07T21:58:19.154861Z",
     "start_time": "2020-05-07T21:58:19.148733Z"
    }
   },
   "outputs": [
    {
     "ename": "AttributeError",
     "evalue": "'function' object has no attribute 'calls'",
     "output_type": "error",
     "traceback": [
      "\u001b[0;31m---------------------------------------------------------------------------\u001b[0m",
      "\u001b[0;31mAttributeError\u001b[0m                            Traceback (most recent call last)",
      "\u001b[0;32m<ipython-input-43-82b57078e228>\u001b[0m in \u001b[0;36m<module>\u001b[0;34m\u001b[0m\n\u001b[0;32m----> 1\u001b[0;31m \u001b[0mfoo\u001b[0m\u001b[0;34m.\u001b[0m\u001b[0m__wrapped__\u001b[0m\u001b[0;34m.\u001b[0m\u001b[0mcalls\u001b[0m\u001b[0;34m\u001b[0m\u001b[0;34m\u001b[0m\u001b[0m\n\u001b[0m",
      "\u001b[0;31mAttributeError\u001b[0m: 'function' object has no attribute 'calls'"
     ]
    }
   ],
   "source": [
    "foo.__wrapped__.calls"
   ]
  },
  {
   "cell_type": "code",
   "execution_count": null,
   "metadata": {},
   "outputs": [],
   "source": []
  }
 ],
 "metadata": {
  "kernelspec": {
   "display_name": "Python 3",
   "language": "python",
   "name": "python3"
  },
  "language_info": {
   "codemirror_mode": {
    "name": "ipython",
    "version": 3
   },
   "file_extension": ".py",
   "mimetype": "text/x-python",
   "name": "python",
   "nbconvert_exporter": "python",
   "pygments_lexer": "ipython3",
   "version": "3.7.4"
  },
  "toc": {
   "base_numbering": 1,
   "nav_menu": {},
   "number_sections": true,
   "sideBar": true,
   "skip_h1_title": false,
   "title_cell": "Table of Contents",
   "title_sidebar": "Contents",
   "toc_cell": false,
   "toc_position": {},
   "toc_section_display": true,
   "toc_window_display": false
  }
 },
 "nbformat": 4,
 "nbformat_minor": 2
}
