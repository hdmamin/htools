{
 "cells": [
  {
   "cell_type": "code",
   "execution_count": 2,
   "metadata": {
    "ExecuteTime": {
     "end_time": "2020-01-20T01:19:32.222933Z",
     "start_time": "2020-01-20T01:19:32.203071Z"
    }
   },
   "outputs": [
    {
     "name": "stdout",
     "output_type": "stream",
     "text": [
      "The autoreload extension is already loaded. To reload it, use:\n",
      "  %reload_ext autoreload\n"
     ]
    }
   ],
   "source": [
    "%load_ext autoreload\n",
    "%autoreload 2"
   ]
  },
  {
   "cell_type": "markdown",
   "metadata": {},
   "source": [
    "## Test Magics"
   ]
  },
  {
   "cell_type": "code",
   "execution_count": 3,
   "metadata": {
    "ExecuteTime": {
     "end_time": "2020-01-20T01:19:33.165985Z",
     "start_time": "2020-01-20T01:19:33.127337Z"
    },
    "scrolled": true
   },
   "outputs": [],
   "source": [
    "from htools import magics"
   ]
  },
  {
   "cell_type": "code",
   "execution_count": 4,
   "metadata": {
    "ExecuteTime": {
     "end_time": "2020-01-20T01:19:37.203732Z",
     "start_time": "2020-01-20T01:19:34.185558Z"
    },
    "scrolled": true
   },
   "outputs": [
    {
     "name": "stdout",
     "output_type": "stream",
     "text": [
      "0\n",
      "5000000\n",
      "10000000\n",
      "15000000\n",
      "20000000\n",
      "25000000\n",
      "30000000\n",
      "Time exceeded. \n",
      "Warning: objects may have changed during execution.\n"
     ]
    }
   ],
   "source": [
    "%%timebox 3 -p\n",
    "for i in range(50_000_000):\n",
    "    if i % 5_000_000 == 0: print(i)"
   ]
  },
  {
   "cell_type": "code",
   "execution_count": 5,
   "metadata": {
    "ExecuteTime": {
     "end_time": "2020-01-20T01:19:40.975865Z",
     "start_time": "2020-01-20T01:19:37.877731Z"
    },
    "scrolled": false
   },
   "outputs": [
    {
     "name": "stdout",
     "output_type": "stream",
     "text": [
      "0\n",
      "5000000\n",
      "10000000\n",
      "15000000\n",
      "20000000\n",
      "25000000\n",
      "30000000\n"
     ]
    },
    {
     "ename": "TimeExceededError",
     "evalue": "Time limit exceeded.",
     "output_type": "error",
     "traceback": [
      "\u001b[0;31m---------------------------------------------------------------------------\u001b[0m",
      "\u001b[0;31mTimeExceededError\u001b[0m                         Traceback (most recent call last)",
      "\u001b[0;32m<ipython-input-5-2a401400a28c>\u001b[0m in \u001b[0;36m<module>\u001b[0;34m\u001b[0m\n\u001b[1;32m      1\u001b[0m \u001b[0;32mfor\u001b[0m \u001b[0mi\u001b[0m \u001b[0;32min\u001b[0m \u001b[0mrange\u001b[0m\u001b[0;34m(\u001b[0m\u001b[0;36m50_000_000\u001b[0m\u001b[0;34m)\u001b[0m\u001b[0;34m:\u001b[0m\u001b[0;34m\u001b[0m\u001b[0;34m\u001b[0m\u001b[0m\n\u001b[0;32m----> 2\u001b[0;31m     \u001b[0;32mif\u001b[0m \u001b[0mi\u001b[0m \u001b[0;34m%\u001b[0m \u001b[0;36m5_000_000\u001b[0m \u001b[0;34m==\u001b[0m \u001b[0;36m0\u001b[0m\u001b[0;34m:\u001b[0m \u001b[0mprint\u001b[0m\u001b[0;34m(\u001b[0m\u001b[0mi\u001b[0m\u001b[0;34m)\u001b[0m\u001b[0;34m\u001b[0m\u001b[0;34m\u001b[0m\u001b[0m\n\u001b[0m",
      "\u001b[0;32m~/pythonhm/htools/htools/meta.py\u001b[0m in \u001b[0;36mtimebox_handler\u001b[0;34m(time, frame)\u001b[0m\n\u001b[1;32m    138\u001b[0m \u001b[0;34m\u001b[0m\u001b[0m\n\u001b[1;32m    139\u001b[0m \u001b[0;32mdef\u001b[0m \u001b[0mtimebox_handler\u001b[0m\u001b[0;34m(\u001b[0m\u001b[0mtime\u001b[0m\u001b[0;34m,\u001b[0m \u001b[0mframe\u001b[0m\u001b[0;34m)\u001b[0m\u001b[0;34m:\u001b[0m\u001b[0;34m\u001b[0m\u001b[0;34m\u001b[0m\u001b[0m\n\u001b[0;32m--> 140\u001b[0;31m     \u001b[0;32mraise\u001b[0m \u001b[0mTimeExceededError\u001b[0m\u001b[0;34m(\u001b[0m\u001b[0;34m'Time limit exceeded.'\u001b[0m\u001b[0;34m)\u001b[0m\u001b[0;34m\u001b[0m\u001b[0;34m\u001b[0m\u001b[0m\n\u001b[0m\u001b[1;32m    141\u001b[0m \u001b[0;34m\u001b[0m\u001b[0m\n\u001b[1;32m    142\u001b[0m \u001b[0;34m\u001b[0m\u001b[0m\n",
      "\u001b[0;31mTimeExceededError\u001b[0m: Time limit exceeded."
     ]
    }
   ],
   "source": [
    "%%timebox 3\n",
    "for i in range(50_000_000):\n",
    "    if i % 5_000_000 == 0: print(i)"
   ]
  },
  {
   "cell_type": "markdown",
   "metadata": {},
   "source": [
    "### Bug: Timing doesn't work correctly here (1 line variable assignment)."
   ]
  },
  {
   "cell_type": "code",
   "execution_count": 6,
   "metadata": {
    "ExecuteTime": {
     "end_time": "2020-01-20T01:19:49.357911Z",
     "start_time": "2020-01-20T01:19:43.881442Z"
    },
    "scrolled": true
   },
   "outputs": [
    {
     "ename": "TimeExceededError",
     "evalue": "Time limit exceeded.",
     "output_type": "error",
     "traceback": [
      "\u001b[0;31m---------------------------------------------------------------------------\u001b[0m",
      "\u001b[0;31mTimeExceededError\u001b[0m                         Traceback (most recent call last)",
      "\u001b[0;32m<ipython-input-6-fc765595e21b>\u001b[0m in \u001b[0;36m<module>\u001b[0;34m\u001b[0m\n\u001b[0;32m----> 1\u001b[0;31m \u001b[0ma\u001b[0m \u001b[0;34m=\u001b[0m \u001b[0mlist\u001b[0m\u001b[0;34m(\u001b[0m\u001b[0mrange\u001b[0m\u001b[0;34m(\u001b[0m\u001b[0;36m100_000_000\u001b[0m\u001b[0;34m)\u001b[0m\u001b[0;34m)\u001b[0m\u001b[0;34m\u001b[0m\u001b[0;34m\u001b[0m\u001b[0m\n\u001b[0m",
      "\u001b[0;32m~/pythonhm/htools/htools/meta.py\u001b[0m in \u001b[0;36mtimebox_handler\u001b[0;34m(time, frame)\u001b[0m\n\u001b[1;32m    138\u001b[0m \u001b[0;34m\u001b[0m\u001b[0m\n\u001b[1;32m    139\u001b[0m \u001b[0;32mdef\u001b[0m \u001b[0mtimebox_handler\u001b[0m\u001b[0;34m(\u001b[0m\u001b[0mtime\u001b[0m\u001b[0;34m,\u001b[0m \u001b[0mframe\u001b[0m\u001b[0;34m)\u001b[0m\u001b[0;34m:\u001b[0m\u001b[0;34m\u001b[0m\u001b[0;34m\u001b[0m\u001b[0m\n\u001b[0;32m--> 140\u001b[0;31m     \u001b[0;32mraise\u001b[0m \u001b[0mTimeExceededError\u001b[0m\u001b[0;34m(\u001b[0m\u001b[0;34m'Time limit exceeded.'\u001b[0m\u001b[0;34m)\u001b[0m\u001b[0;34m\u001b[0m\u001b[0;34m\u001b[0m\u001b[0m\n\u001b[0m\u001b[1;32m    141\u001b[0m \u001b[0;34m\u001b[0m\u001b[0m\n\u001b[1;32m    142\u001b[0m \u001b[0;34m\u001b[0m\u001b[0m\n",
      "\u001b[0;31mTimeExceededError\u001b[0m: Time limit exceeded."
     ]
    }
   ],
   "source": [
    "%%timebox 2\n",
    "a = list(range(100_000_000))"
   ]
  },
  {
   "cell_type": "markdown",
   "metadata": {},
   "source": [
    "## Test that * import Core, Meta"
   ]
  },
  {
   "cell_type": "code",
   "execution_count": 7,
   "metadata": {
    "ExecuteTime": {
     "end_time": "2020-01-20T01:20:11.113427Z",
     "start_time": "2020-01-20T01:20:11.098023Z"
    }
   },
   "outputs": [],
   "source": [
    "from htools import *"
   ]
  },
  {
   "cell_type": "code",
   "execution_count": 8,
   "metadata": {
    "ExecuteTime": {
     "end_time": "2020-01-20T01:20:21.756080Z",
     "start_time": "2020-01-20T01:20:21.728689Z"
    }
   },
   "outputs": [
    {
     "data": {
      "text/plain": [
       "{'capitalize': 'method',\n",
       " 'casefold': 'method',\n",
       " 'center': 'method',\n",
       " 'count': 'method',\n",
       " 'encode': 'method',\n",
       " 'endswith': 'method',\n",
       " 'expandtabs': 'method',\n",
       " 'find': 'method',\n",
       " 'format': 'method',\n",
       " 'format_map': 'method',\n",
       " 'index': 'method',\n",
       " 'isalnum': 'method',\n",
       " 'isalpha': 'method',\n",
       " 'isascii': 'method',\n",
       " 'isdecimal': 'method',\n",
       " 'isdigit': 'method',\n",
       " 'isidentifier': 'method',\n",
       " 'islower': 'method',\n",
       " 'isnumeric': 'method',\n",
       " 'isprintable': 'method',\n",
       " 'isspace': 'method',\n",
       " 'istitle': 'method',\n",
       " 'isupper': 'method',\n",
       " 'join': 'method',\n",
       " 'ljust': 'method',\n",
       " 'lower': 'method',\n",
       " 'lstrip': 'method',\n",
       " 'maketrans': 'method',\n",
       " 'partition': 'method',\n",
       " 'replace': 'method',\n",
       " 'rfind': 'method',\n",
       " 'rindex': 'method',\n",
       " 'rjust': 'method',\n",
       " 'rpartition': 'method',\n",
       " 'rsplit': 'method',\n",
       " 'rstrip': 'method',\n",
       " 'split': 'method',\n",
       " 'splitlines': 'method',\n",
       " 'startswith': 'method',\n",
       " 'strip': 'method',\n",
       " 'swapcase': 'method',\n",
       " 'title': 'method',\n",
       " 'translate': 'method',\n",
       " 'upper': 'method',\n",
       " 'zfill': 'method'}"
      ]
     },
     "execution_count": 8,
     "metadata": {},
     "output_type": "execute_result"
    }
   ],
   "source": [
    "s = 'abc'\n",
    "hdir(s)"
   ]
  },
  {
   "cell_type": "code",
   "execution_count": 9,
   "metadata": {
    "ExecuteTime": {
     "end_time": "2020-01-20T01:21:13.629144Z",
     "start_time": "2020-01-20T01:21:13.612219Z"
    }
   },
   "outputs": [],
   "source": [
    "class Foo(AutoInit):\n",
    "    \n",
    "    def __init__(self, a, b=6, **kwargs):\n",
    "        super().__init__()\n",
    "        \n",
    "    def childmethod(self):\n",
    "        return self.a * self.b"
   ]
  },
  {
   "cell_type": "code",
   "execution_count": 10,
   "metadata": {
    "ExecuteTime": {
     "end_time": "2020-01-20T01:21:26.189630Z",
     "start_time": "2020-01-20T01:21:26.169555Z"
    }
   },
   "outputs": [
    {
     "data": {
      "text/plain": [
       "Foo(c='c', b=6, a=3, d=True)"
      ]
     },
     "execution_count": 10,
     "metadata": {},
     "output_type": "execute_result"
    }
   ],
   "source": [
    "foo = Foo(3, c='c', d=True)\n",
    "foo"
   ]
  },
  {
   "cell_type": "code",
   "execution_count": 11,
   "metadata": {
    "ExecuteTime": {
     "end_time": "2020-01-20T01:21:31.029909Z",
     "start_time": "2020-01-20T01:21:31.011492Z"
    }
   },
   "outputs": [
    {
     "data": {
      "text/plain": [
       "18"
      ]
     },
     "execution_count": 11,
     "metadata": {},
     "output_type": "execute_result"
    }
   ],
   "source": [
    "foo.childmethod()"
   ]
  },
  {
   "cell_type": "code",
   "execution_count": 28,
   "metadata": {
    "ExecuteTime": {
     "end_time": "2020-01-20T01:24:23.841834Z",
     "start_time": "2020-01-20T01:24:23.759139Z"
    }
   },
   "outputs": [],
   "source": [
    "%reset -sf"
   ]
  },
  {
   "cell_type": "markdown",
   "metadata": {},
   "source": [
    "## Import 1 module"
   ]
  },
  {
   "cell_type": "code",
   "execution_count": 29,
   "metadata": {
    "ExecuteTime": {
     "end_time": "2020-01-20T01:24:25.411364Z",
     "start_time": "2020-01-20T01:24:25.394899Z"
    }
   },
   "outputs": [],
   "source": [
    "from htools import core"
   ]
  },
  {
   "cell_type": "code",
   "execution_count": 30,
   "metadata": {
    "ExecuteTime": {
     "end_time": "2020-01-20T01:24:26.673350Z",
     "start_time": "2020-01-20T01:24:26.654795Z"
    }
   },
   "outputs": [
    {
     "data": {
      "text/plain": [
       "{'append': 'method',\n",
       " 'clear': 'method',\n",
       " 'copy': 'method',\n",
       " 'count': 'method',\n",
       " 'extend': 'method',\n",
       " 'index': 'method',\n",
       " 'insert': 'method',\n",
       " 'pop': 'method',\n",
       " 'remove': 'method',\n",
       " 'reverse': 'method',\n",
       " 'sort': 'method'}"
      ]
     },
     "execution_count": 30,
     "metadata": {},
     "output_type": "execute_result"
    }
   ],
   "source": [
    "core.hdir([1])"
   ]
  },
  {
   "cell_type": "markdown",
   "metadata": {},
   "source": [
    "## Import everything from 1 module"
   ]
  },
  {
   "cell_type": "code",
   "execution_count": 31,
   "metadata": {
    "ExecuteTime": {
     "end_time": "2020-01-20T01:24:30.964378Z",
     "start_time": "2020-01-20T01:24:30.889990Z"
    }
   },
   "outputs": [],
   "source": [
    "%reset -sf"
   ]
  },
  {
   "cell_type": "code",
   "execution_count": 32,
   "metadata": {
    "ExecuteTime": {
     "end_time": "2020-01-20T01:24:31.904969Z",
     "start_time": "2020-01-20T01:24:31.889624Z"
    }
   },
   "outputs": [],
   "source": [
    "from htools.core import *"
   ]
  },
  {
   "cell_type": "code",
   "execution_count": 33,
   "metadata": {
    "ExecuteTime": {
     "end_time": "2020-01-20T01:24:32.443729Z",
     "start_time": "2020-01-20T01:24:32.426048Z"
    }
   },
   "outputs": [
    {
     "data": {
      "text/plain": [
       "{'append': 'method',\n",
       " 'clear': 'method',\n",
       " 'copy': 'method',\n",
       " 'count': 'method',\n",
       " 'extend': 'method',\n",
       " 'index': 'method',\n",
       " 'insert': 'method',\n",
       " 'pop': 'method',\n",
       " 'remove': 'method',\n",
       " 'reverse': 'method',\n",
       " 'sort': 'method'}"
      ]
     },
     "execution_count": 33,
     "metadata": {},
     "output_type": "execute_result"
    }
   ],
   "source": [
    "hdir([1])"
   ]
  },
  {
   "cell_type": "code",
   "execution_count": 34,
   "metadata": {
    "ExecuteTime": {
     "end_time": "2020-01-20T01:24:53.112161Z",
     "start_time": "2020-01-20T01:24:53.092041Z"
    }
   },
   "outputs": [
    {
     "ename": "NameError",
     "evalue": "name 'AutoInit' is not defined",
     "output_type": "error",
     "traceback": [
      "\u001b[0;31m---------------------------------------------------------------------------\u001b[0m",
      "\u001b[0;31mNameError\u001b[0m                                 Traceback (most recent call last)",
      "\u001b[0;32m<ipython-input-34-9dcc1cdef041>\u001b[0m in \u001b[0;36m<module>\u001b[0;34m\u001b[0m\n\u001b[0;32m----> 1\u001b[0;31m \u001b[0;32mclass\u001b[0m \u001b[0mFoo\u001b[0m\u001b[0;34m(\u001b[0m\u001b[0mAutoInit\u001b[0m\u001b[0;34m)\u001b[0m\u001b[0;34m:\u001b[0m\u001b[0;34m\u001b[0m\u001b[0;34m\u001b[0m\u001b[0m\n\u001b[0m\u001b[1;32m      2\u001b[0m     \u001b[0;32mdef\u001b[0m \u001b[0m__init__\u001b[0m\u001b[0;34m(\u001b[0m\u001b[0mself\u001b[0m\u001b[0;34m,\u001b[0m \u001b[0ma\u001b[0m\u001b[0;34m,\u001b[0m \u001b[0mb\u001b[0m\u001b[0;34m=\u001b[0m\u001b[0;36m6\u001b[0m\u001b[0;34m,\u001b[0m \u001b[0;34m**\u001b[0m\u001b[0mkwargs\u001b[0m\u001b[0;34m)\u001b[0m\u001b[0;34m:\u001b[0m\u001b[0;34m\u001b[0m\u001b[0;34m\u001b[0m\u001b[0m\n\u001b[1;32m      3\u001b[0m         \u001b[0msuper\u001b[0m\u001b[0;34m(\u001b[0m\u001b[0;34m)\u001b[0m\u001b[0;34m.\u001b[0m\u001b[0m__init__\u001b[0m\u001b[0;34m(\u001b[0m\u001b[0;34m)\u001b[0m\u001b[0;34m\u001b[0m\u001b[0;34m\u001b[0m\u001b[0m\n",
      "\u001b[0;31mNameError\u001b[0m: name 'AutoInit' is not defined"
     ]
    }
   ],
   "source": [
    "class Foo(AutoInit):\n",
    "    def __init__(self, a, b=6, **kwargs):\n",
    "        super().__init__()"
   ]
  },
  {
   "cell_type": "markdown",
   "metadata": {},
   "source": [
    "## Import specific items from modules"
   ]
  },
  {
   "cell_type": "code",
   "execution_count": 37,
   "metadata": {
    "ExecuteTime": {
     "end_time": "2020-01-20T01:26:36.884063Z",
     "start_time": "2020-01-20T01:26:36.808701Z"
    }
   },
   "outputs": [],
   "source": [
    "%reset -sf"
   ]
  },
  {
   "cell_type": "code",
   "execution_count": 38,
   "metadata": {
    "ExecuteTime": {
     "end_time": "2020-01-20T01:26:37.579215Z",
     "start_time": "2020-01-20T01:26:37.562639Z"
    }
   },
   "outputs": [],
   "source": [
    "from htools.core import hdir\n",
    "from htools.meta import AutoInit"
   ]
  },
  {
   "cell_type": "code",
   "execution_count": 39,
   "metadata": {
    "ExecuteTime": {
     "end_time": "2020-01-20T01:26:50.310838Z",
     "start_time": "2020-01-20T01:26:50.294825Z"
    }
   },
   "outputs": [],
   "source": [
    "class Foo(AutoInit):\n",
    "    def __init__(self, a, b=6, **kwargs):\n",
    "        super().__init__()"
   ]
  },
  {
   "cell_type": "code",
   "execution_count": 40,
   "metadata": {
    "ExecuteTime": {
     "end_time": "2020-01-20T01:26:59.780979Z",
     "start_time": "2020-01-20T01:26:59.762412Z"
    }
   },
   "outputs": [
    {
     "data": {
      "text/plain": [
       "Foo(b=6, a=3)"
      ]
     },
     "execution_count": 40,
     "metadata": {},
     "output_type": "execute_result"
    }
   ],
   "source": [
    "f = Foo(3)\n",
    "f"
   ]
  },
  {
   "cell_type": "code",
   "execution_count": 41,
   "metadata": {
    "ExecuteTime": {
     "end_time": "2020-01-20T01:27:03.016033Z",
     "start_time": "2020-01-20T01:27:02.998030Z"
    }
   },
   "outputs": [
    {
     "data": {
      "text/plain": [
       "{'a': 'attribute', 'b': 'attribute'}"
      ]
     },
     "execution_count": 41,
     "metadata": {},
     "output_type": "execute_result"
    }
   ],
   "source": [
    "hdir(f)"
   ]
  }
 ],
 "metadata": {
  "kernelspec": {
   "display_name": "Python 3",
   "language": "python",
   "name": "python3"
  },
  "language_info": {
   "codemirror_mode": {
    "name": "ipython",
    "version": 3
   },
   "file_extension": ".py",
   "mimetype": "text/x-python",
   "name": "python",
   "nbconvert_exporter": "python",
   "pygments_lexer": "ipython3",
   "version": "3.7.3"
  }
 },
 "nbformat": 4,
 "nbformat_minor": 4
}
