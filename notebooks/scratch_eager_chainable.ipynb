{
 "cells": [
  {
   "cell_type": "code",
   "execution_count": 96,
   "metadata": {},
   "outputs": [],
   "source": [
    "from copy import copy, deepcopy\n",
    "from functools import wraps\n",
    "\n",
    "from htools import auto_repr"
   ]
  },
  {
   "cell_type": "code",
   "execution_count": 102,
   "metadata": {},
   "outputs": [],
   "source": [
    "def chain(func):\n",
    "    \"\"\"Decorator for methods in classes that want to implement\n",
    "    eager chaining. Chainable methods should be instance methods\n",
    "    that return self. All this decorator does is ensure these\n",
    "    methods are called on a deep copy of the instance instead\n",
    "    of on the instance itself, so that operations are not done\n",
    "    in place.\n",
    "    \n",
    "    Examples\n",
    "    --------\n",
    "    @auto_repr\n",
    "    class EagerChainable:\n",
    "    \n",
    "        def __init__(self, arr, b=3):\n",
    "            self.arr = arr\n",
    "            self.b = b\n",
    "\n",
    "        @chain\n",
    "        def double(self):\n",
    "            self.b *= 2\n",
    "            return self\n",
    "\n",
    "        @chain\n",
    "        def add(self, n):\n",
    "            self.arr = [x+n for x in self.arr]\n",
    "            return self\n",
    "\n",
    "        @chain\n",
    "        def append(self, n):\n",
    "            self.arr.append(n)\n",
    "            return self\n",
    "    \n",
    "    >>> ec = EagerChainable([1, 3, 5, -22], b=17)\n",
    "    >>> ec\n",
    "    \n",
    "    EagerChainable(arr=[1, 3, 5, -22], b=17)\n",
    "    \n",
    "    >>> ec2 = ec.append(99).double().add(400)\n",
    "    >>> ec2\n",
    "    \n",
    "    EagerChainable(arr=[401, 403, 405, 378, 499], b=34)\n",
    "    \n",
    "    >>> ec   # Remains unchanged.\n",
    "    EagerChainable(arr=[1, 3, 5, -22], b=17)\n",
    "    \"\"\"\n",
    "    @wraps(func)\n",
    "    def wrapper(instance, *args, **kwargs):\n",
    "        return func(deepcopy(instance), *args, **kwargs)\n",
    "    return wrapper"
   ]
  },
  {
   "cell_type": "code",
   "execution_count": 98,
   "metadata": {},
   "outputs": [],
   "source": [
    "@auto_repr\n",
    "class EagerChainable:\n",
    "    \n",
    "    def __init__(self, arr, b=3):\n",
    "        self.arr = arr\n",
    "        self.b = b\n",
    "        \n",
    "    @chain\n",
    "    def double(self):\n",
    "        print('in double')\n",
    "        self.b *= 2\n",
    "        return self\n",
    "        \n",
    "    @chain\n",
    "    def add(self, n):\n",
    "        print('in add')\n",
    "        self.arr = [x+n for x in self.arr]\n",
    "        return self\n",
    "    \n",
    "    @chain\n",
    "    def append(self, n):\n",
    "        self.arr.append(n)\n",
    "        return self"
   ]
  },
  {
   "cell_type": "code",
   "execution_count": 99,
   "metadata": {},
   "outputs": [
    {
     "data": {
      "text/plain": [
       "EagerChainable(arr=[1, 3, 5, -22], b=17)"
      ]
     },
     "execution_count": 99,
     "metadata": {},
     "output_type": "execute_result"
    }
   ],
   "source": [
    "arr = [1, 3, 5, -22]\n",
    "ec = EagerChainable(arr, b=17)\n",
    "ec"
   ]
  },
  {
   "cell_type": "code",
   "execution_count": 84,
   "metadata": {},
   "outputs": [
    {
     "name": "stdout",
     "output_type": "stream",
     "text": [
      "in double\n"
     ]
    },
    {
     "data": {
      "text/plain": [
       "EagerChainable(arr=[1, 3, 5, -22], b=34)"
      ]
     },
     "execution_count": 84,
     "metadata": {},
     "output_type": "execute_result"
    }
   ],
   "source": [
    "ec.double()"
   ]
  },
  {
   "cell_type": "code",
   "execution_count": 85,
   "metadata": {},
   "outputs": [
    {
     "data": {
      "text/plain": [
       "EagerChainable(arr=[1, 3, 5, -22], b=17)"
      ]
     },
     "execution_count": 85,
     "metadata": {},
     "output_type": "execute_result"
    }
   ],
   "source": [
    "ec"
   ]
  },
  {
   "cell_type": "code",
   "execution_count": 86,
   "metadata": {},
   "outputs": [
    {
     "name": "stdout",
     "output_type": "stream",
     "text": [
      "in add\n"
     ]
    },
    {
     "data": {
      "text/plain": [
       "EagerChainable(arr=[4, 6, 8, -19], b=17)"
      ]
     },
     "execution_count": 86,
     "metadata": {},
     "output_type": "execute_result"
    }
   ],
   "source": [
    "ec.add(3)"
   ]
  },
  {
   "cell_type": "code",
   "execution_count": 87,
   "metadata": {},
   "outputs": [
    {
     "data": {
      "text/plain": [
       "EagerChainable(arr=[1, 3, 5, -22], b=17)"
      ]
     },
     "execution_count": 87,
     "metadata": {},
     "output_type": "execute_result"
    }
   ],
   "source": [
    "ec"
   ]
  },
  {
   "cell_type": "code",
   "execution_count": 88,
   "metadata": {},
   "outputs": [
    {
     "data": {
      "text/plain": [
       "EagerChainable(arr=[1, 3, 5, -22, 99], b=17)"
      ]
     },
     "execution_count": 88,
     "metadata": {},
     "output_type": "execute_result"
    }
   ],
   "source": [
    "ec.append(99)"
   ]
  },
  {
   "cell_type": "code",
   "execution_count": 89,
   "metadata": {},
   "outputs": [
    {
     "data": {
      "text/plain": [
       "EagerChainable(arr=[1, 3, 5, -22], b=17)"
      ]
     },
     "execution_count": 89,
     "metadata": {},
     "output_type": "execute_result"
    }
   ],
   "source": [
    "ec"
   ]
  },
  {
   "cell_type": "code",
   "execution_count": 90,
   "metadata": {},
   "outputs": [
    {
     "name": "stdout",
     "output_type": "stream",
     "text": [
      "in double\n",
      "in add\n"
     ]
    },
    {
     "data": {
      "text/plain": [
       "EagerChainable(arr=[401, 403, 405, 378, 499], b=34)"
      ]
     },
     "execution_count": 90,
     "metadata": {},
     "output_type": "execute_result"
    }
   ],
   "source": [
    "ec2 = ec.append(99).double().add(400)\n",
    "ec2"
   ]
  },
  {
   "cell_type": "code",
   "execution_count": 91,
   "metadata": {},
   "outputs": [
    {
     "data": {
      "text/plain": [
       "EagerChainable(arr=[1, 3, 5, -22], b=17)"
      ]
     },
     "execution_count": 91,
     "metadata": {},
     "output_type": "execute_result"
    }
   ],
   "source": [
    "ec"
   ]
  },
  {
   "cell_type": "code",
   "execution_count": 92,
   "metadata": {},
   "outputs": [
    {
     "data": {
      "text/plain": [
       "[1, 3, 5, -22]"
      ]
     },
     "execution_count": 92,
     "metadata": {},
     "output_type": "execute_result"
    }
   ],
   "source": [
    "arr"
   ]
  },
  {
   "cell_type": "code",
   "execution_count": null,
   "metadata": {},
   "outputs": [],
   "source": []
  }
 ],
 "metadata": {
  "kernelspec": {
   "display_name": "Python 3",
   "language": "python",
   "name": "python3"
  },
  "language_info": {
   "codemirror_mode": {
    "name": "ipython",
    "version": 3
   },
   "file_extension": ".py",
   "mimetype": "text/x-python",
   "name": "python",
   "nbconvert_exporter": "python",
   "pygments_lexer": "ipython3",
   "version": "3.7.3"
  }
 },
 "nbformat": 4,
 "nbformat_minor": 4
}
