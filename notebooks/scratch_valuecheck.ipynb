{
 "cells": [
  {
   "cell_type": "code",
   "execution_count": 1,
   "metadata": {
    "ExecuteTime": {
     "end_time": "2020-02-13T05:32:37.389092Z",
     "start_time": "2020-02-13T05:32:37.366077Z"
    }
   },
   "outputs": [],
   "source": [
    "%load_ext autoreload\n",
    "%autoreload 2"
   ]
  },
  {
   "cell_type": "code",
   "execution_count": 143,
   "metadata": {
    "ExecuteTime": {
     "end_time": "2020-02-13T06:02:10.607679Z",
     "start_time": "2020-02-13T06:02:10.591470Z"
    }
   },
   "outputs": [],
   "source": [
    "from functools import wraps\n",
    "import inspect\n",
    "\n",
    "from htools import hdir, assert_raises"
   ]
  },
  {
   "cell_type": "code",
   "execution_count": 148,
   "metadata": {
    "ExecuteTime": {
     "end_time": "2020-02-13T06:03:49.111060Z",
     "start_time": "2020-02-13T06:03:49.090005Z"
    }
   },
   "outputs": [],
   "source": [
    "@valuecheck\n",
    "def foo(a, b:('min', 'max'), c=6, d:(True, False)=True):\n",
    "    return d, c, b, a"
   ]
  },
  {
   "cell_type": "code",
   "execution_count": 149,
   "metadata": {
    "ExecuteTime": {
     "end_time": "2020-02-13T06:03:49.482145Z",
     "start_time": "2020-02-13T06:03:49.464095Z"
    }
   },
   "outputs": [
    {
     "data": {
      "text/plain": [
       "(True, 6, 'min', 3)"
      ]
     },
     "execution_count": 149,
     "metadata": {},
     "output_type": "execute_result"
    }
   ],
   "source": [
    "foo(3, 'min')"
   ]
  },
  {
   "cell_type": "code",
   "execution_count": 150,
   "metadata": {
    "ExecuteTime": {
     "end_time": "2020-02-13T06:03:49.687783Z",
     "start_time": "2020-02-13T06:03:49.669017Z"
    }
   },
   "outputs": [
    {
     "name": "stdout",
     "output_type": "stream",
     "text": [
      "As expected, got ValueError(Invalid argument for parameter d. Value must be in (True, False).).\n"
     ]
    }
   ],
   "source": [
    "with assert_raises(ValueError) as ar:\n",
    "    foo(True, 'max', d=None)"
   ]
  },
  {
   "cell_type": "code",
   "execution_count": 151,
   "metadata": {
    "ExecuteTime": {
     "end_time": "2020-02-13T06:03:49.960035Z",
     "start_time": "2020-02-13T06:03:49.931367Z"
    }
   },
   "outputs": [
    {
     "name": "stdout",
     "output_type": "stream",
     "text": [
      "As expected, got ValueError(Invalid argument for parameter b. Value must be in ('min', 'max').).\n"
     ]
    }
   ],
   "source": [
    "with assert_raises(ValueError) as ar:\n",
    "    foo('a', 'mean')"
   ]
  },
  {
   "cell_type": "code",
   "execution_count": 138,
   "metadata": {
    "ExecuteTime": {
     "end_time": "2020-02-13T05:57:20.326499Z",
     "start_time": "2020-02-13T05:57:20.294352Z"
    }
   },
   "outputs": [],
   "source": [
    "class Bar:\n",
    "    \n",
    "    def __init__(self, a, b=6, c:int=3):\n",
    "        self.a = a\n",
    "        self.b = b\n",
    "        self.c = c\n",
    "        \n",
    "    @valuecheck\n",
    "    def walk(self, x:('binary', 'multiclass'), y:(foo, print), z=6, a:(3.0, 4)=3.0):\n",
    "        return a, z, y, x"
   ]
  },
  {
   "cell_type": "code",
   "execution_count": 139,
   "metadata": {
    "ExecuteTime": {
     "end_time": "2020-02-13T05:57:20.479510Z",
     "start_time": "2020-02-13T05:57:20.445310Z"
    }
   },
   "outputs": [
    {
     "data": {
      "text/plain": [
       "(4, 6, <function print>, 'binary')"
      ]
     },
     "execution_count": 139,
     "metadata": {},
     "output_type": "execute_result"
    }
   ],
   "source": [
    "b = Bar('a', c=9.)\n",
    "b.walk('binary', print, a=4)"
   ]
  },
  {
   "cell_type": "code",
   "execution_count": 140,
   "metadata": {
    "ExecuteTime": {
     "end_time": "2020-02-13T05:57:20.662625Z",
     "start_time": "2020-02-13T05:57:20.636158Z"
    }
   },
   "outputs": [
    {
     "ename": "ValueError",
     "evalue": "Invalid argument for parameter x. Value must be in ('binary', 'multiclass').",
     "output_type": "error",
     "traceback": [
      "\u001b[0;31m---------------------------------------------------------------------------\u001b[0m",
      "\u001b[0;31mValueError\u001b[0m                                Traceback (most recent call last)",
      "\u001b[0;32m<ipython-input-140-f64d8f248aa9>\u001b[0m in \u001b[0;36m<module>\u001b[0;34m\u001b[0m\n\u001b[0;32m----> 1\u001b[0;31m \u001b[0mb\u001b[0m\u001b[0;34m.\u001b[0m\u001b[0mwalk\u001b[0m\u001b[0;34m(\u001b[0m\u001b[0;34m'multilabel'\u001b[0m\u001b[0;34m,\u001b[0m \u001b[0mfoo\u001b[0m\u001b[0;34m,\u001b[0m \u001b[0;36m3\u001b[0m\u001b[0;34m,\u001b[0m \u001b[0;36m3.0\u001b[0m\u001b[0;34m)\u001b[0m\u001b[0;34m\u001b[0m\u001b[0;34m\u001b[0m\u001b[0m\n\u001b[0m",
      "\u001b[0;32m<ipython-input-137-1029c952f1d3>\u001b[0m in \u001b[0;36mwrapper\u001b[0;34m(*args, **kwargs)\u001b[0m\n\u001b[1;32m     10\u001b[0m             \u001b[0;32mif\u001b[0m \u001b[0mchoices\u001b[0m \u001b[0;34m==\u001b[0m \u001b[0minspect\u001b[0m\u001b[0;34m.\u001b[0m\u001b[0m_empty\u001b[0m\u001b[0;34m:\u001b[0m \u001b[0;32mcontinue\u001b[0m\u001b[0;34m\u001b[0m\u001b[0;34m\u001b[0m\u001b[0m\n\u001b[1;32m     11\u001b[0m             \u001b[0;32mif\u001b[0m \u001b[0mv\u001b[0m \u001b[0;32mnot\u001b[0m \u001b[0;32min\u001b[0m \u001b[0mchoices\u001b[0m\u001b[0;34m:\u001b[0m\u001b[0;34m\u001b[0m\u001b[0;34m\u001b[0m\u001b[0m\n\u001b[0;32m---> 12\u001b[0;31m                 raise ValueError(f'Invalid argument for parameter {k}. '\n\u001b[0m\u001b[1;32m     13\u001b[0m                                  f'Value must be in {choices}.') \n\u001b[1;32m     14\u001b[0m         \u001b[0;32mreturn\u001b[0m \u001b[0mfunc\u001b[0m\u001b[0;34m(\u001b[0m\u001b[0;34m*\u001b[0m\u001b[0margs\u001b[0m\u001b[0;34m,\u001b[0m \u001b[0;34m**\u001b[0m\u001b[0mkwargs\u001b[0m\u001b[0;34m)\u001b[0m\u001b[0;34m\u001b[0m\u001b[0;34m\u001b[0m\u001b[0m\n",
      "\u001b[0;31mValueError\u001b[0m: Invalid argument for parameter x. Value must be in ('binary', 'multiclass')."
     ]
    }
   ],
   "source": [
    "b.walk('multilabel', foo, 3, 3.0)"
   ]
  },
  {
   "cell_type": "code",
   "execution_count": 141,
   "metadata": {
    "ExecuteTime": {
     "end_time": "2020-02-13T05:57:45.357228Z",
     "start_time": "2020-02-13T05:57:45.314667Z"
    }
   },
   "outputs": [
    {
     "data": {
      "text/plain": [
       "(4.0,\n",
       " 6,\n",
       " <function __main__.foo(a, b: ('min', 'max'), c=6, d: (True, False) = True)>,\n",
       " 'multiclass')"
      ]
     },
     "execution_count": 141,
     "metadata": {},
     "output_type": "execute_result"
    }
   ],
   "source": [
    "b.walk(x='multiclass', y=foo, a=4.0)"
   ]
  }
 ],
 "metadata": {
  "kernelspec": {
   "display_name": "Python 3",
   "language": "python",
   "name": "python3"
  },
  "language_info": {
   "codemirror_mode": {
    "name": "ipython",
    "version": 3
   },
   "file_extension": ".py",
   "mimetype": "text/x-python",
   "name": "python",
   "nbconvert_exporter": "python",
   "pygments_lexer": "ipython3",
   "version": "3.7.3"
  }
 },
 "nbformat": 4,
 "nbformat_minor": 2
}
