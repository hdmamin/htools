{
 "cells": [
  {
   "cell_type": "code",
   "execution_count": 1,
   "metadata": {},
   "outputs": [],
   "source": [
    "%load_ext autoreload\n",
    "%autoreload 2"
   ]
  },
  {
   "cell_type": "code",
   "execution_count": 1,
   "metadata": {},
   "outputs": [],
   "source": [
    "import inspect"
   ]
  },
  {
   "cell_type": "code",
   "execution_count": 28,
   "metadata": {},
   "outputs": [],
   "source": [
    "class AutoInitMeta(type):\n",
    "    \n",
    "    def __new__(cls, name, bases, methods):\n",
    "        \n",
    "        def auto_repr(instance):\n",
    "            return str(instance.__dict__)\n",
    "        \n",
    "        cls.__repr__ = auto_repr\n",
    "        return type.__new__(cls, name, bases, methods)"
   ]
  },
  {
   "cell_type": "code",
   "execution_count": 31,
   "metadata": {},
   "outputs": [],
   "source": [
    "class Foo(metaclass=AutoInitMeta):\n",
    "    c = 'c'\n",
    "    def __init__(self, a, b=6, **kwargs):\n",
    "        pass\n",
    "    \n",
    "    def walk(self):\n",
    "        return 'in walk'"
   ]
  },
  {
   "cell_type": "code",
   "execution_count": 32,
   "metadata": {},
   "outputs": [
    {
     "data": {
      "text/plain": [
       "<{'__module__': '__main__', 'c': 'c', '__init__': <function Foo.__init__ at 0x10bcca488>, 'walk': <function Foo.walk at 0x10bcca510>, '__dict__': <attribute '__dict__' of 'Foo' objects>, '__weakref__': <attribute '__weakref__' of 'Foo' objects>, '__doc__': None} at 0x10bccceb8>"
      ]
     },
     "execution_count": 32,
     "metadata": {},
     "output_type": "execute_result"
    }
   ],
   "source": [
    "f = Foo(3)\n",
    "f"
   ]
  },
  {
   "cell_type": "code",
   "execution_count": 33,
   "metadata": {},
   "outputs": [
    {
     "data": {
      "text/plain": [
       "<{'__module__': '__main__', 'c': 'c', '__init__': <function Foo.__init__ at 0x10bcca488>, 'walk': <function Foo.walk at 0x10bcca510>, '__dict__': <attribute '__dict__' of 'Foo' objects>, '__weakref__': <attribute '__weakref__' of 'Foo' objects>, '__doc__': None} at 0x10bccceb8>"
      ]
     },
     "execution_count": 33,
     "metadata": {},
     "output_type": "execute_result"
    }
   ],
   "source": [
    "f"
   ]
  },
  {
   "cell_type": "markdown",
   "metadata": {},
   "source": [
    "## Select and drop"
   ]
  },
  {
   "cell_type": "code",
   "execution_count": 72,
   "metadata": {},
   "outputs": [],
   "source": [
    "def select(obj, keep=None, drop=None):\n",
    "    if isinstance(obj, (list, tuple)):\n",
    "        idx = keep or set(range(len(obj))) - set(drop)\n",
    "        return type(obj)(obj[i] for i in idx)\n",
    "    elif isinstance(obj, dict):\n",
    "        idx = keep or obj.keys() - set(drop)\n",
    "        return {k: obj[k] for k in idx}"
   ]
  },
  {
   "cell_type": "code",
   "execution_count": 73,
   "metadata": {},
   "outputs": [
    {
     "data": {
      "text/plain": [
       "['e', 'b', 'h']"
      ]
     },
     "execution_count": 73,
     "metadata": {},
     "output_type": "execute_result"
    }
   ],
   "source": [
    "chars = list('abcdefghijklmnopqrstuvwxyz')\n",
    "select(chars, [4, 1, 7])"
   ]
  },
  {
   "cell_type": "code",
   "execution_count": 74,
   "metadata": {},
   "outputs": [
    {
     "data": {
      "text/plain": [
       "['a',\n",
       " 'b',\n",
       " 'd',\n",
       " 'e',\n",
       " 'g',\n",
       " 'h',\n",
       " 'i',\n",
       " 'j',\n",
       " 'k',\n",
       " 'l',\n",
       " 'm',\n",
       " 'n',\n",
       " 'o',\n",
       " 'p',\n",
       " 'q',\n",
       " 'r',\n",
       " 's',\n",
       " 't',\n",
       " 'u',\n",
       " 'v',\n",
       " 'w',\n",
       " 'y']"
      ]
     },
     "execution_count": 74,
     "metadata": {},
     "output_type": "execute_result"
    }
   ],
   "source": [
    "select(chars, drop=[2, 5, 23, 25])"
   ]
  },
  {
   "cell_type": "code",
   "execution_count": 76,
   "metadata": {},
   "outputs": [
    {
     "data": {
      "text/plain": [
       "{'e': 4, 'd': 3, 'z': 25}"
      ]
     },
     "execution_count": 76,
     "metadata": {},
     "output_type": "execute_result"
    }
   ],
   "source": [
    "char2i = {v: k for k, v in enumerate(chars)}\n",
    "select(char2i, ['e', 'd', 'z'])"
   ]
  },
  {
   "cell_type": "code",
   "execution_count": 79,
   "metadata": {},
   "outputs": [
    {
     "name": "stdout",
     "output_type": "stream",
     "text": [
      "a 0\n",
      "d 3\n",
      "e 4\n",
      "f 5\n",
      "g 6\n",
      "h 7\n",
      "i 8\n",
      "j 9\n",
      "k 10\n",
      "l 11\n",
      "m 12\n",
      "n 13\n",
      "o 14\n",
      "p 15\n",
      "q 16\n",
      "r 17\n",
      "s 18\n",
      "t 19\n",
      "u 20\n",
      "v 21\n",
      "w 22\n",
      "x 23\n",
      "z 25\n"
     ]
    }
   ],
   "source": [
    "out = select(char2i, drop=['b', 'c', 'y'])\n",
    "for char in chars:\n",
    "    if char in out:\n",
    "        print(char, out[char])"
   ]
  },
  {
   "cell_type": "markdown",
   "metadata": {},
   "source": [
    "## Auto repr decorator \n",
    "\n",
    "(limitation: decorator evaluated before object is initialized so \\**kwargs can't be included unless we include everything in \\_\\_dict__, which may include attrs not specified in \\_\\_init__ call)"
   ]
  },
  {
   "cell_type": "code",
   "execution_count": 7,
   "metadata": {},
   "outputs": [],
   "source": [
    "def auto_repr(cls):\n",
    "    \"\"\"Class decorator that provides __repr__ method automatically\n",
    "    based on __init__ parameters. Unlike the repr included in AutoInit,\n",
    "    this ignores kwargs.\n",
    "    \"\"\"\n",
    "    def repr_(self):\n",
    "        args = dict(inspect.signature(self.__init__).parameters)\n",
    "        args.pop('kwargs', None)\n",
    "        arg_strs = (f'{k}={repr(getattr(self, k))}' for k in args.keys())\n",
    "        return f'{type(self).__name__}({\", \".join(arg_strs)})'\n",
    "    cls.__repr__ = repr_\n",
    "    return cls"
   ]
  },
  {
   "cell_type": "code",
   "execution_count": 38,
   "metadata": {},
   "outputs": [],
   "source": [
    "def auto_repr(cls):\n",
    "    \"\"\"Class decorator that provides __repr__ method automatically\n",
    "    based on __init__ parameters. This aims to provide a simpler alternative \n",
    "    to AutoInit that does not require access to the arguments passed to\n",
    "    __init__. Attributes will only be included in the repr if they are in \n",
    "    the class dict and appear in __init__ as a named parameter (with the\n",
    "    same name).\n",
    "    \n",
    "    Examples\n",
    "    --------\n",
    "    @auto_repr\n",
    "    class Foo:\n",
    "        def __init__(self, a, b=6, c=None, p=0.5, **kwargs):\n",
    "            self.a = a\n",
    "            self.b = b\n",
    "            # Different name to demonstrate that cat is not included in repr.\n",
    "            self.cat = c\n",
    "            # Property is not stored in class dict, not included in repr.\n",
    "            self.p = p\n",
    "            \n",
    "        @property\n",
    "        def p(self):\n",
    "            return self._p\n",
    "    \n",
    "        @p.setter\n",
    "        def p(self, val):\n",
    "            if val > 0: \n",
    "                self._p = val\n",
    "            else:\n",
    "                raise ValueError('p must be non-negative')\n",
    "            \n",
    "    >>> f = Foo(3, b='b', c='c')\n",
    "    >>> f\n",
    "    \n",
    "    Foo(a=3, b='b')\n",
    "    \"\"\"\n",
    "    def repr_(instance):\n",
    "        args = dict(inspect.signature(instance.__init__).parameters)\n",
    "        arg_strs = (f'{k}={repr(v)}'for k, v in instance.__dict__.items()\n",
    "                    if k in args.keys())\n",
    "        return f'{type(instance).__name__}({\", \".join(arg_strs)})'\n",
    "    cls.__repr__ = repr_\n",
    "    return cls"
   ]
  },
  {
   "cell_type": "code",
   "execution_count": 28,
   "metadata": {},
   "outputs": [],
   "source": [
    "@auto_repr\n",
    "class Foo:\n",
    "    def __init__(self, a, b=6, d=None, p=True, **kwargs):\n",
    "        self.a = a\n",
    "        self.b = b\n",
    "        self.d = d\n",
    "        self.p = p\n",
    "        \n",
    "    @property\n",
    "    def p(self):\n",
    "        print('GETTING p')\n",
    "        return self._p\n",
    "    \n",
    "    @p.setter\n",
    "    def p(self, val):\n",
    "        print('setting p')\n",
    "        self._p = val\n",
    "        \n",
    "    def walk(self):\n",
    "        return 'foo walking'"
   ]
  },
  {
   "cell_type": "code",
   "execution_count": 29,
   "metadata": {},
   "outputs": [
    {
     "name": "stdout",
     "output_type": "stream",
     "text": [
      "setting p\n"
     ]
    },
    {
     "data": {
      "text/plain": [
       "Foo(a=3, b=6, d=None)"
      ]
     },
     "execution_count": 29,
     "metadata": {},
     "output_type": "execute_result"
    }
   ],
   "source": [
    "f = Foo(3, c='z')\n",
    "f"
   ]
  },
  {
   "cell_type": "code",
   "execution_count": 30,
   "metadata": {},
   "outputs": [
    {
     "data": {
      "text/plain": [
       "{'a': 3, 'b': 6, 'd': None, '_p': True}"
      ]
     },
     "execution_count": 30,
     "metadata": {},
     "output_type": "execute_result"
    }
   ],
   "source": [
    "f.__dict__"
   ]
  },
  {
   "cell_type": "code",
   "execution_count": null,
   "metadata": {},
   "outputs": [],
   "source": []
  }
 ],
 "metadata": {
  "kernelspec": {
   "display_name": "Python 3",
   "language": "python",
   "name": "python3"
  },
  "language_info": {
   "codemirror_mode": {
    "name": "ipython",
    "version": 3
   },
   "file_extension": ".py",
   "mimetype": "text/x-python",
   "name": "python",
   "nbconvert_exporter": "python",
   "pygments_lexer": "ipython3",
   "version": "3.7.3"
  }
 },
 "nbformat": 4,
 "nbformat_minor": 4
}
