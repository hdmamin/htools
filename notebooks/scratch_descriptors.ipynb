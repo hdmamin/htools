{
 "cells": [
  {
   "cell_type": "code",
   "execution_count": 3,
   "metadata": {
    "ExecuteTime": {
     "end_time": "2020-01-08T03:39:20.271190Z",
     "start_time": "2020-01-08T03:39:20.233860Z"
    }
   },
   "outputs": [
    {
     "name": "stdout",
     "output_type": "stream",
     "text": [
      "The autoreload extension is already loaded. To reload it, use:\n",
      "  %reload_ext autoreload\n"
     ]
    }
   ],
   "source": [
    "%load_ext autoreload\n",
    "%autoreload 2"
   ]
  },
  {
   "cell_type": "code",
   "execution_count": 53,
   "metadata": {
    "ExecuteTime": {
     "end_time": "2020-01-08T04:02:22.369974Z",
     "start_time": "2020-01-08T04:02:22.354489Z"
    }
   },
   "outputs": [],
   "source": [
    "from bz2 import BZ2File\n",
    "import json\n",
    "import os\n",
    "import pickle\n",
    "\n",
    "from htools import InvalidArgumentError, debug_call, load"
   ]
  },
  {
   "cell_type": "code",
   "execution_count": 109,
   "metadata": {
    "ExecuteTime": {
     "end_time": "2020-01-08T04:32:39.306558Z",
     "start_time": "2020-01-08T04:32:39.269980Z"
    }
   },
   "outputs": [],
   "source": [
    "def validating_descriptor(func, allow_del=False):\n",
    "    \"\"\"Descriptor that performs some user-specified validation when setting \n",
    "    values. Attributes can be read as usual (i.e. no __get__ method) because \n",
    "    we put the value in the instance dictionary. Retrieval is faster this way.\n",
    "    \n",
    "    Parameters\n",
    "    ----------\n",
    "    func: function\n",
    "        Function or lambda that accepts a single parameter. This will be used\n",
    "        when attempting to set a value for the managed attribute.\n",
    "    allow_del: bool\n",
    "        If True, allow the attribute to be deleted.\n",
    "    \"\"\"\n",
    "    def descriptor(name):\n",
    "        @method.setter\n",
    "        def method(instance, val):\n",
    "            if lambda_(val):\n",
    "                instance.__dict__[name] = val\n",
    "            else:\n",
    "                raise ValueError(f'Invalid value {val} for argument {name}.')\n",
    "        if allow_del:\n",
    "            @method.deleter\n",
    "            def method(instance):\n",
    "                del instance.__dict__[name]\n",
    "        return method\n",
    "    return descriptor"
   ]
  },
  {
   "cell_type": "code",
   "execution_count": 7,
   "metadata": {
    "ExecuteTime": {
     "end_time": "2020-01-08T03:39:34.748703Z",
     "start_time": "2020-01-08T03:39:34.716028Z"
    }
   },
   "outputs": [
    {
     "data": {
      "text/plain": [
       "'a=1, b=2'"
      ]
     },
     "execution_count": 7,
     "metadata": {},
     "output_type": "execute_result"
    }
   ],
   "source": [
    "d = dict(a=1, b=2)\n",
    "'a={a}, b={b}'.format_map(d)"
   ]
  },
  {
   "cell_type": "code",
   "execution_count": 8,
   "metadata": {
    "ExecuteTime": {
     "end_time": "2020-01-08T03:39:37.669371Z",
     "start_time": "2020-01-08T03:39:37.523949Z"
    }
   },
   "outputs": [
    {
     "name": "stdout",
     "output_type": "stream",
     "text": [
      "d.pkl          lines100.txt   model_e1.pth   \u001b[34mnew\u001b[m\u001b[m/\n",
      "d.zip          lines5000.txt  model_e2.pth\n"
     ]
    }
   ],
   "source": [
    "ls ../data"
   ]
  },
  {
   "cell_type": "code",
   "execution_count": 107,
   "metadata": {
    "ExecuteTime": {
     "end_time": "2020-01-08T04:26:13.161160Z",
     "start_time": "2020-01-08T04:26:13.140467Z"
    }
   },
   "outputs": [],
   "source": [
    "def _read_write_args(path, mode):\n",
    "    \"\"\"Helper for `save` and `load` functions.\n",
    "    \n",
    "    Parameters\n",
    "    ----------\n",
    "    path: str\n",
    "        Path to read/write object from/to.\n",
    "    mode: str\n",
    "        'w' for writing files (as in `save`), 'r' for reading files \n",
    "        (as in `load`).\n",
    "    \n",
    "    Returns\n",
    "    -------\n",
    "    tuple: Function to open file, mode to open file with (str), object to open\n",
    "        file with.\n",
    "    \"\"\"\n",
    "    ext = path.rpartition('.')[-1]\n",
    "    if ext not in {'json', 'pkl', 'zip'}:\n",
    "        raise InvalidArgumentError(\n",
    "            'Invalid extension. Make sure your filename ends with .json, '\n",
    "            '.pkl, or .zip.'\n",
    "        )\n",
    "        \n",
    "    # Store in dict to make it easier to add additional formats in future.\n",
    "    ext2data = {'pkl': (open, 'b', pickle), \n",
    "                'zip': (BZ2File, '', pickle), \n",
    "                'json': (open, '', json)}\n",
    "    opener, mode_suffix, saver = ext2data[ext]\n",
    "    return opener, mode + mode_suffix, saver"
   ]
  },
  {
   "cell_type": "code",
   "execution_count": 77,
   "metadata": {
    "ExecuteTime": {
     "end_time": "2020-01-08T04:18:45.849105Z",
     "start_time": "2020-01-08T04:18:45.830355Z"
    }
   },
   "outputs": [],
   "source": [
    "@debug_call\n",
    "def save(obj, path, verbose=True):\n",
    "    \"\"\"Wrapper to quickly save a pickled object.\n",
    "\n",
    "    Parameters\n",
    "    -----------\n",
    "    obj: any\n",
    "        Object to pickle.\n",
    "    path: str\n",
    "        File name to save pickled object to. Should end with .pkl, .zip, or \n",
    "        .json depending on desired output format. If .zip is used, object will\n",
    "        be zipped and then pickled.\n",
    "    verbose: bool\n",
    "        If True, print a message confirming that the data was pickled, along\n",
    "        with its path.\n",
    "\n",
    "    Returns\n",
    "    -------\n",
    "    None\n",
    "    \"\"\"\n",
    "    os.makedirs(os.path.dirname(path), exist_ok=True)\n",
    "    opener, mode, saver = _read_write_args(path, 'w')\n",
    "    with opener(path, mode) as f:\n",
    "        saver.dump(obj, f)\n",
    "    if verbose: print(f'Data written to {path}.')"
   ]
  },
  {
   "cell_type": "code",
   "execution_count": 105,
   "metadata": {
    "ExecuteTime": {
     "end_time": "2020-01-08T04:23:25.667806Z",
     "start_time": "2020-01-08T04:23:25.631930Z"
    }
   },
   "outputs": [],
   "source": [
    "@debug_call\n",
    "def load_v2(path, verbose=True):\n",
    "    \"\"\"Wrapper to load a pickled object.\n",
    "    \n",
    "    Parameters\n",
    "    ----------\n",
    "    path : str\n",
    "        File to load. File type will be inferred from extension.\n",
    "    verbose : bool, optional\n",
    "        If True, will print message stating where object was loaded from.\n",
    "    \n",
    "    Returns\n",
    "    -------\n",
    "    object: The Python object that was pickled to the specified file.\n",
    "    \"\"\"\n",
    "    opener, mode, saver = _read_write_args(path, 'r')\n",
    "    with opener(path, mode) as f:\n",
    "        data = saver.load(f)\n",
    "    if verbose: print(f'Object loaded from {path}.')\n",
    "    return data"
   ]
  },
  {
   "cell_type": "code",
   "execution_count": 84,
   "metadata": {
    "ExecuteTime": {
     "end_time": "2020-01-08T04:19:28.181084Z",
     "start_time": "2020-01-08T04:19:28.160316Z"
    }
   },
   "outputs": [
    {
     "name": "stdout",
     "output_type": "stream",
     "text": [
      "load_v2(path='../data/d.pkl', verbose=True)\n",
      "Object loaded from ../data/d.pkl.\n"
     ]
    },
    {
     "data": {
      "text/plain": [
       "{'a': 3, 'c': 5, 'e': 7}"
      ]
     },
     "execution_count": 84,
     "metadata": {},
     "output_type": "execute_result"
    }
   ],
   "source": [
    "load_v2(os.path.join('..', 'data', 'd.pkl'))\n",
    "d"
   ]
  },
  {
   "cell_type": "code",
   "execution_count": 89,
   "metadata": {
    "ExecuteTime": {
     "end_time": "2020-01-08T04:19:58.583811Z",
     "start_time": "2020-01-08T04:19:58.554620Z"
    }
   },
   "outputs": [
    {
     "name": "stdout",
     "output_type": "stream",
     "text": [
      "save(obj={'a': 3, 'c': 5, 'e': 7, 'z': 222}, path='../data/d2.pkl', verbose=True)\n",
      "Data written to ../data/d2.pkl.\n"
     ]
    }
   ],
   "source": [
    "d2 = d.copy()\n",
    "d2['z'] = 222\n",
    "save(d2, os.path.join('..', 'data', 'd2.pkl'))"
   ]
  },
  {
   "cell_type": "code",
   "execution_count": 90,
   "metadata": {
    "ExecuteTime": {
     "end_time": "2020-01-08T04:20:00.873193Z",
     "start_time": "2020-01-08T04:20:00.732227Z"
    }
   },
   "outputs": [
    {
     "name": "stdout",
     "output_type": "stream",
     "text": [
      "d.pkl          d2.pkl         lines100.txt   model_e1.pth   \u001b[34mnew\u001b[m\u001b[m/\n",
      "d.zip          d4.json        lines5000.txt  model_e2.pth\n"
     ]
    }
   ],
   "source": [
    "ls ../data"
   ]
  },
  {
   "cell_type": "code",
   "execution_count": 92,
   "metadata": {
    "ExecuteTime": {
     "end_time": "2020-01-08T04:20:32.687600Z",
     "start_time": "2020-01-08T04:20:32.634388Z"
    }
   },
   "outputs": [
    {
     "name": "stdout",
     "output_type": "stream",
     "text": [
      "load_v2(path='../data/d2.pkl', verbose=True)\n",
      "Object loaded from ../data/d2.pkl.\n"
     ]
    },
    {
     "data": {
      "text/plain": [
       "{'a': 3, 'c': 5, 'e': 7, 'z': 222}"
      ]
     },
     "execution_count": 92,
     "metadata": {},
     "output_type": "execute_result"
    }
   ],
   "source": [
    "d2 = load_v2(os.path.join('..', 'data', 'd2.pkl'))\n",
    "d2"
   ]
  },
  {
   "cell_type": "code",
   "execution_count": 94,
   "metadata": {
    "ExecuteTime": {
     "end_time": "2020-01-08T04:20:51.404881Z",
     "start_time": "2020-01-08T04:20:51.360346Z"
    }
   },
   "outputs": [
    {
     "data": {
      "text/plain": [
       "{'a': 3, 'c': 5, 'e': 7, 'z': 222, 'm': 999}"
      ]
     },
     "execution_count": 94,
     "metadata": {},
     "output_type": "execute_result"
    }
   ],
   "source": [
    "d3 = d2.copy()\n",
    "d3['m'] = 999\n",
    "d3"
   ]
  },
  {
   "cell_type": "code",
   "execution_count": 95,
   "metadata": {
    "ExecuteTime": {
     "end_time": "2020-01-08T04:21:01.900233Z",
     "start_time": "2020-01-08T04:21:01.836534Z"
    }
   },
   "outputs": [
    {
     "name": "stdout",
     "output_type": "stream",
     "text": [
      "save(obj={'a': 3, 'c': 5, 'e': 7, 'z': 222, 'm': 999}, path='../data/new/d3.zip', verbose=False)\n"
     ]
    }
   ],
   "source": [
    "save(d3, os.path.join('..', 'data', 'new', 'd3.zip'), False)"
   ]
  },
  {
   "cell_type": "code",
   "execution_count": 96,
   "metadata": {
    "ExecuteTime": {
     "end_time": "2020-01-08T04:21:10.902115Z",
     "start_time": "2020-01-08T04:21:10.760974Z"
    }
   },
   "outputs": [
    {
     "name": "stdout",
     "output_type": "stream",
     "text": [
      "d.zip  d3.zip\n"
     ]
    }
   ],
   "source": [
    "!ls ../data/new"
   ]
  },
  {
   "cell_type": "code",
   "execution_count": 98,
   "metadata": {
    "ExecuteTime": {
     "end_time": "2020-01-08T04:21:35.293323Z",
     "start_time": "2020-01-08T04:21:35.227826Z"
    }
   },
   "outputs": [
    {
     "name": "stdout",
     "output_type": "stream",
     "text": [
      "load_v2(path='../data/new/d3.zip', verbose=False)\n"
     ]
    },
    {
     "data": {
      "text/plain": [
       "{'a': 3, 'c': 5, 'e': 7, 'z': 222, 'm': 999}"
      ]
     },
     "execution_count": 98,
     "metadata": {},
     "output_type": "execute_result"
    }
   ],
   "source": [
    "d3 = load_v2(os.path.join('..', 'data', 'new', 'd3.zip'), False)\n",
    "d3"
   ]
  },
  {
   "cell_type": "code",
   "execution_count": 65,
   "metadata": {
    "ExecuteTime": {
     "end_time": "2020-01-08T04:05:17.396094Z",
     "start_time": "2020-01-08T04:05:17.378421Z"
    }
   },
   "outputs": [
    {
     "data": {
      "text/plain": [
       "{'a': 3, 'c': 5, 'e': 7, 'z': 222, 'm': 999, '4': 4444}"
      ]
     },
     "execution_count": 65,
     "metadata": {},
     "output_type": "execute_result"
    }
   ],
   "source": [
    "d4 = d3.copy()\n",
    "d4['4'] = 4444\n",
    "d4"
   ]
  },
  {
   "cell_type": "code",
   "execution_count": 101,
   "metadata": {
    "ExecuteTime": {
     "end_time": "2020-01-08T04:22:32.762992Z",
     "start_time": "2020-01-08T04:22:32.724603Z"
    }
   },
   "outputs": [
    {
     "name": "stdout",
     "output_type": "stream",
     "text": [
      "save(obj={'a': 3, 'c': 5, 'e': 7, 'z': 222, 'm': 999, '4': 4444}, path='../data/d4.json', verbose=True)\n",
      "Data written to ../data/d4.json.\n"
     ]
    }
   ],
   "source": [
    "save(d4, os.path.join('..', 'data', 'd4.json'))"
   ]
  },
  {
   "cell_type": "code",
   "execution_count": 103,
   "metadata": {
    "ExecuteTime": {
     "end_time": "2020-01-08T04:23:02.640770Z",
     "start_time": "2020-01-08T04:23:02.606118Z"
    }
   },
   "outputs": [
    {
     "name": "stdout",
     "output_type": "stream",
     "text": [
      "load_v2(path='../data/d4.json', verbose=True)\n",
      "Object loaded from ../data/d4.json.\n"
     ]
    },
    {
     "data": {
      "text/plain": [
       "{'a': 3, 'c': 5, 'e': 7, 'z': 222, 'm': 999, '4': 4444}"
      ]
     },
     "execution_count": 103,
     "metadata": {},
     "output_type": "execute_result"
    }
   ],
   "source": [
    "d4_ = load_v2(os.path.join('..', 'data', 'd4.json'))\n",
    "d4_"
   ]
  },
  {
   "cell_type": "code",
   "execution_count": 104,
   "metadata": {
    "ExecuteTime": {
     "end_time": "2020-01-08T04:23:06.010993Z",
     "start_time": "2020-01-08T04:23:05.994298Z"
    }
   },
   "outputs": [
    {
     "data": {
      "text/plain": [
       "True"
      ]
     },
     "execution_count": 104,
     "metadata": {},
     "output_type": "execute_result"
    }
   ],
   "source": [
    "d4 == d4_"
   ]
  },
  {
   "cell_type": "markdown",
   "metadata": {},
   "source": [
    "## Timing gencomps vs. listcomps"
   ]
  },
  {
   "cell_type": "code",
   "execution_count": 113,
   "metadata": {},
   "outputs": [],
   "source": [
    "from htools import magics"
   ]
  },
  {
   "cell_type": "code",
   "execution_count": 114,
   "metadata": {},
   "outputs": [],
   "source": [
    "def process_listcomps(n):\n",
    "    arr = [i for i in range(n)]\n",
    "    arr = [str(x) for x in arr]\n",
    "    arr = [x*2 for x in arr]\n",
    "    arr = [x.upper() for x in arr]\n",
    "    arr = [x[:1] for x in arr]\n",
    "    return arr"
   ]
  },
  {
   "cell_type": "code",
   "execution_count": 115,
   "metadata": {},
   "outputs": [],
   "source": [
    "def process_gencomps(n):\n",
    "    arr = (i for i in range(n))\n",
    "    arr = (str(x) for x in arr)\n",
    "    arr = (x*2 for x in arr)\n",
    "    arr = (x.upper() for x in arr)\n",
    "    arr = (x[:1] for x in arr)\n",
    "    return list(arr)"
   ]
  },
  {
   "cell_type": "code",
   "execution_count": 119,
   "metadata": {},
   "outputs": [
    {
     "name": "stdout",
     "output_type": "stream",
     "text": [
      "3.17 s ± 312 µs per loop (mean ± std. dev. of 2 runs, 2 loops each)\n",
      "3.27 s ± 277 ms per loop (mean ± std. dev. of 2 runs, 2 loops each)\n"
     ]
    }
   ],
   "source": [
    "%%race -n 2 -r 2\n",
    "_ = process_listcomps(5_000_000)\n",
    "_ = process_gencomps(5_000_000)"
   ]
  },
  {
   "cell_type": "code",
   "execution_count": null,
   "metadata": {},
   "outputs": [],
   "source": []
  }
 ],
 "metadata": {
  "kernelspec": {
   "display_name": "Python 3",
   "language": "python",
   "name": "python3"
  },
  "language_info": {
   "codemirror_mode": {
    "name": "ipython",
    "version": 3
   },
   "file_extension": ".py",
   "mimetype": "text/x-python",
   "name": "python",
   "nbconvert_exporter": "python",
   "pygments_lexer": "ipython3",
   "version": "3.7.3"
  }
 },
 "nbformat": 4,
 "nbformat_minor": 4
}
