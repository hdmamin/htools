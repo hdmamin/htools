{
 "cells": [
  {
   "cell_type": "code",
   "execution_count": 1,
   "metadata": {},
   "outputs": [],
   "source": [
    "import logging\n",
    "import os\n",
    "import sys\n",
    "\n",
    "from htools import *"
   ]
  },
  {
   "cell_type": "code",
   "execution_count": 41,
   "metadata": {},
   "outputs": [],
   "source": [
    "class LoggerMixin:\n",
    "    \"\"\"Mixin class that configures and returns a logger.\n",
    "    \n",
    "    Examples\n",
    "    --------\n",
    "    class Foo(LoggerMixin):\n",
    "    \n",
    "        def __init__(self, a, log_file):\n",
    "            self.a = a\n",
    "            self.log_file = log_file\n",
    "            self.logger = self.get_logger(log_file)\n",
    "        \n",
    "        def walk(self, location):\n",
    "            self.logger.info(f'walk received argument {location}')\n",
    "            return f'walking to {location}'\n",
    "    \"\"\"\n",
    "    \n",
    "    def get_logger(self, fname=None, fmode='a', level='info', \n",
    "                   fmt='%(asctime)s [%(levelname)s]: %(message)s'):\n",
    "        \"\"\"\n",
    "        Parameters\n",
    "        ----------\n",
    "        fname: str or None\n",
    "            If provided, this will be the path the logger writes to. \n",
    "            If left as None, logging will only be to stdout.\n",
    "        fmode: str\n",
    "            Logging mode when using a log file. Default 'a' for \n",
    "            'append'. 'w' will overwrite the previously logged messages.\n",
    "        level: str\n",
    "            Minimum level necessary to log messages. \n",
    "            One of ('debug', 'info', 'warning', 'error')\n",
    "        fmt: str\n",
    "            Format that will be used for logging messages. The logging \n",
    "            module has a specific \n",
    "            \n",
    "        Returns\n",
    "        -------\n",
    "        logging.logger\n",
    "        \"\"\"\n",
    "\n",
    "        # When working in Jupyter, need to reset handlers.\n",
    "        # Otherwise every time we run a cell creating an \n",
    "        # instance of the logged class, the list of handlers will grow.\n",
    "        logger = logging.getLogger(type(self).__name__)\n",
    "        logger.handlers.clear()\n",
    "        logger.setLevel(getattr(logging, level.upper()))\n",
    "        \n",
    "        # handler.basicConfig() doesn't work in Jupyter..\n",
    "        formatter = logging.Formatter(fmt)\n",
    "        handlers = [logging.StreamHandler(sys.stdout)]\n",
    "        if fname: \n",
    "            handlers.append(logging.FileHandler(fname, fmode))\n",
    "        for handler in handlers:\n",
    "            handler.setFormatter(formatter)\n",
    "            logger.addHandler(handler)\n",
    "        \n",
    "        return logger"
   ]
  },
  {
   "cell_type": "code",
   "execution_count": 25,
   "metadata": {},
   "outputs": [],
   "source": [
    "@auto_repr\n",
    "class Foo(LoggerMixin):\n",
    "    \n",
    "    def __init__(self, a, log_file=None):\n",
    "        self.a = a\n",
    "        self.log_file = log_file\n",
    "        self.logger = self.get_logger(log_file)\n",
    "        \n",
    "    def walk(self, b):\n",
    "        self.logger.info(f'logger msg {b}')\n",
    "        return f'WALKING {self.a}, {b}'"
   ]
  },
  {
   "cell_type": "code",
   "execution_count": 32,
   "metadata": {},
   "outputs": [
    {
     "data": {
      "text/plain": [
       "Foo(a=[3, 4, 5], log_file='../data/foo.log')"
      ]
     },
     "execution_count": 32,
     "metadata": {},
     "output_type": "execute_result"
    }
   ],
   "source": [
    "f = Foo([3, 4, 5], os.path.join('..', 'data', 'foo.log'))\n",
    "f"
   ]
  },
  {
   "cell_type": "code",
   "execution_count": 33,
   "metadata": {},
   "outputs": [
    {
     "name": "stdout",
     "output_type": "stream",
     "text": [
      "2020-02-01 09:58:50,187 [INFO]: logger msg 6\n"
     ]
    }
   ],
   "source": [
    "_ = f.walk(6)"
   ]
  },
  {
   "cell_type": "code",
   "execution_count": 34,
   "metadata": {},
   "outputs": [
    {
     "name": "stdout",
     "output_type": "stream",
     "text": [
      "2020-02-01 09:58:50,187 [INFO]: logger msg 6\n"
     ]
    }
   ],
   "source": [
    "!cat ../data/foo.log"
   ]
  },
  {
   "cell_type": "code",
   "execution_count": 35,
   "metadata": {},
   "outputs": [
    {
     "name": "stdout",
     "output_type": "stream",
     "text": [
      "2020-02-01 09:58:50,941 [INFO]: logger msg 11\n"
     ]
    },
    {
     "data": {
      "text/plain": [
       "'WALKING [3, 4, 5], 11'"
      ]
     },
     "execution_count": 35,
     "metadata": {},
     "output_type": "execute_result"
    }
   ],
   "source": [
    "f.walk(11)"
   ]
  },
  {
   "cell_type": "code",
   "execution_count": 36,
   "metadata": {},
   "outputs": [
    {
     "name": "stdout",
     "output_type": "stream",
     "text": [
      "2020-02-01 09:58:50,187 [INFO]: logger msg 6\n",
      "2020-02-01 09:58:50,941 [INFO]: logger msg 11\n"
     ]
    }
   ],
   "source": [
    "!cat ../data/foo.log"
   ]
  },
  {
   "cell_type": "code",
   "execution_count": 37,
   "metadata": {},
   "outputs": [],
   "source": [
    "f = Foo([9])"
   ]
  },
  {
   "cell_type": "code",
   "execution_count": 38,
   "metadata": {},
   "outputs": [
    {
     "name": "stdout",
     "output_type": "stream",
     "text": [
      "2020-02-01 09:59:12,566 [INFO]: logger msg 100\n"
     ]
    },
    {
     "data": {
      "text/plain": [
       "'WALKING [9], 100'"
      ]
     },
     "execution_count": 38,
     "metadata": {},
     "output_type": "execute_result"
    }
   ],
   "source": [
    "f.walk(100)"
   ]
  },
  {
   "cell_type": "code",
   "execution_count": 39,
   "metadata": {},
   "outputs": [
    {
     "name": "stdout",
     "output_type": "stream",
     "text": [
      "2020-02-01 09:58:50,187 [INFO]: logger msg 6\n",
      "2020-02-01 09:58:50,941 [INFO]: logger msg 11\n"
     ]
    }
   ],
   "source": [
    "!cat ../data/foo.log"
   ]
  },
  {
   "cell_type": "code",
   "execution_count": null,
   "metadata": {},
   "outputs": [],
   "source": []
  }
 ],
 "metadata": {
  "kernelspec": {
   "display_name": "Python 3",
   "language": "python",
   "name": "python3"
  },
  "language_info": {
   "codemirror_mode": {
    "name": "ipython",
    "version": 3
   },
   "file_extension": ".py",
   "mimetype": "text/x-python",
   "name": "python",
   "nbconvert_exporter": "python",
   "pygments_lexer": "ipython3",
   "version": "3.7.3"
  }
 },
 "nbformat": 4,
 "nbformat_minor": 4
}
