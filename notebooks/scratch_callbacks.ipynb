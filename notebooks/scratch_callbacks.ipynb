{
 "cells": [
  {
   "cell_type": "code",
   "execution_count": 140,
   "metadata": {},
   "outputs": [],
   "source": [
    "from abc import ABC, abstractmethod\n",
    "from functools import partial, wraps\n",
    "import inspect\n",
    "import numpy as np\n",
    "\n",
    "from htools import debug_call"
   ]
  },
  {
   "cell_type": "code",
   "execution_count": 294,
   "metadata": {},
   "outputs": [],
   "source": [
    "def debug(func=None, prefix='', arguments=True):\n",
    "    if not func: \n",
    "        if prefix: prefix += ' '\n",
    "        return partial(debug, prefix=prefix, arguments=arguments)\n",
    "    \n",
    "    @wraps(func)\n",
    "    def wrapper(*args, **kwargs):\n",
    "        out_fmt = '\\n{}CALLING {}({})'\n",
    "        arg_strs = ''\n",
    "        if arguments:\n",
    "            sig = inspect.signature(wrapper).bind_partial(*args, **kwargs)\n",
    "            sig.apply_defaults()\n",
    "            sig.arguments.update(sig.arguments.pop('kwargs', {}))\n",
    "            arg_strs = (f'{k}={repr(v)}' for k, v in sig.arguments.items())\n",
    "            \n",
    "        # Print call message and return output.\n",
    "        print(out_fmt.format(prefix, func.__qualname__, ', '.join(arg_strs)))\n",
    "        return func(*args, **kwargs)\n",
    "    \n",
    "    return wrapper"
   ]
  },
  {
   "cell_type": "code",
   "execution_count": 296,
   "metadata": {},
   "outputs": [],
   "source": [
    "class Callback(ABC):\n",
    "    \"\"\"Abstract base class for callback objects to be passed to @callbacks\n",
    "    decorator. Children must implement on_begin and on_end methods. Both should\n",
    "    accept the decorated function's inputs and output as arguments\n",
    "    \n",
    "    Often, we may want to use the @debug decorator on one or both of these\n",
    "    methods. If both methods should perform the same steps, one shortcut\n",
    "    is to implement a single undecorated __call__ method, then have the\n",
    "    debug-decorated on_begin and on_end methods return self(inputs, output).\n",
    "    \"\"\"\n",
    "    \n",
    "    @abstractmethod\n",
    "    def on_begin(self, inputs, output=None):\n",
    "        \"\"\"\n",
    "        Parameters\n",
    "        -------------\n",
    "        inputs: dict\n",
    "            Dictionary of bound arguments passed to the function being \n",
    "            decorated with @callbacks.\n",
    "        output: any\n",
    "            Callbacks to be executed after the function call can pass the \n",
    "            function output to the callback. The default None value will remain\n",
    "            for callbacks that execute before the function.\n",
    "        \"\"\"\n",
    "    \n",
    "    @abstractmethod\n",
    "    def on_end(self, inputs, output=None):\n",
    "        \"\"\"\n",
    "        Parameters\n",
    "        -------------\n",
    "        inputs: dict\n",
    "            Dictionary of bound arguments passed to the function being \n",
    "            decorated with @callbacks.\n",
    "        output: any\n",
    "            Callbacks to be executed after the function call can pass the \n",
    "            function output to the callback. The default None value will remain\n",
    "            for callbacks that execute before the function.\n",
    "        \"\"\"\n",
    "\n",
    "    def __repr__(self):\n",
    "        return f'{type(self).__name__}()'"
   ]
  },
  {
   "cell_type": "code",
   "execution_count": 315,
   "metadata": {},
   "outputs": [],
   "source": [
    "def callbacks(cbs):\n",
    "    \"\"\"Decorator that attaches callbacks to a function. Callbacks should be\n",
    "    defined as classes inheriting from abstract base class Callback that \n",
    "    implement a __call__ method. This allows us to store states\n",
    "    rather than just printing outputs or relying on global vars.\n",
    "\n",
    "    Parameters\n",
    "    ----------\n",
    "    cbs: list\n",
    "        List of callbacks to execute before and after the decorated function.\n",
    "\n",
    "    Examples\n",
    "    --------\n",
    "    @callbacks([PrintHyperparameters(), PlotActivationHist(),\n",
    "                ActivationMeans(), PrintOutput()])\n",
    "    def train_one_epoch(**kwargs):\n",
    "        # Train model.\n",
    "    \"\"\"\n",
    "    def decorator(func):\n",
    "        @wraps(func)\n",
    "        def wrapper(*args, **kwargs):\n",
    "            bound = inspect.signature(func).bind_partial(*args, **kwargs)\n",
    "            bound.apply_defaults()\n",
    "            for cb in cbs:\n",
    "                cb.on_begin(bound.arguments, None)\n",
    "            out = func(*args, **kwargs)\n",
    "            for cb in cbs:\n",
    "                cb.on_end(bound.arguments, out)\n",
    "            return out\n",
    "        return wrapper\n",
    "    return decorator"
   ]
  },
  {
   "cell_type": "code",
   "execution_count": 298,
   "metadata": {},
   "outputs": [],
   "source": [
    "class PrintOutputCallback(Callback):\n",
    "    \n",
    "    def __init__(self):\n",
    "        pass\n",
    "    \n",
    "    def on_begin(self, inputs, output):\n",
    "        pass\n",
    "    \n",
    "    @debug\n",
    "    def on_end(self, inputs, output):\n",
    "        print(output)"
   ]
  },
  {
   "cell_type": "code",
   "execution_count": 314,
   "metadata": {},
   "outputs": [],
   "source": [
    "class StdCallback(Callback):\n",
    "    \"\"\"Notice in this example we're calculating std of inputs, not outputs.\n",
    "    That's why on_begin prints a new value but on_end prints the same as the \n",
    "    previous on_begin call.\n",
    "    \"\"\"\n",
    "    \n",
    "    def __init__(self):\n",
    "        pass\n",
    "\n",
    "    @debug(prefix='>'*2, arguments=True)\n",
    "    def on_begin(self, inputs, output):\n",
    "        return self(inputs, output)\n",
    "    \n",
    "    @debug(prefix='>'*8, arguments=False)\n",
    "    def on_end(self, inputs, output):\n",
    "        return self(inputs, output)\n",
    "        \n",
    "    def __call__(self, inputs, output):\n",
    "        print(np.std(inputs['nums']))"
   ]
  },
  {
   "cell_type": "code",
   "execution_count": 310,
   "metadata": {},
   "outputs": [],
   "source": [
    "@callbacks([PrintOutputCallback(),\n",
    "            StdCallback()])\n",
    "def foo(nums, a=6, **kwargs):\n",
    "    print('kwargs', kwargs)\n",
    "    return [n * a for n in nums]"
   ]
  },
  {
   "cell_type": "code",
   "execution_count": 311,
   "metadata": {},
   "outputs": [
    {
     "name": "stdout",
     "output_type": "stream",
     "text": [
      "\n",
      ">> CALLING StdCallback.on_begin(self=StdCallback(), inputs=OrderedDict([('nums', [3, 4, 5]), ('a', 1), ('kwargs', {'c': True, 'd': 'd'})]), output=None)\n",
      "0.816496580927726\n",
      "kwargs {'c': True, 'd': 'd'}\n",
      "\n",
      "CALLING PrintOutputCallback.on_end(self=PrintOutputCallback(), inputs=OrderedDict([('nums', [3, 4, 5]), ('a', 1), ('kwargs', {'c': True, 'd': 'd'})]), output=[3, 4, 5])\n",
      "[3, 4, 5]\n",
      "\n",
      ">>>>>>>> CALLING StdCallback.on_end()\n",
      "0.816496580927726\n",
      "\n",
      ">> CALLING StdCallback.on_begin(self=StdCallback(), inputs=OrderedDict([('nums', [3, 4, 5]), ('a', 2), ('kwargs', {'c': True, 'd': 'd'})]), output=None)\n",
      "0.816496580927726\n",
      "kwargs {'c': True, 'd': 'd'}\n",
      "\n",
      "CALLING PrintOutputCallback.on_end(self=PrintOutputCallback(), inputs=OrderedDict([('nums', [3, 4, 5]), ('a', 2), ('kwargs', {'c': True, 'd': 'd'})]), output=[6, 8, 10])\n",
      "[6, 8, 10]\n",
      "\n",
      ">>>>>>>> CALLING StdCallback.on_end()\n",
      "0.816496580927726\n",
      "\n",
      ">> CALLING StdCallback.on_begin(self=StdCallback(), inputs=OrderedDict([('nums', [6, 8, 10]), ('a', 3), ('kwargs', {'c': True, 'd': 'd'})]), output=None)\n",
      "1.632993161855452\n",
      "kwargs {'c': True, 'd': 'd'}\n",
      "\n",
      "CALLING PrintOutputCallback.on_end(self=PrintOutputCallback(), inputs=OrderedDict([('nums', [6, 8, 10]), ('a', 3), ('kwargs', {'c': True, 'd': 'd'})]), output=[18, 24, 30])\n",
      "[18, 24, 30]\n",
      "\n",
      ">>>>>>>> CALLING StdCallback.on_end()\n",
      "1.632993161855452\n",
      "\n",
      ">> CALLING StdCallback.on_begin(self=StdCallback(), inputs=OrderedDict([('nums', [18, 24, 30]), ('a', 4), ('kwargs', {'c': True, 'd': 'd'})]), output=None)\n",
      "4.898979485566356\n",
      "kwargs {'c': True, 'd': 'd'}\n",
      "\n",
      "CALLING PrintOutputCallback.on_end(self=PrintOutputCallback(), inputs=OrderedDict([('nums', [18, 24, 30]), ('a', 4), ('kwargs', {'c': True, 'd': 'd'})]), output=[72, 96, 120])\n",
      "[72, 96, 120]\n",
      "\n",
      ">>>>>>>> CALLING StdCallback.on_end()\n",
      "4.898979485566356\n"
     ]
    }
   ],
   "source": [
    "nums = [3,4,5]\n",
    "for i in range(1, 5):\n",
    "    nums = foo(nums, i, c=True, d='d')"
   ]
  },
  {
   "cell_type": "code",
   "execution_count": 302,
   "metadata": {},
   "outputs": [
    {
     "data": {
      "text/plain": [
       "4.898979485566356"
      ]
     },
     "execution_count": 302,
     "metadata": {},
     "output_type": "execute_result"
    }
   ],
   "source": [
    "np.std((18, 24, 30))"
   ]
  }
 ],
 "metadata": {
  "kernelspec": {
   "display_name": "Python 3",
   "language": "python",
   "name": "python3"
  },
  "language_info": {
   "codemirror_mode": {
    "name": "ipython",
    "version": 3
   },
   "file_extension": ".py",
   "mimetype": "text/x-python",
   "name": "python",
   "nbconvert_exporter": "python",
   "pygments_lexer": "ipython3",
   "version": "3.7.3"
  }
 },
 "nbformat": 4,
 "nbformat_minor": 4
}
