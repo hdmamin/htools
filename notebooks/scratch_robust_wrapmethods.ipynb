{
 "cells": [
  {
   "cell_type": "code",
   "execution_count": 1,
   "metadata": {
    "ExecuteTime": {
     "end_time": "2020-04-18T23:33:51.930583Z",
     "start_time": "2020-04-18T23:33:51.900106Z"
    }
   },
   "outputs": [],
   "source": [
    "%load_ext autoreload\n",
    "%autoreload 2"
   ]
  },
  {
   "cell_type": "code",
   "execution_count": 2,
   "metadata": {
    "ExecuteTime": {
     "end_time": "2020-04-18T23:33:52.117279Z",
     "start_time": "2020-04-18T23:33:52.078373Z"
    }
   },
   "outputs": [],
   "source": [
    "from htools import *"
   ]
  },
  {
   "cell_type": "code",
   "execution_count": 3,
   "metadata": {
    "ExecuteTime": {
     "end_time": "2020-04-18T23:33:52.555581Z",
     "start_time": "2020-04-18T23:33:52.532111Z"
    }
   },
   "outputs": [
    {
     "data": {
      "text/plain": [
       "{'capitalize': 'method',\n",
       " 'casefold': 'method',\n",
       " 'center': 'method',\n",
       " 'count': 'method',\n",
       " 'encode': 'method',\n",
       " 'endswith': 'method',\n",
       " 'expandtabs': 'method',\n",
       " 'find': 'method',\n",
       " 'format': 'method',\n",
       " 'format_map': 'method',\n",
       " 'index': 'method',\n",
       " 'isalnum': 'method',\n",
       " 'isalpha': 'method',\n",
       " 'isascii': 'method',\n",
       " 'isdecimal': 'method',\n",
       " 'isdigit': 'method',\n",
       " 'isidentifier': 'method',\n",
       " 'islower': 'method',\n",
       " 'isnumeric': 'method',\n",
       " 'isprintable': 'method',\n",
       " 'isspace': 'method',\n",
       " 'istitle': 'method',\n",
       " 'isupper': 'method',\n",
       " 'join': 'method',\n",
       " 'ljust': 'method',\n",
       " 'lower': 'method',\n",
       " 'lstrip': 'method',\n",
       " 'maketrans': 'method',\n",
       " 'partition': 'method',\n",
       " 'replace': 'method',\n",
       " 'rfind': 'method',\n",
       " 'rindex': 'method',\n",
       " 'rjust': 'method',\n",
       " 'rpartition': 'method',\n",
       " 'rsplit': 'method',\n",
       " 'rstrip': 'method',\n",
       " 'split': 'method',\n",
       " 'splitlines': 'method',\n",
       " 'startswith': 'method',\n",
       " 'strip': 'method',\n",
       " 'swapcase': 'method',\n",
       " 'title': 'method',\n",
       " 'translate': 'method',\n",
       " 'upper': 'method',\n",
       " 'zfill': 'method'}"
      ]
     },
     "execution_count": 3,
     "metadata": {},
     "output_type": "execute_result"
    }
   ],
   "source": [
    "hdir('a')"
   ]
  },
  {
   "cell_type": "code",
   "execution_count": 4,
   "metadata": {
    "ExecuteTime": {
     "end_time": "2020-04-18T23:33:52.874035Z",
     "start_time": "2020-04-18T23:33:52.855756Z"
    }
   },
   "outputs": [
    {
     "name": "stderr",
     "output_type": "stream",
     "text": [
      "UsageError: Cell magic `%%lax` not found.\n"
     ]
    }
   ],
   "source": [
    "%%lax\n",
    "a"
   ]
  },
  {
   "cell_type": "code",
   "execution_count": 5,
   "metadata": {
    "ExecuteTime": {
     "end_time": "2020-04-18T23:33:53.075057Z",
     "start_time": "2020-04-18T23:33:53.044392Z"
    }
   },
   "outputs": [],
   "source": [
    "from htools import magics"
   ]
  },
  {
   "cell_type": "code",
   "execution_count": 6,
   "metadata": {
    "ExecuteTime": {
     "end_time": "2020-04-18T23:33:53.263686Z",
     "start_time": "2020-04-18T23:33:53.221818Z"
    }
   },
   "outputs": [],
   "source": [
    "%%mute\n",
    "3"
   ]
  },
  {
   "cell_type": "code",
   "execution_count": 7,
   "metadata": {
    "ExecuteTime": {
     "end_time": "2020-04-18T23:33:53.483508Z",
     "start_time": "2020-04-18T23:33:53.443389Z"
    }
   },
   "outputs": [
    {
     "data": {
      "text/plain": [
       "4"
      ]
     },
     "execution_count": 7,
     "metadata": {},
     "output_type": "execute_result"
    }
   ],
   "source": [
    "%%hush\n",
    "3\n",
    "4"
   ]
  },
  {
   "cell_type": "code",
   "execution_count": 8,
   "metadata": {
    "ExecuteTime": {
     "end_time": "2020-04-18T23:33:54.451646Z",
     "start_time": "2020-04-18T23:33:53.622555Z"
    }
   },
   "outputs": [],
   "source": [
    "import numpy as np\n",
    "import pandas as pd"
   ]
  },
  {
   "cell_type": "code",
   "execution_count": 12,
   "metadata": {
    "ExecuteTime": {
     "end_time": "2020-04-18T23:34:09.840527Z",
     "start_time": "2020-04-18T23:34:09.793683Z"
    }
   },
   "outputs": [
    {
     "data": {
      "text/html": [
       "<div>\n",
       "<style scoped>\n",
       "    .dataframe tbody tr th:only-of-type {\n",
       "        vertical-align: middle;\n",
       "    }\n",
       "\n",
       "    .dataframe tbody tr th {\n",
       "        vertical-align: top;\n",
       "    }\n",
       "\n",
       "    .dataframe thead th {\n",
       "        text-align: right;\n",
       "    }\n",
       "</style>\n",
       "<table border=\"1\" class=\"dataframe\">\n",
       "  <thead>\n",
       "    <tr style=\"text-align: right;\">\n",
       "      <th></th>\n",
       "      <th>a</th>\n",
       "      <th>b</th>\n",
       "      <th>c</th>\n",
       "      <th>d</th>\n",
       "    </tr>\n",
       "  </thead>\n",
       "  <tbody>\n",
       "    <tr>\n",
       "      <th>0</th>\n",
       "      <td>0</td>\n",
       "      <td>1</td>\n",
       "      <td>2</td>\n",
       "      <td>3</td>\n",
       "    </tr>\n",
       "    <tr>\n",
       "      <th>1</th>\n",
       "      <td>4</td>\n",
       "      <td>5</td>\n",
       "      <td>6</td>\n",
       "      <td>7</td>\n",
       "    </tr>\n",
       "    <tr>\n",
       "      <th>2</th>\n",
       "      <td>8</td>\n",
       "      <td>9</td>\n",
       "      <td>10</td>\n",
       "      <td>11</td>\n",
       "    </tr>\n",
       "    <tr>\n",
       "      <th>3</th>\n",
       "      <td>12</td>\n",
       "      <td>13</td>\n",
       "      <td>14</td>\n",
       "      <td>15</td>\n",
       "    </tr>\n",
       "    <tr>\n",
       "      <th>4</th>\n",
       "      <td>16</td>\n",
       "      <td>17</td>\n",
       "      <td>18</td>\n",
       "      <td>19</td>\n",
       "    </tr>\n",
       "    <tr>\n",
       "      <th>5</th>\n",
       "      <td>20</td>\n",
       "      <td>21</td>\n",
       "      <td>22</td>\n",
       "      <td>23</td>\n",
       "    </tr>\n",
       "    <tr>\n",
       "      <th>6</th>\n",
       "      <td>24</td>\n",
       "      <td>25</td>\n",
       "      <td>26</td>\n",
       "      <td>27</td>\n",
       "    </tr>\n",
       "    <tr>\n",
       "      <th>7</th>\n",
       "      <td>28</td>\n",
       "      <td>29</td>\n",
       "      <td>30</td>\n",
       "      <td>31</td>\n",
       "    </tr>\n",
       "    <tr>\n",
       "      <th>8</th>\n",
       "      <td>32</td>\n",
       "      <td>33</td>\n",
       "      <td>34</td>\n",
       "      <td>35</td>\n",
       "    </tr>\n",
       "  </tbody>\n",
       "</table>\n",
       "</div>"
      ],
      "text/plain": [
       "    a   b   c   d\n",
       "0   0   1   2   3\n",
       "1   4   5   6   7\n",
       "2   8   9  10  11\n",
       "3  12  13  14  15\n",
       "4  16  17  18  19\n",
       "5  20  21  22  23\n",
       "6  24  25  26  27\n",
       "7  28  29  30  31\n",
       "8  32  33  34  35"
      ]
     },
     "execution_count": 12,
     "metadata": {},
     "output_type": "execute_result"
    }
   ],
   "source": [
    "df = pd.DataFrame(np.arange(36).reshape(9, 4), columns=list('abcd'))\n",
    "df"
   ]
  },
  {
   "cell_type": "code",
   "execution_count": 10,
   "metadata": {
    "ExecuteTime": {
     "end_time": "2020-04-18T23:33:54.663162Z",
     "start_time": "2020-04-18T23:33:54.489732Z"
    }
   },
   "outputs": [
    {
     "ename": "AttributeError",
     "evalue": "'DataFrame' object has no attribute 'ends'",
     "output_type": "error",
     "traceback": [
      "\u001b[0;31m---------------------------------------------------------------------------\u001b[0m",
      "\u001b[0;31mAttributeError\u001b[0m                            Traceback (most recent call last)",
      "\u001b[0;32m<ipython-input-10-c5dcc82f97f1>\u001b[0m in \u001b[0;36m<module>\u001b[0;34m\u001b[0m\n\u001b[0;32m----> 1\u001b[0;31m \u001b[0mdf\u001b[0m\u001b[0;34m.\u001b[0m\u001b[0mends\u001b[0m\u001b[0;34m(\u001b[0m\u001b[0;34m)\u001b[0m\u001b[0;34m\u001b[0m\u001b[0;34m\u001b[0m\u001b[0m\n\u001b[0m",
      "\u001b[0;32m~/anaconda3/lib/python3.7/site-packages/pandas/core/generic.py\u001b[0m in \u001b[0;36m__getattr__\u001b[0;34m(self, name)\u001b[0m\n\u001b[1;32m   5177\u001b[0m             \u001b[0;32mif\u001b[0m \u001b[0mself\u001b[0m\u001b[0;34m.\u001b[0m\u001b[0m_info_axis\u001b[0m\u001b[0;34m.\u001b[0m\u001b[0m_can_hold_identifiers_and_holds_name\u001b[0m\u001b[0;34m(\u001b[0m\u001b[0mname\u001b[0m\u001b[0;34m)\u001b[0m\u001b[0;34m:\u001b[0m\u001b[0;34m\u001b[0m\u001b[0;34m\u001b[0m\u001b[0m\n\u001b[1;32m   5178\u001b[0m                 \u001b[0;32mreturn\u001b[0m \u001b[0mself\u001b[0m\u001b[0;34m[\u001b[0m\u001b[0mname\u001b[0m\u001b[0;34m]\u001b[0m\u001b[0;34m\u001b[0m\u001b[0;34m\u001b[0m\u001b[0m\n\u001b[0;32m-> 5179\u001b[0;31m             \u001b[0;32mreturn\u001b[0m \u001b[0mobject\u001b[0m\u001b[0;34m.\u001b[0m\u001b[0m__getattribute__\u001b[0m\u001b[0;34m(\u001b[0m\u001b[0mself\u001b[0m\u001b[0;34m,\u001b[0m \u001b[0mname\u001b[0m\u001b[0;34m)\u001b[0m\u001b[0;34m\u001b[0m\u001b[0;34m\u001b[0m\u001b[0m\n\u001b[0m\u001b[1;32m   5180\u001b[0m \u001b[0;34m\u001b[0m\u001b[0m\n\u001b[1;32m   5181\u001b[0m     \u001b[0;32mdef\u001b[0m \u001b[0m__setattr__\u001b[0m\u001b[0;34m(\u001b[0m\u001b[0mself\u001b[0m\u001b[0;34m,\u001b[0m \u001b[0mname\u001b[0m\u001b[0;34m,\u001b[0m \u001b[0mvalue\u001b[0m\u001b[0;34m)\u001b[0m\u001b[0;34m:\u001b[0m\u001b[0;34m\u001b[0m\u001b[0;34m\u001b[0m\u001b[0m\n",
      "\u001b[0;31mAttributeError\u001b[0m: 'DataFrame' object has no attribute 'ends'"
     ]
    }
   ],
   "source": [
    "df.ends()"
   ]
  },
  {
   "cell_type": "code",
   "execution_count": 11,
   "metadata": {
    "ExecuteTime": {
     "end_time": "2020-04-18T23:33:59.657648Z",
     "start_time": "2020-04-18T23:33:58.730177Z"
    }
   },
   "outputs": [],
   "source": [
    "from htools import pd_tools"
   ]
  },
  {
   "cell_type": "code",
   "execution_count": 14,
   "metadata": {
    "ExecuteTime": {
     "end_time": "2020-04-18T23:34:17.694029Z",
     "start_time": "2020-04-18T23:34:17.649121Z"
    }
   },
   "outputs": [
    {
     "data": {
      "text/html": [
       "<div>\n",
       "<style scoped>\n",
       "    .dataframe tbody tr th:only-of-type {\n",
       "        vertical-align: middle;\n",
       "    }\n",
       "\n",
       "    .dataframe tbody tr th {\n",
       "        vertical-align: top;\n",
       "    }\n",
       "\n",
       "    .dataframe thead th {\n",
       "        text-align: right;\n",
       "    }\n",
       "</style>\n",
       "<table border=\"1\" class=\"dataframe\">\n",
       "  <thead>\n",
       "    <tr style=\"text-align: right;\">\n",
       "      <th></th>\n",
       "      <th>a</th>\n",
       "      <th>b</th>\n",
       "      <th>c</th>\n",
       "      <th>d</th>\n",
       "    </tr>\n",
       "  </thead>\n",
       "  <tbody>\n",
       "    <tr>\n",
       "      <th>0</th>\n",
       "      <td>0</td>\n",
       "      <td>1</td>\n",
       "      <td>2</td>\n",
       "      <td>3</td>\n",
       "    </tr>\n",
       "    <tr>\n",
       "      <th>1</th>\n",
       "      <td>4</td>\n",
       "      <td>5</td>\n",
       "      <td>6</td>\n",
       "      <td>7</td>\n",
       "    </tr>\n",
       "    <tr>\n",
       "      <th>7</th>\n",
       "      <td>28</td>\n",
       "      <td>29</td>\n",
       "      <td>30</td>\n",
       "      <td>31</td>\n",
       "    </tr>\n",
       "    <tr>\n",
       "      <th>8</th>\n",
       "      <td>32</td>\n",
       "      <td>33</td>\n",
       "      <td>34</td>\n",
       "      <td>35</td>\n",
       "    </tr>\n",
       "  </tbody>\n",
       "</table>\n",
       "</div>"
      ],
      "text/plain": [
       "    a   b   c   d\n",
       "0   0   1   2   3\n",
       "1   4   5   6   7\n",
       "7  28  29  30  31\n",
       "8  32  33  34  35"
      ]
     },
     "execution_count": 14,
     "metadata": {},
     "output_type": "execute_result"
    }
   ],
   "source": [
    "df.ends(2)"
   ]
  },
  {
   "cell_type": "code",
   "execution_count": 17,
   "metadata": {
    "ExecuteTime": {
     "end_time": "2020-04-18T23:35:11.355190Z",
     "start_time": "2020-04-18T23:35:11.261570Z"
    }
   },
   "outputs": [
    {
     "data": {
      "text/html": [
       "<div>\n",
       "<style scoped>\n",
       "    .dataframe tbody tr th:only-of-type {\n",
       "        vertical-align: middle;\n",
       "    }\n",
       "\n",
       "    .dataframe tbody tr th {\n",
       "        vertical-align: top;\n",
       "    }\n",
       "\n",
       "    .dataframe thead th {\n",
       "        text-align: right;\n",
       "    }\n",
       "</style>\n",
       "<table border=\"1\" class=\"dataframe\">\n",
       "  <thead>\n",
       "    <tr style=\"text-align: right;\">\n",
       "      <th></th>\n",
       "      <th>a</th>\n",
       "      <th>b</th>\n",
       "      <th>c</th>\n",
       "      <th>d</th>\n",
       "      <th>e</th>\n",
       "    </tr>\n",
       "  </thead>\n",
       "  <tbody>\n",
       "    <tr>\n",
       "      <th>0</th>\n",
       "      <td>0</td>\n",
       "      <td>1</td>\n",
       "      <td>2</td>\n",
       "      <td>3</td>\n",
       "      <td>a</td>\n",
       "    </tr>\n",
       "    <tr>\n",
       "      <th>1</th>\n",
       "      <td>4</td>\n",
       "      <td>5</td>\n",
       "      <td>6</td>\n",
       "      <td>7</td>\n",
       "      <td>b</td>\n",
       "    </tr>\n",
       "    <tr>\n",
       "      <th>2</th>\n",
       "      <td>8</td>\n",
       "      <td>9</td>\n",
       "      <td>10</td>\n",
       "      <td>11</td>\n",
       "      <td>c</td>\n",
       "    </tr>\n",
       "    <tr>\n",
       "      <th>3</th>\n",
       "      <td>12</td>\n",
       "      <td>13</td>\n",
       "      <td>14</td>\n",
       "      <td>15</td>\n",
       "      <td>a</td>\n",
       "    </tr>\n",
       "    <tr>\n",
       "      <th>4</th>\n",
       "      <td>16</td>\n",
       "      <td>17</td>\n",
       "      <td>18</td>\n",
       "      <td>19</td>\n",
       "      <td>a</td>\n",
       "    </tr>\n",
       "    <tr>\n",
       "      <th>5</th>\n",
       "      <td>20</td>\n",
       "      <td>21</td>\n",
       "      <td>22</td>\n",
       "      <td>23</td>\n",
       "      <td>a</td>\n",
       "    </tr>\n",
       "    <tr>\n",
       "      <th>6</th>\n",
       "      <td>24</td>\n",
       "      <td>25</td>\n",
       "      <td>26</td>\n",
       "      <td>27</td>\n",
       "      <td>b</td>\n",
       "    </tr>\n",
       "    <tr>\n",
       "      <th>7</th>\n",
       "      <td>28</td>\n",
       "      <td>29</td>\n",
       "      <td>30</td>\n",
       "      <td>31</td>\n",
       "      <td>a</td>\n",
       "    </tr>\n",
       "    <tr>\n",
       "      <th>8</th>\n",
       "      <td>32</td>\n",
       "      <td>33</td>\n",
       "      <td>34</td>\n",
       "      <td>35</td>\n",
       "      <td>b</td>\n",
       "    </tr>\n",
       "  </tbody>\n",
       "</table>\n",
       "</div>"
      ],
      "text/plain": [
       "    a   b   c   d  e\n",
       "0   0   1   2   3  a\n",
       "1   4   5   6   7  b\n",
       "2   8   9  10  11  c\n",
       "3  12  13  14  15  a\n",
       "4  16  17  18  19  a\n",
       "5  20  21  22  23  a\n",
       "6  24  25  26  27  b\n",
       "7  28  29  30  31  a\n",
       "8  32  33  34  35  b"
      ]
     },
     "execution_count": 17,
     "metadata": {},
     "output_type": "execute_result"
    }
   ],
   "source": [
    "df['e'] = list('abcaaabab')\n",
    "df"
   ]
  },
  {
   "cell_type": "code",
   "execution_count": 39,
   "metadata": {
    "ExecuteTime": {
     "end_time": "2020-04-18T23:41:12.396109Z",
     "start_time": "2020-04-18T23:41:12.346535Z"
    }
   },
   "outputs": [
    {
     "data": {
      "text/plain": [
       "e  a \n",
       "a  0     1\n",
       "   12    1\n",
       "   16    1\n",
       "   20    1\n",
       "   28    1\n",
       "b  4     1\n",
       "   24    1\n",
       "   32    1\n",
       "c  8     1\n",
       "Name: a, dtype: int64"
      ]
     },
     "execution_count": 39,
     "metadata": {},
     "output_type": "execute_result"
    }
   ],
   "source": [
    "v1 = df.groupby('e').a.value_counts()\n",
    "v1"
   ]
  },
  {
   "cell_type": "code",
   "execution_count": 40,
   "metadata": {
    "ExecuteTime": {
     "end_time": "2020-04-18T23:41:16.127179Z",
     "start_time": "2020-04-18T23:41:16.091226Z"
    }
   },
   "outputs": [
    {
     "data": {
      "text/plain": [
       "e  a \n",
       "a  0     0.200000\n",
       "   12    0.200000\n",
       "   16    0.200000\n",
       "   20    0.200000\n",
       "   28    0.200000\n",
       "b  4     0.333333\n",
       "   24    0.333333\n",
       "   32    0.333333\n",
       "c  8     1.000000\n",
       "Name: a, dtype: float64"
      ]
     },
     "execution_count": 40,
     "metadata": {},
     "output_type": "execute_result"
    }
   ],
   "source": [
    "v2 = df.groupby('e').a.value_counts(True)\n",
    "v2"
   ]
  },
  {
   "cell_type": "code",
   "execution_count": 48,
   "metadata": {
    "ExecuteTime": {
     "end_time": "2020-04-18T23:44:19.831220Z",
     "start_time": "2020-04-18T23:44:19.759426Z"
    }
   },
   "outputs": [
    {
     "data": {
      "text/plain": [
       "e  a \n",
       "a  0     1\n",
       "   12    1\n",
       "   16    1\n",
       "   20    1\n",
       "   28    1\n",
       "b  4     1\n",
       "   24    1\n",
       "   32    1\n",
       "c  8     1\n",
       "Name: a, dtype: int64"
      ]
     },
     "execution_count": 48,
     "metadata": {},
     "output_type": "execute_result"
    }
   ],
   "source": [
    "df.groupby('e').a.value_counts()"
   ]
  },
  {
   "cell_type": "code",
   "execution_count": 43,
   "metadata": {
    "ExecuteTime": {
     "end_time": "2020-04-18T23:41:58.496735Z",
     "start_time": "2020-04-18T23:41:58.424999Z"
    }
   },
   "outputs": [
    {
     "data": {
      "text/html": [
       "<div>\n",
       "<style scoped>\n",
       "    .dataframe tbody tr th:only-of-type {\n",
       "        vertical-align: middle;\n",
       "    }\n",
       "\n",
       "    .dataframe tbody tr th {\n",
       "        vertical-align: top;\n",
       "    }\n",
       "\n",
       "    .dataframe thead th {\n",
       "        text-align: right;\n",
       "    }\n",
       "</style>\n",
       "<table border=\"1\" class=\"dataframe\">\n",
       "  <thead>\n",
       "    <tr style=\"text-align: right;\">\n",
       "      <th></th>\n",
       "      <th></th>\n",
       "      <th>a_x</th>\n",
       "      <th>a_y</th>\n",
       "    </tr>\n",
       "    <tr>\n",
       "      <th>e</th>\n",
       "      <th>a</th>\n",
       "      <th></th>\n",
       "      <th></th>\n",
       "    </tr>\n",
       "  </thead>\n",
       "  <tbody>\n",
       "    <tr>\n",
       "      <th rowspan=\"5\" valign=\"top\">a</th>\n",
       "      <th>0</th>\n",
       "      <td>1</td>\n",
       "      <td>0.200000</td>\n",
       "    </tr>\n",
       "    <tr>\n",
       "      <th>12</th>\n",
       "      <td>1</td>\n",
       "      <td>0.200000</td>\n",
       "    </tr>\n",
       "    <tr>\n",
       "      <th>16</th>\n",
       "      <td>1</td>\n",
       "      <td>0.200000</td>\n",
       "    </tr>\n",
       "    <tr>\n",
       "      <th>20</th>\n",
       "      <td>1</td>\n",
       "      <td>0.200000</td>\n",
       "    </tr>\n",
       "    <tr>\n",
       "      <th>28</th>\n",
       "      <td>1</td>\n",
       "      <td>0.200000</td>\n",
       "    </tr>\n",
       "    <tr>\n",
       "      <th rowspan=\"3\" valign=\"top\">b</th>\n",
       "      <th>4</th>\n",
       "      <td>1</td>\n",
       "      <td>0.333333</td>\n",
       "    </tr>\n",
       "    <tr>\n",
       "      <th>24</th>\n",
       "      <td>1</td>\n",
       "      <td>0.333333</td>\n",
       "    </tr>\n",
       "    <tr>\n",
       "      <th>32</th>\n",
       "      <td>1</td>\n",
       "      <td>0.333333</td>\n",
       "    </tr>\n",
       "    <tr>\n",
       "      <th>c</th>\n",
       "      <th>8</th>\n",
       "      <td>1</td>\n",
       "      <td>1.000000</td>\n",
       "    </tr>\n",
       "  </tbody>\n",
       "</table>\n",
       "</div>"
      ],
      "text/plain": [
       "      a_x       a_y\n",
       "e a                \n",
       "a 0     1  0.200000\n",
       "  12    1  0.200000\n",
       "  16    1  0.200000\n",
       "  20    1  0.200000\n",
       "  28    1  0.200000\n",
       "b 4     1  0.333333\n",
       "  24    1  0.333333\n",
       "  32    1  0.333333\n",
       "c 8     1  1.000000"
      ]
     },
     "execution_count": 43,
     "metadata": {},
     "output_type": "execute_result"
    }
   ],
   "source": [
    "pd.merge(v1, v2, left_index=True, right_index=True)"
   ]
  },
  {
   "cell_type": "code",
   "execution_count": 53,
   "metadata": {
    "ExecuteTime": {
     "end_time": "2020-04-19T00:36:50.329827Z",
     "start_time": "2020-04-19T00:36:50.276192Z"
    }
   },
   "outputs": [],
   "source": [
    "from functools import wraps"
   ]
  },
  {
   "cell_type": "code",
   "execution_count": 165,
   "metadata": {
    "ExecuteTime": {
     "end_time": "2020-04-19T01:00:05.261908Z",
     "start_time": "2020-04-19T01:00:05.222087Z"
    }
   },
   "outputs": [],
   "source": [
    "import inspect\n",
    "from types import FunctionType"
   ]
  },
  {
   "cell_type": "code",
   "execution_count": 237,
   "metadata": {
    "ExecuteTime": {
     "end_time": "2020-04-19T01:14:26.688659Z",
     "start_time": "2020-04-19T01:14:26.659919Z"
    }
   },
   "outputs": [],
   "source": [
    "def identity_fn(x):\n",
    "    return x"
   ]
  },
  {
   "cell_type": "code",
   "execution_count": 686,
   "metadata": {
    "ExecuteTime": {
     "end_time": "2020-04-19T05:52:01.327006Z",
     "start_time": "2020-04-19T05:52:01.277752Z"
    }
   },
   "outputs": [
    {
     "data": {
      "text/plain": [
       "({'c': 'method', 'f': 'method', 'i': 'method'},\n",
       " {'c': 'method',\n",
       "  'd': 'method',\n",
       "  'f': 'method',\n",
       "  'g': 'method',\n",
       "  'h': 'method',\n",
       "  'i': 'method'})"
      ]
     },
     "execution_count": 686,
     "metadata": {},
     "output_type": "execute_result"
    }
   ],
   "source": [
    "select(hdir(Foo), ['c', 'f', 'i']), select(hdir(Foo), drop=['zzz'])"
   ]
  },
  {
   "cell_type": "code",
   "execution_count": 699,
   "metadata": {
    "ExecuteTime": {
     "end_time": "2020-04-19T05:58:16.790114Z",
     "start_time": "2020-04-19T05:58:16.751988Z"
    }
   },
   "outputs": [
    {
     "name": "stdout",
     "output_type": "stream",
     "text": [
      "a False False\n",
      "_b True False\n",
      "c_ False False\n",
      "__d True True\n",
      "__e__ True True\n"
     ]
    }
   ],
   "source": [
    "ms = ['a', '_b', 'c_', '__d', '__e__']\n",
    "for m in ms:\n",
    "    print(m, m.startswith('_'), m.startswith('__'))"
   ]
  },
  {
   "cell_type": "code",
   "execution_count": 748,
   "metadata": {
    "ExecuteTime": {
     "end_time": "2020-04-19T06:10:03.535891Z",
     "start_time": "2020-04-19T06:10:03.445094Z"
    }
   },
   "outputs": [
    {
     "data": {
      "text/plain": [
       "['c', 'd', 'f', 'g', 'h', 'i']"
      ]
     },
     "execution_count": 748,
     "metadata": {},
     "output_type": "execute_result"
    }
   ],
   "source": [
    "list(hdir(Foo))"
   ]
  },
  {
   "cell_type": "code",
   "execution_count": 813,
   "metadata": {
    "ExecuteTime": {
     "end_time": "2020-04-19T06:20:43.612644Z",
     "start_time": "2020-04-19T06:20:43.563051Z"
    }
   },
   "outputs": [
    {
     "data": {
      "text/plain": [
       "{'a': True, '_b': True, 'c_': True, '__d': True, '__e__': True}"
      ]
     },
     "execution_count": 813,
     "metadata": {},
     "output_type": "execute_result"
    }
   ],
   "source": [
    "dict.fromkeys(ms, True)"
   ]
  },
  {
   "cell_type": "code",
   "execution_count": 858,
   "metadata": {
    "ExecuteTime": {
     "end_time": "2020-04-19T06:27:32.965199Z",
     "start_time": "2020-04-19T06:27:32.928077Z"
    }
   },
   "outputs": [],
   "source": [
    "def wrapmethods_dev(*decorators, methods=(), internals=False):\n",
    "    \"\"\"Class wrapper that applies 1 or more decorators to every non-magic\n",
    "    method. For example, we often want @debug to be applied to many different\n",
    "    methods. Magic methods and properties are excluded.\n",
    "\n",
    "    Parameters\n",
    "    ----------\n",
    "    decorators: callable\n",
    "        1 or more decorators to apply to methods within a class. By default,\n",
    "        methods with 1 or 2 leading underscores are excluded.\n",
    "    methods: Iterable[str]\n",
    "        Names of methods to wrap if you don't want to wrap all of them. \n",
    "        Internal methods can be wrapped but magic methods and properties \n",
    "        cannot.\n",
    "    internals: bool\n",
    "        If True, apply decorators to methods named with leading single \n",
    "        underscores. This will be ignored if `methods` is specified.\n",
    "    \"\"\"\n",
    "    def wrapper(cls):\n",
    "        special_methods = (staticmethod, classmethod)\n",
    "        to_wrap = dict.fromkeys(methods, True) if methods \\\n",
    "                  else hdir(cls, False, internals=internals)\n",
    "        for attr, is_method in to_wrap.items():\n",
    "            f = cls.__dict__[attr]\n",
    "            mtype = type(f)\n",
    "            if not is_method or isinstance(f, property):\n",
    "                continue\n",
    "            \n",
    "            # Classmethod and staticmethod decorators need to be applied last.\n",
    "            final_wrapper = identity_fn\n",
    "            if isinstance(f, special_methods):\n",
    "                final_wrapper = type(f)\n",
    "                f = f.__func__\n",
    "                \n",
    "            for d in decorators:\n",
    "                f = d(f)\n",
    "            setattr(cls, attr, final_wrapper(f))\n",
    "        return cls\n",
    "    return wrapper"
   ]
  },
  {
   "cell_type": "code",
   "execution_count": 817,
   "metadata": {
    "ExecuteTime": {
     "end_time": "2020-04-19T06:22:28.666302Z",
     "start_time": "2020-04-19T06:22:28.631945Z"
    }
   },
   "outputs": [],
   "source": [
    "def dummy_deco(func):\n",
    "    @wraps(func)\n",
    "    def wrapped(*args, **kwargs):\n",
    "        print('Decorated by dummy.')\n",
    "        return func(*args, **kwargs)\n",
    "    return wrapped"
   ]
  },
  {
   "cell_type": "code",
   "execution_count": 849,
   "metadata": {
    "ExecuteTime": {
     "end_time": "2020-04-19T06:24:20.803537Z",
     "start_time": "2020-04-19T06:24:20.763126Z"
    }
   },
   "outputs": [
    {
     "name": "stdout",
     "output_type": "stream",
     "text": [
      "d <class 'function'>\n",
      "_e <class 'function'>\n"
     ]
    }
   ],
   "source": [
    "@wrapmethods_dev(debug, dummy_deco, timer, methods=['d', '_e'], internals=False)\n",
    "@auto_repr\n",
    "class Foo:\n",
    "    def __init__(self, a, b=3):\n",
    "        self.a = a\n",
    "        self.b = b\n",
    "    \n",
    "    def c(self):\n",
    "        return self.a*self.b\n",
    "    \n",
    "    def d(self, x):\n",
    "        return x*2\n",
    "    \n",
    "    def _e(self, y):\n",
    "        return y*3\n",
    "    \n",
    "    @staticmethod\n",
    "    def f():\n",
    "        return 'in staticmethod f'\n",
    "    \n",
    "    @staticmethod\n",
    "    def g(a):\n",
    "        return 'in staticmethod g', a\n",
    "    \n",
    "    @classmethod\n",
    "    def h(cls, s):\n",
    "        print('in classmethod h')\n",
    "        return cls(s[:-1], int(s[-1]))\n",
    "    \n",
    "    @property\n",
    "    def i(self):\n",
    "        return str(self.a) + str(self.b)\n",
    "    \n",
    "    @i.setter\n",
    "    def i(self, val):\n",
    "        self.a = int(val[0])\n",
    "        self.b = int(val[1:])"
   ]
  },
  {
   "cell_type": "code",
   "execution_count": 850,
   "metadata": {
    "ExecuteTime": {
     "end_time": "2020-04-19T06:24:21.180127Z",
     "start_time": "2020-04-19T06:24:21.138083Z"
    }
   },
   "outputs": [
    {
     "data": {
      "text/plain": [
       "Foo(a=3, b=4)"
      ]
     },
     "execution_count": 850,
     "metadata": {},
     "output_type": "execute_result"
    }
   ],
   "source": [
    "f = Foo(3, 4)\n",
    "f"
   ]
  },
  {
   "cell_type": "code",
   "execution_count": 851,
   "metadata": {
    "ExecuteTime": {
     "end_time": "2020-04-19T06:24:22.184276Z",
     "start_time": "2020-04-19T06:24:22.139545Z"
    }
   },
   "outputs": [
    {
     "data": {
      "text/plain": [
       "'34'"
      ]
     },
     "execution_count": 851,
     "metadata": {},
     "output_type": "execute_result"
    }
   ],
   "source": [
    "f.i"
   ]
  },
  {
   "cell_type": "code",
   "execution_count": 852,
   "metadata": {
    "ExecuteTime": {
     "end_time": "2020-04-19T06:24:22.691823Z",
     "start_time": "2020-04-19T06:24:22.642028Z"
    }
   },
   "outputs": [
    {
     "data": {
      "text/plain": [
       "12"
      ]
     },
     "execution_count": 852,
     "metadata": {},
     "output_type": "execute_result"
    }
   ],
   "source": [
    "f.c()"
   ]
  },
  {
   "cell_type": "code",
   "execution_count": 853,
   "metadata": {
    "ExecuteTime": {
     "end_time": "2020-04-19T06:24:23.326666Z",
     "start_time": "2020-04-19T06:24:23.273322Z"
    }
   },
   "outputs": [
    {
     "name": "stdout",
     "output_type": "stream",
     "text": [
      "Decorated by dummy.\n",
      "\n",
      "CALLING Foo.d(x=7)\n",
      "\n",
      "[TIMER]: d executed in approximately 0.000 seconds.\n",
      "\n"
     ]
    },
    {
     "data": {
      "text/plain": [
       "14"
      ]
     },
     "execution_count": 853,
     "metadata": {},
     "output_type": "execute_result"
    }
   ],
   "source": [
    "f.d(7)"
   ]
  },
  {
   "cell_type": "code",
   "execution_count": 854,
   "metadata": {
    "ExecuteTime": {
     "end_time": "2020-04-19T06:24:23.879489Z",
     "start_time": "2020-04-19T06:24:23.841004Z"
    }
   },
   "outputs": [
    {
     "name": "stdout",
     "output_type": "stream",
     "text": [
      "Decorated by dummy.\n",
      "\n",
      "CALLING Foo._e(y=5)\n",
      "\n",
      "[TIMER]: _e executed in approximately 0.001 seconds.\n",
      "\n"
     ]
    },
    {
     "data": {
      "text/plain": [
       "15"
      ]
     },
     "execution_count": 854,
     "metadata": {},
     "output_type": "execute_result"
    }
   ],
   "source": [
    "f._e(5)"
   ]
  },
  {
   "cell_type": "code",
   "execution_count": 855,
   "metadata": {
    "ExecuteTime": {
     "end_time": "2020-04-19T06:24:24.543507Z",
     "start_time": "2020-04-19T06:24:24.509179Z"
    }
   },
   "outputs": [
    {
     "data": {
      "text/plain": [
       "'in staticmethod f'"
      ]
     },
     "execution_count": 855,
     "metadata": {},
     "output_type": "execute_result"
    }
   ],
   "source": [
    "f.f()"
   ]
  },
  {
   "cell_type": "code",
   "execution_count": 856,
   "metadata": {
    "ExecuteTime": {
     "end_time": "2020-04-19T06:24:25.207445Z",
     "start_time": "2020-04-19T06:24:25.174156Z"
    }
   },
   "outputs": [
    {
     "data": {
      "text/plain": [
       "('in staticmethod g', 3)"
      ]
     },
     "execution_count": 856,
     "metadata": {},
     "output_type": "execute_result"
    }
   ],
   "source": [
    "f.g(3)"
   ]
  },
  {
   "cell_type": "code",
   "execution_count": 857,
   "metadata": {
    "ExecuteTime": {
     "end_time": "2020-04-19T06:24:25.538564Z",
     "start_time": "2020-04-19T06:24:25.504188Z"
    }
   },
   "outputs": [
    {
     "name": "stdout",
     "output_type": "stream",
     "text": [
      "in classmethod h\n"
     ]
    },
    {
     "data": {
      "text/plain": [
       "Foo(a='3a', b=2)"
      ]
     },
     "execution_count": 857,
     "metadata": {},
     "output_type": "execute_result"
    }
   ],
   "source": [
    "Foo.h('3a2')"
   ]
  },
  {
   "cell_type": "code",
   "execution_count": 631,
   "metadata": {
    "ExecuteTime": {
     "end_time": "2020-04-19T05:37:51.252470Z",
     "start_time": "2020-04-19T05:37:51.208741Z"
    }
   },
   "outputs": [],
   "source": [
    "@wrapmethods_dev(debug, dummy_deco, timer, internals=True)\n",
    "@auto_repr\n",
    "class Foo:\n",
    "    def __init__(self, a, b=3):\n",
    "        self.a = a\n",
    "        self.b = b\n",
    "    \n",
    "    def c(self):\n",
    "        return self.a*self.b\n",
    "    \n",
    "    def d(self, x):\n",
    "        return x*2\n",
    "    \n",
    "    def _e(self, y):\n",
    "        return y*3\n",
    "    \n",
    "    @staticmethod\n",
    "    def f():\n",
    "        return 'in staticmethod f'\n",
    "    \n",
    "    @staticmethod\n",
    "    def g(a):\n",
    "        return 'in staticmethod g', a\n",
    "    \n",
    "    @classmethod\n",
    "    def h(cls, s):\n",
    "        print('in classmethod h')\n",
    "        return cls(s[:-1], int(s[-1]))"
   ]
  },
  {
   "cell_type": "code",
   "execution_count": 632,
   "metadata": {
    "ExecuteTime": {
     "end_time": "2020-04-19T05:37:51.721834Z",
     "start_time": "2020-04-19T05:37:51.690625Z"
    }
   },
   "outputs": [
    {
     "data": {
      "text/plain": [
       "Foo(a=10, b=3)"
      ]
     },
     "execution_count": 632,
     "metadata": {},
     "output_type": "execute_result"
    }
   ],
   "source": [
    "f = Foo(10)\n",
    "f"
   ]
  },
  {
   "cell_type": "code",
   "execution_count": 633,
   "metadata": {
    "ExecuteTime": {
     "end_time": "2020-04-19T05:37:52.135287Z",
     "start_time": "2020-04-19T05:37:52.092195Z"
    }
   },
   "outputs": [
    {
     "name": "stdout",
     "output_type": "stream",
     "text": [
      "Decorated by dummy.\n",
      "\n",
      "CALLING Foo.c()\n",
      "\n",
      "[TIMER]: c executed in approximately 0.000 seconds.\n",
      "\n"
     ]
    },
    {
     "data": {
      "text/plain": [
       "30"
      ]
     },
     "execution_count": 633,
     "metadata": {},
     "output_type": "execute_result"
    }
   ],
   "source": [
    "f.c()"
   ]
  },
  {
   "cell_type": "code",
   "execution_count": 634,
   "metadata": {
    "ExecuteTime": {
     "end_time": "2020-04-19T05:37:52.565914Z",
     "start_time": "2020-04-19T05:37:52.525790Z"
    }
   },
   "outputs": [
    {
     "name": "stdout",
     "output_type": "stream",
     "text": [
      "Decorated by dummy.\n",
      "\n",
      "CALLING Foo.d(x=1)\n",
      "\n",
      "[TIMER]: d executed in approximately 0.001 seconds.\n",
      "\n"
     ]
    },
    {
     "data": {
      "text/plain": [
       "2"
      ]
     },
     "execution_count": 634,
     "metadata": {},
     "output_type": "execute_result"
    }
   ],
   "source": [
    "f.d(1)"
   ]
  },
  {
   "cell_type": "code",
   "execution_count": 635,
   "metadata": {
    "ExecuteTime": {
     "end_time": "2020-04-19T05:37:53.240471Z",
     "start_time": "2020-04-19T05:37:53.209830Z"
    }
   },
   "outputs": [
    {
     "name": "stdout",
     "output_type": "stream",
     "text": [
      "Decorated by dummy.\n",
      "\n",
      "CALLING Foo._e(y=22)\n",
      "\n",
      "[TIMER]: _e executed in approximately 0.000 seconds.\n",
      "\n"
     ]
    },
    {
     "data": {
      "text/plain": [
       "66"
      ]
     },
     "execution_count": 635,
     "metadata": {},
     "output_type": "execute_result"
    }
   ],
   "source": [
    "f._e(22)"
   ]
  },
  {
   "cell_type": "code",
   "execution_count": 636,
   "metadata": {
    "ExecuteTime": {
     "end_time": "2020-04-19T05:37:54.360561Z",
     "start_time": "2020-04-19T05:37:54.329586Z"
    }
   },
   "outputs": [
    {
     "name": "stdout",
     "output_type": "stream",
     "text": [
      "Decorated by dummy.\n",
      "\n",
      "CALLING Foo.f()\n",
      "\n",
      "[TIMER]: f executed in approximately 0.000 seconds.\n",
      "\n"
     ]
    },
    {
     "data": {
      "text/plain": [
       "'in staticmethod f'"
      ]
     },
     "execution_count": 636,
     "metadata": {},
     "output_type": "execute_result"
    }
   ],
   "source": [
    "f.f()"
   ]
  },
  {
   "cell_type": "code",
   "execution_count": 637,
   "metadata": {
    "ExecuteTime": {
     "end_time": "2020-04-19T05:37:55.113764Z",
     "start_time": "2020-04-19T05:37:55.080882Z"
    }
   },
   "outputs": [
    {
     "name": "stdout",
     "output_type": "stream",
     "text": [
      "Decorated by dummy.\n",
      "\n",
      "CALLING Foo.g(a=44)\n",
      "\n",
      "[TIMER]: g executed in approximately 0.000 seconds.\n",
      "\n"
     ]
    },
    {
     "data": {
      "text/plain": [
       "('in staticmethod g', 44)"
      ]
     },
     "execution_count": 637,
     "metadata": {},
     "output_type": "execute_result"
    }
   ],
   "source": [
    "f.g(44)"
   ]
  },
  {
   "cell_type": "code",
   "execution_count": 638,
   "metadata": {
    "ExecuteTime": {
     "end_time": "2020-04-19T05:37:56.011227Z",
     "start_time": "2020-04-19T05:37:55.981617Z"
    }
   },
   "outputs": [
    {
     "name": "stdout",
     "output_type": "stream",
     "text": [
      "Decorated by dummy.\n",
      "\n",
      "CALLING Foo.h(s='3be4')\n",
      "in classmethod h\n",
      "\n",
      "[TIMER]: h executed in approximately 0.001 seconds.\n",
      "\n"
     ]
    },
    {
     "data": {
      "text/plain": [
       "Foo(a='3be', b=4)"
      ]
     },
     "execution_count": 638,
     "metadata": {},
     "output_type": "execute_result"
    }
   ],
   "source": [
    "Foo.h('3be4')"
   ]
  },
  {
   "cell_type": "code",
   "execution_count": 566,
   "metadata": {
    "ExecuteTime": {
     "end_time": "2020-04-19T05:20:08.297227Z",
     "start_time": "2020-04-19T05:20:08.253972Z"
    }
   },
   "outputs": [],
   "source": [
    "@auto_repr\n",
    "class Bar:\n",
    "    def __init__(self, a, b=3):\n",
    "        self.a = a\n",
    "        self.b = b\n",
    "    \n",
    "    def c(self):\n",
    "        return self.a*self.b\n",
    "    \n",
    "    def d(self, x):\n",
    "        return x*2\n",
    "    \n",
    "    def _e(self, y):\n",
    "        return y*3\n",
    "    \n",
    "    @staticmethod\n",
    "    def f():\n",
    "        return 'in staticmethod f'\n",
    "    \n",
    "    @staticmethod\n",
    "    def g(a):\n",
    "        return 'in staticmethod g', a\n",
    "    \n",
    "    @classmethod\n",
    "    @dummy_deco\n",
    "    @debug\n",
    "    def h(cls, s):\n",
    "        return cls(s[:-1], int(s[-1]))"
   ]
  },
  {
   "cell_type": "code",
   "execution_count": 567,
   "metadata": {
    "ExecuteTime": {
     "end_time": "2020-04-19T05:20:08.973882Z",
     "start_time": "2020-04-19T05:20:08.930360Z"
    }
   },
   "outputs": [
    {
     "data": {
      "text/plain": [
       "Bar(a=11, b=3)"
      ]
     },
     "execution_count": 567,
     "metadata": {},
     "output_type": "execute_result"
    }
   ],
   "source": [
    "b = Bar(11)\n",
    "b"
   ]
  },
  {
   "cell_type": "code",
   "execution_count": 568,
   "metadata": {
    "ExecuteTime": {
     "end_time": "2020-04-19T05:20:09.900151Z",
     "start_time": "2020-04-19T05:20:09.858370Z"
    }
   },
   "outputs": [
    {
     "name": "stdout",
     "output_type": "stream",
     "text": [
      "Decorated by dummy.\n",
      "\n",
      "CALLING Bar.h(s='ab1')\n"
     ]
    },
    {
     "data": {
      "text/plain": [
       "Bar(a='ab', b=1)"
      ]
     },
     "execution_count": 568,
     "metadata": {},
     "output_type": "execute_result"
    }
   ],
   "source": [
    "Bar.h('ab1')"
   ]
  },
  {
   "cell_type": "code",
   "execution_count": 569,
   "metadata": {
    "ExecuteTime": {
     "end_time": "2020-04-19T05:20:11.708897Z",
     "start_time": "2020-04-19T05:20:11.678080Z"
    }
   },
   "outputs": [
    {
     "name": "stdout",
     "output_type": "stream",
     "text": [
      "Decorated by dummy.\n",
      "\n",
      "CALLING Bar.h(s='ab1')\n"
     ]
    },
    {
     "data": {
      "text/plain": [
       "Bar(a='ab', b=1)"
      ]
     },
     "execution_count": 569,
     "metadata": {},
     "output_type": "execute_result"
    }
   ],
   "source": [
    "Bar.h('ab1')"
   ]
  },
  {
   "cell_type": "code",
   "execution_count": 570,
   "metadata": {
    "ExecuteTime": {
     "end_time": "2020-04-19T05:20:14.419173Z",
     "start_time": "2020-04-19T05:20:14.380997Z"
    }
   },
   "outputs": [
    {
     "data": {
      "text/plain": [
       "['__call__',\n",
       " '__class__',\n",
       " '__delattr__',\n",
       " '__dir__',\n",
       " '__doc__',\n",
       " '__eq__',\n",
       " '__format__',\n",
       " '__func__',\n",
       " '__ge__',\n",
       " '__get__',\n",
       " '__getattribute__',\n",
       " '__gt__',\n",
       " '__hash__',\n",
       " '__init__',\n",
       " '__init_subclass__',\n",
       " '__le__',\n",
       " '__lt__',\n",
       " '__ne__',\n",
       " '__new__',\n",
       " '__reduce__',\n",
       " '__reduce_ex__',\n",
       " '__repr__',\n",
       " '__self__',\n",
       " '__setattr__',\n",
       " '__sizeof__',\n",
       " '__str__',\n",
       " '__subclasshook__',\n",
       " '__wrapped__']"
      ]
     },
     "execution_count": 570,
     "metadata": {},
     "output_type": "execute_result"
    }
   ],
   "source": [
    "dir(Bar.h)"
   ]
  },
  {
   "cell_type": "code",
   "execution_count": 571,
   "metadata": {
    "ExecuteTime": {
     "end_time": "2020-04-19T05:20:15.094335Z",
     "start_time": "2020-04-19T05:20:15.057042Z"
    }
   },
   "outputs": [
    {
     "data": {
      "text/plain": [
       "<bound method Bar.h of <class '__main__.Bar'>>"
      ]
     },
     "execution_count": 571,
     "metadata": {},
     "output_type": "execute_result"
    }
   ],
   "source": [
    "Bar.h"
   ]
  },
  {
   "cell_type": "code",
   "execution_count": 575,
   "metadata": {
    "ExecuteTime": {
     "end_time": "2020-04-19T05:20:43.449359Z",
     "start_time": "2020-04-19T05:20:43.411880Z"
    }
   },
   "outputs": [
    {
     "name": "stdout",
     "output_type": "stream",
     "text": [
      "Decorated by dummy.\n",
      "\n",
      "CALLING Bar.h(s='ha3')\n"
     ]
    },
    {
     "data": {
      "text/plain": [
       "Bar(a='ha', b=3)"
      ]
     },
     "execution_count": 575,
     "metadata": {},
     "output_type": "execute_result"
    }
   ],
   "source": [
    "Bar.h('ha3')"
   ]
  },
  {
   "cell_type": "code",
   "execution_count": 576,
   "metadata": {
    "ExecuteTime": {
     "end_time": "2020-04-19T05:22:30.007817Z",
     "start_time": "2020-04-19T05:22:29.948967Z"
    }
   },
   "outputs": [
    {
     "name": "stdout",
     "output_type": "stream",
     "text": [
      "(cls, s)\n"
     ]
    },
    {
     "data": {
      "text/plain": [
       "<BoundArguments (cls=<class '__main__.Bar'>, s='ha3')>"
      ]
     },
     "execution_count": 576,
     "metadata": {},
     "output_type": "execute_result"
    }
   ],
   "source": [
    "bhsig = inspect.signature(Bar.h.__wrapped__)\n",
    "print(bhsig)\n",
    "bhsig.bind_partial(*(Bar, 'ha3'), **{})"
   ]
  },
  {
   "cell_type": "code",
   "execution_count": 578,
   "metadata": {
    "ExecuteTime": {
     "end_time": "2020-04-19T05:22:43.207950Z",
     "start_time": "2020-04-19T05:22:43.173859Z"
    }
   },
   "outputs": [
    {
     "name": "stdout",
     "output_type": "stream",
     "text": [
      "(cls, s)\n"
     ]
    },
    {
     "data": {
      "text/plain": [
       "<BoundArguments (cls=<class '__main__.Foo'>, s='ha3')>"
      ]
     },
     "execution_count": 578,
     "metadata": {},
     "output_type": "execute_result"
    }
   ],
   "source": [
    "fhsig = inspect.signature(Foo.h.__wrapped__)\n",
    "print(fhsig)\n",
    "fhsig.bind_partial(*(Foo, 'ha3'), **{})"
   ]
  }
 ],
 "metadata": {
  "kernelspec": {
   "display_name": "Python 3",
   "language": "python",
   "name": "python3"
  },
  "language_info": {
   "codemirror_mode": {
    "name": "ipython",
    "version": 3
   },
   "file_extension": ".py",
   "mimetype": "text/x-python",
   "name": "python",
   "nbconvert_exporter": "python",
   "pygments_lexer": "ipython3",
   "version": "3.7.3"
  }
 },
 "nbformat": 4,
 "nbformat_minor": 2
}
