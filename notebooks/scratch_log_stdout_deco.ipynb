{
 "cells": [
  {
   "cell_type": "code",
   "execution_count": 146,
   "metadata": {
    "ExecuteTime": {
     "end_time": "2020-06-08T04:25:09.352923Z",
     "start_time": "2020-06-08T04:25:09.348819Z"
    }
   },
   "outputs": [],
   "source": [
    "from contextlib import redirect_stdout\n",
    "from functools import wraps, partial\n",
    "import os\n",
    "from pathlib import Path\n",
    "\n",
    "from htools import debug, LoggerMixin, delegate"
   ]
  },
  {
   "cell_type": "code",
   "execution_count": 104,
   "metadata": {
    "ExecuteTime": {
     "end_time": "2020-03-17T03:43:58.456217Z",
     "start_time": "2020-03-17T03:43:58.451136Z"
    }
   },
   "outputs": [],
   "source": [
    "def log_stdout(func=None, fname=''):\n",
    "    \"\"\"Decorator that logs all stdout produced by a function.\n",
    "    \n",
    "    Parameters\n",
    "    ----------\n",
    "    func: function\n",
    "        If the decorator is used without parenthesis, the function will be\n",
    "        passed in as the first argument. You never need to explicitly specify\n",
    "        a function.\n",
    "    fname: str\n",
    "        Path to log file which will be created. If None is specified, the \n",
    "        default is to write to ./logs/wrapped_func_name.log. If specified, \n",
    "        this must be a keyword argument.\n",
    "        \n",
    "    Examples\n",
    "    --------\n",
    "    @log_stdout\n",
    "    def foo(a, b=3):\n",
    "        print(a)\n",
    "        a *= b\n",
    "        print(a)\n",
    "        return a**b\n",
    "        \n",
    "    @log_stdout(fname='../data/mylog.log')\n",
    "    def foo(a, b=3):\n",
    "        ...\n",
    "    \"\"\"\n",
    "    if not func: \n",
    "        return partial(log_stdout, fname=Path(fname))\n",
    "    if not fname:\n",
    "        fname = Path(f'./logs/{func.__name__}.log')\n",
    "\n",
    "    @wraps(func)\n",
    "    def wrapper(*args, **kwargs):\n",
    "        os.makedirs(fname.parent, exist_ok=True)\n",
    "        with open(fname, 'w') as f:\n",
    "            with redirect_stdout(f):\n",
    "                out = func(*args, **kwargs)\n",
    "        return out\n",
    "    return wrapper"
   ]
  },
  {
   "cell_type": "code",
   "execution_count": 94,
   "metadata": {
    "ExecuteTime": {
     "end_time": "2020-03-17T03:38:08.788703Z",
     "start_time": "2020-03-17T03:38:08.775734Z"
    }
   },
   "outputs": [],
   "source": [
    "@debug\n",
    "def foo(a, b=3, c=(4,5), d=True):\n",
    "    for i in range(a):\n",
    "        if i % 2 == 0:\n",
    "            print(i)\n",
    "        elif i % 5 == 0:\n",
    "            print('divis by 5')\n",
    "        elif i > 50:\n",
    "            print('*'*i)\n",
    "    return tuple(b*i for i in c)"
   ]
  },
  {
   "cell_type": "code",
   "execution_count": 95,
   "metadata": {
    "ExecuteTime": {
     "end_time": "2020-03-17T03:38:09.138623Z",
     "start_time": "2020-03-17T03:38:09.120497Z"
    }
   },
   "outputs": [
    {
     "name": "stdout",
     "output_type": "stream",
     "text": [
      "\n",
      "CALLING foo(a=24, b=8, c=(4, 5), d=True)\n",
      "0\n",
      "2\n",
      "4\n",
      "divis by 5\n",
      "6\n",
      "8\n",
      "10\n",
      "12\n",
      "14\n",
      "divis by 5\n",
      "16\n",
      "18\n",
      "20\n",
      "22\n"
     ]
    },
    {
     "data": {
      "text/plain": [
       "(32, 40)"
      ]
     },
     "execution_count": 95,
     "metadata": {},
     "output_type": "execute_result"
    }
   ],
   "source": [
    "foo(24, 8)"
   ]
  },
  {
   "cell_type": "code",
   "execution_count": 96,
   "metadata": {
    "ExecuteTime": {
     "end_time": "2020-03-17T03:38:09.631865Z",
     "start_time": "2020-03-17T03:38:09.625263Z"
    }
   },
   "outputs": [],
   "source": [
    "@log_stdout\n",
    "@debug\n",
    "def foo(a, b=3, c=(4,5), d=True):\n",
    "    print(a, b, c, d)\n",
    "    for i in range(a):\n",
    "        if i % 2 == 0:\n",
    "            print(i)\n",
    "        elif i % 5 == 0:\n",
    "            print('divis by 5')\n",
    "        elif i > 50:\n",
    "            print('*'*i)\n",
    "    return tuple(b*i for i in c)"
   ]
  },
  {
   "cell_type": "code",
   "execution_count": 98,
   "metadata": {
    "ExecuteTime": {
     "end_time": "2020-03-17T03:38:22.869095Z",
     "start_time": "2020-03-17T03:38:22.861766Z"
    }
   },
   "outputs": [
    {
     "data": {
      "text/plain": [
       "(8, 10)"
      ]
     },
     "execution_count": 98,
     "metadata": {},
     "output_type": "execute_result"
    }
   ],
   "source": [
    "foo(22, 2)"
   ]
  },
  {
   "cell_type": "code",
   "execution_count": 99,
   "metadata": {
    "ExecuteTime": {
     "end_time": "2020-03-17T03:38:28.445401Z",
     "start_time": "2020-03-17T03:38:28.289111Z"
    }
   },
   "outputs": [
    {
     "name": "stdout",
     "output_type": "stream",
     "text": [
      "\r\n",
      "CALLING foo(a=22, b=2, c=(4, 5), d=True)\r\n",
      "22 2 (4, 5) True\r\n",
      "0\r\n",
      "2\r\n",
      "4\r\n",
      "divis by 5\r\n",
      "6\r\n",
      "8\r\n",
      "10\r\n",
      "12\r\n",
      "14\r\n",
      "divis by 5\r\n",
      "16\r\n",
      "18\r\n",
      "20\r\n"
     ]
    }
   ],
   "source": [
    "cat logs/foo.log"
   ]
  },
  {
   "cell_type": "code",
   "execution_count": 100,
   "metadata": {
    "ExecuteTime": {
     "end_time": "2020-03-17T03:38:34.831045Z",
     "start_time": "2020-03-17T03:38:34.822734Z"
    }
   },
   "outputs": [],
   "source": [
    "@log_stdout(fname='log2/mylog.log')\n",
    "@debug\n",
    "def foo(a, b=3, c=(4,5), d=True):\n",
    "    print(a, b, c, d)\n",
    "    for i in range(a):\n",
    "        if i % 2 == 0:\n",
    "            print(i)\n",
    "        elif i % 5 == 0:\n",
    "            print('divis by 5')\n",
    "        elif i > 50:\n",
    "            print('*'*i)\n",
    "    return tuple(b*i for i in c)"
   ]
  },
  {
   "cell_type": "code",
   "execution_count": 101,
   "metadata": {
    "ExecuteTime": {
     "end_time": "2020-03-17T03:38:39.408642Z",
     "start_time": "2020-03-17T03:38:39.401541Z"
    }
   },
   "outputs": [
    {
     "data": {
      "text/plain": [
       "(76, 95)"
      ]
     },
     "execution_count": 101,
     "metadata": {},
     "output_type": "execute_result"
    }
   ],
   "source": [
    "foo(31, 19)"
   ]
  },
  {
   "cell_type": "code",
   "execution_count": 102,
   "metadata": {
    "ExecuteTime": {
     "end_time": "2020-03-17T03:38:40.831678Z",
     "start_time": "2020-03-17T03:38:40.706025Z"
    }
   },
   "outputs": [
    {
     "name": "stdout",
     "output_type": "stream",
     "text": [
      "\r\n",
      "CALLING foo(a=31, b=19, c=(4, 5), d=True)\r\n",
      "31 19 (4, 5) True\r\n",
      "0\r\n",
      "2\r\n",
      "4\r\n",
      "divis by 5\r\n",
      "6\r\n",
      "8\r\n",
      "10\r\n",
      "12\r\n",
      "14\r\n",
      "divis by 5\r\n",
      "16\r\n",
      "18\r\n",
      "20\r\n",
      "22\r\n",
      "24\r\n",
      "divis by 5\r\n",
      "26\r\n",
      "28\r\n",
      "30\r\n"
     ]
    }
   ],
   "source": [
    "cat log2/mylog.log  "
   ]
  },
  {
   "cell_type": "markdown",
   "metadata": {},
   "source": [
    "## MultiOutput\n",
    "\n",
    "TODO:\n",
    "- check: 'write' mode doesn't seem to work [**answer:** it does, just not how I thought. See updated docstring for LoggerMixin]\n",
    "- check: is there a way to make `logger` var accessible inside func? E.g. inject local var into a func via a decorator? Simply declaring nonlocal in wrapper did not work. [**answer:** I think I could do this but not simply. E.g. we can create a new signature with the added variable and supply a default value, but we can't just rely on nonlocal/global namespaces in the decorator to give the function access.]\n",
    "- port MultiLogger and verbose_log() to htools"
   ]
  },
  {
   "cell_type": "code",
   "execution_count": 38,
   "metadata": {
    "ExecuteTime": {
     "end_time": "2020-06-06T01:23:39.455908Z",
     "start_time": "2020-06-06T01:23:39.452846Z"
    }
   },
   "outputs": [],
   "source": [
    "import numpy as np\n",
    "import time"
   ]
  },
  {
   "cell_type": "code",
   "execution_count": 3,
   "metadata": {
    "ExecuteTime": {
     "end_time": "2020-06-06T00:31:35.362431Z",
     "start_time": "2020-06-06T00:31:35.226309Z"
    }
   },
   "outputs": [
    {
     "name": "stdout",
     "output_type": "stream",
     "text": [
      "LICENSE.txt      \u001b[34mdata\u001b[m\u001b[m             \u001b[34mhtools.egg-info\u001b[m\u001b[m  setup.py\r\n",
      "MANIFEST.in      \u001b[34mdist\u001b[m\u001b[m             \u001b[34mnotebooks\u001b[m\u001b[m        tags\r\n",
      "README.md        \u001b[34mdocs\u001b[m\u001b[m             requirements.txt\r\n",
      "\u001b[34m__pycache__\u001b[m\u001b[m      \u001b[34mhtools\u001b[m\u001b[m           setup.cfg\r\n"
     ]
    }
   ],
   "source": [
    "!ls .."
   ]
  },
  {
   "cell_type": "code",
   "execution_count": 147,
   "metadata": {
    "ExecuteTime": {
     "end_time": "2020-06-08T04:25:21.176727Z",
     "start_time": "2020-06-08T04:25:21.170687Z"
    }
   },
   "outputs": [],
   "source": [
    "@delegate('logger')\n",
    "class MultiLogger(LoggerMixin):\n",
    "    \n",
    "    def __init__(self, path, fmode='w', fmt='%(message)s'):\n",
    "        self.logger = self.get_logger(path, fmode, 'info', fmt)\n",
    "        \n",
    "    def write(self, buf):\n",
    "        if buf != '\\n':\n",
    "            self.logger.info(buf)"
   ]
  },
  {
   "cell_type": "code",
   "execution_count": 163,
   "metadata": {
    "ExecuteTime": {
     "end_time": "2020-06-08T04:28:12.789540Z",
     "start_time": "2020-06-08T04:28:12.784265Z"
    }
   },
   "outputs": [],
   "source": [
    "ml = MultiLogger('../data/ml.log')"
   ]
  },
  {
   "cell_type": "code",
   "execution_count": 164,
   "metadata": {
    "ExecuteTime": {
     "end_time": "2020-06-08T04:28:13.678596Z",
     "start_time": "2020-06-08T04:28:13.661892Z"
    }
   },
   "outputs": [
    {
     "name": "stdout",
     "output_type": "stream",
     "text": [
      "0\n",
      "1\n",
      "2\n",
      "3\n",
      "4\n",
      "5\n",
      "6\n",
      "7\n",
      "8\n",
      "9\n"
     ]
    }
   ],
   "source": [
    "with redirect_stdout(ml):\n",
    "    for i in range(10):\n",
    "        print(i)"
   ]
  },
  {
   "cell_type": "code",
   "execution_count": 165,
   "metadata": {
    "ExecuteTime": {
     "end_time": "2020-06-08T04:28:21.441157Z",
     "start_time": "2020-06-08T04:28:21.433320Z"
    }
   },
   "outputs": [
    {
     "name": "stdout",
     "output_type": "stream",
     "text": [
      "abcdefg\n"
     ]
    }
   ],
   "source": [
    "ml.write('abcdefg')"
   ]
  },
  {
   "cell_type": "code",
   "execution_count": 166,
   "metadata": {
    "ExecuteTime": {
     "end_time": "2020-06-08T04:28:22.562437Z",
     "start_time": "2020-06-08T04:28:22.434427Z"
    },
    "scrolled": true
   },
   "outputs": [
    {
     "name": "stdout",
     "output_type": "stream",
     "text": [
      "0\r\n",
      "1\r\n",
      "2\r\n",
      "3\r\n",
      "4\r\n",
      "5\r\n",
      "6\r\n",
      "7\r\n",
      "8\r\n",
      "9\r\n",
      "abcdefg\r\n"
     ]
    }
   ],
   "source": [
    "!cat ../data/ml.log"
   ]
  },
  {
   "cell_type": "code",
   "execution_count": 167,
   "metadata": {
    "ExecuteTime": {
     "end_time": "2020-06-08T04:28:25.559353Z",
     "start_time": "2020-06-08T04:28:25.553293Z"
    }
   },
   "outputs": [
    {
     "name": "stdout",
     "output_type": "stream",
     "text": [
      "testing 3\n"
     ]
    }
   ],
   "source": [
    "ml.info('testing 3')"
   ]
  },
  {
   "cell_type": "code",
   "execution_count": 168,
   "metadata": {
    "ExecuteTime": {
     "end_time": "2020-06-08T04:28:26.370445Z",
     "start_time": "2020-06-08T04:28:26.245544Z"
    }
   },
   "outputs": [
    {
     "name": "stdout",
     "output_type": "stream",
     "text": [
      "0\r\n",
      "1\r\n",
      "2\r\n",
      "3\r\n",
      "4\r\n",
      "5\r\n",
      "6\r\n",
      "7\r\n",
      "8\r\n",
      "9\r\n",
      "abcdefg\r\n",
      "testing 3\r\n"
     ]
    }
   ],
   "source": [
    "!cat ../data/ml.log"
   ]
  },
  {
   "cell_type": "code",
   "execution_count": 169,
   "metadata": {
    "ExecuteTime": {
     "end_time": "2020-06-08T04:28:28.377671Z",
     "start_time": "2020-06-08T04:28:28.373444Z"
    }
   },
   "outputs": [
    {
     "name": "stdout",
     "output_type": "stream",
     "text": [
      "writing 3\n"
     ]
    }
   ],
   "source": [
    "ml.write('writing 3')"
   ]
  },
  {
   "cell_type": "code",
   "execution_count": 170,
   "metadata": {
    "ExecuteTime": {
     "end_time": "2020-06-08T04:28:29.726585Z",
     "start_time": "2020-06-08T04:28:29.601484Z"
    }
   },
   "outputs": [
    {
     "name": "stdout",
     "output_type": "stream",
     "text": [
      "0\r\n",
      "1\r\n",
      "2\r\n",
      "3\r\n",
      "4\r\n",
      "5\r\n",
      "6\r\n",
      "7\r\n",
      "8\r\n",
      "9\r\n",
      "abcdefg\r\n",
      "testing 3\r\n",
      "writing 3\r\n"
     ]
    }
   ],
   "source": [
    "!cat ../data/ml.log"
   ]
  },
  {
   "cell_type": "code",
   "execution_count": 152,
   "metadata": {
    "ExecuteTime": {
     "end_time": "2020-06-08T04:25:54.396244Z",
     "start_time": "2020-06-08T04:25:54.391631Z"
    }
   },
   "outputs": [],
   "source": [
    "def verbose_log(path, fmode='w', fmt='%(message)s'):\n",
    "    def decorator(func):\n",
    "        logger = MultiLogger(path, fmode, fmt)\n",
    "        @wraps(func)\n",
    "        def wrapper(*args, **kwargs):\n",
    "            with redirect_stdout(logger):\n",
    "                return func(*args, **kwargs)\n",
    "        return wrapper\n",
    "    return decorator"
   ]
  },
  {
   "cell_type": "code",
   "execution_count": 153,
   "metadata": {
    "ExecuteTime": {
     "end_time": "2020-06-08T04:25:55.285662Z",
     "start_time": "2020-06-08T04:25:55.275649Z"
    }
   },
   "outputs": [],
   "source": [
    "@verbose_log('../data/decorated.log', 'w')\n",
    "def main(a, b=77, *args, c=True, **kwargs):\n",
    "    print('CALLING MAIN')\n",
    "    print(a, b, c)\n",
    "    print(args)\n",
    "    print(kwargs)\n",
    "    for i in range(5):\n",
    "        wait = np.random.uniform()\n",
    "        time.sleep(wait)\n",
    "        print(i)"
   ]
  },
  {
   "cell_type": "code",
   "execution_count": 154,
   "metadata": {
    "ExecuteTime": {
     "end_time": "2020-06-08T04:25:56.581450Z",
     "start_time": "2020-06-08T04:25:56.433750Z"
    }
   },
   "outputs": [],
   "source": [
    "!cat ../data/decorated.log"
   ]
  },
  {
   "cell_type": "code",
   "execution_count": 155,
   "metadata": {
    "ExecuteTime": {
     "end_time": "2020-06-08T04:26:00.392870Z",
     "start_time": "2020-06-08T04:25:57.676943Z"
    }
   },
   "outputs": [
    {
     "name": "stdout",
     "output_type": "stream",
     "text": [
      "CALLING MAIN\n",
      "7\n",
      " \n",
      "77\n",
      " \n",
      "True\n",
      "()\n",
      "{}\n",
      "0\n",
      "1\n",
      "2\n",
      "3\n",
      "4\n"
     ]
    }
   ],
   "source": [
    "main(7, c=True)"
   ]
  },
  {
   "cell_type": "code",
   "execution_count": 156,
   "metadata": {
    "ExecuteTime": {
     "end_time": "2020-06-08T04:26:01.273980Z",
     "start_time": "2020-06-08T04:26:01.138453Z"
    }
   },
   "outputs": [
    {
     "name": "stdout",
     "output_type": "stream",
     "text": [
      "CALLING MAIN\r\n",
      "7\r\n",
      " \r\n",
      "77\r\n",
      " \r\n",
      "True\r\n",
      "()\r\n",
      "{}\r\n",
      "0\r\n",
      "1\r\n",
      "2\r\n",
      "3\r\n",
      "4\r\n"
     ]
    }
   ],
   "source": [
    "!cat ../data/decorated.log"
   ]
  },
  {
   "cell_type": "code",
   "execution_count": 157,
   "metadata": {
    "ExecuteTime": {
     "end_time": "2020-06-08T04:26:18.501297Z",
     "start_time": "2020-06-08T04:26:16.231020Z"
    }
   },
   "outputs": [
    {
     "name": "stdout",
     "output_type": "stream",
     "text": [
      "CALLING MAIN\n",
      "0\n",
      " \n",
      "77\n",
      " \n",
      "False\n",
      "()\n",
      "{}\n",
      "0\n",
      "1\n",
      "2\n",
      "3\n",
      "4\n"
     ]
    }
   ],
   "source": [
    "main(0, c=False)"
   ]
  },
  {
   "cell_type": "code",
   "execution_count": 158,
   "metadata": {
    "ExecuteTime": {
     "end_time": "2020-06-08T04:26:22.831860Z",
     "start_time": "2020-06-08T04:26:22.700720Z"
    }
   },
   "outputs": [
    {
     "name": "stdout",
     "output_type": "stream",
     "text": [
      "CALLING MAIN\r\n",
      "7\r\n",
      " \r\n",
      "77\r\n",
      " \r\n",
      "True\r\n",
      "()\r\n",
      "{}\r\n",
      "0\r\n",
      "1\r\n",
      "2\r\n",
      "3\r\n",
      "4\r\n",
      "CALLING MAIN\r\n",
      "0\r\n",
      " \r\n",
      "77\r\n",
      " \r\n",
      "False\r\n",
      "()\r\n",
      "{}\r\n",
      "0\r\n",
      "1\r\n",
      "2\r\n",
      "3\r\n",
      "4\r\n"
     ]
    }
   ],
   "source": [
    "!cat ../data/decorated.log"
   ]
  },
  {
   "cell_type": "markdown",
   "metadata": {},
   "source": [
    "## Scratch logger"
   ]
  },
  {
   "cell_type": "code",
   "execution_count": 135,
   "metadata": {
    "ExecuteTime": {
     "end_time": "2020-06-08T04:17:44.588949Z",
     "start_time": "2020-06-08T04:17:44.582624Z"
    }
   },
   "outputs": [
    {
     "data": {
      "text/plain": [
       "<Logger LoggerMixin (INFO)>"
      ]
     },
     "execution_count": 135,
     "metadata": {},
     "output_type": "execute_result"
    }
   ],
   "source": [
    "fname = '../data/decorated.log'\n",
    "logger = LoggerMixin().get_logger(fname, fmode='w')\n",
    "logger"
   ]
  },
  {
   "cell_type": "code",
   "execution_count": 136,
   "metadata": {
    "ExecuteTime": {
     "end_time": "2020-06-08T04:17:44.757969Z",
     "start_time": "2020-06-08T04:17:44.752340Z"
    }
   },
   "outputs": [
    {
     "name": "stdout",
     "output_type": "stream",
     "text": [
      "2020-06-07 21:17:44,753 [INFO]: testing\n"
     ]
    }
   ],
   "source": [
    "logger.info('testing')"
   ]
  },
  {
   "cell_type": "code",
   "execution_count": 137,
   "metadata": {
    "ExecuteTime": {
     "end_time": "2020-06-08T04:17:45.044923Z",
     "start_time": "2020-06-08T04:17:44.915728Z"
    }
   },
   "outputs": [
    {
     "name": "stdout",
     "output_type": "stream",
     "text": [
      "2020-06-07 21:17:44,753 [INFO]: testing\r\n"
     ]
    }
   ],
   "source": [
    "!cat {fname}"
   ]
  },
  {
   "cell_type": "code",
   "execution_count": 138,
   "metadata": {
    "ExecuteTime": {
     "end_time": "2020-06-08T04:17:45.217035Z",
     "start_time": "2020-06-08T04:17:45.212158Z"
    }
   },
   "outputs": [
    {
     "name": "stdout",
     "output_type": "stream",
     "text": [
      "2020-06-07 21:17:45,213 [INFO]: round 2\n"
     ]
    }
   ],
   "source": [
    "logger.info('round 2')"
   ]
  },
  {
   "cell_type": "code",
   "execution_count": 139,
   "metadata": {
    "ExecuteTime": {
     "end_time": "2020-06-08T04:17:45.782975Z",
     "start_time": "2020-06-08T04:17:45.661789Z"
    }
   },
   "outputs": [
    {
     "name": "stdout",
     "output_type": "stream",
     "text": [
      "2020-06-07 21:17:44,753 [INFO]: testing\r\n",
      "2020-06-07 21:17:45,213 [INFO]: round 2\r\n"
     ]
    }
   ],
   "source": [
    "!cat {fname}"
   ]
  },
  {
   "cell_type": "code",
   "execution_count": 140,
   "metadata": {
    "ExecuteTime": {
     "end_time": "2020-06-08T04:17:47.111966Z",
     "start_time": "2020-06-08T04:17:47.097347Z"
    }
   },
   "outputs": [
    {
     "data": {
      "text/plain": [
       "<Logger LoggerMixin (INFO)>"
      ]
     },
     "execution_count": 140,
     "metadata": {},
     "output_type": "execute_result"
    }
   ],
   "source": [
    "logger = LoggerMixin().get_logger(fname, fmode='a')\n",
    "logger"
   ]
  },
  {
   "cell_type": "code",
   "execution_count": 141,
   "metadata": {
    "ExecuteTime": {
     "end_time": "2020-06-08T04:17:48.274272Z",
     "start_time": "2020-06-08T04:17:48.145969Z"
    }
   },
   "outputs": [
    {
     "name": "stdout",
     "output_type": "stream",
     "text": [
      "2020-06-07 21:17:44,753 [INFO]: testing\r\n",
      "2020-06-07 21:17:45,213 [INFO]: round 2\r\n"
     ]
    }
   ],
   "source": [
    "!cat {fname}"
   ]
  },
  {
   "cell_type": "code",
   "execution_count": 142,
   "metadata": {
    "ExecuteTime": {
     "end_time": "2020-06-08T04:17:48.855175Z",
     "start_time": "2020-06-08T04:17:48.847758Z"
    }
   },
   "outputs": [
    {
     "name": "stdout",
     "output_type": "stream",
     "text": [
      "2020-06-07 21:17:48,849 [INFO]: round 3\n",
      "2020-06-07 21:17:48,852 [INFO]: round 4\n"
     ]
    }
   ],
   "source": [
    "logger.info('round 3')\n",
    "logger.info('round 4')"
   ]
  },
  {
   "cell_type": "code",
   "execution_count": 143,
   "metadata": {
    "ExecuteTime": {
     "end_time": "2020-06-08T04:17:51.165174Z",
     "start_time": "2020-06-08T04:17:51.029846Z"
    }
   },
   "outputs": [
    {
     "name": "stdout",
     "output_type": "stream",
     "text": [
      "2020-06-07 21:17:44,753 [INFO]: testing\r\n",
      "2020-06-07 21:17:45,213 [INFO]: round 2\r\n",
      "2020-06-07 21:17:48,849 [INFO]: round 3\r\n",
      "2020-06-07 21:17:48,852 [INFO]: round 4\r\n"
     ]
    }
   ],
   "source": [
    "!cat {fname}"
   ]
  },
  {
   "cell_type": "code",
   "execution_count": 144,
   "metadata": {
    "ExecuteTime": {
     "end_time": "2020-06-08T04:17:53.401363Z",
     "start_time": "2020-06-08T04:17:53.395068Z"
    }
   },
   "outputs": [
    {
     "name": "stdout",
     "output_type": "stream",
     "text": [
      "2020-06-07 21:17:53,396 [INFO]: round 5\n",
      "2020-06-07 21:17:53,398 [INFO]: round 6\n"
     ]
    }
   ],
   "source": [
    "logger.info('round 5')\n",
    "logger.info('round 6')"
   ]
  },
  {
   "cell_type": "code",
   "execution_count": 145,
   "metadata": {
    "ExecuteTime": {
     "end_time": "2020-06-08T04:17:54.805866Z",
     "start_time": "2020-06-08T04:17:54.679573Z"
    }
   },
   "outputs": [
    {
     "name": "stdout",
     "output_type": "stream",
     "text": [
      "2020-06-07 21:17:44,753 [INFO]: testing\r\n",
      "2020-06-07 21:17:45,213 [INFO]: round 2\r\n",
      "2020-06-07 21:17:48,849 [INFO]: round 3\r\n",
      "2020-06-07 21:17:48,852 [INFO]: round 4\r\n",
      "2020-06-07 21:17:53,396 [INFO]: round 5\r\n",
      "2020-06-07 21:17:53,398 [INFO]: round 6\r\n"
     ]
    }
   ],
   "source": [
    "!cat {fname}"
   ]
  }
 ],
 "metadata": {
  "kernelspec": {
   "display_name": "Python 3",
   "language": "python",
   "name": "python3"
  },
  "language_info": {
   "codemirror_mode": {
    "name": "ipython",
    "version": 3
   },
   "file_extension": ".py",
   "mimetype": "text/x-python",
   "name": "python",
   "nbconvert_exporter": "python",
   "pygments_lexer": "ipython3",
   "version": "3.7.3"
  }
 },
 "nbformat": 4,
 "nbformat_minor": 2
}
