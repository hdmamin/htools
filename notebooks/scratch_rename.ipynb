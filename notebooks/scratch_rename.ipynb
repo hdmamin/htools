{
 "cells": [
  {
   "cell_type": "code",
   "execution_count": 1,
   "metadata": {
    "ExecuteTime": {
     "end_time": "2020-04-22T19:52:52.259432Z",
     "start_time": "2020-04-22T19:52:52.240153Z"
    }
   },
   "outputs": [],
   "source": [
    "%load_ext autoreload\n",
    "%autoreload 2"
   ]
  },
  {
   "cell_type": "code",
   "execution_count": 2,
   "metadata": {
    "ExecuteTime": {
     "end_time": "2020-04-22T19:52:52.544638Z",
     "start_time": "2020-04-22T19:52:52.533578Z"
    }
   },
   "outputs": [],
   "source": [
    "import functools\n",
    "import inspect\n",
    "import types"
   ]
  },
  {
   "cell_type": "code",
   "execution_count": 3,
   "metadata": {
    "ExecuteTime": {
     "end_time": "2020-04-22T19:52:52.850904Z",
     "start_time": "2020-04-22T19:52:52.838890Z"
    }
   },
   "outputs": [],
   "source": [
    "def foo(a, b=3, *args, c=4, **kwargs):\n",
    "    return a, b, args, c, kwargs"
   ]
  },
  {
   "cell_type": "code",
   "execution_count": 5,
   "metadata": {
    "ExecuteTime": {
     "end_time": "2020-04-22T19:53:03.141716Z",
     "start_time": "2020-04-22T19:53:03.128521Z"
    }
   },
   "outputs": [
    {
     "data": {
      "text/plain": [
       "(1, 2, (3,), 4, {})"
      ]
     },
     "execution_count": 5,
     "metadata": {},
     "output_type": "execute_result"
    }
   ],
   "source": [
    "foo(1, 2, 3)"
   ]
  },
  {
   "cell_type": "code",
   "execution_count": 6,
   "metadata": {
    "ExecuteTime": {
     "end_time": "2020-04-22T19:53:05.745734Z",
     "start_time": "2020-04-22T19:53:05.733824Z"
    }
   },
   "outputs": [],
   "source": [
    "def copy_func(func):\n",
    "    new_func = types.FunctionType(func.__code__, func.__globals__, \n",
    "                                  func.__name__, func.__defaults__,\n",
    "                                  func.__closure__)\n",
    "    new_func.__kwdefaults__ = func.__kwdefaults__.copy()\n",
    "    return functools.update_wrapper(new_func, func)"
   ]
  },
  {
   "cell_type": "code",
   "execution_count": 11,
   "metadata": {
    "ExecuteTime": {
     "end_time": "2020-04-22T19:53:45.570073Z",
     "start_time": "2020-04-22T19:53:45.555471Z"
    }
   },
   "outputs": [],
   "source": [
    "def swap_params(func, old2new):\n",
    "    new_func = copy_func(func)\n",
    "    sig = inspect.signature(new_func)\n",
    "    kw_defaults = func.__kwdefaults__\n",
    "    names, params = map(list, zip(*sig.parameters.items()))\n",
    "    for old, new in old2new.items():\n",
    "        idx = names.index(old)\n",
    "        default = kw_defaults.get(old)\n",
    "        kwargs = {'default': default} if default else {}\n",
    "        params[idx] = inspect.Parameter(new, params[idx].kind, **kwargs)\n",
    "    new_func.__signature__ = sig.replace(parameters=params)\n",
    "    return new_func"
   ]
  },
  {
   "cell_type": "code",
   "execution_count": 8,
   "metadata": {
    "ExecuteTime": {
     "end_time": "2020-04-22T19:53:09.303364Z",
     "start_time": "2020-04-22T19:53:09.287693Z"
    }
   },
   "outputs": [
    {
     "data": {
      "text/plain": [
       "<function __main__.foo(removed, inserted, *args, command=4, **kwargs)>"
      ]
     },
     "execution_count": 8,
     "metadata": {},
     "output_type": "execute_result"
    }
   ],
   "source": [
    "res = swap_params(foo, {'b': 'inserted', 'a': 'removed', 'c': 'command'})\n",
    "res"
   ]
  },
  {
   "cell_type": "code",
   "execution_count": 9,
   "metadata": {
    "ExecuteTime": {
     "end_time": "2020-04-22T19:53:25.102274Z",
     "start_time": "2020-04-22T19:53:25.088271Z"
    },
    "scrolled": true
   },
   "outputs": [
    {
     "data": {
      "text/plain": [
       "(8, 9, (10,), 4, {})"
      ]
     },
     "execution_count": 9,
     "metadata": {},
     "output_type": "execute_result"
    }
   ],
   "source": [
    "res(8, 9, 10)"
   ]
  },
  {
   "cell_type": "code",
   "execution_count": 10,
   "metadata": {
    "ExecuteTime": {
     "end_time": "2020-04-22T19:53:32.232797Z",
     "start_time": "2020-04-22T19:53:32.219871Z"
    }
   },
   "outputs": [
    {
     "data": {
      "text/plain": [
       "(8, 9, (10,), 4, {})"
      ]
     },
     "execution_count": 10,
     "metadata": {},
     "output_type": "execute_result"
    }
   ],
   "source": [
    "foo(8, 9, 10)"
   ]
  }
 ],
 "metadata": {
  "kernelspec": {
   "display_name": "Python 3",
   "language": "python",
   "name": "python3"
  },
  "language_info": {
   "codemirror_mode": {
    "name": "ipython",
    "version": 3
   },
   "file_extension": ".py",
   "mimetype": "text/x-python",
   "name": "python",
   "nbconvert_exporter": "python",
   "pygments_lexer": "ipython3",
   "version": "3.7.4"
  },
  "toc": {
   "base_numbering": 1,
   "nav_menu": {},
   "number_sections": true,
   "sideBar": true,
   "skip_h1_title": false,
   "title_cell": "Table of Contents",
   "title_sidebar": "Contents",
   "toc_cell": false,
   "toc_position": {},
   "toc_section_display": true,
   "toc_window_display": false
  }
 },
 "nbformat": 4,
 "nbformat_minor": 2
}
