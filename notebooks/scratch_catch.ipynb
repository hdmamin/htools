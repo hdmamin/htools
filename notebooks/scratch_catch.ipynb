{
 "cells": [
  {
   "cell_type": "code",
   "execution_count": 1,
   "metadata": {
    "ExecuteTime": {
     "end_time": "2019-10-16T04:28:48.635088Z",
     "start_time": "2019-10-16T04:28:48.565666Z"
    }
   },
   "outputs": [
    {
     "ename": "ZeroDivisionError",
     "evalue": "division by zero",
     "output_type": "error",
     "traceback": [
      "\u001b[0;31m---------------------------------------------------------------------------\u001b[0m",
      "\u001b[0;31mZeroDivisionError\u001b[0m                         Traceback (most recent call last)",
      "\u001b[0;32m<ipython-input-1-488456aecdba>\u001b[0m in \u001b[0;36m<module>\u001b[0;34m\u001b[0m\n\u001b[0;32m----> 1\u001b[0;31m \u001b[0;34m[\u001b[0m\u001b[0;36m1\u001b[0m\u001b[0;34m/\u001b[0m\u001b[0mi\u001b[0m \u001b[0;32mfor\u001b[0m \u001b[0mi\u001b[0m \u001b[0;32min\u001b[0m \u001b[0mrange\u001b[0m\u001b[0;34m(\u001b[0m\u001b[0;36m5\u001b[0m\u001b[0;34m)\u001b[0m\u001b[0;34m]\u001b[0m\u001b[0;34m\u001b[0m\u001b[0;34m\u001b[0m\u001b[0m\n\u001b[0m",
      "\u001b[0;32m<ipython-input-1-488456aecdba>\u001b[0m in \u001b[0;36m<listcomp>\u001b[0;34m(.0)\u001b[0m\n\u001b[0;32m----> 1\u001b[0;31m \u001b[0;34m[\u001b[0m\u001b[0;36m1\u001b[0m\u001b[0;34m/\u001b[0m\u001b[0mi\u001b[0m \u001b[0;32mfor\u001b[0m \u001b[0mi\u001b[0m \u001b[0;32min\u001b[0m \u001b[0mrange\u001b[0m\u001b[0;34m(\u001b[0m\u001b[0;36m5\u001b[0m\u001b[0;34m)\u001b[0m\u001b[0;34m]\u001b[0m\u001b[0;34m\u001b[0m\u001b[0;34m\u001b[0m\u001b[0m\n\u001b[0m",
      "\u001b[0;31mZeroDivisionError\u001b[0m: division by zero"
     ]
    }
   ],
   "source": [
    "[1/i for i in range(5)]"
   ]
  },
  {
   "cell_type": "code",
   "execution_count": 37,
   "metadata": {
    "ExecuteTime": {
     "end_time": "2019-10-16T04:42:24.066821Z",
     "start_time": "2019-10-16T04:42:24.061555Z"
    }
   },
   "outputs": [],
   "source": [
    "def catch(func, *args, verbose=False):\n",
    "    \"\"\"Error handling for list comprehensions.\n",
    "    \n",
    "    Parameters\n",
    "    -----------\n",
    "    func: function\n",
    "    *args: any type\n",
    "        Arguments to be passed to func.\n",
    "    verbose: bool\n",
    "        If True, print the error message should one occur.\n",
    "    \n",
    "    Returns\n",
    "    --------\n",
    "    any type: If the function executes successfully, its output is returned.\n",
    "        Otherwise, return None.\n",
    "        \n",
    "    Examples\n",
    "    ---------\n",
    "    [catch(lambda x: 1 / x, i) for i in range(3)]\n",
    "    >>> [None, 1.0, 0.5]\n",
    "    \n",
    "    list(filter(None, [catch(lambda x: 1 / x, i) for i in range(3)]))\n",
    "    >>> [1.0, 0.5]\n",
    "    \"\"\"\n",
    "    try:\n",
    "        return func(*args)\n",
    "    except Exception as e:\n",
    "        if verbose:\n",
    "            print(e)\n",
    "        return"
   ]
  },
  {
   "cell_type": "code",
   "execution_count": 38,
   "metadata": {
    "ExecuteTime": {
     "end_time": "2019-10-16T04:42:24.525660Z",
     "start_time": "2019-10-16T04:42:24.521755Z"
    }
   },
   "outputs": [],
   "source": [
    "catch(lambda x: x/0, 1)"
   ]
  },
  {
   "cell_type": "code",
   "execution_count": 39,
   "metadata": {
    "ExecuteTime": {
     "end_time": "2019-10-16T04:42:25.154197Z",
     "start_time": "2019-10-16T04:42:25.148281Z"
    }
   },
   "outputs": [
    {
     "name": "stdout",
     "output_type": "stream",
     "text": [
      "division by zero\n"
     ]
    }
   ],
   "source": [
    "catch(lambda x: x/0, 1, verbose=True)"
   ]
  },
  {
   "cell_type": "code",
   "execution_count": 43,
   "metadata": {
    "ExecuteTime": {
     "end_time": "2019-10-16T04:42:35.768743Z",
     "start_time": "2019-10-16T04:42:35.760470Z"
    }
   },
   "outputs": [
    {
     "data": {
      "text/plain": [
       "[None, 1.0, 0.5]"
      ]
     },
     "execution_count": 43,
     "metadata": {},
     "output_type": "execute_result"
    }
   ],
   "source": [
    "[catch(lambda x: 1/x, i) for i in range(3)]"
   ]
  },
  {
   "cell_type": "code",
   "execution_count": 42,
   "metadata": {
    "ExecuteTime": {
     "end_time": "2019-10-16T04:42:33.010243Z",
     "start_time": "2019-10-16T04:42:33.002678Z"
    }
   },
   "outputs": [
    {
     "data": {
      "text/plain": [
       "[1.0, 0.5]"
      ]
     },
     "execution_count": 42,
     "metadata": {},
     "output_type": "execute_result"
    }
   ],
   "source": [
    "list(filter(None, [catch(lambda x: 1/x, i) for i in range(3)]))"
   ]
  },
  {
   "cell_type": "code",
   "execution_count": null,
   "metadata": {},
   "outputs": [],
   "source": []
  }
 ],
 "metadata": {
  "kernelspec": {
   "display_name": "Python 3",
   "language": "python",
   "name": "python3"
  },
  "language_info": {
   "codemirror_mode": {
    "name": "ipython",
    "version": 3
   },
   "file_extension": ".py",
   "mimetype": "text/x-python",
   "name": "python",
   "nbconvert_exporter": "python",
   "pygments_lexer": "ipython3",
   "version": "3.7.3"
  }
 },
 "nbformat": 4,
 "nbformat_minor": 2
}
