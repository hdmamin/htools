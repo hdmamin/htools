{
 "cells": [
  {
   "cell_type": "code",
   "execution_count": 13,
   "metadata": {
    "ExecuteTime": {
     "end_time": "2020-05-23T23:48:52.594478Z",
     "start_time": "2020-05-23T23:48:52.454143Z"
    }
   },
   "outputs": [
    {
     "name": "stdout",
     "output_type": "stream",
     "text": [
      "The autoreload extension is already loaded. To reload it, use:\n",
      "  %reload_ext autoreload\n"
     ]
    }
   ],
   "source": [
    "%load_ext autoreload\n",
    "%autoreload 2"
   ]
  },
  {
   "cell_type": "code",
   "execution_count": 350,
   "metadata": {
    "ExecuteTime": {
     "end_time": "2020-05-24T00:44:53.204472Z",
     "start_time": "2020-05-24T00:44:53.145157Z"
    }
   },
   "outputs": [],
   "source": [
    "from copy import deepcopy, copy\n",
    "from fastai2.text.all import L\n",
    "from functools import wraps, update_wrapper\n",
    "import inspect\n",
    "import numpy as np\n",
    "from string import ascii_lowercase\n",
    "import types\n",
    "\n",
    "# from htools import copy_func, rename_params"
   ]
  },
  {
   "cell_type": "code",
   "execution_count": 46,
   "metadata": {
    "ExecuteTime": {
     "end_time": "2020-05-23T23:50:59.856994Z",
     "start_time": "2020-05-23T23:50:59.802920Z"
    }
   },
   "outputs": [],
   "source": [
    "def copy_func(func):\n",
    "    new_func = types.FunctionType(func.__code__, func.__globals__,\n",
    "                                  func.__name__, func.__defaults__,\n",
    "                                  func.__closure__)\n",
    "    defaults = getattr(func, '__kwdefaults__') or {}\n",
    "    new_func.__kwdefaults__ = defaults.copy()\n",
    "    return update_wrapper(new_func, func)"
   ]
  },
  {
   "cell_type": "code",
   "execution_count": 81,
   "metadata": {
    "ExecuteTime": {
     "end_time": "2020-05-24T00:00:04.290119Z",
     "start_time": "2020-05-24T00:00:04.217112Z"
    }
   },
   "outputs": [],
   "source": [
    "def rename_params(func, **old2new):\n",
    "    new_func = copy_func(func)\n",
    "    sig = inspect.signature(new_func)\n",
    "    kw_defaults = func.__kwdefaults__ or {}\n",
    "    names, params = map(list, zip(*sig.parameters.items()))\n",
    "    for old, new in old2new.items():\n",
    "        idx = names.index(old)\n",
    "        default = kw_defaults.get(old) or params[idx].default\n",
    "        params[idx] = inspect.Parameter(new, params[idx].kind, default=default)\n",
    "    new_func.__signature__ = sig.replace(parameters=params)\n",
    "    return new_func"
   ]
  },
  {
   "cell_type": "code",
   "execution_count": 48,
   "metadata": {
    "ExecuteTime": {
     "end_time": "2020-05-23T23:51:00.341108Z",
     "start_time": "2020-05-23T23:51:00.283185Z"
    }
   },
   "outputs": [
    {
     "data": {
      "text/plain": [
       "<method-wrapper '__hash__' of int object at 0x108ac55c0>"
      ]
     },
     "execution_count": 48,
     "metadata": {},
     "output_type": "execute_result"
    }
   ],
   "source": [
    "x = 2\n",
    "getattr(x, '__hash__')"
   ]
  },
  {
   "cell_type": "markdown",
   "metadata": {},
   "source": [
    "```\n",
    "Somehow assignment:\n",
    "\n",
    "func.__defaults__ = _defaults\n",
    "\n",
    "is changing _defaults\n",
    "\n",
    "Assigning\n",
    "\n",
    "wrapper.__defaults__ = _defaults\n",
    "\n",
    "does not change _defaults and DOES change wrapper._defaults, but it doesn't change func.__defaults__ and doesn't affect func behavior\n",
    "```"
   ]
  },
  {
   "cell_type": "code",
   "execution_count": 454,
   "metadata": {
    "ExecuteTime": {
     "end_time": "2020-05-24T00:52:28.763748Z",
     "start_time": "2020-05-24T00:52:28.701093Z"
    }
   },
   "outputs": [],
   "source": [
    "def immutify_defaults(func):\n",
    "    # If `__hash__` is not None, object is immutable already.\n",
    "    # Python sets __defaults__ and __kwdefaults__ to None when they're empty.\n",
    "    _defaults = tuple(o if getattr(o, '__hash__') else deepcopy(o)\n",
    "                      for o in getattr(func, '__defaults__') or ()) or None\n",
    "    _kwdefaults = {k: v if getattr(v, '__hash__') else deepcopy(v) for k, v \n",
    "                   in (getattr(func, '__kwdefaults__') or {}).items()} or None\n",
    "\n",
    "    @wraps(func)\n",
    "    def wrapper(*args, **kwargs):\n",
    "        res = func(*args, **kwargs)\n",
    "        wrapper.__defaults__ = func.__defaults__ = deepcopy(_defaults)\n",
    "        wrapper.__kwdefaults__ = func.__kwdefaults__ = deepcopy(_kwdefaults)\n",
    "        return res\n",
    "    return wrapper"
   ]
  },
  {
   "cell_type": "code",
   "execution_count": 455,
   "metadata": {
    "ExecuteTime": {
     "end_time": "2020-05-24T00:52:29.294843Z",
     "start_time": "2020-05-24T00:52:29.250241Z"
    }
   },
   "outputs": [
    {
     "data": {
      "text/plain": [
       "([1, 3, 'abc', [2, 4, 5]], [1, 3, 'abc', [2, 4, 5]])"
      ]
     },
     "execution_count": 455,
     "metadata": {},
     "output_type": "execute_result"
    }
   ],
   "source": [
    "arr = [1, 3, 'abc', [2,4,5]]\n",
    "a2 = [deepcopy(x) for x in arr]\n",
    "arr, a2"
   ]
  },
  {
   "cell_type": "code",
   "execution_count": 456,
   "metadata": {
    "ExecuteTime": {
     "end_time": "2020-05-24T00:52:29.553843Z",
     "start_time": "2020-05-24T00:52:29.510271Z"
    }
   },
   "outputs": [
    {
     "data": {
      "text/plain": [
       "([1, 3, 'abc', [2, 4, 5], 9], [1, 3, 'abc', [2, 4, 5]])"
      ]
     },
     "execution_count": 456,
     "metadata": {},
     "output_type": "execute_result"
    }
   ],
   "source": [
    "arr.append(9)\n",
    "arr, a2"
   ]
  },
  {
   "cell_type": "code",
   "execution_count": 457,
   "metadata": {
    "ExecuteTime": {
     "end_time": "2020-05-24T00:52:29.939298Z",
     "start_time": "2020-05-24T00:52:29.890055Z"
    }
   },
   "outputs": [
    {
     "data": {
      "text/plain": [
       "([3, 3, 'abc', [2, 4, 5], 9], [1, 3, 'abc', [2, 4, 5]])"
      ]
     },
     "execution_count": 457,
     "metadata": {},
     "output_type": "execute_result"
    }
   ],
   "source": [
    "arr[0] = 3\n",
    "arr, a2"
   ]
  },
  {
   "cell_type": "code",
   "execution_count": 458,
   "metadata": {
    "ExecuteTime": {
     "end_time": "2020-05-24T00:52:30.123802Z",
     "start_time": "2020-05-24T00:52:30.073190Z"
    }
   },
   "outputs": [],
   "source": [
    "def foo(c, b=3, a=['a', 'b']):\n",
    "    print(c, b, a)\n",
    "    a.append(np.random.choice(list(ascii_lowercase)))\n",
    "    return a"
   ]
  },
  {
   "cell_type": "code",
   "execution_count": 459,
   "metadata": {
    "ExecuteTime": {
     "end_time": "2020-05-24T00:52:30.613429Z",
     "start_time": "2020-05-24T00:52:30.571744Z"
    }
   },
   "outputs": [
    {
     "name": "stdout",
     "output_type": "stream",
     "text": [
      "2 3 ['a', 'b']\n"
     ]
    },
    {
     "data": {
      "text/plain": [
       "['a', 'b', 'm']"
      ]
     },
     "execution_count": 459,
     "metadata": {},
     "output_type": "execute_result"
    }
   ],
   "source": [
    "foo(2)"
   ]
  },
  {
   "cell_type": "code",
   "execution_count": 460,
   "metadata": {
    "ExecuteTime": {
     "end_time": "2020-05-24T00:52:30.745529Z",
     "start_time": "2020-05-24T00:52:30.686051Z"
    }
   },
   "outputs": [
    {
     "name": "stdout",
     "output_type": "stream",
     "text": [
      "4 3 ['a', 'b', 'm']\n"
     ]
    },
    {
     "data": {
      "text/plain": [
       "['a', 'b', 'm', 'm']"
      ]
     },
     "execution_count": 460,
     "metadata": {},
     "output_type": "execute_result"
    }
   ],
   "source": [
    "foo(4)"
   ]
  },
  {
   "cell_type": "code",
   "execution_count": 461,
   "metadata": {
    "ExecuteTime": {
     "end_time": "2020-05-24T00:52:30.858711Z",
     "start_time": "2020-05-24T00:52:30.802770Z"
    },
    "scrolled": true
   },
   "outputs": [
    {
     "data": {
      "text/plain": [
       "(3, ['a', 'b', 'm', 'm'])"
      ]
     },
     "execution_count": 461,
     "metadata": {},
     "output_type": "execute_result"
    }
   ],
   "source": [
    "foo.__defaults__"
   ]
  },
  {
   "cell_type": "code",
   "execution_count": 462,
   "metadata": {
    "ExecuteTime": {
     "end_time": "2020-05-24T00:52:31.246608Z",
     "start_time": "2020-05-24T00:52:31.199204Z"
    }
   },
   "outputs": [],
   "source": [
    "foo.__kwdefaults__"
   ]
  },
  {
   "cell_type": "code",
   "execution_count": 463,
   "metadata": {
    "ExecuteTime": {
     "end_time": "2020-05-24T00:52:31.639786Z",
     "start_time": "2020-05-24T00:52:31.589462Z"
    }
   },
   "outputs": [],
   "source": [
    "@immutify_defaults\n",
    "def foobar(a, *args, b=[3], c=(4, 5)):\n",
    "    b.append(1)\n",
    "    return b"
   ]
  },
  {
   "cell_type": "code",
   "execution_count": 464,
   "metadata": {
    "ExecuteTime": {
     "end_time": "2020-05-24T00:52:32.103100Z",
     "start_time": "2020-05-24T00:52:32.057159Z"
    }
   },
   "outputs": [
    {
     "data": {
      "text/plain": [
       "[3, 1]"
      ]
     },
     "execution_count": 464,
     "metadata": {},
     "output_type": "execute_result"
    }
   ],
   "source": [
    "foobar(1, 'c', 'd', 'e')"
   ]
  },
  {
   "cell_type": "code",
   "execution_count": 465,
   "metadata": {
    "ExecuteTime": {
     "end_time": "2020-05-24T00:52:32.560947Z",
     "start_time": "2020-05-24T00:52:32.514291Z"
    }
   },
   "outputs": [
    {
     "data": {
      "text/plain": [
       "[3, 1]"
      ]
     },
     "execution_count": 465,
     "metadata": {},
     "output_type": "execute_result"
    }
   ],
   "source": [
    "foobar(2, 'c', 'd', 'e')"
   ]
  },
  {
   "cell_type": "code",
   "execution_count": 466,
   "metadata": {
    "ExecuteTime": {
     "end_time": "2020-05-24T00:52:33.020182Z",
     "start_time": "2020-05-24T00:52:32.977118Z"
    }
   },
   "outputs": [
    {
     "data": {
      "text/plain": [
       "[3, 1]"
      ]
     },
     "execution_count": 466,
     "metadata": {},
     "output_type": "execute_result"
    }
   ],
   "source": [
    "foobar(1, 'c', 'd', 'e')"
   ]
  },
  {
   "cell_type": "code",
   "execution_count": 467,
   "metadata": {
    "ExecuteTime": {
     "end_time": "2020-05-24T00:52:33.507332Z",
     "start_time": "2020-05-24T00:52:33.462279Z"
    }
   },
   "outputs": [
    {
     "data": {
      "text/plain": [
       "{'b': [3], 'c': (4, 5)}"
      ]
     },
     "execution_count": 467,
     "metadata": {},
     "output_type": "execute_result"
    }
   ],
   "source": [
    "foobar.__kwdefaults__"
   ]
  },
  {
   "cell_type": "code",
   "execution_count": 468,
   "metadata": {
    "ExecuteTime": {
     "end_time": "2020-05-24T00:52:33.955135Z",
     "start_time": "2020-05-24T00:52:33.901670Z"
    }
   },
   "outputs": [],
   "source": [
    "foobar.__defaults__"
   ]
  },
  {
   "cell_type": "code",
   "execution_count": 469,
   "metadata": {
    "ExecuteTime": {
     "end_time": "2020-05-24T00:52:44.024108Z",
     "start_time": "2020-05-24T00:52:43.980815Z"
    }
   },
   "outputs": [],
   "source": [
    "@immutify_defaults\n",
    "def foo(a, b=3, c=['a', 'b']):\n",
    "    print('IN FOO', a, b, c)\n",
    "    c.append(np.random.choice(list(ascii_lowercase)))\n",
    "    return c"
   ]
  },
  {
   "cell_type": "code",
   "execution_count": 470,
   "metadata": {
    "ExecuteTime": {
     "end_time": "2020-05-24T00:52:44.523816Z",
     "start_time": "2020-05-24T00:52:44.486401Z"
    }
   },
   "outputs": [],
   "source": [
    "foo.__defaults__"
   ]
  },
  {
   "cell_type": "code",
   "execution_count": 471,
   "metadata": {
    "ExecuteTime": {
     "end_time": "2020-05-24T00:52:44.931531Z",
     "start_time": "2020-05-24T00:52:44.876286Z"
    }
   },
   "outputs": [
    {
     "name": "stdout",
     "output_type": "stream",
     "text": [
      "IN FOO 4 3 ['a', 'b']\n"
     ]
    },
    {
     "data": {
      "text/plain": [
       "['a', 'b', 'l']"
      ]
     },
     "execution_count": 471,
     "metadata": {},
     "output_type": "execute_result"
    }
   ],
   "source": [
    "foo(4)"
   ]
  },
  {
   "cell_type": "code",
   "execution_count": 472,
   "metadata": {
    "ExecuteTime": {
     "end_time": "2020-05-24T00:52:45.221561Z",
     "start_time": "2020-05-24T00:52:45.173194Z"
    }
   },
   "outputs": [
    {
     "name": "stdout",
     "output_type": "stream",
     "text": [
      "IN FOO 11 3 ['a', 'b']\n"
     ]
    },
    {
     "data": {
      "text/plain": [
       "['a', 'b', 'a']"
      ]
     },
     "execution_count": 472,
     "metadata": {},
     "output_type": "execute_result"
    }
   ],
   "source": [
    "foo(11)"
   ]
  },
  {
   "cell_type": "code",
   "execution_count": 473,
   "metadata": {
    "ExecuteTime": {
     "end_time": "2020-05-24T00:52:45.474199Z",
     "start_time": "2020-05-24T00:52:45.433117Z"
    }
   },
   "outputs": [
    {
     "name": "stdout",
     "output_type": "stream",
     "text": [
      "IN FOO 5 3 ['a', 'b']\n"
     ]
    },
    {
     "data": {
      "text/plain": [
       "['a', 'b', 't']"
      ]
     },
     "execution_count": 473,
     "metadata": {},
     "output_type": "execute_result"
    }
   ],
   "source": [
    "foo(5)"
   ]
  },
  {
   "cell_type": "code",
   "execution_count": 474,
   "metadata": {
    "ExecuteTime": {
     "end_time": "2020-05-24T00:52:46.257777Z",
     "start_time": "2020-05-24T00:52:46.216491Z"
    }
   },
   "outputs": [
    {
     "data": {
      "text/plain": [
       "(3, ['a', 'b'])"
      ]
     },
     "execution_count": 474,
     "metadata": {},
     "output_type": "execute_result"
    }
   ],
   "source": [
    "foo.__defaults__"
   ]
  },
  {
   "cell_type": "code",
   "execution_count": 475,
   "metadata": {
    "ExecuteTime": {
     "end_time": "2020-05-24T00:52:48.228944Z",
     "start_time": "2020-05-24T00:52:48.163335Z"
    }
   },
   "outputs": [],
   "source": [
    "foo.__kwdefaults__"
   ]
  },
  {
   "cell_type": "code",
   "execution_count": 476,
   "metadata": {
    "ExecuteTime": {
     "end_time": "2020-05-24T00:52:48.515409Z",
     "start_time": "2020-05-24T00:52:48.462415Z"
    }
   },
   "outputs": [
    {
     "data": {
      "text/plain": [
       "(3, ['a', 'b'])"
      ]
     },
     "execution_count": 476,
     "metadata": {},
     "output_type": "execute_result"
    }
   ],
   "source": [
    "foo.__wrapped__.__defaults__"
   ]
  },
  {
   "cell_type": "code",
   "execution_count": 478,
   "metadata": {
    "ExecuteTime": {
     "end_time": "2020-05-24T00:52:52.427040Z",
     "start_time": "2020-05-24T00:52:52.374682Z"
    }
   },
   "outputs": [],
   "source": [
    "@immutify_defaults\n",
    "def bar(x, y=100, z=[1, 2, 3]):\n",
    "    print(x, y, z)\n",
    "    z.append(np.random.choice(list(ascii_lowercase)))\n",
    "    return z"
   ]
  },
  {
   "cell_type": "code",
   "execution_count": 479,
   "metadata": {
    "ExecuteTime": {
     "end_time": "2020-05-24T00:52:53.012805Z",
     "start_time": "2020-05-24T00:52:52.971375Z"
    }
   },
   "outputs": [
    {
     "name": "stdout",
     "output_type": "stream",
     "text": [
      "9 100 [1, 2, 3]\n"
     ]
    },
    {
     "data": {
      "text/plain": [
       "[1, 2, 3, 'o']"
      ]
     },
     "execution_count": 479,
     "metadata": {},
     "output_type": "execute_result"
    }
   ],
   "source": [
    "bar(9)"
   ]
  },
  {
   "cell_type": "code",
   "execution_count": 480,
   "metadata": {
    "ExecuteTime": {
     "end_time": "2020-05-24T00:52:54.597676Z",
     "start_time": "2020-05-24T00:52:54.543041Z"
    }
   },
   "outputs": [
    {
     "name": "stdout",
     "output_type": "stream",
     "text": [
      "12 100 [1, 2, 3]\n"
     ]
    },
    {
     "data": {
      "text/plain": [
       "[1, 2, 3, 'n']"
      ]
     },
     "execution_count": 480,
     "metadata": {},
     "output_type": "execute_result"
    }
   ],
   "source": [
    "bar(12)"
   ]
  },
  {
   "cell_type": "code",
   "execution_count": 481,
   "metadata": {
    "ExecuteTime": {
     "end_time": "2020-05-24T00:52:55.544230Z",
     "start_time": "2020-05-24T00:52:55.475730Z"
    }
   },
   "outputs": [
    {
     "data": {
      "text/plain": [
       "(100, [1, 2, 3])"
      ]
     },
     "execution_count": 481,
     "metadata": {},
     "output_type": "execute_result"
    }
   ],
   "source": [
    "bar.__defaults__"
   ]
  },
  {
   "cell_type": "code",
   "execution_count": 482,
   "metadata": {
    "ExecuteTime": {
     "end_time": "2020-05-24T00:52:57.464192Z",
     "start_time": "2020-05-24T00:52:57.403035Z"
    }
   },
   "outputs": [
    {
     "data": {
      "text/plain": [
       "(100, [1, 2, 3])"
      ]
     },
     "execution_count": 482,
     "metadata": {},
     "output_type": "execute_result"
    }
   ],
   "source": [
    "bar.__wrapped__.__defaults__"
   ]
  },
  {
   "cell_type": "code",
   "execution_count": 484,
   "metadata": {
    "ExecuteTime": {
     "end_time": "2020-05-24T00:53:02.473973Z",
     "start_time": "2020-05-24T00:53:02.407979Z"
    }
   },
   "outputs": [],
   "source": [
    "def mask(m, n=1, o=2):\n",
    "    return m*n*o"
   ]
  },
  {
   "cell_type": "code",
   "execution_count": 485,
   "metadata": {
    "ExecuteTime": {
     "end_time": "2020-05-24T00:53:02.654257Z",
     "start_time": "2020-05-24T00:53:02.604235Z"
    }
   },
   "outputs": [
    {
     "data": {
      "text/plain": [
       "(1, 2)"
      ]
     },
     "execution_count": 485,
     "metadata": {},
     "output_type": "execute_result"
    }
   ],
   "source": [
    "mask.__defaults__"
   ]
  },
  {
   "cell_type": "code",
   "execution_count": 486,
   "metadata": {
    "ExecuteTime": {
     "end_time": "2020-05-24T00:53:02.895709Z",
     "start_time": "2020-05-24T00:53:02.847276Z"
    }
   },
   "outputs": [
    {
     "data": {
      "text/plain": [
       "(3, ['a', 'b'])"
      ]
     },
     "execution_count": 486,
     "metadata": {},
     "output_type": "execute_result"
    }
   ],
   "source": [
    "foo.__wrapped__.__defaults__"
   ]
  },
  {
   "cell_type": "code",
   "execution_count": 487,
   "metadata": {
    "ExecuteTime": {
     "end_time": "2020-05-24T00:53:11.167424Z",
     "start_time": "2020-05-24T00:53:11.120984Z"
    }
   },
   "outputs": [],
   "source": [
    "def mask(m, n):\n",
    "    return m*n"
   ]
  },
  {
   "cell_type": "code",
   "execution_count": 488,
   "metadata": {
    "ExecuteTime": {
     "end_time": "2020-05-24T00:53:16.102308Z",
     "start_time": "2020-05-24T00:53:16.047706Z"
    }
   },
   "outputs": [],
   "source": [
    "mask.__defaults__"
   ]
  },
  {
   "cell_type": "code",
   "execution_count": 489,
   "metadata": {
    "ExecuteTime": {
     "end_time": "2020-05-24T00:53:22.485717Z",
     "start_time": "2020-05-24T00:53:22.449998Z"
    }
   },
   "outputs": [],
   "source": [
    "mask.__kwdefaults__"
   ]
  },
  {
   "cell_type": "code",
   "execution_count": 573,
   "metadata": {
    "ExecuteTime": {
     "end_time": "2020-05-24T01:13:57.701292Z",
     "start_time": "2020-05-24T01:13:57.642093Z"
    }
   },
   "outputs": [],
   "source": [
    "def add_diag(a, b=3, *args, x=np.arange(9).reshape(3, 3), **kwargs):\n",
    "    for i, j in zip(*map(range, x.shape)):\n",
    "        if i == j:\n",
    "            x[i, j] += 1\n",
    "    return a, x"
   ]
  },
  {
   "cell_type": "code",
   "execution_count": 574,
   "metadata": {
    "ExecuteTime": {
     "end_time": "2020-05-24T01:14:01.234060Z",
     "start_time": "2020-05-24T01:14:01.185009Z"
    }
   },
   "outputs": [
    {
     "data": {
      "text/plain": [
       "(2, array([[1, 1, 2],\n",
       "        [3, 5, 5],\n",
       "        [6, 7, 9]]))"
      ]
     },
     "execution_count": 574,
     "metadata": {},
     "output_type": "execute_result"
    }
   ],
   "source": [
    "add_diag(2)"
   ]
  },
  {
   "cell_type": "code",
   "execution_count": 575,
   "metadata": {
    "ExecuteTime": {
     "end_time": "2020-05-24T01:14:01.634482Z",
     "start_time": "2020-05-24T01:14:01.569038Z"
    }
   },
   "outputs": [
    {
     "data": {
      "text/plain": [
       "(3, array([[ 2,  1,  2],\n",
       "        [ 3,  6,  5],\n",
       "        [ 6,  7, 10]]))"
      ]
     },
     "execution_count": 575,
     "metadata": {},
     "output_type": "execute_result"
    }
   ],
   "source": [
    "add_diag(3)"
   ]
  },
  {
   "cell_type": "code",
   "execution_count": 576,
   "metadata": {
    "ExecuteTime": {
     "end_time": "2020-05-24T01:14:01.959312Z",
     "start_time": "2020-05-24T01:14:01.915116Z"
    }
   },
   "outputs": [
    {
     "data": {
      "text/plain": [
       "(4, array([[ 3,  1,  2],\n",
       "        [ 3,  7,  5],\n",
       "        [ 6,  7, 11]]))"
      ]
     },
     "execution_count": 576,
     "metadata": {},
     "output_type": "execute_result"
    }
   ],
   "source": [
    "add_diag(4)"
   ]
  },
  {
   "cell_type": "code",
   "execution_count": 577,
   "metadata": {
    "ExecuteTime": {
     "end_time": "2020-05-24T01:14:18.698406Z",
     "start_time": "2020-05-24T01:14:18.657545Z"
    }
   },
   "outputs": [],
   "source": [
    "@immutify_defaults\n",
    "def add_diag(a, b=3, *args, x=np.arange(9).reshape(3, 3), **kwargs):\n",
    "    for i, j in zip(*map(range, x.shape)):\n",
    "        if i == j:\n",
    "            x[i, j] += 1\n",
    "    return a, x"
   ]
  },
  {
   "cell_type": "code",
   "execution_count": 578,
   "metadata": {
    "ExecuteTime": {
     "end_time": "2020-05-24T01:14:23.264877Z",
     "start_time": "2020-05-24T01:14:23.213543Z"
    }
   },
   "outputs": [
    {
     "data": {
      "text/plain": [
       "(2, array([[1, 1, 2],\n",
       "        [3, 5, 5],\n",
       "        [6, 7, 9]]))"
      ]
     },
     "execution_count": 578,
     "metadata": {},
     "output_type": "execute_result"
    }
   ],
   "source": [
    "add_diag(2)"
   ]
  },
  {
   "cell_type": "code",
   "execution_count": 579,
   "metadata": {
    "ExecuteTime": {
     "end_time": "2020-05-24T01:14:25.679826Z",
     "start_time": "2020-05-24T01:14:25.614995Z"
    }
   },
   "outputs": [
    {
     "data": {
      "text/plain": [
       "(3, array([[1, 1, 2],\n",
       "        [3, 5, 5],\n",
       "        [6, 7, 9]]))"
      ]
     },
     "execution_count": 579,
     "metadata": {},
     "output_type": "execute_result"
    }
   ],
   "source": [
    "add_diag(3)"
   ]
  },
  {
   "cell_type": "code",
   "execution_count": 580,
   "metadata": {
    "ExecuteTime": {
     "end_time": "2020-05-24T01:14:29.071542Z",
     "start_time": "2020-05-24T01:14:29.032190Z"
    }
   },
   "outputs": [
    {
     "data": {
      "text/plain": [
       "(4, array([[1, 1, 2],\n",
       "        [3, 5, 5],\n",
       "        [6, 7, 9]]))"
      ]
     },
     "execution_count": 580,
     "metadata": {},
     "output_type": "execute_result"
    }
   ],
   "source": [
    "add_diag(4)"
   ]
  },
  {
   "cell_type": "code",
   "execution_count": null,
   "metadata": {},
   "outputs": [],
   "source": []
  }
 ],
 "metadata": {
  "kernelspec": {
   "display_name": "Python 3",
   "language": "python",
   "name": "python3"
  },
  "language_info": {
   "codemirror_mode": {
    "name": "ipython",
    "version": 3
   },
   "file_extension": ".py",
   "mimetype": "text/x-python",
   "name": "python",
   "nbconvert_exporter": "python",
   "pygments_lexer": "ipython3",
   "version": "3.7.3"
  }
 },
 "nbformat": 4,
 "nbformat_minor": 2
}
