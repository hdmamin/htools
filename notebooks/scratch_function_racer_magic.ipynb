{
 "cells": [
  {
   "cell_type": "markdown",
   "metadata": {},
   "source": [
    "## Testing finalized func"
   ]
  },
  {
   "cell_type": "code",
   "execution_count": 1,
   "metadata": {
    "ExecuteTime": {
     "end_time": "2019-10-21T01:14:05.493289Z",
     "start_time": "2019-10-21T01:14:05.463291Z"
    }
   },
   "outputs": [],
   "source": [
    "%load_ext autoreload\n",
    "%autoreload 2"
   ]
  },
  {
   "cell_type": "code",
   "execution_count": 2,
   "metadata": {
    "ExecuteTime": {
     "end_time": "2019-10-21T01:14:12.106445Z",
     "start_time": "2019-10-21T01:14:12.038725Z"
    }
   },
   "outputs": [],
   "source": [
    "from htools import magics"
   ]
  },
  {
   "cell_type": "code",
   "execution_count": 3,
   "metadata": {
    "ExecuteTime": {
     "end_time": "2019-10-21T01:14:43.418193Z",
     "start_time": "2019-10-21T01:14:43.401822Z"
    }
   },
   "outputs": [],
   "source": [
    "def process1(text):\n",
    "    for i in range(1_000):\n",
    "        continue\n",
    "    return text"
   ]
  },
  {
   "cell_type": "code",
   "execution_count": 4,
   "metadata": {
    "ExecuteTime": {
     "end_time": "2019-10-21T01:14:43.661853Z",
     "start_time": "2019-10-21T01:14:43.645715Z"
    }
   },
   "outputs": [],
   "source": [
    "def process2(text):\n",
    "    for i in range(100):\n",
    "        continue\n",
    "    return text"
   ]
  },
  {
   "cell_type": "code",
   "execution_count": 5,
   "metadata": {
    "ExecuteTime": {
     "end_time": "2019-10-21T01:14:43.951747Z",
     "start_time": "2019-10-21T01:14:43.933169Z"
    }
   },
   "outputs": [],
   "source": [
    "def process3(text):\n",
    "    for i in range(100*len(text)):\n",
    "        continue\n",
    "    return text"
   ]
  },
  {
   "cell_type": "code",
   "execution_count": 6,
   "metadata": {
    "ExecuteTime": {
     "end_time": "2019-10-21T01:15:12.547349Z",
     "start_time": "2019-10-21T01:15:12.531781Z"
    }
   },
   "outputs": [],
   "source": [
    "text = 'abc'"
   ]
  },
  {
   "cell_type": "code",
   "execution_count": 7,
   "metadata": {
    "ExecuteTime": {
     "end_time": "2019-10-21T01:15:12.971607Z",
     "start_time": "2019-10-21T01:15:12.907421Z"
    }
   },
   "outputs": [
    {
     "name": "stdout",
     "output_type": "stream",
     "text": [
      "23.6 µs ± 2.6 µs per loop (mean ± std. dev. of 3 runs, 5 loops each)\n",
      "1.58 µs ± 129 ns per loop (mean ± std. dev. of 3 runs, 5 loops each)\n",
      "7.46 µs ± 779 ns per loop (mean ± std. dev. of 3 runs, 5 loops each)\n"
     ]
    }
   ],
   "source": [
    "%%race\n",
    "process1(text)\n",
    "process2(text)\n",
    "process3(text)"
   ]
  },
  {
   "cell_type": "markdown",
   "metadata": {},
   "source": [
    "## Development"
   ]
  },
  {
   "cell_type": "code",
   "execution_count": 1,
   "metadata": {
    "ExecuteTime": {
     "end_time": "2019-10-20T23:57:28.782551Z",
     "start_time": "2019-10-20T23:57:28.778412Z"
    }
   },
   "outputs": [],
   "source": [
    "from IPython.core.magic import cell_magic, magics_class, Magics\n",
    "from IPython.core.magic_arguments import (argument, magic_arguments, \n",
    "                                          parse_argstring)"
   ]
  },
  {
   "cell_type": "code",
   "execution_count": 30,
   "metadata": {
    "ExecuteTime": {
     "end_time": "2019-10-21T00:00:31.927769Z",
     "start_time": "2019-10-21T00:00:31.885149Z"
    }
   },
   "outputs": [],
   "source": [
    "from htools import eprint"
   ]
  },
  {
   "cell_type": "code",
   "execution_count": 243,
   "metadata": {
    "ExecuteTime": {
     "end_time": "2019-10-21T00:51:54.890889Z",
     "start_time": "2019-10-21T00:51:54.883737Z"
    }
   },
   "outputs": [],
   "source": [
    "@magics_class\n",
    "class FunctionRacerMagic(Magics):\n",
    "    \n",
    "    @cell_magic\n",
    "    @magic_arguments()\n",
    "    @argument('-n')\n",
    "    @argument('-r')\n",
    "    def race(self, line, cell):\n",
    "        \"\"\"\"\"\"\n",
    "        args = parse_argstring(self.race, line)\n",
    "        n = args.n or 5\n",
    "        r = args.r or 3\n",
    "        \n",
    "        # Split cell into lines of code to execute.\n",
    "        rows = [row for row in cell.strip().split('\\n') \n",
    "                if not row.startswith('#')]\n",
    "        prefix = f'%timeit -n {n} -r {r} '\n",
    "        for row in rows: \n",
    "            get_ipython().run_cell(prefix + row)"
   ]
  },
  {
   "cell_type": "code",
   "execution_count": 244,
   "metadata": {
    "ExecuteTime": {
     "end_time": "2019-10-21T00:51:55.248686Z",
     "start_time": "2019-10-21T00:51:55.243082Z"
    }
   },
   "outputs": [],
   "source": [
    "ip = get_ipython()\n",
    "ip.register_magics(FunctionRacerMagic)"
   ]
  },
  {
   "cell_type": "code",
   "execution_count": 245,
   "metadata": {
    "ExecuteTime": {
     "end_time": "2019-10-21T00:51:56.109520Z",
     "start_time": "2019-10-21T00:51:56.093882Z"
    }
   },
   "outputs": [
    {
     "name": "stdout",
     "output_type": "stream",
     "text": [
      "64.7 ns ± 34.5 ns per loop (mean ± std. dev. of 3 runs, 5 loops each)\n",
      "81.8 ns ± 56.9 ns per loop (mean ± std. dev. of 3 runs, 5 loops each)\n",
      "54.8 ns ± 18.5 ns per loop (mean ± std. dev. of 3 runs, 5 loops each)\n"
     ]
    }
   ],
   "source": [
    "%%race\n",
    "'a'\n",
    "2 + 6\n",
    "'a \\nb'"
   ]
  },
  {
   "cell_type": "code",
   "execution_count": 246,
   "metadata": {
    "ExecuteTime": {
     "end_time": "2019-10-21T00:51:57.008048Z",
     "start_time": "2019-10-21T00:51:56.997848Z"
    }
   },
   "outputs": [
    {
     "name": "stdout",
     "output_type": "stream",
     "text": [
      "86.5 ns ± 56.2 ns per loop (mean ± std. dev. of 3 runs, 4 loops each)\n",
      "75.5 ns ± 37.1 ns per loop (mean ± std. dev. of 3 runs, 4 loops each)\n",
      "86.2 ns ± 44.3 ns per loop (mean ± std. dev. of 3 runs, 4 loops each)\n"
     ]
    }
   ],
   "source": [
    "%%race -n 4\n",
    "'a'\n",
    "2 + 6\n",
    "'a \\nb'"
   ]
  },
  {
   "cell_type": "code",
   "execution_count": 247,
   "metadata": {
    "ExecuteTime": {
     "end_time": "2019-10-21T00:51:57.500226Z",
     "start_time": "2019-10-21T00:51:57.489513Z"
    }
   },
   "outputs": [
    {
     "name": "stdout",
     "output_type": "stream",
     "text": [
      "63.2 ns ± 31 ns per loop (mean ± std. dev. of 6 runs, 5 loops each)\n",
      "62.6 ns ± 28.1 ns per loop (mean ± std. dev. of 6 runs, 5 loops each)\n",
      "59.6 ns ± 35.5 ns per loop (mean ± std. dev. of 6 runs, 5 loops each)\n"
     ]
    }
   ],
   "source": [
    "%%race -r 6\n",
    "'a'\n",
    "2 + 6\n",
    "'a \\nb'"
   ]
  },
  {
   "cell_type": "code",
   "execution_count": 248,
   "metadata": {
    "ExecuteTime": {
     "end_time": "2019-10-21T00:51:57.921212Z",
     "start_time": "2019-10-21T00:51:57.908832Z"
    }
   },
   "outputs": [
    {
     "name": "stdout",
     "output_type": "stream",
     "text": [
      "67.1 ns ± 27.7 ns per loop (mean ± std. dev. of 2 runs, 7 loops each)\n",
      "54.5 ns ± 12.5 ns per loop (mean ± std. dev. of 2 runs, 7 loops each)\n",
      "86.4 ns ± 8.86 ns per loop (mean ± std. dev. of 2 runs, 7 loops each)\n"
     ]
    }
   ],
   "source": [
    "%%race -n 7 -r 2\n",
    "'a'\n",
    "2 + 6\n",
    "'a \\nb'"
   ]
  },
  {
   "cell_type": "code",
   "execution_count": 249,
   "metadata": {
    "ExecuteTime": {
     "end_time": "2019-10-21T00:51:58.331027Z",
     "start_time": "2019-10-21T00:51:58.324810Z"
    }
   },
   "outputs": [
    {
     "name": "stdout",
     "output_type": "stream",
     "text": [
      "a\n",
      "a\n",
      "a\n",
      "a\n",
      "a\n",
      "a\n",
      "35.4 µs ± 19.8 µs per loop (mean ± std. dev. of 2 runs, 3 loops each)\n"
     ]
    }
   ],
   "source": [
    "%timeit -n 3 -r 2 print('a')"
   ]
  },
  {
   "cell_type": "code",
   "execution_count": 250,
   "metadata": {
    "ExecuteTime": {
     "end_time": "2019-10-21T00:51:58.755326Z",
     "start_time": "2019-10-21T00:51:58.746254Z"
    }
   },
   "outputs": [
    {
     "name": "stdout",
     "output_type": "stream",
     "text": [
      "a\n",
      "a\n",
      "a\n",
      "a\n",
      "a\n",
      "a\n",
      "The slowest run took 4.00 times longer than the fastest. This could mean that an intermediate result is being cached.\n",
      "38.8 µs ± 23.3 µs per loop (mean ± std. dev. of 2 runs, 3 loops each)\n"
     ]
    }
   ],
   "source": [
    "%%timeit -n 3 -r 2\n",
    "print('a')"
   ]
  },
  {
   "cell_type": "code",
   "execution_count": 251,
   "metadata": {
    "ExecuteTime": {
     "end_time": "2019-10-21T00:51:59.213430Z",
     "start_time": "2019-10-21T00:51:59.207813Z"
    }
   },
   "outputs": [
    {
     "name": "stdout",
     "output_type": "stream",
     "text": [
      "3.88 µs ± 483 ns per loop (mean ± std. dev. of 2 runs, 3 loops each)\n"
     ]
    }
   ],
   "source": [
    "%%timeit -n 3 -r 2\n",
    "[i for i in range(100)]"
   ]
  },
  {
   "cell_type": "code",
   "execution_count": 252,
   "metadata": {
    "ExecuteTime": {
     "end_time": "2019-10-21T00:52:00.314982Z",
     "start_time": "2019-10-21T00:52:00.309367Z"
    }
   },
   "outputs": [
    {
     "name": "stdout",
     "output_type": "stream",
     "text": [
      "6.25 µs ± 0 ns per loop (mean ± std. dev. of 1 run, 2 loops each)\n"
     ]
    }
   ],
   "source": [
    "%timeit -n 2 -r 1 [i for i in range(100)]"
   ]
  },
  {
   "cell_type": "markdown",
   "metadata": {},
   "source": [
    "## Test on slower functions"
   ]
  },
  {
   "cell_type": "code",
   "execution_count": 256,
   "metadata": {
    "ExecuteTime": {
     "end_time": "2019-10-21T00:52:02.351333Z",
     "start_time": "2019-10-21T00:52:02.343220Z"
    }
   },
   "outputs": [
    {
     "name": "stdout",
     "output_type": "stream",
     "text": [
      "22.1 µs ± 213 ns per loop (mean ± std. dev. of 3 runs, 5 loops each)\n",
      "1.72 µs ± 168 ns per loop (mean ± std. dev. of 3 runs, 5 loops each)\n"
     ]
    }
   ],
   "source": [
    "%%race\n",
    "process1(text)\n",
    "process2(text)"
   ]
  },
  {
   "cell_type": "code",
   "execution_count": 257,
   "metadata": {
    "ExecuteTime": {
     "end_time": "2019-10-21T00:52:02.877225Z",
     "start_time": "2019-10-21T00:52:02.868691Z"
    }
   },
   "outputs": [
    {
     "name": "stdout",
     "output_type": "stream",
     "text": [
      "20.8 µs ± 137 ns per loop (mean ± std. dev. of 4 runs, 6 loops each)\n",
      "2.4 µs ± 59.5 ns per loop (mean ± std. dev. of 4 runs, 6 loops each)\n"
     ]
    }
   ],
   "source": [
    "%%race -n 6 -r 4\n",
    "process1(text)\n",
    "process2(text)"
   ]
  },
  {
   "cell_type": "code",
   "execution_count": 259,
   "metadata": {
    "ExecuteTime": {
     "end_time": "2019-10-21T00:52:04.011948Z",
     "start_time": "2019-10-21T00:52:03.994169Z"
    }
   },
   "outputs": [
    {
     "name": "stdout",
     "output_type": "stream",
     "text": [
      "21.7 µs ± 368 ns per loop (mean ± std. dev. of 3 runs, 5 loops each)\n",
      "2.82 µs ± 133 ns per loop (mean ± std. dev. of 3 runs, 5 loops each)\n",
      "7.93 µs ± 84.7 ns per loop (mean ± std. dev. of 3 runs, 5 loops each)\n"
     ]
    }
   ],
   "source": [
    "%%race\n",
    "process1(text)\n",
    "process2(text)\n",
    "process3(text)"
   ]
  },
  {
   "cell_type": "code",
   "execution_count": 261,
   "metadata": {
    "ExecuteTime": {
     "end_time": "2019-10-21T00:52:34.235127Z",
     "start_time": "2019-10-21T00:52:34.221138Z"
    }
   },
   "outputs": [
    {
     "name": "stdout",
     "output_type": "stream",
     "text": [
      "20.5 µs ± 109 ns per loop (mean ± std. dev. of 3 runs, 5 loops each)\n",
      "1.58 µs ± 149 ns per loop (mean ± std. dev. of 3 runs, 5 loops each)\n",
      "4.55 µs ± 159 ns per loop (mean ± std. dev. of 3 runs, 5 loops each)\n"
     ]
    }
   ],
   "source": [
    "%%race\n",
    "\n",
    "# Testing handling comments and whitespace: func1\n",
    "process1(text)\n",
    "\n",
    "# func2\n",
    "process2(text)\n",
    "\n",
    "# func3\n",
    "process3(text)"
   ]
  },
  {
   "cell_type": "code",
   "execution_count": 262,
   "metadata": {
    "ExecuteTime": {
     "end_time": "2019-10-21T01:02:29.069812Z",
     "start_time": "2019-10-21T01:02:29.066386Z"
    }
   },
   "outputs": [],
   "source": [
    "def many_args_func(a, b, c, d, e, f, g, h, i, j, k, l, m):\n",
    "    for i in range(500):\n",
    "        continue\n",
    "    return a"
   ]
  },
  {
   "cell_type": "code",
   "execution_count": 266,
   "metadata": {
    "ExecuteTime": {
     "end_time": "2019-10-21T01:03:52.837522Z",
     "start_time": "2019-10-21T01:03:52.830124Z"
    }
   },
   "outputs": [
    {
     "data": {
      "text/plain": [
       "1"
      ]
     },
     "execution_count": 266,
     "metadata": {},
     "output_type": "execute_result"
    }
   ],
   "source": [
    "many_args_func(a=1, b=2, c=3, d=4, e=5, f=6, g=7, h=8, i=9, \n",
    "               j=10, k=11, l=12, m=13)"
   ]
  },
  {
   "cell_type": "code",
   "execution_count": 267,
   "metadata": {
    "ExecuteTime": {
     "end_time": "2019-10-21T01:03:55.587115Z",
     "start_time": "2019-10-21T01:03:55.575244Z"
    }
   },
   "outputs": [
    {
     "ename": "SyntaxError",
     "evalue": "unexpected EOF while parsing (<unknown>, line 1)",
     "output_type": "error",
     "traceback": [
      "Traceback \u001b[0;36m(most recent call last)\u001b[0m:\n",
      "  File \u001b[1;32m\"/Users/hmamin/anaconda3/envs/deeplearning/lib/python3.7/site-packages/IPython/core/interactiveshell.py\"\u001b[0m, line \u001b[1;32m3326\u001b[0m, in \u001b[1;35mrun_code\u001b[0m\n    exec(code_obj, self.user_global_ns, self.user_ns)\n",
      "  File \u001b[1;32m\"<ipython-input-267-070349d58454>\"\u001b[0m, line \u001b[1;32m1\u001b[0m, in \u001b[1;35m<module>\u001b[0m\n    get_ipython().run_line_magic('timeit', '-n 5 -r 3 many_args_func(a=1, b=2, c=3, d=4, e=5, f=6, g=7, h=8, i=9, ')\n",
      "  File \u001b[1;32m\"/Users/hmamin/anaconda3/envs/deeplearning/lib/python3.7/site-packages/IPython/core/interactiveshell.py\"\u001b[0m, line \u001b[1;32m2314\u001b[0m, in \u001b[1;35mrun_line_magic\u001b[0m\n    result = fn(*args, **kwargs)\n",
      "  File \u001b[1;32m\"</Users/hmamin/anaconda3/envs/deeplearning/lib/python3.7/site-packages/decorator.py:decorator-gen-60>\"\u001b[0m, line \u001b[1;32m2\u001b[0m, in \u001b[1;35mtimeit\u001b[0m\n",
      "  File \u001b[1;32m\"/Users/hmamin/anaconda3/envs/deeplearning/lib/python3.7/site-packages/IPython/core/magic.py\"\u001b[0m, line \u001b[1;32m187\u001b[0m, in \u001b[1;35m<lambda>\u001b[0m\n    call = lambda f, *a, **k: f(*a, **k)\n",
      "  File \u001b[1;32m\"/Users/hmamin/anaconda3/envs/deeplearning/lib/python3.7/site-packages/IPython/core/magics/execution.py\"\u001b[0m, line \u001b[1;32m1101\u001b[0m, in \u001b[1;35mtimeit\u001b[0m\n    ast_stmt = self.shell.compile.ast_parse(transform(stmt))\n",
      "\u001b[0;36m  File \u001b[0;32m\"/Users/hmamin/anaconda3/envs/deeplearning/lib/python3.7/site-packages/IPython/core/compilerop.py\"\u001b[0;36m, line \u001b[0;32m101\u001b[0;36m, in \u001b[0;35mast_parse\u001b[0;36m\u001b[0m\n\u001b[0;31m    return compile(source, filename, symbol, self.flags | PyCF_ONLY_AST, 1)\u001b[0m\n",
      "\u001b[0;36m  File \u001b[0;32m\"<unknown>\"\u001b[0;36m, line \u001b[0;32m1\u001b[0m\n\u001b[0;31m    many_args_func(a=1, b=2, c=3, d=4, e=5, f=6, g=7, h=8, i=9,\u001b[0m\n\u001b[0m                                                               ^\u001b[0m\n\u001b[0;31mSyntaxError\u001b[0m\u001b[0;31m:\u001b[0m unexpected EOF while parsing\n"
     ]
    },
    {
     "ename": "SyntaxError",
     "evalue": "invalid syntax (<unknown>, line 1)",
     "output_type": "error",
     "traceback": [
      "Traceback \u001b[0;36m(most recent call last)\u001b[0m:\n",
      "  File \u001b[1;32m\"/Users/hmamin/anaconda3/envs/deeplearning/lib/python3.7/site-packages/IPython/core/interactiveshell.py\"\u001b[0m, line \u001b[1;32m3326\u001b[0m, in \u001b[1;35mrun_code\u001b[0m\n    exec(code_obj, self.user_global_ns, self.user_ns)\n",
      "  File \u001b[1;32m\"<ipython-input-267-4af0accf8027>\"\u001b[0m, line \u001b[1;32m1\u001b[0m, in \u001b[1;35m<module>\u001b[0m\n    get_ipython().run_line_magic('timeit', '-n 5 -r 3                j=10, k=11, l=12, m=13)')\n",
      "  File \u001b[1;32m\"/Users/hmamin/anaconda3/envs/deeplearning/lib/python3.7/site-packages/IPython/core/interactiveshell.py\"\u001b[0m, line \u001b[1;32m2314\u001b[0m, in \u001b[1;35mrun_line_magic\u001b[0m\n    result = fn(*args, **kwargs)\n",
      "  File \u001b[1;32m\"</Users/hmamin/anaconda3/envs/deeplearning/lib/python3.7/site-packages/decorator.py:decorator-gen-60>\"\u001b[0m, line \u001b[1;32m2\u001b[0m, in \u001b[1;35mtimeit\u001b[0m\n",
      "  File \u001b[1;32m\"/Users/hmamin/anaconda3/envs/deeplearning/lib/python3.7/site-packages/IPython/core/magic.py\"\u001b[0m, line \u001b[1;32m187\u001b[0m, in \u001b[1;35m<lambda>\u001b[0m\n    call = lambda f, *a, **k: f(*a, **k)\n",
      "  File \u001b[1;32m\"/Users/hmamin/anaconda3/envs/deeplearning/lib/python3.7/site-packages/IPython/core/magics/execution.py\"\u001b[0m, line \u001b[1;32m1101\u001b[0m, in \u001b[1;35mtimeit\u001b[0m\n    ast_stmt = self.shell.compile.ast_parse(transform(stmt))\n",
      "\u001b[0;36m  File \u001b[0;32m\"/Users/hmamin/anaconda3/envs/deeplearning/lib/python3.7/site-packages/IPython/core/compilerop.py\"\u001b[0;36m, line \u001b[0;32m101\u001b[0;36m, in \u001b[0;35mast_parse\u001b[0;36m\u001b[0m\n\u001b[0;31m    return compile(source, filename, symbol, self.flags | PyCF_ONLY_AST, 1)\u001b[0m\n",
      "\u001b[0;36m  File \u001b[0;32m\"<unknown>\"\u001b[0;36m, line \u001b[0;32m1\u001b[0m\n\u001b[0;31m    j=10, k=11, l=12, m=13)\u001b[0m\n\u001b[0m                          ^\u001b[0m\n\u001b[0;31mSyntaxError\u001b[0m\u001b[0;31m:\u001b[0m invalid syntax\n"
     ]
    }
   ],
   "source": [
    "%%race\n",
    "many_args_func(a=1, b=2, c=3, d=4, e=5, f=6, g=7, h=8, i=9, \n",
    "               j=10, k=11, l=12, m=13)"
   ]
  },
  {
   "cell_type": "code",
   "execution_count": 263,
   "metadata": {
    "ExecuteTime": {
     "end_time": "2019-10-21T01:02:45.206399Z",
     "start_time": "2019-10-21T01:02:45.199337Z"
    }
   },
   "outputs": [
    {
     "name": "stdout",
     "output_type": "stream",
     "text": [
      "9.52 µs ± 335 ns per loop (mean ± std. dev. of 3 runs, 5 loops each)\n"
     ]
    }
   ],
   "source": [
    "%%race\n",
    "many_args_func(*range(13))"
   ]
  }
 ],
 "metadata": {
  "kernelspec": {
   "display_name": "Python 3",
   "language": "python",
   "name": "python3"
  },
  "language_info": {
   "codemirror_mode": {
    "name": "ipython",
    "version": 3
   },
   "file_extension": ".py",
   "mimetype": "text/x-python",
   "name": "python",
   "nbconvert_exporter": "python",
   "pygments_lexer": "ipython3",
   "version": "3.7.3"
  }
 },
 "nbformat": 4,
 "nbformat_minor": 2
}
