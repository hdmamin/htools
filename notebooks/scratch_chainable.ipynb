{
 "cells": [
  {
   "cell_type": "markdown",
   "metadata": {
    "ExecuteTime": {
     "end_time": "2020-01-18T06:01:24.097120Z",
     "start_time": "2020-01-18T06:01:24.087952Z"
    }
   },
   "source": [
    "# Ideas\n",
    "- more generalizable version of _apply so that any op can be applied to obj, not just mapping some func on self.vals\n",
    "    - inplace param also needs to generalize\n",
    "- figure out how I want decorator to work (or no decorator?). Don't love current implementation of having to return a lambda\n",
    "    - maybe chainable should be a method of Chained?\n",
    "- still have to think about how this could be used: mixin class? Would a metaclass be useful here? Have to think."
   ]
  },
  {
   "cell_type": "code",
   "execution_count": 1,
   "metadata": {
    "ExecuteTime": {
     "end_time": "2020-01-18T05:59:24.666903Z",
     "start_time": "2020-01-18T05:59:24.661839Z"
    }
   },
   "outputs": [],
   "source": [
    "from functools import wraps, partial"
   ]
  },
  {
   "cell_type": "code",
   "execution_count": 53,
   "metadata": {
    "ExecuteTime": {
     "end_time": "2020-01-18T05:59:25.908425Z",
     "start_time": "2020-01-18T05:59:25.899123Z"
    }
   },
   "outputs": [],
   "source": [
    "def chain(func):\n",
    "    @wraps(func)\n",
    "    def wrapped(instance, *args, **kwargs):\n",
    "        return instance._apply(func(*args, **kwargs))\n",
    "    return wrapped"
   ]
  },
  {
   "cell_type": "code",
   "execution_count": 126,
   "metadata": {
    "ExecuteTime": {
     "end_time": "2020-01-18T06:14:05.681907Z",
     "start_time": "2020-01-18T06:14:05.671493Z"
    }
   },
   "outputs": [],
   "source": [
    "class Chainable:\n",
    "   \n",
    "    def __init__(self, vals):\n",
    "        self.vals = vals\n",
    "        self.ops = []\n",
    "    \n",
    "    def _apply(self, func, mode='map'):\n",
    "        op = map if mode == 'map' else filter\n",
    "        self.ops.append((op, func))\n",
    "        return self\n",
    "        \n",
    "    def exec(self, inplace=False):\n",
    "        new = self\n",
    "        for op, func in self.ops:\n",
    "            new = Chainable(list(op(func, new.vals)))\n",
    "        self.ops.clear()\n",
    "        if inplace: \n",
    "            self.__dict__ = new.__dict__\n",
    "        else: \n",
    "            return new\n",
    "        \n",
    "    def double(self):\n",
    "        return self._apply(lambda x: x*2)\n",
    "        \n",
    "    def add(self, n):\n",
    "        return self._apply(lambda x: x+n)\n",
    "        \n",
    "    def stringify(self):\n",
    "        return self._apply(str)\n",
    "        \n",
    "    def gt(self, n):\n",
    "        return self._apply(lambda x: x > n, 'filter')\n",
    "        \n",
    "    def even_only(self):\n",
    "        return self._apply(lambda x: x % 2 == 0, 'filter')\n",
    "    \n",
    "    @chain\n",
    "    def subtract(n):\n",
    "        return lambda x: x-n\n",
    "        \n",
    "    def __repr__(self):\n",
    "        return f'Chainable({repr(self.vals)})'"
   ]
  },
  {
   "cell_type": "code",
   "execution_count": 127,
   "metadata": {
    "ExecuteTime": {
     "end_time": "2020-01-18T06:14:05.851629Z",
     "start_time": "2020-01-18T06:14:05.841724Z"
    }
   },
   "outputs": [
    {
     "data": {
      "text/plain": [
       "Chainable([1, 3, 2, 44, -5, -7, 16, 6.6, 9, -3, 0.5, 1])"
      ]
     },
     "execution_count": 127,
     "metadata": {},
     "output_type": "execute_result"
    }
   ],
   "source": [
    "c = Chainable([1, 3, 2, 44, -5, -7, 16, 6.6, 9, -3, 0.5, 1])\n",
    "c"
   ]
  },
  {
   "cell_type": "code",
   "execution_count": 128,
   "metadata": {
    "ExecuteTime": {
     "end_time": "2020-01-18T06:14:06.353978Z",
     "start_time": "2020-01-18T06:14:06.347302Z"
    }
   },
   "outputs": [
    {
     "data": {
      "text/plain": [
       "Chainable([2, 6, 4, 88, -10, -14, 32, 13.2, 18, -6, 1.0, 2])"
      ]
     },
     "execution_count": 128,
     "metadata": {},
     "output_type": "execute_result"
    }
   ],
   "source": [
    "c.double().exec()"
   ]
  },
  {
   "cell_type": "code",
   "execution_count": 129,
   "metadata": {
    "ExecuteTime": {
     "end_time": "2020-01-18T06:14:06.445089Z",
     "start_time": "2020-01-18T06:14:06.427196Z"
    }
   },
   "outputs": [
    {
     "data": {
      "text/plain": [
       "Chainable(['2', '6', '4', '88', '32', '18', '2'])"
      ]
     },
     "execution_count": 129,
     "metadata": {},
     "output_type": "execute_result"
    }
   ],
   "source": [
    "c.double().even_only().gt(-5).stringify().exec()"
   ]
  },
  {
   "cell_type": "code",
   "execution_count": 130,
   "metadata": {
    "ExecuteTime": {
     "end_time": "2020-01-18T06:14:06.530103Z",
     "start_time": "2020-01-18T06:14:06.515259Z"
    }
   },
   "outputs": [
    {
     "data": {
      "text/plain": [
       "Chainable([-6, -2, -4, 80, -18, -22, 24, 5.199999999999999, 10, -14, -7.0, -6])"
      ]
     },
     "execution_count": 130,
     "metadata": {},
     "output_type": "execute_result"
    }
   ],
   "source": [
    "c.subtract(4).double().exec()"
   ]
  },
  {
   "cell_type": "code",
   "execution_count": 131,
   "metadata": {
    "ExecuteTime": {
     "end_time": "2020-01-18T06:14:06.603439Z",
     "start_time": "2020-01-18T06:14:06.597624Z"
    }
   },
   "outputs": [
    {
     "data": {
      "text/plain": [
       "Chainable([1, 3, 2, 44, -5, -7, 16, 6.6, 9, -3, 0.5, 1])"
      ]
     },
     "execution_count": 131,
     "metadata": {},
     "output_type": "execute_result"
    }
   ],
   "source": [
    "c"
   ]
  },
  {
   "cell_type": "code",
   "execution_count": 123,
   "metadata": {
    "ExecuteTime": {
     "end_time": "2020-01-18T06:14:07.076482Z",
     "start_time": "2020-01-18T06:14:07.071394Z"
    }
   },
   "outputs": [],
   "source": [
    "c.add(4).subtract(2).even_only().gt(-1).exec(inplace=True)"
   ]
  },
  {
   "cell_type": "code",
   "execution_count": 124,
   "metadata": {
    "ExecuteTime": {
     "end_time": "2020-01-18T06:14:07.551292Z",
     "start_time": "2020-01-18T06:14:07.545625Z"
    }
   },
   "outputs": [
    {
     "data": {
      "text/plain": [
       "Chainable([4, 46, 18])"
      ]
     },
     "execution_count": 124,
     "metadata": {},
     "output_type": "execute_result"
    }
   ],
   "source": [
    "c"
   ]
  },
  {
   "cell_type": "markdown",
   "metadata": {},
   "source": [
    "## Working on more generalized version\n",
    "\n",
    "Current implementation: user defines a staticmethod for each chainable op, then an instance method that calls that staticmethod. This works but is annoying to use."
   ]
  },
  {
   "cell_type": "code",
   "execution_count": 2,
   "metadata": {},
   "outputs": [],
   "source": [
    "from copy import copy, deepcopy\n",
    "from functools import update_wrapper, wraps\n",
    "import inspect"
   ]
  },
  {
   "cell_type": "code",
   "execution_count": 816,
   "metadata": {},
   "outputs": [],
   "source": [
    "class Chainable():\n",
    "   \n",
    "    def __init__(self, vals, num):\n",
    "        self.vals = vals\n",
    "        self.been_called = False\n",
    "        self.num = num\n",
    "        self.ops = []\n",
    "    \n",
    "    def _apply(self, func):\n",
    "        self.ops.append(func)\n",
    "        return self\n",
    "        \n",
    "    def exec(self, inplace=False):\n",
    "        new = deepcopy(self)\n",
    "        for func in self.ops:\n",
    "            new = func(copy(new))\n",
    "\n",
    "        # Clear ops list now that chain is complete.\n",
    "        new.ops.clear()\n",
    "        if inplace: \n",
    "            self.__dict__ = new.__dict__\n",
    "        else: \n",
    "            self.ops.clear()\n",
    "            return new\n",
    "        \n",
    "    @staticmethod\n",
    "    def _double(instance):\n",
    "        instance.num *= 2\n",
    "        return instance\n",
    "    \n",
    "    def double(self):\n",
    "        return self._apply(self._double)\n",
    "        \n",
    "    @staticmethod\n",
    "    def _add(instance, n):\n",
    "        instance.num += n\n",
    "        return instance\n",
    "    \n",
    "    def add(self, n):\n",
    "        return self._apply(partial(self._add, n=n))\n",
    "\n",
    "    @staticmethod    \n",
    "    def _append(instance, n):\n",
    "        instance.vals.append(n)\n",
    "        return instance\n",
    "\n",
    "    def append(self, n):\n",
    "        return self._apply(partial(self._append, n=n))\n",
    "        \n",
    "    @staticmethod\n",
    "    def _call(instance):\n",
    "        instance.been_called = True\n",
    "        return instance\n",
    "    \n",
    "    def call(self):\n",
    "        return self._apply(self._call)\n",
    "    \n",
    "    def __repr__(self):\n",
    "        return f'Chainable({repr(self.vals)}, {self.been_called}, {self.num}, {self.ops})'"
   ]
  },
  {
   "cell_type": "code",
   "execution_count": 817,
   "metadata": {},
   "outputs": [
    {
     "data": {
      "text/plain": [
       "Chainable([1, 3], False, 5, [])"
      ]
     },
     "execution_count": 817,
     "metadata": {},
     "output_type": "execute_result"
    }
   ],
   "source": [
    "c1 = Chainable([1, 3], 5)\n",
    "c1"
   ]
  },
  {
   "cell_type": "code",
   "execution_count": 818,
   "metadata": {},
   "outputs": [
    {
     "data": {
      "text/plain": [
       "Chainable([1, 3], False, 5, [])"
      ]
     },
     "execution_count": 818,
     "metadata": {},
     "output_type": "execute_result"
    }
   ],
   "source": [
    "c2 = copy(c1)\n",
    "c2"
   ]
  },
  {
   "cell_type": "code",
   "execution_count": 819,
   "metadata": {},
   "outputs": [
    {
     "data": {
      "text/plain": [
       "(4395407944, 4395407944)"
      ]
     },
     "execution_count": 819,
     "metadata": {},
     "output_type": "execute_result"
    }
   ],
   "source": [
    "id(c1.vals), id(c2.vals)"
   ]
  },
  {
   "cell_type": "code",
   "execution_count": 820,
   "metadata": {},
   "outputs": [
    {
     "data": {
      "text/plain": [
       "(Chainable([1, 3, 3], False, 5, []), Chainable([1, 3, 3], False, 5, []))"
      ]
     },
     "execution_count": 820,
     "metadata": {},
     "output_type": "execute_result"
    }
   ],
   "source": [
    "c2.vals.append(3)\n",
    "c1, c2"
   ]
  },
  {
   "cell_type": "code",
   "execution_count": 821,
   "metadata": {},
   "outputs": [],
   "source": [
    "c1.double().exec(True)"
   ]
  },
  {
   "cell_type": "code",
   "execution_count": 822,
   "metadata": {},
   "outputs": [
    {
     "data": {
      "text/plain": [
       "(Chainable([1, 3, 3], False, 10, []),\n",
       " Chainable([1, 3, 3], False, 5, [<function Chainable._double at 0x106a9cc80>]))"
      ]
     },
     "execution_count": 822,
     "metadata": {},
     "output_type": "execute_result"
    }
   ],
   "source": [
    "c1, c2"
   ]
  },
  {
   "cell_type": "code",
   "execution_count": 823,
   "metadata": {},
   "outputs": [],
   "source": [
    "c2.append(-1).exec(True)"
   ]
  },
  {
   "cell_type": "code",
   "execution_count": 824,
   "metadata": {},
   "outputs": [
    {
     "data": {
      "text/plain": [
       "(Chainable([1, 3, 3], False, 10, []), Chainable([1, 3, 3, -1], False, 10, []))"
      ]
     },
     "execution_count": 824,
     "metadata": {},
     "output_type": "execute_result"
    }
   ],
   "source": [
    "c1, c2"
   ]
  },
  {
   "cell_type": "markdown",
   "metadata": {},
   "source": [
    "### Testing basic func"
   ]
  },
  {
   "cell_type": "code",
   "execution_count": 828,
   "metadata": {},
   "outputs": [],
   "source": [
    "vals = [5, 3, 1, 2, 4, 6]\n",
    "n = 44\n",
    "length = len(vals)"
   ]
  },
  {
   "cell_type": "code",
   "execution_count": 829,
   "metadata": {},
   "outputs": [
    {
     "data": {
      "text/plain": [
       "Chainable([5, 3, 1, 2, 4, 6], False, 44, [])"
      ]
     },
     "execution_count": 829,
     "metadata": {},
     "output_type": "execute_result"
    }
   ],
   "source": [
    "c = Chainable(vals, n)\n",
    "c"
   ]
  },
  {
   "cell_type": "code",
   "execution_count": 830,
   "metadata": {},
   "outputs": [
    {
     "data": {
      "text/plain": [
       "Chainable([5, 3, 1, 2, 4, 6], False, 94, [])"
      ]
     },
     "execution_count": 830,
     "metadata": {},
     "output_type": "execute_result"
    }
   ],
   "source": [
    "c.add(3).double().exec()"
   ]
  },
  {
   "cell_type": "code",
   "execution_count": 831,
   "metadata": {},
   "outputs": [
    {
     "name": "stdout",
     "output_type": "stream",
     "text": [
      "Chainable([5, 3, 1, 2, 4, 6], False, 44, [])\n"
     ]
    }
   ],
   "source": [
    "print(c)\n",
    "\n",
    "assert c.vals == vals and not c.been_called and c.num == n and not c.ops"
   ]
  },
  {
   "cell_type": "code",
   "execution_count": 832,
   "metadata": {},
   "outputs": [],
   "source": [
    "c.add(3).double().exec(inplace=True)"
   ]
  },
  {
   "cell_type": "code",
   "execution_count": 833,
   "metadata": {},
   "outputs": [
    {
     "name": "stdout",
     "output_type": "stream",
     "text": [
      "Chainable([5, 3, 1, 2, 4, 6], False, 94, [])\n"
     ]
    }
   ],
   "source": [
    "print(c)\n",
    "assert c.vals == vals and not c.been_called and c.num == (n+3)*2 and not c.ops"
   ]
  },
  {
   "cell_type": "markdown",
   "metadata": {},
   "source": [
    "### Testing effect on mutable attrs"
   ]
  },
  {
   "cell_type": "code",
   "execution_count": 834,
   "metadata": {},
   "outputs": [
    {
     "data": {
      "text/plain": [
       "Chainable([5, 3, 1, 2, 4, 6, 99], True, 94, [])"
      ]
     },
     "execution_count": 834,
     "metadata": {},
     "output_type": "execute_result"
    }
   ],
   "source": [
    "c.append(99).call().exec(False)"
   ]
  },
  {
   "cell_type": "code",
   "execution_count": 835,
   "metadata": {},
   "outputs": [
    {
     "name": "stdout",
     "output_type": "stream",
     "text": [
      "Chainable([5, 3, 1, 2, 4, 6], False, 94, [])\n"
     ]
    }
   ],
   "source": [
    "# Bool attr is unchanged (as desired), but list is changed.\n",
    "print(c)\n",
    "assert c.vals == vals and not c.been_called and c.num == (n+3)*2 and not c.ops"
   ]
  },
  {
   "cell_type": "code",
   "execution_count": 836,
   "metadata": {},
   "outputs": [],
   "source": [
    "c.append(99).call().exec(True)"
   ]
  },
  {
   "cell_type": "code",
   "execution_count": 837,
   "metadata": {},
   "outputs": [
    {
     "name": "stdout",
     "output_type": "stream",
     "text": [
      "Chainable([5, 3, 1, 2, 4, 6, 99], True, 94, [])\n"
     ]
    }
   ],
   "source": [
    "# Bool attr and list attr both changed.\n",
    "print(c)\n",
    "assert c.vals == vals+[99] and c.been_called and c.num == (n+3)*2 and not c.ops"
   ]
  },
  {
   "cell_type": "code",
   "execution_count": 838,
   "metadata": {},
   "outputs": [],
   "source": [
    "assert len(vals) == length"
   ]
  },
  {
   "cell_type": "markdown",
   "metadata": {},
   "source": [
    "## Testing meta magic\n",
    "\n",
    "Idea: can we make it simpler or more intuitive to define chainable methods?"
   ]
  },
  {
   "cell_type": "markdown",
   "metadata": {},
   "source": [
    "Status: Tentatively working, needs testing though."
   ]
  },
  {
   "cell_type": "code",
   "execution_count": 3,
   "metadata": {},
   "outputs": [],
   "source": [
    "import types\n",
    "\n",
    "from htools import hdir, debug"
   ]
  },
  {
   "cell_type": "code",
   "execution_count": 236,
   "metadata": {},
   "outputs": [],
   "source": [
    "# class ChainMethod:\n",
    "    \n",
    "#     def __init__(self, func):\n",
    "#         wraps(func)(self)\n",
    "        \n",
    "#     def __call__(self, *args, **kwargs):\n",
    "#         print('call', args, kwargs)\n",
    "#         return self.__wrapped__(*args, **kwargs)\n",
    "    \n",
    "#     def __get__(self, instance, cls):\n",
    "#         if instance is None:\n",
    "#             return self\n",
    "#         return types.MethodType(self, instance)\n",
    "\n",
    "    \n",
    "def chain(func):\n",
    "    func._is_chainable = True\n",
    "    \n",
    "    @wraps(func)\n",
    "    def wrapped(*args, **kwargs):\n",
    "        return func(*args, **kwargs)\n",
    "    return wrapped\n",
    "\n",
    "\n",
    "# def ChainMethod(func):\n",
    "#     # This version does attach _is_trainable attr but v.__name__\n",
    "#     # is now wrapper in metaclass\n",
    "    \n",
    "#     @wraps(func)\n",
    "#     def wrapper(*args, **kwargs):\n",
    "#         print('CALL DECORATOR: args', args, '\\nkwargs', kwargs)\n",
    "#         return func(*args, **kwargs)\n",
    "#     static = staticmethod(wrapper)\n",
    "#     static._is_chainable = True\n",
    "#     return static"
   ]
  },
  {
   "cell_type": "code",
   "execution_count": 237,
   "metadata": {},
   "outputs": [],
   "source": [
    "class ChainMeta(type):\n",
    "    \n",
    "    def __new__(cls, name, bases, methods):\n",
    "        new_methods = {}\n",
    "        \n",
    "        for k, v in methods.items():\n",
    "            try: \n",
    "                func = v.__get__(1)\n",
    "                assert func._is_chainable\n",
    "            except: \n",
    "                continue    \n",
    "            public_name = k.lstrip('_')\n",
    "            \n",
    "            # Capture args and kwargs passed to staticmethod (except for instance).\n",
    "            sig = inspect.signature(func)\n",
    "            sig = sig.replace(parameters=list(sig.parameters.values())[1:])\n",
    "            \n",
    "            # Must use default args, otherwise func will always point to last method.\n",
    "            def make_public_method(func=func, private_name=k, \n",
    "                                   public_name=public_name, sig=sig):\n",
    "                def public(inst, *args, **kwargs):\n",
    "                    bound = sig.bind(*args, **kwargs).arguments\n",
    "                    new_method = partial(getattr(inst, private_name), **bound)\n",
    "                    inst.ops.append(new_method)\n",
    "                    return inst\n",
    "                public.__name__ = public_name\n",
    "                return public\n",
    "            \n",
    "            new_methods[public_name] = make_public_method()\n",
    "                \n",
    "        return type.__new__(cls, name, bases, {**methods, **new_methods})"
   ]
  },
  {
   "cell_type": "code",
   "execution_count": 238,
   "metadata": {},
   "outputs": [],
   "source": [
    "class Chainable(metaclass=ChainMeta):\n",
    "   \n",
    "    def __init__(self, vals, num):\n",
    "        self.vals = vals\n",
    "        self.been_called = False\n",
    "        self.num = num\n",
    "        self.ops = []\n",
    "    \n",
    "    def _apply(self, func):\n",
    "        self.ops.append(func)\n",
    "        return self\n",
    "        \n",
    "    def exec(self, inplace=False):\n",
    "        new = deepcopy(self)\n",
    "        for func in self.ops:\n",
    "            new = func(copy(new))\n",
    "        # Clear ops list now that chain is complete.\n",
    "        new.ops.clear()\n",
    "        if inplace: \n",
    "            self.__dict__ = new.__dict__\n",
    "        else: \n",
    "            self.ops.clear()\n",
    "            return new\n",
    "    \n",
    "    @staticmethod\n",
    "    @chain\n",
    "    def _call(instance):\n",
    "        instance.been_called = True\n",
    "        return instance\n",
    "    \n",
    "    @staticmethod\n",
    "    @chain\n",
    "    def _incr(instance):\n",
    "        instance.num += 1\n",
    "        return instance\n",
    "    \n",
    "    @staticmethod\n",
    "    @chain\n",
    "    def _append(instance, n):\n",
    "        instance.vals.append(n)\n",
    "        return instance\n",
    "    \n",
    "    def __repr__(self):\n",
    "        return f'Chainable({repr(self.vals)}, {self.been_called}, {self.num}, {self.ops})'"
   ]
  },
  {
   "cell_type": "code",
   "execution_count": 239,
   "metadata": {},
   "outputs": [
    {
     "data": {
      "text/plain": [
       "Chainable([1, 3], False, 5, [])"
      ]
     },
     "execution_count": 239,
     "metadata": {},
     "output_type": "execute_result"
    }
   ],
   "source": [
    "c1 = Chainable([1, 3], 5)\n",
    "c1"
   ]
  },
  {
   "cell_type": "code",
   "execution_count": 240,
   "metadata": {},
   "outputs": [],
   "source": [
    "assert not c1.been_called\n",
    "_ = c1.call().exec(True)\n",
    "assert _ is None\n",
    "assert c1.been_called"
   ]
  },
  {
   "cell_type": "code",
   "execution_count": 241,
   "metadata": {},
   "outputs": [],
   "source": [
    "assert c1.num == 5\n",
    "c1.incr().exec()\n",
    "assert c1.num == 5"
   ]
  },
  {
   "cell_type": "code",
   "execution_count": 242,
   "metadata": {},
   "outputs": [],
   "source": [
    "_ = c1.incr().exec(True)\n",
    "assert _ is None\n",
    "assert c1.num == 6"
   ]
  },
  {
   "cell_type": "code",
   "execution_count": 243,
   "metadata": {},
   "outputs": [
    {
     "data": {
      "text/plain": [
       "Chainable([2, 4, 6], False, 111, [])"
      ]
     },
     "execution_count": 243,
     "metadata": {},
     "output_type": "execute_result"
    }
   ],
   "source": [
    "c1 = Chainable([2, 4, 6], 111)\n",
    "c1"
   ]
  },
  {
   "cell_type": "code",
   "execution_count": 244,
   "metadata": {},
   "outputs": [],
   "source": [
    "c2 = c1.incr().call().exec()\n",
    "assert c2.been_called\n",
    "assert c2.num == 112\n",
    "\n",
    "assert not c1.been_called\n",
    "assert c1.num == 111"
   ]
  },
  {
   "cell_type": "code",
   "execution_count": 245,
   "metadata": {},
   "outputs": [],
   "source": [
    "_ = c1.incr().call().append(n=99).exec(True)\n",
    "assert _ is None\n",
    "assert c1.vals == [2, 4, 6, 99]\n",
    "assert c1.been_called\n",
    "assert c1.num == 112"
   ]
  },
  {
   "cell_type": "markdown",
   "metadata": {},
   "source": [
    "### Issue: only kwargs work atm, not args. Must map args to correct params in partial in metaclass"
   ]
  },
  {
   "cell_type": "code",
   "execution_count": 246,
   "metadata": {},
   "outputs": [],
   "source": [
    "c2 = c1.append(4).exec()\n",
    "assert c2.vals[-1] == 4\n",
    "assert c1.vals[-1] == 99"
   ]
  },
  {
   "cell_type": "code",
   "execution_count": 247,
   "metadata": {},
   "outputs": [
    {
     "data": {
      "text/plain": [
       "Chainable([2, 4, 6, 99], True, 112, [])"
      ]
     },
     "execution_count": 247,
     "metadata": {},
     "output_type": "execute_result"
    }
   ],
   "source": [
    "c1"
   ]
  },
  {
   "cell_type": "code",
   "execution_count": 248,
   "metadata": {},
   "outputs": [
    {
     "data": {
      "text/plain": [
       "Chainable([2, 4, 6, 99, 333], True, 113, [])"
      ]
     },
     "execution_count": 248,
     "metadata": {},
     "output_type": "execute_result"
    }
   ],
   "source": [
    "c1.append(333).incr().call().exec()"
   ]
  },
  {
   "cell_type": "code",
   "execution_count": 249,
   "metadata": {},
   "outputs": [
    {
     "data": {
      "text/plain": [
       "Chainable([2, 4, 6, 99], True, 112, [])"
      ]
     },
     "execution_count": 249,
     "metadata": {},
     "output_type": "execute_result"
    }
   ],
   "source": [
    "c1"
   ]
  },
  {
   "cell_type": "code",
   "execution_count": 250,
   "metadata": {},
   "outputs": [],
   "source": [
    "c1.append(333).incr().call().exec(True)"
   ]
  },
  {
   "cell_type": "code",
   "execution_count": 251,
   "metadata": {},
   "outputs": [
    {
     "data": {
      "text/plain": [
       "Chainable([2, 4, 6, 99, 333], True, 113, [])"
      ]
     },
     "execution_count": 251,
     "metadata": {},
     "output_type": "execute_result"
    }
   ],
   "source": [
    "c1"
   ]
  },
  {
   "cell_type": "markdown",
   "metadata": {},
   "source": [
    "## Testing finished lazy chainable\n",
    "\n",
    "Note: Library version has a few changes to formatting (line lengths), docstrings, and removed \\_apply() method in an effort to enforce 1 correct way of making chainable methods. chain decorator is also renamed to lazychain.\n",
    "\n",
    "### IDEA: check if staticmethod is actually necessary now. May have been left over from a previous approach."
   ]
  },
  {
   "cell_type": "code",
   "execution_count": 320,
   "metadata": {},
   "outputs": [],
   "source": [
    "def chain(func):\n",
    "    \"\"\"Decorator to register a method as chainable within a\n",
    "    LazyChainable class.\n",
    "    \"\"\"\n",
    "    func._is_chainable = True\n",
    "    \n",
    "    @wraps(func)\n",
    "    def wrapped(*args, **kwargs):\n",
    "        return func(*args, **kwargs)\n",
    "    return wrapped"
   ]
  },
  {
   "cell_type": "code",
   "execution_count": 319,
   "metadata": {},
   "outputs": [],
   "source": [
    "class LazyChainMeta(type):\n",
    "    \"\"\"Metaclass to create LazyChainable objects.\"\"\"\n",
    "    \n",
    "    def __new__(cls, name, bases, methods):\n",
    "        new_methods = {}\n",
    "        \n",
    "        # Find chainable staticmethods and create public versions.\n",
    "        for k, v in methods.items():\n",
    "            try: \n",
    "                func = v.__get__(1)\n",
    "                assert func._is_chainable\n",
    "            except: \n",
    "                continue    \n",
    "            public_name = k.lstrip('_')\n",
    "            \n",
    "            # Capture args and kwargs passed to staticmethod (except for instance).\n",
    "            sig = inspect.signature(func)\n",
    "            sig = sig.replace(parameters=list(sig.parameters.values())[1:])\n",
    "            \n",
    "            # Must use default args, otherwise func will always point to last method.\n",
    "            def make_public_method(func=func, private_name=k, \n",
    "                                   public_name=public_name, sig=sig):\n",
    "                def public(inst, *args, **kwargs):\n",
    "                    bound = sig.bind(*args, **kwargs).arguments\n",
    "                    new_method = partial(getattr(inst, private_name), **bound)\n",
    "                    inst.ops.append(new_method)\n",
    "                    return inst\n",
    "                public.__name__ = public_name\n",
    "                return public\n",
    "            \n",
    "            new_methods[public_name] = make_public_method()\n",
    "                \n",
    "        return type.__new__(cls, name, bases, {**methods, **new_methods})"
   ]
  },
  {
   "cell_type": "code",
   "execution_count": 318,
   "metadata": {},
   "outputs": [],
   "source": [
    "class LazyChainable(metaclass=LazyChainMeta):\n",
    "    \"\"\"Base class that allows children to lazily chain methods, \n",
    "    similar to a Spark RDD.\n",
    "    \n",
    "    Chainable methods must be decorated with @staticmethod\n",
    "    and @chain and be named with a leading underscore. A public\n",
    "    method without the leading underscore will be created, so don't\n",
    "    overwrite this with another method. Chainable methods\n",
    "    accept an instance of the same class as the first argument, \n",
    "    process the instance in some way, then return it. A chain of \n",
    "    commands will be stored until the exec() method is called.\n",
    "    It can operate either in place or not.\n",
    "    \n",
    "    Examples\n",
    "    --------\n",
    "    class Sequence(LazyChainable):\n",
    "    \n",
    "        def __init__(self, numbers, counter, new=True):\n",
    "            super().__init__()\n",
    "            self.numbers = numbers\n",
    "            self.counter = counter\n",
    "            self.new = new\n",
    "\n",
    "        @staticmethod\n",
    "        @chain\n",
    "        def _sub(instance, n):\n",
    "            instance.counter -= n\n",
    "            return instance\n",
    "\n",
    "        @staticmethod\n",
    "        @chain\n",
    "        def _gt(instance, n=0):\n",
    "            instance.numbers = list(filter(lambda x: x > n, instance.numbers))\n",
    "            return instance\n",
    "\n",
    "        @staticmethod\n",
    "        @chain\n",
    "        def _call(instance):\n",
    "            instance.new = False\n",
    "            return instance\n",
    "\n",
    "        def __repr__(self):\n",
    "            pre, suf = super().__repr__().split('(')\n",
    "            argstrs = (f'{k}={repr(v)}' for k, v in vars(self).items())\n",
    "            return f'{pre}({\", \".join(argstrs)}, {suf}'\n",
    "    \n",
    "    \n",
    "    >>> seq = Sequence([3, -1, 5], 0)\n",
    "    >>> output = seq.sub(n=3).gt(0).call().exec()\n",
    "    >>> output\n",
    "    \n",
    "    Sequence(ops=[], numbers=[3, 5], counter=-3, new=False)\n",
    "    \n",
    "    >>> seq   # Unchanged because exec was not in place.\n",
    "    \n",
    "    Sequence(ops=[], numbers=[3, -1, 5], counter=0, new=True)\n",
    "    \n",
    "    \n",
    "    >>> output = seq.sub(n=3).gt(-1).call().exec(inplace=True)\n",
    "    >>> output   # None because exec was in place.\n",
    "    >>> seq   # Changed\n",
    "    \n",
    "    Sequence(ops=[], numbers=[3, -1, 5], counter=-3, new=False)\n",
    "    \"\"\"\n",
    "   \n",
    "    def __init__(self):\n",
    "        self.ops = []\n",
    "    \n",
    "    def _apply(self, func):\n",
    "        self.ops.append(func)\n",
    "        return self\n",
    "        \n",
    "    def exec(self, inplace=False):\n",
    "        new = deepcopy(self)\n",
    "        for func in self.ops:\n",
    "            new = func(copy(new))\n",
    "        # Clear ops list now that chain is complete.\n",
    "        new.ops.clear()\n",
    "        if inplace: \n",
    "            self.__dict__ = new.__dict__\n",
    "        else: \n",
    "            self.ops.clear()\n",
    "            return new\n",
    "    \n",
    "    def __repr__(self):\n",
    "        argstrs = (f'{k}={repr(v)}' for k, v in vars(self).items())\n",
    "        return f'{type(self).__name__}({\", \".join(argstrs)})'"
   ]
  },
  {
   "cell_type": "code",
   "execution_count": 314,
   "metadata": {},
   "outputs": [],
   "source": [
    "class Sequence(LazyChainable):\n",
    "    \n",
    "    def __init__(self, numbers, counter, new=True):\n",
    "        super().__init__()\n",
    "        self.numbers = numbers\n",
    "        self.counter = counter\n",
    "        self.new = new\n",
    "        \n",
    "    @staticmethod\n",
    "    @chain\n",
    "    def _sub(instance, n):\n",
    "        instance.counter -= n\n",
    "        return instance\n",
    "    \n",
    "    @staticmethod\n",
    "    @chain\n",
    "    def _product(instance):\n",
    "        prod = 1\n",
    "        for num in instance.numbers:\n",
    "            prod *= num\n",
    "        instance.prod = prod\n",
    "        return instance\n",
    "    \n",
    "    @staticmethod\n",
    "    @chain\n",
    "    def _gt(instance, n=0):\n",
    "        instance.numbers = list(filter(lambda x: x > n, instance.numbers))\n",
    "        return instance\n",
    "    \n",
    "    @staticmethod\n",
    "    @chain\n",
    "    def _call(instance):\n",
    "        instance.new = False\n",
    "        return instance\n",
    "    \n",
    "    def __repr__(self):\n",
    "        return super().__repr__()"
   ]
  },
  {
   "cell_type": "code",
   "execution_count": 297,
   "metadata": {},
   "outputs": [
    {
     "data": {
      "text/plain": [
       "Sequence(ops=[], numbers=[1, 11, 99, 4, -3, -0.5, 1.5, -22.2], counter=4, new=True, ops=[])"
      ]
     },
     "execution_count": 297,
     "metadata": {},
     "output_type": "execute_result"
    }
   ],
   "source": [
    "seq = Sequence([1, 11, 99, 4, -3, -0.5, 1.5, -22.2], 4, new=True)\n",
    "seq"
   ]
  },
  {
   "cell_type": "code",
   "execution_count": 298,
   "metadata": {},
   "outputs": [
    {
     "data": {
      "text/plain": [
       "Sequence(ops=[], numbers=[1, 11, 99, 4, -3, -0.5, 1.5, -22.2], counter=4, new=True, prod=-217582.19999999998, ops=[])"
      ]
     },
     "execution_count": 298,
     "metadata": {},
     "output_type": "execute_result"
    }
   ],
   "source": [
    "seq.product().exec()"
   ]
  },
  {
   "cell_type": "code",
   "execution_count": 299,
   "metadata": {},
   "outputs": [
    {
     "data": {
      "text/plain": [
       "Sequence(ops=[], numbers=[11, 99], counter=1, new=True, prod=1089, ops=[])"
      ]
     },
     "execution_count": 299,
     "metadata": {},
     "output_type": "execute_result"
    }
   ],
   "source": [
    "seq.gt(4).sub(3).product().exec(True)\n",
    "seq"
   ]
  },
  {
   "cell_type": "code",
   "execution_count": 300,
   "metadata": {},
   "outputs": [
    {
     "data": {
      "text/plain": [
       "[]"
      ]
     },
     "execution_count": 300,
     "metadata": {},
     "output_type": "execute_result"
    }
   ],
   "source": [
    "seq.ops"
   ]
  },
  {
   "cell_type": "code",
   "execution_count": 301,
   "metadata": {},
   "outputs": [
    {
     "data": {
      "text/plain": [
       "Sequence(ops=[], numbers=[11, 99], counter=-3, new=False, prod=1089, ops=[])"
      ]
     },
     "execution_count": 301,
     "metadata": {},
     "output_type": "execute_result"
    }
   ],
   "source": [
    "seq.sub(n=4).call().product().exec()"
   ]
  },
  {
   "cell_type": "code",
   "execution_count": 302,
   "metadata": {},
   "outputs": [
    {
     "data": {
      "text/plain": [
       "True"
      ]
     },
     "execution_count": 302,
     "metadata": {},
     "output_type": "execute_result"
    }
   ],
   "source": [
    "isinstance(seq, LazyChainable)"
   ]
  },
  {
   "cell_type": "code",
   "execution_count": 303,
   "metadata": {},
   "outputs": [
    {
     "data": {
      "text/plain": [
       "__main__.LazyChainMeta"
      ]
     },
     "execution_count": 303,
     "metadata": {},
     "output_type": "execute_result"
    }
   ],
   "source": [
    "type(LazyChainable)"
   ]
  },
  {
   "cell_type": "markdown",
   "metadata": {},
   "source": [
    "## Try another approach using \\_\\_getattr\\_\\_ instead of metaclass"
   ]
  },
  {
   "cell_type": "code",
   "execution_count": 4,
   "metadata": {},
   "outputs": [],
   "source": [
    "def ChainMethod(func):\n",
    "    func._is_chainable = True\n",
    "    \n",
    "    @wraps(func)\n",
    "    def wrapped(*args, **kwargs):\n",
    "        return func(*args, **kwargs)\n",
    "    return wrapped"
   ]
  },
  {
   "cell_type": "code",
   "execution_count": 75,
   "metadata": {},
   "outputs": [],
   "source": [
    "class Chainable:\n",
    "   \n",
    "    def __init__(self, vals, num):\n",
    "        self.vals = vals\n",
    "        self.been_called = False\n",
    "        self.num = num\n",
    "        self.ops = []\n",
    "        \n",
    "    def __getattr__(self, name, *args, **kwargs):\n",
    "        print('args, kwargs', args, kwargs)\n",
    "        private_name = '_' + name\n",
    "        method = super().__getattribute__(private_name)\n",
    "        if method._is_chainable:\n",
    "            self._apply(method)\n",
    "        return method\n",
    "    \n",
    "    def _apply(self, func):\n",
    "        self.ops.append(func)\n",
    "        return self\n",
    "        \n",
    "    def exec(self, inplace=False):\n",
    "        new = deepcopy(self)\n",
    "        for func in self.ops:\n",
    "            new = func(copy(new))\n",
    "        # Clear ops list now that chain is complete.\n",
    "        new.ops.clear()\n",
    "        if inplace: \n",
    "            self.__dict__ = new.__dict__\n",
    "        else: \n",
    "            self.ops.clear()\n",
    "            return new\n",
    "    \n",
    "    @staticmethod\n",
    "    @ChainMethod\n",
    "    def _call(instance):\n",
    "        instance.been_called = True\n",
    "        return instance\n",
    "    \n",
    "    @staticmethod\n",
    "    @ChainMethod\n",
    "    def _incr(instance):\n",
    "        instance.num += 1\n",
    "        return instance\n",
    "    \n",
    "    @staticmethod\n",
    "    @ChainMethod\n",
    "    def _append(instance, n):\n",
    "        instance.vals.append(n)\n",
    "        return instance\n",
    "    \n",
    "    def __repr__(self):\n",
    "        return f'Chainable({repr(self.vals)}, {self.been_called}, {self.num}, {self.ops})'"
   ]
  },
  {
   "cell_type": "code",
   "execution_count": 76,
   "metadata": {},
   "outputs": [
    {
     "name": "stdout",
     "output_type": "stream",
     "text": [
      "args, kwargs () {}\n",
      "args, kwargs () {}\n",
      "args, kwargs () {}\n",
      "args, kwargs () {}\n",
      "args, kwargs () {}\n",
      "args, kwargs () {}\n",
      "args, kwargs () {}\n",
      "args, kwargs () {}\n",
      "args, kwargs () {}\n",
      "args, kwargs () {}\n",
      "args, kwargs () {}\n",
      "args, kwargs () {}\n",
      "args, kwargs () {}\n",
      "args, kwargs () {}\n",
      "args, kwargs () {}\n",
      "args, kwargs () {}\n",
      "args, kwargs () {}\n",
      "args, kwargs () {}\n",
      "args, kwargs () {}\n",
      "args, kwargs () {}\n",
      "args, kwargs () {}\n",
      "args, kwargs () {}\n"
     ]
    },
    {
     "data": {
      "text/plain": [
       "Chainable([2, 4, 0], False, 100, [])"
      ]
     },
     "execution_count": 76,
     "metadata": {},
     "output_type": "execute_result"
    }
   ],
   "source": [
    "c = Chainable([2, 4, 0], 100)\n",
    "c"
   ]
  },
  {
   "cell_type": "code",
   "execution_count": 77,
   "metadata": {},
   "outputs": [
    {
     "name": "stdout",
     "output_type": "stream",
     "text": [
      "args, kwargs () {}\n"
     ]
    },
    {
     "ename": "TypeError",
     "evalue": "_incr() missing 1 required positional argument: 'instance'",
     "output_type": "error",
     "traceback": [
      "\u001b[0;31m---------------------------------------------------------------------------\u001b[0m",
      "\u001b[0;31mTypeError\u001b[0m                                 Traceback (most recent call last)",
      "\u001b[0;32m<ipython-input-77-b5e6bed9a44b>\u001b[0m in \u001b[0;36m<module>\u001b[0;34m\u001b[0m\n\u001b[0;32m----> 1\u001b[0;31m \u001b[0mc\u001b[0m\u001b[0;34m.\u001b[0m\u001b[0mincr\u001b[0m\u001b[0;34m(\u001b[0m\u001b[0;34m)\u001b[0m\u001b[0;34m\u001b[0m\u001b[0;34m\u001b[0m\u001b[0m\n\u001b[0m",
      "\u001b[0;32m<ipython-input-4-bbc671c0cc2e>\u001b[0m in \u001b[0;36mwrapped\u001b[0;34m(*args, **kwargs)\u001b[0m\n\u001b[1;32m      4\u001b[0m     \u001b[0;34m@\u001b[0m\u001b[0mwraps\u001b[0m\u001b[0;34m(\u001b[0m\u001b[0mfunc\u001b[0m\u001b[0;34m)\u001b[0m\u001b[0;34m\u001b[0m\u001b[0;34m\u001b[0m\u001b[0m\n\u001b[1;32m      5\u001b[0m     \u001b[0;32mdef\u001b[0m \u001b[0mwrapped\u001b[0m\u001b[0;34m(\u001b[0m\u001b[0;34m*\u001b[0m\u001b[0margs\u001b[0m\u001b[0;34m,\u001b[0m \u001b[0;34m**\u001b[0m\u001b[0mkwargs\u001b[0m\u001b[0;34m)\u001b[0m\u001b[0;34m:\u001b[0m\u001b[0;34m\u001b[0m\u001b[0;34m\u001b[0m\u001b[0m\n\u001b[0;32m----> 6\u001b[0;31m         \u001b[0;32mreturn\u001b[0m \u001b[0mfunc\u001b[0m\u001b[0;34m(\u001b[0m\u001b[0;34m*\u001b[0m\u001b[0margs\u001b[0m\u001b[0;34m,\u001b[0m \u001b[0;34m**\u001b[0m\u001b[0mkwargs\u001b[0m\u001b[0;34m)\u001b[0m\u001b[0;34m\u001b[0m\u001b[0;34m\u001b[0m\u001b[0m\n\u001b[0m\u001b[1;32m      7\u001b[0m     \u001b[0;32mreturn\u001b[0m \u001b[0mwrapped\u001b[0m\u001b[0;34m\u001b[0m\u001b[0;34m\u001b[0m\u001b[0m\n",
      "\u001b[0;31mTypeError\u001b[0m: _incr() missing 1 required positional argument: 'instance'"
     ]
    }
   ],
   "source": [
    "c.incr()"
   ]
  },
  {
   "cell_type": "code",
   "execution_count": 79,
   "metadata": {},
   "outputs": [
    {
     "name": "stdout",
     "output_type": "stream",
     "text": [
      "args, kwargs () {}\n"
     ]
    },
    {
     "ename": "TypeError",
     "evalue": "_append() missing 1 required positional argument: 'instance'",
     "output_type": "error",
     "traceback": [
      "\u001b[0;31m---------------------------------------------------------------------------\u001b[0m",
      "\u001b[0;31mTypeError\u001b[0m                                 Traceback (most recent call last)",
      "\u001b[0;32m<ipython-input-79-faf0d1c085a3>\u001b[0m in \u001b[0;36m<module>\u001b[0;34m\u001b[0m\n\u001b[0;32m----> 1\u001b[0;31m \u001b[0mc\u001b[0m\u001b[0;34m.\u001b[0m\u001b[0mappend\u001b[0m\u001b[0;34m(\u001b[0m\u001b[0mn\u001b[0m\u001b[0;34m=\u001b[0m\u001b[0;36m3\u001b[0m\u001b[0;34m)\u001b[0m\u001b[0;34m\u001b[0m\u001b[0;34m\u001b[0m\u001b[0m\n\u001b[0m",
      "\u001b[0;32m<ipython-input-4-bbc671c0cc2e>\u001b[0m in \u001b[0;36mwrapped\u001b[0;34m(*args, **kwargs)\u001b[0m\n\u001b[1;32m      4\u001b[0m     \u001b[0;34m@\u001b[0m\u001b[0mwraps\u001b[0m\u001b[0;34m(\u001b[0m\u001b[0mfunc\u001b[0m\u001b[0;34m)\u001b[0m\u001b[0;34m\u001b[0m\u001b[0;34m\u001b[0m\u001b[0m\n\u001b[1;32m      5\u001b[0m     \u001b[0;32mdef\u001b[0m \u001b[0mwrapped\u001b[0m\u001b[0;34m(\u001b[0m\u001b[0;34m*\u001b[0m\u001b[0margs\u001b[0m\u001b[0;34m,\u001b[0m \u001b[0;34m**\u001b[0m\u001b[0mkwargs\u001b[0m\u001b[0;34m)\u001b[0m\u001b[0;34m:\u001b[0m\u001b[0;34m\u001b[0m\u001b[0;34m\u001b[0m\u001b[0m\n\u001b[0;32m----> 6\u001b[0;31m         \u001b[0;32mreturn\u001b[0m \u001b[0mfunc\u001b[0m\u001b[0;34m(\u001b[0m\u001b[0;34m*\u001b[0m\u001b[0margs\u001b[0m\u001b[0;34m,\u001b[0m \u001b[0;34m**\u001b[0m\u001b[0mkwargs\u001b[0m\u001b[0;34m)\u001b[0m\u001b[0;34m\u001b[0m\u001b[0;34m\u001b[0m\u001b[0m\n\u001b[0m\u001b[1;32m      7\u001b[0m     \u001b[0;32mreturn\u001b[0m \u001b[0mwrapped\u001b[0m\u001b[0;34m\u001b[0m\u001b[0;34m\u001b[0m\u001b[0m\n",
      "\u001b[0;31mTypeError\u001b[0m: _append() missing 1 required positional argument: 'instance'"
     ]
    }
   ],
   "source": [
    "c.append(n=3)"
   ]
  }
 ],
 "metadata": {
  "kernelspec": {
   "display_name": "Python 3",
   "language": "python",
   "name": "python3"
  },
  "language_info": {
   "codemirror_mode": {
    "name": "ipython",
    "version": 3
   },
   "file_extension": ".py",
   "mimetype": "text/x-python",
   "name": "python",
   "nbconvert_exporter": "python",
   "pygments_lexer": "ipython3",
   "version": "3.7.3"
  }
 },
 "nbformat": 4,
 "nbformat_minor": 4
}
