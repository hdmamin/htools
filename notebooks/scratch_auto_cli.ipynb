{
 "cells": [
  {
   "cell_type": "code",
   "execution_count": 1,
   "metadata": {
    "ExecuteTime": {
     "end_time": "2020-12-01T05:06:14.959828Z",
     "start_time": "2020-12-01T05:06:14.911954Z"
    }
   },
   "outputs": [],
   "source": [
    "%load_ext autoreload\n",
    "%autoreload 2"
   ]
  },
  {
   "cell_type": "code",
   "execution_count": 112,
   "metadata": {
    "ExecuteTime": {
     "end_time": "2020-12-01T06:13:15.830073Z",
     "start_time": "2020-12-01T06:13:15.773343Z"
    },
    "run_control": {
     "marked": false
    }
   },
   "outputs": [
    {
     "name": "stderr",
     "output_type": "stream",
     "text": [
      "/Users/hmamin/anaconda3/lib/python3.7/site-packages/ipykernel/ipkernel.py:287: DeprecationWarning: `should_run_async` will not call `transform_cell` automatically in the future. Please pass the result to `transformed_cell` argument and any exception that happen during thetransform in `preprocessing_exc_tuple` in IPython 7.17 and above.\n",
      "  and should_run_async(code)\n"
     ]
    }
   ],
   "source": [
    "from abc import ABC, abstractmethod\n",
    "from collections import ChainMap\n",
    "from functools import wraps, update_wrapper\n",
    "import inspect\n",
    "from inspect import Parameter, getsource, getsourcefile, getfile, ismodule, \\\n",
    "    ismethod, isfunction\n",
    "\n",
    "from htools import *"
   ]
  },
  {
   "cell_type": "code",
   "execution_count": 5,
   "metadata": {
    "ExecuteTime": {
     "end_time": "2020-12-01T05:10:58.939384Z",
     "start_time": "2020-12-01T05:10:58.912100Z"
    }
   },
   "outputs": [],
   "source": [
    "@contextmanager\n",
    "def temporary_global_scope(kwargs):\n",
    "    # Make kwargs temporarily available as global vars.\n",
    "    print('in ctx', kwargs)\n",
    "    old_globals = globals().copy()\n",
    "    globals().update(kwargs)\n",
    "    try:\n",
    "        yield\n",
    "    finally:\n",
    "        for k in kwargs:\n",
    "            if k in old_globals:\n",
    "                globals()[k] = old_globals[k]\n",
    "            else:\n",
    "                del globals()[k]"
   ]
  },
  {
   "cell_type": "code",
   "execution_count": 101,
   "metadata": {
    "ExecuteTime": {
     "end_time": "2020-12-01T06:10:58.973572Z",
     "start_time": "2020-12-01T06:10:58.851999Z"
    }
   },
   "outputs": [],
   "source": [
    "def add_kwargs(*fns, positional=False):\n",
    "    \"\"\"When multiple functions contain a parameter with the same name, \n",
    "    priority is determined by the order of `fns`. Wrapped function must accept\n",
    "    **kwargs.\n",
    "    \"\"\"\n",
    "    param_types = [Parameter.POSITIONAL_ONLY,\n",
    "                   Parameter.POSITIONAL_OR_KEYWORD, \n",
    "                   Parameter.KEYWORD_ONLY]\n",
    "    if not positional: param_types = param_types[1:]\n",
    "    def _args(fn): \n",
    "        res = {}\n",
    "        for k, v in params(fn).items():\n",
    "            # If positional=False, allow positional_or_keyword args with\n",
    "            # defaults but not those without. \n",
    "            if v.kind in param_types and (positional \n",
    "                                          or v.default != inspect._empty):\n",
    "                res[k] = v\n",
    "        return res\n",
    "    \n",
    "    # ChainMap operates in reverse order so functions that appear earlier in\n",
    "    # `fns` take priority.\n",
    "    extras_ = dict(ChainMap(*map(_args, fns)))\n",
    "\n",
    "    def decorator(func):\n",
    "        \"\"\"First get params present in func's original signature, then get\n",
    "        params from additional functions which are NOT present in original \n",
    "        signature. Combine and sort param lists so positional args come first\n",
    "        etc. Finally replace func's signature with our newly constructed one.\n",
    "        \"\"\"\n",
    "        sig = inspect.signature(func)\n",
    "        extras = [v for v in \n",
    "                  select(extras_, drop=sig.parameters.keys()).values()]\n",
    "        parameters = sorted(\n",
    "            list(sig.parameters.values()) + extras, \n",
    "            key=lambda x: (x.kind, x.default != inspect._empty)\n",
    "        )\n",
    "        func.__signature__ = sig.replace(parameters=parameters)\n",
    "        \n",
    "        @wraps(func)\n",
    "        def wrapper(*args, **kwargs):\n",
    "            \"\"\"Execute wrapped function in a context where kwargs are \n",
    "            temporarily available as globals. Globals will be restored to \n",
    "            its prior state once execution completes.\n",
    "            \"\"\"\n",
    "            # Order matters here: defaults must come first so user-passed \n",
    "            # args/kwargs will override them.\n",
    "            kwargs = {**{p.name: p.default for p in extras},  \n",
    "                      **func.__signature__.bind(*args, **kwargs).arguments}\n",
    "            with temporary_global_scope(kwargs):\n",
    "                return func(**kwargs)\n",
    "        return wrapper\n",
    "    return decorator"
   ]
  },
  {
   "cell_type": "code",
   "execution_count": 131,
   "metadata": {
    "ExecuteTime": {
     "end_time": "2020-12-01T06:19:05.363212Z",
     "start_time": "2020-12-01T06:19:05.273642Z"
    }
   },
   "outputs": [],
   "source": [
    "class CLI(ABC):\n",
    "    \n",
    "    def __init__(self, *funcs):\n",
    "        self.funcs = list(funcs)\n",
    "        \n",
    "        @add_kwargs(*self.funcs, positional=True)\n",
    "        def _call_wrapper(self, **kwargs):\n",
    "            print(_call_wrapper.__signature__)\n",
    "            print(Args(a=a, b=b, c=c, d=d))\n",
    "            return self.call(**kwargs)\n",
    "        CLI.__call__ = _call_wrapper\n",
    "        \n",
    "    @abstractmethod\n",
    "    def call(self):\n",
    "        raise NotImplementedError()"
   ]
  },
  {
   "cell_type": "code",
   "execution_count": 132,
   "metadata": {
    "ExecuteTime": {
     "end_time": "2020-12-01T06:19:05.789225Z",
     "start_time": "2020-12-01T06:19:05.759905Z"
    }
   },
   "outputs": [],
   "source": [
    "class MyCLI(CLI):\n",
    "    \n",
    "    # TODO: mostly works but I don't think we support args/kwargs at the \n",
    "    # moment. Maybe add them to signature with func name, i.e. bar_kwargs?\n",
    "    def call(self, **kwargs):\n",
    "        print('in __call__', kwargs)\n",
    "        f_res = foo(a=a, b=b)\n",
    "        print(f_res)\n",
    "        b_res = baz(c=c, d=d)\n",
    "        print(b_res)"
   ]
  },
  {
   "cell_type": "code",
   "execution_count": 136,
   "metadata": {
    "ExecuteTime": {
     "end_time": "2020-12-01T06:20:16.963153Z",
     "start_time": "2020-12-01T06:20:16.891773Z"
    }
   },
   "outputs": [],
   "source": [
    "def foo(a, b=3):\n",
    "    return 'foo', {'a': a, 'b': b}\n",
    "\n",
    "def baz(c, d=6):\n",
    "    return 'baz', {'c': c, 'd': d}"
   ]
  },
  {
   "cell_type": "code",
   "execution_count": 137,
   "metadata": {
    "ExecuteTime": {
     "end_time": "2020-12-01T06:20:17.201424Z",
     "start_time": "2020-12-01T06:20:17.167416Z"
    }
   },
   "outputs": [],
   "source": [
    "cli = MyCLI(foo, baz)"
   ]
  },
  {
   "cell_type": "code",
   "execution_count": 138,
   "metadata": {
    "ExecuteTime": {
     "end_time": "2020-12-01T06:20:17.539505Z",
     "start_time": "2020-12-01T06:20:17.505440Z"
    }
   },
   "outputs": [
    {
     "name": "stdout",
     "output_type": "stream",
     "text": [
      "in ctx {'c': 'c0', 'd': 'd2', 'a': 'a1', 'b': 3, 'self': <__main__.MyCLI object at 0x1a17a29e10>}\n",
      "(self, c, a, d=6, b=3, **kwargs)\n",
      "Args(a='a1', b=3, c='c0', d='d2')\n",
      "in __call__ {'c': 'c0', 'd': 'd2', 'a': 'a1', 'b': 3}\n",
      "('foo', {'a': 'a1', 'b': 3})\n",
      "('baz', {'c': 'c0', 'd': 'd2'})\n"
     ]
    }
   ],
   "source": [
    "cli('c0', 'a1', 'd2')"
   ]
  },
  {
   "cell_type": "code",
   "execution_count": 110,
   "metadata": {
    "ExecuteTime": {
     "end_time": "2020-12-01T06:11:20.805999Z",
     "start_time": "2020-12-01T06:11:20.769892Z"
    },
    "run_control": {
     "marked": false
    }
   },
   "outputs": [],
   "source": [
    "cli = CLI(foo, baz)"
   ]
  },
  {
   "cell_type": "code",
   "execution_count": 111,
   "metadata": {
    "ExecuteTime": {
     "end_time": "2020-12-01T06:11:21.147844Z",
     "start_time": "2020-12-01T06:11:21.108166Z"
    }
   },
   "outputs": [
    {
     "name": "stdout",
     "output_type": "stream",
     "text": [
      "in ctx {'c': 'x1', 'd': 11, 'a': 9, 'b': 44, 'self': <__main__.CLI object at 0x1a16171c50>}\n",
      "(self, c, a, d=6, b=3, **kwargs)\n",
      "Args(a=9, b=44, c='x1', d=11)\n",
      "in __call__ {'c': 'x1', 'd': 11, 'a': 9, 'b': 44}\n",
      "396\n",
      "x1x1x1x1x1x1x1x1x1x1x1\n"
     ]
    }
   ],
   "source": [
    "cli.bar('x1', 9, d=11, b=44)"
   ]
  },
  {
   "cell_type": "markdown",
   "metadata": {},
   "source": [
    "### Alternate strategies\n",
    "\n",
    "- Update signature automatically with deco as above, but then explicitly update globals with kwargs. Is this any safer? Maybe not. I guess it removes 1 layer of hackery.\n",
    "- "
   ]
  },
  {
   "cell_type": "code",
   "execution_count": null,
   "metadata": {},
   "outputs": [],
   "source": []
  }
 ],
 "metadata": {
  "kernelspec": {
   "display_name": "Python 3",
   "language": "python",
   "name": "python3"
  },
  "language_info": {
   "codemirror_mode": {
    "name": "ipython",
    "version": 3
   },
   "file_extension": ".py",
   "mimetype": "text/x-python",
   "name": "python",
   "nbconvert_exporter": "python",
   "pygments_lexer": "ipython3",
   "version": "3.7.3"
  }
 },
 "nbformat": 4,
 "nbformat_minor": 2
}
