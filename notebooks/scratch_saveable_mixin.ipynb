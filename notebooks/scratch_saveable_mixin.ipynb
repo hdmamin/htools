{
 "cells": [
  {
   "cell_type": "code",
   "execution_count": 1,
   "metadata": {
    "ExecuteTime": {
     "end_time": "2020-04-16T05:47:54.522406Z",
     "start_time": "2020-04-16T05:47:54.490347Z"
    }
   },
   "outputs": [],
   "source": [
    "%load_ext autoreload\n",
    "%autoreload 2"
   ]
  },
  {
   "cell_type": "code",
   "execution_count": 44,
   "metadata": {
    "ExecuteTime": {
     "end_time": "2020-04-16T06:08:38.300382Z",
     "start_time": "2020-04-16T06:08:38.243962Z"
    }
   },
   "outputs": [],
   "source": [
    "from pathlib import Path\n",
    "\n",
    "from htools import save, load, auto_repr"
   ]
  },
  {
   "cell_type": "code",
   "execution_count": 17,
   "metadata": {
    "ExecuteTime": {
     "end_time": "2020-04-16T05:59:35.462074Z",
     "start_time": "2020-04-16T05:59:35.424501Z"
    }
   },
   "outputs": [],
   "source": [
    "def foo(*, a, b=3):\n",
    "    return a*b"
   ]
  },
  {
   "cell_type": "code",
   "execution_count": 19,
   "metadata": {
    "ExecuteTime": {
     "end_time": "2020-04-16T05:59:55.200802Z",
     "start_time": "2020-04-16T05:59:55.179574Z"
    }
   },
   "outputs": [
    {
     "data": {
      "text/plain": [
       "6"
      ]
     },
     "execution_count": 19,
     "metadata": {},
     "output_type": "execute_result"
    }
   ],
   "source": [
    "foo(a=2)"
   ]
  },
  {
   "cell_type": "code",
   "execution_count": 45,
   "metadata": {
    "ExecuteTime": {
     "end_time": "2020-04-16T06:08:39.994256Z",
     "start_time": "2020-04-16T06:08:39.960755Z"
    }
   },
   "outputs": [],
   "source": [
    "class SaveableMixin:\n",
    "    \"\"\"Provide object saving and loading methods. If you want to be able to\n",
    "    pass a file name rather than a full path to `save`, the object can define\n",
    "    a `self.dir` attribute.\n",
    "    \"\"\"\n",
    "    \n",
    "    def save(self, *, fname=None, path=None):\n",
    "        \"\"\"Pickle object with optional compression.\n",
    "        \n",
    "        Parameters\n",
    "        ----------\n",
    "        fname: str or Path\n",
    "            If passed in, method will use this as a filename within the\n",
    "            object's `dir` attribute.\n",
    "        path: str or Path\n",
    "            Path to save object to.\n",
    "        \"\"\"\n",
    "        assert not fname or not path, 'Can\\'t pass in both fname and path.'\n",
    "        path = path or Path(self.dir)/fname\n",
    "        save(self, path)\n",
    "        \n",
    "    @classmethod\n",
    "    def load(self, path):\n",
    "        \"\"\"Load object from pickle file.\n",
    "        \n",
    "        Parameters\n",
    "        ----------\n",
    "        path: str or Path\n",
    "            Name of file where object is stored.\n",
    "        \"\"\"\n",
    "        return load(path)"
   ]
  },
  {
   "cell_type": "code",
   "execution_count": 22,
   "metadata": {
    "ExecuteTime": {
     "end_time": "2020-04-16T06:05:06.462424Z",
     "start_time": "2020-04-16T06:05:06.441802Z"
    }
   },
   "outputs": [],
   "source": [
    "@auto_repr\n",
    "class Foo(SaveableMixin):\n",
    "    \n",
    "    def __init__(self, a, b=3, c=['d', 'e']):\n",
    "        self.a = a\n",
    "        self.b = b\n",
    "        self.c = c\n",
    "        \n",
    "    def set_d(self):\n",
    "        self.d = self.a * self.b"
   ]
  },
  {
   "cell_type": "code",
   "execution_count": 23,
   "metadata": {
    "ExecuteTime": {
     "end_time": "2020-04-16T06:05:11.264928Z",
     "start_time": "2020-04-16T06:05:11.234209Z"
    }
   },
   "outputs": [
    {
     "data": {
      "text/plain": [
       "Foo(a=22, b=3, c=(9, 'L'))"
      ]
     },
     "execution_count": 23,
     "metadata": {},
     "output_type": "execute_result"
    }
   ],
   "source": [
    "f = Foo(22, c=(9, 'L'))\n",
    "f"
   ]
  },
  {
   "cell_type": "code",
   "execution_count": 24,
   "metadata": {
    "ExecuteTime": {
     "end_time": "2020-04-16T06:05:11.735283Z",
     "start_time": "2020-04-16T06:05:11.709150Z"
    }
   },
   "outputs": [
    {
     "data": {
      "text/plain": [
       "Foo(a=22, b=3, c=(9, 'L'))"
      ]
     },
     "execution_count": 24,
     "metadata": {},
     "output_type": "execute_result"
    }
   ],
   "source": [
    "f.set_d()\n",
    "f"
   ]
  },
  {
   "cell_type": "code",
   "execution_count": 25,
   "metadata": {
    "ExecuteTime": {
     "end_time": "2020-04-16T06:05:13.706613Z",
     "start_time": "2020-04-16T06:05:13.685584Z"
    }
   },
   "outputs": [
    {
     "data": {
      "text/plain": [
       "{'a': 22, 'b': 3, 'c': (9, 'L'), 'd': 66}"
      ]
     },
     "execution_count": 25,
     "metadata": {},
     "output_type": "execute_result"
    }
   ],
   "source": [
    "f.__dict__"
   ]
  },
  {
   "cell_type": "code",
   "execution_count": 29,
   "metadata": {
    "ExecuteTime": {
     "end_time": "2020-04-16T06:05:49.015009Z",
     "start_time": "2020-04-16T06:05:48.977240Z"
    }
   },
   "outputs": [
    {
     "name": "stdout",
     "output_type": "stream",
     "text": [
      "Writing data to ../data/foo.pkl.\n"
     ]
    }
   ],
   "source": [
    "path = '../data/foo.pkl'\n",
    "f.save(path=path)"
   ]
  },
  {
   "cell_type": "code",
   "execution_count": 30,
   "metadata": {
    "ExecuteTime": {
     "end_time": "2020-04-16T06:05:55.049249Z",
     "start_time": "2020-04-16T06:05:54.999076Z"
    }
   },
   "outputs": [
    {
     "name": "stdout",
     "output_type": "stream",
     "text": [
      "Object loaded from ../data/foo.pkl.\n"
     ]
    }
   ],
   "source": [
    "f2 = Foo.load(path)"
   ]
  },
  {
   "cell_type": "code",
   "execution_count": 31,
   "metadata": {
    "ExecuteTime": {
     "end_time": "2020-04-16T06:05:56.512938Z",
     "start_time": "2020-04-16T06:05:56.482546Z"
    }
   },
   "outputs": [
    {
     "data": {
      "text/plain": [
       "{'a': 22, 'b': 3, 'c': (9, 'L'), 'd': 66}"
      ]
     },
     "execution_count": 31,
     "metadata": {},
     "output_type": "execute_result"
    }
   ],
   "source": [
    "f2.__dict__"
   ]
  },
  {
   "cell_type": "code",
   "execution_count": 32,
   "metadata": {
    "ExecuteTime": {
     "end_time": "2020-04-16T06:06:01.443414Z",
     "start_time": "2020-04-16T06:06:01.397154Z"
    }
   },
   "outputs": [
    {
     "ename": "TypeError",
     "evalue": "save() takes 1 positional argument but 2 were given",
     "output_type": "error",
     "traceback": [
      "\u001b[0;31m---------------------------------------------------------------------------\u001b[0m",
      "\u001b[0;31mTypeError\u001b[0m                                 Traceback (most recent call last)",
      "\u001b[0;32m<ipython-input-32-03147a83011d>\u001b[0m in \u001b[0;36m<module>\u001b[0;34m\u001b[0m\n\u001b[0;32m----> 1\u001b[0;31m \u001b[0mf\u001b[0m\u001b[0;34m.\u001b[0m\u001b[0msave\u001b[0m\u001b[0;34m(\u001b[0m\u001b[0mpath\u001b[0m\u001b[0;34m)\u001b[0m\u001b[0;34m\u001b[0m\u001b[0;34m\u001b[0m\u001b[0m\n\u001b[0m",
      "\u001b[0;31mTypeError\u001b[0m: save() takes 1 positional argument but 2 were given"
     ]
    }
   ],
   "source": [
    "f.save(path)"
   ]
  },
  {
   "cell_type": "code",
   "execution_count": 33,
   "metadata": {
    "ExecuteTime": {
     "end_time": "2020-04-16T06:06:30.945842Z",
     "start_time": "2020-04-16T06:06:30.918855Z"
    }
   },
   "outputs": [
    {
     "ename": "AttributeError",
     "evalue": "'Foo' object has no attribute 'dir'",
     "output_type": "error",
     "traceback": [
      "\u001b[0;31m---------------------------------------------------------------------------\u001b[0m",
      "\u001b[0;31mAttributeError\u001b[0m                            Traceback (most recent call last)",
      "\u001b[0;32m<ipython-input-33-8f45047d0c10>\u001b[0m in \u001b[0;36m<module>\u001b[0;34m\u001b[0m\n\u001b[0;32m----> 1\u001b[0;31m \u001b[0mf\u001b[0m\u001b[0;34m.\u001b[0m\u001b[0msave\u001b[0m\u001b[0;34m(\u001b[0m\u001b[0mfname\u001b[0m\u001b[0;34m=\u001b[0m\u001b[0;34m'f2.pkl'\u001b[0m\u001b[0;34m)\u001b[0m\u001b[0;34m\u001b[0m\u001b[0;34m\u001b[0m\u001b[0m\n\u001b[0m",
      "\u001b[0;32m<ipython-input-21-7c2b26c7f60a>\u001b[0m in \u001b[0;36msave\u001b[0;34m(self, fname, path)\u001b[0m\n\u001b[1;32m     17\u001b[0m         \"\"\"\n\u001b[1;32m     18\u001b[0m         \u001b[0;32massert\u001b[0m \u001b[0;32mnot\u001b[0m \u001b[0mfname\u001b[0m \u001b[0;32mor\u001b[0m \u001b[0;32mnot\u001b[0m \u001b[0mpath\u001b[0m\u001b[0;34m,\u001b[0m \u001b[0;34m'Can\\'t pass in both fname and path.'\u001b[0m\u001b[0;34m\u001b[0m\u001b[0;34m\u001b[0m\u001b[0m\n\u001b[0;32m---> 19\u001b[0;31m         \u001b[0mpath\u001b[0m \u001b[0;34m=\u001b[0m \u001b[0mpath\u001b[0m \u001b[0;32mor\u001b[0m \u001b[0mself\u001b[0m\u001b[0;34m.\u001b[0m\u001b[0mdir\u001b[0m\u001b[0;34m/\u001b[0m\u001b[0mfname\u001b[0m\u001b[0;34m\u001b[0m\u001b[0;34m\u001b[0m\u001b[0m\n\u001b[0m\u001b[1;32m     20\u001b[0m         \u001b[0msave\u001b[0m\u001b[0;34m(\u001b[0m\u001b[0mself\u001b[0m\u001b[0;34m,\u001b[0m \u001b[0mpath\u001b[0m\u001b[0;34m)\u001b[0m\u001b[0;34m\u001b[0m\u001b[0;34m\u001b[0m\u001b[0m\n\u001b[1;32m     21\u001b[0m \u001b[0;34m\u001b[0m\u001b[0m\n",
      "\u001b[0;31mAttributeError\u001b[0m: 'Foo' object has no attribute 'dir'"
     ]
    }
   ],
   "source": [
    "f.save(fname='f2.pkl')"
   ]
  },
  {
   "cell_type": "code",
   "execution_count": 46,
   "metadata": {
    "ExecuteTime": {
     "end_time": "2020-04-16T06:08:43.815719Z",
     "start_time": "2020-04-16T06:08:43.796686Z"
    }
   },
   "outputs": [],
   "source": [
    "@auto_repr\n",
    "class Bar(SaveableMixin):\n",
    "    \n",
    "    def __init__(self, a, dir_='../data', c=10):\n",
    "        self.a = a\n",
    "        self.dir = dir_\n",
    "        self.c = c\n",
    "        \n",
    "    def set_d(self):\n",
    "        self.d = self.a * self.c"
   ]
  },
  {
   "cell_type": "code",
   "execution_count": 47,
   "metadata": {
    "ExecuteTime": {
     "end_time": "2020-04-16T06:08:44.050721Z",
     "start_time": "2020-04-16T06:08:44.032364Z"
    }
   },
   "outputs": [
    {
     "data": {
      "text/plain": [
       "Bar(a=3, c=10)"
      ]
     },
     "execution_count": 47,
     "metadata": {},
     "output_type": "execute_result"
    }
   ],
   "source": [
    "b = Bar(3)\n",
    "b"
   ]
  },
  {
   "cell_type": "code",
   "execution_count": 48,
   "metadata": {
    "ExecuteTime": {
     "end_time": "2020-04-16T06:08:44.347326Z",
     "start_time": "2020-04-16T06:08:44.323317Z"
    }
   },
   "outputs": [
    {
     "data": {
      "text/plain": [
       "Bar(a=3, c=10)"
      ]
     },
     "execution_count": 48,
     "metadata": {},
     "output_type": "execute_result"
    }
   ],
   "source": [
    "b.set_d()\n",
    "b"
   ]
  },
  {
   "cell_type": "code",
   "execution_count": 49,
   "metadata": {
    "ExecuteTime": {
     "end_time": "2020-04-16T06:08:45.591834Z",
     "start_time": "2020-04-16T06:08:45.568413Z"
    }
   },
   "outputs": [
    {
     "name": "stdout",
     "output_type": "stream",
     "text": [
      "Writing data to ../data/b.pkl.\n"
     ]
    }
   ],
   "source": [
    "b.save(fname='b.pkl')"
   ]
  },
  {
   "cell_type": "code",
   "execution_count": 50,
   "metadata": {
    "ExecuteTime": {
     "end_time": "2020-04-16T06:08:56.561055Z",
     "start_time": "2020-04-16T06:08:56.528389Z"
    }
   },
   "outputs": [
    {
     "name": "stdout",
     "output_type": "stream",
     "text": [
      "Object loaded from ../data/b.pkl.\n"
     ]
    },
    {
     "data": {
      "text/plain": [
       "{'a': 3, 'dir': '../data', 'c': 10, 'd': 30}"
      ]
     },
     "execution_count": 50,
     "metadata": {},
     "output_type": "execute_result"
    }
   ],
   "source": [
    "Bar.load('../data/b.pkl').__dict__"
   ]
  },
  {
   "cell_type": "code",
   "execution_count": null,
   "metadata": {},
   "outputs": [],
   "source": []
  }
 ],
 "metadata": {
  "kernelspec": {
   "display_name": "Python 3",
   "language": "python",
   "name": "python3"
  },
  "language_info": {
   "codemirror_mode": {
    "name": "ipython",
    "version": 3
   },
   "file_extension": ".py",
   "mimetype": "text/x-python",
   "name": "python",
   "nbconvert_exporter": "python",
   "pygments_lexer": "ipython3",
   "version": "3.7.3"
  }
 },
 "nbformat": 4,
 "nbformat_minor": 2
}
