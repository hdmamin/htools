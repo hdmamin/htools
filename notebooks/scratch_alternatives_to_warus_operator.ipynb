{
 "cells": [
  {
   "cell_type": "code",
   "execution_count": 1,
   "metadata": {
    "ExecuteTime": {
     "end_time": "2020-01-11T07:50:59.654741Z",
     "start_time": "2020-01-11T07:50:58.312846Z"
    }
   },
   "outputs": [],
   "source": [
    "from pprint import pprint\n",
    "import spacy\n",
    "\n",
    "import htools.magics"
   ]
  },
  {
   "cell_type": "code",
   "execution_count": 3,
   "metadata": {
    "ExecuteTime": {
     "end_time": "2020-01-11T07:51:28.332190Z",
     "start_time": "2020-01-11T07:51:28.328609Z"
    }
   },
   "outputs": [],
   "source": [
    "nlp = spacy.load('en_core_web_sm', disable=['ner', 'tagger', 'pos', 'dep'])"
   ]
  },
  {
   "cell_type": "code",
   "execution_count": null,
   "metadata": {
    "ExecuteTime": {
     "end_time": "2020-01-11T07:51:00.266220Z",
     "start_time": "2020-01-11T07:50:59.073Z"
    }
   },
   "outputs": [],
   "source": [
    "texts = ['I went to the store, took a walk, and went home.',\n",
    "         '\\n',\n",
    "         'Getting coffee soon.',\n",
    "         '\\n a'] * 500"
   ]
  },
  {
   "cell_type": "code",
   "execution_count": 152,
   "metadata": {
    "ExecuteTime": {
     "end_time": "2019-10-20T22:47:44.029832Z",
     "start_time": "2019-10-20T22:47:01.851494Z"
    }
   },
   "outputs": [
    {
     "name": "stdout",
     "output_type": "stream",
     "text": [
      "4.22 s ± 138 ms per loop (mean ± std. dev. of 2 runs, 5 loops each)\n"
     ]
    }
   ],
   "source": [
    "%%timeit -n 5 -r 2\n",
    "\n",
    "out = [nlp(text) for text in texts]"
   ]
  },
  {
   "cell_type": "code",
   "execution_count": 153,
   "metadata": {
    "ExecuteTime": {
     "end_time": "2019-10-20T22:48:46.986343Z",
     "start_time": "2019-10-20T22:47:44.031617Z"
    }
   },
   "outputs": [
    {
     "name": "stdout",
     "output_type": "stream",
     "text": [
      "6.29 s ± 18.7 ms per loop (mean ± std. dev. of 2 runs, 5 loops each)\n"
     ]
    }
   ],
   "source": [
    "%%timeit -n 5 -r 2\n",
    "\n",
    "out = [nlp(text) for text in texts if len(nlp(text)) > 2]"
   ]
  },
  {
   "cell_type": "code",
   "execution_count": 154,
   "metadata": {
    "ExecuteTime": {
     "end_time": "2019-10-20T22:49:27.787238Z",
     "start_time": "2019-10-20T22:48:46.988306Z"
    }
   },
   "outputs": [
    {
     "name": "stdout",
     "output_type": "stream",
     "text": [
      "4.08 s ± 17.4 ms per loop (mean ± std. dev. of 2 runs, 5 loops each)\n"
     ]
    }
   ],
   "source": [
    "%%timeit -n 5 -r 2\n",
    "\n",
    "out = [arg for text in texts \n",
    "       for arg in [nlp(text)] if len(arg) > 2]"
   ]
  },
  {
   "cell_type": "code",
   "execution_count": 155,
   "metadata": {
    "ExecuteTime": {
     "end_time": "2019-10-20T22:50:08.672647Z",
     "start_time": "2019-10-20T22:49:27.789237Z"
    }
   },
   "outputs": [
    {
     "name": "stdout",
     "output_type": "stream",
     "text": [
      "4.09 s ± 14 ms per loop (mean ± std. dev. of 2 runs, 5 loops each)\n"
     ]
    }
   ],
   "source": [
    "%%timeit -n 5 -r 2\n",
    "\n",
    "out = [text for text in map(nlp, texts) if len(text) > 2]"
   ]
  },
  {
   "cell_type": "code",
   "execution_count": 166,
   "metadata": {
    "ExecuteTime": {
     "end_time": "2019-10-20T22:59:26.448040Z",
     "start_time": "2019-10-20T22:59:26.441380Z"
    }
   },
   "outputs": [
    {
     "ename": "SyntaxError",
     "evalue": "invalid syntax (<ipython-input-166-88e8e3855236>, line 2)",
     "output_type": "error",
     "traceback": [
      "\u001b[0;36m  File \u001b[0;32m\"<ipython-input-166-88e8e3855236>\"\u001b[0;36m, line \u001b[0;32m2\u001b[0m\n\u001b[0;31m    [out for text in texts if len(out:=nlp(text)) > 2]\u001b[0m\n\u001b[0m                                     ^\u001b[0m\n\u001b[0;31mSyntaxError\u001b[0m\u001b[0;31m:\u001b[0m invalid syntax\n"
     ]
    }
   ],
   "source": [
    "# Python 3.8\n",
    "[out for text in texts if len(out:=nlp(text)) > 2]"
   ]
  },
  {
   "cell_type": "markdown",
   "metadata": {},
   "source": [
    "## eprint (htools)"
   ]
  },
  {
   "cell_type": "code",
   "execution_count": 167,
   "metadata": {
    "ExecuteTime": {
     "end_time": "2019-10-20T23:01:02.140742Z",
     "start_time": "2019-10-20T23:01:02.134637Z"
    }
   },
   "outputs": [],
   "source": [
    "def eprint(arr, indent=2, spacing=1):\n",
    "    for i, x in enumerate(arr):\n",
    "        print(f'{i:>{indent}}: {x}', end='\\n'*spacing)"
   ]
  },
  {
   "cell_type": "code",
   "execution_count": 170,
   "metadata": {
    "ExecuteTime": {
     "end_time": "2019-10-20T23:01:11.009409Z",
     "start_time": "2019-10-20T23:01:11.002740Z"
    }
   },
   "outputs": [
    {
     "name": "stdout",
     "output_type": "stream",
     "text": [
      " 0: 0\n",
      " 1: 1\n",
      " 2: 2\n",
      " 3: 3\n",
      " 4: 4\n",
      " 5: 5\n",
      " 6: 6\n",
      " 7: 7\n",
      " 8: 8\n",
      " 9: 9\n",
      "10: 10\n",
      "11: 11\n"
     ]
    }
   ],
   "source": [
    "eprint(range(12))"
   ]
  },
  {
   "cell_type": "code",
   "execution_count": 171,
   "metadata": {
    "ExecuteTime": {
     "end_time": "2019-10-20T23:01:16.092935Z",
     "start_time": "2019-10-20T23:01:16.085911Z"
    }
   },
   "outputs": [
    {
     "name": "stdout",
     "output_type": "stream",
     "text": [
      "0: 98\n",
      "\n",
      "1: 99\n",
      "\n",
      "2: 100\n",
      "\n",
      "3: 101\n",
      "\n",
      "4: 102\n",
      "\n",
      "5: 103\n",
      "\n",
      "6: 104\n",
      "\n",
      "7: 105\n",
      "\n",
      "8: 106\n",
      "\n",
      "9: 107\n",
      "\n",
      "10: 108\n",
      "\n",
      "11: 109\n",
      "\n"
     ]
    }
   ],
   "source": [
    "eprint(range(98, 110), 0, 2)"
   ]
  },
  {
   "cell_type": "code",
   "execution_count": 172,
   "metadata": {
    "ExecuteTime": {
     "end_time": "2019-10-20T23:01:22.580005Z",
     "start_time": "2019-10-20T23:01:22.572567Z"
    }
   },
   "outputs": [
    {
     "name": "stdout",
     "output_type": "stream",
     "text": [
      "              0: 101\n",
      "              1: 100\n",
      "              2: 99\n",
      "              3: 98\n",
      "              4: 97\n",
      "              5: 96\n",
      "              6: 95\n",
      "              7: 94\n",
      "              8: 93\n",
      "              9: 92\n",
      "             10: 91\n"
     ]
    }
   ],
   "source": [
    "eprint(range(101, 90, -1), 15)"
   ]
  },
  {
   "cell_type": "code",
   "execution_count": 128,
   "metadata": {
    "ExecuteTime": {
     "end_time": "2019-10-20T22:43:56.210566Z",
     "start_time": "2019-10-20T22:43:56.203455Z"
    }
   },
   "outputs": [
    {
     "name": "stdout",
     "output_type": "stream",
     "text": [
      "  0: a\n",
      "  1: b\n",
      "  2: \n",
      "  3: abcdef\n",
      "  4: aaaaaaaaaaaaaaaaaaabbbbaaaaaabaaabaaaa\n",
      "  5: ,\n",
      "  6: \n",
      "\n",
      "  7: \t\n",
      "  8: \r\n",
      "\n",
      "  9: a\n",
      " 10: b\n",
      " 11: 0\n",
      " 12: :\n",
      " 13: aeiou\n",
      " 14: []\n"
     ]
    }
   ],
   "source": [
    "arr = ['a', 'b', '', 'abcdef', 'aaaaaaaaaaaaaaaaaaabbbbaaaaaabaaabaaaa', ',',\n",
    "       '\\n', '\\t', '\\r\\n', 'a', 'b', 0, ':', 'aeiou', []]\n",
    "eprint(arr)"
   ]
  }
 ],
 "metadata": {
  "kernelspec": {
   "display_name": "Python 3",
   "language": "python",
   "name": "python3"
  },
  "language_info": {
   "codemirror_mode": {
    "name": "ipython",
    "version": 3
   },
   "file_extension": ".py",
   "mimetype": "text/x-python",
   "name": "python",
   "nbconvert_exporter": "python",
   "pygments_lexer": "ipython3",
   "version": "3.7.3"
  }
 },
 "nbformat": 4,
 "nbformat_minor": 2
}
