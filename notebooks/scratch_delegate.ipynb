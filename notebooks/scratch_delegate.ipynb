{
 "cells": [
  {
   "cell_type": "code",
   "execution_count": 80,
   "metadata": {
    "ExecuteTime": {
     "end_time": "2020-05-25T04:11:06.201529Z",
     "start_time": "2020-05-25T04:11:06.195674Z"
    }
   },
   "outputs": [],
   "source": [
    "from functools import wraps\n",
    "\n",
    "from htools import assert_raises, auto_repr"
   ]
  },
  {
   "cell_type": "code",
   "execution_count": 31,
   "metadata": {
    "ExecuteTime": {
     "end_time": "2020-05-25T03:59:09.582195Z",
     "start_time": "2020-05-25T03:59:09.577231Z"
    }
   },
   "outputs": [],
   "source": [
    "def delegate(attr):\n",
    "    \"\"\"Decorator that automatically delegates attribute calls to an attribute\n",
    "    of the class. This is a nice convenience to have when using composition.\n",
    "    This does NOT affect magic methods; for that, see the `forwardable`\n",
    "    library.\n",
    "    \n",
    "    Note: I suspect this could lead to some unexpected behavior so be careful\n",
    "    using this in production.\n",
    "    \n",
    "    Parameters\n",
    "    ----------\n",
    "    attr: str\n",
    "        Name of variable to delegate to.\n",
    "    \n",
    "    Examples\n",
    "    --------\n",
    "    Example 1: We can use BeautifulSoup methods like `find_all` directly on \n",
    "    the Page object. Most IDEs should let us view quick documentation as well.\n",
    "    \n",
    "    @delegate('soup')\n",
    "    class Page:\n",
    "        def __init__(self, url, logfile, timeout):\n",
    "            self.soup = self.fetch(url, timeout=timeout)\n",
    "        ...\n",
    "        \n",
    "    page = Page('http://www.coursera.org')\n",
    "    page.find_all('div')\n",
    "    \n",
    "    Example 2: Magic methods are not delegated.\n",
    "    \n",
    "    @delegate('data')\n",
    "    class Foo:\n",
    "        def __init__(self, data, city):\n",
    "            self.data = data\n",
    "            self.city = city\n",
    "            \n",
    "    >>> f = Foo(['a', 'b', 'c'], 'San Francisco')\n",
    "    >>> len(f)\n",
    "    \n",
    "    TypeError: object of type 'Foo' has no len()\n",
    "    \"\"\"\n",
    "    def wrapper(cls):\n",
    "        def f(self, new_attr):\n",
    "            delegate = getattr(self, attr)\n",
    "            return getattr(delegate, new_attr)\n",
    "        cls.__getattr__ = f\n",
    "        return cls\n",
    "    return wrapper"
   ]
  },
  {
   "cell_type": "code",
   "execution_count": 32,
   "metadata": {
    "ExecuteTime": {
     "end_time": "2020-05-25T03:59:09.766553Z",
     "start_time": "2020-05-25T03:59:09.759233Z"
    }
   },
   "outputs": [],
   "source": [
    "@delegate('arr')\n",
    "class Foo:\n",
    "    def __init__(self, a, b, arr, verbose=True):\n",
    "        self.a, self.b = a, b\n",
    "        self.arr = arr\n",
    "        self.verbose = verbose\n",
    "    def walk(self):\n",
    "        return 'walking'\n",
    "    def __getitem__(self, i):\n",
    "        return list(range(self.a))[i]"
   ]
  },
  {
   "cell_type": "code",
   "execution_count": 33,
   "metadata": {
    "ExecuteTime": {
     "end_time": "2020-05-25T03:59:09.927123Z",
     "start_time": "2020-05-25T03:59:09.920225Z"
    }
   },
   "outputs": [
    {
     "data": {
      "text/plain": [
       "<__main__.Foo at 0x10e58cf28>"
      ]
     },
     "execution_count": 33,
     "metadata": {},
     "output_type": "execute_result"
    }
   ],
   "source": [
    "f = Foo(9, 2, list('defghijkl'))\n",
    "f"
   ]
  },
  {
   "cell_type": "code",
   "execution_count": 34,
   "metadata": {
    "ExecuteTime": {
     "end_time": "2020-05-25T03:59:10.192434Z",
     "start_time": "2020-05-25T03:59:10.188315Z"
    }
   },
   "outputs": [
    {
     "data": {
      "text/plain": [
       "(9, 2, ['d', 'e', 'f', 'g', 'h', 'i', 'j', 'k', 'l'], True)"
      ]
     },
     "execution_count": 34,
     "metadata": {},
     "output_type": "execute_result"
    }
   ],
   "source": [
    "f.a, f.b, f.arr, f.verbose"
   ]
  },
  {
   "cell_type": "code",
   "execution_count": 35,
   "metadata": {
    "ExecuteTime": {
     "end_time": "2020-05-25T03:59:10.359733Z",
     "start_time": "2020-05-25T03:59:10.356893Z"
    }
   },
   "outputs": [],
   "source": [
    "f.append(99)"
   ]
  },
  {
   "cell_type": "code",
   "execution_count": 36,
   "metadata": {
    "ExecuteTime": {
     "end_time": "2020-05-25T03:59:10.546813Z",
     "start_time": "2020-05-25T03:59:10.540868Z"
    }
   },
   "outputs": [
    {
     "data": {
      "text/plain": [
       "['d', 'e', 'f', 'g', 'h', 'i', 'j', 'k', 'l', 99]"
      ]
     },
     "execution_count": 36,
     "metadata": {},
     "output_type": "execute_result"
    }
   ],
   "source": [
    "f.arr"
   ]
  },
  {
   "cell_type": "code",
   "execution_count": 37,
   "metadata": {
    "ExecuteTime": {
     "end_time": "2020-05-25T03:59:10.871539Z",
     "start_time": "2020-05-25T03:59:10.866969Z"
    }
   },
   "outputs": [
    {
     "data": {
      "text/plain": [
       "99"
      ]
     },
     "execution_count": 37,
     "metadata": {},
     "output_type": "execute_result"
    }
   ],
   "source": [
    "f.pop(-1)"
   ]
  },
  {
   "cell_type": "code",
   "execution_count": 38,
   "metadata": {
    "ExecuteTime": {
     "end_time": "2020-05-25T03:59:11.042976Z",
     "start_time": "2020-05-25T03:59:11.040182Z"
    }
   },
   "outputs": [],
   "source": [
    "f.sort()"
   ]
  },
  {
   "cell_type": "code",
   "execution_count": 39,
   "metadata": {
    "ExecuteTime": {
     "end_time": "2020-05-25T03:59:11.508474Z",
     "start_time": "2020-05-25T03:59:11.502422Z"
    }
   },
   "outputs": [
    {
     "data": {
      "text/plain": [
       "<__main__.Foo at 0x10e58cf28>"
      ]
     },
     "execution_count": 39,
     "metadata": {},
     "output_type": "execute_result"
    }
   ],
   "source": [
    "f"
   ]
  },
  {
   "cell_type": "code",
   "execution_count": 40,
   "metadata": {
    "ExecuteTime": {
     "end_time": "2020-05-25T03:59:12.007826Z",
     "start_time": "2020-05-25T03:59:12.000861Z"
    }
   },
   "outputs": [
    {
     "data": {
      "text/plain": [
       "['d', 'e', 'f', 'g', 'h', 'i', 'j', 'k', 'l']"
      ]
     },
     "execution_count": 40,
     "metadata": {},
     "output_type": "execute_result"
    }
   ],
   "source": [
    "f.arr"
   ]
  },
  {
   "cell_type": "code",
   "execution_count": 41,
   "metadata": {
    "ExecuteTime": {
     "end_time": "2020-05-25T03:59:12.270175Z",
     "start_time": "2020-05-25T03:59:12.263161Z"
    }
   },
   "outputs": [
    {
     "data": {
      "text/plain": [
       "7"
      ]
     },
     "execution_count": 41,
     "metadata": {},
     "output_type": "execute_result"
    }
   ],
   "source": [
    "f[7]"
   ]
  },
  {
   "cell_type": "code",
   "execution_count": 42,
   "metadata": {
    "ExecuteTime": {
     "end_time": "2020-05-25T03:59:12.627757Z",
     "start_time": "2020-05-25T03:59:12.621125Z"
    }
   },
   "outputs": [
    {
     "data": {
      "text/plain": [
       "(False, False, False, True, True, False)"
      ]
     },
     "execution_count": 42,
     "metadata": {},
     "output_type": "execute_result"
    }
   ],
   "source": [
    "'c' in f, 'd' in f, 'j' in f, 3 in f, 2 in f, 9 in f"
   ]
  },
  {
   "cell_type": "code",
   "execution_count": 43,
   "metadata": {
    "ExecuteTime": {
     "end_time": "2020-05-25T03:59:24.377091Z",
     "start_time": "2020-05-25T03:59:24.369600Z"
    }
   },
   "outputs": [
    {
     "name": "stdout",
     "output_type": "stream",
     "text": [
      "As expected, got TypeError(object of type 'Foo' has no len()).\n"
     ]
    }
   ],
   "source": [
    "@delegate('data')\n",
    "class Foo:\n",
    "    def __init__(self, data, city):\n",
    "        self.data = data\n",
    "        self.city = city\n",
    "\n",
    "f = Foo(['a', 'b', 'c'], 'San Francisco')\n",
    "with assert_raises(TypeError):\n",
    "    len(f)"
   ]
  },
  {
   "cell_type": "code",
   "execution_count": 231,
   "metadata": {
    "ExecuteTime": {
     "end_time": "2020-05-25T04:34:49.908677Z",
     "start_time": "2020-05-25T04:34:49.899344Z"
    }
   },
   "outputs": [],
   "source": [
    "def new_delegate(attr, iter_magics=False, skip=(), getattr_=True):\n",
    "    def wrapper(cls):\n",
    "        def _delegate(self, attr):\n",
    "            \"\"\"Helper that retrieves object that an instance delegates to.\"\"\"\n",
    "            return getattr(self, attr)\n",
    "        \n",
    "        # Changes __getattr__: any attribute that is not an instance variable\n",
    "        # will be delegated.\n",
    "        if getattr_:\n",
    "            def _getattr(self, new_attr):\n",
    "                return getattr(_delegate(self, attr), new_attr)\n",
    "            cls.__getattr__ = _getattr\n",
    "\n",
    "        # If specified, delegate magic methods to make cls iterable.\n",
    "        if iter_magics:\n",
    "            if '__getitem__' not in skip: \n",
    "                def _getitem(self, i):\n",
    "                    return _delegate(self, attr)[i]\n",
    "                setattr(cls, '__getitem__', _getitem)\n",
    "            \n",
    "            if '__setitem__' not in skip: \n",
    "                def _setitem(self, i, val):\n",
    "                    _delegate(self, attr)[i] = val\n",
    "                setattr(cls, '__setitem__', _setitem)\n",
    "            \n",
    "            if '__delitem__' not in skip:\n",
    "                def _delitem(self, i):\n",
    "                    del _delegate(self, attr)[i]\n",
    "                setattr(cls, '__delitem__', _delitem)\n",
    "            \n",
    "            if '__len__' not in skip:\n",
    "                def _len(self):\n",
    "                    return len(_delegate(self, attr))\n",
    "                setattr(cls, '__len__', _len)\n",
    "        return cls\n",
    "    return wrapper"
   ]
  },
  {
   "cell_type": "code",
   "execution_count": 232,
   "metadata": {
    "ExecuteTime": {
     "end_time": "2020-05-25T04:34:50.605983Z",
     "start_time": "2020-05-25T04:34:50.602494Z"
    }
   },
   "outputs": [],
   "source": [
    "@new_delegate('data', True)\n",
    "@auto_repr\n",
    "class Foo:\n",
    "    def __init__(self, data, city):\n",
    "        self.data = data\n",
    "        self.city = city"
   ]
  },
  {
   "cell_type": "code",
   "execution_count": 233,
   "metadata": {
    "ExecuteTime": {
     "end_time": "2020-05-25T04:34:51.354787Z",
     "start_time": "2020-05-25T04:34:51.347198Z"
    }
   },
   "outputs": [
    {
     "data": {
      "text/plain": [
       "3"
      ]
     },
     "execution_count": 233,
     "metadata": {},
     "output_type": "execute_result"
    }
   ],
   "source": [
    "arr = ['a', 'b', 'c']\n",
    "f = Foo(arr, 'San Francisco')\n",
    "len(f)"
   ]
  },
  {
   "cell_type": "code",
   "execution_count": 234,
   "metadata": {
    "ExecuteTime": {
     "end_time": "2020-05-25T04:34:51.798017Z",
     "start_time": "2020-05-25T04:34:51.788423Z"
    }
   },
   "outputs": [
    {
     "data": {
      "text/plain": [
       "'b'"
      ]
     },
     "execution_count": 234,
     "metadata": {},
     "output_type": "execute_result"
    }
   ],
   "source": [
    "f[1]"
   ]
  },
  {
   "cell_type": "code",
   "execution_count": 235,
   "metadata": {
    "ExecuteTime": {
     "end_time": "2020-05-25T04:34:52.232448Z",
     "start_time": "2020-05-25T04:34:52.229930Z"
    }
   },
   "outputs": [],
   "source": [
    "f[1] = 'd'"
   ]
  },
  {
   "cell_type": "code",
   "execution_count": 236,
   "metadata": {
    "ExecuteTime": {
     "end_time": "2020-05-25T04:34:52.602732Z",
     "start_time": "2020-05-25T04:34:52.594983Z"
    }
   },
   "outputs": [
    {
     "data": {
      "text/plain": [
       "Foo(data=['a', 'd', 'c'], city='San Francisco')"
      ]
     },
     "execution_count": 236,
     "metadata": {},
     "output_type": "execute_result"
    }
   ],
   "source": [
    "f"
   ]
  },
  {
   "cell_type": "code",
   "execution_count": 237,
   "metadata": {
    "ExecuteTime": {
     "end_time": "2020-05-25T04:34:52.882822Z",
     "start_time": "2020-05-25T04:34:52.874448Z"
    }
   },
   "outputs": [
    {
     "name": "stdout",
     "output_type": "stream",
     "text": [
      "a\n",
      "d\n",
      "c\n"
     ]
    }
   ],
   "source": [
    "for char in f:\n",
    "    print(char)"
   ]
  },
  {
   "cell_type": "code",
   "execution_count": 238,
   "metadata": {
    "ExecuteTime": {
     "end_time": "2020-05-25T04:34:55.104660Z",
     "start_time": "2020-05-25T04:34:55.097609Z"
    }
   },
   "outputs": [
    {
     "data": {
      "text/plain": [
       "['a', 'd', 'c']"
      ]
     },
     "execution_count": 238,
     "metadata": {},
     "output_type": "execute_result"
    }
   ],
   "source": [
    "arr"
   ]
  },
  {
   "cell_type": "code",
   "execution_count": 239,
   "metadata": {
    "ExecuteTime": {
     "end_time": "2020-05-25T04:34:55.283053Z",
     "start_time": "2020-05-25T04:34:55.279761Z"
    }
   },
   "outputs": [],
   "source": [
    "f.clear()"
   ]
  },
  {
   "cell_type": "code",
   "execution_count": 240,
   "metadata": {
    "ExecuteTime": {
     "end_time": "2020-05-25T04:34:55.477638Z",
     "start_time": "2020-05-25T04:34:55.473503Z"
    }
   },
   "outputs": [
    {
     "data": {
      "text/plain": [
       "Foo(data=[], city='San Francisco')"
      ]
     },
     "execution_count": 240,
     "metadata": {},
     "output_type": "execute_result"
    }
   ],
   "source": [
    "f"
   ]
  },
  {
   "cell_type": "code",
   "execution_count": 241,
   "metadata": {
    "ExecuteTime": {
     "end_time": "2020-05-25T04:34:55.894660Z",
     "start_time": "2020-05-25T04:34:55.887982Z"
    }
   },
   "outputs": [
    {
     "data": {
      "text/plain": [
       "[]"
      ]
     },
     "execution_count": 241,
     "metadata": {},
     "output_type": "execute_result"
    }
   ],
   "source": [
    "arr"
   ]
  },
  {
   "cell_type": "code",
   "execution_count": 242,
   "metadata": {
    "ExecuteTime": {
     "end_time": "2020-05-25T04:34:56.718675Z",
     "start_time": "2020-05-25T04:34:56.713054Z"
    }
   },
   "outputs": [
    {
     "data": {
      "text/plain": [
       "Foo(data=['x', 'y', 'z', 'n'], city='LA')"
      ]
     },
     "execution_count": 242,
     "metadata": {},
     "output_type": "execute_result"
    }
   ],
   "source": [
    "arr2 = ['x', 'y', 'z', 'n']\n",
    "f2 = Foo(arr2, 'LA')\n",
    "f2"
   ]
  },
  {
   "cell_type": "code",
   "execution_count": 243,
   "metadata": {
    "ExecuteTime": {
     "end_time": "2020-05-25T04:34:58.399620Z",
     "start_time": "2020-05-25T04:34:58.389276Z"
    }
   },
   "outputs": [
    {
     "data": {
      "text/plain": [
       "Foo(data=[], city='San Francisco')"
      ]
     },
     "execution_count": 243,
     "metadata": {},
     "output_type": "execute_result"
    }
   ],
   "source": [
    "f"
   ]
  },
  {
   "cell_type": "code",
   "execution_count": 244,
   "metadata": {
    "ExecuteTime": {
     "end_time": "2020-05-25T04:34:58.555853Z",
     "start_time": "2020-05-25T04:34:58.548695Z"
    }
   },
   "outputs": [
    {
     "data": {
      "text/plain": [
       "(Foo(data=[3], city='San Francisco'),\n",
       " Foo(data=['x', 'y', 'z', 'n'], city='LA'))"
      ]
     },
     "execution_count": 244,
     "metadata": {},
     "output_type": "execute_result"
    }
   ],
   "source": [
    "f.append(3)\n",
    "f, f2"
   ]
  },
  {
   "cell_type": "code",
   "execution_count": 245,
   "metadata": {
    "ExecuteTime": {
     "end_time": "2020-05-25T04:34:58.915363Z",
     "start_time": "2020-05-25T04:34:58.908090Z"
    }
   },
   "outputs": [
    {
     "data": {
      "text/plain": [
       "(Foo(data=[3], city='San Francisco'),\n",
       " Foo(data=['x', 'r', 'y', 'z', 'n'], city='LA'))"
      ]
     },
     "execution_count": 245,
     "metadata": {},
     "output_type": "execute_result"
    }
   ],
   "source": [
    "f2.insert(1, 'r')\n",
    "f, f2"
   ]
  },
  {
   "cell_type": "code",
   "execution_count": 246,
   "metadata": {
    "ExecuteTime": {
     "end_time": "2020-05-25T04:34:59.114048Z",
     "start_time": "2020-05-25T04:34:59.108623Z"
    }
   },
   "outputs": [],
   "source": [
    "del f2[-1]"
   ]
  },
  {
   "cell_type": "code",
   "execution_count": 247,
   "metadata": {
    "ExecuteTime": {
     "end_time": "2020-05-25T04:34:59.312821Z",
     "start_time": "2020-05-25T04:34:59.301664Z"
    }
   },
   "outputs": [
    {
     "data": {
      "text/plain": [
       "(Foo(data=[3], city='San Francisco'),\n",
       " Foo(data=['x', 'r', 'y', 'z'], city='LA'))"
      ]
     },
     "execution_count": 247,
     "metadata": {},
     "output_type": "execute_result"
    }
   ],
   "source": [
    "f, f2"
   ]
  },
  {
   "cell_type": "code",
   "execution_count": 248,
   "metadata": {
    "ExecuteTime": {
     "end_time": "2020-05-25T04:34:59.763251Z",
     "start_time": "2020-05-25T04:34:59.753932Z"
    }
   },
   "outputs": [
    {
     "data": {
      "text/plain": [
       "([3], ['x', 'r', 'y', 'z'])"
      ]
     },
     "execution_count": 248,
     "metadata": {},
     "output_type": "execute_result"
    }
   ],
   "source": [
    "arr, arr2"
   ]
  },
  {
   "cell_type": "code",
   "execution_count": 249,
   "metadata": {
    "ExecuteTime": {
     "end_time": "2020-05-25T04:35:24.952795Z",
     "start_time": "2020-05-25T04:35:24.946326Z"
    }
   },
   "outputs": [
    {
     "data": {
      "text/plain": [
       "([99, 3], ['x', 'r', 'y', 'z'])"
      ]
     },
     "execution_count": 249,
     "metadata": {},
     "output_type": "execute_result"
    }
   ],
   "source": [
    "arr.insert(0, 99)\n",
    "arr, arr2"
   ]
  },
  {
   "cell_type": "code",
   "execution_count": 250,
   "metadata": {
    "ExecuteTime": {
     "end_time": "2020-05-25T04:35:26.909613Z",
     "start_time": "2020-05-25T04:35:26.902638Z"
    }
   },
   "outputs": [
    {
     "data": {
      "text/plain": [
       "(Foo(data=[99, 3], city='San Francisco'),\n",
       " Foo(data=['x', 'r', 'y', 'z'], city='LA'))"
      ]
     },
     "execution_count": 250,
     "metadata": {},
     "output_type": "execute_result"
    }
   ],
   "source": [
    "f, f2"
   ]
  },
  {
   "cell_type": "code",
   "execution_count": 274,
   "metadata": {
    "ExecuteTime": {
     "end_time": "2020-05-25T04:46:28.351799Z",
     "start_time": "2020-05-25T04:46:28.347658Z"
    }
   },
   "outputs": [],
   "source": [
    "@new_delegate('data')\n",
    "@auto_repr\n",
    "class Foo:\n",
    "    def __init__(self, data, city):\n",
    "        self.data = data\n",
    "        self.city = city"
   ]
  },
  {
   "cell_type": "code",
   "execution_count": 275,
   "metadata": {
    "ExecuteTime": {
     "end_time": "2020-05-25T04:46:28.728369Z",
     "start_time": "2020-05-25T04:46:28.722642Z"
    }
   },
   "outputs": [
    {
     "name": "stdout",
     "output_type": "stream",
     "text": [
      "As expected, got TypeError(object of type 'Foo' has no len()).\n"
     ]
    }
   ],
   "source": [
    "arr = ['a', 'b', 'c']\n",
    "f = Foo(arr, 'San Francisco')\n",
    "with assert_raises(TypeError):\n",
    "    len(f)"
   ]
  },
  {
   "cell_type": "code",
   "execution_count": 276,
   "metadata": {
    "ExecuteTime": {
     "end_time": "2020-05-25T04:46:29.489938Z",
     "start_time": "2020-05-25T04:46:29.486871Z"
    }
   },
   "outputs": [
    {
     "name": "stdout",
     "output_type": "stream",
     "text": [
      "As expected, got TypeError('Foo' object is not subscriptable).\n"
     ]
    }
   ],
   "source": [
    "with assert_raises(TypeError):\n",
    "    f[1]"
   ]
  },
  {
   "cell_type": "code",
   "execution_count": 277,
   "metadata": {
    "ExecuteTime": {
     "end_time": "2020-05-25T04:46:30.274738Z",
     "start_time": "2020-05-25T04:46:30.269111Z"
    }
   },
   "outputs": [
    {
     "name": "stdout",
     "output_type": "stream",
     "text": [
      "As expected, got TypeError('Foo' object does not support item assignment).\n"
     ]
    }
   ],
   "source": [
    "with assert_raises(TypeError):\n",
    "    f[0] = 333"
   ]
  },
  {
   "cell_type": "code",
   "execution_count": 279,
   "metadata": {
    "ExecuteTime": {
     "end_time": "2020-05-25T04:48:35.947156Z",
     "start_time": "2020-05-25T04:48:35.940383Z"
    }
   },
   "outputs": [
    {
     "data": {
      "text/plain": [
       "Foo(data=['a', 'b', 'c'], city='San Francisco')"
      ]
     },
     "execution_count": 279,
     "metadata": {},
     "output_type": "execute_result"
    }
   ],
   "source": [
    "f"
   ]
  },
  {
   "cell_type": "code",
   "execution_count": 280,
   "metadata": {
    "ExecuteTime": {
     "end_time": "2020-05-25T04:48:44.135722Z",
     "start_time": "2020-05-25T04:48:44.129117Z"
    }
   },
   "outputs": [
    {
     "data": {
      "text/plain": [
       "(['a', 'b', 'c', 'zzz'],\n",
       " Foo(data=['a', 'b', 'c', 'zzz'], city='San Francisco'))"
      ]
     },
     "execution_count": 280,
     "metadata": {},
     "output_type": "execute_result"
    }
   ],
   "source": [
    "arr.append('zzz')\n",
    "arr, f"
   ]
  },
  {
   "cell_type": "code",
   "execution_count": 281,
   "metadata": {
    "ExecuteTime": {
     "end_time": "2020-05-25T04:48:46.222796Z",
     "start_time": "2020-05-25T04:48:46.218972Z"
    }
   },
   "outputs": [],
   "source": [
    "f.data.insert(0, 'd')"
   ]
  },
  {
   "cell_type": "code",
   "execution_count": 282,
   "metadata": {
    "ExecuteTime": {
     "end_time": "2020-05-25T04:48:46.688022Z",
     "start_time": "2020-05-25T04:48:46.682952Z"
    }
   },
   "outputs": [
    {
     "data": {
      "text/plain": [
       "Foo(data=['d', 'a', 'b', 'c', 'zzz'], city='San Francisco')"
      ]
     },
     "execution_count": 282,
     "metadata": {},
     "output_type": "execute_result"
    }
   ],
   "source": [
    "f"
   ]
  },
  {
   "cell_type": "code",
   "execution_count": 283,
   "metadata": {
    "ExecuteTime": {
     "end_time": "2020-05-25T04:48:49.130630Z",
     "start_time": "2020-05-25T04:48:49.126275Z"
    }
   },
   "outputs": [
    {
     "data": {
      "text/plain": [
       "['d', 'a', 'b', 'c', 'zzz']"
      ]
     },
     "execution_count": 283,
     "metadata": {},
     "output_type": "execute_result"
    }
   ],
   "source": [
    "arr"
   ]
  },
  {
   "cell_type": "code",
   "execution_count": 284,
   "metadata": {
    "ExecuteTime": {
     "end_time": "2020-05-25T04:48:50.400616Z",
     "start_time": "2020-05-25T04:48:50.397212Z"
    }
   },
   "outputs": [],
   "source": [
    "f.clear()"
   ]
  },
  {
   "cell_type": "code",
   "execution_count": 285,
   "metadata": {
    "ExecuteTime": {
     "end_time": "2020-05-25T04:48:50.846001Z",
     "start_time": "2020-05-25T04:48:50.841562Z"
    }
   },
   "outputs": [
    {
     "data": {
      "text/plain": [
       "Foo(data=[], city='San Francisco')"
      ]
     },
     "execution_count": 285,
     "metadata": {},
     "output_type": "execute_result"
    }
   ],
   "source": [
    "f"
   ]
  },
  {
   "cell_type": "code",
   "execution_count": 286,
   "metadata": {
    "ExecuteTime": {
     "end_time": "2020-05-25T04:48:51.276067Z",
     "start_time": "2020-05-25T04:48:51.271784Z"
    }
   },
   "outputs": [
    {
     "data": {
      "text/plain": [
       "[]"
      ]
     },
     "execution_count": 286,
     "metadata": {},
     "output_type": "execute_result"
    }
   ],
   "source": [
    "arr"
   ]
  },
  {
   "cell_type": "code",
   "execution_count": 261,
   "metadata": {
    "ExecuteTime": {
     "end_time": "2020-05-25T04:36:11.026622Z",
     "start_time": "2020-05-25T04:36:11.021938Z"
    }
   },
   "outputs": [],
   "source": [
    "@new_delegate('data', True, ('__delitem__'))\n",
    "@auto_repr\n",
    "class Foo:\n",
    "    def __init__(self, data, city):\n",
    "        self.data = data\n",
    "        self.city = city"
   ]
  },
  {
   "cell_type": "code",
   "execution_count": 262,
   "metadata": {
    "ExecuteTime": {
     "end_time": "2020-05-25T04:36:25.876885Z",
     "start_time": "2020-05-25T04:36:25.870262Z"
    }
   },
   "outputs": [
    {
     "data": {
      "text/plain": [
       "Foo(data=[55, 33, 11], city='NY')"
      ]
     },
     "execution_count": 262,
     "metadata": {},
     "output_type": "execute_result"
    }
   ],
   "source": [
    "arr = [55, 33, 11]\n",
    "f = Foo(arr, 'NY')\n",
    "f"
   ]
  },
  {
   "cell_type": "code",
   "execution_count": 263,
   "metadata": {
    "ExecuteTime": {
     "end_time": "2020-05-25T04:36:34.585444Z",
     "start_time": "2020-05-25T04:36:34.577591Z"
    }
   },
   "outputs": [
    {
     "name": "stdout",
     "output_type": "stream",
     "text": [
      "55\n",
      "33\n",
      "11\n"
     ]
    }
   ],
   "source": [
    "for n in f:\n",
    "    print(n)"
   ]
  },
  {
   "cell_type": "code",
   "execution_count": 264,
   "metadata": {
    "ExecuteTime": {
     "end_time": "2020-05-25T04:36:39.881484Z",
     "start_time": "2020-05-25T04:36:39.875780Z"
    }
   },
   "outputs": [
    {
     "data": {
      "text/plain": [
       "3"
      ]
     },
     "execution_count": 264,
     "metadata": {},
     "output_type": "execute_result"
    }
   ],
   "source": [
    "len(f)"
   ]
  },
  {
   "cell_type": "code",
   "execution_count": 265,
   "metadata": {
    "ExecuteTime": {
     "end_time": "2020-05-25T04:36:44.570400Z",
     "start_time": "2020-05-25T04:36:44.565212Z"
    }
   },
   "outputs": [
    {
     "data": {
      "text/plain": [
       "11"
      ]
     },
     "execution_count": 265,
     "metadata": {},
     "output_type": "execute_result"
    }
   ],
   "source": [
    "f.pop(-1)"
   ]
  },
  {
   "cell_type": "code",
   "execution_count": 266,
   "metadata": {
    "ExecuteTime": {
     "end_time": "2020-05-25T04:36:46.830066Z",
     "start_time": "2020-05-25T04:36:46.823130Z"
    }
   },
   "outputs": [
    {
     "data": {
      "text/plain": [
       "(Foo(data=[55, 33], city='NY'), [55, 33])"
      ]
     },
     "execution_count": 266,
     "metadata": {},
     "output_type": "execute_result"
    }
   ],
   "source": [
    "f, arr"
   ]
  },
  {
   "cell_type": "code",
   "execution_count": 267,
   "metadata": {
    "ExecuteTime": {
     "end_time": "2020-05-25T04:36:56.338771Z",
     "start_time": "2020-05-25T04:36:56.335464Z"
    }
   },
   "outputs": [],
   "source": [
    "f[0] = 99"
   ]
  },
  {
   "cell_type": "code",
   "execution_count": 268,
   "metadata": {
    "ExecuteTime": {
     "end_time": "2020-05-25T04:36:58.784773Z",
     "start_time": "2020-05-25T04:36:58.772878Z"
    }
   },
   "outputs": [
    {
     "data": {
      "text/plain": [
       "(Foo(data=[99, 33], city='NY'), [99, 33])"
      ]
     },
     "execution_count": 268,
     "metadata": {},
     "output_type": "execute_result"
    }
   ],
   "source": [
    "f, arr"
   ]
  },
  {
   "cell_type": "code",
   "execution_count": 270,
   "metadata": {
    "ExecuteTime": {
     "end_time": "2020-05-25T04:37:12.302256Z",
     "start_time": "2020-05-25T04:37:12.298953Z"
    }
   },
   "outputs": [
    {
     "name": "stdout",
     "output_type": "stream",
     "text": [
      "As expected, got AttributeError(__delitem__).\n"
     ]
    }
   ],
   "source": [
    "with assert_raises(AttributeError):\n",
    "    del f[0]"
   ]
  },
  {
   "cell_type": "code",
   "execution_count": null,
   "metadata": {},
   "outputs": [],
   "source": []
  }
 ],
 "metadata": {
  "kernelspec": {
   "display_name": "Python 3",
   "language": "python",
   "name": "python3"
  },
  "language_info": {
   "codemirror_mode": {
    "name": "ipython",
    "version": 3
   },
   "file_extension": ".py",
   "mimetype": "text/x-python",
   "name": "python",
   "nbconvert_exporter": "python",
   "pygments_lexer": "ipython3",
   "version": "3.7.3"
  }
 },
 "nbformat": 4,
 "nbformat_minor": 2
}
