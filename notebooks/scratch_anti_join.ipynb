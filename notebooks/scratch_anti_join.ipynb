{
 "cells": [
  {
   "cell_type": "code",
   "execution_count": 43,
   "metadata": {
    "ExecuteTime": {
     "end_time": "2020-04-26T03:46:22.048462Z",
     "start_time": "2020-04-26T03:46:21.878830Z"
    }
   },
   "outputs": [],
   "source": [
    "import matplotlib.pyplot as plt\n",
    "import numpy as np\n",
    "import pandas as pd\n",
    "\n",
    "import pandas_htools"
   ]
  },
  {
   "cell_type": "code",
   "execution_count": 30,
   "metadata": {
    "ExecuteTime": {
     "end_time": "2020-04-26T03:36:19.586559Z",
     "start_time": "2020-04-26T03:36:19.540080Z"
    }
   },
   "outputs": [
    {
     "data": {
      "text/plain": [
       "(100, 12)"
      ]
     },
     "execution_count": 30,
     "metadata": {},
     "output_type": "execute_result"
    }
   ],
   "source": [
    "df = pd.read_csv('/Users/hmamin/data/stocks/dsf2010.tdf', nrows=100, sep='\\t')\n",
    "df.shape"
   ]
  },
  {
   "cell_type": "code",
   "execution_count": 31,
   "metadata": {
    "ExecuteTime": {
     "end_time": "2020-04-26T03:36:19.598853Z",
     "start_time": "2020-04-26T03:36:19.589426Z"
    }
   },
   "outputs": [],
   "source": [
    "d1 = df.sample(frac=.8)\n",
    "d2 = df.sample(frac=.8)"
   ]
  },
  {
   "cell_type": "code",
   "execution_count": 36,
   "metadata": {
    "ExecuteTime": {
     "end_time": "2020-04-26T03:37:26.192401Z",
     "start_time": "2020-04-26T03:37:25.965356Z"
    }
   },
   "outputs": [
    {
     "ename": "KeyError",
     "evalue": "68",
     "output_type": "error",
     "traceback": [
      "\u001b[0;31m---------------------------------------------------------------------------\u001b[0m",
      "\u001b[0;31mKeyError\u001b[0m                                  Traceback (most recent call last)",
      "\u001b[0;32m~/anaconda3/lib/python3.7/site-packages/pandas/core/indexes/base.py\u001b[0m in \u001b[0;36mget_loc\u001b[0;34m(self, key, method, tolerance)\u001b[0m\n\u001b[1;32m   2896\u001b[0m             \u001b[0;32mtry\u001b[0m\u001b[0;34m:\u001b[0m\u001b[0;34m\u001b[0m\u001b[0;34m\u001b[0m\u001b[0m\n\u001b[0;32m-> 2897\u001b[0;31m                 \u001b[0;32mreturn\u001b[0m \u001b[0mself\u001b[0m\u001b[0;34m.\u001b[0m\u001b[0m_engine\u001b[0m\u001b[0;34m.\u001b[0m\u001b[0mget_loc\u001b[0m\u001b[0;34m(\u001b[0m\u001b[0mkey\u001b[0m\u001b[0;34m)\u001b[0m\u001b[0;34m\u001b[0m\u001b[0;34m\u001b[0m\u001b[0m\n\u001b[0m\u001b[1;32m   2898\u001b[0m             \u001b[0;32mexcept\u001b[0m \u001b[0mKeyError\u001b[0m\u001b[0;34m:\u001b[0m\u001b[0;34m\u001b[0m\u001b[0;34m\u001b[0m\u001b[0m\n",
      "\u001b[0;32mpandas/_libs/index.pyx\u001b[0m in \u001b[0;36mpandas._libs.index.IndexEngine.get_loc\u001b[0;34m()\u001b[0m\n",
      "\u001b[0;32mpandas/_libs/index.pyx\u001b[0m in \u001b[0;36mpandas._libs.index.IndexEngine.get_loc\u001b[0;34m()\u001b[0m\n",
      "\u001b[0;32mpandas/_libs/hashtable_class_helper.pxi\u001b[0m in \u001b[0;36mpandas._libs.hashtable.Int64HashTable.get_item\u001b[0;34m()\u001b[0m\n",
      "\u001b[0;32mpandas/_libs/hashtable_class_helper.pxi\u001b[0m in \u001b[0;36mpandas._libs.hashtable.Int64HashTable.get_item\u001b[0;34m()\u001b[0m\n",
      "\u001b[0;31mKeyError\u001b[0m: 68",
      "\nDuring handling of the above exception, another exception occurred:\n",
      "\u001b[0;31mKeyError\u001b[0m                                  Traceback (most recent call last)",
      "\u001b[0;32m<ipython-input-36-74a9337f4fd8>\u001b[0m in \u001b[0;36m<module>\u001b[0;34m\u001b[0m\n\u001b[0;32m----> 1\u001b[0;31m \u001b[0md1\u001b[0m\u001b[0;34m.\u001b[0m\u001b[0mloc\u001b[0m\u001b[0;34m[\u001b[0m\u001b[0;36m68\u001b[0m\u001b[0;34m]\u001b[0m\u001b[0;34m\u001b[0m\u001b[0;34m\u001b[0m\u001b[0m\n\u001b[0m",
      "\u001b[0;32m~/anaconda3/lib/python3.7/site-packages/pandas/core/indexing.py\u001b[0m in \u001b[0;36m__getitem__\u001b[0;34m(self, key)\u001b[0m\n\u001b[1;32m   1422\u001b[0m \u001b[0;34m\u001b[0m\u001b[0m\n\u001b[1;32m   1423\u001b[0m             \u001b[0mmaybe_callable\u001b[0m \u001b[0;34m=\u001b[0m \u001b[0mcom\u001b[0m\u001b[0;34m.\u001b[0m\u001b[0mapply_if_callable\u001b[0m\u001b[0;34m(\u001b[0m\u001b[0mkey\u001b[0m\u001b[0;34m,\u001b[0m \u001b[0mself\u001b[0m\u001b[0;34m.\u001b[0m\u001b[0mobj\u001b[0m\u001b[0;34m)\u001b[0m\u001b[0;34m\u001b[0m\u001b[0;34m\u001b[0m\u001b[0m\n\u001b[0;32m-> 1424\u001b[0;31m             \u001b[0;32mreturn\u001b[0m \u001b[0mself\u001b[0m\u001b[0;34m.\u001b[0m\u001b[0m_getitem_axis\u001b[0m\u001b[0;34m(\u001b[0m\u001b[0mmaybe_callable\u001b[0m\u001b[0;34m,\u001b[0m \u001b[0maxis\u001b[0m\u001b[0;34m=\u001b[0m\u001b[0maxis\u001b[0m\u001b[0;34m)\u001b[0m\u001b[0;34m\u001b[0m\u001b[0;34m\u001b[0m\u001b[0m\n\u001b[0m\u001b[1;32m   1425\u001b[0m \u001b[0;34m\u001b[0m\u001b[0m\n\u001b[1;32m   1426\u001b[0m     \u001b[0;32mdef\u001b[0m \u001b[0m_is_scalar_access\u001b[0m\u001b[0;34m(\u001b[0m\u001b[0mself\u001b[0m\u001b[0;34m,\u001b[0m \u001b[0mkey\u001b[0m\u001b[0;34m:\u001b[0m \u001b[0mTuple\u001b[0m\u001b[0;34m)\u001b[0m\u001b[0;34m:\u001b[0m\u001b[0;34m\u001b[0m\u001b[0;34m\u001b[0m\u001b[0m\n",
      "\u001b[0;32m~/anaconda3/lib/python3.7/site-packages/pandas/core/indexing.py\u001b[0m in \u001b[0;36m_getitem_axis\u001b[0;34m(self, key, axis)\u001b[0m\n\u001b[1;32m   1848\u001b[0m         \u001b[0;31m# fall thru to straight lookup\u001b[0m\u001b[0;34m\u001b[0m\u001b[0;34m\u001b[0m\u001b[0;34m\u001b[0m\u001b[0m\n\u001b[1;32m   1849\u001b[0m         \u001b[0mself\u001b[0m\u001b[0;34m.\u001b[0m\u001b[0m_validate_key\u001b[0m\u001b[0;34m(\u001b[0m\u001b[0mkey\u001b[0m\u001b[0;34m,\u001b[0m \u001b[0maxis\u001b[0m\u001b[0;34m)\u001b[0m\u001b[0;34m\u001b[0m\u001b[0;34m\u001b[0m\u001b[0m\n\u001b[0;32m-> 1850\u001b[0;31m         \u001b[0;32mreturn\u001b[0m \u001b[0mself\u001b[0m\u001b[0;34m.\u001b[0m\u001b[0m_get_label\u001b[0m\u001b[0;34m(\u001b[0m\u001b[0mkey\u001b[0m\u001b[0;34m,\u001b[0m \u001b[0maxis\u001b[0m\u001b[0;34m=\u001b[0m\u001b[0maxis\u001b[0m\u001b[0;34m)\u001b[0m\u001b[0;34m\u001b[0m\u001b[0;34m\u001b[0m\u001b[0m\n\u001b[0m\u001b[1;32m   1851\u001b[0m \u001b[0;34m\u001b[0m\u001b[0m\n\u001b[1;32m   1852\u001b[0m \u001b[0;34m\u001b[0m\u001b[0m\n",
      "\u001b[0;32m~/anaconda3/lib/python3.7/site-packages/pandas/core/indexing.py\u001b[0m in \u001b[0;36m_get_label\u001b[0;34m(self, label, axis)\u001b[0m\n\u001b[1;32m    158\u001b[0m             \u001b[0;32mraise\u001b[0m \u001b[0mIndexingError\u001b[0m\u001b[0;34m(\u001b[0m\u001b[0;34m\"no slices here, handle elsewhere\"\u001b[0m\u001b[0;34m)\u001b[0m\u001b[0;34m\u001b[0m\u001b[0;34m\u001b[0m\u001b[0m\n\u001b[1;32m    159\u001b[0m \u001b[0;34m\u001b[0m\u001b[0m\n\u001b[0;32m--> 160\u001b[0;31m         \u001b[0;32mreturn\u001b[0m \u001b[0mself\u001b[0m\u001b[0;34m.\u001b[0m\u001b[0mobj\u001b[0m\u001b[0;34m.\u001b[0m\u001b[0m_xs\u001b[0m\u001b[0;34m(\u001b[0m\u001b[0mlabel\u001b[0m\u001b[0;34m,\u001b[0m \u001b[0maxis\u001b[0m\u001b[0;34m=\u001b[0m\u001b[0maxis\u001b[0m\u001b[0;34m)\u001b[0m\u001b[0;34m\u001b[0m\u001b[0;34m\u001b[0m\u001b[0m\n\u001b[0m\u001b[1;32m    161\u001b[0m \u001b[0;34m\u001b[0m\u001b[0m\n\u001b[1;32m    162\u001b[0m     \u001b[0;32mdef\u001b[0m \u001b[0m_get_loc\u001b[0m\u001b[0;34m(\u001b[0m\u001b[0mself\u001b[0m\u001b[0;34m,\u001b[0m \u001b[0mkey\u001b[0m\u001b[0;34m:\u001b[0m \u001b[0mint\u001b[0m\u001b[0;34m,\u001b[0m \u001b[0maxis\u001b[0m\u001b[0;34m:\u001b[0m \u001b[0mint\u001b[0m\u001b[0;34m)\u001b[0m\u001b[0;34m:\u001b[0m\u001b[0;34m\u001b[0m\u001b[0;34m\u001b[0m\u001b[0m\n",
      "\u001b[0;32m~/anaconda3/lib/python3.7/site-packages/pandas/core/generic.py\u001b[0m in \u001b[0;36mxs\u001b[0;34m(self, key, axis, level, drop_level)\u001b[0m\n\u001b[1;32m   3735\u001b[0m             \u001b[0mloc\u001b[0m\u001b[0;34m,\u001b[0m \u001b[0mnew_index\u001b[0m \u001b[0;34m=\u001b[0m \u001b[0mself\u001b[0m\u001b[0;34m.\u001b[0m\u001b[0mindex\u001b[0m\u001b[0;34m.\u001b[0m\u001b[0mget_loc_level\u001b[0m\u001b[0;34m(\u001b[0m\u001b[0mkey\u001b[0m\u001b[0;34m,\u001b[0m \u001b[0mdrop_level\u001b[0m\u001b[0;34m=\u001b[0m\u001b[0mdrop_level\u001b[0m\u001b[0;34m)\u001b[0m\u001b[0;34m\u001b[0m\u001b[0;34m\u001b[0m\u001b[0m\n\u001b[1;32m   3736\u001b[0m         \u001b[0;32melse\u001b[0m\u001b[0;34m:\u001b[0m\u001b[0;34m\u001b[0m\u001b[0;34m\u001b[0m\u001b[0m\n\u001b[0;32m-> 3737\u001b[0;31m             \u001b[0mloc\u001b[0m \u001b[0;34m=\u001b[0m \u001b[0mself\u001b[0m\u001b[0;34m.\u001b[0m\u001b[0mindex\u001b[0m\u001b[0;34m.\u001b[0m\u001b[0mget_loc\u001b[0m\u001b[0;34m(\u001b[0m\u001b[0mkey\u001b[0m\u001b[0;34m)\u001b[0m\u001b[0;34m\u001b[0m\u001b[0;34m\u001b[0m\u001b[0m\n\u001b[0m\u001b[1;32m   3738\u001b[0m \u001b[0;34m\u001b[0m\u001b[0m\n\u001b[1;32m   3739\u001b[0m             \u001b[0;32mif\u001b[0m \u001b[0misinstance\u001b[0m\u001b[0;34m(\u001b[0m\u001b[0mloc\u001b[0m\u001b[0;34m,\u001b[0m \u001b[0mnp\u001b[0m\u001b[0;34m.\u001b[0m\u001b[0mndarray\u001b[0m\u001b[0;34m)\u001b[0m\u001b[0;34m:\u001b[0m\u001b[0;34m\u001b[0m\u001b[0;34m\u001b[0m\u001b[0m\n",
      "\u001b[0;32m~/anaconda3/lib/python3.7/site-packages/pandas/core/indexes/base.py\u001b[0m in \u001b[0;36mget_loc\u001b[0;34m(self, key, method, tolerance)\u001b[0m\n\u001b[1;32m   2897\u001b[0m                 \u001b[0;32mreturn\u001b[0m \u001b[0mself\u001b[0m\u001b[0;34m.\u001b[0m\u001b[0m_engine\u001b[0m\u001b[0;34m.\u001b[0m\u001b[0mget_loc\u001b[0m\u001b[0;34m(\u001b[0m\u001b[0mkey\u001b[0m\u001b[0;34m)\u001b[0m\u001b[0;34m\u001b[0m\u001b[0;34m\u001b[0m\u001b[0m\n\u001b[1;32m   2898\u001b[0m             \u001b[0;32mexcept\u001b[0m \u001b[0mKeyError\u001b[0m\u001b[0;34m:\u001b[0m\u001b[0;34m\u001b[0m\u001b[0;34m\u001b[0m\u001b[0m\n\u001b[0;32m-> 2899\u001b[0;31m                 \u001b[0;32mreturn\u001b[0m \u001b[0mself\u001b[0m\u001b[0;34m.\u001b[0m\u001b[0m_engine\u001b[0m\u001b[0;34m.\u001b[0m\u001b[0mget_loc\u001b[0m\u001b[0;34m(\u001b[0m\u001b[0mself\u001b[0m\u001b[0;34m.\u001b[0m\u001b[0m_maybe_cast_indexer\u001b[0m\u001b[0;34m(\u001b[0m\u001b[0mkey\u001b[0m\u001b[0;34m)\u001b[0m\u001b[0;34m)\u001b[0m\u001b[0;34m\u001b[0m\u001b[0;34m\u001b[0m\u001b[0m\n\u001b[0m\u001b[1;32m   2900\u001b[0m         \u001b[0mindexer\u001b[0m \u001b[0;34m=\u001b[0m \u001b[0mself\u001b[0m\u001b[0;34m.\u001b[0m\u001b[0mget_indexer\u001b[0m\u001b[0;34m(\u001b[0m\u001b[0;34m[\u001b[0m\u001b[0mkey\u001b[0m\u001b[0;34m]\u001b[0m\u001b[0;34m,\u001b[0m \u001b[0mmethod\u001b[0m\u001b[0;34m=\u001b[0m\u001b[0mmethod\u001b[0m\u001b[0;34m,\u001b[0m \u001b[0mtolerance\u001b[0m\u001b[0;34m=\u001b[0m\u001b[0mtolerance\u001b[0m\u001b[0;34m)\u001b[0m\u001b[0;34m\u001b[0m\u001b[0;34m\u001b[0m\u001b[0m\n\u001b[1;32m   2901\u001b[0m         \u001b[0;32mif\u001b[0m \u001b[0mindexer\u001b[0m\u001b[0;34m.\u001b[0m\u001b[0mndim\u001b[0m \u001b[0;34m>\u001b[0m \u001b[0;36m1\u001b[0m \u001b[0;32mor\u001b[0m \u001b[0mindexer\u001b[0m\u001b[0;34m.\u001b[0m\u001b[0msize\u001b[0m \u001b[0;34m>\u001b[0m \u001b[0;36m1\u001b[0m\u001b[0;34m:\u001b[0m\u001b[0;34m\u001b[0m\u001b[0;34m\u001b[0m\u001b[0m\n",
      "\u001b[0;32mpandas/_libs/index.pyx\u001b[0m in \u001b[0;36mpandas._libs.index.IndexEngine.get_loc\u001b[0;34m()\u001b[0m\n",
      "\u001b[0;32mpandas/_libs/index.pyx\u001b[0m in \u001b[0;36mpandas._libs.index.IndexEngine.get_loc\u001b[0;34m()\u001b[0m\n",
      "\u001b[0;32mpandas/_libs/hashtable_class_helper.pxi\u001b[0m in \u001b[0;36mpandas._libs.hashtable.Int64HashTable.get_item\u001b[0;34m()\u001b[0m\n",
      "\u001b[0;32mpandas/_libs/hashtable_class_helper.pxi\u001b[0m in \u001b[0;36mpandas._libs.hashtable.Int64HashTable.get_item\u001b[0;34m()\u001b[0m\n",
      "\u001b[0;31mKeyError\u001b[0m: 68"
     ]
    }
   ],
   "source": [
    "d1.loc[68]"
   ]
  },
  {
   "cell_type": "code",
   "execution_count": 32,
   "metadata": {
    "ExecuteTime": {
     "end_time": "2020-04-26T03:36:19.776749Z",
     "start_time": "2020-04-26T03:36:19.651300Z"
    }
   },
   "outputs": [
    {
     "data": {
      "text/html": [
       "<div>\n",
       "<style scoped>\n",
       "    .dataframe tbody tr th:only-of-type {\n",
       "        vertical-align: middle;\n",
       "    }\n",
       "\n",
       "    .dataframe tbody tr th {\n",
       "        vertical-align: top;\n",
       "    }\n",
       "\n",
       "    .dataframe thead th {\n",
       "        text-align: right;\n",
       "    }\n",
       "</style>\n",
       "<table border=\"1\" class=\"dataframe\">\n",
       "  <thead>\n",
       "    <tr style=\"text-align: right;\">\n",
       "      <th></th>\n",
       "      <th>CUSIP</th>\n",
       "      <th>PERMNO</th>\n",
       "      <th>PERMCO</th>\n",
       "      <th>ISSUNO</th>\n",
       "      <th>HSICCD</th>\n",
       "      <th>DATE</th>\n",
       "      <th>BIDLO</th>\n",
       "      <th>ASKHI</th>\n",
       "      <th>PRC</th>\n",
       "      <th>VOL</th>\n",
       "      <th>RET</th>\n",
       "      <th>SHROUT</th>\n",
       "    </tr>\n",
       "  </thead>\n",
       "  <tbody>\n",
       "    <tr>\n",
       "      <th>0</th>\n",
       "      <td>36720410</td>\n",
       "      <td>10001</td>\n",
       "      <td>7953</td>\n",
       "      <td>10398</td>\n",
       "      <td>4925</td>\n",
       "      <td>20100517</td>\n",
       "      <td>10.5490</td>\n",
       "      <td>11.0990</td>\n",
       "      <td>10.9800</td>\n",
       "      <td>22000</td>\n",
       "      <td>0.039763</td>\n",
       "      <td>6070</td>\n",
       "    </tr>\n",
       "    <tr>\n",
       "      <th>1</th>\n",
       "      <td>36720410</td>\n",
       "      <td>10001</td>\n",
       "      <td>7953</td>\n",
       "      <td>10398</td>\n",
       "      <td>4925</td>\n",
       "      <td>20100212</td>\n",
       "      <td>9.8500</td>\n",
       "      <td>10.0800</td>\n",
       "      <td>10.0750</td>\n",
       "      <td>8500</td>\n",
       "      <td>0.006493</td>\n",
       "      <td>4361</td>\n",
       "    </tr>\n",
       "    <tr>\n",
       "      <th>2</th>\n",
       "      <td>36720410</td>\n",
       "      <td>10001</td>\n",
       "      <td>7953</td>\n",
       "      <td>10398</td>\n",
       "      <td>4925</td>\n",
       "      <td>20100408</td>\n",
       "      <td>10.1600</td>\n",
       "      <td>10.4000</td>\n",
       "      <td>10.3305</td>\n",
       "      <td>9900</td>\n",
       "      <td>-0.008342</td>\n",
       "      <td>4361</td>\n",
       "    </tr>\n",
       "    <tr>\n",
       "      <th>3</th>\n",
       "      <td>36720410</td>\n",
       "      <td>10001</td>\n",
       "      <td>7953</td>\n",
       "      <td>10398</td>\n",
       "      <td>4925</td>\n",
       "      <td>20100405</td>\n",
       "      <td>10.1800</td>\n",
       "      <td>10.3400</td>\n",
       "      <td>10.3200</td>\n",
       "      <td>8700</td>\n",
       "      <td>0.006829</td>\n",
       "      <td>4361</td>\n",
       "    </tr>\n",
       "    <tr>\n",
       "      <th>4</th>\n",
       "      <td>36720410</td>\n",
       "      <td>10001</td>\n",
       "      <td>7953</td>\n",
       "      <td>10398</td>\n",
       "      <td>4925</td>\n",
       "      <td>20100504</td>\n",
       "      <td>11.4000</td>\n",
       "      <td>11.7000</td>\n",
       "      <td>11.5600</td>\n",
       "      <td>11100</td>\n",
       "      <td>-0.020339</td>\n",
       "      <td>6070</td>\n",
       "    </tr>\n",
       "    <tr>\n",
       "      <th>...</th>\n",
       "      <td>...</td>\n",
       "      <td>...</td>\n",
       "      <td>...</td>\n",
       "      <td>...</td>\n",
       "      <td>...</td>\n",
       "      <td>...</td>\n",
       "      <td>...</td>\n",
       "      <td>...</td>\n",
       "      <td>...</td>\n",
       "      <td>...</td>\n",
       "      <td>...</td>\n",
       "      <td>...</td>\n",
       "    </tr>\n",
       "    <tr>\n",
       "      <th>57</th>\n",
       "      <td>36720410</td>\n",
       "      <td>10001</td>\n",
       "      <td>7953</td>\n",
       "      <td>10398</td>\n",
       "      <td>4925</td>\n",
       "      <td>20100303</td>\n",
       "      <td>10.0201</td>\n",
       "      <td>10.0999</td>\n",
       "      <td>10.0250</td>\n",
       "      <td>3700</td>\n",
       "      <td>-0.002498</td>\n",
       "      <td>4361</td>\n",
       "    </tr>\n",
       "    <tr>\n",
       "      <th>58</th>\n",
       "      <td>36720410</td>\n",
       "      <td>10001</td>\n",
       "      <td>7953</td>\n",
       "      <td>10398</td>\n",
       "      <td>4925</td>\n",
       "      <td>20100122</td>\n",
       "      <td>10.0400</td>\n",
       "      <td>10.1300</td>\n",
       "      <td>10.1000</td>\n",
       "      <td>17100</td>\n",
       "      <td>0.004975</td>\n",
       "      <td>4361</td>\n",
       "    </tr>\n",
       "    <tr>\n",
       "      <th>59</th>\n",
       "      <td>36720410</td>\n",
       "      <td>10001</td>\n",
       "      <td>7953</td>\n",
       "      <td>10398</td>\n",
       "      <td>4925</td>\n",
       "      <td>20100111</td>\n",
       "      <td>10.3600</td>\n",
       "      <td>10.9200</td>\n",
       "      <td>10.5000</td>\n",
       "      <td>23100</td>\n",
       "      <td>0.015474</td>\n",
       "      <td>4361</td>\n",
       "    </tr>\n",
       "    <tr>\n",
       "      <th>60</th>\n",
       "      <td>36720410</td>\n",
       "      <td>10001</td>\n",
       "      <td>7953</td>\n",
       "      <td>10398</td>\n",
       "      <td>4925</td>\n",
       "      <td>20100125</td>\n",
       "      <td>9.8000</td>\n",
       "      <td>10.5000</td>\n",
       "      <td>9.8600</td>\n",
       "      <td>30400</td>\n",
       "      <td>-0.023762</td>\n",
       "      <td>4361</td>\n",
       "    </tr>\n",
       "    <tr>\n",
       "      <th>61</th>\n",
       "      <td>36720410</td>\n",
       "      <td>10001</td>\n",
       "      <td>7953</td>\n",
       "      <td>10398</td>\n",
       "      <td>4925</td>\n",
       "      <td>20100121</td>\n",
       "      <td>10.0500</td>\n",
       "      <td>10.3300</td>\n",
       "      <td>10.0500</td>\n",
       "      <td>13200</td>\n",
       "      <td>-0.021422</td>\n",
       "      <td>4361</td>\n",
       "    </tr>\n",
       "  </tbody>\n",
       "</table>\n",
       "<p>62 rows × 12 columns</p>\n",
       "</div>"
      ],
      "text/plain": [
       "       CUSIP  PERMNO  PERMCO  ISSUNO  HSICCD      DATE    BIDLO    ASKHI  \\\n",
       "0   36720410   10001    7953   10398    4925  20100517  10.5490  11.0990   \n",
       "1   36720410   10001    7953   10398    4925  20100212   9.8500  10.0800   \n",
       "2   36720410   10001    7953   10398    4925  20100408  10.1600  10.4000   \n",
       "3   36720410   10001    7953   10398    4925  20100405  10.1800  10.3400   \n",
       "4   36720410   10001    7953   10398    4925  20100504  11.4000  11.7000   \n",
       "..       ...     ...     ...     ...     ...       ...      ...      ...   \n",
       "57  36720410   10001    7953   10398    4925  20100303  10.0201  10.0999   \n",
       "58  36720410   10001    7953   10398    4925  20100122  10.0400  10.1300   \n",
       "59  36720410   10001    7953   10398    4925  20100111  10.3600  10.9200   \n",
       "60  36720410   10001    7953   10398    4925  20100125   9.8000  10.5000   \n",
       "61  36720410   10001    7953   10398    4925  20100121  10.0500  10.3300   \n",
       "\n",
       "        PRC    VOL       RET  SHROUT  \n",
       "0   10.9800  22000  0.039763    6070  \n",
       "1   10.0750   8500  0.006493    4361  \n",
       "2   10.3305   9900 -0.008342    4361  \n",
       "3   10.3200   8700  0.006829    4361  \n",
       "4   11.5600  11100 -0.020339    6070  \n",
       "..      ...    ...       ...     ...  \n",
       "57  10.0250   3700 -0.002498    4361  \n",
       "58  10.1000  17100  0.004975    4361  \n",
       "59  10.5000  23100  0.015474    4361  \n",
       "60   9.8600  30400 -0.023762    4361  \n",
       "61  10.0500  13200 -0.021422    4361  \n",
       "\n",
       "[62 rows x 12 columns]"
      ]
     },
     "execution_count": 32,
     "metadata": {},
     "output_type": "execute_result"
    }
   ],
   "source": [
    "d1.merge(d2, how='inner')"
   ]
  },
  {
   "cell_type": "code",
   "execution_count": 37,
   "metadata": {
    "ExecuteTime": {
     "end_time": "2020-04-26T03:39:35.133252Z",
     "start_time": "2020-04-26T03:39:35.126886Z"
    }
   },
   "outputs": [],
   "source": [
    "def anti_join(df_left, df_right, left_on=None, right_on=None, **kwargs):\n",
    "    right = df_right.copy()\n",
    "    right['XX_RHS_XX'] = True\n",
    "    merged = df_left.merge(right, how='left', left_on=left_on, \n",
    "                           right_on=right_on or left_on, \n",
    "                           suffixes=['', '_rhs'], **kwargs)\n",
    "    return merged.loc[merged.XX_RHS_XX.isnull(), df_left.columns]"
   ]
  },
  {
   "cell_type": "code",
   "execution_count": 38,
   "metadata": {
    "ExecuteTime": {
     "end_time": "2020-04-26T03:39:36.101403Z",
     "start_time": "2020-04-26T03:39:36.066891Z"
    }
   },
   "outputs": [
    {
     "data": {
      "text/html": [
       "<div>\n",
       "<style scoped>\n",
       "    .dataframe tbody tr th:only-of-type {\n",
       "        vertical-align: middle;\n",
       "    }\n",
       "\n",
       "    .dataframe tbody tr th {\n",
       "        vertical-align: top;\n",
       "    }\n",
       "\n",
       "    .dataframe thead th {\n",
       "        text-align: right;\n",
       "    }\n",
       "</style>\n",
       "<table border=\"1\" class=\"dataframe\">\n",
       "  <thead>\n",
       "    <tr style=\"text-align: right;\">\n",
       "      <th></th>\n",
       "      <th>CUSIP</th>\n",
       "      <th>PERMNO</th>\n",
       "      <th>PERMCO</th>\n",
       "      <th>ISSUNO</th>\n",
       "      <th>HSICCD</th>\n",
       "      <th>DATE</th>\n",
       "      <th>BIDLO</th>\n",
       "      <th>ASKHI</th>\n",
       "      <th>PRC</th>\n",
       "      <th>VOL</th>\n",
       "      <th>RET</th>\n",
       "      <th>SHROUT</th>\n",
       "    </tr>\n",
       "  </thead>\n",
       "  <tbody>\n",
       "    <tr>\n",
       "      <th>5</th>\n",
       "      <td>36720410</td>\n",
       "      <td>10001</td>\n",
       "      <td>7953</td>\n",
       "      <td>10398</td>\n",
       "      <td>4925</td>\n",
       "      <td>20100201</td>\n",
       "      <td>9.95</td>\n",
       "      <td>10.1100</td>\n",
       "      <td>9.9900</td>\n",
       "      <td>9600</td>\n",
       "      <td>-0.006958</td>\n",
       "      <td>4361</td>\n",
       "    </tr>\n",
       "    <tr>\n",
       "      <th>16</th>\n",
       "      <td>36720410</td>\n",
       "      <td>10001</td>\n",
       "      <td>7953</td>\n",
       "      <td>10398</td>\n",
       "      <td>4925</td>\n",
       "      <td>20100519</td>\n",
       "      <td>11.20</td>\n",
       "      <td>11.3300</td>\n",
       "      <td>11.3200</td>\n",
       "      <td>7600</td>\n",
       "      <td>0.009003</td>\n",
       "      <td>6070</td>\n",
       "    </tr>\n",
       "    <tr>\n",
       "      <th>23</th>\n",
       "      <td>36720410</td>\n",
       "      <td>10001</td>\n",
       "      <td>7953</td>\n",
       "      <td>10398</td>\n",
       "      <td>4925</td>\n",
       "      <td>20100128</td>\n",
       "      <td>10.02</td>\n",
       "      <td>10.2200</td>\n",
       "      <td>10.1500</td>\n",
       "      <td>13500</td>\n",
       "      <td>0.017381</td>\n",
       "      <td>4361</td>\n",
       "    </tr>\n",
       "    <tr>\n",
       "      <th>28</th>\n",
       "      <td>36720410</td>\n",
       "      <td>10001</td>\n",
       "      <td>7953</td>\n",
       "      <td>10398</td>\n",
       "      <td>4925</td>\n",
       "      <td>20100526</td>\n",
       "      <td>11.23</td>\n",
       "      <td>11.5700</td>\n",
       "      <td>11.2500</td>\n",
       "      <td>11700</td>\n",
       "      <td>0.001790</td>\n",
       "      <td>6070</td>\n",
       "    </tr>\n",
       "    <tr>\n",
       "      <th>29</th>\n",
       "      <td>36720410</td>\n",
       "      <td>10001</td>\n",
       "      <td>7953</td>\n",
       "      <td>10398</td>\n",
       "      <td>4925</td>\n",
       "      <td>20100107</td>\n",
       "      <td>9.91</td>\n",
       "      <td>10.3695</td>\n",
       "      <td>9.9600</td>\n",
       "      <td>29200</td>\n",
       "      <td>-0.033948</td>\n",
       "      <td>4361</td>\n",
       "    </tr>\n",
       "    <tr>\n",
       "      <th>34</th>\n",
       "      <td>36720410</td>\n",
       "      <td>10001</td>\n",
       "      <td>7953</td>\n",
       "      <td>10398</td>\n",
       "      <td>4925</td>\n",
       "      <td>20100204</td>\n",
       "      <td>10.00</td>\n",
       "      <td>10.0800</td>\n",
       "      <td>10.0100</td>\n",
       "      <td>3600</td>\n",
       "      <td>-0.008921</td>\n",
       "      <td>4361</td>\n",
       "    </tr>\n",
       "    <tr>\n",
       "      <th>37</th>\n",
       "      <td>36720410</td>\n",
       "      <td>10001</td>\n",
       "      <td>7953</td>\n",
       "      <td>10398</td>\n",
       "      <td>4925</td>\n",
       "      <td>20100210</td>\n",
       "      <td>9.98</td>\n",
       "      <td>10.1900</td>\n",
       "      <td>10.0000</td>\n",
       "      <td>8600</td>\n",
       "      <td>-0.017133</td>\n",
       "      <td>4361</td>\n",
       "    </tr>\n",
       "    <tr>\n",
       "      <th>38</th>\n",
       "      <td>36720410</td>\n",
       "      <td>10001</td>\n",
       "      <td>7953</td>\n",
       "      <td>10398</td>\n",
       "      <td>4925</td>\n",
       "      <td>20100324</td>\n",
       "      <td>10.00</td>\n",
       "      <td>10.1300</td>\n",
       "      <td>10.0500</td>\n",
       "      <td>8100</td>\n",
       "      <td>0.003996</td>\n",
       "      <td>4361</td>\n",
       "    </tr>\n",
       "    <tr>\n",
       "      <th>39</th>\n",
       "      <td>36720410</td>\n",
       "      <td>10001</td>\n",
       "      <td>7953</td>\n",
       "      <td>10398</td>\n",
       "      <td>4925</td>\n",
       "      <td>20100414</td>\n",
       "      <td>10.89</td>\n",
       "      <td>11.0501</td>\n",
       "      <td>10.9499</td>\n",
       "      <td>26600</td>\n",
       "      <td>0.001088</td>\n",
       "      <td>4361</td>\n",
       "    </tr>\n",
       "    <tr>\n",
       "      <th>42</th>\n",
       "      <td>36720410</td>\n",
       "      <td>10001</td>\n",
       "      <td>7953</td>\n",
       "      <td>10398</td>\n",
       "      <td>4925</td>\n",
       "      <td>20100525</td>\n",
       "      <td>11.01</td>\n",
       "      <td>11.2900</td>\n",
       "      <td>11.2299</td>\n",
       "      <td>12600</td>\n",
       "      <td>-0.007082</td>\n",
       "      <td>6070</td>\n",
       "    </tr>\n",
       "    <tr>\n",
       "      <th>46</th>\n",
       "      <td>36720410</td>\n",
       "      <td>10001</td>\n",
       "      <td>7953</td>\n",
       "      <td>10398</td>\n",
       "      <td>4925</td>\n",
       "      <td>20100511</td>\n",
       "      <td>10.29</td>\n",
       "      <td>10.6799</td>\n",
       "      <td>10.6600</td>\n",
       "      <td>23600</td>\n",
       "      <td>0.025986</td>\n",
       "      <td>6070</td>\n",
       "    </tr>\n",
       "    <tr>\n",
       "      <th>50</th>\n",
       "      <td>36720410</td>\n",
       "      <td>10001</td>\n",
       "      <td>7953</td>\n",
       "      <td>10398</td>\n",
       "      <td>4925</td>\n",
       "      <td>20100205</td>\n",
       "      <td>9.95</td>\n",
       "      <td>10.0100</td>\n",
       "      <td>9.9500</td>\n",
       "      <td>13800</td>\n",
       "      <td>-0.005994</td>\n",
       "      <td>4361</td>\n",
       "    </tr>\n",
       "    <tr>\n",
       "      <th>59</th>\n",
       "      <td>36720410</td>\n",
       "      <td>10001</td>\n",
       "      <td>7953</td>\n",
       "      <td>10398</td>\n",
       "      <td>4925</td>\n",
       "      <td>20100216</td>\n",
       "      <td>10.06</td>\n",
       "      <td>10.1000</td>\n",
       "      <td>10.0924</td>\n",
       "      <td>2500</td>\n",
       "      <td>0.001727</td>\n",
       "      <td>4361</td>\n",
       "    </tr>\n",
       "    <tr>\n",
       "      <th>60</th>\n",
       "      <td>36720410</td>\n",
       "      <td>10001</td>\n",
       "      <td>7953</td>\n",
       "      <td>10398</td>\n",
       "      <td>4925</td>\n",
       "      <td>20100316</td>\n",
       "      <td>9.90</td>\n",
       "      <td>9.9770</td>\n",
       "      <td>9.9700</td>\n",
       "      <td>6500</td>\n",
       "      <td>0.006055</td>\n",
       "      <td>4361</td>\n",
       "    </tr>\n",
       "    <tr>\n",
       "      <th>65</th>\n",
       "      <td>36720410</td>\n",
       "      <td>10001</td>\n",
       "      <td>7953</td>\n",
       "      <td>10398</td>\n",
       "      <td>4925</td>\n",
       "      <td>20100127</td>\n",
       "      <td>9.87</td>\n",
       "      <td>10.0500</td>\n",
       "      <td>9.9766</td>\n",
       "      <td>7200</td>\n",
       "      <td>0.009777</td>\n",
       "      <td>4361</td>\n",
       "    </tr>\n",
       "    <tr>\n",
       "      <th>66</th>\n",
       "      <td>36720410</td>\n",
       "      <td>10001</td>\n",
       "      <td>7953</td>\n",
       "      <td>10398</td>\n",
       "      <td>4925</td>\n",
       "      <td>20100222</td>\n",
       "      <td>9.90</td>\n",
       "      <td>10.1500</td>\n",
       "      <td>9.9400</td>\n",
       "      <td>11700</td>\n",
       "      <td>-0.007003</td>\n",
       "      <td>4361</td>\n",
       "    </tr>\n",
       "    <tr>\n",
       "      <th>68</th>\n",
       "      <td>36720410</td>\n",
       "      <td>10001</td>\n",
       "      <td>7953</td>\n",
       "      <td>10398</td>\n",
       "      <td>4925</td>\n",
       "      <td>20100416</td>\n",
       "      <td>10.19</td>\n",
       "      <td>11.0000</td>\n",
       "      <td>10.4500</td>\n",
       "      <td>28100</td>\n",
       "      <td>-0.044781</td>\n",
       "      <td>4361</td>\n",
       "    </tr>\n",
       "    <tr>\n",
       "      <th>69</th>\n",
       "      <td>36720410</td>\n",
       "      <td>10001</td>\n",
       "      <td>7953</td>\n",
       "      <td>10398</td>\n",
       "      <td>4925</td>\n",
       "      <td>20100317</td>\n",
       "      <td>9.97</td>\n",
       "      <td>9.9993</td>\n",
       "      <td>9.9889</td>\n",
       "      <td>8500</td>\n",
       "      <td>0.001896</td>\n",
       "      <td>4361</td>\n",
       "    </tr>\n",
       "  </tbody>\n",
       "</table>\n",
       "</div>"
      ],
      "text/plain": [
       "       CUSIP  PERMNO  PERMCO  ISSUNO  HSICCD      DATE  BIDLO    ASKHI  \\\n",
       "5   36720410   10001    7953   10398    4925  20100201   9.95  10.1100   \n",
       "16  36720410   10001    7953   10398    4925  20100519  11.20  11.3300   \n",
       "23  36720410   10001    7953   10398    4925  20100128  10.02  10.2200   \n",
       "28  36720410   10001    7953   10398    4925  20100526  11.23  11.5700   \n",
       "29  36720410   10001    7953   10398    4925  20100107   9.91  10.3695   \n",
       "34  36720410   10001    7953   10398    4925  20100204  10.00  10.0800   \n",
       "37  36720410   10001    7953   10398    4925  20100210   9.98  10.1900   \n",
       "38  36720410   10001    7953   10398    4925  20100324  10.00  10.1300   \n",
       "39  36720410   10001    7953   10398    4925  20100414  10.89  11.0501   \n",
       "42  36720410   10001    7953   10398    4925  20100525  11.01  11.2900   \n",
       "46  36720410   10001    7953   10398    4925  20100511  10.29  10.6799   \n",
       "50  36720410   10001    7953   10398    4925  20100205   9.95  10.0100   \n",
       "59  36720410   10001    7953   10398    4925  20100216  10.06  10.1000   \n",
       "60  36720410   10001    7953   10398    4925  20100316   9.90   9.9770   \n",
       "65  36720410   10001    7953   10398    4925  20100127   9.87  10.0500   \n",
       "66  36720410   10001    7953   10398    4925  20100222   9.90  10.1500   \n",
       "68  36720410   10001    7953   10398    4925  20100416  10.19  11.0000   \n",
       "69  36720410   10001    7953   10398    4925  20100317   9.97   9.9993   \n",
       "\n",
       "        PRC    VOL       RET  SHROUT  \n",
       "5    9.9900   9600 -0.006958    4361  \n",
       "16  11.3200   7600  0.009003    6070  \n",
       "23  10.1500  13500  0.017381    4361  \n",
       "28  11.2500  11700  0.001790    6070  \n",
       "29   9.9600  29200 -0.033948    4361  \n",
       "34  10.0100   3600 -0.008921    4361  \n",
       "37  10.0000   8600 -0.017133    4361  \n",
       "38  10.0500   8100  0.003996    4361  \n",
       "39  10.9499  26600  0.001088    4361  \n",
       "42  11.2299  12600 -0.007082    6070  \n",
       "46  10.6600  23600  0.025986    6070  \n",
       "50   9.9500  13800 -0.005994    4361  \n",
       "59  10.0924   2500  0.001727    4361  \n",
       "60   9.9700   6500  0.006055    4361  \n",
       "65   9.9766   7200  0.009777    4361  \n",
       "66   9.9400  11700 -0.007003    4361  \n",
       "68  10.4500  28100 -0.044781    4361  \n",
       "69   9.9889   8500  0.001896    4361  "
      ]
     },
     "execution_count": 38,
     "metadata": {},
     "output_type": "execute_result"
    }
   ],
   "source": [
    "anti_join(d1, d2, ['CUSIP', 'PERMNO', 'DATE'])"
   ]
  },
  {
   "cell_type": "code",
   "execution_count": 42,
   "metadata": {
    "ExecuteTime": {
     "end_time": "2020-04-26T03:45:29.344552Z",
     "start_time": "2020-04-26T03:45:29.334350Z"
    }
   },
   "outputs": [
    {
     "data": {
      "text/plain": [
       "0.0     9.65000\n",
       "0.1     9.90000\n",
       "0.2     9.95000\n",
       "0.3     9.98952\n",
       "0.4    10.00000\n",
       "0.5    10.06000\n",
       "0.6    10.16800\n",
       "0.7    10.34000\n",
       "0.8    10.58920\n",
       "0.9    11.20000\n",
       "Name: BIDLO, dtype: float64"
      ]
     },
     "execution_count": 42,
     "metadata": {},
     "output_type": "execute_result"
    }
   ],
   "source": [
    "d1.BIDLO.quantile(np.arange(0, 1, .1))"
   ]
  },
  {
   "cell_type": "code",
   "execution_count": 55,
   "metadata": {
    "ExecuteTime": {
     "end_time": "2020-04-26T03:50:13.986115Z",
     "start_time": "2020-04-26T03:50:13.981245Z"
    }
   },
   "outputs": [],
   "source": [
    "def verbose_plot(df, **kwargs):\n",
    "    df.plot(**kwargs)\n",
    "    df.pprint()\n",
    "#     plt.show()"
   ]
  },
  {
   "cell_type": "code",
   "execution_count": 56,
   "metadata": {
    "ExecuteTime": {
     "end_time": "2020-04-26T03:50:14.489719Z",
     "start_time": "2020-04-26T03:50:14.317166Z"
    }
   },
   "outputs": [
    {
     "data": {
      "text/html": [
       "<table border=\"1\" class=\"dataframe\">\n",
       "  <thead>\n",
       "    <tr style=\"text-align: right;\">\n",
       "      <th></th>\n",
       "      <th>BIDLO</th>\n",
       "    </tr>\n",
       "  </thead>\n",
       "  <tbody>\n",
       "    <tr>\n",
       "      <th>0.0</th>\n",
       "      <td>9.65000</td>\n",
       "    </tr>\n",
       "    <tr>\n",
       "      <th>0.1</th>\n",
       "      <td>9.90000</td>\n",
       "    </tr>\n",
       "    <tr>\n",
       "      <th>0.2</th>\n",
       "      <td>9.95000</td>\n",
       "    </tr>\n",
       "    <tr>\n",
       "      <th>0.3</th>\n",
       "      <td>9.98952</td>\n",
       "    </tr>\n",
       "    <tr>\n",
       "      <th>0.4</th>\n",
       "      <td>10.00000</td>\n",
       "    </tr>\n",
       "    <tr>\n",
       "      <th>0.5</th>\n",
       "      <td>10.06000</td>\n",
       "    </tr>\n",
       "    <tr>\n",
       "      <th>0.6</th>\n",
       "      <td>10.16800</td>\n",
       "    </tr>\n",
       "    <tr>\n",
       "      <th>0.7</th>\n",
       "      <td>10.34000</td>\n",
       "    </tr>\n",
       "    <tr>\n",
       "      <th>0.8</th>\n",
       "      <td>10.58920</td>\n",
       "    </tr>\n",
       "    <tr>\n",
       "      <th>0.9</th>\n",
       "      <td>11.20000</td>\n",
       "    </tr>\n",
       "  </tbody>\n",
       "</table>"
      ],
      "text/plain": [
       "<IPython.core.display.HTML object>"
      ]
     },
     "metadata": {},
     "output_type": "display_data"
    },
    {
     "data": {
      "image/png": "[encoded data removed]",
      "text/plain": [
       "<Figure size 432x288 with 1 Axes>"
      ]
     },
     "metadata": {
      "needs_background": "light"
     },
     "output_type": "display_data"
    }
   ],
   "source": [
    "verbose_plot(d1.BIDLO.quantile(np.arange(0, 1, .1)), kind='bar', color='red')"
   ]
  },
  {
   "cell_type": "code",
   "execution_count": 61,
   "metadata": {
    "ExecuteTime": {
     "end_time": "2020-04-26T03:51:10.342882Z",
     "start_time": "2020-04-26T03:51:10.070280Z"
    }
   },
   "outputs": [
    {
     "data": {
      "image/png": "[encoded data removed]",
      "text/plain": [
       "<Figure size 432x288 with 1 Axes>"
      ]
     },
     "metadata": {
      "needs_background": "light"
     },
     "output_type": "display_data"
    }
   ],
   "source": [
    "d1[['BIDLO', 'ASKHI']].plot(x='BIDLO', y='ASKHI', kind='scatter')\n",
    "plt.show()"
   ]
  },
  {
   "cell_type": "code",
   "execution_count": 63,
   "metadata": {
    "ExecuteTime": {
     "end_time": "2020-04-26T03:52:55.693084Z",
     "start_time": "2020-04-26T03:52:55.670638Z"
    }
   },
   "outputs": [
    {
     "data": {
      "text/html": [
       "<div>\n",
       "<style scoped>\n",
       "    .dataframe tbody tr th:only-of-type {\n",
       "        vertical-align: middle;\n",
       "    }\n",
       "\n",
       "    .dataframe tbody tr th {\n",
       "        vertical-align: top;\n",
       "    }\n",
       "\n",
       "    .dataframe thead th {\n",
       "        text-align: right;\n",
       "    }\n",
       "</style>\n",
       "<table border=\"1\" class=\"dataframe\">\n",
       "  <thead>\n",
       "    <tr style=\"text-align: right;\">\n",
       "      <th></th>\n",
       "      <th>CUSIP</th>\n",
       "      <th>PERMNO</th>\n",
       "      <th>PERMCO</th>\n",
       "      <th>ISSUNO</th>\n",
       "      <th>HSICCD</th>\n",
       "      <th>DATE</th>\n",
       "      <th>BIDLO</th>\n",
       "      <th>ASKHI</th>\n",
       "      <th>PRC</th>\n",
       "      <th>VOL</th>\n",
       "      <th>RET</th>\n",
       "      <th>SHROUT</th>\n",
       "    </tr>\n",
       "  </thead>\n",
       "  <tbody>\n",
       "    <tr>\n",
       "      <th>0</th>\n",
       "      <td>36720410</td>\n",
       "      <td>10001</td>\n",
       "      <td>7953</td>\n",
       "      <td>10398</td>\n",
       "      <td>4925</td>\n",
       "      <td>20100104</td>\n",
       "      <td>10.10</td>\n",
       "      <td>10.5800</td>\n",
       "      <td>10.2500</td>\n",
       "      <td>18500</td>\n",
       "      <td>-0.004854</td>\n",
       "      <td>4361</td>\n",
       "    </tr>\n",
       "    <tr>\n",
       "      <th>1</th>\n",
       "      <td>36720410</td>\n",
       "      <td>10001</td>\n",
       "      <td>7953</td>\n",
       "      <td>10398</td>\n",
       "      <td>4925</td>\n",
       "      <td>20100105</td>\n",
       "      <td>9.80</td>\n",
       "      <td>10.3600</td>\n",
       "      <td>10.1900</td>\n",
       "      <td>23200</td>\n",
       "      <td>-0.005854</td>\n",
       "      <td>4361</td>\n",
       "    </tr>\n",
       "    <tr>\n",
       "      <th>2</th>\n",
       "      <td>36720410</td>\n",
       "      <td>10001</td>\n",
       "      <td>7953</td>\n",
       "      <td>10398</td>\n",
       "      <td>4925</td>\n",
       "      <td>20100106</td>\n",
       "      <td>10.15</td>\n",
       "      <td>10.4800</td>\n",
       "      <td>10.3100</td>\n",
       "      <td>18700</td>\n",
       "      <td>0.011776</td>\n",
       "      <td>4361</td>\n",
       "    </tr>\n",
       "    <tr>\n",
       "      <th>3</th>\n",
       "      <td>36720410</td>\n",
       "      <td>10001</td>\n",
       "      <td>7953</td>\n",
       "      <td>10398</td>\n",
       "      <td>4925</td>\n",
       "      <td>20100107</td>\n",
       "      <td>9.91</td>\n",
       "      <td>10.3695</td>\n",
       "      <td>9.9600</td>\n",
       "      <td>29200</td>\n",
       "      <td>-0.033948</td>\n",
       "      <td>4361</td>\n",
       "    </tr>\n",
       "    <tr>\n",
       "      <th>4</th>\n",
       "      <td>36720410</td>\n",
       "      <td>10001</td>\n",
       "      <td>7953</td>\n",
       "      <td>10398</td>\n",
       "      <td>4925</td>\n",
       "      <td>20100108</td>\n",
       "      <td>10.00</td>\n",
       "      <td>10.4000</td>\n",
       "      <td>10.3400</td>\n",
       "      <td>25100</td>\n",
       "      <td>0.038153</td>\n",
       "      <td>4361</td>\n",
       "    </tr>\n",
       "    <tr>\n",
       "      <th>...</th>\n",
       "      <td>...</td>\n",
       "      <td>...</td>\n",
       "      <td>...</td>\n",
       "      <td>...</td>\n",
       "      <td>...</td>\n",
       "      <td>...</td>\n",
       "      <td>...</td>\n",
       "      <td>...</td>\n",
       "      <td>...</td>\n",
       "      <td>...</td>\n",
       "      <td>...</td>\n",
       "      <td>...</td>\n",
       "    </tr>\n",
       "    <tr>\n",
       "      <th>95</th>\n",
       "      <td>36720410</td>\n",
       "      <td>10001</td>\n",
       "      <td>7953</td>\n",
       "      <td>10398</td>\n",
       "      <td>4925</td>\n",
       "      <td>20100520</td>\n",
       "      <td>11.31</td>\n",
       "      <td>11.4706</td>\n",
       "      <td>11.3300</td>\n",
       "      <td>14700</td>\n",
       "      <td>0.000883</td>\n",
       "      <td>6070</td>\n",
       "    </tr>\n",
       "    <tr>\n",
       "      <th>96</th>\n",
       "      <td>36720410</td>\n",
       "      <td>10001</td>\n",
       "      <td>7953</td>\n",
       "      <td>10398</td>\n",
       "      <td>4925</td>\n",
       "      <td>20100521</td>\n",
       "      <td>11.20</td>\n",
       "      <td>11.3192</td>\n",
       "      <td>11.2000</td>\n",
       "      <td>15900</td>\n",
       "      <td>-0.011474</td>\n",
       "      <td>6070</td>\n",
       "    </tr>\n",
       "    <tr>\n",
       "      <th>97</th>\n",
       "      <td>36720410</td>\n",
       "      <td>10001</td>\n",
       "      <td>7953</td>\n",
       "      <td>10398</td>\n",
       "      <td>4925</td>\n",
       "      <td>20100524</td>\n",
       "      <td>11.25</td>\n",
       "      <td>11.3200</td>\n",
       "      <td>11.3100</td>\n",
       "      <td>8000</td>\n",
       "      <td>0.009821</td>\n",
       "      <td>6070</td>\n",
       "    </tr>\n",
       "    <tr>\n",
       "      <th>98</th>\n",
       "      <td>36720410</td>\n",
       "      <td>10001</td>\n",
       "      <td>7953</td>\n",
       "      <td>10398</td>\n",
       "      <td>4925</td>\n",
       "      <td>20100525</td>\n",
       "      <td>11.01</td>\n",
       "      <td>11.2900</td>\n",
       "      <td>11.2299</td>\n",
       "      <td>12600</td>\n",
       "      <td>-0.007082</td>\n",
       "      <td>6070</td>\n",
       "    </tr>\n",
       "    <tr>\n",
       "      <th>99</th>\n",
       "      <td>36720410</td>\n",
       "      <td>10001</td>\n",
       "      <td>7953</td>\n",
       "      <td>10398</td>\n",
       "      <td>4925</td>\n",
       "      <td>20100526</td>\n",
       "      <td>11.23</td>\n",
       "      <td>11.5700</td>\n",
       "      <td>11.2500</td>\n",
       "      <td>11700</td>\n",
       "      <td>0.001790</td>\n",
       "      <td>6070</td>\n",
       "    </tr>\n",
       "  </tbody>\n",
       "</table>\n",
       "<p>100 rows × 12 columns</p>\n",
       "</div>"
      ],
      "text/plain": [
       "       CUSIP  PERMNO  PERMCO  ISSUNO  HSICCD      DATE  BIDLO    ASKHI  \\\n",
       "0   36720410   10001    7953   10398    4925  20100104  10.10  10.5800   \n",
       "1   36720410   10001    7953   10398    4925  20100105   9.80  10.3600   \n",
       "2   36720410   10001    7953   10398    4925  20100106  10.15  10.4800   \n",
       "3   36720410   10001    7953   10398    4925  20100107   9.91  10.3695   \n",
       "4   36720410   10001    7953   10398    4925  20100108  10.00  10.4000   \n",
       "..       ...     ...     ...     ...     ...       ...    ...      ...   \n",
       "95  36720410   10001    7953   10398    4925  20100520  11.31  11.4706   \n",
       "96  36720410   10001    7953   10398    4925  20100521  11.20  11.3192   \n",
       "97  36720410   10001    7953   10398    4925  20100524  11.25  11.3200   \n",
       "98  36720410   10001    7953   10398    4925  20100525  11.01  11.2900   \n",
       "99  36720410   10001    7953   10398    4925  20100526  11.23  11.5700   \n",
       "\n",
       "        PRC    VOL       RET  SHROUT  \n",
       "0   10.2500  18500 -0.004854    4361  \n",
       "1   10.1900  23200 -0.005854    4361  \n",
       "2   10.3100  18700  0.011776    4361  \n",
       "3    9.9600  29200 -0.033948    4361  \n",
       "4   10.3400  25100  0.038153    4361  \n",
       "..      ...    ...       ...     ...  \n",
       "95  11.3300  14700  0.000883    6070  \n",
       "96  11.2000  15900 -0.011474    6070  \n",
       "97  11.3100   8000  0.009821    6070  \n",
       "98  11.2299  12600 -0.007082    6070  \n",
       "99  11.2500  11700  0.001790    6070  \n",
       "\n",
       "[100 rows x 12 columns]"
      ]
     },
     "execution_count": 63,
     "metadata": {},
     "output_type": "execute_result"
    }
   ],
   "source": [
    "df.head(None)"
   ]
  },
  {
   "cell_type": "code",
   "execution_count": 72,
   "metadata": {
    "ExecuteTime": {
     "end_time": "2020-04-26T04:02:31.409502Z",
     "start_time": "2020-04-26T04:02:31.404111Z"
    }
   },
   "outputs": [],
   "source": [
    "def ordered_pseudoset(vals):\n",
    "    return dict.fromkeys(vals).keys()"
   ]
  },
  {
   "cell_type": "code",
   "execution_count": 73,
   "metadata": {
    "ExecuteTime": {
     "end_time": "2020-04-26T04:02:35.642638Z",
     "start_time": "2020-04-26T04:02:35.634842Z"
    }
   },
   "outputs": [
    {
     "data": {
      "text/plain": [
       "dict_keys(['b', 'a', 'c', 'd', 'e'])"
      ]
     },
     "execution_count": 73,
     "metadata": {},
     "output_type": "execute_result"
    }
   ],
   "source": [
    "s = ordered_pseudoset(['b', 'a', 'c', 'd', 'd', 'd', 'e', 'a'])\n",
    "s"
   ]
  },
  {
   "cell_type": "code",
   "execution_count": 74,
   "metadata": {
    "ExecuteTime": {
     "end_time": "2020-04-26T04:02:36.692806Z",
     "start_time": "2020-04-26T04:02:36.686534Z"
    }
   },
   "outputs": [
    {
     "data": {
      "text/plain": [
       "(True, False)"
      ]
     },
     "execution_count": 74,
     "metadata": {},
     "output_type": "execute_result"
    }
   ],
   "source": [
    "'c' in s, 'z' in s"
   ]
  },
  {
   "cell_type": "code",
   "execution_count": 77,
   "metadata": {
    "ExecuteTime": {
     "end_time": "2020-04-26T04:02:46.079525Z",
     "start_time": "2020-04-26T04:02:46.072418Z"
    }
   },
   "outputs": [
    {
     "data": {
      "text/plain": [
       "(['b', 'a', 'c', 'd', 'e'], {'a', 'b', 'c', 'd', 'e'})"
      ]
     },
     "execution_count": 77,
     "metadata": {},
     "output_type": "execute_result"
    }
   ],
   "source": [
    "list(s), set(s)"
   ]
  },
  {
   "cell_type": "code",
   "execution_count": 78,
   "metadata": {
    "ExecuteTime": {
     "end_time": "2020-04-26T04:04:05.278420Z",
     "start_time": "2020-04-26T04:04:05.269654Z"
    }
   },
   "outputs": [
    {
     "data": {
      "text/plain": [
       "'b'"
      ]
     },
     "execution_count": 78,
     "metadata": {},
     "output_type": "execute_result"
    }
   ],
   "source": [
    "next(iter(s))"
   ]
  },
  {
   "cell_type": "code",
   "execution_count": 79,
   "metadata": {
    "ExecuteTime": {
     "end_time": "2020-04-26T04:04:39.764839Z",
     "start_time": "2020-04-26T04:04:39.759100Z"
    }
   },
   "outputs": [
    {
     "data": {
      "text/plain": [
       "'b'"
      ]
     },
     "execution_count": 79,
     "metadata": {},
     "output_type": "execute_result"
    }
   ],
   "source": [
    "next(iter(list(s)))"
   ]
  },
  {
   "cell_type": "code",
   "execution_count": 80,
   "metadata": {
    "ExecuteTime": {
     "end_time": "2020-04-26T04:05:14.955452Z",
     "start_time": "2020-04-26T04:05:14.945354Z"
    }
   },
   "outputs": [],
   "source": [
    "from collections.abc import Iterable"
   ]
  },
  {
   "cell_type": "code",
   "execution_count": 81,
   "metadata": {
    "ExecuteTime": {
     "end_time": "2020-04-26T04:05:22.522387Z",
     "start_time": "2020-04-26T04:05:22.513783Z"
    }
   },
   "outputs": [
    {
     "data": {
      "text/plain": [
       "True"
      ]
     },
     "execution_count": 81,
     "metadata": {},
     "output_type": "execute_result"
    }
   ],
   "source": [
    "isinstance(dict(), Iterable)"
   ]
  },
  {
   "cell_type": "code",
   "execution_count": 82,
   "metadata": {
    "ExecuteTime": {
     "end_time": "2020-04-26T04:05:31.173745Z",
     "start_time": "2020-04-26T04:05:31.167202Z"
    }
   },
   "outputs": [
    {
     "data": {
      "text/plain": [
       "True"
      ]
     },
     "execution_count": 82,
     "metadata": {},
     "output_type": "execute_result"
    }
   ],
   "source": [
    "isinstance(range(5), Iterable)"
   ]
  },
  {
   "cell_type": "code",
   "execution_count": null,
   "metadata": {},
   "outputs": [],
   "source": []
  }
 ],
 "metadata": {
  "kernelspec": {
   "display_name": "Python 3",
   "language": "python",
   "name": "python3"
  },
  "language_info": {
   "codemirror_mode": {
    "name": "ipython",
    "version": 3
   },
   "file_extension": ".py",
   "mimetype": "text/x-python",
   "name": "python",
   "nbconvert_exporter": "python",
   "pygments_lexer": "ipython3",
   "version": "3.7.3"
  }
 },
 "nbformat": 4,
 "nbformat_minor": 2
}
