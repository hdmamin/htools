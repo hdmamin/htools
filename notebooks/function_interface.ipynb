{
 "cells": [
  {
   "cell_type": "code",
   "execution_count": 2,
   "metadata": {
    "ExecuteTime": {
     "end_time": "2020-12-12T04:04:59.479677Z",
     "start_time": "2020-12-12T04:04:59.457954Z"
    }
   },
   "outputs": [],
   "source": [
    "%load_ext autoreload\n",
    "%autoreload 2"
   ]
  },
  {
   "cell_type": "code",
   "execution_count": 3,
   "metadata": {
    "ExecuteTime": {
     "end_time": "2020-12-12T04:05:03.342652Z",
     "start_time": "2020-12-12T04:04:59.665211Z"
    },
    "run_control": {
     "marked": false
    }
   },
   "outputs": [],
   "source": [
    "from collections import OrderedDict\n",
    "from contextlib import contextmanager\n",
    "from functools import wraps, update_wrapper\n",
    "import inspect\n",
    "from inspect import Parameter, getsource, getsourcefile, getfile, ismodule, \\\n",
    "    ismethod, isfunction\n",
    "\n",
    "from htools import *"
   ]
  },
  {
   "cell_type": "code",
   "execution_count": 4,
   "metadata": {
    "ExecuteTime": {
     "end_time": "2020-12-12T04:05:03.517058Z",
     "start_time": "2020-12-12T04:05:03.346511Z"
    }
   },
   "outputs": [
    {
     "name": "stdout",
     "output_type": "stream",
     "text": [
      "Current directory: /Users/hmamin/pythonhm/htools\n"
     ]
    },
    {
     "name": "stderr",
     "output_type": "stream",
     "text": [
      "/Users/hmamin/anaconda3/lib/python3.7/site-packages/ipykernel/ipkernel.py:287: DeprecationWarning: `should_run_async` will not call `transform_cell` automatically in the future. Please pass the result to `transformed_cell` argument and any exception that happen during thetransform in `preprocessing_exc_tuple` in IPython 7.17 and above.\n",
      "  and should_run_async(code)\n"
     ]
    }
   ],
   "source": [
    "cd_root()"
   ]
  },
  {
   "cell_type": "code",
   "execution_count": 58,
   "metadata": {
    "ExecuteTime": {
     "end_time": "2020-12-11T04:36:59.498246Z",
     "start_time": "2020-12-11T04:36:59.426344Z"
    },
    "run_control": {
     "marked": false
    }
   },
   "outputs": [],
   "source": [
    "class IndexedOrderedDict(OrderedDict):\n",
    "    \n",
    "    def __init__(self, data=None):\n",
    "        # Argument must be iterable.\n",
    "        super().__init__(data or {})\n",
    "    \n",
    "    def __setitem__(self, key, val):\n",
    "        if isinstance(key, int):\n",
    "            raise TypeError('key must not be an integer.')\n",
    "        super().__setitem__(key, val)\n",
    "        \n",
    "    def __getitem__(self, key):\n",
    "        if isinstance(key, int):\n",
    "            return list(self.values())[key]\n",
    "        return super().__getitem__(key)"
   ]
  },
  {
   "cell_type": "code",
   "execution_count": 59,
   "metadata": {
    "ExecuteTime": {
     "end_time": "2020-12-11T04:37:01.134792Z",
     "start_time": "2020-12-11T04:37:01.095942Z"
    }
   },
   "outputs": [
    {
     "data": {
      "text/plain": [
       "IndexedOrderedDict([('dog', 1), ('cat', 33), ('horse', -4), ('donkey', [5])])"
      ]
     },
     "execution_count": 59,
     "metadata": {},
     "output_type": "execute_result"
    }
   ],
   "source": [
    "d = {'dog': 1, 'cat': 33, 'horse': -4, 'donkey': [5]}\n",
    "od = OrderedDict(d)\n",
    "iod = IndexedOrderedDict(d)\n",
    "iod"
   ]
  },
  {
   "cell_type": "code",
   "execution_count": 60,
   "metadata": {
    "ExecuteTime": {
     "end_time": "2020-12-11T04:37:01.496775Z",
     "start_time": "2020-12-11T04:37:01.462429Z"
    }
   },
   "outputs": [
    {
     "name": "stdout",
     "output_type": "stream",
     "text": [
      "As expected, got TypeError(key must not be an integer.).\n"
     ]
    },
    {
     "data": {
      "text/plain": [
       "IndexedOrderedDict([('dog', 1),\n",
       "                    ('cat', 33),\n",
       "                    ('horse', -4),\n",
       "                    ('donkey', [5]),\n",
       "                    ('fish', 100)])"
      ]
     },
     "execution_count": 60,
     "metadata": {},
     "output_type": "execute_result"
    }
   ],
   "source": [
    "iod['fish'] = 100\n",
    "with assert_raises(TypeError):\n",
    "    iod[0] = 99\n",
    "iod"
   ]
  },
  {
   "cell_type": "code",
   "execution_count": 61,
   "metadata": {
    "ExecuteTime": {
     "end_time": "2020-12-11T04:37:01.669279Z",
     "start_time": "2020-12-11T04:37:01.635749Z"
    }
   },
   "outputs": [
    {
     "data": {
      "text/plain": [
       "-4"
      ]
     },
     "execution_count": 61,
     "metadata": {},
     "output_type": "execute_result"
    }
   ],
   "source": [
    "iod['horse']"
   ]
  },
  {
   "cell_type": "code",
   "execution_count": 62,
   "metadata": {
    "ExecuteTime": {
     "end_time": "2020-12-11T04:37:01.825523Z",
     "start_time": "2020-12-11T04:37:01.797228Z"
    }
   },
   "outputs": [
    {
     "data": {
      "text/plain": [
       "33"
      ]
     },
     "execution_count": 62,
     "metadata": {},
     "output_type": "execute_result"
    }
   ],
   "source": [
    "iod['cat']"
   ]
  },
  {
   "cell_type": "code",
   "execution_count": 68,
   "metadata": {
    "ExecuteTime": {
     "end_time": "2020-12-11T04:37:18.230369Z",
     "start_time": "2020-12-11T04:37:18.167009Z"
    }
   },
   "outputs": [
    {
     "name": "stdout",
     "output_type": "stream",
     "text": [
      "As expected, got IndexError(list index out of range).\n"
     ]
    }
   ],
   "source": [
    "with assert_raises(IndexError):\n",
    "    iod[9]"
   ]
  },
  {
   "cell_type": "code",
   "execution_count": 64,
   "metadata": {
    "ExecuteTime": {
     "end_time": "2020-12-11T04:37:02.750389Z",
     "start_time": "2020-12-11T04:37:02.716847Z"
    }
   },
   "outputs": [
    {
     "data": {
      "text/plain": [
       "[5]"
      ]
     },
     "execution_count": 64,
     "metadata": {},
     "output_type": "execute_result"
    }
   ],
   "source": [
    "iod[3]"
   ]
  },
  {
   "cell_type": "code",
   "execution_count": 65,
   "metadata": {
    "ExecuteTime": {
     "end_time": "2020-12-11T04:37:03.146944Z",
     "start_time": "2020-12-11T04:37:03.118984Z"
    }
   },
   "outputs": [
    {
     "data": {
      "text/plain": [
       "IndexedOrderedDict([('dog', 1),\n",
       "                    ('cat', 33),\n",
       "                    ('horse', -4),\n",
       "                    ('fish', 100),\n",
       "                    ('donkey', [5])])"
      ]
     },
     "execution_count": 65,
     "metadata": {},
     "output_type": "execute_result"
    }
   ],
   "source": [
    "iod.move_to_end('donkey')\n",
    "iod"
   ]
  },
  {
   "cell_type": "code",
   "execution_count": 66,
   "metadata": {
    "ExecuteTime": {
     "end_time": "2020-12-11T04:37:03.733713Z",
     "start_time": "2020-12-11T04:37:03.695262Z"
    }
   },
   "outputs": [
    {
     "data": {
      "text/plain": [
       "100"
      ]
     },
     "execution_count": 66,
     "metadata": {},
     "output_type": "execute_result"
    }
   ],
   "source": [
    "iod[3]"
   ]
  },
  {
   "cell_type": "code",
   "execution_count": 67,
   "metadata": {
    "ExecuteTime": {
     "end_time": "2020-12-11T04:37:04.238368Z",
     "start_time": "2020-12-11T04:37:04.200587Z"
    }
   },
   "outputs": [
    {
     "name": "stdout",
     "output_type": "stream",
     "text": [
      "Writing data to data/tmp.pkl.\n"
     ]
    }
   ],
   "source": [
    "save(iod, 'data/tmp.pkl')"
   ]
  },
  {
   "cell_type": "code",
   "execution_count": 54,
   "metadata": {
    "ExecuteTime": {
     "end_time": "2020-12-11T04:35:47.328501Z",
     "start_time": "2020-12-11T04:35:47.294539Z"
    },
    "scrolled": true
   },
   "outputs": [
    {
     "name": "stdout",
     "output_type": "stream",
     "text": [
      "Object loaded from data/tmp.pkl.\n"
     ]
    },
    {
     "data": {
      "text/plain": [
       "IndexedOrderedDict([('dog', 1),\n",
       "                    ('cat', 33),\n",
       "                    ('horse', -4),\n",
       "                    ('fish', 100),\n",
       "                    ('donkey', [5])])"
      ]
     },
     "execution_count": 54,
     "metadata": {},
     "output_type": "execute_result"
    }
   ],
   "source": [
    "load('data/tmp.pkl')"
   ]
  },
  {
   "cell_type": "markdown",
   "metadata": {},
   "source": [
    "## Function Interface"
   ]
  },
  {
   "cell_type": "code",
   "execution_count": 12,
   "metadata": {
    "ExecuteTime": {
     "end_time": "2020-12-12T04:08:46.745229Z",
     "start_time": "2020-12-12T04:08:46.692345Z"
    }
   },
   "outputs": [],
   "source": [
    "@valuecheck\n",
    "def function_interface(present=(), required=(), defaults=(), startswith=(),\n",
    "                       args:(True, False, None)=None, \n",
    "                       kwargs:(True, False, None)=None,\n",
    "                       like_func=None):\n",
    "    def decorator(func):\n",
    "        def _param_status(param, params):\n",
    "            if param not in params:\n",
    "                return 'missing'\n",
    "            if params[param].default == inspect._empty:\n",
    "                return 'required'\n",
    "            return 'optional'\n",
    "        \n",
    "        params = inspect.signature(func).parameters\n",
    "        name = func_name(func)\n",
    "        for param in present:\n",
    "            if param not in params:\n",
    "                raise RuntimeError(\n",
    "                    f'`{name}` signature must include parameter {param}.'\n",
    "                )\n",
    "        for param in required:\n",
    "            if _param_status(param, params) != 'required':\n",
    "                raise RuntimeError(\n",
    "                    f'`{name}` signature must include parameter {param} with '\n",
    "                    'no default parameter.'\n",
    "                )\n",
    "        for param in defaults:\n",
    "            if _param_status(param, params) != 'optional':\n",
    "                raise RuntimeError(\n",
    "                    f'`{name}` signature must include parameter {param} with '\n",
    "                    'default value.'\n",
    "                )\n",
    "        params_list = list(params.keys())\n",
    "        for i, param in enumerate(startswith):\n",
    "            if params_list[i] != param:\n",
    "                raise RuntimeError(f'`{name}` signature\\'s parameter #{i+1} '\n",
    "                                   f'(1-indexed) must be named {param}.')\n",
    "        if args is not None:\n",
    "            has_args = any(v.kind == Parameter.VAR_POSITIONAL \n",
    "                           for v in params.values())\n",
    "            if has_args != args:\n",
    "                raise RuntimeError(f'`{name}` signature must '\n",
    "                                   f'{\"\" if args else \"not\"} accept *args.')\n",
    "        if kwargs is not None:\n",
    "            has_kwargs = any(v.kind == Parameter.VAR_KEYWORD\n",
    "                             for v in params.values())\n",
    "            if has_kwargs != kwargs:\n",
    "                raise RuntimeError(\n",
    "                    f'`{name}` signature must {\"\" if kwargs else \"not\"} '\n",
    "                    'accept **kwargs.'\n",
    "                )\n",
    "        if like_func and str(signature(like_func)) != str(signature(func)):\n",
    "            raise RuntimeError(f'`{name}` signature must match {like_func} '\n",
    "                               'signature.')\n",
    "        @wraps(func)\n",
    "        def wrapper(*args, **kwargs):\n",
    "            return func(*args, **kwargs)\n",
    "        return wrapper\n",
    "    return decorator"
   ]
  },
  {
   "cell_type": "code",
   "execution_count": 7,
   "metadata": {
    "ExecuteTime": {
     "end_time": "2020-12-12T04:05:10.981924Z",
     "start_time": "2020-12-12T04:05:10.944241Z"
    }
   },
   "outputs": [],
   "source": [
    "feature_func = function_interface(['b'], ['a'], ['c', 'd', 'e'], kwargs=True)"
   ]
  },
  {
   "cell_type": "code",
   "execution_count": 8,
   "metadata": {
    "ExecuteTime": {
     "end_time": "2020-12-12T04:05:11.201218Z",
     "start_time": "2020-12-12T04:05:11.168431Z"
    }
   },
   "outputs": [],
   "source": [
    "@feature_func\n",
    "def foo(a, b, c=4, d=4, e=5, **kwargs):\n",
    "    return a, b, c, e"
   ]
  },
  {
   "cell_type": "code",
   "execution_count": 9,
   "metadata": {
    "ExecuteTime": {
     "end_time": "2020-12-12T04:05:11.912236Z",
     "start_time": "2020-12-12T04:05:11.849487Z"
    }
   },
   "outputs": [
    {
     "ename": "RuntimeError",
     "evalue": "`foo` signature must include parameter b.",
     "output_type": "error",
     "traceback": [
      "\u001b[0;31m---------------------------------------------------------------------------\u001b[0m",
      "\u001b[0;31mRuntimeError\u001b[0m                              Traceback (most recent call last)",
      "\u001b[0;32m<ipython-input-9-d062a0038e90>\u001b[0m in \u001b[0;36m<module>\u001b[0;34m\u001b[0m\n\u001b[1;32m      1\u001b[0m \u001b[0;34m@\u001b[0m\u001b[0mfeature_func\u001b[0m\u001b[0;34m\u001b[0m\u001b[0;34m\u001b[0m\u001b[0m\n\u001b[0;32m----> 2\u001b[0;31m \u001b[0;32mdef\u001b[0m \u001b[0mfoo\u001b[0m\u001b[0;34m(\u001b[0m\u001b[0ma\u001b[0m\u001b[0;34m,\u001b[0m \u001b[0mc\u001b[0m\u001b[0;34m=\u001b[0m\u001b[0;36m4\u001b[0m\u001b[0;34m,\u001b[0m \u001b[0md\u001b[0m\u001b[0;34m=\u001b[0m\u001b[0;36m4\u001b[0m\u001b[0;34m,\u001b[0m \u001b[0me\u001b[0m\u001b[0;34m=\u001b[0m\u001b[0;36m5\u001b[0m\u001b[0;34m)\u001b[0m\u001b[0;34m:\u001b[0m\u001b[0;34m\u001b[0m\u001b[0;34m\u001b[0m\u001b[0m\n\u001b[0m\u001b[1;32m      3\u001b[0m     \u001b[0;32mreturn\u001b[0m \u001b[0ma\u001b[0m\u001b[0;34m,\u001b[0m \u001b[0mb\u001b[0m\u001b[0;34m,\u001b[0m \u001b[0mc\u001b[0m\u001b[0;34m,\u001b[0m \u001b[0me\u001b[0m\u001b[0;34m\u001b[0m\u001b[0;34m\u001b[0m\u001b[0m\n",
      "\u001b[0;32m<ipython-input-5-893690c878c0>\u001b[0m in \u001b[0;36mdecorator\u001b[0;34m(func)\u001b[0m\n\u001b[1;32m     16\u001b[0m             \u001b[0;32mif\u001b[0m \u001b[0mparam\u001b[0m \u001b[0;32mnot\u001b[0m \u001b[0;32min\u001b[0m \u001b[0mparams\u001b[0m\u001b[0;34m:\u001b[0m\u001b[0;34m\u001b[0m\u001b[0;34m\u001b[0m\u001b[0m\n\u001b[1;32m     17\u001b[0m                 raise RuntimeError(\n\u001b[0;32m---> 18\u001b[0;31m                     \u001b[0;34mf'`{name}` signature must include parameter {param}.'\u001b[0m\u001b[0;34m\u001b[0m\u001b[0;34m\u001b[0m\u001b[0m\n\u001b[0m\u001b[1;32m     19\u001b[0m                 )\n\u001b[1;32m     20\u001b[0m         \u001b[0;32mfor\u001b[0m \u001b[0mparam\u001b[0m \u001b[0;32min\u001b[0m \u001b[0mrequired\u001b[0m\u001b[0;34m:\u001b[0m\u001b[0;34m\u001b[0m\u001b[0;34m\u001b[0m\u001b[0m\n",
      "\u001b[0;31mRuntimeError\u001b[0m: `foo` signature must include parameter b."
     ]
    }
   ],
   "source": [
    "@feature_func\n",
    "def foo(a, c=4, d=4, e=5):\n",
    "    return a, b, c, e"
   ]
  },
  {
   "cell_type": "code",
   "execution_count": 197,
   "metadata": {
    "ExecuteTime": {
     "end_time": "2020-12-11T05:26:26.048207Z",
     "start_time": "2020-12-11T05:26:25.984190Z"
    }
   },
   "outputs": [
    {
     "ename": "RuntimeError",
     "evalue": "`foo` signature must include parameter d with default value.",
     "output_type": "error",
     "traceback": [
      "\u001b[0;31m---------------------------------------------------------------------------\u001b[0m",
      "\u001b[0;31mRuntimeError\u001b[0m                              Traceback (most recent call last)",
      "\u001b[0;32m<ipython-input-197-aa0a6680bbd4>\u001b[0m in \u001b[0;36m<module>\u001b[0;34m\u001b[0m\n\u001b[1;32m      1\u001b[0m \u001b[0;34m@\u001b[0m\u001b[0mfeature_func\u001b[0m\u001b[0;34m\u001b[0m\u001b[0;34m\u001b[0m\u001b[0m\n\u001b[0;32m----> 2\u001b[0;31m \u001b[0;32mdef\u001b[0m \u001b[0mfoo\u001b[0m\u001b[0;34m(\u001b[0m\u001b[0ma\u001b[0m\u001b[0;34m,\u001b[0m \u001b[0mb\u001b[0m\u001b[0;34m,\u001b[0m \u001b[0mc\u001b[0m\u001b[0;34m=\u001b[0m\u001b[0;36m4\u001b[0m\u001b[0;34m,\u001b[0m \u001b[0me\u001b[0m\u001b[0;34m=\u001b[0m\u001b[0;36m5\u001b[0m\u001b[0;34m)\u001b[0m\u001b[0;34m:\u001b[0m\u001b[0;34m\u001b[0m\u001b[0;34m\u001b[0m\u001b[0m\n\u001b[0m\u001b[1;32m      3\u001b[0m     \u001b[0;32mreturn\u001b[0m \u001b[0ma\u001b[0m\u001b[0;34m,\u001b[0m \u001b[0mb\u001b[0m\u001b[0;34m,\u001b[0m \u001b[0mc\u001b[0m\u001b[0;34m,\u001b[0m \u001b[0me\u001b[0m\u001b[0;34m\u001b[0m\u001b[0;34m\u001b[0m\u001b[0m\n",
      "\u001b[0;32m<ipython-input-193-56bcf6d3b34e>\u001b[0m in \u001b[0;36mdecorator\u001b[0;34m(func)\u001b[0m\n\u001b[1;32m     27\u001b[0m             \u001b[0;32mif\u001b[0m \u001b[0m_param_status\u001b[0m\u001b[0;34m(\u001b[0m\u001b[0mparam\u001b[0m\u001b[0;34m,\u001b[0m \u001b[0mparams\u001b[0m\u001b[0;34m)\u001b[0m \u001b[0;34m!=\u001b[0m \u001b[0;34m'optional'\u001b[0m\u001b[0;34m:\u001b[0m\u001b[0;34m\u001b[0m\u001b[0;34m\u001b[0m\u001b[0m\n\u001b[1;32m     28\u001b[0m                 raise RuntimeError(\n\u001b[0;32m---> 29\u001b[0;31m                     \u001b[0;34mf'`{name}` signature must include parameter {param} with '\u001b[0m\u001b[0;34m\u001b[0m\u001b[0;34m\u001b[0m\u001b[0m\n\u001b[0m\u001b[1;32m     30\u001b[0m                     \u001b[0;34m'default value.'\u001b[0m\u001b[0;34m\u001b[0m\u001b[0;34m\u001b[0m\u001b[0m\n\u001b[1;32m     31\u001b[0m                 )\n",
      "\u001b[0;31mRuntimeError\u001b[0m: `foo` signature must include parameter d with default value."
     ]
    }
   ],
   "source": [
    "@feature_func\n",
    "def foo(a, b, c=4, e=5):\n",
    "    return a, b, c, e"
   ]
  },
  {
   "cell_type": "code",
   "execution_count": 198,
   "metadata": {
    "ExecuteTime": {
     "end_time": "2020-12-11T05:26:26.048207Z",
     "start_time": "2020-12-11T05:26:25.984190Z"
    }
   },
   "outputs": [
    {
     "ename": "RuntimeError",
     "evalue": "`foo` signature must include parameter d with default value.",
     "output_type": "error",
     "traceback": [
      "\u001b[0;31m---------------------------------------------------------------------------\u001b[0m",
      "\u001b[0;31mRuntimeError\u001b[0m                              Traceback (most recent call last)",
      "\u001b[0;32m<ipython-input-198-ddd5844dac60>\u001b[0m in \u001b[0;36m<module>\u001b[0;34m\u001b[0m\n\u001b[1;32m      1\u001b[0m \u001b[0;34m@\u001b[0m\u001b[0mfeature_func\u001b[0m\u001b[0;34m\u001b[0m\u001b[0;34m\u001b[0m\u001b[0m\n\u001b[0;32m----> 2\u001b[0;31m \u001b[0;32mdef\u001b[0m \u001b[0mfoo\u001b[0m\u001b[0;34m(\u001b[0m\u001b[0ma\u001b[0m\u001b[0;34m,\u001b[0m \u001b[0mb\u001b[0m\u001b[0;34m,\u001b[0m \u001b[0md\u001b[0m\u001b[0;34m,\u001b[0m \u001b[0mc\u001b[0m\u001b[0;34m=\u001b[0m\u001b[0;36m4\u001b[0m\u001b[0;34m,\u001b[0m \u001b[0me\u001b[0m\u001b[0;34m=\u001b[0m\u001b[0;36m5\u001b[0m\u001b[0;34m)\u001b[0m\u001b[0;34m:\u001b[0m\u001b[0;34m\u001b[0m\u001b[0;34m\u001b[0m\u001b[0m\n\u001b[0m\u001b[1;32m      3\u001b[0m     \u001b[0;32mreturn\u001b[0m \u001b[0ma\u001b[0m\u001b[0;34m,\u001b[0m \u001b[0mb\u001b[0m\u001b[0;34m,\u001b[0m \u001b[0mc\u001b[0m\u001b[0;34m,\u001b[0m \u001b[0md\u001b[0m\u001b[0;34m,\u001b[0m \u001b[0me\u001b[0m\u001b[0;34m\u001b[0m\u001b[0;34m\u001b[0m\u001b[0m\n",
      "\u001b[0;32m<ipython-input-193-56bcf6d3b34e>\u001b[0m in \u001b[0;36mdecorator\u001b[0;34m(func)\u001b[0m\n\u001b[1;32m     27\u001b[0m             \u001b[0;32mif\u001b[0m \u001b[0m_param_status\u001b[0m\u001b[0;34m(\u001b[0m\u001b[0mparam\u001b[0m\u001b[0;34m,\u001b[0m \u001b[0mparams\u001b[0m\u001b[0;34m)\u001b[0m \u001b[0;34m!=\u001b[0m \u001b[0;34m'optional'\u001b[0m\u001b[0;34m:\u001b[0m\u001b[0;34m\u001b[0m\u001b[0;34m\u001b[0m\u001b[0m\n\u001b[1;32m     28\u001b[0m                 raise RuntimeError(\n\u001b[0;32m---> 29\u001b[0;31m                     \u001b[0;34mf'`{name}` signature must include parameter {param} with '\u001b[0m\u001b[0;34m\u001b[0m\u001b[0;34m\u001b[0m\u001b[0m\n\u001b[0m\u001b[1;32m     30\u001b[0m                     \u001b[0;34m'default value.'\u001b[0m\u001b[0;34m\u001b[0m\u001b[0;34m\u001b[0m\u001b[0m\n\u001b[1;32m     31\u001b[0m                 )\n",
      "\u001b[0;31mRuntimeError\u001b[0m: `foo` signature must include parameter d with default value."
     ]
    }
   ],
   "source": [
    "@feature_func\n",
    "def foo(a, b, d, c=4, e=5):\n",
    "    return a, b, c, d, e"
   ]
  },
  {
   "cell_type": "code",
   "execution_count": null,
   "metadata": {
    "ExecuteTime": {
     "end_time": "2020-12-11T05:26:26.052237Z",
     "start_time": "2020-12-11T05:26:26.035Z"
    }
   },
   "outputs": [],
   "source": [
    "@feature_func\n",
    "def foo(a, b=0, d=1, c=4, e=5):\n",
    "    return a, b, c, d, e"
   ]
  },
  {
   "cell_type": "code",
   "execution_count": 199,
   "metadata": {
    "ExecuteTime": {
     "end_time": "2020-12-11T05:26:26.229324Z",
     "start_time": "2020-12-11T05:26:26.188046Z"
    }
   },
   "outputs": [],
   "source": [
    "@feature_func\n",
    "def foo(b, a, d=1, c=4, e=5, **kwargs):\n",
    "    return a, b, c, d, e"
   ]
  },
  {
   "cell_type": "code",
   "execution_count": 204,
   "metadata": {
    "ExecuteTime": {
     "end_time": "2020-12-11T05:27:05.657534Z",
     "start_time": "2020-12-11T05:27:05.585441Z"
    }
   },
   "outputs": [],
   "source": [
    "fit_func = function_interface(startswith=['x', 'y', 'z'], kwargs=True)"
   ]
  },
  {
   "cell_type": "code",
   "execution_count": 205,
   "metadata": {
    "ExecuteTime": {
     "end_time": "2020-12-11T05:27:05.800034Z",
     "start_time": "2020-12-11T05:27:05.762216Z"
    }
   },
   "outputs": [],
   "source": [
    "@fit_func\n",
    "def bar(x, y, z=3, *args, **kwargs):\n",
    "    return x, y, z"
   ]
  },
  {
   "cell_type": "code",
   "execution_count": 206,
   "metadata": {
    "ExecuteTime": {
     "end_time": "2020-12-11T05:27:05.987124Z",
     "start_time": "2020-12-11T05:27:05.931778Z"
    }
   },
   "outputs": [
    {
     "ename": "RuntimeError",
     "evalue": "`bar` signature's parameter #2 (1-indexed) must be named y.",
     "output_type": "error",
     "traceback": [
      "\u001b[0;31m---------------------------------------------------------------------------\u001b[0m",
      "\u001b[0;31mRuntimeError\u001b[0m                              Traceback (most recent call last)",
      "\u001b[0;32m<ipython-input-206-1f6340bceaef>\u001b[0m in \u001b[0;36m<module>\u001b[0;34m\u001b[0m\n\u001b[0;32m----> 1\u001b[0;31m \u001b[0;34m@\u001b[0m\u001b[0mfit_func\u001b[0m\u001b[0;34m\u001b[0m\u001b[0;34m\u001b[0m\u001b[0m\n\u001b[0m\u001b[1;32m      2\u001b[0m \u001b[0;32mdef\u001b[0m \u001b[0mbar\u001b[0m\u001b[0;34m(\u001b[0m\u001b[0mx\u001b[0m\u001b[0;34m,\u001b[0m \u001b[0mz\u001b[0m\u001b[0;34m,\u001b[0m \u001b[0my\u001b[0m\u001b[0;34m,\u001b[0m \u001b[0;34m*\u001b[0m\u001b[0margs\u001b[0m\u001b[0;34m,\u001b[0m \u001b[0;34m**\u001b[0m\u001b[0mkwargs\u001b[0m\u001b[0;34m)\u001b[0m\u001b[0;34m:\u001b[0m\u001b[0;34m\u001b[0m\u001b[0;34m\u001b[0m\u001b[0m\n\u001b[1;32m      3\u001b[0m     \u001b[0;32mreturn\u001b[0m \u001b[0mx\u001b[0m\u001b[0;34m,\u001b[0m \u001b[0my\u001b[0m\u001b[0;34m,\u001b[0m \u001b[0mz\u001b[0m\u001b[0;34m\u001b[0m\u001b[0;34m\u001b[0m\u001b[0m\n",
      "\u001b[0;32m<ipython-input-203-893690c878c0>\u001b[0m in \u001b[0;36mdecorator\u001b[0;34m(func)\u001b[0m\n\u001b[1;32m     33\u001b[0m         \u001b[0;32mfor\u001b[0m \u001b[0mi\u001b[0m\u001b[0;34m,\u001b[0m \u001b[0mparam\u001b[0m \u001b[0;32min\u001b[0m \u001b[0menumerate\u001b[0m\u001b[0;34m(\u001b[0m\u001b[0mstartswith\u001b[0m\u001b[0;34m)\u001b[0m\u001b[0;34m:\u001b[0m\u001b[0;34m\u001b[0m\u001b[0;34m\u001b[0m\u001b[0m\n\u001b[1;32m     34\u001b[0m             \u001b[0;32mif\u001b[0m \u001b[0mparams_list\u001b[0m\u001b[0;34m[\u001b[0m\u001b[0mi\u001b[0m\u001b[0;34m]\u001b[0m \u001b[0;34m!=\u001b[0m \u001b[0mparam\u001b[0m\u001b[0;34m:\u001b[0m\u001b[0;34m\u001b[0m\u001b[0;34m\u001b[0m\u001b[0m\n\u001b[0;32m---> 35\u001b[0;31m                 raise RuntimeError(f'`{name}` signature\\'s parameter #{i+1} '\n\u001b[0m\u001b[1;32m     36\u001b[0m                                    f'(1-indexed) must be named {param}.')\n\u001b[1;32m     37\u001b[0m         \u001b[0;32mif\u001b[0m \u001b[0margs\u001b[0m \u001b[0;32mis\u001b[0m \u001b[0;32mnot\u001b[0m \u001b[0;32mNone\u001b[0m\u001b[0;34m:\u001b[0m\u001b[0;34m\u001b[0m\u001b[0;34m\u001b[0m\u001b[0m\n",
      "\u001b[0;31mRuntimeError\u001b[0m: `bar` signature's parameter #2 (1-indexed) must be named y."
     ]
    }
   ],
   "source": [
    "@fit_func\n",
    "def bar(x, z, y, *args, **kwargs):\n",
    "    return x, y, z"
   ]
  },
  {
   "cell_type": "code",
   "execution_count": 207,
   "metadata": {
    "ExecuteTime": {
     "end_time": "2020-12-11T05:27:23.825293Z",
     "start_time": "2020-12-11T05:27:23.750750Z"
    }
   },
   "outputs": [
    {
     "ename": "RuntimeError",
     "evalue": "`bar` signature must  accept **kwargs.",
     "output_type": "error",
     "traceback": [
      "\u001b[0;31m---------------------------------------------------------------------------\u001b[0m",
      "\u001b[0;31mRuntimeError\u001b[0m                              Traceback (most recent call last)",
      "\u001b[0;32m<ipython-input-207-dd8630cb1611>\u001b[0m in \u001b[0;36m<module>\u001b[0;34m\u001b[0m\n\u001b[1;32m      1\u001b[0m \u001b[0;34m@\u001b[0m\u001b[0mfit_func\u001b[0m\u001b[0;34m\u001b[0m\u001b[0;34m\u001b[0m\u001b[0m\n\u001b[0;32m----> 2\u001b[0;31m \u001b[0;32mdef\u001b[0m \u001b[0mbar\u001b[0m\u001b[0;34m(\u001b[0m\u001b[0mx\u001b[0m\u001b[0;34m,\u001b[0m \u001b[0my\u001b[0m\u001b[0;34m=\u001b[0m\u001b[0;36m0\u001b[0m\u001b[0;34m,\u001b[0m \u001b[0mz\u001b[0m\u001b[0;34m=\u001b[0m\u001b[0;34m-\u001b[0m\u001b[0;36m2\u001b[0m\u001b[0;34m)\u001b[0m\u001b[0;34m:\u001b[0m\u001b[0;34m\u001b[0m\u001b[0;34m\u001b[0m\u001b[0m\n\u001b[0m\u001b[1;32m      3\u001b[0m     \u001b[0;32mreturn\u001b[0m \u001b[0mx\u001b[0m\u001b[0;34m,\u001b[0m \u001b[0my\u001b[0m\u001b[0;34m,\u001b[0m \u001b[0mz\u001b[0m\u001b[0;34m\u001b[0m\u001b[0;34m\u001b[0m\u001b[0m\n",
      "\u001b[0;32m<ipython-input-203-893690c878c0>\u001b[0m in \u001b[0;36mdecorator\u001b[0;34m(func)\u001b[0m\n\u001b[1;32m     46\u001b[0m             \u001b[0;32mif\u001b[0m \u001b[0mhas_kwargs\u001b[0m \u001b[0;34m!=\u001b[0m \u001b[0mkwargs\u001b[0m\u001b[0;34m:\u001b[0m\u001b[0;34m\u001b[0m\u001b[0;34m\u001b[0m\u001b[0m\n\u001b[1;32m     47\u001b[0m                 raise RuntimeError(\n\u001b[0;32m---> 48\u001b[0;31m                     \u001b[0;34mf'`{name}` signature must {\"\" if kwargs else \"not\"} '\u001b[0m\u001b[0;34m\u001b[0m\u001b[0;34m\u001b[0m\u001b[0m\n\u001b[0m\u001b[1;32m     49\u001b[0m                     \u001b[0;34m'accept **kwargs.'\u001b[0m\u001b[0;34m\u001b[0m\u001b[0;34m\u001b[0m\u001b[0m\n\u001b[1;32m     50\u001b[0m                 )\n",
      "\u001b[0;31mRuntimeError\u001b[0m: `bar` signature must  accept **kwargs."
     ]
    }
   ],
   "source": [
    "@fit_func\n",
    "def bar(x, y=0, z=-2):\n",
    "    return x, y, z"
   ]
  },
  {
   "cell_type": "code",
   "execution_count": null,
   "metadata": {},
   "outputs": [],
   "source": []
  },
  {
   "cell_type": "code",
   "execution_count": null,
   "metadata": {},
   "outputs": [],
   "source": []
  },
  {
   "cell_type": "code",
   "execution_count": null,
   "metadata": {},
   "outputs": [],
   "source": []
  },
  {
   "cell_type": "code",
   "execution_count": null,
   "metadata": {},
   "outputs": [],
   "source": []
  }
 ],
 "metadata": {
  "kernelspec": {
   "display_name": "Python 3",
   "language": "python",
   "name": "python3"
  },
  "language_info": {
   "codemirror_mode": {
    "name": "ipython",
    "version": 3
   },
   "file_extension": ".py",
   "mimetype": "text/x-python",
   "name": "python",
   "nbconvert_exporter": "python",
   "pygments_lexer": "ipython3",
   "version": "3.7.3"
  }
 },
 "nbformat": 4,
 "nbformat_minor": 2
}
