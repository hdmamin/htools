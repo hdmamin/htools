{
 "cells": [
  {
   "cell_type": "code",
   "execution_count": 401,
   "metadata": {
    "ExecuteTime": {
     "end_time": "2020-01-03T00:15:41.053254Z",
     "start_time": "2020-01-03T00:15:41.033935Z"
    }
   },
   "outputs": [
    {
     "name": "stdout",
     "output_type": "stream",
     "text": [
      "The autoreload extension is already loaded. To reload it, use:\n",
      "  %reload_ext autoreload\n"
     ]
    }
   ],
   "source": [
    "%load_ext autoreload\n",
    "%autoreload 2"
   ]
  },
  {
   "cell_type": "code",
   "execution_count": 402,
   "metadata": {
    "ExecuteTime": {
     "end_time": "2020-01-03T00:15:41.237497Z",
     "start_time": "2020-01-03T00:15:41.197523Z"
    }
   },
   "outputs": [],
   "source": [
    "from functools import wraps\n",
    "import inspect\n",
    "\n",
    "from htools import hdir, magics"
   ]
  },
  {
   "cell_type": "code",
   "execution_count": 418,
   "metadata": {
    "ExecuteTime": {
     "end_time": "2019-12-15T01:01:11.524990Z",
     "start_time": "2019-12-15T01:01:11.519659Z"
    }
   },
   "outputs": [],
   "source": [
    "def autoinit(cls):\n",
    "    def wrapped(*args, **kwargs):\n",
    "        bound = inspect.signature(cls.__init__)\n",
    "#         .bind(*args, **kwargs)\n",
    "        print(bound)\n",
    "#         for k, v in kwargs.items():\n",
    "#             setattr(cls, k, v)\n",
    "        return cls\n",
    "    return wrapped"
   ]
  },
  {
   "cell_type": "code",
   "execution_count": 419,
   "metadata": {
    "ExecuteTime": {
     "end_time": "2019-12-15T01:01:11.533027Z",
     "start_time": "2019-12-15T01:01:11.527735Z"
    }
   },
   "outputs": [],
   "source": [
    "@autoinit\n",
    "class Foo:\n",
    "    \n",
    "    def __init__(self, a, b, c=3, d='d', e=[1, 2, 3]):\n",
    "        pass"
   ]
  },
  {
   "cell_type": "code",
   "execution_count": 420,
   "metadata": {
    "ExecuteTime": {
     "end_time": "2019-12-15T01:01:11.603953Z",
     "start_time": "2019-12-15T01:01:11.538457Z"
    },
    "scrolled": true
   },
   "outputs": [
    {
     "name": "stdout",
     "output_type": "stream",
     "text": [
      "(self, a, b, c=3, d='d', e=[1, 2, 3])\n"
     ]
    },
    {
     "data": {
      "text/plain": [
       "__main__.Foo"
      ]
     },
     "execution_count": 420,
     "metadata": {},
     "output_type": "execute_result"
    }
   ],
   "source": [
    "f = Foo(1, 'b')\n",
    "f"
   ]
  },
  {
   "cell_type": "markdown",
   "metadata": {},
   "source": [
    "## decorator: enforce types"
   ]
  },
  {
   "cell_type": "code",
   "execution_count": 9,
   "metadata": {
    "ExecuteTime": {
     "end_time": "2019-12-15T01:01:28.226134Z",
     "start_time": "2019-12-15T01:01:28.220706Z"
    }
   },
   "outputs": [],
   "source": [
    "def typecheck(**types):\n",
    "    def decorator(func):\n",
    "        @wraps(func)\n",
    "        def wrapped(*args, **kwargs):\n",
    "            fargs = inspect.signature(wrapped).bind(*args, **kwargs).arguments\n",
    "            for k, v in types.items():\n",
    "                if k in fargs and not isinstance(fargs[k], v):\n",
    "                    raise TypeError(\n",
    "                        f'{k} must be {str(v)}, not {type(fargs[k])}.'\n",
    "                    )\n",
    "            return func(*args, **kwargs)\n",
    "        return wrapped\n",
    "    return decorator"
   ]
  },
  {
   "cell_type": "code",
   "execution_count": 10,
   "metadata": {
    "ExecuteTime": {
     "end_time": "2019-12-15T01:01:32.463754Z",
     "start_time": "2019-12-15T01:01:32.459008Z"
    }
   },
   "outputs": [],
   "source": [
    "class Bar:\n",
    "    \n",
    "    def __init__(self, a:int, b:str, c:list=[1,2,3,4], d:float=0.0):\n",
    "        self.a = a\n",
    "        self.b = b\n",
    "        self.c = c\n",
    "        self.d = d"
   ]
  },
  {
   "cell_type": "code",
   "execution_count": 11,
   "metadata": {
    "ExecuteTime": {
     "end_time": "2019-12-15T01:01:32.832047Z",
     "start_time": "2019-12-15T01:01:32.826848Z"
    }
   },
   "outputs": [],
   "source": [
    "dec = typecheck(a=int, b=float, c=str)\n",
    "dec(Bar.__init__)(Bar, a=1, b=2.0, c='3')"
   ]
  },
  {
   "cell_type": "code",
   "execution_count": 12,
   "metadata": {
    "ExecuteTime": {
     "end_time": "2019-12-15T01:01:33.705346Z",
     "start_time": "2019-12-15T01:01:33.699356Z"
    }
   },
   "outputs": [],
   "source": [
    "class Foo:\n",
    "    \n",
    "    @typecheck(a=int, b=str, c=int, e=list)\n",
    "    def __init__(self, a, b, c=3, d='d', e=[1, 2, 3]):\n",
    "        self.a = a\n",
    "        self.b = b\n",
    "        self.c = c\n",
    "        self.d = d\n",
    "        self.e = e\n",
    "        \n",
    "    @typecheck(x=(int, float))\n",
    "    def compute(self, x, label='abc'):\n",
    "        print(label)\n",
    "        return self.a * self.c / x"
   ]
  },
  {
   "cell_type": "code",
   "execution_count": 13,
   "metadata": {
    "ExecuteTime": {
     "end_time": "2019-12-15T01:01:34.494747Z",
     "start_time": "2019-12-15T01:01:34.490315Z"
    }
   },
   "outputs": [],
   "source": [
    "f = Foo(1, 'b', 6, e=[3, 4])"
   ]
  },
  {
   "cell_type": "code",
   "execution_count": 14,
   "metadata": {
    "ExecuteTime": {
     "end_time": "2019-12-15T01:01:35.021298Z",
     "start_time": "2019-12-15T01:01:35.006495Z"
    }
   },
   "outputs": [
    {
     "name": "stdout",
     "output_type": "stream",
     "text": [
      "abc\n",
      "0.42857142857142855\n",
      "4444\n",
      "2.0\n"
     ]
    },
    {
     "ename": "TypeError",
     "evalue": "x must be (<class 'int'>, <class 'float'>), not <class 'str'>.",
     "output_type": "error",
     "traceback": [
      "\u001b[0;31m---------------------------------------------------------------------------\u001b[0m",
      "\u001b[0;31mTypeError\u001b[0m                                 Traceback (most recent call last)",
      "\u001b[0;32m<ipython-input-14-787e543d1003>\u001b[0m in \u001b[0;36m<module>\u001b[0;34m\u001b[0m\n\u001b[1;32m      1\u001b[0m \u001b[0mprint\u001b[0m\u001b[0;34m(\u001b[0m\u001b[0mf\u001b[0m\u001b[0;34m.\u001b[0m\u001b[0mcompute\u001b[0m\u001b[0;34m(\u001b[0m\u001b[0;36m14\u001b[0m\u001b[0;34m)\u001b[0m\u001b[0;34m)\u001b[0m\u001b[0;34m\u001b[0m\u001b[0;34m\u001b[0m\u001b[0m\n\u001b[1;32m      2\u001b[0m \u001b[0mprint\u001b[0m\u001b[0;34m(\u001b[0m\u001b[0mf\u001b[0m\u001b[0;34m.\u001b[0m\u001b[0mcompute\u001b[0m\u001b[0;34m(\u001b[0m\u001b[0;36m3.0\u001b[0m\u001b[0;34m,\u001b[0m \u001b[0mlabel\u001b[0m\u001b[0;34m=\u001b[0m\u001b[0;36m4444\u001b[0m\u001b[0;34m)\u001b[0m\u001b[0;34m)\u001b[0m\u001b[0;34m\u001b[0m\u001b[0;34m\u001b[0m\u001b[0m\n\u001b[0;32m----> 3\u001b[0;31m \u001b[0mprint\u001b[0m\u001b[0;34m(\u001b[0m\u001b[0mf\u001b[0m\u001b[0;34m.\u001b[0m\u001b[0mcompute\u001b[0m\u001b[0;34m(\u001b[0m\u001b[0;34m'a'\u001b[0m\u001b[0;34m)\u001b[0m\u001b[0;34m)\u001b[0m\u001b[0;34m\u001b[0m\u001b[0;34m\u001b[0m\u001b[0m\n\u001b[0m",
      "\u001b[0;32m<ipython-input-9-d6776e0992af>\u001b[0m in \u001b[0;36mwrapped\u001b[0;34m(*args, **kwargs)\u001b[0m\n\u001b[1;32m      7\u001b[0m                 \u001b[0;32mif\u001b[0m \u001b[0mk\u001b[0m \u001b[0;32min\u001b[0m \u001b[0mfargs\u001b[0m \u001b[0;32mand\u001b[0m \u001b[0;32mnot\u001b[0m \u001b[0misinstance\u001b[0m\u001b[0;34m(\u001b[0m\u001b[0mfargs\u001b[0m\u001b[0;34m[\u001b[0m\u001b[0mk\u001b[0m\u001b[0;34m]\u001b[0m\u001b[0;34m,\u001b[0m \u001b[0mv\u001b[0m\u001b[0;34m)\u001b[0m\u001b[0;34m:\u001b[0m\u001b[0;34m\u001b[0m\u001b[0;34m\u001b[0m\u001b[0m\n\u001b[1;32m      8\u001b[0m                     raise TypeError(\n\u001b[0;32m----> 9\u001b[0;31m                         \u001b[0;34mf'{k} must be {str(v)}, not {type(fargs[k])}.'\u001b[0m\u001b[0;34m\u001b[0m\u001b[0;34m\u001b[0m\u001b[0m\n\u001b[0m\u001b[1;32m     10\u001b[0m                     )\n\u001b[1;32m     11\u001b[0m             \u001b[0;32mreturn\u001b[0m \u001b[0mfunc\u001b[0m\u001b[0;34m(\u001b[0m\u001b[0;34m*\u001b[0m\u001b[0margs\u001b[0m\u001b[0;34m,\u001b[0m \u001b[0;34m**\u001b[0m\u001b[0mkwargs\u001b[0m\u001b[0;34m)\u001b[0m\u001b[0;34m\u001b[0m\u001b[0;34m\u001b[0m\u001b[0m\n",
      "\u001b[0;31mTypeError\u001b[0m: x must be (<class 'int'>, <class 'float'>), not <class 'str'>."
     ]
    }
   ],
   "source": [
    "print(f.compute(14))\n",
    "print(f.compute(3.0, label=4444))\n",
    "print(f.compute('a'))"
   ]
  },
  {
   "cell_type": "code",
   "execution_count": 15,
   "metadata": {
    "ExecuteTime": {
     "end_time": "2019-12-15T01:01:37.382463Z",
     "start_time": "2019-12-15T01:01:37.377373Z"
    }
   },
   "outputs": [],
   "source": [
    "f = Foo(1, b='b', d=4)"
   ]
  },
  {
   "cell_type": "code",
   "execution_count": 16,
   "metadata": {
    "ExecuteTime": {
     "end_time": "2019-12-15T01:01:37.542796Z",
     "start_time": "2019-12-15T01:01:37.530318Z"
    },
    "scrolled": true
   },
   "outputs": [
    {
     "ename": "TypeError",
     "evalue": "c must be <class 'int'>, not <class 'list'>.",
     "output_type": "error",
     "traceback": [
      "\u001b[0;31m---------------------------------------------------------------------------\u001b[0m",
      "\u001b[0;31mTypeError\u001b[0m                                 Traceback (most recent call last)",
      "\u001b[0;32m<ipython-input-16-491c9c0d34c9>\u001b[0m in \u001b[0;36m<module>\u001b[0;34m\u001b[0m\n\u001b[0;32m----> 1\u001b[0;31m \u001b[0mf\u001b[0m \u001b[0;34m=\u001b[0m \u001b[0mFoo\u001b[0m\u001b[0;34m(\u001b[0m\u001b[0;36m1\u001b[0m\u001b[0;34m,\u001b[0m \u001b[0;34m'b'\u001b[0m\u001b[0;34m,\u001b[0m \u001b[0;34m[\u001b[0m\u001b[0;36m1\u001b[0m\u001b[0;34m,\u001b[0m\u001b[0;36m3\u001b[0m\u001b[0;34m]\u001b[0m\u001b[0;34m)\u001b[0m\u001b[0;34m\u001b[0m\u001b[0;34m\u001b[0m\u001b[0m\n\u001b[0m",
      "\u001b[0;32m<ipython-input-9-d6776e0992af>\u001b[0m in \u001b[0;36mwrapped\u001b[0;34m(*args, **kwargs)\u001b[0m\n\u001b[1;32m      7\u001b[0m                 \u001b[0;32mif\u001b[0m \u001b[0mk\u001b[0m \u001b[0;32min\u001b[0m \u001b[0mfargs\u001b[0m \u001b[0;32mand\u001b[0m \u001b[0;32mnot\u001b[0m \u001b[0misinstance\u001b[0m\u001b[0;34m(\u001b[0m\u001b[0mfargs\u001b[0m\u001b[0;34m[\u001b[0m\u001b[0mk\u001b[0m\u001b[0;34m]\u001b[0m\u001b[0;34m,\u001b[0m \u001b[0mv\u001b[0m\u001b[0;34m)\u001b[0m\u001b[0;34m:\u001b[0m\u001b[0;34m\u001b[0m\u001b[0;34m\u001b[0m\u001b[0m\n\u001b[1;32m      8\u001b[0m                     raise TypeError(\n\u001b[0;32m----> 9\u001b[0;31m                         \u001b[0;34mf'{k} must be {str(v)}, not {type(fargs[k])}.'\u001b[0m\u001b[0;34m\u001b[0m\u001b[0;34m\u001b[0m\u001b[0m\n\u001b[0m\u001b[1;32m     10\u001b[0m                     )\n\u001b[1;32m     11\u001b[0m             \u001b[0;32mreturn\u001b[0m \u001b[0mfunc\u001b[0m\u001b[0;34m(\u001b[0m\u001b[0;34m*\u001b[0m\u001b[0margs\u001b[0m\u001b[0;34m,\u001b[0m \u001b[0;34m**\u001b[0m\u001b[0mkwargs\u001b[0m\u001b[0;34m)\u001b[0m\u001b[0;34m\u001b[0m\u001b[0;34m\u001b[0m\u001b[0m\n",
      "\u001b[0;31mTypeError\u001b[0m: c must be <class 'int'>, not <class 'list'>."
     ]
    }
   ],
   "source": [
    "f = Foo(1, 'b', [1,3])"
   ]
  },
  {
   "cell_type": "markdown",
   "metadata": {},
   "source": [
    "## decorator: enforce type annotations"
   ]
  },
  {
   "cell_type": "code",
   "execution_count": 17,
   "metadata": {
    "ExecuteTime": {
     "end_time": "2019-12-15T01:01:39.753765Z",
     "start_time": "2019-12-15T01:01:39.744127Z"
    }
   },
   "outputs": [],
   "source": [
    "def enforce_types(func):\n",
    "    \"\"\"Wrapper for @typecheck decorator that infers types based off of \n",
    "    annotations.\n",
    "    \n",
    "    Parameters\n",
    "    ----------\n",
    "    func: function\n",
    "        The function to decorate.\n",
    "        \n",
    "    Examples\n",
    "    --------\n",
    "    In the example below, notice that type annotations can be a single type,\n",
    "    a tuple of types, or excluded entirely. Annotations regarding the returned\n",
    "    value are not checked.\n",
    "    \n",
    "    @enforce_types\n",
    "    def process(x:float, y:(int, float), z, iters:int=5, verbose:bool=True):\n",
    "        print(f'z = {z}')\n",
    "        for i in range(iters):\n",
    "            if verbose: print(f'Iteration {i}...')\n",
    "            x *= y\n",
    "        return x\n",
    "        \n",
    "    >>> process(3.1, 4.5, 0, 2.0)\n",
    "    TypeError: iters must be <class 'int'>, not <class 'float'>.\n",
    "    \n",
    "    >>> process(3.1, 4, 'a', 1, False)\n",
    "    z = a\n",
    "    12.4\n",
    "    \"\"\"\n",
    "    arg_types = {k: v.annotation \n",
    "                 for k, v in inspect.signature(func).parameters.items()\n",
    "                 if not v.annotation == inspect._empty}\n",
    "    return typecheck(**arg_types)(func)"
   ]
  },
  {
   "cell_type": "code",
   "execution_count": 18,
   "metadata": {
    "ExecuteTime": {
     "end_time": "2019-12-15T01:01:40.465695Z",
     "start_time": "2019-12-15T01:01:40.461329Z"
    }
   },
   "outputs": [],
   "source": [
    "@enforce_types\n",
    "def process(x:float, y:(int, float), z, iters:int=5, verbose:bool=True):\n",
    "    print(f'z = {z}')\n",
    "    for i in range(iters):\n",
    "        if verbose: print(f'Iteration {i}...')\n",
    "        x *= y\n",
    "    return x"
   ]
  },
  {
   "cell_type": "code",
   "execution_count": 19,
   "metadata": {
    "ExecuteTime": {
     "end_time": "2019-12-15T01:01:41.131891Z",
     "start_time": "2019-12-15T01:01:41.120675Z"
    }
   },
   "outputs": [
    {
     "ename": "TypeError",
     "evalue": "iters must be <class 'int'>, not <class 'float'>.",
     "output_type": "error",
     "traceback": [
      "\u001b[0;31m---------------------------------------------------------------------------\u001b[0m",
      "\u001b[0;31mTypeError\u001b[0m                                 Traceback (most recent call last)",
      "\u001b[0;32m<ipython-input-19-c60faa9c3526>\u001b[0m in \u001b[0;36m<module>\u001b[0;34m\u001b[0m\n\u001b[0;32m----> 1\u001b[0;31m \u001b[0mprocess\u001b[0m\u001b[0;34m(\u001b[0m\u001b[0;36m3.1\u001b[0m\u001b[0;34m,\u001b[0m \u001b[0;36m4\u001b[0m\u001b[0;34m,\u001b[0m \u001b[0;34m'a'\u001b[0m\u001b[0;34m,\u001b[0m \u001b[0;36m2.0\u001b[0m\u001b[0;34m)\u001b[0m\u001b[0;34m\u001b[0m\u001b[0;34m\u001b[0m\u001b[0m\n\u001b[0m",
      "\u001b[0;32m<ipython-input-9-d6776e0992af>\u001b[0m in \u001b[0;36mwrapped\u001b[0;34m(*args, **kwargs)\u001b[0m\n\u001b[1;32m      7\u001b[0m                 \u001b[0;32mif\u001b[0m \u001b[0mk\u001b[0m \u001b[0;32min\u001b[0m \u001b[0mfargs\u001b[0m \u001b[0;32mand\u001b[0m \u001b[0;32mnot\u001b[0m \u001b[0misinstance\u001b[0m\u001b[0;34m(\u001b[0m\u001b[0mfargs\u001b[0m\u001b[0;34m[\u001b[0m\u001b[0mk\u001b[0m\u001b[0;34m]\u001b[0m\u001b[0;34m,\u001b[0m \u001b[0mv\u001b[0m\u001b[0;34m)\u001b[0m\u001b[0;34m:\u001b[0m\u001b[0;34m\u001b[0m\u001b[0;34m\u001b[0m\u001b[0m\n\u001b[1;32m      8\u001b[0m                     raise TypeError(\n\u001b[0;32m----> 9\u001b[0;31m                         \u001b[0;34mf'{k} must be {str(v)}, not {type(fargs[k])}.'\u001b[0m\u001b[0;34m\u001b[0m\u001b[0;34m\u001b[0m\u001b[0m\n\u001b[0m\u001b[1;32m     10\u001b[0m                     )\n\u001b[1;32m     11\u001b[0m             \u001b[0;32mreturn\u001b[0m \u001b[0mfunc\u001b[0m\u001b[0;34m(\u001b[0m\u001b[0;34m*\u001b[0m\u001b[0margs\u001b[0m\u001b[0;34m,\u001b[0m \u001b[0;34m**\u001b[0m\u001b[0mkwargs\u001b[0m\u001b[0;34m)\u001b[0m\u001b[0;34m\u001b[0m\u001b[0;34m\u001b[0m\u001b[0m\n",
      "\u001b[0;31mTypeError\u001b[0m: iters must be <class 'int'>, not <class 'float'>."
     ]
    }
   ],
   "source": [
    "process(3.1, 4, 'a', 2.0)"
   ]
  },
  {
   "cell_type": "code",
   "execution_count": 20,
   "metadata": {
    "ExecuteTime": {
     "end_time": "2019-12-15T01:01:44.274838Z",
     "start_time": "2019-12-15T01:01:44.257439Z"
    }
   },
   "outputs": [
    {
     "name": "stdout",
     "output_type": "stream",
     "text": [
      "z = a\n"
     ]
    },
    {
     "data": {
      "text/plain": [
       "12.4"
      ]
     },
     "execution_count": 20,
     "metadata": {},
     "output_type": "execute_result"
    }
   ],
   "source": [
    "process(3.1, 4, 'a', 1, False)"
   ]
  },
  {
   "cell_type": "code",
   "execution_count": 22,
   "metadata": {
    "ExecuteTime": {
     "end_time": "2019-12-15T01:01:51.948185Z",
     "start_time": "2019-12-15T01:01:51.942261Z"
    }
   },
   "outputs": [],
   "source": [
    "@enforce_types\n",
    "def foobar(a:int, b:str, c:list, d:float=0.0, e:bool=False):\n",
    "    \"\"\"Return tuple of arguments.\"\"\"\n",
    "    return a, b, c, d, e"
   ]
  },
  {
   "cell_type": "code",
   "execution_count": 29,
   "metadata": {
    "ExecuteTime": {
     "end_time": "2019-12-15T01:02:03.012695Z",
     "start_time": "2019-12-15T01:02:03.003881Z"
    }
   },
   "outputs": [
    {
     "data": {
      "text/plain": [
       "(1, 'b', ['c'], 0.0, True)"
      ]
     },
     "execution_count": 29,
     "metadata": {},
     "output_type": "execute_result"
    }
   ],
   "source": [
    "foobar(1, 'b', ['c'], 0.0, True)"
   ]
  },
  {
   "cell_type": "code",
   "execution_count": 30,
   "metadata": {
    "ExecuteTime": {
     "end_time": "2019-12-15T01:02:03.216685Z",
     "start_time": "2019-12-15T01:02:03.204548Z"
    }
   },
   "outputs": [
    {
     "data": {
      "text/plain": [
       "(1, 'b', [1], 1.0, True)"
      ]
     },
     "execution_count": 30,
     "metadata": {},
     "output_type": "execute_result"
    }
   ],
   "source": [
    "foobar(a=1, b='b', c=[1], d=1.0, e=True)"
   ]
  },
  {
   "cell_type": "code",
   "execution_count": 31,
   "metadata": {
    "ExecuteTime": {
     "end_time": "2019-12-15T01:02:03.552811Z",
     "start_time": "2019-12-15T01:02:03.546244Z"
    }
   },
   "outputs": [
    {
     "data": {
      "text/plain": [
       "(1, 'b', [1], 1.0, True)"
      ]
     },
     "execution_count": 31,
     "metadata": {},
     "output_type": "execute_result"
    }
   ],
   "source": [
    "foobar(1, 'b', [1], d=1.0, e=True)"
   ]
  },
  {
   "cell_type": "code",
   "execution_count": 32,
   "metadata": {
    "ExecuteTime": {
     "end_time": "2019-12-15T01:02:05.448842Z",
     "start_time": "2019-12-15T01:02:05.436448Z"
    }
   },
   "outputs": [
    {
     "ename": "TypeError",
     "evalue": "d must be <class 'float'>, not <class 'bool'>.",
     "output_type": "error",
     "traceback": [
      "\u001b[0;31m---------------------------------------------------------------------------\u001b[0m",
      "\u001b[0;31mTypeError\u001b[0m                                 Traceback (most recent call last)",
      "\u001b[0;32m<ipython-input-32-922448e6430d>\u001b[0m in \u001b[0;36m<module>\u001b[0;34m\u001b[0m\n\u001b[0;32m----> 1\u001b[0;31m \u001b[0mfoobar\u001b[0m\u001b[0;34m(\u001b[0m\u001b[0ma\u001b[0m\u001b[0;34m=\u001b[0m\u001b[0;36m1\u001b[0m\u001b[0;34m,\u001b[0m \u001b[0mb\u001b[0m\u001b[0;34m=\u001b[0m\u001b[0;34m'b'\u001b[0m\u001b[0;34m,\u001b[0m \u001b[0mc\u001b[0m\u001b[0;34m=\u001b[0m\u001b[0;34m[\u001b[0m\u001b[0;36m1\u001b[0m\u001b[0;34m]\u001b[0m\u001b[0;34m,\u001b[0m \u001b[0md\u001b[0m\u001b[0;34m=\u001b[0m\u001b[0;32mFalse\u001b[0m\u001b[0;34m)\u001b[0m\u001b[0;34m\u001b[0m\u001b[0;34m\u001b[0m\u001b[0m\n\u001b[0m",
      "\u001b[0;32m<ipython-input-9-d6776e0992af>\u001b[0m in \u001b[0;36mwrapped\u001b[0;34m(*args, **kwargs)\u001b[0m\n\u001b[1;32m      7\u001b[0m                 \u001b[0;32mif\u001b[0m \u001b[0mk\u001b[0m \u001b[0;32min\u001b[0m \u001b[0mfargs\u001b[0m \u001b[0;32mand\u001b[0m \u001b[0;32mnot\u001b[0m \u001b[0misinstance\u001b[0m\u001b[0;34m(\u001b[0m\u001b[0mfargs\u001b[0m\u001b[0;34m[\u001b[0m\u001b[0mk\u001b[0m\u001b[0;34m]\u001b[0m\u001b[0;34m,\u001b[0m \u001b[0mv\u001b[0m\u001b[0;34m)\u001b[0m\u001b[0;34m:\u001b[0m\u001b[0;34m\u001b[0m\u001b[0;34m\u001b[0m\u001b[0m\n\u001b[1;32m      8\u001b[0m                     raise TypeError(\n\u001b[0;32m----> 9\u001b[0;31m                         \u001b[0;34mf'{k} must be {str(v)}, not {type(fargs[k])}.'\u001b[0m\u001b[0;34m\u001b[0m\u001b[0;34m\u001b[0m\u001b[0m\n\u001b[0m\u001b[1;32m     10\u001b[0m                     )\n\u001b[1;32m     11\u001b[0m             \u001b[0;32mreturn\u001b[0m \u001b[0mfunc\u001b[0m\u001b[0;34m(\u001b[0m\u001b[0;34m*\u001b[0m\u001b[0margs\u001b[0m\u001b[0;34m,\u001b[0m \u001b[0;34m**\u001b[0m\u001b[0mkwargs\u001b[0m\u001b[0;34m)\u001b[0m\u001b[0;34m\u001b[0m\u001b[0;34m\u001b[0m\u001b[0m\n",
      "\u001b[0;31mTypeError\u001b[0m: d must be <class 'float'>, not <class 'bool'>."
     ]
    }
   ],
   "source": [
    "foobar(a=1, b='b', c=[1], d=False)"
   ]
  },
  {
   "cell_type": "code",
   "execution_count": 33,
   "metadata": {
    "ExecuteTime": {
     "end_time": "2019-12-15T01:02:05.867006Z",
     "start_time": "2019-12-15T01:02:05.852248Z"
    }
   },
   "outputs": [
    {
     "ename": "TypeError",
     "evalue": "b must be <class 'str'>, not <class 'int'>.",
     "output_type": "error",
     "traceback": [
      "\u001b[0;31m---------------------------------------------------------------------------\u001b[0m",
      "\u001b[0;31mTypeError\u001b[0m                                 Traceback (most recent call last)",
      "\u001b[0;32m<ipython-input-33-a5ea4bbaed0d>\u001b[0m in \u001b[0;36m<module>\u001b[0;34m\u001b[0m\n\u001b[0;32m----> 1\u001b[0;31m \u001b[0mfoobar\u001b[0m\u001b[0;34m(\u001b[0m\u001b[0;36m1\u001b[0m\u001b[0;34m,\u001b[0m \u001b[0;36m2\u001b[0m\u001b[0;34m,\u001b[0m \u001b[0;34m[\u001b[0m\u001b[0;34m'c'\u001b[0m\u001b[0;34m]\u001b[0m\u001b[0;34m,\u001b[0m \u001b[0me\u001b[0m\u001b[0;34m=\u001b[0m\u001b[0;32mTrue\u001b[0m\u001b[0;34m)\u001b[0m\u001b[0;34m\u001b[0m\u001b[0;34m\u001b[0m\u001b[0m\n\u001b[0m",
      "\u001b[0;32m<ipython-input-9-d6776e0992af>\u001b[0m in \u001b[0;36mwrapped\u001b[0;34m(*args, **kwargs)\u001b[0m\n\u001b[1;32m      7\u001b[0m                 \u001b[0;32mif\u001b[0m \u001b[0mk\u001b[0m \u001b[0;32min\u001b[0m \u001b[0mfargs\u001b[0m \u001b[0;32mand\u001b[0m \u001b[0;32mnot\u001b[0m \u001b[0misinstance\u001b[0m\u001b[0;34m(\u001b[0m\u001b[0mfargs\u001b[0m\u001b[0;34m[\u001b[0m\u001b[0mk\u001b[0m\u001b[0;34m]\u001b[0m\u001b[0;34m,\u001b[0m \u001b[0mv\u001b[0m\u001b[0;34m)\u001b[0m\u001b[0;34m:\u001b[0m\u001b[0;34m\u001b[0m\u001b[0;34m\u001b[0m\u001b[0m\n\u001b[1;32m      8\u001b[0m                     raise TypeError(\n\u001b[0;32m----> 9\u001b[0;31m                         \u001b[0;34mf'{k} must be {str(v)}, not {type(fargs[k])}.'\u001b[0m\u001b[0;34m\u001b[0m\u001b[0;34m\u001b[0m\u001b[0m\n\u001b[0m\u001b[1;32m     10\u001b[0m                     )\n\u001b[1;32m     11\u001b[0m             \u001b[0;32mreturn\u001b[0m \u001b[0mfunc\u001b[0m\u001b[0;34m(\u001b[0m\u001b[0;34m*\u001b[0m\u001b[0margs\u001b[0m\u001b[0;34m,\u001b[0m \u001b[0;34m**\u001b[0m\u001b[0mkwargs\u001b[0m\u001b[0;34m)\u001b[0m\u001b[0;34m\u001b[0m\u001b[0;34m\u001b[0m\u001b[0m\n",
      "\u001b[0;31mTypeError\u001b[0m: b must be <class 'str'>, not <class 'int'>."
     ]
    }
   ],
   "source": [
    "foobar(1, 2, ['c'], e=True)"
   ]
  },
  {
   "cell_type": "code",
   "execution_count": 34,
   "metadata": {
    "ExecuteTime": {
     "end_time": "2019-12-15T01:02:07.810131Z",
     "start_time": "2019-12-15T01:02:07.791611Z"
    }
   },
   "outputs": [
    {
     "ename": "TypeError",
     "evalue": "c must be <class 'list'>, not <class 'str'>.",
     "output_type": "error",
     "traceback": [
      "\u001b[0;31m---------------------------------------------------------------------------\u001b[0m",
      "\u001b[0;31mTypeError\u001b[0m                                 Traceback (most recent call last)",
      "\u001b[0;32m<ipython-input-34-705a9260538d>\u001b[0m in \u001b[0;36m<module>\u001b[0;34m\u001b[0m\n\u001b[0;32m----> 1\u001b[0;31m \u001b[0mfoobar\u001b[0m\u001b[0;34m(\u001b[0m\u001b[0;36m1\u001b[0m\u001b[0;34m,\u001b[0m \u001b[0;34m'2'\u001b[0m\u001b[0;34m,\u001b[0m \u001b[0;34m'c'\u001b[0m\u001b[0;34m,\u001b[0m \u001b[0me\u001b[0m\u001b[0;34m=\u001b[0m\u001b[0;32mTrue\u001b[0m\u001b[0;34m)\u001b[0m\u001b[0;34m\u001b[0m\u001b[0;34m\u001b[0m\u001b[0m\n\u001b[0m",
      "\u001b[0;32m<ipython-input-9-d6776e0992af>\u001b[0m in \u001b[0;36mwrapped\u001b[0;34m(*args, **kwargs)\u001b[0m\n\u001b[1;32m      7\u001b[0m                 \u001b[0;32mif\u001b[0m \u001b[0mk\u001b[0m \u001b[0;32min\u001b[0m \u001b[0mfargs\u001b[0m \u001b[0;32mand\u001b[0m \u001b[0;32mnot\u001b[0m \u001b[0misinstance\u001b[0m\u001b[0;34m(\u001b[0m\u001b[0mfargs\u001b[0m\u001b[0;34m[\u001b[0m\u001b[0mk\u001b[0m\u001b[0;34m]\u001b[0m\u001b[0;34m,\u001b[0m \u001b[0mv\u001b[0m\u001b[0;34m)\u001b[0m\u001b[0;34m:\u001b[0m\u001b[0;34m\u001b[0m\u001b[0;34m\u001b[0m\u001b[0m\n\u001b[1;32m      8\u001b[0m                     raise TypeError(\n\u001b[0;32m----> 9\u001b[0;31m                         \u001b[0;34mf'{k} must be {str(v)}, not {type(fargs[k])}.'\u001b[0m\u001b[0;34m\u001b[0m\u001b[0;34m\u001b[0m\u001b[0m\n\u001b[0m\u001b[1;32m     10\u001b[0m                     )\n\u001b[1;32m     11\u001b[0m             \u001b[0;32mreturn\u001b[0m \u001b[0mfunc\u001b[0m\u001b[0;34m(\u001b[0m\u001b[0;34m*\u001b[0m\u001b[0margs\u001b[0m\u001b[0;34m,\u001b[0m \u001b[0;34m**\u001b[0m\u001b[0mkwargs\u001b[0m\u001b[0;34m)\u001b[0m\u001b[0;34m\u001b[0m\u001b[0;34m\u001b[0m\u001b[0m\n",
      "\u001b[0;31mTypeError\u001b[0m: c must be <class 'list'>, not <class 'str'>."
     ]
    }
   ],
   "source": [
    "foobar(1, '2', 'c', e=True)"
   ]
  },
  {
   "cell_type": "code",
   "execution_count": 91,
   "metadata": {
    "ExecuteTime": {
     "end_time": "2019-12-15T05:23:55.932608Z",
     "start_time": "2019-12-15T05:23:55.926458Z"
    }
   },
   "outputs": [],
   "source": [
    "class EnforceTypes:\n",
    "    \n",
    "    def __init__(self, func):\n",
    "        print('ET init')\n",
    "        self.func = func\n",
    "        self.arg_types = {k: v.annotation for k, v\n",
    "                          in inspect.signature(func).parameters.items()\n",
    "                          if not v.annotation == inspect._empty}\n",
    "        self.check = typecheck(**self.arg_types)\n",
    "        \n",
    "    def __call__(self, *args, **kwargs):\n",
    "        print('ET call')\n",
    "        return self.check(self.func)(*args, **kwargs)"
   ]
  },
  {
   "cell_type": "code",
   "execution_count": 92,
   "metadata": {
    "ExecuteTime": {
     "end_time": "2019-12-15T05:23:56.319041Z",
     "start_time": "2019-12-15T05:23:56.310516Z"
    }
   },
   "outputs": [
    {
     "name": "stdout",
     "output_type": "stream",
     "text": [
      "ET init\n"
     ]
    }
   ],
   "source": [
    "@EnforceTypes\n",
    "def foobar2(a:int, b:str, c:list, d:float=0.0, e:bool=False):\n",
    "    \"\"\"Return tuple of arguments.\"\"\"\n",
    "    return a, b, c, d, e"
   ]
  },
  {
   "cell_type": "code",
   "execution_count": 93,
   "metadata": {
    "ExecuteTime": {
     "end_time": "2019-12-15T05:23:56.753090Z",
     "start_time": "2019-12-15T05:23:56.742783Z"
    },
    "scrolled": true
   },
   "outputs": [
    {
     "name": "stdout",
     "output_type": "stream",
     "text": [
      "ET call\n"
     ]
    },
    {
     "data": {
      "text/plain": [
       "(1, 'b', [1, 3], 0.0, False)"
      ]
     },
     "execution_count": 93,
     "metadata": {},
     "output_type": "execute_result"
    }
   ],
   "source": [
    "foobar2(1, 'b', [1, 3])"
   ]
  },
  {
   "cell_type": "code",
   "execution_count": 94,
   "metadata": {
    "ExecuteTime": {
     "end_time": "2019-12-15T05:24:48.206079Z",
     "start_time": "2019-12-15T05:24:48.199123Z"
    }
   },
   "outputs": [
    {
     "name": "stdout",
     "output_type": "stream",
     "text": [
      "ET init\n",
      "ET init\n"
     ]
    }
   ],
   "source": [
    "class Foo:\n",
    "    \n",
    "    @EnforceTypes\n",
    "    def __init__(self, a, b, c=3, d='d', e=[1, 2, 3]):\n",
    "        self.a = a\n",
    "        self.b = b\n",
    "        self.c = c\n",
    "        self.d = d\n",
    "        self.e = e\n",
    "        \n",
    "    @EnforceTypes\n",
    "    def compute(self, x, label='abc'):\n",
    "        print(label)\n",
    "        return self.a * self.c / x"
   ]
  },
  {
   "cell_type": "code",
   "execution_count": 96,
   "metadata": {
    "ExecuteTime": {
     "end_time": "2019-12-15T05:25:12.014009Z",
     "start_time": "2019-12-15T05:25:11.995002Z"
    }
   },
   "outputs": [
    {
     "name": "stdout",
     "output_type": "stream",
     "text": [
      "ET call\n"
     ]
    },
    {
     "ename": "TypeError",
     "evalue": "missing a required argument: 'self'",
     "output_type": "error",
     "traceback": [
      "\u001b[0;31m---------------------------------------------------------------------------\u001b[0m",
      "\u001b[0;31mTypeError\u001b[0m                                 Traceback (most recent call last)",
      "\u001b[0;32m<ipython-input-96-82a42b9ed28a>\u001b[0m in \u001b[0;36m<module>\u001b[0;34m\u001b[0m\n\u001b[0;32m----> 1\u001b[0;31m \u001b[0mf\u001b[0m \u001b[0;34m=\u001b[0m \u001b[0mFoo\u001b[0m\u001b[0;34m(\u001b[0m\u001b[0ma\u001b[0m\u001b[0;34m=\u001b[0m\u001b[0;36m1\u001b[0m\u001b[0;34m,\u001b[0m \u001b[0mb\u001b[0m\u001b[0;34m=\u001b[0m\u001b[0;36m2\u001b[0m\u001b[0;34m)\u001b[0m\u001b[0;34m\u001b[0m\u001b[0;34m\u001b[0m\u001b[0m\n\u001b[0m",
      "\u001b[0;32m<ipython-input-91-df51df9c8ee2>\u001b[0m in \u001b[0;36m__call__\u001b[0;34m(self, *args, **kwargs)\u001b[0m\n\u001b[1;32m     11\u001b[0m     \u001b[0;32mdef\u001b[0m \u001b[0m__call__\u001b[0m\u001b[0;34m(\u001b[0m\u001b[0mself\u001b[0m\u001b[0;34m,\u001b[0m \u001b[0;34m*\u001b[0m\u001b[0margs\u001b[0m\u001b[0;34m,\u001b[0m \u001b[0;34m**\u001b[0m\u001b[0mkwargs\u001b[0m\u001b[0;34m)\u001b[0m\u001b[0;34m:\u001b[0m\u001b[0;34m\u001b[0m\u001b[0;34m\u001b[0m\u001b[0m\n\u001b[1;32m     12\u001b[0m         \u001b[0mprint\u001b[0m\u001b[0;34m(\u001b[0m\u001b[0;34m'ET call'\u001b[0m\u001b[0;34m)\u001b[0m\u001b[0;34m\u001b[0m\u001b[0;34m\u001b[0m\u001b[0m\n\u001b[0;32m---> 13\u001b[0;31m         \u001b[0;32mreturn\u001b[0m \u001b[0mself\u001b[0m\u001b[0;34m.\u001b[0m\u001b[0mcheck\u001b[0m\u001b[0;34m(\u001b[0m\u001b[0mself\u001b[0m\u001b[0;34m.\u001b[0m\u001b[0mfunc\u001b[0m\u001b[0;34m)\u001b[0m\u001b[0;34m(\u001b[0m\u001b[0;34m*\u001b[0m\u001b[0margs\u001b[0m\u001b[0;34m,\u001b[0m \u001b[0;34m**\u001b[0m\u001b[0mkwargs\u001b[0m\u001b[0;34m)\u001b[0m\u001b[0;34m\u001b[0m\u001b[0;34m\u001b[0m\u001b[0m\n\u001b[0m",
      "\u001b[0;32m<ipython-input-88-0b664be71101>\u001b[0m in \u001b[0;36mwrapped\u001b[0;34m(*args, **kwargs)\u001b[0m\n\u001b[1;32m      3\u001b[0m         \u001b[0;34m@\u001b[0m\u001b[0mwraps\u001b[0m\u001b[0;34m(\u001b[0m\u001b[0mfunc\u001b[0m\u001b[0;34m)\u001b[0m\u001b[0;34m\u001b[0m\u001b[0;34m\u001b[0m\u001b[0m\n\u001b[1;32m      4\u001b[0m         \u001b[0;32mdef\u001b[0m \u001b[0mwrapped\u001b[0m\u001b[0;34m(\u001b[0m\u001b[0;34m*\u001b[0m\u001b[0margs\u001b[0m\u001b[0;34m,\u001b[0m \u001b[0;34m**\u001b[0m\u001b[0mkwargs\u001b[0m\u001b[0;34m)\u001b[0m\u001b[0;34m:\u001b[0m\u001b[0;34m\u001b[0m\u001b[0;34m\u001b[0m\u001b[0m\n\u001b[0;32m----> 5\u001b[0;31m             \u001b[0mfargs\u001b[0m \u001b[0;34m=\u001b[0m \u001b[0minspect\u001b[0m\u001b[0;34m.\u001b[0m\u001b[0msignature\u001b[0m\u001b[0;34m(\u001b[0m\u001b[0mwrapped\u001b[0m\u001b[0;34m)\u001b[0m\u001b[0;34m.\u001b[0m\u001b[0mbind\u001b[0m\u001b[0;34m(\u001b[0m\u001b[0;34m*\u001b[0m\u001b[0margs\u001b[0m\u001b[0;34m,\u001b[0m \u001b[0;34m**\u001b[0m\u001b[0mkwargs\u001b[0m\u001b[0;34m)\u001b[0m\u001b[0;34m.\u001b[0m\u001b[0marguments\u001b[0m\u001b[0;34m\u001b[0m\u001b[0;34m\u001b[0m\u001b[0m\n\u001b[0m\u001b[1;32m      6\u001b[0m             \u001b[0;32mfor\u001b[0m \u001b[0mk\u001b[0m\u001b[0;34m,\u001b[0m \u001b[0mv\u001b[0m \u001b[0;32min\u001b[0m \u001b[0mtypes\u001b[0m\u001b[0;34m.\u001b[0m\u001b[0mitems\u001b[0m\u001b[0;34m(\u001b[0m\u001b[0;34m)\u001b[0m\u001b[0;34m:\u001b[0m\u001b[0;34m\u001b[0m\u001b[0;34m\u001b[0m\u001b[0m\n\u001b[1;32m      7\u001b[0m                 \u001b[0;32mif\u001b[0m \u001b[0mk\u001b[0m \u001b[0;32min\u001b[0m \u001b[0mfargs\u001b[0m \u001b[0;32mand\u001b[0m \u001b[0;32mnot\u001b[0m \u001b[0misinstance\u001b[0m\u001b[0;34m(\u001b[0m\u001b[0mfargs\u001b[0m\u001b[0;34m[\u001b[0m\u001b[0mk\u001b[0m\u001b[0;34m]\u001b[0m\u001b[0;34m,\u001b[0m \u001b[0mv\u001b[0m\u001b[0;34m)\u001b[0m\u001b[0;34m:\u001b[0m\u001b[0;34m\u001b[0m\u001b[0;34m\u001b[0m\u001b[0m\n",
      "\u001b[0;32m~/anaconda3/lib/python3.7/inspect.py\u001b[0m in \u001b[0;36mbind\u001b[0;34m(*args, **kwargs)\u001b[0m\n\u001b[1;32m   3013\u001b[0m         \u001b[0;32mif\u001b[0m \u001b[0mthe\u001b[0m \u001b[0mpassed\u001b[0m \u001b[0marguments\u001b[0m \u001b[0mcan\u001b[0m \u001b[0;32mnot\u001b[0m \u001b[0mbe\u001b[0m \u001b[0mbound\u001b[0m\u001b[0;34m.\u001b[0m\u001b[0;34m\u001b[0m\u001b[0;34m\u001b[0m\u001b[0m\n\u001b[1;32m   3014\u001b[0m         \"\"\"\n\u001b[0;32m-> 3015\u001b[0;31m         \u001b[0;32mreturn\u001b[0m \u001b[0margs\u001b[0m\u001b[0;34m[\u001b[0m\u001b[0;36m0\u001b[0m\u001b[0;34m]\u001b[0m\u001b[0;34m.\u001b[0m\u001b[0m_bind\u001b[0m\u001b[0;34m(\u001b[0m\u001b[0margs\u001b[0m\u001b[0;34m[\u001b[0m\u001b[0;36m1\u001b[0m\u001b[0;34m:\u001b[0m\u001b[0;34m]\u001b[0m\u001b[0;34m,\u001b[0m \u001b[0mkwargs\u001b[0m\u001b[0;34m)\u001b[0m\u001b[0;34m\u001b[0m\u001b[0;34m\u001b[0m\u001b[0m\n\u001b[0m\u001b[1;32m   3016\u001b[0m \u001b[0;34m\u001b[0m\u001b[0m\n\u001b[1;32m   3017\u001b[0m     \u001b[0;32mdef\u001b[0m \u001b[0mbind_partial\u001b[0m\u001b[0;34m(\u001b[0m\u001b[0;34m*\u001b[0m\u001b[0margs\u001b[0m\u001b[0;34m,\u001b[0m \u001b[0;34m**\u001b[0m\u001b[0mkwargs\u001b[0m\u001b[0;34m)\u001b[0m\u001b[0;34m:\u001b[0m\u001b[0;34m\u001b[0m\u001b[0;34m\u001b[0m\u001b[0m\n",
      "\u001b[0;32m~/anaconda3/lib/python3.7/inspect.py\u001b[0m in \u001b[0;36m_bind\u001b[0;34m(self, args, kwargs, partial)\u001b[0m\n\u001b[1;32m   2928\u001b[0m                             \u001b[0mmsg\u001b[0m \u001b[0;34m=\u001b[0m \u001b[0;34m'missing a required argument: {arg!r}'\u001b[0m\u001b[0;34m\u001b[0m\u001b[0;34m\u001b[0m\u001b[0m\n\u001b[1;32m   2929\u001b[0m                             \u001b[0mmsg\u001b[0m \u001b[0;34m=\u001b[0m \u001b[0mmsg\u001b[0m\u001b[0;34m.\u001b[0m\u001b[0mformat\u001b[0m\u001b[0;34m(\u001b[0m\u001b[0marg\u001b[0m\u001b[0;34m=\u001b[0m\u001b[0mparam\u001b[0m\u001b[0;34m.\u001b[0m\u001b[0mname\u001b[0m\u001b[0;34m)\u001b[0m\u001b[0;34m\u001b[0m\u001b[0;34m\u001b[0m\u001b[0m\n\u001b[0;32m-> 2930\u001b[0;31m                             \u001b[0;32mraise\u001b[0m \u001b[0mTypeError\u001b[0m\u001b[0;34m(\u001b[0m\u001b[0mmsg\u001b[0m\u001b[0;34m)\u001b[0m \u001b[0;32mfrom\u001b[0m \u001b[0;32mNone\u001b[0m\u001b[0;34m\u001b[0m\u001b[0;34m\u001b[0m\u001b[0m\n\u001b[0m\u001b[1;32m   2931\u001b[0m             \u001b[0;32melse\u001b[0m\u001b[0;34m:\u001b[0m\u001b[0;34m\u001b[0m\u001b[0;34m\u001b[0m\u001b[0m\n\u001b[1;32m   2932\u001b[0m                 \u001b[0;31m# We have a positional argument to process\u001b[0m\u001b[0;34m\u001b[0m\u001b[0;34m\u001b[0m\u001b[0;34m\u001b[0m\u001b[0m\n",
      "\u001b[0;31mTypeError\u001b[0m: missing a required argument: 'self'"
     ]
    }
   ],
   "source": [
    "f = Foo(a=1, b=2)"
   ]
  },
  {
   "cell_type": "code",
   "execution_count": 87,
   "metadata": {
    "ExecuteTime": {
     "end_time": "2019-12-15T05:23:07.568081Z",
     "start_time": "2019-12-15T05:23:07.564119Z"
    }
   },
   "outputs": [],
   "source": [
    "%%race -n 100 -r 100\n",
    "_ = foobar(a=1, b='b', c=[1], d=1.0, e=True)\n",
    "_ = foobar2(a=1, b='b', c=[1], d=1.0, e=True)"
   ]
  },
  {
   "cell_type": "code",
   "execution_count": 39,
   "metadata": {
    "ExecuteTime": {
     "end_time": "2019-12-15T01:02:15.384693Z",
     "start_time": "2019-12-15T01:02:14.710099Z"
    }
   },
   "outputs": [
    {
     "name": "stdout",
     "output_type": "stream",
     "text": [
      "The slowest run took 4.89 times longer than the fastest. This could mean that an intermediate result is being cached.\n",
      "31.2 µs ± 14 µs per loop (mean ± std. dev. of 100 runs, 100 loops each)\n",
      "33.8 µs ± 7 µs per loop (mean ± std. dev. of 100 runs, 100 loops each)\n"
     ]
    }
   ],
   "source": [
    "%%race -n 100 -r 100\n",
    "_ = foobar(1, 'b', c=[1], e=True)\n",
    "_ = foobar2(1, 'b', c=[1], e=True)"
   ]
  },
  {
   "cell_type": "markdown",
   "metadata": {},
   "source": [
    "## Try to combine into 1 decorator that can be called with or without parens"
   ]
  },
  {
   "cell_type": "code",
   "execution_count": 101,
   "metadata": {
    "ExecuteTime": {
     "end_time": "2019-12-15T05:57:47.040604Z",
     "start_time": "2019-12-15T05:57:47.034567Z"
    }
   },
   "outputs": [],
   "source": [
    "def f(func=None, **kwargs):\n",
    "    if func:\n",
    "        print(func)\n",
    "    else:\n",
    "        print('no func')"
   ]
  },
  {
   "cell_type": "code",
   "execution_count": 102,
   "metadata": {
    "ExecuteTime": {
     "end_time": "2019-12-15T05:57:47.299453Z",
     "start_time": "2019-12-15T05:57:47.293681Z"
    }
   },
   "outputs": [
    {
     "name": "stdout",
     "output_type": "stream",
     "text": [
      "<built-in function print>\n"
     ]
    }
   ],
   "source": [
    "f(print)"
   ]
  },
  {
   "cell_type": "code",
   "execution_count": 109,
   "metadata": {
    "ExecuteTime": {
     "end_time": "2019-12-15T06:05:22.726924Z",
     "start_time": "2019-12-15T06:05:22.723873Z"
    }
   },
   "outputs": [],
   "source": [
    "from functools import partial"
   ]
  },
  {
   "cell_type": "code",
   "execution_count": 276,
   "metadata": {
    "ExecuteTime": {
     "end_time": "2019-12-15T07:55:18.477541Z",
     "start_time": "2019-12-15T07:55:18.469047Z"
    }
   },
   "outputs": [],
   "source": [
    "def typecheck(func_=None, **types):\n",
    "    \"\"\"\n",
    "    Parameters\n",
    "    ----------\n",
    "    func_: function\n",
    "        The function to decorate. When using decorator with \n",
    "        manually-specified types, this is None. Underscore is used so that\n",
    "        `func` can still be used as a valid keyword argument for the wrapped \n",
    "        function.\n",
    "    types: type\n",
    "        Optional way to specify variable types.\n",
    "        \n",
    "    Examples\n",
    "    --------\n",
    "    In the first example, we specify types directly in the decorator. Notice\n",
    "    that they can be single types or tuples of types. You can choose to \n",
    "    specify types for all arguments or just a subset.\n",
    "    \n",
    "    @typecheck(x=float, y=(int, float), iters=int, verbose=bool)\n",
    "    def process(x, y, z, iters=5, verbose=True):\n",
    "        print(f'z = {z}')\n",
    "        for i in range(iters):\n",
    "            if verbose: print(f'Iteration {i}...')\n",
    "            x *= y\n",
    "        return x\n",
    "    \n",
    "    >>> process(3.1, 4.5, 0, 2.0)\n",
    "    TypeError: iters must be <class 'int'>, not <class 'float'>.\n",
    "    \n",
    "    >>> process(3.1, 4, 'a', 1, False)\n",
    "    z = a\n",
    "    12.4\n",
    "    \n",
    "    Alternatively, you can let the decorator infer types using annotations\n",
    "    in the function that is to be decorated. The example below behaves \n",
    "    equivalently to the explicit example shown above. Note that annotations\n",
    "    regarding the returned value are ignored.\n",
    "    \n",
    "    @typecheck\n",
    "    def process(x:float, y:(int, float), z, iters:int=5, verbose:bool=True):\n",
    "        print(f'z = {z}')\n",
    "        for i in range(iters):\n",
    "            if verbose: print(f'Iteration {i}...')\n",
    "            x *= y\n",
    "        return x\n",
    "        \n",
    "    >>> process(3.1, 4.5, 0, 2.0)\n",
    "    TypeError: iters must be <class 'int'>, not <class 'float'>.\n",
    "    \n",
    "    >>> process(3.1, 4, 'a', 1, False)\n",
    "    z = a\n",
    "    12.4\n",
    "    \"\"\"\n",
    "    # Case 1: Pass keyword args to decorator specifying types.\n",
    "    if not func_:\n",
    "        return partial(typecheck, **types)\n",
    "    # Case 2: Infer types from annotations. Skip if Case 1 already occurred.\n",
    "    elif not types:\n",
    "        types = {k: v.annotation \n",
    "                 for k, v in inspect.signature(func_).parameters.items()\n",
    "                 if not v.annotation == inspect._empty}\n",
    "    \n",
    "    @wraps(func_)\n",
    "    def wrapped(*args, **kwargs):\n",
    "        fargs = inspect.signature(wrapped).bind(*args, **kwargs).arguments\n",
    "        for k, v in types.items():\n",
    "            if k in fargs and not isinstance(fargs[k], v):\n",
    "                raise TypeError(\n",
    "                    f'{k} must be {str(v)}, not {type(fargs[k])}.'\n",
    "                )\n",
    "        return func_(*args, **kwargs)\n",
    "    return wrapped"
   ]
  },
  {
   "cell_type": "code",
   "execution_count": 277,
   "metadata": {
    "ExecuteTime": {
     "end_time": "2019-12-15T07:56:22.418099Z",
     "start_time": "2019-12-15T07:56:22.413571Z"
    }
   },
   "outputs": [],
   "source": [
    "@typecheck(x=float, y=(int, float), iters=int, verbose=bool)\n",
    "def process(x, y, z, iters=5, verbose=True):\n",
    "    \"\"\"Process docstring.\"\"\"\n",
    "    print(f'z = {z}')\n",
    "    for i in range(iters):\n",
    "        if verbose: print(f'Iteration {i}...')\n",
    "        x *= y\n",
    "    return x"
   ]
  },
  {
   "cell_type": "code",
   "execution_count": 278,
   "metadata": {
    "ExecuteTime": {
     "end_time": "2019-12-15T07:56:29.803659Z",
     "start_time": "2019-12-15T07:56:29.799053Z"
    }
   },
   "outputs": [
    {
     "data": {
      "text/plain": [
       "'Process docstring.'"
      ]
     },
     "execution_count": 278,
     "metadata": {},
     "output_type": "execute_result"
    }
   ],
   "source": [
    "process.__doc__"
   ]
  },
  {
   "cell_type": "code",
   "execution_count": 275,
   "metadata": {
    "ExecuteTime": {
     "end_time": "2019-12-15T07:51:03.735616Z",
     "start_time": "2019-12-15T07:51:03.729432Z"
    }
   },
   "outputs": [
    {
     "name": "stdout",
     "output_type": "stream",
     "text": [
      "z = a\n"
     ]
    },
    {
     "data": {
      "text/plain": [
       "12.4"
      ]
     },
     "execution_count": 275,
     "metadata": {},
     "output_type": "execute_result"
    }
   ],
   "source": [
    "process(3.1, 4, 'a', 1, False)"
   ]
  },
  {
   "cell_type": "code",
   "execution_count": 274,
   "metadata": {
    "ExecuteTime": {
     "end_time": "2019-12-15T07:49:51.351689Z",
     "start_time": "2019-12-15T07:49:51.339521Z"
    }
   },
   "outputs": [
    {
     "ename": "TypeError",
     "evalue": "iters must be <class 'int'>, not <class 'float'>.",
     "output_type": "error",
     "traceback": [
      "\u001b[0;31m---------------------------------------------------------------------------\u001b[0m",
      "\u001b[0;31mTypeError\u001b[0m                                 Traceback (most recent call last)",
      "\u001b[0;32m<ipython-input-274-46a147700ab5>\u001b[0m in \u001b[0;36m<module>\u001b[0;34m\u001b[0m\n\u001b[0;32m----> 1\u001b[0;31m \u001b[0mprocess\u001b[0m\u001b[0;34m(\u001b[0m\u001b[0;36m3.1\u001b[0m\u001b[0;34m,\u001b[0m \u001b[0;36m4.5\u001b[0m\u001b[0;34m,\u001b[0m \u001b[0;36m0\u001b[0m\u001b[0;34m,\u001b[0m \u001b[0;36m2.0\u001b[0m\u001b[0;34m)\u001b[0m\u001b[0;34m\u001b[0m\u001b[0;34m\u001b[0m\u001b[0m\n\u001b[0m",
      "\u001b[0;32m<ipython-input-251-ffb265f20a16>\u001b[0m in \u001b[0;36mwrapped\u001b[0;34m(*args, **kwargs)\u001b[0m\n\u001b[1;32m     15\u001b[0m             \u001b[0;32mif\u001b[0m \u001b[0mk\u001b[0m \u001b[0;32min\u001b[0m \u001b[0mfargs\u001b[0m \u001b[0;32mand\u001b[0m \u001b[0;32mnot\u001b[0m \u001b[0misinstance\u001b[0m\u001b[0;34m(\u001b[0m\u001b[0mfargs\u001b[0m\u001b[0;34m[\u001b[0m\u001b[0mk\u001b[0m\u001b[0;34m]\u001b[0m\u001b[0;34m,\u001b[0m \u001b[0mv\u001b[0m\u001b[0;34m)\u001b[0m\u001b[0;34m:\u001b[0m\u001b[0;34m\u001b[0m\u001b[0;34m\u001b[0m\u001b[0m\n\u001b[1;32m     16\u001b[0m                 raise TypeError(\n\u001b[0;32m---> 17\u001b[0;31m                     \u001b[0;34mf'{k} must be {str(v)}, not {type(fargs[k])}.'\u001b[0m\u001b[0;34m\u001b[0m\u001b[0;34m\u001b[0m\u001b[0m\n\u001b[0m\u001b[1;32m     18\u001b[0m                 )\n\u001b[1;32m     19\u001b[0m         \u001b[0;32mreturn\u001b[0m \u001b[0mfunc\u001b[0m\u001b[0;34m(\u001b[0m\u001b[0;34m*\u001b[0m\u001b[0margs\u001b[0m\u001b[0;34m,\u001b[0m \u001b[0;34m**\u001b[0m\u001b[0mkwargs\u001b[0m\u001b[0;34m)\u001b[0m\u001b[0;34m\u001b[0m\u001b[0;34m\u001b[0m\u001b[0m\n",
      "\u001b[0;31mTypeError\u001b[0m: iters must be <class 'int'>, not <class 'float'>."
     ]
    }
   ],
   "source": [
    "process(3.1, 4.5, 0, 2.0)"
   ]
  },
  {
   "cell_type": "code",
   "execution_count": 252,
   "metadata": {
    "ExecuteTime": {
     "end_time": "2019-12-15T07:37:20.300694Z",
     "start_time": "2019-12-15T07:37:20.296513Z"
    }
   },
   "outputs": [],
   "source": [
    "@typecheck(a=int, c=str, d=list)\n",
    "def foo3(a, b=3, c='d', d=[1, 2, 3]):\n",
    "    return d, c, b, a"
   ]
  },
  {
   "cell_type": "code",
   "execution_count": 255,
   "metadata": {
    "ExecuteTime": {
     "end_time": "2019-12-15T07:39:07.766537Z",
     "start_time": "2019-12-15T07:39:07.753508Z"
    }
   },
   "outputs": [
    {
     "data": {
      "text/plain": [
       "([1, 2, 3], 'd', 3, 2)"
      ]
     },
     "execution_count": 255,
     "metadata": {},
     "output_type": "execute_result"
    }
   ],
   "source": [
    "foo3(2)"
   ]
  },
  {
   "cell_type": "code",
   "execution_count": 257,
   "metadata": {
    "ExecuteTime": {
     "end_time": "2019-12-15T07:39:19.565939Z",
     "start_time": "2019-12-15T07:39:19.554156Z"
    }
   },
   "outputs": [
    {
     "ename": "TypeError",
     "evalue": "a must be <class 'int'>, not <class 'float'>.",
     "output_type": "error",
     "traceback": [
      "\u001b[0;31m---------------------------------------------------------------------------\u001b[0m",
      "\u001b[0;31mTypeError\u001b[0m                                 Traceback (most recent call last)",
      "\u001b[0;32m<ipython-input-257-54070aca5400>\u001b[0m in \u001b[0;36m<module>\u001b[0;34m\u001b[0m\n\u001b[0;32m----> 1\u001b[0;31m \u001b[0mfoo3\u001b[0m\u001b[0;34m(\u001b[0m\u001b[0;36m2.0\u001b[0m\u001b[0;34m)\u001b[0m\u001b[0;34m\u001b[0m\u001b[0;34m\u001b[0m\u001b[0m\n\u001b[0m",
      "\u001b[0;32m<ipython-input-251-ffb265f20a16>\u001b[0m in \u001b[0;36mwrapped\u001b[0;34m(*args, **kwargs)\u001b[0m\n\u001b[1;32m     15\u001b[0m             \u001b[0;32mif\u001b[0m \u001b[0mk\u001b[0m \u001b[0;32min\u001b[0m \u001b[0mfargs\u001b[0m \u001b[0;32mand\u001b[0m \u001b[0;32mnot\u001b[0m \u001b[0misinstance\u001b[0m\u001b[0;34m(\u001b[0m\u001b[0mfargs\u001b[0m\u001b[0;34m[\u001b[0m\u001b[0mk\u001b[0m\u001b[0;34m]\u001b[0m\u001b[0;34m,\u001b[0m \u001b[0mv\u001b[0m\u001b[0;34m)\u001b[0m\u001b[0;34m:\u001b[0m\u001b[0;34m\u001b[0m\u001b[0;34m\u001b[0m\u001b[0m\n\u001b[1;32m     16\u001b[0m                 raise TypeError(\n\u001b[0;32m---> 17\u001b[0;31m                     \u001b[0;34mf'{k} must be {str(v)}, not {type(fargs[k])}.'\u001b[0m\u001b[0;34m\u001b[0m\u001b[0;34m\u001b[0m\u001b[0m\n\u001b[0m\u001b[1;32m     18\u001b[0m                 )\n\u001b[1;32m     19\u001b[0m         \u001b[0;32mreturn\u001b[0m \u001b[0mfunc\u001b[0m\u001b[0;34m(\u001b[0m\u001b[0;34m*\u001b[0m\u001b[0margs\u001b[0m\u001b[0;34m,\u001b[0m \u001b[0;34m**\u001b[0m\u001b[0mkwargs\u001b[0m\u001b[0;34m)\u001b[0m\u001b[0;34m\u001b[0m\u001b[0;34m\u001b[0m\u001b[0m\n",
      "\u001b[0;31mTypeError\u001b[0m: a must be <class 'int'>, not <class 'float'>."
     ]
    }
   ],
   "source": [
    "foo3(2.0)"
   ]
  },
  {
   "cell_type": "code",
   "execution_count": 258,
   "metadata": {
    "ExecuteTime": {
     "end_time": "2019-12-15T07:39:48.926399Z",
     "start_time": "2019-12-15T07:39:48.915217Z"
    }
   },
   "outputs": [
    {
     "ename": "TypeError",
     "evalue": "c must be <class 'str'>, not <class 'int'>.",
     "output_type": "error",
     "traceback": [
      "\u001b[0;31m---------------------------------------------------------------------------\u001b[0m",
      "\u001b[0;31mTypeError\u001b[0m                                 Traceback (most recent call last)",
      "\u001b[0;32m<ipython-input-258-422ceea2e770>\u001b[0m in \u001b[0;36m<module>\u001b[0;34m\u001b[0m\n\u001b[0;32m----> 1\u001b[0;31m \u001b[0mfoo3\u001b[0m\u001b[0;34m(\u001b[0m\u001b[0;36m1\u001b[0m\u001b[0;34m,\u001b[0m \u001b[0;34m'a'\u001b[0m\u001b[0;34m,\u001b[0m \u001b[0;36m0\u001b[0m\u001b[0;34m)\u001b[0m\u001b[0;34m\u001b[0m\u001b[0;34m\u001b[0m\u001b[0m\n\u001b[0m",
      "\u001b[0;32m<ipython-input-251-ffb265f20a16>\u001b[0m in \u001b[0;36mwrapped\u001b[0;34m(*args, **kwargs)\u001b[0m\n\u001b[1;32m     15\u001b[0m             \u001b[0;32mif\u001b[0m \u001b[0mk\u001b[0m \u001b[0;32min\u001b[0m \u001b[0mfargs\u001b[0m \u001b[0;32mand\u001b[0m \u001b[0;32mnot\u001b[0m \u001b[0misinstance\u001b[0m\u001b[0;34m(\u001b[0m\u001b[0mfargs\u001b[0m\u001b[0;34m[\u001b[0m\u001b[0mk\u001b[0m\u001b[0;34m]\u001b[0m\u001b[0;34m,\u001b[0m \u001b[0mv\u001b[0m\u001b[0;34m)\u001b[0m\u001b[0;34m:\u001b[0m\u001b[0;34m\u001b[0m\u001b[0;34m\u001b[0m\u001b[0m\n\u001b[1;32m     16\u001b[0m                 raise TypeError(\n\u001b[0;32m---> 17\u001b[0;31m                     \u001b[0;34mf'{k} must be {str(v)}, not {type(fargs[k])}.'\u001b[0m\u001b[0;34m\u001b[0m\u001b[0;34m\u001b[0m\u001b[0m\n\u001b[0m\u001b[1;32m     18\u001b[0m                 )\n\u001b[1;32m     19\u001b[0m         \u001b[0;32mreturn\u001b[0m \u001b[0mfunc\u001b[0m\u001b[0;34m(\u001b[0m\u001b[0;34m*\u001b[0m\u001b[0margs\u001b[0m\u001b[0;34m,\u001b[0m \u001b[0;34m**\u001b[0m\u001b[0mkwargs\u001b[0m\u001b[0;34m)\u001b[0m\u001b[0;34m\u001b[0m\u001b[0;34m\u001b[0m\u001b[0m\n",
      "\u001b[0;31mTypeError\u001b[0m: c must be <class 'str'>, not <class 'int'>."
     ]
    }
   ],
   "source": [
    "foo3(1, 'a', 0)"
   ]
  },
  {
   "cell_type": "code",
   "execution_count": 259,
   "metadata": {
    "ExecuteTime": {
     "end_time": "2019-12-15T07:40:07.351182Z",
     "start_time": "2019-12-15T07:40:07.344821Z"
    }
   },
   "outputs": [
    {
     "data": {
      "text/plain": [
       "([9], 'c', 4.0, 1)"
      ]
     },
     "execution_count": 259,
     "metadata": {},
     "output_type": "execute_result"
    }
   ],
   "source": [
    "foo3(1, 4.0, c='c', d=[9])"
   ]
  },
  {
   "cell_type": "code",
   "execution_count": 260,
   "metadata": {
    "ExecuteTime": {
     "end_time": "2019-12-15T07:40:17.454739Z",
     "start_time": "2019-12-15T07:40:17.450672Z"
    }
   },
   "outputs": [],
   "source": [
    "@typecheck(b=(int, float), c=str)\n",
    "def foo4(a, b=3, c='d', d=[1, 2, 3]):\n",
    "    return d, c, b, a"
   ]
  },
  {
   "cell_type": "code",
   "execution_count": 261,
   "metadata": {
    "ExecuteTime": {
     "end_time": "2019-12-15T07:40:21.367744Z",
     "start_time": "2019-12-15T07:40:21.362179Z"
    }
   },
   "outputs": [
    {
     "data": {
      "text/plain": [
       "([1, 2, 3], 'd', 3, 'a')"
      ]
     },
     "execution_count": 261,
     "metadata": {},
     "output_type": "execute_result"
    }
   ],
   "source": [
    "foo4('a')"
   ]
  },
  {
   "cell_type": "code",
   "execution_count": 262,
   "metadata": {
    "ExecuteTime": {
     "end_time": "2019-12-15T07:40:27.695321Z",
     "start_time": "2019-12-15T07:40:27.689398Z"
    }
   },
   "outputs": [
    {
     "data": {
      "text/plain": [
       "([1, 2, 3], 'd', 2.0, 3)"
      ]
     },
     "execution_count": 262,
     "metadata": {},
     "output_type": "execute_result"
    }
   ],
   "source": [
    "foo4(3, 2.0)"
   ]
  },
  {
   "cell_type": "code",
   "execution_count": 263,
   "metadata": {
    "ExecuteTime": {
     "end_time": "2019-12-15T07:40:35.795456Z",
     "start_time": "2019-12-15T07:40:35.791382Z"
    }
   },
   "outputs": [],
   "source": [
    "@typecheck\n",
    "def foo5(a:int, b=3, c:str='d', d:list=[1, 2, 3]):\n",
    "    return d, c, b, a"
   ]
  },
  {
   "cell_type": "code",
   "execution_count": 264,
   "metadata": {
    "ExecuteTime": {
     "end_time": "2019-12-15T07:40:37.265108Z",
     "start_time": "2019-12-15T07:40:37.259643Z"
    }
   },
   "outputs": [
    {
     "data": {
      "text/plain": [
       "([1, 2, 3], 'd', 3, 1)"
      ]
     },
     "execution_count": 264,
     "metadata": {},
     "output_type": "execute_result"
    }
   ],
   "source": [
    "foo5(1)"
   ]
  },
  {
   "cell_type": "code",
   "execution_count": 265,
   "metadata": {
    "ExecuteTime": {
     "end_time": "2019-12-15T07:40:44.931321Z",
     "start_time": "2019-12-15T07:40:44.904659Z"
    }
   },
   "outputs": [
    {
     "ename": "TypeError",
     "evalue": "a must be <class 'int'>, not <class 'str'>.",
     "output_type": "error",
     "traceback": [
      "\u001b[0;31m---------------------------------------------------------------------------\u001b[0m",
      "\u001b[0;31mTypeError\u001b[0m                                 Traceback (most recent call last)",
      "\u001b[0;32m<ipython-input-265-5e45fe70c688>\u001b[0m in \u001b[0;36m<module>\u001b[0;34m\u001b[0m\n\u001b[0;32m----> 1\u001b[0;31m \u001b[0mfoo5\u001b[0m\u001b[0;34m(\u001b[0m\u001b[0;34m'a'\u001b[0m\u001b[0;34m)\u001b[0m\u001b[0;34m\u001b[0m\u001b[0;34m\u001b[0m\u001b[0m\n\u001b[0m",
      "\u001b[0;32m<ipython-input-251-ffb265f20a16>\u001b[0m in \u001b[0;36mwrapped\u001b[0;34m(*args, **kwargs)\u001b[0m\n\u001b[1;32m     15\u001b[0m             \u001b[0;32mif\u001b[0m \u001b[0mk\u001b[0m \u001b[0;32min\u001b[0m \u001b[0mfargs\u001b[0m \u001b[0;32mand\u001b[0m \u001b[0;32mnot\u001b[0m \u001b[0misinstance\u001b[0m\u001b[0;34m(\u001b[0m\u001b[0mfargs\u001b[0m\u001b[0;34m[\u001b[0m\u001b[0mk\u001b[0m\u001b[0;34m]\u001b[0m\u001b[0;34m,\u001b[0m \u001b[0mv\u001b[0m\u001b[0;34m)\u001b[0m\u001b[0;34m:\u001b[0m\u001b[0;34m\u001b[0m\u001b[0;34m\u001b[0m\u001b[0m\n\u001b[1;32m     16\u001b[0m                 raise TypeError(\n\u001b[0;32m---> 17\u001b[0;31m                     \u001b[0;34mf'{k} must be {str(v)}, not {type(fargs[k])}.'\u001b[0m\u001b[0;34m\u001b[0m\u001b[0;34m\u001b[0m\u001b[0m\n\u001b[0m\u001b[1;32m     18\u001b[0m                 )\n\u001b[1;32m     19\u001b[0m         \u001b[0;32mreturn\u001b[0m \u001b[0mfunc\u001b[0m\u001b[0;34m(\u001b[0m\u001b[0;34m*\u001b[0m\u001b[0margs\u001b[0m\u001b[0;34m,\u001b[0m \u001b[0;34m**\u001b[0m\u001b[0mkwargs\u001b[0m\u001b[0;34m)\u001b[0m\u001b[0;34m\u001b[0m\u001b[0;34m\u001b[0m\u001b[0m\n",
      "\u001b[0;31mTypeError\u001b[0m: a must be <class 'int'>, not <class 'str'>."
     ]
    }
   ],
   "source": [
    "foo5('a')"
   ]
  },
  {
   "cell_type": "code",
   "execution_count": 266,
   "metadata": {
    "ExecuteTime": {
     "end_time": "2019-12-15T07:41:29.847618Z",
     "start_time": "2019-12-15T07:41:29.843547Z"
    }
   },
   "outputs": [],
   "source": [
    "@typecheck\n",
    "def foo5(a:str, b=3, c:(int, float)=4.0, d=[1, 2, 3]):\n",
    "    return d, c, b, a"
   ]
  },
  {
   "cell_type": "code",
   "execution_count": 267,
   "metadata": {
    "ExecuteTime": {
     "end_time": "2019-12-15T07:41:40.128034Z",
     "start_time": "2019-12-15T07:41:40.122917Z"
    }
   },
   "outputs": [
    {
     "data": {
      "text/plain": [
       "([1, 2, 3], 4.0, 3, 'a')"
      ]
     },
     "execution_count": 267,
     "metadata": {},
     "output_type": "execute_result"
    }
   ],
   "source": [
    "foo5(a='a')"
   ]
  },
  {
   "cell_type": "code",
   "execution_count": 268,
   "metadata": {
    "ExecuteTime": {
     "end_time": "2019-12-15T07:41:55.994923Z",
     "start_time": "2019-12-15T07:41:55.989724Z"
    }
   },
   "outputs": [
    {
     "data": {
      "text/plain": [
       "(0, 9, 33, 'a')"
      ]
     },
     "execution_count": 268,
     "metadata": {},
     "output_type": "execute_result"
    }
   ],
   "source": [
    "foo5('a', 33, c=9, d=0)"
   ]
  },
  {
   "cell_type": "code",
   "execution_count": 269,
   "metadata": {
    "ExecuteTime": {
     "end_time": "2019-12-15T07:42:10.741900Z",
     "start_time": "2019-12-15T07:42:10.721394Z"
    }
   },
   "outputs": [
    {
     "ename": "TypeError",
     "evalue": "c must be (<class 'int'>, <class 'float'>), not <class 'str'>.",
     "output_type": "error",
     "traceback": [
      "\u001b[0;31m---------------------------------------------------------------------------\u001b[0m",
      "\u001b[0;31mTypeError\u001b[0m                                 Traceback (most recent call last)",
      "\u001b[0;32m<ipython-input-269-69fbd95eb953>\u001b[0m in \u001b[0;36m<module>\u001b[0;34m\u001b[0m\n\u001b[0;32m----> 1\u001b[0;31m \u001b[0mfoo5\u001b[0m\u001b[0;34m(\u001b[0m\u001b[0;34m'a'\u001b[0m\u001b[0;34m,\u001b[0m \u001b[0;34m'b'\u001b[0m\u001b[0;34m,\u001b[0m \u001b[0;34m'c'\u001b[0m\u001b[0;34m,\u001b[0m \u001b[0;34m'd'\u001b[0m\u001b[0;34m)\u001b[0m\u001b[0;34m\u001b[0m\u001b[0;34m\u001b[0m\u001b[0m\n\u001b[0m",
      "\u001b[0;32m<ipython-input-251-ffb265f20a16>\u001b[0m in \u001b[0;36mwrapped\u001b[0;34m(*args, **kwargs)\u001b[0m\n\u001b[1;32m     15\u001b[0m             \u001b[0;32mif\u001b[0m \u001b[0mk\u001b[0m \u001b[0;32min\u001b[0m \u001b[0mfargs\u001b[0m \u001b[0;32mand\u001b[0m \u001b[0;32mnot\u001b[0m \u001b[0misinstance\u001b[0m\u001b[0;34m(\u001b[0m\u001b[0mfargs\u001b[0m\u001b[0;34m[\u001b[0m\u001b[0mk\u001b[0m\u001b[0;34m]\u001b[0m\u001b[0;34m,\u001b[0m \u001b[0mv\u001b[0m\u001b[0;34m)\u001b[0m\u001b[0;34m:\u001b[0m\u001b[0;34m\u001b[0m\u001b[0;34m\u001b[0m\u001b[0m\n\u001b[1;32m     16\u001b[0m                 raise TypeError(\n\u001b[0;32m---> 17\u001b[0;31m                     \u001b[0;34mf'{k} must be {str(v)}, not {type(fargs[k])}.'\u001b[0m\u001b[0;34m\u001b[0m\u001b[0;34m\u001b[0m\u001b[0m\n\u001b[0m\u001b[1;32m     18\u001b[0m                 )\n\u001b[1;32m     19\u001b[0m         \u001b[0;32mreturn\u001b[0m \u001b[0mfunc\u001b[0m\u001b[0;34m(\u001b[0m\u001b[0;34m*\u001b[0m\u001b[0margs\u001b[0m\u001b[0;34m,\u001b[0m \u001b[0;34m**\u001b[0m\u001b[0mkwargs\u001b[0m\u001b[0;34m)\u001b[0m\u001b[0;34m\u001b[0m\u001b[0;34m\u001b[0m\u001b[0m\n",
      "\u001b[0;31mTypeError\u001b[0m: c must be (<class 'int'>, <class 'float'>), not <class 'str'>."
     ]
    }
   ],
   "source": [
    "foo5('a', 'b', 'c', 'd')"
   ]
  },
  {
   "cell_type": "code",
   "execution_count": 291,
   "metadata": {
    "ExecuteTime": {
     "end_time": "2019-12-15T07:59:04.876761Z",
     "start_time": "2019-12-15T07:59:04.842628Z"
    }
   },
   "outputs": [],
   "source": [
    "class Foo:\n",
    "    \n",
    "    @typecheck\n",
    "    def __init__(self, a:str, b:int, c:(int, float)=3, d='d', e:list=[1, 2, 3]):\n",
    "        self.a = a\n",
    "        self.b = b\n",
    "        self.c = c\n",
    "        self.d = d\n",
    "        self.e = e\n",
    "        \n",
    "    @typecheck(x=int, label=str)\n",
    "    def compute(self, x, label='abc'):\n",
    "        print(label)\n",
    "        return self.b * self.c / x"
   ]
  },
  {
   "cell_type": "code",
   "execution_count": 293,
   "metadata": {
    "ExecuteTime": {
     "end_time": "2019-12-15T07:59:10.912321Z",
     "start_time": "2019-12-15T07:59:10.908236Z"
    }
   },
   "outputs": [],
   "source": [
    "f = Foo('a', 3, 33)"
   ]
  },
  {
   "cell_type": "code",
   "execution_count": 294,
   "metadata": {
    "ExecuteTime": {
     "end_time": "2019-12-15T07:59:14.825414Z",
     "start_time": "2019-12-15T07:59:14.818476Z"
    }
   },
   "outputs": [
    {
     "name": "stdout",
     "output_type": "stream",
     "text": [
      "a\n"
     ]
    },
    {
     "data": {
      "text/plain": [
       "49.5"
      ]
     },
     "execution_count": 294,
     "metadata": {},
     "output_type": "execute_result"
    }
   ],
   "source": [
    "f.compute(2, 'a')"
   ]
  },
  {
   "cell_type": "code",
   "execution_count": 295,
   "metadata": {
    "ExecuteTime": {
     "end_time": "2019-12-15T07:59:35.644413Z",
     "start_time": "2019-12-15T07:59:35.631830Z"
    }
   },
   "outputs": [
    {
     "ename": "TypeError",
     "evalue": "e must be <class 'list'>, not <class 'bool'>.",
     "output_type": "error",
     "traceback": [
      "\u001b[0;31m---------------------------------------------------------------------------\u001b[0m",
      "\u001b[0;31mTypeError\u001b[0m                                 Traceback (most recent call last)",
      "\u001b[0;32m<ipython-input-295-6cfdf515bd14>\u001b[0m in \u001b[0;36m<module>\u001b[0;34m\u001b[0m\n\u001b[0;32m----> 1\u001b[0;31m \u001b[0mf\u001b[0m \u001b[0;34m=\u001b[0m \u001b[0mFoo\u001b[0m\u001b[0;34m(\u001b[0m\u001b[0;34m'a'\u001b[0m\u001b[0;34m,\u001b[0m \u001b[0;36m0\u001b[0m\u001b[0;34m,\u001b[0m \u001b[0md\u001b[0m\u001b[0;34m=\u001b[0m\u001b[0;32mTrue\u001b[0m\u001b[0;34m,\u001b[0m \u001b[0me\u001b[0m\u001b[0;34m=\u001b[0m\u001b[0;32mFalse\u001b[0m\u001b[0;34m)\u001b[0m\u001b[0;34m\u001b[0m\u001b[0;34m\u001b[0m\u001b[0m\n\u001b[0m",
      "\u001b[0;32m<ipython-input-276-7f5ba11dcc49>\u001b[0m in \u001b[0;36mwrapped\u001b[0;34m(*args, **kwargs)\u001b[0m\n\u001b[1;32m     67\u001b[0m             \u001b[0;32mif\u001b[0m \u001b[0mk\u001b[0m \u001b[0;32min\u001b[0m \u001b[0mfargs\u001b[0m \u001b[0;32mand\u001b[0m \u001b[0;32mnot\u001b[0m \u001b[0misinstance\u001b[0m\u001b[0;34m(\u001b[0m\u001b[0mfargs\u001b[0m\u001b[0;34m[\u001b[0m\u001b[0mk\u001b[0m\u001b[0;34m]\u001b[0m\u001b[0;34m,\u001b[0m \u001b[0mv\u001b[0m\u001b[0;34m)\u001b[0m\u001b[0;34m:\u001b[0m\u001b[0;34m\u001b[0m\u001b[0;34m\u001b[0m\u001b[0m\n\u001b[1;32m     68\u001b[0m                 raise TypeError(\n\u001b[0;32m---> 69\u001b[0;31m                     \u001b[0;34mf'{k} must be {str(v)}, not {type(fargs[k])}.'\u001b[0m\u001b[0;34m\u001b[0m\u001b[0;34m\u001b[0m\u001b[0m\n\u001b[0m\u001b[1;32m     70\u001b[0m                 )\n\u001b[1;32m     71\u001b[0m         \u001b[0;32mreturn\u001b[0m \u001b[0mfunc_\u001b[0m\u001b[0;34m(\u001b[0m\u001b[0;34m*\u001b[0m\u001b[0margs\u001b[0m\u001b[0;34m,\u001b[0m \u001b[0;34m**\u001b[0m\u001b[0mkwargs\u001b[0m\u001b[0;34m)\u001b[0m\u001b[0;34m\u001b[0m\u001b[0;34m\u001b[0m\u001b[0m\n",
      "\u001b[0;31mTypeError\u001b[0m: e must be <class 'list'>, not <class 'bool'>."
     ]
    }
   ],
   "source": [
    "f = Foo('a', 0, d=True, e=False)"
   ]
  },
  {
   "cell_type": "code",
   "execution_count": null,
   "metadata": {
    "ExecuteTime": {
     "end_time": "2019-12-15T08:01:33.138928Z",
     "start_time": "2019-12-15T08:01:33.128454Z"
    }
   },
   "outputs": [],
   "source": [
    "# Just thinking through call process, basically pseudocode.\n",
    "\n",
    "# Explicit types. First pass in types to create decorator, then call on func, then call wrapped func.\n",
    "# dec = typecheck(a=int, b=str)  \n",
    "# decorated = dec(func)  \n",
    "# decorated(*args, **kwargs)  \n",
    "\n",
    "# Inferred types. First pass func to typecheck, then call on args and kwargs. \n",
    "# decorated = typecheck(func)  \n",
    "# decorated(*args, **kwargs)  "
   ]
  },
  {
   "cell_type": "code",
   "execution_count": 299,
   "metadata": {
    "ExecuteTime": {
     "end_time": "2019-12-15T22:45:49.913636Z",
     "start_time": "2019-12-15T22:45:49.903548Z"
    }
   },
   "outputs": [],
   "source": [
    "from typing import List"
   ]
  },
  {
   "cell_type": "code",
   "execution_count": 302,
   "metadata": {
    "ExecuteTime": {
     "end_time": "2019-12-15T22:46:15.553254Z",
     "start_time": "2019-12-15T22:46:15.540508Z"
    }
   },
   "outputs": [
    {
     "ename": "TypeError",
     "evalue": "Subscripted generics cannot be used with class and instance checks",
     "output_type": "error",
     "traceback": [
      "\u001b[0;31m---------------------------------------------------------------------------\u001b[0m",
      "\u001b[0;31mTypeError\u001b[0m                                 Traceback (most recent call last)",
      "\u001b[0;32m<ipython-input-302-980154a56109>\u001b[0m in \u001b[0;36m<module>\u001b[0;34m\u001b[0m\n\u001b[0;32m----> 1\u001b[0;31m \u001b[0misinstance\u001b[0m\u001b[0;34m(\u001b[0m\u001b[0;34m[\u001b[0m\u001b[0;34m'a'\u001b[0m\u001b[0;34m,\u001b[0m \u001b[0;34m'b'\u001b[0m\u001b[0;34m]\u001b[0m\u001b[0;34m,\u001b[0m \u001b[0mList\u001b[0m\u001b[0;34m[\u001b[0m\u001b[0mstr\u001b[0m\u001b[0;34m]\u001b[0m\u001b[0;34m)\u001b[0m\u001b[0;34m\u001b[0m\u001b[0;34m\u001b[0m\u001b[0m\n\u001b[0m",
      "\u001b[0;32m~/anaconda3/lib/python3.7/typing.py\u001b[0m in \u001b[0;36m__instancecheck__\u001b[0;34m(self, obj)\u001b[0m\n\u001b[1;32m    706\u001b[0m \u001b[0;34m\u001b[0m\u001b[0m\n\u001b[1;32m    707\u001b[0m     \u001b[0;32mdef\u001b[0m \u001b[0m__instancecheck__\u001b[0m\u001b[0;34m(\u001b[0m\u001b[0mself\u001b[0m\u001b[0;34m,\u001b[0m \u001b[0mobj\u001b[0m\u001b[0;34m)\u001b[0m\u001b[0;34m:\u001b[0m\u001b[0;34m\u001b[0m\u001b[0;34m\u001b[0m\u001b[0m\n\u001b[0;32m--> 708\u001b[0;31m         \u001b[0;32mreturn\u001b[0m \u001b[0mself\u001b[0m\u001b[0;34m.\u001b[0m\u001b[0m__subclasscheck__\u001b[0m\u001b[0;34m(\u001b[0m\u001b[0mtype\u001b[0m\u001b[0;34m(\u001b[0m\u001b[0mobj\u001b[0m\u001b[0;34m)\u001b[0m\u001b[0;34m)\u001b[0m\u001b[0;34m\u001b[0m\u001b[0;34m\u001b[0m\u001b[0m\n\u001b[0m\u001b[1;32m    709\u001b[0m \u001b[0;34m\u001b[0m\u001b[0m\n\u001b[1;32m    710\u001b[0m     \u001b[0;32mdef\u001b[0m \u001b[0m__subclasscheck__\u001b[0m\u001b[0;34m(\u001b[0m\u001b[0mself\u001b[0m\u001b[0;34m,\u001b[0m \u001b[0mcls\u001b[0m\u001b[0;34m)\u001b[0m\u001b[0;34m:\u001b[0m\u001b[0;34m\u001b[0m\u001b[0;34m\u001b[0m\u001b[0m\n",
      "\u001b[0;32m~/anaconda3/lib/python3.7/typing.py\u001b[0m in \u001b[0;36m__subclasscheck__\u001b[0;34m(self, cls)\u001b[0m\n\u001b[1;32m    714\u001b[0m             \u001b[0;32mif\u001b[0m \u001b[0mcls\u001b[0m\u001b[0;34m.\u001b[0m\u001b[0m_special\u001b[0m\u001b[0;34m:\u001b[0m\u001b[0;34m\u001b[0m\u001b[0;34m\u001b[0m\u001b[0m\n\u001b[1;32m    715\u001b[0m                 \u001b[0;32mreturn\u001b[0m \u001b[0missubclass\u001b[0m\u001b[0;34m(\u001b[0m\u001b[0mcls\u001b[0m\u001b[0;34m.\u001b[0m\u001b[0m__origin__\u001b[0m\u001b[0;34m,\u001b[0m \u001b[0mself\u001b[0m\u001b[0;34m.\u001b[0m\u001b[0m__origin__\u001b[0m\u001b[0;34m)\u001b[0m\u001b[0;34m\u001b[0m\u001b[0;34m\u001b[0m\u001b[0m\n\u001b[0;32m--> 716\u001b[0;31m         raise TypeError(\"Subscripted generics cannot be used with\"\n\u001b[0m\u001b[1;32m    717\u001b[0m                         \" class and instance checks\")\n\u001b[1;32m    718\u001b[0m \u001b[0;34m\u001b[0m\u001b[0m\n",
      "\u001b[0;31mTypeError\u001b[0m: Subscripted generics cannot be used with class and instance checks"
     ]
    }
   ],
   "source": [
    "isinstance(['a', 'b'], List[str])"
   ]
  },
  {
   "cell_type": "code",
   "execution_count": 344,
   "metadata": {
    "ExecuteTime": {
     "end_time": "2019-12-15T23:21:57.513526Z",
     "start_time": "2019-12-15T23:21:57.508921Z"
    }
   },
   "outputs": [],
   "source": [
    "# Book example\n",
    "class OrderedMeta(type):\n",
    "    def __new__(cls, clsname, bases, clsdict):\n",
    "        d = dict(clsdict)\n",
    "        print(cls, clsname, bases, clsdict)\n",
    "        order = []\n",
    "        for name, value in cls.__init__.__code__.co_varnames:\n",
    "            print(name, value)\n",
    "#             if isinstance(value, (int, str, float, bool)): continue\n",
    "#             value._name = name\n",
    "#             order.append(name)\n",
    "#         d['_order'] = order\n",
    "        return type.__new__(cls, clsname, bases, d)"
   ]
  },
  {
   "cell_type": "code",
   "execution_count": 345,
   "metadata": {
    "ExecuteTime": {
     "end_time": "2019-12-15T23:21:58.231974Z",
     "start_time": "2019-12-15T23:21:58.216420Z"
    }
   },
   "outputs": [
    {
     "name": "stdout",
     "output_type": "stream",
     "text": [
      "<class '__main__.OrderedMeta'> Structure () {'__module__': '__main__', '__qualname__': 'Structure', 'as_csv': <function Structure.as_csv at 0x10b556730>}\n"
     ]
    },
    {
     "ename": "AttributeError",
     "evalue": "'wrapper_descriptor' object has no attribute '__code__'",
     "output_type": "error",
     "traceback": [
      "\u001b[0;31m---------------------------------------------------------------------------\u001b[0m",
      "\u001b[0;31mAttributeError\u001b[0m                            Traceback (most recent call last)",
      "\u001b[0;32m<ipython-input-345-419739ec1ae5>\u001b[0m in \u001b[0;36m<module>\u001b[0;34m\u001b[0m\n\u001b[0;32m----> 1\u001b[0;31m \u001b[0;32mclass\u001b[0m \u001b[0mStructure\u001b[0m\u001b[0;34m(\u001b[0m\u001b[0mmetaclass\u001b[0m\u001b[0;34m=\u001b[0m\u001b[0mOrderedMeta\u001b[0m\u001b[0;34m)\u001b[0m\u001b[0;34m:\u001b[0m\u001b[0;34m\u001b[0m\u001b[0;34m\u001b[0m\u001b[0m\n\u001b[0m\u001b[1;32m      2\u001b[0m     \u001b[0;32mdef\u001b[0m \u001b[0mas_csv\u001b[0m\u001b[0;34m(\u001b[0m\u001b[0mself\u001b[0m\u001b[0;34m)\u001b[0m\u001b[0;34m:\u001b[0m\u001b[0;34m\u001b[0m\u001b[0;34m\u001b[0m\u001b[0m\n\u001b[1;32m      3\u001b[0m         \u001b[0mprint\u001b[0m\u001b[0;34m(\u001b[0m\u001b[0;34m'IN AS_CSV'\u001b[0m\u001b[0;34m)\u001b[0m\u001b[0;34m\u001b[0m\u001b[0;34m\u001b[0m\u001b[0m\n\u001b[1;32m      4\u001b[0m         \u001b[0;32mreturn\u001b[0m \u001b[0;34m','\u001b[0m\u001b[0;34m.\u001b[0m\u001b[0mjoin\u001b[0m\u001b[0;34m(\u001b[0m\u001b[0mstr\u001b[0m\u001b[0;34m(\u001b[0m\u001b[0mgetattr\u001b[0m\u001b[0;34m(\u001b[0m\u001b[0mself\u001b[0m\u001b[0;34m,\u001b[0m\u001b[0mname\u001b[0m\u001b[0;34m)\u001b[0m\u001b[0;34m)\u001b[0m \u001b[0;32mfor\u001b[0m \u001b[0mname\u001b[0m \u001b[0;32min\u001b[0m \u001b[0mself\u001b[0m\u001b[0;34m.\u001b[0m\u001b[0m_order\u001b[0m\u001b[0;34m)\u001b[0m\u001b[0;34m\u001b[0m\u001b[0;34m\u001b[0m\u001b[0m\n",
      "\u001b[0;32m<ipython-input-344-ddf49cf8eee5>\u001b[0m in \u001b[0;36m__new__\u001b[0;34m(cls, clsname, bases, clsdict)\u001b[0m\n\u001b[1;32m      4\u001b[0m         \u001b[0mprint\u001b[0m\u001b[0;34m(\u001b[0m\u001b[0mcls\u001b[0m\u001b[0;34m,\u001b[0m \u001b[0mclsname\u001b[0m\u001b[0;34m,\u001b[0m \u001b[0mbases\u001b[0m\u001b[0;34m,\u001b[0m \u001b[0mclsdict\u001b[0m\u001b[0;34m)\u001b[0m\u001b[0;34m\u001b[0m\u001b[0;34m\u001b[0m\u001b[0m\n\u001b[1;32m      5\u001b[0m         \u001b[0morder\u001b[0m \u001b[0;34m=\u001b[0m \u001b[0;34m[\u001b[0m\u001b[0;34m]\u001b[0m\u001b[0;34m\u001b[0m\u001b[0;34m\u001b[0m\u001b[0m\n\u001b[0;32m----> 6\u001b[0;31m         \u001b[0;32mfor\u001b[0m \u001b[0mname\u001b[0m\u001b[0;34m,\u001b[0m \u001b[0mvalue\u001b[0m \u001b[0;32min\u001b[0m \u001b[0mcls\u001b[0m\u001b[0;34m.\u001b[0m\u001b[0m__init__\u001b[0m\u001b[0;34m.\u001b[0m\u001b[0m__code__\u001b[0m\u001b[0;34m.\u001b[0m\u001b[0mco_varnames\u001b[0m\u001b[0;34m:\u001b[0m\u001b[0;34m\u001b[0m\u001b[0;34m\u001b[0m\u001b[0m\n\u001b[0m\u001b[1;32m      7\u001b[0m             \u001b[0mprint\u001b[0m\u001b[0;34m(\u001b[0m\u001b[0mname\u001b[0m\u001b[0;34m,\u001b[0m \u001b[0mvalue\u001b[0m\u001b[0;34m)\u001b[0m\u001b[0;34m\u001b[0m\u001b[0;34m\u001b[0m\u001b[0m\n\u001b[1;32m      8\u001b[0m \u001b[0;31m#             if isinstance(value, (int, str, float, bool)): continue\u001b[0m\u001b[0;34m\u001b[0m\u001b[0;34m\u001b[0m\u001b[0;34m\u001b[0m\u001b[0m\n",
      "\u001b[0;31mAttributeError\u001b[0m: 'wrapper_descriptor' object has no attribute '__code__'"
     ]
    }
   ],
   "source": [
    "# Book example\n",
    "class Structure(metaclass=OrderedMeta):\n",
    "    def as_csv(self):\n",
    "        print('IN AS_CSV')    \n",
    "        return ','.join(str(getattr(self,name)) for name in self._order)"
   ]
  },
  {
   "cell_type": "code",
   "execution_count": 340,
   "metadata": {
    "ExecuteTime": {
     "end_time": "2019-12-15T23:21:15.568983Z",
     "start_time": "2019-12-15T23:21:15.563533Z"
    }
   },
   "outputs": [
    {
     "name": "stdout",
     "output_type": "stream",
     "text": [
      "<class '__main__.OrderedMeta'> Stock (<class '__main__.Structure'>,) {'__module__': '__main__', '__qualname__': 'Stock', 'x': 3, '__init__': <function Stock.__init__ at 0x10b45ad08>}\n"
     ]
    }
   ],
   "source": [
    "# Example use\n",
    "class Stock(Structure):\n",
    "    x = 3\n",
    "    def __init__(self, name, shares, price):\n",
    "        self.name = name\n",
    "        self.shares = shares\n",
    "        self.price = price"
   ]
  },
  {
   "cell_type": "code",
   "execution_count": 341,
   "metadata": {
    "ExecuteTime": {
     "end_time": "2019-12-15T23:21:18.260044Z",
     "start_time": "2019-12-15T23:21:18.256788Z"
    }
   },
   "outputs": [],
   "source": [
    "s = Stock('n', 's', 'p')"
   ]
  },
  {
   "cell_type": "code",
   "execution_count": 342,
   "metadata": {
    "ExecuteTime": {
     "end_time": "2019-12-15T23:21:18.798159Z",
     "start_time": "2019-12-15T23:21:18.792972Z"
    }
   },
   "outputs": [
    {
     "data": {
      "text/plain": [
       "{'as_csv': 'method',\n",
       " 'name': 'attribute',\n",
       " 'price': 'attribute',\n",
       " 'shares': 'attribute',\n",
       " 'x': 'attribute'}"
      ]
     },
     "execution_count": 342,
     "metadata": {},
     "output_type": "execute_result"
    }
   ],
   "source": [
    "hdir(s)"
   ]
  },
  {
   "cell_type": "code",
   "execution_count": 343,
   "metadata": {
    "ExecuteTime": {
     "end_time": "2019-12-15T23:21:19.811831Z",
     "start_time": "2019-12-15T23:21:19.797484Z"
    }
   },
   "outputs": [
    {
     "name": "stdout",
     "output_type": "stream",
     "text": [
      "IN AS_CSV\n"
     ]
    },
    {
     "ename": "AttributeError",
     "evalue": "'Stock' object has no attribute '_order'",
     "output_type": "error",
     "traceback": [
      "\u001b[0;31m---------------------------------------------------------------------------\u001b[0m",
      "\u001b[0;31mAttributeError\u001b[0m                            Traceback (most recent call last)",
      "\u001b[0;32m<ipython-input-343-e933531c9855>\u001b[0m in \u001b[0;36m<module>\u001b[0;34m\u001b[0m\n\u001b[0;32m----> 1\u001b[0;31m \u001b[0ms\u001b[0m\u001b[0;34m.\u001b[0m\u001b[0mas_csv\u001b[0m\u001b[0;34m(\u001b[0m\u001b[0;34m)\u001b[0m\u001b[0;34m\u001b[0m\u001b[0;34m\u001b[0m\u001b[0m\n\u001b[0m",
      "\u001b[0;32m<ipython-input-336-419739ec1ae5>\u001b[0m in \u001b[0;36mas_csv\u001b[0;34m(self)\u001b[0m\n\u001b[1;32m      2\u001b[0m     \u001b[0;32mdef\u001b[0m \u001b[0mas_csv\u001b[0m\u001b[0;34m(\u001b[0m\u001b[0mself\u001b[0m\u001b[0;34m)\u001b[0m\u001b[0;34m:\u001b[0m\u001b[0;34m\u001b[0m\u001b[0;34m\u001b[0m\u001b[0m\n\u001b[1;32m      3\u001b[0m         \u001b[0mprint\u001b[0m\u001b[0;34m(\u001b[0m\u001b[0;34m'IN AS_CSV'\u001b[0m\u001b[0;34m)\u001b[0m\u001b[0;34m\u001b[0m\u001b[0;34m\u001b[0m\u001b[0m\n\u001b[0;32m----> 4\u001b[0;31m         \u001b[0;32mreturn\u001b[0m \u001b[0;34m','\u001b[0m\u001b[0;34m.\u001b[0m\u001b[0mjoin\u001b[0m\u001b[0;34m(\u001b[0m\u001b[0mstr\u001b[0m\u001b[0;34m(\u001b[0m\u001b[0mgetattr\u001b[0m\u001b[0;34m(\u001b[0m\u001b[0mself\u001b[0m\u001b[0;34m,\u001b[0m\u001b[0mname\u001b[0m\u001b[0;34m)\u001b[0m\u001b[0;34m)\u001b[0m \u001b[0;32mfor\u001b[0m \u001b[0mname\u001b[0m \u001b[0;32min\u001b[0m \u001b[0mself\u001b[0m\u001b[0;34m.\u001b[0m\u001b[0m_order\u001b[0m\u001b[0;34m)\u001b[0m\u001b[0;34m\u001b[0m\u001b[0;34m\u001b[0m\u001b[0m\n\u001b[0m",
      "\u001b[0;31mAttributeError\u001b[0m: 'Stock' object has no attribute '_order'"
     ]
    }
   ],
   "source": [
    "s.as_csv()"
   ]
  },
  {
   "cell_type": "code",
   "execution_count": 325,
   "metadata": {
    "ExecuteTime": {
     "end_time": "2019-12-15T23:17:52.237214Z",
     "start_time": "2019-12-15T23:17:52.226475Z"
    }
   },
   "outputs": [
    {
     "data": {
      "text/plain": [
       "['__init__']"
      ]
     },
     "execution_count": 325,
     "metadata": {},
     "output_type": "execute_result"
    }
   ],
   "source": [
    "s._order"
   ]
  },
  {
   "cell_type": "markdown",
   "metadata": {},
   "source": [
    "## try to rebuild autoinit as decorator"
   ]
  },
  {
   "cell_type": "code",
   "execution_count": 421,
   "metadata": {
    "ExecuteTime": {
     "end_time": "2019-12-22T20:35:47.772957Z",
     "start_time": "2019-12-22T20:35:47.766164Z"
    }
   },
   "outputs": [],
   "source": [
    "def autoinit(cls):\n",
    "    @wraps(cls)\n",
    "    def wrapped(*args, **kwargs):\n",
    "        print(args, kwargs)\n",
    "        obj = cls.__new__(cls)\n",
    "        bound = inspect.signature(cls.__init__).bind(obj, *args, **kwargs)\n",
    "        bound.apply_defaults()\n",
    "        \n",
    "        arg_str = cls.__name__ + '('\n",
    "        for k, v in bound.arguments.items():\n",
    "            if k == 'self': continue\n",
    "            setattr(obj, k, v)\n",
    "            arg_str += f'{k}={v}, '\n",
    "            \n",
    "        def __repr__(obj):\n",
    "            arg_str = ', '.join(f'{k}={v}' \n",
    "                                for k, v in bound.arguments.items())\n",
    "            return obj.__name__\n",
    "        \n",
    "        obj.__repr__ = __repr__\n",
    "        return obj\n",
    "    return wrapped"
   ]
  },
  {
   "cell_type": "code",
   "execution_count": 422,
   "metadata": {
    "ExecuteTime": {
     "end_time": "2019-12-22T20:35:47.976527Z",
     "start_time": "2019-12-22T20:35:47.965937Z"
    }
   },
   "outputs": [],
   "source": [
    "@autoinit\n",
    "class Data:\n",
    "    \n",
    "    def __init__(self, a, b=3, c=True, **kwargs):\n",
    "#         self.a = a\n",
    "#         self.b = b\n",
    "#         self.c = c\n",
    "        pass\n",
    "    \n",
    "#     def __repr__(self):\n",
    "#         return f'Data({self.a}, {self.b}, {self.c})'"
   ]
  },
  {
   "cell_type": "code",
   "execution_count": null,
   "metadata": {},
   "outputs": [],
   "source": [
    "Data.__new__()"
   ]
  },
  {
   "cell_type": "code",
   "execution_count": 423,
   "metadata": {
    "ExecuteTime": {
     "end_time": "2019-12-22T20:35:48.158584Z",
     "start_time": "2019-12-22T20:35:48.152176Z"
    }
   },
   "outputs": [
    {
     "name": "stdout",
     "output_type": "stream",
     "text": [
      "(91,) {'z': 44}\n"
     ]
    },
    {
     "data": {
      "text/plain": [
       "<__main__.Data at 0x10ceadf28>"
      ]
     },
     "execution_count": 423,
     "metadata": {},
     "output_type": "execute_result"
    }
   ],
   "source": [
    "d = Data(91, z=44)\n",
    "d"
   ]
  },
  {
   "cell_type": "code",
   "execution_count": 424,
   "metadata": {
    "ExecuteTime": {
     "end_time": "2019-12-22T20:35:49.799729Z",
     "start_time": "2019-12-22T20:35:49.792253Z"
    }
   },
   "outputs": [
    {
     "data": {
      "text/plain": [
       "{'a': 91,\n",
       " 'b': 3,\n",
       " 'c': True,\n",
       " 'kwargs': {'z': 44},\n",
       " '__repr__': <function __main__.autoinit.<locals>.wrapped.<locals>.__repr__(obj)>}"
      ]
     },
     "execution_count": 424,
     "metadata": {},
     "output_type": "execute_result"
    }
   ],
   "source": [
    "d.__dict__"
   ]
  },
  {
   "cell_type": "code",
   "execution_count": 427,
   "metadata": {
    "ExecuteTime": {
     "end_time": "2019-12-22T20:36:03.695100Z",
     "start_time": "2019-12-22T20:36:03.681695Z"
    }
   },
   "outputs": [
    {
     "ename": "AttributeError",
     "evalue": "'Data' object has no attribute '__name__'",
     "output_type": "error",
     "traceback": [
      "\u001b[0;31m---------------------------------------------------------------------------\u001b[0m",
      "\u001b[0;31mAttributeError\u001b[0m                            Traceback (most recent call last)",
      "\u001b[0;32m<ipython-input-427-5bb7305e4469>\u001b[0m in \u001b[0;36m<module>\u001b[0;34m\u001b[0m\n\u001b[0;32m----> 1\u001b[0;31m \u001b[0md\u001b[0m\u001b[0;34m.\u001b[0m\u001b[0m__repr__\u001b[0m\u001b[0;34m(\u001b[0m\u001b[0md\u001b[0m\u001b[0;34m)\u001b[0m\u001b[0;34m\u001b[0m\u001b[0;34m\u001b[0m\u001b[0m\n\u001b[0m",
      "\u001b[0;32m<ipython-input-421-b23d798c7381>\u001b[0m in \u001b[0;36m__repr__\u001b[0;34m(obj)\u001b[0m\n\u001b[1;32m     16\u001b[0m             arg_str = ', '.join(f'{k}={v}' \n\u001b[1;32m     17\u001b[0m                                 for k, v in bound.arguments.items())\n\u001b[0;32m---> 18\u001b[0;31m             \u001b[0;32mreturn\u001b[0m \u001b[0mobj\u001b[0m\u001b[0;34m.\u001b[0m\u001b[0m__name__\u001b[0m\u001b[0;34m\u001b[0m\u001b[0;34m\u001b[0m\u001b[0m\n\u001b[0m\u001b[1;32m     19\u001b[0m \u001b[0;34m\u001b[0m\u001b[0m\n\u001b[1;32m     20\u001b[0m         \u001b[0mobj\u001b[0m\u001b[0;34m.\u001b[0m\u001b[0m__repr__\u001b[0m \u001b[0;34m=\u001b[0m \u001b[0m__repr__\u001b[0m\u001b[0;34m\u001b[0m\u001b[0;34m\u001b[0m\u001b[0m\n",
      "\u001b[0;31mAttributeError\u001b[0m: 'Data' object has no attribute '__name__'"
     ]
    }
   ],
   "source": [
    "d.__repr__(d)"
   ]
  },
  {
   "cell_type": "code",
   "execution_count": 377,
   "metadata": {
    "ExecuteTime": {
     "end_time": "2019-12-22T20:27:03.664713Z",
     "start_time": "2019-12-22T20:27:03.654949Z"
    }
   },
   "outputs": [
    {
     "data": {
      "text/plain": [
       "{'apply_defaults': 'method',\n",
       " 'args': 'attribute',\n",
       " 'arguments': 'attribute',\n",
       " 'kwargs': 'attribute',\n",
       " 'signature': 'attribute'}"
      ]
     },
     "execution_count": 377,
     "metadata": {},
     "output_type": "execute_result"
    }
   ],
   "source": [
    "bound = inspect.signature(foo5).bind('a', c=6)\n",
    "hdir(bound)"
   ]
  },
  {
   "cell_type": "code",
   "execution_count": 379,
   "metadata": {
    "ExecuteTime": {
     "end_time": "2019-12-22T20:27:23.088160Z",
     "start_time": "2019-12-22T20:27:23.067272Z"
    }
   },
   "outputs": [
    {
     "data": {
      "text/plain": [
       "('a',)"
      ]
     },
     "execution_count": 379,
     "metadata": {},
     "output_type": "execute_result"
    },
    {
     "data": {
      "text/plain": [
       "{'c': 6}"
      ]
     },
     "execution_count": 379,
     "metadata": {},
     "output_type": "execute_result"
    },
    {
     "data": {
      "text/plain": [
       "OrderedDict([('a', 'a'), ('c', 6)])"
      ]
     },
     "execution_count": 379,
     "metadata": {},
     "output_type": "execute_result"
    }
   ],
   "source": [
    "%%talk\n",
    "bound.args\n",
    "bound.kwargs\n",
    "bound.arguments"
   ]
  },
  {
   "cell_type": "code",
   "execution_count": 388,
   "metadata": {
    "ExecuteTime": {
     "end_time": "2019-12-22T20:28:34.448912Z",
     "start_time": "2019-12-22T20:28:34.442718Z"
    }
   },
   "outputs": [],
   "source": [
    "bound.apply_defaults()"
   ]
  },
  {
   "cell_type": "code",
   "execution_count": 389,
   "metadata": {
    "ExecuteTime": {
     "end_time": "2019-12-22T20:28:36.379636Z",
     "start_time": "2019-12-22T20:28:36.358652Z"
    }
   },
   "outputs": [
    {
     "data": {
      "text/plain": [
       "<BoundArguments (a='a', b=3, c=6, d=[1, 2, 3])>"
      ]
     },
     "execution_count": 389,
     "metadata": {},
     "output_type": "execute_result"
    }
   ],
   "source": [
    "bound"
   ]
  },
  {
   "cell_type": "markdown",
   "metadata": {},
   "source": [
    "## Alternate inheritance method - trying to avoid need to pass locals()"
   ]
  },
  {
   "cell_type": "code",
   "execution_count": 3,
   "metadata": {
    "ExecuteTime": {
     "end_time": "2020-01-03T00:15:47.291778Z",
     "start_time": "2020-01-03T00:15:47.277716Z"
    }
   },
   "outputs": [],
   "source": [
    "from contextlib import contextmanager\n",
    "import inspect\n",
    "import sys\n",
    "\n",
    "from htools import *"
   ]
  },
  {
   "cell_type": "code",
   "execution_count": 366,
   "metadata": {
    "ExecuteTime": {
     "end_time": "2020-01-03T00:37:03.196481Z",
     "start_time": "2020-01-03T00:37:03.179357Z"
    }
   },
   "outputs": [],
   "source": [
    "# Temp 2 to distinguish from current implementation.\n",
    "\n",
    "# Note: likely because of frame hack, this version is ~8x slower. However, in\n",
    "# the example below this still only took 30-40 microseconds \n",
    "# (i.e. 3e-5 seconds), so in practice this probably isn't a huge concern in \n",
    "# most scenarios.\n",
    "class AutoInit2:\n",
    "    def __init__(self):\n",
    "        # Calculate how many frames to go back to get child class.\n",
    "        frame_idx = type(self).__mro__.index(AutoInit2) # TODO: rm 2 if shipping\n",
    "        attrs = {k: v for k, v in sys._getframe(frame_idx).f_locals.items()\n",
    "                  if not k.startswith('__')}\n",
    "        attrs.pop('self')\n",
    "        bound = inspect.signature(self.__class__.__init__)\\\n",
    "                       .bind_partial(**attrs)\n",
    "        \n",
    "        # Flatten dict so kwargs are not listed as their own argument.\n",
    "        bound.arguments.update(\n",
    "            bound.arguments.pop('kwargs', {}).get('kwargs', {})\n",
    "        )\n",
    "        self._init_keys = set(bound.arguments.keys())\n",
    "        for k, v in bound.arguments.items():\n",
    "            setattr(self, k, v)\n",
    "\n",
    "    def __repr__(self):\n",
    "        fstrs = (f'{k}={repr(getattr(self, k))}' for k in self._init_keys)            \n",
    "        return f'{self.__class__.__name__}({\", \".join(fstrs)})'"
   ]
  },
  {
   "cell_type": "code",
   "execution_count": 367,
   "metadata": {
    "ExecuteTime": {
     "end_time": "2020-01-03T00:37:03.381103Z",
     "start_time": "2020-01-03T00:37:03.359303Z"
    }
   },
   "outputs": [],
   "source": [
    "class Niece(AutoInit2):\n",
    "    def __init__(self):\n",
    "        super().__init__()\n",
    "    def niecemethod(self):\n",
    "        print('niece call niecemethod')"
   ]
  },
  {
   "cell_type": "code",
   "execution_count": 368,
   "metadata": {
    "ExecuteTime": {
     "end_time": "2020-01-03T00:37:03.511485Z",
     "start_time": "2020-01-03T00:37:03.487229Z"
    }
   },
   "outputs": [],
   "source": [
    "class Mixin:\n",
    "    def mix(self):\n",
    "        print('Mixin call self.mix')"
   ]
  },
  {
   "cell_type": "code",
   "execution_count": 369,
   "metadata": {
    "ExecuteTime": {
     "end_time": "2020-01-03T00:37:03.645016Z",
     "start_time": "2020-01-03T00:37:03.623175Z"
    }
   },
   "outputs": [],
   "source": [
    "class Multi(Niece, Mixin):\n",
    "    def __init__(self, a, b, c=3, **kwargs):\n",
    "        super().__init__()"
   ]
  },
  {
   "cell_type": "code",
   "execution_count": 370,
   "metadata": {
    "ExecuteTime": {
     "end_time": "2020-01-03T00:37:03.750060Z",
     "start_time": "2020-01-03T00:37:03.733314Z"
    }
   },
   "outputs": [],
   "source": [
    "class Child(AutoInit2):\n",
    "    def __init__(self, a, b=3, **kwargs):\n",
    "        super().__init__()\n",
    "    def childmethod(self):\n",
    "        print('child call childmethod')"
   ]
  },
  {
   "cell_type": "code",
   "execution_count": 371,
   "metadata": {
    "ExecuteTime": {
     "end_time": "2020-01-03T00:37:03.954228Z",
     "start_time": "2020-01-03T00:37:03.920277Z"
    }
   },
   "outputs": [],
   "source": [
    "class ProblemChild(AutoInit):\n",
    "    b = ReadOnly('b')\n",
    "    def __init__(self, a, b=3, **kwargs):\n",
    "        super().__init__(locals())\n",
    "    def childmethod(self):\n",
    "        print('child call childmethod')\n",
    "    @cached_property\n",
    "    def c(self):\n",
    "        for i in range(10_000_000):\n",
    "            pass\n",
    "        return self.a*self.b"
   ]
  },
  {
   "cell_type": "code",
   "execution_count": 372,
   "metadata": {
    "ExecuteTime": {
     "end_time": "2020-01-03T00:37:04.067637Z",
     "start_time": "2020-01-03T00:37:04.052026Z"
    }
   },
   "outputs": [],
   "source": [
    "class ProblemChild2(AutoInit2):\n",
    "    b = ReadOnly('b')\n",
    "    def __init__(self, a, b=3, **kwargs):\n",
    "        super().__init__()\n",
    "    def childmethod(self):\n",
    "        print('child call childmethod')\n",
    "    @cached_property\n",
    "    def c(self):\n",
    "        for i in range(10_000_000):\n",
    "            pass\n",
    "        return self.a*self.b"
   ]
  },
  {
   "cell_type": "code",
   "execution_count": 373,
   "metadata": {
    "ExecuteTime": {
     "end_time": "2020-01-03T00:37:04.505197Z",
     "start_time": "2020-01-03T00:37:04.485821Z"
    }
   },
   "outputs": [],
   "source": [
    "@contextmanager\n",
    "def assert_raises(error, verbose=True):\n",
    "    try:\n",
    "        yield\n",
    "    except error as e:\n",
    "        if verbose: print(f'As expected, got {error.__name__}({e}).')\n",
    "    except Exception as e:\n",
    "        raise AssertionError(f'Wrong error raised. Expected {error.__name__},'\n",
    "                             f' got {type(e).__name__}({e}).') from None\n",
    "    else:\n",
    "        raise AssertionError(f'No error raised, expected {error.__name__}.')"
   ]
  },
  {
   "cell_type": "code",
   "execution_count": 374,
   "metadata": {
    "ExecuteTime": {
     "end_time": "2020-01-03T00:37:04.879090Z",
     "start_time": "2020-01-03T00:37:04.859016Z"
    }
   },
   "outputs": [
    {
     "data": {
      "text/plain": [
       "Niece()"
      ]
     },
     "execution_count": 374,
     "metadata": {},
     "output_type": "execute_result"
    }
   ],
   "source": [
    "n = Niece()\n",
    "n"
   ]
  },
  {
   "cell_type": "code",
   "execution_count": 375,
   "metadata": {
    "ExecuteTime": {
     "end_time": "2020-01-03T00:37:05.611555Z",
     "start_time": "2020-01-03T00:37:05.594013Z"
    }
   },
   "outputs": [
    {
     "data": {
      "text/plain": [
       "Multi(c=3, e='e', d='d', b=2, a=1)"
      ]
     },
     "execution_count": 375,
     "metadata": {},
     "output_type": "execute_result"
    }
   ],
   "source": [
    "m = Multi(1, 2, d='d', e='e')\n",
    "m"
   ]
  },
  {
   "cell_type": "code",
   "execution_count": 376,
   "metadata": {
    "ExecuteTime": {
     "end_time": "2020-01-03T00:37:06.644937Z",
     "start_time": "2020-01-03T00:37:06.621870Z"
    }
   },
   "outputs": [
    {
     "data": {
      "text/plain": [
       "Child(e=[1, 2, 3], b=3, d='d', a='a')"
      ]
     },
     "execution_count": 376,
     "metadata": {},
     "output_type": "execute_result"
    }
   ],
   "source": [
    "c = Child('a', d='d', e=[1,2,3])\n",
    "c"
   ]
  },
  {
   "cell_type": "code",
   "execution_count": 377,
   "metadata": {
    "ExecuteTime": {
     "end_time": "2020-01-03T00:37:08.674296Z",
     "start_time": "2020-01-03T00:37:08.655969Z"
    }
   },
   "outputs": [
    {
     "data": {
      "text/plain": [
       "ProblemChild(e=True, b=3, d=[56, 55, 44], a=2)"
      ]
     },
     "execution_count": 377,
     "metadata": {},
     "output_type": "execute_result"
    }
   ],
   "source": [
    "p = ProblemChild(2, e=True, d=[56, 55, 44])\n",
    "p"
   ]
  },
  {
   "cell_type": "code",
   "execution_count": 378,
   "metadata": {
    "ExecuteTime": {
     "end_time": "2020-01-03T00:37:09.185757Z",
     "start_time": "2020-01-03T00:37:09.147958Z"
    }
   },
   "outputs": [
    {
     "ename": "AssertionError",
     "evalue": "Wrong error raised. Expected ValueError, got PermissionError(Attribute is read-only.).",
     "output_type": "error",
     "traceback": [
      "\u001b[0;31m---------------------------------------------------------------------------\u001b[0m",
      "\u001b[0;31mAssertionError\u001b[0m                            Traceback (most recent call last)",
      "\u001b[0;32m<ipython-input-378-0e082f302142>\u001b[0m in \u001b[0;36m<module>\u001b[0;34m\u001b[0m\n\u001b[1;32m      1\u001b[0m \u001b[0;32mwith\u001b[0m \u001b[0massert_raises\u001b[0m\u001b[0;34m(\u001b[0m\u001b[0mValueError\u001b[0m\u001b[0;34m)\u001b[0m \u001b[0;32mas\u001b[0m \u001b[0ma\u001b[0m\u001b[0;34m:\u001b[0m\u001b[0;34m\u001b[0m\u001b[0;34m\u001b[0m\u001b[0m\n\u001b[0;32m----> 2\u001b[0;31m     \u001b[0mp\u001b[0m\u001b[0;34m.\u001b[0m\u001b[0mb\u001b[0m \u001b[0;34m=\u001b[0m \u001b[0;36m2\u001b[0m\u001b[0;34m\u001b[0m\u001b[0;34m\u001b[0m\u001b[0m\n\u001b[0m",
      "\u001b[0;32m~/anaconda3/lib/python3.7/contextlib.py\u001b[0m in \u001b[0;36m__exit__\u001b[0;34m(self, type, value, traceback)\u001b[0m\n\u001b[1;32m    128\u001b[0m                 \u001b[0mvalue\u001b[0m \u001b[0;34m=\u001b[0m \u001b[0mtype\u001b[0m\u001b[0;34m(\u001b[0m\u001b[0;34m)\u001b[0m\u001b[0;34m\u001b[0m\u001b[0;34m\u001b[0m\u001b[0m\n\u001b[1;32m    129\u001b[0m             \u001b[0;32mtry\u001b[0m\u001b[0;34m:\u001b[0m\u001b[0;34m\u001b[0m\u001b[0;34m\u001b[0m\u001b[0m\n\u001b[0;32m--> 130\u001b[0;31m                 \u001b[0mself\u001b[0m\u001b[0;34m.\u001b[0m\u001b[0mgen\u001b[0m\u001b[0;34m.\u001b[0m\u001b[0mthrow\u001b[0m\u001b[0;34m(\u001b[0m\u001b[0mtype\u001b[0m\u001b[0;34m,\u001b[0m \u001b[0mvalue\u001b[0m\u001b[0;34m,\u001b[0m \u001b[0mtraceback\u001b[0m\u001b[0;34m)\u001b[0m\u001b[0;34m\u001b[0m\u001b[0;34m\u001b[0m\u001b[0m\n\u001b[0m\u001b[1;32m    131\u001b[0m             \u001b[0;32mexcept\u001b[0m \u001b[0mStopIteration\u001b[0m \u001b[0;32mas\u001b[0m \u001b[0mexc\u001b[0m\u001b[0;34m:\u001b[0m\u001b[0;34m\u001b[0m\u001b[0;34m\u001b[0m\u001b[0m\n\u001b[1;32m    132\u001b[0m                 \u001b[0;31m# Suppress StopIteration *unless* it's the same exception that\u001b[0m\u001b[0;34m\u001b[0m\u001b[0;34m\u001b[0m\u001b[0;34m\u001b[0m\u001b[0m\n",
      "\u001b[0;32m<ipython-input-373-14c256ed6231>\u001b[0m in \u001b[0;36massert_raises\u001b[0;34m(error, verbose)\u001b[0m\n\u001b[1;32m      7\u001b[0m     \u001b[0;32mexcept\u001b[0m \u001b[0mException\u001b[0m \u001b[0;32mas\u001b[0m \u001b[0me\u001b[0m\u001b[0;34m:\u001b[0m\u001b[0;34m\u001b[0m\u001b[0;34m\u001b[0m\u001b[0m\n\u001b[1;32m      8\u001b[0m         raise AssertionError(f'Wrong error raised. Expected {error.__name__},'\n\u001b[0;32m----> 9\u001b[0;31m                              f' got {type(e).__name__}({e}).') from None\n\u001b[0m\u001b[1;32m     10\u001b[0m     \u001b[0;32melse\u001b[0m\u001b[0;34m:\u001b[0m\u001b[0;34m\u001b[0m\u001b[0;34m\u001b[0m\u001b[0m\n\u001b[1;32m     11\u001b[0m         \u001b[0;32mraise\u001b[0m \u001b[0mAssertionError\u001b[0m\u001b[0;34m(\u001b[0m\u001b[0;34mf'No error raised, expected {error.__name__}.'\u001b[0m\u001b[0;34m)\u001b[0m\u001b[0;34m\u001b[0m\u001b[0;34m\u001b[0m\u001b[0m\n",
      "\u001b[0;31mAssertionError\u001b[0m: Wrong error raised. Expected ValueError, got PermissionError(Attribute is read-only.)."
     ]
    }
   ],
   "source": [
    "with assert_raises(ValueError) as a:\n",
    "    p.b = 2"
   ]
  },
  {
   "cell_type": "code",
   "execution_count": 379,
   "metadata": {
    "ExecuteTime": {
     "end_time": "2020-01-03T00:37:09.185757Z",
     "start_time": "2020-01-03T00:37:09.147958Z"
    }
   },
   "outputs": [
    {
     "ename": "AssertionError",
     "evalue": "No error raised, expected PermissionError.",
     "output_type": "error",
     "traceback": [
      "\u001b[0;31m---------------------------------------------------------------------------\u001b[0m",
      "\u001b[0;31mAssertionError\u001b[0m                            Traceback (most recent call last)",
      "\u001b[0;32m<ipython-input-379-f5aa2b1cb545>\u001b[0m in \u001b[0;36m<module>\u001b[0;34m\u001b[0m\n\u001b[1;32m      1\u001b[0m \u001b[0;32mwith\u001b[0m \u001b[0massert_raises\u001b[0m\u001b[0;34m(\u001b[0m\u001b[0mPermissionError\u001b[0m\u001b[0;34m)\u001b[0m \u001b[0;32mas\u001b[0m \u001b[0ma\u001b[0m\u001b[0;34m:\u001b[0m\u001b[0;34m\u001b[0m\u001b[0;34m\u001b[0m\u001b[0m\n\u001b[0;32m----> 2\u001b[0;31m     \u001b[0mp\u001b[0m\u001b[0;34m.\u001b[0m\u001b[0ma\u001b[0m \u001b[0;34m=\u001b[0m \u001b[0;36m2\u001b[0m\u001b[0;34m\u001b[0m\u001b[0;34m\u001b[0m\u001b[0m\n\u001b[0m",
      "\u001b[0;32m~/anaconda3/lib/python3.7/contextlib.py\u001b[0m in \u001b[0;36m__exit__\u001b[0;34m(self, type, value, traceback)\u001b[0m\n\u001b[1;32m    117\u001b[0m         \u001b[0;32mif\u001b[0m \u001b[0mtype\u001b[0m \u001b[0;32mis\u001b[0m \u001b[0;32mNone\u001b[0m\u001b[0;34m:\u001b[0m\u001b[0;34m\u001b[0m\u001b[0;34m\u001b[0m\u001b[0m\n\u001b[1;32m    118\u001b[0m             \u001b[0;32mtry\u001b[0m\u001b[0;34m:\u001b[0m\u001b[0;34m\u001b[0m\u001b[0;34m\u001b[0m\u001b[0m\n\u001b[0;32m--> 119\u001b[0;31m                 \u001b[0mnext\u001b[0m\u001b[0;34m(\u001b[0m\u001b[0mself\u001b[0m\u001b[0;34m.\u001b[0m\u001b[0mgen\u001b[0m\u001b[0;34m)\u001b[0m\u001b[0;34m\u001b[0m\u001b[0;34m\u001b[0m\u001b[0m\n\u001b[0m\u001b[1;32m    120\u001b[0m             \u001b[0;32mexcept\u001b[0m \u001b[0mStopIteration\u001b[0m\u001b[0;34m:\u001b[0m\u001b[0;34m\u001b[0m\u001b[0;34m\u001b[0m\u001b[0m\n\u001b[1;32m    121\u001b[0m                 \u001b[0;32mreturn\u001b[0m \u001b[0;32mFalse\u001b[0m\u001b[0;34m\u001b[0m\u001b[0;34m\u001b[0m\u001b[0m\n",
      "\u001b[0;32m<ipython-input-373-14c256ed6231>\u001b[0m in \u001b[0;36massert_raises\u001b[0;34m(error, verbose)\u001b[0m\n\u001b[1;32m      9\u001b[0m                              f' got {type(e).__name__}({e}).') from None\n\u001b[1;32m     10\u001b[0m     \u001b[0;32melse\u001b[0m\u001b[0;34m:\u001b[0m\u001b[0;34m\u001b[0m\u001b[0;34m\u001b[0m\u001b[0m\n\u001b[0;32m---> 11\u001b[0;31m         \u001b[0;32mraise\u001b[0m \u001b[0mAssertionError\u001b[0m\u001b[0;34m(\u001b[0m\u001b[0;34mf'No error raised, expected {error.__name__}.'\u001b[0m\u001b[0;34m)\u001b[0m\u001b[0;34m\u001b[0m\u001b[0;34m\u001b[0m\u001b[0m\n\u001b[0m",
      "\u001b[0;31mAssertionError\u001b[0m: No error raised, expected PermissionError."
     ]
    }
   ],
   "source": [
    "with assert_raises(PermissionError) as a:\n",
    "    p.a = 2"
   ]
  },
  {
   "cell_type": "code",
   "execution_count": 380,
   "metadata": {
    "ExecuteTime": {
     "end_time": "2020-01-03T00:37:09.337852Z",
     "start_time": "2020-01-03T00:37:09.309279Z"
    }
   },
   "outputs": [
    {
     "name": "stdout",
     "output_type": "stream",
     "text": [
      "As expected, got PermissionError(Attribute is read-only.).\n"
     ]
    }
   ],
   "source": [
    "with assert_raises(PermissionError) as a:\n",
    "    p.b = 2"
   ]
  },
  {
   "cell_type": "code",
   "execution_count": 381,
   "metadata": {
    "ExecuteTime": {
     "end_time": "2020-01-03T00:37:09.679620Z",
     "start_time": "2020-01-03T00:37:09.412574Z"
    }
   },
   "outputs": [
    {
     "data": {
      "text/plain": [
       "6"
      ]
     },
     "execution_count": 381,
     "metadata": {},
     "output_type": "execute_result"
    }
   ],
   "source": [
    "p.c"
   ]
  },
  {
   "cell_type": "code",
   "execution_count": 382,
   "metadata": {
    "ExecuteTime": {
     "end_time": "2020-01-03T00:37:09.696055Z",
     "start_time": "2020-01-03T00:37:09.681397Z"
    }
   },
   "outputs": [
    {
     "data": {
      "text/plain": [
       "6"
      ]
     },
     "execution_count": 382,
     "metadata": {},
     "output_type": "execute_result"
    }
   ],
   "source": [
    "# Faster because result is cached now.\n",
    "p.c"
   ]
  },
  {
   "cell_type": "code",
   "execution_count": 383,
   "metadata": {
    "ExecuteTime": {
     "end_time": "2020-01-03T00:37:09.734956Z",
     "start_time": "2020-01-03T00:37:09.704802Z"
    }
   },
   "outputs": [
    {
     "data": {
      "text/plain": [
       "ProblemChild2(e=True, b=3, d=[56, 55, 44], a=2)"
      ]
     },
     "execution_count": 383,
     "metadata": {},
     "output_type": "execute_result"
    }
   ],
   "source": [
    "p2 = ProblemChild2(2, e=True, d=[56, 55, 44])\n",
    "p2"
   ]
  },
  {
   "cell_type": "code",
   "execution_count": 384,
   "metadata": {
    "ExecuteTime": {
     "end_time": "2020-01-03T00:37:09.877751Z",
     "start_time": "2020-01-03T00:37:09.854702Z"
    }
   },
   "outputs": [
    {
     "name": "stdout",
     "output_type": "stream",
     "text": [
      "As expected, got PermissionError(Attribute is read-only.).\n"
     ]
    }
   ],
   "source": [
    "with assert_raises(PermissionError) as ar:\n",
    "    p2.b = 33"
   ]
  },
  {
   "cell_type": "code",
   "execution_count": 385,
   "metadata": {
    "ExecuteTime": {
     "end_time": "2020-01-03T00:37:11.059415Z",
     "start_time": "2020-01-03T00:37:10.756000Z"
    }
   },
   "outputs": [
    {
     "data": {
      "text/plain": [
       "6"
      ]
     },
     "execution_count": 385,
     "metadata": {},
     "output_type": "execute_result"
    }
   ],
   "source": [
    "p2.c"
   ]
  },
  {
   "cell_type": "code",
   "execution_count": 386,
   "metadata": {
    "ExecuteTime": {
     "end_time": "2020-01-03T00:37:11.091009Z",
     "start_time": "2020-01-03T00:37:11.064781Z"
    }
   },
   "outputs": [
    {
     "data": {
      "text/plain": [
       "ProblemChild2(z=['a', 'b'], b=44, a=0)"
      ]
     },
     "execution_count": 386,
     "metadata": {},
     "output_type": "execute_result"
    }
   ],
   "source": [
    "p3 = ProblemChild2(0, b=44, z=['a', 'b'])\n",
    "p3"
   ]
  },
  {
   "cell_type": "code",
   "execution_count": 387,
   "metadata": {
    "ExecuteTime": {
     "end_time": "2020-01-03T00:37:11.770564Z",
     "start_time": "2020-01-03T00:37:11.492999Z"
    }
   },
   "outputs": [
    {
     "data": {
      "text/plain": [
       "0"
      ]
     },
     "execution_count": 387,
     "metadata": {},
     "output_type": "execute_result"
    }
   ],
   "source": [
    "p3.c"
   ]
  },
  {
   "cell_type": "code",
   "execution_count": 388,
   "metadata": {
    "ExecuteTime": {
     "end_time": "2020-01-03T00:37:11.800667Z",
     "start_time": "2020-01-03T00:37:11.772398Z"
    }
   },
   "outputs": [
    {
     "data": {
      "text/plain": [
       "0"
      ]
     },
     "execution_count": 388,
     "metadata": {},
     "output_type": "execute_result"
    }
   ],
   "source": [
    "p3.c"
   ]
  },
  {
   "cell_type": "code",
   "execution_count": 389,
   "metadata": {
    "ExecuteTime": {
     "end_time": "2020-01-03T00:37:12.115977Z",
     "start_time": "2020-01-03T00:37:12.099402Z"
    }
   },
   "outputs": [
    {
     "name": "stdout",
     "output_type": "stream",
     "text": [
      "As expected, got PermissionError(Attribute is read-only.).\n"
     ]
    }
   ],
   "source": [
    "with assert_raises(PermissionError) as ar:\n",
    "    p3.b = 'b'"
   ]
  },
  {
   "cell_type": "code",
   "execution_count": 390,
   "metadata": {
    "ExecuteTime": {
     "end_time": "2020-01-03T00:37:12.475158Z",
     "start_time": "2020-01-03T00:37:12.458305Z"
    }
   },
   "outputs": [
    {
     "name": "stdout",
     "output_type": "stream",
     "text": [
      "As expected, got PermissionError(Attribute is read-only.).\n"
     ]
    }
   ],
   "source": [
    "with assert_raises(PermissionError) as ar:\n",
    "    del p3.b"
   ]
  },
  {
   "cell_type": "code",
   "execution_count": 391,
   "metadata": {
    "ExecuteTime": {
     "end_time": "2020-01-03T00:37:12.881673Z",
     "start_time": "2020-01-03T00:37:12.857918Z"
    }
   },
   "outputs": [
    {
     "data": {
      "text/plain": [
       "44"
      ]
     },
     "execution_count": 391,
     "metadata": {},
     "output_type": "execute_result"
    }
   ],
   "source": [
    "p3.b"
   ]
  },
  {
   "cell_type": "code",
   "execution_count": 392,
   "metadata": {
    "ExecuteTime": {
     "end_time": "2020-01-03T00:37:13.150905Z",
     "start_time": "2020-01-03T00:37:13.132470Z"
    }
   },
   "outputs": [
    {
     "data": {
      "text/plain": [
       "ProblemChild2(z=['a', 'b'], b=99, a=0)"
      ]
     },
     "execution_count": 392,
     "metadata": {},
     "output_type": "execute_result"
    }
   ],
   "source": [
    "p3.__dict__['b'] = 99\n",
    "p3"
   ]
  },
  {
   "cell_type": "code",
   "execution_count": 393,
   "metadata": {
    "ExecuteTime": {
     "end_time": "2020-01-03T00:37:13.595069Z",
     "start_time": "2020-01-03T00:37:13.571494Z"
    }
   },
   "outputs": [],
   "source": [
    "def f():\n",
    "    return ProblemChild(1, e=True, d=[56, 55, 44])\n",
    "    \n",
    "def main():\n",
    "    m = Multi(11, 111, e='e')\n",
    "    p = f()\n",
    "    return m, p\n",
    "\n",
    "m, p = main()"
   ]
  },
  {
   "cell_type": "code",
   "execution_count": 394,
   "metadata": {
    "ExecuteTime": {
     "end_time": "2020-01-03T00:37:14.072392Z",
     "start_time": "2020-01-03T00:37:14.054098Z"
    }
   },
   "outputs": [
    {
     "data": {
      "text/plain": [
       "Multi(e='e', b=111, c=3, a=11)"
      ]
     },
     "execution_count": 394,
     "metadata": {},
     "output_type": "execute_result"
    }
   ],
   "source": [
    "m"
   ]
  },
  {
   "cell_type": "code",
   "execution_count": 395,
   "metadata": {
    "ExecuteTime": {
     "end_time": "2020-01-03T00:37:14.439128Z",
     "start_time": "2020-01-03T00:37:14.421008Z"
    }
   },
   "outputs": [
    {
     "data": {
      "text/plain": [
       "ProblemChild(e=True, b=3, d=[56, 55, 44], a=1)"
      ]
     },
     "execution_count": 395,
     "metadata": {},
     "output_type": "execute_result"
    }
   ],
   "source": [
    "p"
   ]
  },
  {
   "cell_type": "code",
   "execution_count": 396,
   "metadata": {
    "ExecuteTime": {
     "end_time": "2020-01-03T00:37:15.134310Z",
     "start_time": "2020-01-03T00:37:14.891495Z"
    }
   },
   "outputs": [
    {
     "name": "stdout",
     "output_type": "stream",
     "text": [
      "4.46 µs ± 1.17 µs per loop (mean ± std. dev. of 50 runs, 100 loops each)\n",
      "31.8 µs ± 5.01 µs per loop (mean ± std. dev. of 50 runs, 100 loops each)\n"
     ]
    }
   ],
   "source": [
    "%%race -n 100 -r 50\n",
    "p = ProblemChild(2, e=True, d=[56, 55, 44])\n",
    "p2 = ProblemChild2(2, e=True, d=[56, 55, 44])"
   ]
  },
  {
   "cell_type": "code",
   "execution_count": 397,
   "metadata": {
    "ExecuteTime": {
     "end_time": "2020-01-03T00:37:16.038698Z",
     "start_time": "2020-01-03T00:37:15.611223Z"
    }
   },
   "outputs": [
    {
     "name": "stdout",
     "output_type": "stream",
     "text": [
      "7.27 µs ± 1.49 µs per loop (mean ± std. dev. of 50 runs, 100 loops each)\n",
      "The slowest run took 5.41 times longer than the fastest. This could mean that an intermediate result is being cached.\n",
      "44 µs ± 23.5 µs per loop (mean ± std. dev. of 50 runs, 100 loops each)\n"
     ]
    }
   ],
   "source": [
    "%%race -n 100 -r 50\n",
    "p = ProblemChild(2, e=True, d=[56, 55, 44], x=True, y=False, z=[1,2], m={})\n",
    "p2 = ProblemChild2(2, e=True, d=[56, 55, 44], x=True, y=False, z=[1,2], m={})"
   ]
  },
  {
   "cell_type": "markdown",
   "metadata": {},
   "source": [
    "## @debug - rm self from args if method"
   ]
  },
  {
   "cell_type": "code",
   "execution_count": 14,
   "metadata": {},
   "outputs": [],
   "source": [
    "from functools import wraps\n",
    "import inspect\n",
    "\n",
    "from htools import hdir"
   ]
  },
  {
   "cell_type": "code",
   "execution_count": 25,
   "metadata": {},
   "outputs": [],
   "source": [
    "def debug(func=None, prefix='', arguments=True):\n",
    "    \"\"\"Decorator that prints information about a function call. Often, this\n",
    "    will only be used temporarily when debugging. Note that a wrapped function\n",
    "    that accepts *args will display a signature including an 'args' parameter\n",
    "    even though it isn't a named parameter, because the goal here is to\n",
    "    explicitly show which values are being passed to which parameters. This\n",
    "    does mean that the printed string won't be executable code in this case,\n",
    "    but that shouldn't be necessary anyway since it would contain the same call\n",
    "    that just occurred.\n",
    "\n",
    "    The decorator can be used with or without arguments.\n",
    "\n",
    "    Parameters\n",
    "    ----------\n",
    "    func: function\n",
    "        Function being decorated.\n",
    "    prefix: str\n",
    "        A short string to prepend the printed message with. Ex: '>>>'\n",
    "    arguments: bool\n",
    "        If True, the printed message will include the function arguments.\n",
    "        If False, it will print the function name but not its arguments.\n",
    "\n",
    "    Examples\n",
    "    --------\n",
    "    Occasionally, you might pass arguments to different parameters than you\n",
    "    intended. Throwing a debug_call decorator on the function helps you check\n",
    "    that the arguments are matching up as expected. For example, the parameter\n",
    "    names in the function below have an unexpected order, so you could easily\n",
    "    make the following call and expect to get 8. The debug decorator helps\n",
    "    catch that the third argument is being passed in as the x parameter.\n",
    "\n",
    "    @debug\n",
    "    def f(a, b, x=0, y=None, z=4, c=2):\n",
    "        return a + b + c\n",
    "\n",
    "    >>> f(3, 4, 1)\n",
    "    CALLING f(a=3, b=4, x=1, y=None, z=4, c=2)\n",
    "    9\n",
    "\n",
    "    @debug(prefix='***', arguments=False)\n",
    "    def f(a, b, x=0, y=None, z=4, c=2):\n",
    "        return a + b + c\n",
    "\n",
    "    >>> f(3, 4, 1)\n",
    "    *** CALLING f()\n",
    "    9\n",
    "    \"\"\"\n",
    "    if not func:\n",
    "        if prefix: prefix += ' '\n",
    "        return partial(debug, prefix=prefix, arguments=arguments)\n",
    "\n",
    "    @wraps(func)\n",
    "    def wrapper(*args, **kwargs):\n",
    "        out_fmt = '\\n{}CALLING {}({})'\n",
    "        arg_strs = ''\n",
    "        if arguments:\n",
    "            sig = inspect.signature(wrapper).bind_partial(*args, **kwargs)\n",
    "            sig.apply_defaults()\n",
    "            sig.arguments.update(sig.arguments.pop('kwargs', {}))\n",
    "            # Remove self/cls arg from methods.\n",
    "            first_key = next(iter(sig.arguments))\n",
    "            if first_key in ('self', 'cls'): \n",
    "                del sig.arguments[first_key]\n",
    "            arg_strs = (f'{k}={repr(v)}' for k, v in sig.arguments.items())\n",
    "\n",
    "        # Print call message and return output.\n",
    "        print(out_fmt.format(prefix, func.__qualname__, ', '.join(arg_strs)))\n",
    "        return func(*args, **kwargs)\n",
    "\n",
    "    return wrapper"
   ]
  },
  {
   "cell_type": "code",
   "execution_count": 26,
   "metadata": {},
   "outputs": [],
   "source": [
    "class Foo: \n",
    "    @debug\n",
    "    def __init__(self, a=6, b:int=1, c:str='c', d=True): \n",
    "        self.a, self.b, self.c, self.d = a, b, c, d \n",
    "    def walk(self): \n",
    "        return 'walk' \n",
    "    def _run(self, r:(bool, int)): \n",
    "        return r \n",
    "    def jump(self, x:bool, y, z:list=[1,2]): \n",
    "        return x, y, z \n",
    "    def __private(self, p:int=0): \n",
    "        return 'private', p "
   ]
  },
  {
   "cell_type": "code",
   "execution_count": 27,
   "metadata": {},
   "outputs": [
    {
     "name": "stdout",
     "output_type": "stream",
     "text": [
      "\n",
      "CALLING Foo.__init__(a=6, b=1, c='c', d=True)\n"
     ]
    }
   ],
   "source": [
    "f = Foo()"
   ]
  },
  {
   "cell_type": "code",
   "execution_count": 29,
   "metadata": {},
   "outputs": [],
   "source": [
    "@debug\n",
    "def bar(x, y=True):\n",
    "    return x"
   ]
  },
  {
   "cell_type": "code",
   "execution_count": 30,
   "metadata": {},
   "outputs": [
    {
     "name": "stdout",
     "output_type": "stream",
     "text": [
      "\n",
      "CALLING bar(x=3, y=True)\n"
     ]
    },
    {
     "data": {
      "text/plain": [
       "3"
      ]
     },
     "execution_count": 30,
     "metadata": {},
     "output_type": "execute_result"
    }
   ],
   "source": [
    "bar(3)"
   ]
  },
  {
   "cell_type": "code",
   "execution_count": null,
   "metadata": {},
   "outputs": [],
   "source": []
  }
 ],
 "metadata": {
  "kernelspec": {
   "display_name": "Python 3",
   "language": "python",
   "name": "python3"
  },
  "language_info": {
   "codemirror_mode": {
    "name": "ipython",
    "version": 3
   },
   "file_extension": ".py",
   "mimetype": "text/x-python",
   "name": "python",
   "nbconvert_exporter": "python",
   "pygments_lexer": "ipython3",
   "version": "3.7.3"
  }
 },
 "nbformat": 4,
 "nbformat_minor": 4
}
