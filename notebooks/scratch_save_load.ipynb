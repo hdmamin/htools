{
 "cells": [
  {
   "cell_type": "code",
   "execution_count": 1,
   "metadata": {
    "ExecuteTime": {
     "end_time": "2020-03-19T04:20:24.905977Z",
     "start_time": "2020-03-19T04:20:24.882943Z"
    }
   },
   "outputs": [],
   "source": [
    "%load_ext autoreload\n",
    "%autoreload 2"
   ]
  },
  {
   "cell_type": "code",
   "execution_count": 11,
   "metadata": {
    "ExecuteTime": {
     "end_time": "2020-03-19T04:24:17.103282Z",
     "start_time": "2020-03-19T04:24:17.088575Z"
    }
   },
   "outputs": [],
   "source": [
    "from bz2 import BZ2File\n",
    "import json\n",
    "import os\n",
    "from pathlib import Path\n",
    "import pickle"
   ]
  },
  {
   "cell_type": "code",
   "execution_count": 63,
   "metadata": {
    "ExecuteTime": {
     "end_time": "2020-03-19T04:35:51.916567Z",
     "start_time": "2020-03-19T04:35:51.878216Z"
    }
   },
   "outputs": [],
   "source": [
    "def _read_write_args(path, mode):\n",
    "    \"\"\"Helper for `save` and `load` functions.\n",
    "    \n",
    "    Parameters\n",
    "    ----------\n",
    "    path: str\n",
    "        Path to read/write object from/to.\n",
    "    mode: str\n",
    "        'w' for writing files (as in `save`), 'r' for reading files \n",
    "        (as in `load`).\n",
    "    \n",
    "    Returns\n",
    "    -------\n",
    "    tuple: Function to open file, mode to open file with (str), object to open\n",
    "        file with.\n",
    "    \"\"\"\n",
    "    ext = path.rpartition('.')[-1]\n",
    "    if ext not in {'json', 'pkl', 'zip'}:\n",
    "        raise InvalidArgumentError(\n",
    "            'Invalid extension. Make sure your filename ends with .json, '\n",
    "            '.pkl, or .zip.'\n",
    "        )\n",
    "        \n",
    "    # Store in dict to make it easier to add additional formats in future.\n",
    "    ext2data = {'pkl': (open, 'b', pickle), \n",
    "                'zip': (BZ2File, '', pickle), \n",
    "                'json': (open, '', json)}\n",
    "    opener, mode_suffix, saver = ext2data[ext]\n",
    "    return opener, mode + mode_suffix, saver\n",
    "\n",
    "\n",
    "def save(obj, path, verbose=True):\n",
    "    \"\"\"Wrapper to save data as pickle (optionally zipped) or json.\n",
    "\n",
    "    Parameters\n",
    "    -----------\n",
    "    obj: any\n",
    "        Object to save. This will be pickled/jsonified/zipped inside the\n",
    "        function - do not convert it before-hand.\n",
    "    path: str\n",
    "        File name to save object to. Should end with .pkl, .zip, or\n",
    "        .json depending on desired output format. If .zip is used, object will\n",
    "        be zipped and then pickled.\n",
    "    verbose: bool\n",
    "        If True, print a message confirming that the data was pickled, along\n",
    "        with its path.\n",
    "\n",
    "    Returns\n",
    "    -------\n",
    "    None\n",
    "    \"\"\"\n",
    "    path = Path(path)\n",
    "    os.makedirs(path.parent, exist_ok=True)\n",
    "    if verbose: print(f'Writing data to {path}.')\n",
    "    if path.suffix == '.txt':\n",
    "        path.write_text(obj)\n",
    "    else:\n",
    "        opener, mode, saver = _read_write_args(str(path), 'w')\n",
    "        with opener(path, mode) as f:\n",
    "            saver.dump(obj, f)\n",
    "\n",
    "def load(path, verbose=True):\n",
    "    \"\"\"Wrapper to load pickled (optionally zipped) or json data.\n",
    "    \n",
    "    Parameters\n",
    "    ----------\n",
    "    path : str\n",
    "        File to load. File type will be inferred from extension.\n",
    "    verbose : bool, optional\n",
    "        If True, will print message stating where object was loaded from.\n",
    "    \n",
    "    Returns\n",
    "    -------\n",
    "    object: The Python object that was pickled to the specified file.\n",
    "    \"\"\"\n",
    "    path = Path(path)\n",
    "    if path.suffix == '.txt':\n",
    "        return path.read_text()\n",
    "    \n",
    "    opener, mode, saver = _read_write_args(str(path), 'r')\n",
    "    with opener(path, mode) as f:\n",
    "        data = saver.load(f)\n",
    "    if verbose: print(f'Object loaded from {path}.')\n",
    "    return data"
   ]
  },
  {
   "cell_type": "code",
   "execution_count": 45,
   "metadata": {
    "ExecuteTime": {
     "end_time": "2020-03-19T04:32:45.089293Z",
     "start_time": "2020-03-19T04:32:45.073897Z"
    }
   },
   "outputs": [],
   "source": [
    "d = dict(a=3, c=5, e=7)\n",
    "a = [4, 33, 27, 0]"
   ]
  },
  {
   "cell_type": "code",
   "execution_count": 46,
   "metadata": {
    "ExecuteTime": {
     "end_time": "2020-03-19T04:32:45.685560Z",
     "start_time": "2020-03-19T04:32:45.418439Z"
    }
   },
   "outputs": [
    {
     "name": "stdout",
     "output_type": "stream",
     "text": [
      "/Users/hmamin/pythonhm/htools/notebooks\n",
      "LICENSE.txt      \u001b[34mdata\u001b[m\u001b[m             \u001b[34mhtools.egg-info\u001b[m\u001b[m  setup.py\n",
      "MANIFEST.in      \u001b[34mdist\u001b[m\u001b[m             \u001b[34mnotebooks\u001b[m\u001b[m\n",
      "README.md        \u001b[34mdocs\u001b[m\u001b[m             requirements.txt\n",
      "\u001b[34m__pycache__\u001b[m\u001b[m      \u001b[34mhtools\u001b[m\u001b[m           setup.cfg\n"
     ]
    }
   ],
   "source": [
    "!pwd\n",
    "!ls .."
   ]
  },
  {
   "cell_type": "code",
   "execution_count": 47,
   "metadata": {
    "ExecuteTime": {
     "end_time": "2020-03-19T04:32:45.928382Z",
     "start_time": "2020-03-19T04:32:45.906545Z"
    }
   },
   "outputs": [
    {
     "data": {
      "text/plain": [
       "('../data/new/d.zip', PosixPath('../data/new/e.zip'))"
      ]
     },
     "execution_count": 47,
     "metadata": {},
     "output_type": "execute_result"
    }
   ],
   "source": [
    "path = os.path.join('..', 'data', 'new', 'd.zip')\n",
    "ppath = Path(path.replace('d.', 'e.'))\n",
    "path, ppath"
   ]
  },
  {
   "cell_type": "code",
   "execution_count": 48,
   "metadata": {
    "ExecuteTime": {
     "end_time": "2020-03-19T04:32:47.212607Z",
     "start_time": "2020-03-19T04:32:47.188018Z"
    }
   },
   "outputs": [
    {
     "name": "stdout",
     "output_type": "stream",
     "text": [
      "Writing data to ../data/new/d.zip.\n"
     ]
    }
   ],
   "source": [
    "save(d, path)"
   ]
  },
  {
   "cell_type": "code",
   "execution_count": 49,
   "metadata": {
    "ExecuteTime": {
     "end_time": "2020-03-19T04:32:47.389209Z",
     "start_time": "2020-03-19T04:32:47.369788Z"
    }
   },
   "outputs": [
    {
     "name": "stdout",
     "output_type": "stream",
     "text": [
      "Writing data to ../data/new/e.zip.\n"
     ]
    }
   ],
   "source": [
    "save(a, ppath)"
   ]
  },
  {
   "cell_type": "code",
   "execution_count": 50,
   "metadata": {
    "ExecuteTime": {
     "end_time": "2020-03-19T04:32:47.907991Z",
     "start_time": "2020-03-19T04:32:47.771711Z"
    }
   },
   "outputs": [
    {
     "name": "stdout",
     "output_type": "stream",
     "text": [
      "d.zip  d3.zip e.zip\r\n"
     ]
    }
   ],
   "source": [
    "!ls ../data/new"
   ]
  },
  {
   "cell_type": "code",
   "execution_count": 51,
   "metadata": {
    "ExecuteTime": {
     "end_time": "2020-03-19T04:32:50.194387Z",
     "start_time": "2020-03-19T04:32:50.171866Z"
    }
   },
   "outputs": [
    {
     "name": "stdout",
     "output_type": "stream",
     "text": [
      "Object loaded from ../data/new/d.zip.\n"
     ]
    },
    {
     "data": {
      "text/plain": [
       "{'a': 3, 'c': 5, 'e': 7}"
      ]
     },
     "execution_count": 51,
     "metadata": {},
     "output_type": "execute_result"
    }
   ],
   "source": [
    "load(path)"
   ]
  },
  {
   "cell_type": "code",
   "execution_count": 52,
   "metadata": {
    "ExecuteTime": {
     "end_time": "2020-03-19T04:33:00.761772Z",
     "start_time": "2020-03-19T04:33:00.743088Z"
    }
   },
   "outputs": [
    {
     "name": "stdout",
     "output_type": "stream",
     "text": [
      "Object loaded from ../data/new/e.zip.\n"
     ]
    },
    {
     "data": {
      "text/plain": [
       "[4, 33, 27, 0]"
      ]
     },
     "execution_count": 52,
     "metadata": {},
     "output_type": "execute_result"
    }
   ],
   "source": [
    "load(ppath)"
   ]
  },
  {
   "cell_type": "code",
   "execution_count": 53,
   "metadata": {
    "ExecuteTime": {
     "end_time": "2020-03-19T04:33:15.651212Z",
     "start_time": "2020-03-19T04:33:15.633150Z"
    }
   },
   "outputs": [
    {
     "data": {
      "text/plain": [
       "('../data/a.txt', PosixPath('../data/b.txt'))"
      ]
     },
     "execution_count": 53,
     "metadata": {},
     "output_type": "execute_result"
    }
   ],
   "source": [
    "path = os.path.join('..', 'data', 'a.txt')\n",
    "ppath = Path(path.replace('a.', 'b.'))\n",
    "path, ppath"
   ]
  },
  {
   "cell_type": "code",
   "execution_count": 55,
   "metadata": {
    "ExecuteTime": {
     "end_time": "2020-03-19T04:33:36.638439Z",
     "start_time": "2020-03-19T04:33:36.601626Z"
    }
   },
   "outputs": [
    {
     "name": "stdout",
     "output_type": "stream",
     "text": [
      "Writing data to ../data/a.txt.\n"
     ]
    }
   ],
   "source": [
    "save(str(a), path)"
   ]
  },
  {
   "cell_type": "code",
   "execution_count": 56,
   "metadata": {
    "ExecuteTime": {
     "end_time": "2020-03-19T04:33:46.243360Z",
     "start_time": "2020-03-19T04:33:46.223338Z"
    }
   },
   "outputs": [
    {
     "name": "stdout",
     "output_type": "stream",
     "text": [
      "Writing data to ../data/b.txt.\n"
     ]
    }
   ],
   "source": [
    "save(str(d), ppath)"
   ]
  },
  {
   "cell_type": "code",
   "execution_count": 61,
   "metadata": {
    "ExecuteTime": {
     "end_time": "2020-03-19T04:35:24.279404Z",
     "start_time": "2020-03-19T04:35:24.244284Z"
    }
   },
   "outputs": [
    {
     "data": {
      "text/plain": [
       "'[4, 33, 27, 0]'"
      ]
     },
     "execution_count": 61,
     "metadata": {},
     "output_type": "execute_result"
    }
   ],
   "source": [
    "load(path)"
   ]
  },
  {
   "cell_type": "code",
   "execution_count": 62,
   "metadata": {
    "ExecuteTime": {
     "end_time": "2020-03-19T04:35:29.814634Z",
     "start_time": "2020-03-19T04:35:29.792778Z"
    }
   },
   "outputs": [
    {
     "data": {
      "text/plain": [
       "\"{'a': 3, 'c': 5, 'e': 7}\""
      ]
     },
     "execution_count": 62,
     "metadata": {},
     "output_type": "execute_result"
    }
   ],
   "source": [
    "load(ppath)"
   ]
  },
  {
   "cell_type": "code",
   "execution_count": null,
   "metadata": {},
   "outputs": [],
   "source": []
  }
 ],
 "metadata": {
  "kernelspec": {
   "display_name": "Python 3",
   "language": "python",
   "name": "python3"
  },
  "language_info": {
   "codemirror_mode": {
    "name": "ipython",
    "version": 3
   },
   "file_extension": ".py",
   "mimetype": "text/x-python",
   "name": "python",
   "nbconvert_exporter": "python",
   "pygments_lexer": "ipython3",
   "version": "3.7.3"
  }
 },
 "nbformat": 4,
 "nbformat_minor": 2
}
