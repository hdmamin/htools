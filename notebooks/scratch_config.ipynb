{
 "cells": [
  {
   "cell_type": "code",
   "execution_count": 1,
   "metadata": {},
   "outputs": [],
   "source": [
    "%load_ext autoreload\n",
    "%autoreload 2"
   ]
  },
  {
   "cell_type": "code",
   "execution_count": 2,
   "metadata": {},
   "outputs": [],
   "source": [
    "import os\n",
    "\n",
    "from htools import hmail"
   ]
  },
  {
   "cell_type": "code",
   "execution_count": 3,
   "metadata": {},
   "outputs": [],
   "source": [
    "# GMAIL_ACCOUNT = ''\n",
    "# CONFIG_DIR = os.path.expanduser(os.path.join('~', '.htools'))\n",
    "# CREDS_FILE = os.path.expanduser(os.path.join(CONFIG_DIR, 'credentials.csv'))\n",
    "# print(GMAIL_ACCOUNT)\n",
    "# print(CONFIG_DIR)\n",
    "# print(CREDS_FILE)"
   ]
  },
  {
   "cell_type": "code",
   "execution_count": 4,
   "metadata": {},
   "outputs": [],
   "source": [
    "# def hmail(subject, message, to_email, from_email=GMAIL_ACCOUNT):\n",
    "#     \"\"\"Send an email.\n",
    "\n",
    "#     Parameters\n",
    "#     -----------\n",
    "#     from_email: str\n",
    "#         Gmail address being used to send email.\n",
    "#     to_email: str\n",
    "#         Recipient's email.\n",
    "#     subject: str\n",
    "#         Subject line of email.\n",
    "#     message: str\n",
    "#         Body of email.\n",
    "\n",
    "#     Returns\n",
    "#     --------\n",
    "#     None.\n",
    "#     \"\"\"\n",
    "#     # Load credentials.\n",
    "#     try:\n",
    "#         with open(GMAIL_CREDS_FILE, 'r') as f:\n",
    "#             creds = dict([line.strip().split(',') for line in f])\n",
    "#             password = creds[from_email]\n",
    "#     except Exception:\n",
    "#         cmd = input('We could not find credentials for that email '\n",
    "#                     'address. Would you like to enter your credentials '\n",
    "#                     'manually? [y/n]\\n')\n",
    "\n",
    "#         # Case 1: User enters password manually.\n",
    "#         if cmd == 'y':\n",
    "#             from_email = input('Enter email address:\\n')\n",
    "#             password = input('Enter password:\\n')\n",
    "#             cmd2 = input('Would you like to save these credentials locally '\n",
    "#                          '(if so, htools will remember your password for next '\n",
    "#                          'time)? [y/n]\\n')\n",
    "#             if cmd2 == 'y':\n",
    "#                 with open(CREDS_FILE, 'a') as f:\n",
    "#                     f.write(f'{from_email},{password}\\n')\n",
    "#                 print(f'File saved to {CREDS_FILE}.')\n",
    "#                 # STILL NEED TO UPDATE CONFIG.PYa\n",
    "\n",
    "#         # Case 2: User does not enter password manually.\n",
    "#         else:\n",
    "#             print('Email not sent. If you want to create your credentials '\n",
    "#                   'manually, make a csv where each row is formatted as: '\n",
    "#                   '\"email_address,password\". Name this file credentials.csv '\n",
    "#                   'and place it inside a directory called .htools, which '\n",
    "#                   'must be placed in your root directory.')\n",
    "\n",
    "#     # TESTING\n",
    "#     return\n",
    "\n",
    "#     # Create message instance.\n",
    "#     msg = MIMEText(message)\n",
    "#     msg['Subject'] = subject\n",
    "#     msg['From'] = from_email\n",
    "#     msg['To'] = to_email\n",
    "\n",
    "#     # Access server and send email.\n",
    "#     server = smtplib.SMTP(host='smtp.gmail.com', port=587)\n",
    "#     server.starttls()\n",
    "#     server.login(user=from_email, password=password)\n",
    "#     server.send_message(msg)\n",
    "#     print(f'Email sent to {to_email}.')"
   ]
  },
  {
   "cell_type": "code",
   "execution_count": 5,
   "metadata": {},
   "outputs": [
    {
     "name": "stdout",
     "output_type": "stream",
     "text": "hmamin55@gmail.com"
    }
   ],
   "source": [
    "!cat ~/.htools/config.csv"
   ]
  },
  {
   "cell_type": "code",
   "execution_count": 6,
   "metadata": {},
   "outputs": [
    {
     "name": "stdout",
     "output_type": "stream",
     "text": "\u001b[34m.\u001b[m\u001b[m               \u001b[34m..\u001b[m\u001b[m              config.csv      credentials.csv\n"
    }
   ],
   "source": [
    "!ls -a ~/.htools/"
   ]
  },
  {
   "cell_type": "code",
   "execution_count": null,
   "metadata": {},
   "outputs": [],
   "source": []
  }
 ],
 "metadata": {
  "kernelspec": {
   "display_name": "Python 3",
   "language": "python",
   "name": "python3"
  },
  "language_info": {
   "codemirror_mode": {
    "name": "ipython",
    "version": 3
   },
   "file_extension": ".py",
   "mimetype": "text/x-python",
   "name": "python",
   "nbconvert_exporter": "python",
   "pygments_lexer": "ipython3",
   "version": "3.7.3"
  }
 },
 "nbformat": 4,
 "nbformat_minor": 2
}