{
 "cells": [
  {
   "cell_type": "code",
   "execution_count": 69,
   "metadata": {
    "ExecuteTime": {
     "end_time": "2019-10-16T04:21:38.799415Z",
     "start_time": "2019-10-16T04:21:38.746477Z"
    }
   },
   "outputs": [
    {
     "name": "stdout",
     "output_type": "stream",
     "text": [
      "The autoreload extension is already loaded. To reload it, use:\n",
      "  %reload_ext autoreload\n"
     ]
    }
   ],
   "source": [
    "%load_ext autoreload\n",
    "%autoreload 2"
   ]
  },
  {
   "cell_type": "code",
   "execution_count": 70,
   "metadata": {
    "ExecuteTime": {
     "end_time": "2019-10-16T04:21:39.012708Z",
     "start_time": "2019-10-16T04:21:38.989836Z"
    }
   },
   "outputs": [],
   "source": [
    "from htools import hdir, magics"
   ]
  },
  {
   "cell_type": "code",
   "execution_count": 71,
   "metadata": {
    "ExecuteTime": {
     "end_time": "2019-10-16T04:21:39.579272Z",
     "start_time": "2019-10-16T04:21:39.549522Z"
    }
   },
   "outputs": [],
   "source": [
    "def differences(obj1, obj2, methods=False, **kwargs):\n",
    "    \"\"\"Find the differences between two objects of the same type. This is a \n",
    "    way to get more detail beyond whether two objects are equal or not.\n",
    "    \n",
    "    Parameters\n",
    "    -----------\n",
    "    obj1: any type\n",
    "        An object.\n",
    "    obj2: same type as obj1\n",
    "        An object.\n",
    "    methods: bool\n",
    "        If True, include methods in the comparison. If False, only attributes\n",
    "        will be compared. Note that the output may not be particularly \n",
    "        interpretable when using method=True; for instance when comparing two\n",
    "        strings consisting of different characters, we get a lot of output \n",
    "        that looks like this:\n",
    "        \n",
    "        {'islower': (<function str.islower()>, <function str.islower()>),\n",
    "        'isupper': (<function str.isupper()>, <function str.isupper()>),...\n",
    "        'istitle': (<function str.istitle()>, <function str.istitle()>)}\n",
    "        \n",
    "        These attributes all reflect the same difference: if obj1 is 'abc'\n",
    "        and obj2 is 'def', then \n",
    "        'abc' != 'def' and \n",
    "        'ABC' != 'DEF' abd \n",
    "        'Abc' != 'Def'. \n",
    "        \n",
    "        When method=False, we ignore all of these, such that \n",
    "        differences('a', 'b') returns {}. Therefore, it is important to \n",
    "        carefully consider what differences you care about identifying.\n",
    "        \n",
    "    **kwargs: bool\n",
    "        Can pass args to hdir to include magics or internals.\n",
    "    \n",
    "    Returns\n",
    "    --------\n",
    "    dict[str, tuple]: Maps attribute name to a tuple of values, where the \n",
    "        first is the corresponding value for obj1 and the second is the \n",
    "        corresponding value for obj2.\n",
    "    \"\"\"\n",
    "    attr1, attr2 = hdir(obj1, **kwargs), hdir(obj2, **kwargs)\n",
    "    assert type(obj1) == type(obj2), 'Objects must be the same type.'\n",
    "    assert attr1.keys() == attr2.keys(), 'Objects must have same attributes.'\n",
    "    \n",
    "    diffs = {}\n",
    "    if obj1 == obj2:\n",
    "        return diffs\n",
    "    for (k1, v1), (k2, v2) in zip(attr1.items(), attr2.items()):\n",
    "        # Only compare non-callable attributes.\n",
    "        if not (methods or v1 == 'attribute'):\n",
    "            continue\n",
    "            \n",
    "        # Comparisons work differently for numpy arrays.\n",
    "        val1, val2 = getattr(obj1, k1), getattr(obj2, k2)\n",
    "        try:\n",
    "            equal = (val1 == val2).all()\n",
    "        except AttributeError:\n",
    "            equal = val1 == val2\n",
    "            \n",
    "        # Store values that are different for obj1 and obj2.\n",
    "        if not equal:\n",
    "            diffs[k1] = (val1, val2)\n",
    "            \n",
    "    return diffs"
   ]
  },
  {
   "cell_type": "code",
   "execution_count": 34,
   "metadata": {
    "ExecuteTime": {
     "end_time": "2019-10-16T03:51:41.350790Z",
     "start_time": "2019-10-16T03:51:41.344490Z"
    }
   },
   "outputs": [
    {
     "data": {
      "text/plain": [
       "{}"
      ]
     },
     "execution_count": 34,
     "metadata": {},
     "output_type": "execute_result"
    }
   ],
   "source": [
    "differences('a', 'b')"
   ]
  },
  {
   "cell_type": "code",
   "execution_count": 51,
   "metadata": {
    "ExecuteTime": {
     "end_time": "2019-10-16T04:01:04.390317Z",
     "start_time": "2019-10-16T04:01:04.374531Z"
    }
   },
   "outputs": [
    {
     "data": {
      "text/plain": [
       "True"
      ]
     },
     "execution_count": 51,
     "metadata": {},
     "output_type": "execute_result"
    },
    {
     "data": {
      "text/plain": [
       "False"
      ]
     },
     "execution_count": 51,
     "metadata": {},
     "output_type": "execute_result"
    },
    {
     "data": {
      "text/plain": [
       "False"
      ]
     },
     "execution_count": 51,
     "metadata": {},
     "output_type": "execute_result"
    }
   ],
   "source": [
    "%%talk\n",
    "\n",
    "s = 'abcDEFghi'\n",
    "s.casefold() == s.lower()\n",
    "s.casefold() == s.upper()\n",
    "s.casefold() == s.title()"
   ]
  },
  {
   "cell_type": "code",
   "execution_count": 35,
   "metadata": {
    "ExecuteTime": {
     "end_time": "2019-10-16T03:51:57.264862Z",
     "start_time": "2019-10-16T03:51:57.228900Z"
    }
   },
   "outputs": [
    {
     "data": {
      "text/plain": [
       "{'capitalize': (<function str.capitalize()>, <function str.capitalize()>),\n",
       " 'casefold': (<function str.casefold()>, <function str.casefold()>),\n",
       " 'center': (<function str.center(width, fillchar=' ', /)>,\n",
       "  <function str.center(width, fillchar=' ', /)>),\n",
       " 'count': (<function str.count>, <function str.count>),\n",
       " 'encode': (<function str.encode(encoding='utf-8', errors='strict')>,\n",
       "  <function str.encode(encoding='utf-8', errors='strict')>),\n",
       " 'endswith': (<function str.endswith>, <function str.endswith>),\n",
       " 'expandtabs': (<function str.expandtabs(tabsize=8)>,\n",
       "  <function str.expandtabs(tabsize=8)>),\n",
       " 'find': (<function str.find>, <function str.find>),\n",
       " 'format': (<function str.format>, <function str.format>),\n",
       " 'format_map': (<function str.format_map>, <function str.format_map>),\n",
       " 'index': (<function str.index>, <function str.index>),\n",
       " 'isalnum': (<function str.isalnum()>, <function str.isalnum()>),\n",
       " 'isalpha': (<function str.isalpha()>, <function str.isalpha()>),\n",
       " 'isascii': (<function str.isascii()>, <function str.isascii()>),\n",
       " 'isdecimal': (<function str.isdecimal()>, <function str.isdecimal()>),\n",
       " 'isdigit': (<function str.isdigit()>, <function str.isdigit()>),\n",
       " 'isidentifier': (<function str.isidentifier()>,\n",
       "  <function str.isidentifier()>),\n",
       " 'islower': (<function str.islower()>, <function str.islower()>),\n",
       " 'isnumeric': (<function str.isnumeric()>, <function str.isnumeric()>),\n",
       " 'isprintable': (<function str.isprintable()>, <function str.isprintable()>),\n",
       " 'isspace': (<function str.isspace()>, <function str.isspace()>),\n",
       " 'istitle': (<function str.istitle()>, <function str.istitle()>),\n",
       " 'isupper': (<function str.isupper()>, <function str.isupper()>),\n",
       " 'join': (<function str.join(iterable, /)>, <function str.join(iterable, /)>),\n",
       " 'ljust': (<function str.ljust(width, fillchar=' ', /)>,\n",
       "  <function str.ljust(width, fillchar=' ', /)>),\n",
       " 'lower': (<function str.lower()>, <function str.lower()>),\n",
       " 'lstrip': (<function str.lstrip(chars=None, /)>,\n",
       "  <function str.lstrip(chars=None, /)>),\n",
       " 'partition': (<function str.partition(sep, /)>,\n",
       "  <function str.partition(sep, /)>),\n",
       " 'replace': (<function str.replace(old, new, count=-1, /)>,\n",
       "  <function str.replace(old, new, count=-1, /)>),\n",
       " 'rfind': (<function str.rfind>, <function str.rfind>),\n",
       " 'rindex': (<function str.rindex>, <function str.rindex>),\n",
       " 'rjust': (<function str.rjust(width, fillchar=' ', /)>,\n",
       "  <function str.rjust(width, fillchar=' ', /)>),\n",
       " 'rpartition': (<function str.rpartition(sep, /)>,\n",
       "  <function str.rpartition(sep, /)>),\n",
       " 'rsplit': (<function str.rsplit(sep=None, maxsplit=-1)>,\n",
       "  <function str.rsplit(sep=None, maxsplit=-1)>),\n",
       " 'rstrip': (<function str.rstrip(chars=None, /)>,\n",
       "  <function str.rstrip(chars=None, /)>),\n",
       " 'split': (<function str.split(sep=None, maxsplit=-1)>,\n",
       "  <function str.split(sep=None, maxsplit=-1)>),\n",
       " 'splitlines': (<function str.splitlines(keepends=False)>,\n",
       "  <function str.splitlines(keepends=False)>),\n",
       " 'startswith': (<function str.startswith>, <function str.startswith>),\n",
       " 'strip': (<function str.strip(chars=None, /)>,\n",
       "  <function str.strip(chars=None, /)>),\n",
       " 'swapcase': (<function str.swapcase()>, <function str.swapcase()>),\n",
       " 'title': (<function str.title()>, <function str.title()>),\n",
       " 'translate': (<function str.translate(table, /)>,\n",
       "  <function str.translate(table, /)>),\n",
       " 'upper': (<function str.upper()>, <function str.upper()>),\n",
       " 'zfill': (<function str.zfill(width, /)>, <function str.zfill(width, /)>)}"
      ]
     },
     "execution_count": 35,
     "metadata": {},
     "output_type": "execute_result"
    }
   ],
   "source": [
    "differences('a', 'b', True)"
   ]
  },
  {
   "cell_type": "code",
   "execution_count": 36,
   "metadata": {
    "ExecuteTime": {
     "end_time": "2019-10-16T03:52:05.823357Z",
     "start_time": "2019-10-16T03:52:05.815074Z"
    }
   },
   "outputs": [
    {
     "data": {
      "text/plain": [
       "{'real': (3.4, 3.1)}"
      ]
     },
     "execution_count": 36,
     "metadata": {},
     "output_type": "execute_result"
    }
   ],
   "source": [
    "differences(3.4, 3.1)"
   ]
  },
  {
   "cell_type": "code",
   "execution_count": 37,
   "metadata": {
    "ExecuteTime": {
     "end_time": "2019-10-16T03:52:12.668917Z",
     "start_time": "2019-10-16T03:52:12.660157Z"
    }
   },
   "outputs": [
    {
     "data": {
      "text/plain": [
       "{'as_integer_ratio': (<function float.as_integer_ratio()>,\n",
       "  <function float.as_integer_ratio()>),\n",
       " 'conjugate': (<function float.conjugate()>, <function float.conjugate()>),\n",
       " 'hex': (<function float.hex()>, <function float.hex()>),\n",
       " 'is_integer': (<function float.is_integer()>, <function float.is_integer()>),\n",
       " 'real': (3.4, 3.0)}"
      ]
     },
     "execution_count": 37,
     "metadata": {},
     "output_type": "execute_result"
    }
   ],
   "source": [
    "differences(3.4, 3.0, True)"
   ]
  },
  {
   "cell_type": "code",
   "execution_count": 42,
   "metadata": {
    "ExecuteTime": {
     "end_time": "2019-10-16T03:53:24.167555Z",
     "start_time": "2019-10-16T03:53:24.161850Z"
    }
   },
   "outputs": [],
   "source": [
    "d1 = dict(a=1, b=2, c=3)\n",
    "d2 = dict(a=2, b=3, c=4)"
   ]
  },
  {
   "cell_type": "code",
   "execution_count": 44,
   "metadata": {
    "ExecuteTime": {
     "end_time": "2019-10-16T03:53:33.950855Z",
     "start_time": "2019-10-16T03:53:33.912379Z"
    }
   },
   "outputs": [
    {
     "data": {
      "text/plain": [
       "False"
      ]
     },
     "execution_count": 44,
     "metadata": {},
     "output_type": "execute_result"
    },
    {
     "data": {
      "text/plain": [
       "{}"
      ]
     },
     "execution_count": 44,
     "metadata": {},
     "output_type": "execute_result"
    },
    {
     "data": {
      "text/plain": [
       "{'clear': (<function dict.clear>, <function dict.clear>),\n",
       " 'copy': (<function dict.copy>, <function dict.copy>),\n",
       " 'get': (<function dict.get(key, default=None, /)>,\n",
       "  <function dict.get(key, default=None, /)>),\n",
       " 'items': (<function dict.items>, <function dict.items>),\n",
       " 'keys': (<function dict.keys>, <function dict.keys>),\n",
       " 'pop': (<function dict.pop>, <function dict.pop>),\n",
       " 'popitem': (<function dict.popitem>, <function dict.popitem>),\n",
       " 'setdefault': (<function dict.setdefault(key, default=None, /)>,\n",
       "  <function dict.setdefault(key, default=None, /)>),\n",
       " 'update': (<function dict.update>, <function dict.update>),\n",
       " 'values': (<function dict.values>, <function dict.values>)}"
      ]
     },
     "execution_count": 44,
     "metadata": {},
     "output_type": "execute_result"
    }
   ],
   "source": [
    "%%talk\n",
    "\n",
    "d1 == d2\n",
    "differences(d1, d2)\n",
    "differences(d1, d2, True)"
   ]
  },
  {
   "cell_type": "code",
   "execution_count": 47,
   "metadata": {
    "ExecuteTime": {
     "end_time": "2019-10-16T03:54:44.582729Z",
     "start_time": "2019-10-16T03:54:44.545861Z"
    }
   },
   "outputs": [
    {
     "data": {
      "text/plain": [
       "False"
      ]
     },
     "execution_count": 47,
     "metadata": {},
     "output_type": "execute_result"
    },
    {
     "data": {
      "text/plain": [
       "True"
      ]
     },
     "execution_count": 47,
     "metadata": {},
     "output_type": "execute_result"
    },
    {
     "data": {
      "text/plain": [
       "{}"
      ]
     },
     "execution_count": 47,
     "metadata": {},
     "output_type": "execute_result"
    },
    {
     "data": {
      "text/plain": [
       "{}"
      ]
     },
     "execution_count": 47,
     "metadata": {},
     "output_type": "execute_result"
    }
   ],
   "source": [
    "%%talk\n",
    "\n",
    "d3 = dict(a=1, b=2, c=3)\n",
    "d1 is d3\n",
    "d1 == d3\n",
    "differences(d1, d3)\n",
    "differences(d1, d3, True)"
   ]
  },
  {
   "cell_type": "code",
   "execution_count": 55,
   "metadata": {
    "ExecuteTime": {
     "end_time": "2019-10-16T04:11:54.736319Z",
     "start_time": "2019-10-16T04:11:54.730065Z"
    }
   },
   "outputs": [
    {
     "data": {
      "text/plain": [
       "{'real': (1.0, 2.0)}"
      ]
     },
     "execution_count": 55,
     "metadata": {},
     "output_type": "execute_result"
    }
   ],
   "source": [
    "differences(1., 2.)"
   ]
  },
  {
   "cell_type": "markdown",
   "metadata": {},
   "source": [
    "## 5/25 update"
   ]
  },
  {
   "cell_type": "code",
   "execution_count": 48,
   "metadata": {
    "ExecuteTime": {
     "end_time": "2020-05-25T21:17:12.493757Z",
     "start_time": "2020-05-25T21:17:12.490427Z"
    }
   },
   "outputs": [],
   "source": [
    "import numpy as np\n",
    "import torch\n",
    "\n",
    "from htools import Args, lmap, hdir"
   ]
  },
  {
   "cell_type": "code",
   "execution_count": 49,
   "metadata": {
    "ExecuteTime": {
     "end_time": "2020-05-25T21:17:12.708436Z",
     "start_time": "2020-05-25T21:17:12.696308Z"
    }
   },
   "outputs": [],
   "source": [
    "def differences(obj1, obj2, methods=False, **kwargs):\n",
    "    try:\n",
    "        if obj1 == obj2:\n",
    "            return {}\n",
    "    except ValueError:\n",
    "        pass\n",
    "\n",
    "#     assert type(obj1) == type(obj2), 'Objects must be the same type.'\n",
    "    attr1, attr2 = hdir(obj1, **kwargs), hdir(obj2, **kwargs)\n",
    "    assert attr1.keys() == attr2.keys(), 'Objects must have same attributes.'\n",
    "\n",
    "    diffs = {}\n",
    "    for (k1, v1), (k2, v2) in zip(attr1.items(), attr2.items()):\n",
    "        # Only compare non-callable attributes.\n",
    "        if not (methods or v1 == 'attribute'):\n",
    "            continue\n",
    "\n",
    "        # Comparisons work differently for numpy arrays.\n",
    "        val1, val2 = getattr(obj1, k1), getattr(obj2, k2)\n",
    "        try:\n",
    "            equal = (val1 == val2).all()\n",
    "        except AttributeError:\n",
    "            equal = val1 == val2\n",
    "\n",
    "        # Store values that are different for obj1 and obj2.\n",
    "        if not equal:\n",
    "            diffs[k1] = (val1, val2)\n",
    "\n",
    "    return diffs"
   ]
  },
  {
   "cell_type": "code",
   "execution_count": 50,
   "metadata": {
    "ExecuteTime": {
     "end_time": "2020-05-25T21:17:12.920291Z",
     "start_time": "2020-05-25T21:17:12.911917Z"
    }
   },
   "outputs": [
    {
     "data": {
      "text/plain": [
       "Args(a=array([ 0,  1,  2,  3,  4,  5,  6,  7,  8,  9, 10, 11]), t=tensor([0, 1, 2, 3, 4, 5, 6, 7, 8, 9]))"
      ]
     },
     "execution_count": 50,
     "metadata": {},
     "output_type": "execute_result"
    }
   ],
   "source": [
    "a = np.arange(12)\n",
    "t = torch.arange(0, 10)\n",
    "o1 = Args(a=a, t=t)\n",
    "o1"
   ]
  },
  {
   "cell_type": "code",
   "execution_count": 51,
   "metadata": {
    "ExecuteTime": {
     "end_time": "2020-05-25T21:17:13.357214Z",
     "start_time": "2020-05-25T21:17:13.353380Z"
    }
   },
   "outputs": [],
   "source": [
    "a2 = np.arange(12)\n",
    "t2 = torch.arange(0, 10)\n",
    "t2[-1] = 99\n",
    "o2 = Args(a=a2, t=t2)"
   ]
  },
  {
   "cell_type": "code",
   "execution_count": 52,
   "metadata": {
    "ExecuteTime": {
     "end_time": "2020-05-25T21:17:14.156109Z",
     "start_time": "2020-05-25T21:17:14.147326Z"
    },
    "scrolled": true
   },
   "outputs": [
    {
     "data": {
      "text/plain": [
       "{'t': (tensor([0, 1, 2, 3, 4, 5, 6, 7, 8, 9]),\n",
       "  tensor([ 0,  1,  2,  3,  4,  5,  6,  7,  8, 99]))}"
      ]
     },
     "execution_count": 52,
     "metadata": {},
     "output_type": "execute_result"
    }
   ],
   "source": [
    "differences(o1, o2)"
   ]
  },
  {
   "cell_type": "code",
   "execution_count": 59,
   "metadata": {
    "ExecuteTime": {
     "end_time": "2020-05-25T21:19:37.733760Z",
     "start_time": "2020-05-25T21:19:37.717643Z"
    }
   },
   "outputs": [
    {
     "ename": "TypeError",
     "evalue": "eq() received an invalid combination of arguments - got (Args), but expected one of:\n * (Tensor other)\n      didn't match because some of the arguments have invalid types: (!Args!)\n * (Number other)\n      didn't match because some of the arguments have invalid types: (!Args!)\n",
     "output_type": "error",
     "traceback": [
      "\u001b[0;31m---------------------------------------------------------------------------\u001b[0m",
      "\u001b[0;31mTypeError\u001b[0m                                 Traceback (most recent call last)",
      "\u001b[0;32m<ipython-input-59-fc903d54c74e>\u001b[0m in \u001b[0;36m<module>\u001b[0;34m\u001b[0m\n\u001b[0;32m----> 1\u001b[0;31m \u001b[0mdifferences\u001b[0m\u001b[0;34m(\u001b[0m\u001b[0mo1\u001b[0m\u001b[0;34m,\u001b[0m \u001b[0mt\u001b[0m\u001b[0;34m)\u001b[0m\u001b[0;34m\u001b[0m\u001b[0;34m\u001b[0m\u001b[0m\n\u001b[0m",
      "\u001b[0;32m<ipython-input-49-538eefbcddf8>\u001b[0m in \u001b[0;36mdifferences\u001b[0;34m(obj1, obj2, methods, **kwargs)\u001b[0m\n\u001b[1;32m      1\u001b[0m \u001b[0;32mdef\u001b[0m \u001b[0mdifferences\u001b[0m\u001b[0;34m(\u001b[0m\u001b[0mobj1\u001b[0m\u001b[0;34m,\u001b[0m \u001b[0mobj2\u001b[0m\u001b[0;34m,\u001b[0m \u001b[0mmethods\u001b[0m\u001b[0;34m=\u001b[0m\u001b[0;32mFalse\u001b[0m\u001b[0;34m,\u001b[0m \u001b[0;34m**\u001b[0m\u001b[0mkwargs\u001b[0m\u001b[0;34m)\u001b[0m\u001b[0;34m:\u001b[0m\u001b[0;34m\u001b[0m\u001b[0;34m\u001b[0m\u001b[0m\n\u001b[1;32m      2\u001b[0m     \u001b[0;32mtry\u001b[0m\u001b[0;34m:\u001b[0m\u001b[0;34m\u001b[0m\u001b[0;34m\u001b[0m\u001b[0m\n\u001b[0;32m----> 3\u001b[0;31m         \u001b[0;32mif\u001b[0m \u001b[0mobj1\u001b[0m \u001b[0;34m==\u001b[0m \u001b[0mobj2\u001b[0m\u001b[0;34m:\u001b[0m\u001b[0;34m\u001b[0m\u001b[0;34m\u001b[0m\u001b[0m\n\u001b[0m\u001b[1;32m      4\u001b[0m             \u001b[0;32mreturn\u001b[0m \u001b[0;34m{\u001b[0m\u001b[0;34m}\u001b[0m\u001b[0;34m\u001b[0m\u001b[0;34m\u001b[0m\u001b[0m\n\u001b[1;32m      5\u001b[0m     \u001b[0;32mexcept\u001b[0m \u001b[0mValueError\u001b[0m\u001b[0;34m:\u001b[0m\u001b[0;34m\u001b[0m\u001b[0;34m\u001b[0m\u001b[0m\n",
      "\u001b[0;31mTypeError\u001b[0m: eq() received an invalid combination of arguments - got (Args), but expected one of:\n * (Tensor other)\n      didn't match because some of the arguments have invalid types: (!Args!)\n * (Number other)\n      didn't match because some of the arguments have invalid types: (!Args!)\n"
     ]
    }
   ],
   "source": [
    "differences(o1, t)"
   ]
  },
  {
   "cell_type": "markdown",
   "metadata": {},
   "source": [
    "## kwargs alternative"
   ]
  },
  {
   "cell_type": "code",
   "execution_count": 112,
   "metadata": {
    "ExecuteTime": {
     "end_time": "2020-05-25T21:39:57.005442Z",
     "start_time": "2020-05-25T21:39:56.985082Z"
    }
   },
   "outputs": [],
   "source": [
    "def kwargs_fallback(self, *args, assign=False, **kwargs):\n",
    "    res = []\n",
    "    for arg in args:\n",
    "        val = kwargs.get(arg) or getattr(self, arg)\n",
    "        res.append(val)\n",
    "        if assign: setattr(self, arg, val)\n",
    "    return res if len(res) > 1 else res[0]"
   ]
  },
  {
   "cell_type": "code",
   "execution_count": 113,
   "metadata": {
    "ExecuteTime": {
     "end_time": "2020-05-25T21:40:06.950791Z",
     "start_time": "2020-05-25T21:40:06.940997Z"
    }
   },
   "outputs": [],
   "source": [
    "class Foo:\n",
    "    z = 100\n",
    "    def __init__(self, a, b=3, c=('a', 'b', 'c')):\n",
    "        self.a, self.b, self.c = a, b, c\n",
    "        \n",
    "    def walk(self, d, **kwargs):\n",
    "        a, b, c = kwargs_fallback(self, 'a', 'b', 'c', **kwargs)\n",
    "        print(self.a, a, b, c, d)\n",
    "        a = kwargs_fallback(self, 'a', assign=True, **kwargs)\n",
    "        print(a, self.a)\n",
    "        print('z', self.z)\n",
    "        z = kwargs_fallback(self, 'z', **kwargs)\n",
    "        print(z, self.z)\n",
    "        z = kwargs_fallback(self, 'z', assign=True, **kwargs)\n",
    "        print(z, self.z)"
   ]
  },
  {
   "cell_type": "code",
   "execution_count": 114,
   "metadata": {
    "ExecuteTime": {
     "end_time": "2020-05-25T21:40:07.299399Z",
     "start_time": "2020-05-25T21:40:07.296654Z"
    }
   },
   "outputs": [],
   "source": [
    "f = Foo(1)"
   ]
  },
  {
   "cell_type": "code",
   "execution_count": 115,
   "metadata": {
    "ExecuteTime": {
     "end_time": "2020-05-25T21:40:07.519952Z",
     "start_time": "2020-05-25T21:40:07.511578Z"
    }
   },
   "outputs": [
    {
     "name": "stdout",
     "output_type": "stream",
     "text": [
      "1 1 3 ('a', 'b', 'c') 9\n",
      "1 1\n",
      "z 100\n",
      "100 100\n",
      "100 100\n"
     ]
    }
   ],
   "source": [
    "f.walk(9)"
   ]
  },
  {
   "cell_type": "code",
   "execution_count": 116,
   "metadata": {
    "ExecuteTime": {
     "end_time": "2020-05-25T21:40:07.683020Z",
     "start_time": "2020-05-25T21:40:07.674550Z"
    }
   },
   "outputs": [
    {
     "name": "stdout",
     "output_type": "stream",
     "text": [
      "1 1 333 ('a', 'b', 'c') 9\n",
      "1 1\n",
      "z 100\n",
      "100 100\n",
      "100 100\n"
     ]
    }
   ],
   "source": [
    "f.walk(9, b=333)"
   ]
  },
  {
   "cell_type": "code",
   "execution_count": 117,
   "metadata": {
    "ExecuteTime": {
     "end_time": "2020-05-25T21:40:07.849695Z",
     "start_time": "2020-05-25T21:40:07.841839Z"
    }
   },
   "outputs": [
    {
     "name": "stdout",
     "output_type": "stream",
     "text": [
      "1 11 3 ['a', 'bc'] 9\n",
      "11 11\n",
      "z 100\n",
      "100 100\n",
      "100 100\n"
     ]
    }
   ],
   "source": [
    "f.walk(9, a=11, c=['a', 'bc'])"
   ]
  },
  {
   "cell_type": "code",
   "execution_count": 118,
   "metadata": {
    "ExecuteTime": {
     "end_time": "2020-05-25T21:40:08.019770Z",
     "start_time": "2020-05-25T21:40:08.010009Z"
    }
   },
   "outputs": [
    {
     "name": "stdout",
     "output_type": "stream",
     "text": [
      "11 11 3 ('a', 'b', 'c') 44\n",
      "11 11\n",
      "z 100\n",
      "-1 100\n",
      "-1 -1\n"
     ]
    }
   ],
   "source": [
    "f.walk(44, z=-1)"
   ]
  },
  {
   "cell_type": "code",
   "execution_count": 119,
   "metadata": {
    "ExecuteTime": {
     "end_time": "2020-05-25T21:40:08.186778Z",
     "start_time": "2020-05-25T21:40:08.179072Z"
    }
   },
   "outputs": [
    {
     "data": {
      "text/plain": [
       "100"
      ]
     },
     "execution_count": 119,
     "metadata": {},
     "output_type": "execute_result"
    }
   ],
   "source": [
    "Foo.z"
   ]
  },
  {
   "cell_type": "code",
   "execution_count": 120,
   "metadata": {
    "ExecuteTime": {
     "end_time": "2020-05-25T21:40:08.345624Z",
     "start_time": "2020-05-25T21:40:08.340997Z"
    }
   },
   "outputs": [
    {
     "data": {
      "text/plain": [
       "{'a': 11, 'b': 3, 'c': ('a', 'b', 'c'), 'z': -1}"
      ]
     },
     "execution_count": 120,
     "metadata": {},
     "output_type": "execute_result"
    }
   ],
   "source": [
    "vars(f)"
   ]
  },
  {
   "cell_type": "code",
   "execution_count": 129,
   "metadata": {
    "ExecuteTime": {
     "end_time": "2020-05-25T21:52:41.317349Z",
     "start_time": "2020-05-25T21:52:41.309727Z"
    }
   },
   "outputs": [],
   "source": [
    "class Foo:\n",
    "\n",
    "    def __init__(self, a, b=3, c=('a', 'b', 'c')):\n",
    "        self.a, self.b, self.c = a, b, c\n",
    "\n",
    "    def walk(self, d, **kwargs):\n",
    "        a, c = kwargs_fallback(self, 'a', 'c', **kwargs)\n",
    "        print(self.a, self.b, self.c)\n",
    "        print(a, c, end='\\n\\n')\n",
    "\n",
    "        b, c = kwargs_fallback(self, 'b', 'c', assign=True, **kwargs)\n",
    "        print(self.a, self.b, self.c)\n",
    "        print(b, c)"
   ]
  },
  {
   "cell_type": "code",
   "execution_count": 130,
   "metadata": {
    "ExecuteTime": {
     "end_time": "2020-05-25T21:52:41.803669Z",
     "start_time": "2020-05-25T21:52:41.798015Z"
    }
   },
   "outputs": [
    {
     "name": "stdout",
     "output_type": "stream",
     "text": [
      "1 3 ('a', 'b', 'c')\n",
      "1 100\n",
      "\n",
      "1 10 100\n",
      "10 100\n"
     ]
    }
   ],
   "source": [
    "f = Foo(1)\n",
    "f.walk(d=0, b=10, c=100)"
   ]
  }
 ],
 "metadata": {
  "kernelspec": {
   "display_name": "Python 3",
   "language": "python",
   "name": "python3"
  },
  "language_info": {
   "codemirror_mode": {
    "name": "ipython",
    "version": 3
   },
   "file_extension": ".py",
   "mimetype": "text/x-python",
   "name": "python",
   "nbconvert_exporter": "python",
   "pygments_lexer": "ipython3",
   "version": "3.7.3"
  }
 },
 "nbformat": 4,
 "nbformat_minor": 2
}
