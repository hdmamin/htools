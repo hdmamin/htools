{
 "cells": [
  {
   "cell_type": "code",
   "execution_count": 1,
   "metadata": {
    "ExecuteTime": {
     "end_time": "2020-06-27T00:31:36.345651Z",
     "start_time": "2020-06-27T00:31:36.307361Z"
    }
   },
   "outputs": [],
   "source": [
    "%load_ext autoreload\n",
    "%autoreload 2"
   ]
  },
  {
   "cell_type": "code",
   "execution_count": 2,
   "metadata": {
    "ExecuteTime": {
     "end_time": "2020-06-27T00:31:36.513797Z",
     "start_time": "2020-06-27T00:31:36.457121Z"
    }
   },
   "outputs": [],
   "source": [
    "from htools import FuzzyKeyDict"
   ]
  },
  {
   "cell_type": "code",
   "execution_count": 3,
   "metadata": {
    "ExecuteTime": {
     "end_time": "2020-06-27T00:31:37.068464Z",
     "start_time": "2020-06-27T00:31:36.928682Z"
    }
   },
   "outputs": [
    {
     "name": "stdout",
     "output_type": "stream",
     "text": [
      "/Users/hmamin/pythonhm/htools/notebooks\r\n"
     ]
    }
   ],
   "source": [
    "!pwd"
   ]
  },
  {
   "cell_type": "code",
   "execution_count": 5,
   "metadata": {
    "ExecuteTime": {
     "end_time": "2020-06-27T00:34:13.904235Z",
     "start_time": "2020-06-27T00:34:13.881257Z"
    }
   },
   "outputs": [
    {
     "data": {
      "text/plain": [
       "({'dog': 3,\n",
       "  'bulldog': 2,\n",
       "  'doggo': 4,\n",
       "  'housecat': 0,\n",
       "  'kitty': -3,\n",
       "  'kitten': -4,\n",
       "  'horse': 99,\n",
       "  'racehorse': 101},\n",
       " {'dog': 3,\n",
       "  'bulldog': 2,\n",
       "  'doggo': 4,\n",
       "  'housecat': 0,\n",
       "  'kitty': -3,\n",
       "  'kitten': -4,\n",
       "  'horse': 99,\n",
       "  'racehorse': 101})"
      ]
     },
     "execution_count": 5,
     "metadata": {},
     "output_type": "execute_result"
    }
   ],
   "source": [
    "d = dict(dog=3, bulldog=2, doggo=4, housecat=0, kitty=-3, kitten=-4, horse=99,\n",
    "         racehorse=101)\n",
    "fd = FuzzyKeyDict(d)\n",
    "d, fd"
   ]
  },
  {
   "cell_type": "code",
   "execution_count": 6,
   "metadata": {
    "ExecuteTime": {
     "end_time": "2020-06-27T00:34:19.599071Z",
     "start_time": "2020-06-27T00:34:19.571039Z"
    }
   },
   "outputs": [
    {
     "data": {
      "text/plain": [
       "3"
      ]
     },
     "execution_count": 6,
     "metadata": {},
     "output_type": "execute_result"
    }
   ],
   "source": [
    "fd['dog']"
   ]
  },
  {
   "cell_type": "code",
   "execution_count": 7,
   "metadata": {
    "ExecuteTime": {
     "end_time": "2020-06-27T00:34:25.805637Z",
     "start_time": "2020-06-27T00:34:25.772214Z"
    }
   },
   "outputs": [
    {
     "data": {
      "text/plain": [
       "[4, 3, 2]"
      ]
     },
     "execution_count": 7,
     "metadata": {},
     "output_type": "execute_result"
    }
   ],
   "source": [
    "fd['doggy']"
   ]
  },
  {
   "cell_type": "code",
   "execution_count": 39,
   "metadata": {
    "ExecuteTime": {
     "end_time": "2020-06-27T00:39:37.400233Z",
     "start_time": "2020-06-27T00:39:37.370566Z"
    }
   },
   "outputs": [],
   "source": [
    "class LowerDict(dict):\n",
    "    \n",
    "    def __init__(self, dummy, data=()):\n",
    "        super().__init__(data)\n",
    "        self.dummy = dummy\n",
    "        \n",
    "    def __getitem__(self, key):\n",
    "        if key in self:\n",
    "            return super().__getitem__(key)\n",
    "        return [super().__getitem__(key.lower())]*3"
   ]
  },
  {
   "cell_type": "code",
   "execution_count": 40,
   "metadata": {
    "ExecuteTime": {
     "end_time": "2020-06-27T00:39:37.739566Z",
     "start_time": "2020-06-27T00:39:37.716924Z"
    }
   },
   "outputs": [
    {
     "data": {
      "text/plain": [
       "{'dog': 3,\n",
       " 'bulldog': 2,\n",
       " 'doggo': 4,\n",
       " 'housecat': 0,\n",
       " 'kitty': -3,\n",
       " 'kitten': -4,\n",
       " 'horse': 99,\n",
       " 'racehorse': 101}"
      ]
     },
     "execution_count": 40,
     "metadata": {},
     "output_type": "execute_result"
    }
   ],
   "source": [
    "ld = LowerDict(6, d)\n",
    "ld"
   ]
  },
  {
   "cell_type": "code",
   "execution_count": 41,
   "metadata": {
    "ExecuteTime": {
     "end_time": "2020-06-27T00:39:38.059656Z",
     "start_time": "2020-06-27T00:39:38.038824Z"
    }
   },
   "outputs": [
    {
     "data": {
      "text/plain": [
       "3"
      ]
     },
     "execution_count": 41,
     "metadata": {},
     "output_type": "execute_result"
    }
   ],
   "source": [
    "ld['dog']"
   ]
  },
  {
   "cell_type": "code",
   "execution_count": 42,
   "metadata": {
    "ExecuteTime": {
     "end_time": "2020-06-27T00:39:38.625513Z",
     "start_time": "2020-06-27T00:39:38.599538Z"
    }
   },
   "outputs": [
    {
     "data": {
      "text/plain": [
       "[3, 3, 3]"
      ]
     },
     "execution_count": 42,
     "metadata": {},
     "output_type": "execute_result"
    }
   ],
   "source": [
    "ld['DOG']"
   ]
  },
  {
   "cell_type": "code",
   "execution_count": 28,
   "metadata": {
    "ExecuteTime": {
     "end_time": "2020-06-27T00:38:41.408040Z",
     "start_time": "2020-06-27T00:38:41.377169Z"
    }
   },
   "outputs": [
    {
     "data": {
      "text/plain": [
       "6"
      ]
     },
     "execution_count": 28,
     "metadata": {},
     "output_type": "execute_result"
    }
   ],
   "source": [
    "ld.dummy"
   ]
  },
  {
   "cell_type": "code",
   "execution_count": 29,
   "metadata": {
    "ExecuteTime": {
     "end_time": "2020-06-27T00:38:46.415034Z",
     "start_time": "2020-06-27T00:38:46.395221Z"
    }
   },
   "outputs": [
    {
     "data": {
      "text/plain": [
       "4"
      ]
     },
     "execution_count": 29,
     "metadata": {},
     "output_type": "execute_result"
    }
   ],
   "source": [
    "ld.pop('doggo')"
   ]
  },
  {
   "cell_type": "code",
   "execution_count": 30,
   "metadata": {
    "ExecuteTime": {
     "end_time": "2020-06-27T00:38:47.387371Z",
     "start_time": "2020-06-27T00:38:47.305845Z"
    }
   },
   "outputs": [
    {
     "data": {
      "text/plain": [
       "{'dog': 3,\n",
       " 'bulldog': 2,\n",
       " 'housecat': 0,\n",
       " 'kitty': -3,\n",
       " 'kitten': -4,\n",
       " 'horse': 99,\n",
       " 'racehorse': 101}"
      ]
     },
     "execution_count": 30,
     "metadata": {},
     "output_type": "execute_result"
    }
   ],
   "source": [
    "ld"
   ]
  },
  {
   "cell_type": "code",
   "execution_count": 31,
   "metadata": {
    "ExecuteTime": {
     "end_time": "2020-06-27T00:38:47.789904Z",
     "start_time": "2020-06-27T00:38:47.770871Z"
    }
   },
   "outputs": [
    {
     "data": {
      "text/plain": [
       "{'dog': 3,\n",
       " 'bulldog': 2,\n",
       " 'doggo': 4,\n",
       " 'housecat': 0,\n",
       " 'kitty': -3,\n",
       " 'kitten': -4,\n",
       " 'horse': 99,\n",
       " 'racehorse': 101}"
      ]
     },
     "execution_count": 31,
     "metadata": {},
     "output_type": "execute_result"
    }
   ],
   "source": [
    "d"
   ]
  },
  {
   "cell_type": "code",
   "execution_count": 32,
   "metadata": {
    "ExecuteTime": {
     "end_time": "2020-06-27T00:38:49.758300Z",
     "start_time": "2020-06-27T00:38:49.735824Z"
    }
   },
   "outputs": [
    {
     "data": {
      "text/plain": [
       "(True, False)"
      ]
     },
     "execution_count": 32,
     "metadata": {},
     "output_type": "execute_result"
    }
   ],
   "source": [
    "'dog' in ld, 'cow' in ld"
   ]
  },
  {
   "cell_type": "code",
   "execution_count": 1,
   "metadata": {
    "ExecuteTime": {
     "end_time": "2020-06-27T01:41:18.843849Z",
     "start_time": "2020-06-27T01:41:18.609347Z"
    }
   },
   "outputs": [
    {
     "name": "stderr",
     "output_type": "stream",
     "text": [
      "/Users/hmamin/anaconda3/lib/python3.7/site-packages/ipykernel_launcher.py:1: DeprecationWarning: Using or importing the ABCs from 'collections' instead of from 'collections.abc' is deprecated, and in 3.8 it will stop working\n",
      "  \"\"\"Entry point for launching an IPython kernel.\n"
     ]
    }
   ],
   "source": [
    "from collections import namedtuple, Iterable, Mapping, UserDict\n",
    "from fuzzywuzzy import fuzz, process\n",
    "import numpy as np"
   ]
  },
  {
   "cell_type": "code",
   "execution_count": 40,
   "metadata": {
    "ExecuteTime": {
     "end_time": "2020-06-27T01:47:46.617796Z",
     "start_time": "2020-06-27T01:47:46.610435Z"
    }
   },
   "outputs": [],
   "source": [
    "class FuzzyKeyDict(dict):\n",
    "    \"\"\"Dictionary that will try to find similar keys if a key is missing and\n",
    "    return their corresponding values. This can be useful when working with\n",
    "    embeddings: for example, we can try mapping missing words to a combination\n",
    "    of existing words.\n",
    "\n",
    "    Examples\n",
    "    --------\n",
    "    d = FuzzyKeyDict(limit=3)\n",
    "    d['dog'] = 0\n",
    "    d['cat'] = 1\n",
    "    d['alley cat'] = 2\n",
    "    d['pig'] = 3\n",
    "    d['cow'] = 4\n",
    "    d['cowbell'] = 5\n",
    "    d['baby cow'] = 6\n",
    "\n",
    "    # Keys and similarity scores for the most similar keys.\n",
    "    >>> d.similar_keys('house cat')\n",
    "    [('alley cat', 56), ('cat', 50), ('cowbell', 25)]\n",
    "\n",
    "    # \"house cat\" not in dict so we get the values for the most similar keys.\n",
    "    >>> d['house cat']\n",
    "    [2, 1, 5]\n",
    "\n",
    "    # \"cat\" is in dict so output is an integer rather than a list.\n",
    "    >>> d['cat']\n",
    "    1\n",
    "    \"\"\"\n",
    "\n",
    "    def __init__(self, data=(), limit=3, return_list=False):\n",
    "        \"\"\"\n",
    "        Parameters\n",
    "        ----------\n",
    "        data: Iterable (optional)\n",
    "            Sequence of pairs, such as a dictionary or a list of tuples. If\n",
    "            provided, this will be used to populate the FuzzyKeyDict.\n",
    "        limit: int\n",
    "            Number of similar keys to find when trying to retrieve the value\n",
    "            for a missing key.\n",
    "        return_list: bool\n",
    "            If True, __getitem__ will always return a list of len `limit`. If\n",
    "            False, it will return a key's corresponding value if it's present\n",
    "            and a list of values for the `limit` closest keys if it's not.\n",
    "        \"\"\"\n",
    "        super().__init__(data)\n",
    "        self.limit = limit\n",
    "        self.return_list = return_list\n",
    "\n",
    "    def __getitem__(self, key):\n",
    "        \"\"\"\n",
    "        Returns\n",
    "        -------\n",
    "        any or list[any]: If key is present in dict, the corresponding value\n",
    "            is returned. If not, the n closest keys are identified and their\n",
    "            corresponding values are returned in a list (where n is defined\n",
    "            by the `limit` argument specified in the constructor). Values are\n",
    "            sorted in descending order by the neighboring keys' similarity to\n",
    "            the missing key in.\n",
    "        \"\"\"\n",
    "        try:\n",
    "            res = super().__getitem__(key)\n",
    "            return [res]*self.limit if self.return_list else res\n",
    "        except KeyError:\n",
    "            return [dict.__getitem__(self, k) for k in self.similar_keys(key)]\n",
    "\n",
    "    def similar_keys(self, key, return_similarities=False):\n",
    "        pairs = process.extract(key, self.keys(), limit=self.limit,\n",
    "                                scorer=fuzz.ratio)\n",
    "        if return_similarities:\n",
    "            return pairs\n",
    "        return [p[0] for p in pairs]"
   ]
  },
  {
   "cell_type": "code",
   "execution_count": 8,
   "metadata": {
    "ExecuteTime": {
     "end_time": "2020-06-27T01:42:48.663764Z",
     "start_time": "2020-06-27T01:42:48.658122Z"
    }
   },
   "outputs": [
    {
     "data": {
      "text/plain": [
       "{'dog': 3,\n",
       " 'bulldog': 2,\n",
       " 'doggo': 4,\n",
       " 'housecat': 0,\n",
       " 'kitty': -3,\n",
       " 'kitten': -4,\n",
       " 'horse': 99,\n",
       " 'racehorse': 101}"
      ]
     },
     "execution_count": 8,
     "metadata": {},
     "output_type": "execute_result"
    }
   ],
   "source": [
    "d = dict(dog=3, bulldog=2, doggo=4, housecat=0, kitty=-3, kitten=-4, horse=99,\n",
    "         racehorse=101)\n",
    "fd = FuzzyKeyDict(d)\n",
    "fd"
   ]
  },
  {
   "cell_type": "code",
   "execution_count": 9,
   "metadata": {
    "ExecuteTime": {
     "end_time": "2020-06-27T01:42:48.963275Z",
     "start_time": "2020-06-27T01:42:48.958153Z"
    }
   },
   "outputs": [
    {
     "data": {
      "text/plain": [
       "3"
      ]
     },
     "execution_count": 9,
     "metadata": {},
     "output_type": "execute_result"
    }
   ],
   "source": [
    "fd['dog']"
   ]
  },
  {
   "cell_type": "code",
   "execution_count": 10,
   "metadata": {
    "ExecuteTime": {
     "end_time": "2020-06-27T01:42:49.491541Z",
     "start_time": "2020-06-27T01:42:49.486515Z"
    }
   },
   "outputs": [
    {
     "data": {
      "text/plain": [
       "True"
      ]
     },
     "execution_count": 10,
     "metadata": {},
     "output_type": "execute_result"
    }
   ],
   "source": [
    "isinstance(fd, FuzzyKeyDict)"
   ]
  },
  {
   "cell_type": "code",
   "execution_count": 11,
   "metadata": {
    "ExecuteTime": {
     "end_time": "2020-06-27T01:42:49.763585Z",
     "start_time": "2020-06-27T01:42:49.746452Z"
    }
   },
   "outputs": [
    {
     "data": {
      "text/plain": [
       "[3, 4, 99]"
      ]
     },
     "execution_count": 11,
     "metadata": {},
     "output_type": "execute_result"
    }
   ],
   "source": [
    "fd['wolf']"
   ]
  },
  {
   "cell_type": "code",
   "execution_count": 12,
   "metadata": {
    "ExecuteTime": {
     "end_time": "2020-06-27T01:42:50.836017Z",
     "start_time": "2020-06-27T01:42:50.828892Z"
    }
   },
   "outputs": [
    {
     "data": {
      "text/plain": [
       "{'dog': [3, 3, 3],\n",
       " 'bulldog': [2, 2, 2],\n",
       " 'doggo': [4, 4, 4],\n",
       " 'housecat': [0, 0, 0],\n",
       " 'kitty': [-3, -3, -3],\n",
       " 'kitten': [-4, -4, -4],\n",
       " 'horse': [99, 99, 99],\n",
       " 'racehorse': [101, 101, 101]}"
      ]
     },
     "execution_count": 12,
     "metadata": {},
     "output_type": "execute_result"
    }
   ],
   "source": [
    "fd = FuzzyKeyDict(d, return_list=True)\n",
    "fd"
   ]
  },
  {
   "cell_type": "code",
   "execution_count": 13,
   "metadata": {
    "ExecuteTime": {
     "end_time": "2020-06-27T01:42:55.408931Z",
     "start_time": "2020-06-27T01:42:55.401319Z"
    }
   },
   "outputs": [
    {
     "data": {
      "text/plain": [
       "[3, 3, 3]"
      ]
     },
     "execution_count": 13,
     "metadata": {},
     "output_type": "execute_result"
    }
   ],
   "source": [
    "fd['dog']"
   ]
  },
  {
   "cell_type": "code",
   "execution_count": 14,
   "metadata": {
    "ExecuteTime": {
     "end_time": "2020-06-27T01:42:56.626712Z",
     "start_time": "2020-06-27T01:42:56.620699Z"
    }
   },
   "outputs": [
    {
     "data": {
      "text/plain": [
       "[3, 4, 99]"
      ]
     },
     "execution_count": 14,
     "metadata": {},
     "output_type": "execute_result"
    }
   ],
   "source": [
    "fd['wolf']"
   ]
  },
  {
   "cell_type": "code",
   "execution_count": 15,
   "metadata": {
    "ExecuteTime": {
     "end_time": "2020-06-27T01:42:58.558068Z",
     "start_time": "2020-06-27T01:42:58.554305Z"
    }
   },
   "outputs": [],
   "source": [
    "fd['cat'] = 44"
   ]
  },
  {
   "cell_type": "code",
   "execution_count": 16,
   "metadata": {
    "ExecuteTime": {
     "end_time": "2020-06-27T01:42:59.224894Z",
     "start_time": "2020-06-27T01:42:59.219672Z"
    }
   },
   "outputs": [
    {
     "data": {
      "text/plain": [
       "{'dog': [3, 3, 3],\n",
       " 'bulldog': [2, 2, 2],\n",
       " 'doggo': [4, 4, 4],\n",
       " 'housecat': [0, 0, 0],\n",
       " 'kitty': [-3, -3, -3],\n",
       " 'kitten': [-4, -4, -4],\n",
       " 'horse': [99, 99, 99],\n",
       " 'racehorse': [101, 101, 101],\n",
       " 'cat': [44, 44, 44]}"
      ]
     },
     "execution_count": 16,
     "metadata": {},
     "output_type": "execute_result"
    }
   ],
   "source": [
    "fd"
   ]
  },
  {
   "cell_type": "code",
   "execution_count": 17,
   "metadata": {
    "ExecuteTime": {
     "end_time": "2020-06-27T01:43:01.235703Z",
     "start_time": "2020-06-27T01:43:01.217895Z"
    }
   },
   "outputs": [
    {
     "data": {
      "text/plain": [
       "[44, 44, 44]"
      ]
     },
     "execution_count": 17,
     "metadata": {},
     "output_type": "execute_result"
    }
   ],
   "source": [
    "fd['cat']"
   ]
  },
  {
   "cell_type": "code",
   "execution_count": 18,
   "metadata": {
    "ExecuteTime": {
     "end_time": "2020-06-27T01:43:03.110274Z",
     "start_time": "2020-06-27T01:43:03.102036Z"
    }
   },
   "outputs": [
    {
     "data": {
      "text/plain": [
       "{'housecat': array([ 0.93608848,  1.70322904, -1.44291479]),\n",
       " 'kitty': array([-0.5779825 , -1.2137863 ,  1.38845792]),\n",
       " 'cat': array([ 0.87151834, -0.78733413,  0.4918777 ]),\n",
       " 'dog': array([ 0.80513048, -0.52123506,  0.66851821]),\n",
       " 'bulldog': array([0.90517271, 0.6464598 , 0.51729801]),\n",
       " 'frog': array([-2.01104731, -0.98391542, -1.11886689]),\n",
       " 'bullfrog': array([1.12202647, 1.04335869, 0.18002501])}"
      ]
     },
     "execution_count": 18,
     "metadata": {},
     "output_type": "execute_result"
    }
   ],
   "source": [
    "d = dict(zip(['housecat', 'kitty', 'cat', 'dog', 'bulldog', 'frog', 'bullfrog'], \n",
    "             np.random.randn(7, 3)))\n",
    "d"
   ]
  },
  {
   "cell_type": "code",
   "execution_count": 19,
   "metadata": {
    "ExecuteTime": {
     "end_time": "2020-06-27T01:43:03.960171Z",
     "start_time": "2020-06-27T01:43:03.951905Z"
    }
   },
   "outputs": [
    {
     "data": {
      "text/plain": [
       "{'housecat': array([ 0.93608848,  1.70322904, -1.44291479]),\n",
       " 'kitty': array([-0.5779825 , -1.2137863 ,  1.38845792]),\n",
       " 'cat': array([ 0.87151834, -0.78733413,  0.4918777 ]),\n",
       " 'dog': array([ 0.80513048, -0.52123506,  0.66851821]),\n",
       " 'bulldog': array([0.90517271, 0.6464598 , 0.51729801]),\n",
       " 'frog': array([-2.01104731, -0.98391542, -1.11886689]),\n",
       " 'bullfrog': array([1.12202647, 1.04335869, 0.18002501])}"
      ]
     },
     "execution_count": 19,
     "metadata": {},
     "output_type": "execute_result"
    }
   ],
   "source": [
    "fd = FuzzyKeyDict(d)\n",
    "fd"
   ]
  },
  {
   "cell_type": "code",
   "execution_count": 20,
   "metadata": {
    "ExecuteTime": {
     "end_time": "2020-06-27T01:43:05.501540Z",
     "start_time": "2020-06-27T01:43:05.496607Z"
    }
   },
   "outputs": [
    {
     "data": {
      "text/plain": [
       "array([ 0.93608848,  1.70322904, -1.44291479])"
      ]
     },
     "execution_count": 20,
     "metadata": {},
     "output_type": "execute_result"
    }
   ],
   "source": [
    "fd['housecat']"
   ]
  },
  {
   "cell_type": "code",
   "execution_count": 21,
   "metadata": {
    "ExecuteTime": {
     "end_time": "2020-06-27T01:43:05.959014Z",
     "start_time": "2020-06-27T01:43:05.952352Z"
    }
   },
   "outputs": [
    {
     "data": {
      "text/plain": [
       "[array([ 0.93608848,  1.70322904, -1.44291479]),\n",
       " array([ 0.87151834, -0.78733413,  0.4918777 ]),\n",
       " array([-0.5779825 , -1.2137863 ,  1.38845792])]"
      ]
     },
     "execution_count": 21,
     "metadata": {},
     "output_type": "execute_result"
    }
   ],
   "source": [
    "fd['pussycat']"
   ]
  },
  {
   "cell_type": "code",
   "execution_count": 30,
   "metadata": {
    "ExecuteTime": {
     "end_time": "2020-06-27T01:44:04.066802Z",
     "start_time": "2020-06-27T01:44:04.053870Z"
    }
   },
   "outputs": [
    {
     "data": {
      "text/plain": [
       "{'housecat': [array([ 0.93608848,  1.70322904, -1.44291479]),\n",
       "  array([ 0.93608848,  1.70322904, -1.44291479]),\n",
       "  array([ 0.93608848,  1.70322904, -1.44291479]),\n",
       "  array([ 0.93608848,  1.70322904, -1.44291479])],\n",
       " 'kitty': [array([-0.5779825 , -1.2137863 ,  1.38845792]),\n",
       "  array([-0.5779825 , -1.2137863 ,  1.38845792]),\n",
       "  array([-0.5779825 , -1.2137863 ,  1.38845792]),\n",
       "  array([-0.5779825 , -1.2137863 ,  1.38845792])],\n",
       " 'cat': [array([ 0.87151834, -0.78733413,  0.4918777 ]),\n",
       "  array([ 0.87151834, -0.78733413,  0.4918777 ]),\n",
       "  array([ 0.87151834, -0.78733413,  0.4918777 ]),\n",
       "  array([ 0.87151834, -0.78733413,  0.4918777 ])],\n",
       " 'dog': [array([ 0.80513048, -0.52123506,  0.66851821]),\n",
       "  array([ 0.80513048, -0.52123506,  0.66851821]),\n",
       "  array([ 0.80513048, -0.52123506,  0.66851821]),\n",
       "  array([ 0.80513048, -0.52123506,  0.66851821])],\n",
       " 'bulldog': [array([0.90517271, 0.6464598 , 0.51729801]),\n",
       "  array([0.90517271, 0.6464598 , 0.51729801]),\n",
       "  array([0.90517271, 0.6464598 , 0.51729801]),\n",
       "  array([0.90517271, 0.6464598 , 0.51729801])],\n",
       " 'frog': [array([-2.01104731, -0.98391542, -1.11886689]),\n",
       "  array([-2.01104731, -0.98391542, -1.11886689]),\n",
       "  array([-2.01104731, -0.98391542, -1.11886689]),\n",
       "  array([-2.01104731, -0.98391542, -1.11886689])],\n",
       " 'bullfrog': [array([1.12202647, 1.04335869, 0.18002501]),\n",
       "  array([1.12202647, 1.04335869, 0.18002501]),\n",
       "  array([1.12202647, 1.04335869, 0.18002501]),\n",
       "  array([1.12202647, 1.04335869, 0.18002501])]}"
      ]
     },
     "execution_count": 30,
     "metadata": {},
     "output_type": "execute_result"
    }
   ],
   "source": [
    "fd = FuzzyKeyDict(d, 4, return_list=True)\n",
    "fd"
   ]
  },
  {
   "cell_type": "code",
   "execution_count": 31,
   "metadata": {
    "ExecuteTime": {
     "end_time": "2020-06-27T01:44:04.380216Z",
     "start_time": "2020-06-27T01:44:04.368769Z"
    }
   },
   "outputs": [
    {
     "data": {
      "text/plain": [
       "[array([ 0.87151834, -0.78733413,  0.4918777 ]),\n",
       " array([ 0.87151834, -0.78733413,  0.4918777 ]),\n",
       " array([ 0.87151834, -0.78733413,  0.4918777 ]),\n",
       " array([ 0.87151834, -0.78733413,  0.4918777 ])]"
      ]
     },
     "execution_count": 31,
     "metadata": {},
     "output_type": "execute_result"
    }
   ],
   "source": [
    "fd['cat']"
   ]
  },
  {
   "cell_type": "code",
   "execution_count": 32,
   "metadata": {
    "ExecuteTime": {
     "end_time": "2020-06-27T01:44:04.899058Z",
     "start_time": "2020-06-27T01:44:04.892842Z"
    }
   },
   "outputs": [
    {
     "data": {
      "text/plain": [
       "[array([0.90517271, 0.6464598 , 0.51729801]),\n",
       " array([ 0.93608848,  1.70322904, -1.44291479]),\n",
       " array([1.12202647, 1.04335869, 0.18002501]),\n",
       " array([-0.5779825 , -1.2137863 ,  1.38845792])]"
      ]
     },
     "execution_count": 32,
     "metadata": {},
     "output_type": "execute_result"
    }
   ],
   "source": [
    "fd['mule']"
   ]
  },
  {
   "cell_type": "code",
   "execution_count": 33,
   "metadata": {
    "ExecuteTime": {
     "end_time": "2020-06-27T01:44:06.546467Z",
     "start_time": "2020-06-27T01:44:06.542859Z"
    }
   },
   "outputs": [],
   "source": [
    "fd.get('mule')"
   ]
  },
  {
   "cell_type": "code",
   "execution_count": 34,
   "metadata": {
    "ExecuteTime": {
     "end_time": "2020-06-27T01:44:07.105939Z",
     "start_time": "2020-06-27T01:44:07.079396Z"
    }
   },
   "outputs": [
    {
     "data": {
      "text/plain": [
       "array([ 0.87151834, -0.78733413,  0.4918777 ])"
      ]
     },
     "execution_count": 34,
     "metadata": {},
     "output_type": "execute_result"
    }
   ],
   "source": [
    "fd.get('cat')"
   ]
  },
  {
   "cell_type": "code",
   "execution_count": 35,
   "metadata": {
    "ExecuteTime": {
     "end_time": "2020-06-27T01:44:07.654685Z",
     "start_time": "2020-06-27T01:44:07.647563Z"
    }
   },
   "outputs": [
    {
     "data": {
      "text/plain": [
       "array([ 0.5086887 , -0.20478161,  0.27648476])"
      ]
     },
     "execution_count": 35,
     "metadata": {},
     "output_type": "execute_result"
    }
   ],
   "source": [
    "np.mean(fd['duck'], 0)"
   ]
  },
  {
   "cell_type": "code",
   "execution_count": 36,
   "metadata": {
    "ExecuteTime": {
     "end_time": "2020-06-27T01:44:08.394040Z",
     "start_time": "2020-06-27T01:44:08.386930Z"
    }
   },
   "outputs": [
    {
     "data": {
      "text/plain": [
       "array([ 0.39880091,  0.19202064,  0.31747121, -0.13443696])"
      ]
     },
     "execution_count": 36,
     "metadata": {},
     "output_type": "execute_result"
    }
   ],
   "source": [
    "np.mean(fd['duck'], 1)"
   ]
  },
  {
   "cell_type": "code",
   "execution_count": 37,
   "metadata": {
    "ExecuteTime": {
     "end_time": "2020-06-27T01:44:21.989594Z",
     "start_time": "2020-06-27T01:44:21.981840Z"
    }
   },
   "outputs": [
    {
     "data": {
      "text/plain": [
       "[array([ 0.93608848,  1.70322904, -1.44291479]),\n",
       " array([ 0.87151834, -0.78733413,  0.4918777 ]),\n",
       " array([ 0.80513048, -0.52123506,  0.66851821]),\n",
       " array([-0.5779825 , -1.2137863 ,  1.38845792])]"
      ]
     },
     "execution_count": 37,
     "metadata": {},
     "output_type": "execute_result"
    }
   ],
   "source": [
    "fd['duck']"
   ]
  },
  {
   "cell_type": "code",
   "execution_count": 39,
   "metadata": {
    "ExecuteTime": {
     "end_time": "2020-06-27T01:45:32.495056Z",
     "start_time": "2020-06-27T01:45:32.487290Z"
    }
   },
   "outputs": [
    {
     "data": {
      "text/plain": [
       "(['cat', 'dog', 'frog', 'bulldog'],\n",
       " [('cat', 33), ('dog', 33), ('frog', 29), ('bulldog', 20)])"
      ]
     },
     "execution_count": 39,
     "metadata": {},
     "output_type": "execute_result"
    }
   ],
   "source": [
    "fd.similar_keys('cow'), fd.similar_keys('cow', True)"
   ]
  },
  {
   "cell_type": "code",
   "execution_count": null,
   "metadata": {},
   "outputs": [],
   "source": []
  }
 ],
 "metadata": {
  "kernelspec": {
   "display_name": "Python 3",
   "language": "python",
   "name": "python3"
  },
  "language_info": {
   "codemirror_mode": {
    "name": "ipython",
    "version": 3
   },
   "file_extension": ".py",
   "mimetype": "text/x-python",
   "name": "python",
   "nbconvert_exporter": "python",
   "pygments_lexer": "ipython3",
   "version": "3.7.3"
  }
 },
 "nbformat": 4,
 "nbformat_minor": 2
}
