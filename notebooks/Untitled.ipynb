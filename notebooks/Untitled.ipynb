{
 "cells": [
  {
   "cell_type": "code",
   "execution_count": 1,
   "metadata": {
    "ExecuteTime": {
     "end_time": "2021-05-12T23:23:10.921219Z",
     "start_time": "2021-05-12T23:23:08.497179Z"
    }
   },
   "outputs": [],
   "source": [
    "import numpy as np\n",
    "import pandas as pd\n",
    "from pathlib import Path\n",
    "from tldextract import extract\n",
    "\n",
    "from htools import *"
   ]
  },
  {
   "cell_type": "code",
   "execution_count": 2,
   "metadata": {
    "ExecuteTime": {
     "end_time": "2021-05-12T23:23:12.600715Z",
     "start_time": "2021-05-12T23:23:10.923437Z"
    }
   },
   "outputs": [],
   "source": [
    "path = Path(\n",
    "    '~/DatascienceBase/Delphi/v3-0-0/data/alpha_test/beacon_urls_851105.csv'\n",
    ").expanduser()\n",
    "df = pd.read_csv(path)"
   ]
  },
  {
   "cell_type": "code",
   "execution_count": 3,
   "metadata": {
    "ExecuteTime": {
     "end_time": "2021-05-12T23:23:12.719455Z",
     "start_time": "2021-05-12T23:23:12.604032Z"
    }
   },
   "outputs": [
    {
     "data": {
      "text/plain": [
       "11182"
      ]
     },
     "execution_count": 3,
     "metadata": {},
     "output_type": "execute_result"
    }
   ],
   "source": [
    "fqdns = [f for f in sorted(df.fqdn.unique()) \n",
    "         if f.replace('http://', '').replace('www', '')]\n",
    "len(fqdns)"
   ]
  },
  {
   "cell_type": "code",
   "execution_count": 4,
   "metadata": {
    "ExecuteTime": {
     "end_time": "2021-05-12T23:23:12.753696Z",
     "start_time": "2021-05-12T23:23:12.725034Z"
    }
   },
   "outputs": [],
   "source": [
    "def preprocess_fqdn(fqdn):\n",
    "    suff = extract(fqdn).suffix\n",
    "    return fqdn.replace('http://', '')\\\n",
    "               .replace('www', '')\\\n",
    "               .rpartition(suff)[0]\\\n",
    "               .replace('.', ' ')\\\n",
    "               .strip()"
   ]
  },
  {
   "cell_type": "code",
   "execution_count": 5,
   "metadata": {
    "ExecuteTime": {
     "end_time": "2021-05-12T23:23:12.905692Z",
     "start_time": "2021-05-12T23:23:12.756330Z"
    }
   },
   "outputs": [
    {
     "data": {
      "text/plain": [
       "(11182, 10985)"
      ]
     },
     "execution_count": 5,
     "metadata": {},
     "output_type": "execute_result"
    }
   ],
   "source": [
    "raw2proc = {fqdn: preprocess_fqdn(fqdn) for fqdn in fqdns}\n",
    "proc2raw = {v: k for k, v in raw2proc.items()}\n",
    "\n",
    "# Some domains resolve to the same preprocessed domain. Handle later.\n",
    "len(raw2proc), len(proc2raw)"
   ]
  },
  {
   "cell_type": "code",
   "execution_count": 6,
   "metadata": {
    "ExecuteTime": {
     "end_time": "2021-05-12T23:23:16.955901Z",
     "start_time": "2021-05-12T23:23:16.929011Z"
    }
   },
   "outputs": [],
   "source": [
    "fd = FuzzyKeyDict(proc2raw, scorer=fuzz.token_sort_ratio)"
   ]
  },
  {
   "cell_type": "code",
   "execution_count": 8,
   "metadata": {
    "ExecuteTime": {
     "end_time": "2021-05-12T23:23:28.051196Z",
     "start_time": "2021-05-12T23:23:27.901409Z"
    }
   },
   "outputs": [
    {
     "data": {
      "text/plain": [
       "'http://classroom.google.com'"
      ]
     },
     "execution_count": 8,
     "metadata": {},
     "output_type": "execute_result"
    }
   ],
   "source": [
    "fd['http://www.classroom.google.com']"
   ]
  },
  {
   "cell_type": "code",
   "execution_count": 9,
   "metadata": {
    "ExecuteTime": {
     "end_time": "2021-05-12T23:23:28.788116Z",
     "start_time": "2021-05-12T23:23:28.643966Z"
    }
   },
   "outputs": [
    {
     "data": {
      "text/plain": [
       "'http://classroom.google.com'"
      ]
     },
     "execution_count": 9,
     "metadata": {},
     "output_type": "execute_result"
    }
   ],
   "source": [
    "fd['google classroom']"
   ]
  },
  {
   "cell_type": "code",
   "execution_count": 10,
   "metadata": {
    "ExecuteTime": {
     "end_time": "2021-05-12T23:23:29.409197Z",
     "start_time": "2021-05-12T23:23:29.383313Z"
    }
   },
   "outputs": [
    {
     "data": {
      "text/plain": [
       "'http://classroom.google.com'"
      ]
     },
     "execution_count": 10,
     "metadata": {},
     "output_type": "execute_result"
    }
   ],
   "source": [
    "fd['classroom google']"
   ]
  },
  {
   "cell_type": "code",
   "execution_count": 15,
   "metadata": {
    "ExecuteTime": {
     "end_time": "2021-05-12T23:24:33.457770Z",
     "start_time": "2021-05-12T23:24:33.430046Z"
    }
   },
   "outputs": [
    {
     "data": {
      "text/plain": [
       "'http://www.youtube.com'"
      ]
     },
     "execution_count": 15,
     "metadata": {},
     "output_type": "execute_result"
    }
   ],
   "source": [
    "fd['youtube']"
   ]
  },
  {
   "cell_type": "code",
   "execution_count": 16,
   "metadata": {
    "ExecuteTime": {
     "end_time": "2021-05-12T23:25:09.239941Z",
     "start_time": "2021-05-12T23:25:09.096290Z"
    }
   },
   "outputs": [
    {
     "data": {
      "text/plain": [
       "[('classroom google', 'http://classroom.google.com', 100),\n",
       " ('classroom ozobot', 'http://classroom.ozobot.com', 75),\n",
       " ('classroom freckle', 'http://classroom.freckle.com', 73)]"
      ]
     },
     "execution_count": 16,
     "metadata": {},
     "output_type": "execute_result"
    }
   ],
   "source": [
    "fd.similar('google classroom', mode='keys_values_similarities')"
   ]
  },
  {
   "cell_type": "code",
   "execution_count": 17,
   "metadata": {
    "ExecuteTime": {
     "end_time": "2021-05-12T23:25:14.948541Z",
     "start_time": "2021-05-12T23:25:14.775813Z"
    }
   },
   "outputs": [
    {
     "data": {
      "text/plain": [
       "[('meet google', 'http://meet.google.com', 100),\n",
       " ('keep google', 'http://keep.google.com', 82),\n",
       " ('messages google', 'http://messages.google.com', 77)]"
      ]
     },
     "execution_count": 17,
     "metadata": {},
     "output_type": "execute_result"
    }
   ],
   "source": [
    "fd.similar('google meet', mode='keys_values_similarities')"
   ]
  },
  {
   "cell_type": "code",
   "execution_count": 18,
   "metadata": {
    "ExecuteTime": {
     "end_time": "2021-05-12T23:25:21.116377Z",
     "start_time": "2021-05-12T23:25:20.975768Z"
    }
   },
   "outputs": [
    {
     "data": {
      "text/plain": [
       "[('clever', 'http://clever.com', 100),\n",
       " ('cliver', 'http://cliver.site', 83),\n",
       " ('cleverism', 'http://www.cleverism.com', 80)]"
      ]
     },
     "execution_count": 18,
     "metadata": {},
     "output_type": "execute_result"
    }
   ],
   "source": [
    "fd.similar('clever', mode='keys_values_similarities')"
   ]
  }
 ],
 "metadata": {
  "kernelspec": {
   "display_name": "Python 3",
   "language": "python",
   "name": "python3"
  },
  "language_info": {
   "codemirror_mode": {
    "name": "ipython",
    "version": 3
   },
   "file_extension": ".py",
   "mimetype": "text/x-python",
   "name": "python",
   "nbconvert_exporter": "python",
   "pygments_lexer": "ipython3",
   "version": "3.7.4"
  },
  "toc": {
   "base_numbering": 1,
   "nav_menu": {},
   "number_sections": true,
   "sideBar": true,
   "skip_h1_title": false,
   "title_cell": "Table of Contents",
   "title_sidebar": "Contents",
   "toc_cell": false,
   "toc_position": {},
   "toc_section_display": true,
   "toc_window_display": false
  }
 },
 "nbformat": 4,
 "nbformat_minor": 2
}
