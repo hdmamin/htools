{
 "cells": [
  {
   "cell_type": "code",
   "execution_count": 115,
   "metadata": {
    "ExecuteTime": {
     "end_time": "2020-05-25T03:47:38.467513Z",
     "start_time": "2020-05-25T03:47:38.462976Z"
    }
   },
   "outputs": [],
   "source": [
    "from collections import Mapping, Iterable\n",
    "from functools import partial\n",
    "from fuzzywuzzy import fuzz, process\n",
    "import fuzzywuzzy\n",
    "import heapq\n",
    "import multiprocessing\n",
    "import numpy as np\n",
    "from string import ascii_lowercase\n",
    "\n",
    "from htools import BasicPipeline, item, magics"
   ]
  },
  {
   "cell_type": "code",
   "execution_count": 43,
   "metadata": {
    "ExecuteTime": {
     "end_time": "2020-05-25T03:27:59.463318Z",
     "start_time": "2020-05-25T03:27:59.457157Z"
    }
   },
   "outputs": [],
   "source": [
    "# slightly tweaked fuzzywuzzy library code\n",
    "def extract(query, choices, processor=fuzzywuzzy.utils.full_process, scorer=fuzz.ratio, limit=5):\n",
    "    \"\"\"Select the best match in a list or dictionary of choices.\n",
    "\n",
    "    Arguments:\n",
    "        query: An object representing the thing we want to find.\n",
    "        choices: An iterable or dictionary-like object containing choices\n",
    "            to be matched against the query. Dictionary arguments of\n",
    "            {key: value} pairs will attempt to match the query against\n",
    "            each value.\n",
    "        scorer: Optional function for scoring matches between the query and\n",
    "            an individual processed choice. This should be a function\n",
    "            of the form f(query, choice) -> int.\n",
    "            By default, fuzz.WRatio() is used and expects both query and\n",
    "            choice to be strings.\n",
    "        limit: Optional maximum for the number of elements returned. Defaults\n",
    "            to 5.\n",
    "\n",
    "    Returns:\n",
    "        List of tuples containing the match and its score.\n",
    "    \"\"\"\n",
    "    sl = process.extractWithoutOrder(query, choices, processor, scorer)\n",
    "    return heapq.nlargest(limit, sl, key=lambda i: i[1]) if limit is not None else \\\n",
    "        sorted(sl, key=lambda i: i[1], reverse=True)"
   ]
  },
  {
   "cell_type": "code",
   "execution_count": 45,
   "metadata": {
    "ExecuteTime": {
     "end_time": "2020-05-25T03:28:03.256033Z",
     "start_time": "2020-05-25T03:28:03.249999Z"
    }
   },
   "outputs": [],
   "source": [
    "d = {}\n",
    "d['dog'] = 0\n",
    "d['cat'] = 1\n",
    "d['alley cat'] = 2\n",
    "d['pig'] = 3\n",
    "d['cow'] = 4\n",
    "d['cowbell'] = 5\n",
    "d['baby cow'] = 6"
   ]
  },
  {
   "cell_type": "code",
   "execution_count": 116,
   "metadata": {
    "ExecuteTime": {
     "end_time": "2020-05-25T03:49:06.084904Z",
     "start_time": "2020-05-25T03:49:06.078677Z"
    }
   },
   "outputs": [],
   "source": [
    "def extract_unordered(query, choices, scorer=fuzz.ratio):\n",
    "    proc = fuzzywuzzy.utils.full_process\n",
    "    query = proc(query)\n",
    "    full_scorer = BasicPipeline(proc, partial(scorer, query))\n",
    "    curr_choices = choices.keys() if hasattr(choices, 'keys') else choices\n",
    "    with multiprocessing.Pool() as p:\n",
    "        res = p.map(full_scorer, curr_choices)\n",
    "    return zip(choices, res)"
   ]
  },
  {
   "cell_type": "code",
   "execution_count": 117,
   "metadata": {
    "ExecuteTime": {
     "end_time": "2020-05-25T03:49:13.448320Z",
     "start_time": "2020-05-25T03:49:13.443135Z"
    }
   },
   "outputs": [],
   "source": [
    "def extract_parallel(query, choices, scorer=fuzz.ratio, limit=5):\n",
    "    scored = extract_unordered(query, choices, scorer)\n",
    "    return heapq.nlargest(limit, scored, key=lambda i: i[1]) \\\n",
    "        if limit is not None else \\\n",
    "        sorted(scored, key=lambda i: i[1], reverse=True)"
   ]
  },
  {
   "cell_type": "markdown",
   "metadata": {},
   "source": [
    "## Testing speed"
   ]
  },
  {
   "cell_type": "code",
   "execution_count": 129,
   "metadata": {
    "ExecuteTime": {
     "end_time": "2020-05-25T03:51:28.071189Z",
     "start_time": "2020-05-25T03:51:26.626664Z"
    }
   },
   "outputs": [],
   "source": [
    "chars = list(ascii_lowercase)\n",
    "d = {''.join(np.random.choice(chars, 4)): np.random.randint(100) for i in range(30_000)}"
   ]
  },
  {
   "cell_type": "markdown",
   "metadata": {},
   "source": [
    "32 chars, 30k keys"
   ]
  },
  {
   "cell_type": "code",
   "execution_count": 122,
   "metadata": {
    "ExecuteTime": {
     "end_time": "2020-05-25T03:50:08.743686Z",
     "start_time": "2020-05-25T03:50:04.301820Z"
    }
   },
   "outputs": [
    {
     "name": "stdout",
     "output_type": "stream",
     "text": [
      "139 ms ± 6.41 ms per loop (mean ± std. dev. of 4 runs, 4 loops each)\n",
      "138 ms ± 11.3 ms per loop (mean ± std. dev. of 4 runs, 4 loops each)\n"
     ]
    }
   ],
   "source": [
    "%%race -n 4 -r 4\n",
    "extract('goat', d.keys(), limit=3)\n",
    "extract_parallel('goat', d.keys(), limit=3)"
   ]
  },
  {
   "cell_type": "markdown",
   "metadata": {
    "ExecuteTime": {
     "end_time": "2020-05-25T03:41:57.398271Z",
     "start_time": "2020-05-25T03:41:57.388126Z"
    }
   },
   "source": [
    "16 chars, 30k keys"
   ]
  },
  {
   "cell_type": "code",
   "execution_count": 124,
   "metadata": {
    "ExecuteTime": {
     "end_time": "2020-05-25T03:50:41.464677Z",
     "start_time": "2020-05-25T03:50:37.121690Z"
    }
   },
   "outputs": [
    {
     "name": "stdout",
     "output_type": "stream",
     "text": [
      "133 ms ± 3.07 ms per loop (mean ± std. dev. of 4 runs, 4 loops each)\n",
      "138 ms ± 12 ms per loop (mean ± std. dev. of 4 runs, 4 loops each)\n"
     ]
    }
   ],
   "source": [
    "%%race -n 4 -r 4\n",
    "extract('goat', d.keys(), limit=3)\n",
    "extract_parallel('goat', d.keys(), limit=3)"
   ]
  },
  {
   "cell_type": "markdown",
   "metadata": {},
   "source": [
    "12 chars, 30k keys"
   ]
  },
  {
   "cell_type": "code",
   "execution_count": 126,
   "metadata": {
    "ExecuteTime": {
     "end_time": "2020-05-25T03:51:02.259608Z",
     "start_time": "2020-05-25T03:50:57.948277Z"
    }
   },
   "outputs": [
    {
     "name": "stdout",
     "output_type": "stream",
     "text": [
      "129 ms ± 3.47 ms per loop (mean ± std. dev. of 4 runs, 4 loops each)\n",
      "140 ms ± 10.6 ms per loop (mean ± std. dev. of 4 runs, 4 loops each)\n"
     ]
    }
   ],
   "source": [
    "%%race -n 4 -r 4\n",
    "extract('goat', d.keys(), limit=3)\n",
    "extract_parallel('goat', d.keys(), limit=3)"
   ]
  },
  {
   "cell_type": "markdown",
   "metadata": {},
   "source": [
    "8 chars, 30k keys"
   ]
  },
  {
   "cell_type": "code",
   "execution_count": 128,
   "metadata": {
    "ExecuteTime": {
     "end_time": "2020-05-25T03:51:20.578980Z",
     "start_time": "2020-05-25T03:51:16.313348Z"
    }
   },
   "outputs": [
    {
     "name": "stdout",
     "output_type": "stream",
     "text": [
      "125 ms ± 3.99 ms per loop (mean ± std. dev. of 4 runs, 4 loops each)\n",
      "141 ms ± 10.2 ms per loop (mean ± std. dev. of 4 runs, 4 loops each)\n"
     ]
    }
   ],
   "source": [
    "%%race -n 4 -r 4\n",
    "extract('goat', d.keys(), limit=3)\n",
    "extract_parallel('goat', d.keys(), limit=3)"
   ]
  },
  {
   "cell_type": "markdown",
   "metadata": {},
   "source": [
    "4 chars, 30k keys"
   ]
  },
  {
   "cell_type": "code",
   "execution_count": 130,
   "metadata": {
    "ExecuteTime": {
     "end_time": "2020-05-25T03:51:35.948484Z",
     "start_time": "2020-05-25T03:51:31.804221Z"
    }
   },
   "outputs": [
    {
     "name": "stdout",
     "output_type": "stream",
     "text": [
      "119 ms ± 4.64 ms per loop (mean ± std. dev. of 4 runs, 4 loops each)\n",
      "139 ms ± 12.8 ms per loop (mean ± std. dev. of 4 runs, 4 loops each)\n"
     ]
    }
   ],
   "source": [
    "%%race -n 4 -r 4\n",
    "extract('goat', d.keys(), limit=3)\n",
    "extract_parallel('goat', d.keys(), limit=3)"
   ]
  },
  {
   "cell_type": "markdown",
   "metadata": {},
   "source": [
    "## 100k key tests"
   ]
  },
  {
   "cell_type": "markdown",
   "metadata": {},
   "source": [
    "12 chars, 100k keys"
   ]
  },
  {
   "cell_type": "code",
   "execution_count": 100,
   "metadata": {
    "ExecuteTime": {
     "end_time": "2020-05-25T03:38:00.149631Z",
     "start_time": "2020-05-25T03:37:52.286059Z"
    }
   },
   "outputs": [
    {
     "name": "stdout",
     "output_type": "stream",
     "text": [
      "460 ms ± 15.6 ms per loop (mean ± std. dev. of 3 runs, 3 loops each)\n",
      "412 ms ± 27.1 ms per loop (mean ± std. dev. of 3 runs, 3 loops each)\n"
     ]
    }
   ],
   "source": [
    "%%race -n 3 -r 3\n",
    "extract('goat', d.keys(), limit=3)\n",
    "extract_parallel('goat', d.keys(), limit=3)"
   ]
  },
  {
   "cell_type": "markdown",
   "metadata": {},
   "source": [
    "8 chars, 100k keys"
   ]
  },
  {
   "cell_type": "code",
   "execution_count": 94,
   "metadata": {
    "ExecuteTime": {
     "end_time": "2020-05-25T03:35:03.081801Z",
     "start_time": "2020-05-25T03:34:55.632360Z"
    }
   },
   "outputs": [
    {
     "name": "stdout",
     "output_type": "stream",
     "text": [
      "476 ms ± 49 ms per loop (mean ± std. dev. of 3 runs, 3 loops each)\n",
      "351 ms ± 1.78 ms per loop (mean ± std. dev. of 3 runs, 3 loops each)\n"
     ]
    }
   ],
   "source": [
    "%%race -n 3 -r 3\n",
    "extract('goat', d.keys(), limit=3)\n",
    "extract_parallel('goat', d.keys(), limit=3)"
   ]
  },
  {
   "cell_type": "markdown",
   "metadata": {},
   "source": [
    "4 chars, 100k keys"
   ]
  },
  {
   "cell_type": "code",
   "execution_count": 102,
   "metadata": {
    "ExecuteTime": {
     "end_time": "2020-05-25T03:39:06.254829Z",
     "start_time": "2020-05-25T03:38:59.125002Z"
    }
   },
   "outputs": [
    {
     "name": "stdout",
     "output_type": "stream",
     "text": [
      "473 ms ± 61.3 ms per loop (mean ± std. dev. of 3 runs, 3 loops each)\n",
      "317 ms ± 48.5 ms per loop (mean ± std. dev. of 3 runs, 3 loops each)\n"
     ]
    }
   ],
   "source": [
    "%%race -n 3 -r 3\n",
    "extract('goat', d.keys(), limit=3)\n",
    "extract_parallel('goat', d.keys(), limit=3)"
   ]
  },
  {
   "cell_type": "markdown",
   "metadata": {},
   "source": [
    "2 chars, 100k keys"
   ]
  },
  {
   "cell_type": "code",
   "execution_count": 105,
   "metadata": {
    "ExecuteTime": {
     "end_time": "2020-05-25T03:39:57.642460Z",
     "start_time": "2020-05-25T03:39:56.376709Z"
    }
   },
   "outputs": [
    {
     "name": "stdout",
     "output_type": "stream",
     "text": [
      "6.45 ms ± 1.52 ms per loop (mean ± std. dev. of 3 runs, 3 loops each)\n",
      "132 ms ± 8.12 ms per loop (mean ± std. dev. of 3 runs, 3 loops each)\n"
     ]
    }
   ],
   "source": [
    "%%race -n 3 -r 3\n",
    "extract('goat', d.keys(), limit=3)\n",
    "extract_parallel('goat', d.keys(), limit=3)"
   ]
  },
  {
   "cell_type": "markdown",
   "metadata": {},
   "source": [
    "### Conclusion\n",
    "\n",
    "Seems like for enormous vocab, multiprocessing might help a little bit, but for our typical use case the default implementation should be fine. The default is also far faster for small to medium vocab sizes."
   ]
  },
  {
   "cell_type": "code",
   "execution_count": 50,
   "metadata": {
    "ExecuteTime": {
     "end_time": "2020-05-25T03:28:13.118467Z",
     "start_time": "2020-05-25T03:28:13.105632Z"
    }
   },
   "outputs": [],
   "source": [
    "# class FuzzyKeyDict(dict):\n",
    "#     \"\"\"Dictionary that will try to find similar keys if a key is missing and\n",
    "#     return their corresponding values. This could be useful when working with\n",
    "#     embeddings, where we could try mapping missing words to a combination of\n",
    "#     existing words.\n",
    "    \n",
    "#     Examples\n",
    "#     --------\n",
    "#     d = FuzzyKeyDict(limit=3, verbose=True)\n",
    "#     d['dog'] = 0\n",
    "#     d['cat'] = 1\n",
    "#     d['alley cat'] = 2\n",
    "#     d['pig'] = 3\n",
    "#     d['cow'] = 4\n",
    "#     d['cowbell'] = 5\n",
    "#     d['baby cow'] = 6\n",
    "    \n",
    "#     # Keys and similarity scores are displayed because we're in verbose mode.\n",
    "#     >>> res = d['house cat']\n",
    "#     [('alley cat', 56), ('cat', 50), ('cowbell', 25)]\n",
    "    \n",
    "#     # Values correspond to d['alley cat'], d['cat'], d['cowbell'].\n",
    "#     >>> res\n",
    "#     [2, 1, 5]\n",
    "    \n",
    "#     # \"cat\" is in our dict so no similarity scores are printed and output is\n",
    "#     # an integer, not a list. \n",
    "#     >>> d['cat']\n",
    "#     1\n",
    "#     \"\"\"\n",
    "    \n",
    "#     def __init__(self, limit=3, verbose=False):\n",
    "#         \"\"\"\n",
    "#         Parameters\n",
    "#         ----------\n",
    "#         limit: int\n",
    "#             Number of similar keys to find when trying to retrieve the value\n",
    "#             for a missing key.\n",
    "#         verbose: bool\n",
    "#             If True, this will print the similar keys and their similarity to\n",
    "#             the queried key when trying to retrieve a missing key.\n",
    "#         \"\"\"\n",
    "#         self.limit = limit\n",
    "#         self.verbose = verbose\n",
    "\n",
    "#     def __getitem__(self, key):\n",
    "#         \"\"\"\n",
    "#         Returns\n",
    "#         -------\n",
    "#         any or list[any]: If key is present in dict, the corresponding value\n",
    "#             is returned. If not, the n closest keys are identified and their\n",
    "#             corresponding values are returned in a list (where n is defined\n",
    "#             by the `limit` argument specified in the constructor). Values are\n",
    "#             sorted in descending order by the neighboring keys' similarity to \n",
    "#             the missing key in.\n",
    "#         \"\"\"\n",
    "#         try:\n",
    "#             return super().__getitem__(key)\n",
    "#         except KeyError:\n",
    "#             res = process.extract(key, self.keys(), limit=self.limit,\n",
    "#                                   scorer=fuzz.ratio)\n",
    "#             if self.verbose: print(res)\n",
    "#             return [self[k] for k, v in res]\n",
    "\n",
    "class FuzzyKeyDict(dict):\n",
    "    \"\"\"Dictionary that will try to find similar keys if a key is missing and\n",
    "    return their corresponding values. This could be useful when working with\n",
    "    embeddings, where we could try mapping missing words to a combination of\n",
    "    existing words.\n",
    "    \n",
    "    Examples\n",
    "    --------\n",
    "    d = FuzzyKeyDict(limit=3, verbose=True)\n",
    "    d['dog'] = 0\n",
    "    d['cat'] = 1\n",
    "    d['alley cat'] = 2\n",
    "    d['pig'] = 3\n",
    "    d['cow'] = 4\n",
    "    d['cowbell'] = 5\n",
    "    d['baby cow'] = 6\n",
    "    \n",
    "    # Keys and similarity scores are displayed because we're in verbose mode.\n",
    "    >>> res = d['house cat']\n",
    "    [('alley cat', 56), ('cat', 50), ('cowbell', 25)]\n",
    "    \n",
    "    # Values correspond to d['alley cat'], d['cat'], d['cowbell'].\n",
    "    >>> res\n",
    "    [2, 1, 5]\n",
    "    \n",
    "    # \"cat\" is in our dict so no similarity scores are printed and output is\n",
    "    # an integer, not a list. \n",
    "    >>> d['cat']\n",
    "    1\n",
    "    \"\"\"\n",
    "    \n",
    "    def __init__(self, data=None, limit=3):\n",
    "        \"\"\"\n",
    "        Parameters\n",
    "        ---------- \n",
    "        data: Iterable (optional)\n",
    "            Sequence of pairs, such as a dictionary or a list of tuples. If\n",
    "            provided, this will be used to populate the FuzzyKeyDict.\n",
    "        limit: int\n",
    "            Number of similar keys to find when trying to retrieve the value\n",
    "            for a missing key.\n",
    "        \"\"\"\n",
    "        if isinstance(data, Mapping):\n",
    "            for k, v in data.items():\n",
    "                self[k] = v\n",
    "        elif isinstance(data, Iterable):\n",
    "            for k, v in data:\n",
    "                self[k] = v\n",
    "        self.limit = limit\n",
    "\n",
    "    def __getitem__(self, key):\n",
    "        \"\"\"\n",
    "        Returns\n",
    "        -------\n",
    "        any or list[any]: If key is present in dict, the corresponding value\n",
    "            is returned. If not, the n closest keys are identified and their\n",
    "            corresponding values are returned in a list (where n is defined\n",
    "            by the `limit` argument specified in the constructor). Values are\n",
    "            sorted in descending order by the neighboring keys' similarity to \n",
    "            the missing key in.\n",
    "        \"\"\"\n",
    "        try:\n",
    "            return super().__getitem__(key)\n",
    "        except KeyError:\n",
    "            return [self[k] for k in self.similar_keys(key)]\n",
    "        \n",
    "    def similar_keys(self, key, return_distances=False):\n",
    "        pairs = process.extract(key, self.keys(), limit=self.limit, \n",
    "                                scorer=fuzz.ratio)\n",
    "        if return_distances:\n",
    "            return pairs\n",
    "        return [p[0] for p in pairs]"
   ]
  },
  {
   "cell_type": "code",
   "execution_count": 2,
   "metadata": {
    "ExecuteTime": {
     "end_time": "2020-05-17T04:18:56.687046Z",
     "start_time": "2020-05-17T04:18:56.673378Z"
    }
   },
   "outputs": [],
   "source": [
    "process.extract??"
   ]
  },
  {
   "cell_type": "code",
   "execution_count": 275,
   "metadata": {
    "ExecuteTime": {
     "end_time": "2020-04-01T05:27:35.161130Z",
     "start_time": "2020-04-01T05:27:35.155028Z"
    }
   },
   "outputs": [
    {
     "data": {
      "text/plain": [
       "{}"
      ]
     },
     "execution_count": 275,
     "metadata": {},
     "output_type": "execute_result"
    }
   ],
   "source": [
    "d = FuzzyKeyDict()\n",
    "d"
   ]
  },
  {
   "cell_type": "code",
   "execution_count": 276,
   "metadata": {
    "ExecuteTime": {
     "end_time": "2020-04-01T05:27:38.922051Z",
     "start_time": "2020-04-01T05:27:38.910288Z"
    }
   },
   "outputs": [
    {
     "name": "stdout",
     "output_type": "stream",
     "text": [
      "{'a': 0, 'b': 1, 'c': 2, 'd': 3, 'e': 4, 'f': 5, 'g': 6}\n",
      "{'a': 0, 'b': 1, 'c': 2, 'd': 3, 'e': 4, 'f': 5, 'g': 6}\n"
     ]
    },
    {
     "data": {
      "text/plain": [
       "(True, False)"
      ]
     },
     "execution_count": 276,
     "metadata": {},
     "output_type": "execute_result"
    }
   ],
   "source": [
    "basic = {x: i for i, x in enumerate('abcdefg')}\n",
    "print(basic)\n",
    "\n",
    "fd = FuzzyKeyDict(basic)\n",
    "print(fd)\n",
    "\n",
    "'a' in fd, 'z' in fd"
   ]
  },
  {
   "cell_type": "code",
   "execution_count": 277,
   "metadata": {
    "ExecuteTime": {
     "end_time": "2020-04-01T05:27:40.840467Z",
     "start_time": "2020-04-01T05:27:40.834625Z"
    }
   },
   "outputs": [
    {
     "data": {
      "text/plain": [
       "(0, [0, 3, 4])"
      ]
     },
     "execution_count": 277,
     "metadata": {},
     "output_type": "execute_result"
    }
   ],
   "source": [
    "fd['a'], fd['adder']"
   ]
  },
  {
   "cell_type": "code",
   "execution_count": 279,
   "metadata": {
    "ExecuteTime": {
     "end_time": "2020-04-01T05:28:14.752202Z",
     "start_time": "2020-04-01T05:28:14.744798Z"
    }
   },
   "outputs": [
    {
     "name": "stdout",
     "output_type": "stream",
     "text": [
      "[('a', 0), ('b', 1), ('c', 2), ('d', 3), ('e', 4), ('f', 5), ('g', 6)]\n"
     ]
    },
    {
     "data": {
      "text/plain": [
       "{'a': 0, 'b': 1, 'c': 2, 'd': 3, 'e': 4, 'f': 5, 'g': 6}"
      ]
     },
     "execution_count": 279,
     "metadata": {},
     "output_type": "execute_result"
    }
   ],
   "source": [
    "tups = list(basic.items())\n",
    "print(tups)\n",
    "\n",
    "fd = FuzzyKeyDict(tups)\n",
    "fd"
   ]
  },
  {
   "cell_type": "code",
   "execution_count": 281,
   "metadata": {
    "ExecuteTime": {
     "end_time": "2020-04-01T05:28:30.045158Z",
     "start_time": "2020-04-01T05:28:30.039464Z"
    }
   },
   "outputs": [
    {
     "data": {
      "text/plain": [
       "(0, [0, 1, 6])"
      ]
     },
     "execution_count": 281,
     "metadata": {},
     "output_type": "execute_result"
    }
   ],
   "source": [
    "fd['a'], fd['baag']"
   ]
  },
  {
   "cell_type": "code",
   "execution_count": 228,
   "metadata": {
    "ExecuteTime": {
     "end_time": "2020-03-31T06:22:07.891176Z",
     "start_time": "2020-03-31T06:22:07.881487Z"
    },
    "scrolled": false
   },
   "outputs": [
    {
     "data": {
      "text/plain": [
       "{'dog': 0,\n",
       " 'cat': 1,\n",
       " 'alley cat': 2,\n",
       " 'pig': 3,\n",
       " 'cow': 4,\n",
       " 'cowbell': 5,\n",
       " 'baby cow': 6}"
      ]
     },
     "execution_count": 228,
     "metadata": {},
     "output_type": "execute_result"
    }
   ],
   "source": [
    "d['dog'] = 0\n",
    "d['cat'] = 1\n",
    "d['alley cat'] = 2\n",
    "d['pig'] = 3\n",
    "d['cow'] = 4\n",
    "d['cowbell'] = 5\n",
    "d['baby cow'] = 6\n",
    "\n",
    "d"
   ]
  },
  {
   "cell_type": "code",
   "execution_count": 229,
   "metadata": {
    "ExecuteTime": {
     "end_time": "2020-03-31T06:22:09.824607Z",
     "start_time": "2020-03-31T06:22:09.819076Z"
    }
   },
   "outputs": [
    {
     "data": {
      "text/plain": [
       "1"
      ]
     },
     "execution_count": 229,
     "metadata": {},
     "output_type": "execute_result"
    }
   ],
   "source": [
    "d['cat']"
   ]
  },
  {
   "cell_type": "code",
   "execution_count": 230,
   "metadata": {
    "ExecuteTime": {
     "end_time": "2020-03-31T06:22:10.308771Z",
     "start_time": "2020-03-31T06:22:10.300275Z"
    }
   },
   "outputs": [
    {
     "data": {
      "text/plain": [
       "True"
      ]
     },
     "execution_count": 230,
     "metadata": {},
     "output_type": "execute_result"
    }
   ],
   "source": [
    "'cat' in d.keys()"
   ]
  },
  {
   "cell_type": "code",
   "execution_count": 231,
   "metadata": {
    "ExecuteTime": {
     "end_time": "2020-03-31T06:22:11.430825Z",
     "start_time": "2020-03-31T06:22:11.423296Z"
    },
    "scrolled": true
   },
   "outputs": [
    {
     "data": {
      "text/plain": [
       "[2, 5, 1]"
      ]
     },
     "execution_count": 231,
     "metadata": {},
     "output_type": "execute_result"
    }
   ],
   "source": [
    "d['whale']"
   ]
  },
  {
   "cell_type": "code",
   "execution_count": 232,
   "metadata": {
    "ExecuteTime": {
     "end_time": "2020-03-31T06:22:13.270595Z",
     "start_time": "2020-03-31T06:22:13.262377Z"
    }
   },
   "outputs": [
    {
     "data": {
      "text/plain": [
       "['alley cat', 'cowbell', 'cat']"
      ]
     },
     "execution_count": 232,
     "metadata": {},
     "output_type": "execute_result"
    }
   ],
   "source": [
    "d.similar_keys('whale')"
   ]
  },
  {
   "cell_type": "code",
   "execution_count": 233,
   "metadata": {
    "ExecuteTime": {
     "end_time": "2020-03-31T06:22:17.576751Z",
     "start_time": "2020-03-31T06:22:17.570838Z"
    }
   },
   "outputs": [
    {
     "data": {
      "text/plain": [
       "[('alley cat', 43), ('cowbell', 33), ('cat', 25)]"
      ]
     },
     "execution_count": 233,
     "metadata": {},
     "output_type": "execute_result"
    }
   ],
   "source": [
    "d.similar_keys('whale', return_distances=True)"
   ]
  },
  {
   "cell_type": "code",
   "execution_count": 234,
   "metadata": {
    "ExecuteTime": {
     "end_time": "2020-03-31T06:22:52.429514Z",
     "start_time": "2020-03-31T06:22:52.423685Z"
    }
   },
   "outputs": [
    {
     "data": {
      "text/plain": [
       "[2, 1, 5]"
      ]
     },
     "execution_count": 234,
     "metadata": {},
     "output_type": "execute_result"
    }
   ],
   "source": [
    "d['house cat']"
   ]
  },
  {
   "cell_type": "code",
   "execution_count": 235,
   "metadata": {
    "ExecuteTime": {
     "end_time": "2020-03-31T06:22:54.575165Z",
     "start_time": "2020-03-31T06:22:54.568557Z"
    }
   },
   "outputs": [
    {
     "data": {
      "text/plain": [
       "[3, 2, 0]"
      ]
     },
     "execution_count": 235,
     "metadata": {},
     "output_type": "execute_result"
    }
   ],
   "source": [
    "d['piglet']"
   ]
  },
  {
   "cell_type": "code",
   "execution_count": 236,
   "metadata": {
    "ExecuteTime": {
     "end_time": "2020-03-31T06:22:59.593219Z",
     "start_time": "2020-03-31T06:22:59.589362Z"
    }
   },
   "outputs": [
    {
     "data": {
      "text/plain": [
       "False"
      ]
     },
     "execution_count": 236,
     "metadata": {},
     "output_type": "execute_result"
    }
   ],
   "source": [
    "'piglet' in d"
   ]
  },
  {
   "cell_type": "code",
   "execution_count": 237,
   "metadata": {
    "ExecuteTime": {
     "end_time": "2020-03-31T06:22:59.824552Z",
     "start_time": "2020-03-31T06:22:59.816690Z"
    }
   },
   "outputs": [
    {
     "data": {
      "text/plain": [
       "True"
      ]
     },
     "execution_count": 237,
     "metadata": {},
     "output_type": "execute_result"
    }
   ],
   "source": [
    "'pig' in d"
   ]
  },
  {
   "cell_type": "code",
   "execution_count": 238,
   "metadata": {
    "ExecuteTime": {
     "end_time": "2020-03-31T06:22:59.955517Z",
     "start_time": "2020-03-31T06:22:59.951858Z"
    }
   },
   "outputs": [
    {
     "data": {
      "text/plain": [
       "3"
      ]
     },
     "execution_count": 238,
     "metadata": {},
     "output_type": "execute_result"
    }
   ],
   "source": [
    "d['pig']"
   ]
  },
  {
   "cell_type": "markdown",
   "metadata": {},
   "source": [
    " ## With list values"
   ]
  },
  {
   "cell_type": "code",
   "execution_count": 240,
   "metadata": {
    "ExecuteTime": {
     "end_time": "2020-03-31T06:23:06.264420Z",
     "start_time": "2020-03-31T06:23:06.257169Z"
    }
   },
   "outputs": [
    {
     "data": {
      "text/plain": [
       "{}"
      ]
     },
     "execution_count": 240,
     "metadata": {},
     "output_type": "execute_result"
    }
   ],
   "source": [
    "d = FuzzyKeyDict(verbose=False)\n",
    "d"
   ]
  },
  {
   "cell_type": "code",
   "execution_count": 241,
   "metadata": {
    "ExecuteTime": {
     "end_time": "2020-03-31T06:23:06.701667Z",
     "start_time": "2020-03-31T06:23:06.689088Z"
    },
    "scrolled": true
   },
   "outputs": [
    {
     "data": {
      "text/plain": [
       "{'dog': [0, 1],\n",
       " 'cat': [1, 2],\n",
       " 'alley cat': [2, 3],\n",
       " 'pig': [3, 4],\n",
       " 'cow': [4, 5],\n",
       " 'cowbell': [5, 6],\n",
       " 'baby cow': [6, 7]}"
      ]
     },
     "execution_count": 241,
     "metadata": {},
     "output_type": "execute_result"
    }
   ],
   "source": [
    "d['dog'] = [0, 1]\n",
    "d['cat'] = [1, 2]\n",
    "d['alley cat'] = [2, 3]\n",
    "d['pig'] = [3, 4]\n",
    "d['cow'] = [4, 5]\n",
    "d['cowbell'] = [5, 6]\n",
    "d['baby cow'] = [6, 7]\n",
    "\n",
    "d"
   ]
  },
  {
   "cell_type": "code",
   "execution_count": 242,
   "metadata": {
    "ExecuteTime": {
     "end_time": "2020-03-31T06:23:08.702468Z",
     "start_time": "2020-03-31T06:23:08.698420Z"
    }
   },
   "outputs": [
    {
     "data": {
      "text/plain": [
       "[1, 2]"
      ]
     },
     "execution_count": 242,
     "metadata": {},
     "output_type": "execute_result"
    }
   ],
   "source": [
    "d['cat']"
   ]
  },
  {
   "cell_type": "code",
   "execution_count": 243,
   "metadata": {
    "ExecuteTime": {
     "end_time": "2020-03-31T06:23:09.194421Z",
     "start_time": "2020-03-31T06:23:09.187578Z"
    }
   },
   "outputs": [
    {
     "data": {
      "text/plain": [
       "[[2, 3], [5, 6], [1, 2]]"
      ]
     },
     "execution_count": 243,
     "metadata": {},
     "output_type": "execute_result"
    }
   ],
   "source": [
    "d['whale']"
   ]
  },
  {
   "cell_type": "code",
   "execution_count": 244,
   "metadata": {
    "ExecuteTime": {
     "end_time": "2020-03-31T06:23:09.887591Z",
     "start_time": "2020-03-31T06:23:09.882868Z"
    }
   },
   "outputs": [
    {
     "data": {
      "text/plain": [
       "[[2, 3], [1, 2], [5, 6]]"
      ]
     },
     "execution_count": 244,
     "metadata": {},
     "output_type": "execute_result"
    }
   ],
   "source": [
    "d['house cat']"
   ]
  },
  {
   "cell_type": "code",
   "execution_count": 245,
   "metadata": {
    "ExecuteTime": {
     "end_time": "2020-03-31T06:23:10.364967Z",
     "start_time": "2020-03-31T06:23:10.355070Z"
    }
   },
   "outputs": [
    {
     "data": {
      "text/plain": [
       "[[3, 4], [2, 3], [0, 1]]"
      ]
     },
     "execution_count": 245,
     "metadata": {},
     "output_type": "execute_result"
    }
   ],
   "source": [
    "d['piglet']"
   ]
  },
  {
   "cell_type": "code",
   "execution_count": 246,
   "metadata": {
    "ExecuteTime": {
     "end_time": "2020-03-31T06:23:10.933916Z",
     "start_time": "2020-03-31T06:23:10.926794Z"
    }
   },
   "outputs": [
    {
     "data": {
      "text/plain": [
       "{'dog': [0, 1],\n",
       " 'cat': [1, 2],\n",
       " 'alley cat': [2, 3],\n",
       " 'pig': [111, 4],\n",
       " 'cow': [4, 5],\n",
       " 'cowbell': [5, 6],\n",
       " 'baby cow': [6, 7]}"
      ]
     },
     "execution_count": 246,
     "metadata": {},
     "output_type": "execute_result"
    }
   ],
   "source": [
    "d['pig'][0] = 111\n",
    "d"
   ]
  },
  {
   "cell_type": "code",
   "execution_count": 247,
   "metadata": {
    "ExecuteTime": {
     "end_time": "2020-03-31T06:23:11.487177Z",
     "start_time": "2020-03-31T06:23:11.482814Z"
    }
   },
   "outputs": [
    {
     "data": {
      "text/plain": [
       "{'dog': [0, 1],\n",
       " 'cat': [1, 2],\n",
       " 'alley cat': [2, 3],\n",
       " 'pig': [111, 4],\n",
       " 'cow': [4, 5],\n",
       " 'cowbell': [5, 6],\n",
       " 'baby cow': [6, 7],\n",
       " 'piglet': 99}"
      ]
     },
     "execution_count": 247,
     "metadata": {},
     "output_type": "execute_result"
    }
   ],
   "source": [
    "d['piglet'] = 99\n",
    "d"
   ]
  },
  {
   "cell_type": "markdown",
   "metadata": {},
   "source": [
    "## Scratch"
   ]
  },
  {
   "cell_type": "code",
   "execution_count": 248,
   "metadata": {
    "ExecuteTime": {
     "end_time": "2020-03-31T06:23:12.572734Z",
     "start_time": "2020-03-31T06:23:12.566771Z"
    }
   },
   "outputs": [],
   "source": [
    "with open('/Users/hmamin/corporate_ipsum.txt', 'r') as f:\n",
    "    text = f.read()"
   ]
  },
  {
   "cell_type": "code",
   "execution_count": 249,
   "metadata": {
    "ExecuteTime": {
     "end_time": "2020-03-31T06:23:13.055019Z",
     "start_time": "2020-03-31T06:23:13.047430Z"
    }
   },
   "outputs": [
    {
     "data": {
      "text/plain": [
       "array(['i', 'z'], dtype='<U1')"
      ]
     },
     "execution_count": 249,
     "metadata": {},
     "output_type": "execute_result"
    }
   ],
   "source": [
    "np.random.choice(list(ascii_lowercase), 2)"
   ]
  },
  {
   "cell_type": "code",
   "execution_count": 250,
   "metadata": {
    "ExecuteTime": {
     "end_time": "2020-03-31T06:23:14.453702Z",
     "start_time": "2020-03-31T06:23:13.519241Z"
    }
   },
   "outputs": [
    {
     "data": {
      "text/plain": [
       "(32900, 27839)"
      ]
     },
     "execution_count": 250,
     "metadata": {},
     "output_type": "execute_result"
    }
   ],
   "source": [
    "words = [w+''.join(np.random.choice(list(ascii_lowercase), 2))\n",
    "         for _ in range(100) for w in text.split(' ')]\n",
    "len(words), len(set(words))"
   ]
  },
  {
   "cell_type": "code",
   "execution_count": 252,
   "metadata": {
    "ExecuteTime": {
     "end_time": "2020-03-31T06:24:01.245675Z",
     "start_time": "2020-03-31T06:23:21.878553Z"
    }
   },
   "outputs": [
    {
     "name": "stdout",
     "output_type": "stream",
     "text": [
      "1.57 s ± 233 ms per loop (mean ± std. dev. of 5 runs, 5 loops each)\n"
     ]
    }
   ],
   "source": [
    "%%timeit -n 5 -r 5\n",
    "process.extract('people', words)"
   ]
  },
  {
   "cell_type": "code",
   "execution_count": 253,
   "metadata": {
    "ExecuteTime": {
     "end_time": "2020-03-31T06:24:36.744785Z",
     "start_time": "2020-03-31T06:24:01.247227Z"
    }
   },
   "outputs": [
    {
     "name": "stdout",
     "output_type": "stream",
     "text": [
      "1.42 s ± 97.2 ms per loop (mean ± std. dev. of 5 runs, 5 loops each)\n"
     ]
    }
   ],
   "source": [
    "%%timeit -n 5 -r 5\n",
    "process.extractBests('people', words)"
   ]
  },
  {
   "cell_type": "code",
   "execution_count": 254,
   "metadata": {
    "ExecuteTime": {
     "end_time": "2020-03-31T06:25:21.344744Z",
     "start_time": "2020-03-31T06:24:36.746643Z"
    }
   },
   "outputs": [
    {
     "name": "stdout",
     "output_type": "stream",
     "text": [
      "1.78 s ± 236 ms per loop (mean ± std. dev. of 5 runs, 5 loops each)\n"
     ]
    }
   ],
   "source": [
    "%%timeit -n 5 -r 5\n",
    "process.extractOne('people', words)"
   ]
  }
 ],
 "metadata": {
  "kernelspec": {
   "display_name": "Python 3",
   "language": "python",
   "name": "python3"
  },
  "language_info": {
   "codemirror_mode": {
    "name": "ipython",
    "version": 3
   },
   "file_extension": ".py",
   "mimetype": "text/x-python",
   "name": "python",
   "nbconvert_exporter": "python",
   "pygments_lexer": "ipython3",
   "version": "3.7.3"
  }
 },
 "nbformat": 4,
 "nbformat_minor": 2
}
