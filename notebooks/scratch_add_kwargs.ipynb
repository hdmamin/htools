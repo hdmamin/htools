{
 "cells": [
  {
   "cell_type": "code",
   "execution_count": 1,
   "metadata": {
    "ExecuteTime": {
     "end_time": "2020-12-09T04:06:47.828252Z",
     "start_time": "2020-12-09T04:06:47.801779Z"
    }
   },
   "outputs": [],
   "source": [
    "%load_ext autoreload\n",
    "%autoreload 2"
   ]
  },
  {
   "cell_type": "code",
   "execution_count": 2,
   "metadata": {
    "ExecuteTime": {
     "end_time": "2020-12-09T04:06:53.528707Z",
     "start_time": "2020-12-09T04:06:48.012139Z"
    },
    "run_control": {
     "marked": false
    }
   },
   "outputs": [],
   "source": [
    "from collections import ChainMap\n",
    "from contextlib import contextmanager\n",
    "from functools import wraps, update_wrapper\n",
    "import inspect\n",
    "from inspect import Parameter, getsource, getsourcefile, getfile, ismodule, \\\n",
    "    ismethod, isfunction\n",
    "\n",
    "from htools import *\n",
    "from htools import temporary_global_scope, add_kwargs"
   ]
  },
  {
   "cell_type": "code",
   "execution_count": 17,
   "metadata": {
    "ExecuteTime": {
     "end_time": "2020-12-09T04:14:49.983281Z",
     "start_time": "2020-12-09T04:14:49.935665Z"
    }
   },
   "outputs": [],
   "source": [
    "# Note: this doesn't actually work within a library, I think because globals\n",
    "# in the library (and context manager, as a result) are different from globals\n",
    "# where the code is ultimately executed. I built a similar version that works\n",
    "# on functions only.\n",
    "@contextmanager\n",
    "def temporary_global_scope(kwargs):\n",
    "    # Make kwargs temporarily available as global vars.\n",
    "    old_globals = globals().copy()\n",
    "    globals().update(kwargs)\n",
    "    try:\n",
    "        yield\n",
    "    finally:\n",
    "        for k in kwargs:\n",
    "            if k in old_globals:\n",
    "                globals()[k] = old_globals[k]\n",
    "            else:\n",
    "                del globals()[k]"
   ]
  },
  {
   "cell_type": "code",
   "execution_count": 16,
   "metadata": {
    "ExecuteTime": {
     "end_time": "2020-12-09T04:13:27.296154Z",
     "start_time": "2020-12-09T04:13:27.205686Z"
    },
    "scrolled": true
   },
   "outputs": [
    {
     "name": "stdout",
     "output_type": "stream",
     "text": [
      "\n",
      "PRE:\n",
      "k: 1\n",
      "As expected, got NameError(name 'v' is not defined).\n",
      "\n",
      "IN:\n",
      "k: 4\n",
      "z: 3\n",
      "\n",
      "POST:\n",
      "k: 1\n",
      "As expected, got NameError(name 'z' is not defined).\n"
     ]
    }
   ],
   "source": [
    "k = 1\n",
    "print('\\nPRE:')\n",
    "print('k:', k)\n",
    "try: \n",
    "    del v\n",
    "except:\n",
    "    pass\n",
    "with assert_raises(NameError):\n",
    "    print('v:', v)\n",
    "    \n",
    "with temporary_global_scope({'z': 3, 'k': 4}):\n",
    "    print('\\nIN:')\n",
    "    print('k:', k)\n",
    "    print('z:', z)\n",
    "    \n",
    "print('\\nPOST:')\n",
    "print('k:', k)\n",
    "with assert_raises(NameError):\n",
    "    print('z:', z)"
   ]
  },
  {
   "cell_type": "code",
   "execution_count": 5,
   "metadata": {
    "ExecuteTime": {
     "end_time": "2020-12-09T03:41:09.441075Z",
     "start_time": "2020-12-09T03:41:09.397648Z"
    }
   },
   "outputs": [],
   "source": [
    "\"\"\"Realized this updates function signature (so the user sees the desired \n",
    "arguments when hitting shift-tab) but it doesn't actually update the args\n",
    "accepted by the function. Options:\n",
    "1. Construct a new function with the desired params. This is more robust\n",
    "since it should ensure the correct values of __defaults__, __kwedefaults__,\n",
    "etc.\n",
    "\n",
    "UPDATE: Proposed method 2 (simply adding args/kwargs) does not work since\n",
    "vars will be available in the decorated func as kwargs['a'] rather than a. At\n",
    "the moment, I've implemented a seemingly working hack to make them available\n",
    "as temporary global kwargs. Would prefer to get the signature to match the \n",
    "real function but this is something. At the moment, we don't support adding\n",
    "args or kwargs from *fns (I'm thinking kwargs might be possible in some way by\n",
    "prepending them with the func name, e.g. foo_kwargs, tri_kwargs, etc. Have to\n",
    "think about if this would work for args.)\n",
    "\n",
    "Should also think about if this is really the desired interface. Might be hard\n",
    "to remember what variables are available because they're not explicitly shown\n",
    "in code, even if they are in the signature. Realized fastai's delegates does\n",
    "something a bit different: func still accepts kwargs, you just see the names\n",
    "in the docstring. This is probably much safer, though the use case is a little\n",
    "different.\n",
    "\"\"\"\n",
    "def add_kwargs(*fns, required=True, variable=True):\n",
    "    \"\"\"When one or more functions are called inside another function, we often\n",
    "    have the choice of accepting **kwargs in our outer function (downside: \n",
    "    user can't see parameter names with quick documentation tools) or \n",
    "    explicitly typing out each parameter name and default (downsides: time \n",
    "    consuming and error prone since it's easy to update the inner function and\n",
    "    forget to update the outer one). This lets us update the outer function's\n",
    "    signature automatically based on the inner function(s)'s signature(s).\n",
    "    The Examples section should make this more clear.\n",
    "    \n",
    "    The wrapped function must accept **kwargs, but you shouldn't refer to \n",
    "    `kwargs` explicitly inside the function. Its variables will be made\n",
    "    available essentially as global variables.\n",
    "    \n",
    "    Note: don't actually use this for anything important, I imagine it could\n",
    "    lead to some pretty nasty bugs. I was just determined to get something\n",
    "    working.\n",
    "    \n",
    "    Parameters\n",
    "    ----------\n",
    "    fns: functions\n",
    "        The inner functions whose signatures you wish to use to update the\n",
    "        signature of the decorated outer function. When multiple functions \n",
    "        contain a parameter with the same name, priority is determined by the\n",
    "        order of `fns` (earlier means higher priority).\n",
    "    required: bool\n",
    "        If True, include required arguments from inner functions (that is,\n",
    "        positional arguments or positional_or_keyword arguments with no \n",
    "        default value). If False, exclude these (it may be preferable to \n",
    "        explicitly include them in the wrapped function's signature).\n",
    "    variable: bool\n",
    "        If True, include *kwargs and **kwargs from the inner functions. They\n",
    "        will be made available as {inner_function_name}_args and \n",
    "        {inner_function_name}_kwargs, respectively (see Examples). Otherwise,\n",
    "        they will be excluded.\n",
    "    \n",
    "    Examples\n",
    "    --------\n",
    "    def foo(x, c, *args, a=3, e=(11, 9), b=True, f=('a', 'b', 'c'), **kwargs):\n",
    "        print('in foo')\n",
    "        return x * c\n",
    "        \n",
    "    def baz(n, z='z', x='xbaz', c='cbaz'):\n",
    "        print('in baz')\n",
    "        return n + z + x + c\n",
    "        \n",
    "    baz comes before foo so its x param takes priority and has a default\n",
    "    value of 'xbaz'. The decorated function always retains first priority so\n",
    "    the c param remains positional despite its appearance as a positional\n",
    "    arg in foo.\n",
    "    \n",
    "    @add_kwargs(baz, foo, positional=True)\n",
    "    def bar(c, d=16, **kwargs):\n",
    "        foo_res = foo(x, c, *foo_args, a=a, e=e, b=b, f=f, **foo_kwargs)\n",
    "        baz_res = baz(n, z, x, c)\n",
    "        return {'c': c, 'n': n, 'd': d, 'x': x, 'z': z, 'a': a, \n",
    "                'e': e, 'b': b, 'f': f}\n",
    "                \n",
    "    bar ends up with the following signature:\n",
    "    <Signature (c, n, d=16, x='xtri', foo_args=(), z='z', *, a=3, e=(11, 9),\n",
    "                b=True, f=('a', 'b', 'c'), foo_kwargs={}, **kwargs)>\n",
    "                \n",
    "    Notice many variables are available inside the function even though they\n",
    "    aren't explicitly hard-coded into our function definition. When using\n",
    "    shift-tab in Jupyter or other quick doc tools, they will all be visible.\n",
    "    You can see how passing in multiple functions can quickly get messy so\n",
    "    if you insist on using this, try to keep it to 1-2 functions if possible.\n",
    "    \"\"\"\n",
    "    param_types = {Parameter.POSITIONAL_OR_KEYWORD, Parameter.KEYWORD_ONLY}\n",
    "    if required: param_types.add(Parameter.POSITIONAL_ONLY)\n",
    "        \n",
    "    def _args(fn): \n",
    "        res = {}\n",
    "        for k, v in params(fn).items():\n",
    "            # If required=False, allow positional_or_keyword args with\n",
    "            # defaults but not those without. \n",
    "            if v.kind in param_types and (required \n",
    "                                          or v.default != inspect._empty):\n",
    "                res[k] = v\n",
    "                \n",
    "            # args/kwargs are converted to non-varying types and names are\n",
    "            # adjusted to include function name. E.g. if we're adding kwargs\n",
    "            # from function foo which accepts kwargs, that arg becomes a \n",
    "            # keyword-only dictionary called foo_kwargs.\n",
    "            elif variable:\n",
    "                name = f'{fn.__name__}_{k}'\n",
    "                if v.kind == Parameter.VAR_POSITIONAL:\n",
    "                    kind = Parameter.POSITIONAL_OR_KEYWORD\n",
    "                    default = ()\n",
    "                elif v.kind == Parameter.VAR_KEYWORD:\n",
    "                    kind = Parameter.KEYWORD_ONLY\n",
    "                    default = {}\n",
    "                else:\n",
    "                    continue\n",
    "                res[name] = Parameter(name, kind, default=default)\n",
    "        return res\n",
    "    \n",
    "    # ChainMap operates in reverse order so functions that appear earlier in\n",
    "    # `fns` take priority.\n",
    "    extras_ = dict(ChainMap(*map(_args, fns)))\n",
    "\n",
    "    def decorator(func):\n",
    "        \"\"\"First get params present in func's original signature, then get\n",
    "        params from additional functions which are NOT present in original \n",
    "        signature. Combine and sort param lists so positional args come first\n",
    "        etc. Finally replace func's signature with our newly constructed one.\n",
    "        \"\"\"\n",
    "        sig = inspect.signature(func)\n",
    "        extras = [v for v in \n",
    "                  select(extras_, drop=sig.parameters.keys()).values()]\n",
    "        parameters = sorted(\n",
    "            list(sig.parameters.values()) + extras, \n",
    "            key=lambda x: (x.kind, x.default != inspect._empty)\n",
    "        )\n",
    "        func.__signature__ = sig.replace(parameters=parameters)\n",
    "        \n",
    "        @wraps(func)\n",
    "        def wrapper(*args, **kwargs):\n",
    "            \"\"\"Execute wrapped function in a context where kwargs are \n",
    "            temporarily available as globals. Globals will be restored to \n",
    "            its prior state once execution completes.\n",
    "            \"\"\"\n",
    "            # Order matters here: defaults must come first so user-passed \n",
    "            # args/kwargs will override them.\n",
    "            kwargs = {**{p.name: p.default for p in extras},  \n",
    "                      **func.__signature__.bind(*args, **kwargs).arguments}\n",
    "            with temporary_global_scope(kwargs):\n",
    "                return func(**kwargs)\n",
    "        return wrapper\n",
    "    return decorator"
   ]
  },
  {
   "cell_type": "code",
   "execution_count": 3,
   "metadata": {
    "ExecuteTime": {
     "end_time": "2020-12-09T04:06:59.112023Z",
     "start_time": "2020-12-09T04:06:59.070484Z"
    }
   },
   "outputs": [
    {
     "name": "stderr",
     "output_type": "stream",
     "text": [
      "/Users/hmamin/anaconda3/lib/python3.7/site-packages/ipykernel/ipkernel.py:287: DeprecationWarning: `should_run_async` will not call `transform_cell` automatically in the future. Please pass the result to `transformed_cell` argument and any exception that happen during thetransform in `preprocessing_exc_tuple` in IPython 7.17 and above.\n",
      "  and should_run_async(code)\n"
     ]
    }
   ],
   "source": [
    "def foo(x, c, *args, a=3, e=(11, 9), b=True, f=('a', 'b', 'c'), **kwargs):\n",
    "    print('foo args', args, 'foo kwargs', kwargs)\n",
    "    return a*b"
   ]
  },
  {
   "cell_type": "code",
   "execution_count": 4,
   "metadata": {
    "ExecuteTime": {
     "end_time": "2020-12-09T04:06:59.383924Z",
     "start_time": "2020-12-09T04:06:59.340316Z"
    }
   },
   "outputs": [],
   "source": [
    "def bar(c, d=16):\n",
    "    print('in bar')\n",
    "    with assert_raises(Exception):\n",
    "        print(f'x={x}')\n",
    "    try:\n",
    "        print({'c': c, 'd': d, 'a': a, 'e': e, 'b': b, 'f': f})\n",
    "    except:\n",
    "        print('could not find c, d, a, e, b, f')"
   ]
  },
  {
   "cell_type": "code",
   "execution_count": 5,
   "metadata": {
    "ExecuteTime": {
     "end_time": "2020-12-09T04:06:59.636523Z",
     "start_time": "2020-12-09T04:06:59.595198Z"
    }
   },
   "outputs": [
    {
     "data": {
      "text/plain": [
       "(16,)"
      ]
     },
     "execution_count": 5,
     "metadata": {},
     "output_type": "execute_result"
    }
   ],
   "source": [
    "getattr(bar, '__defaults__', None)"
   ]
  },
  {
   "cell_type": "code",
   "execution_count": 6,
   "metadata": {
    "ExecuteTime": {
     "end_time": "2020-12-09T04:07:00.057972Z",
     "start_time": "2020-12-09T04:07:00.018794Z"
    }
   },
   "outputs": [],
   "source": [
    "getattr(bar, '__kwedefaults__', None)"
   ]
  },
  {
   "cell_type": "code",
   "execution_count": 7,
   "metadata": {
    "ExecuteTime": {
     "end_time": "2020-12-09T04:07:00.515638Z",
     "start_time": "2020-12-09T04:07:00.474297Z"
    }
   },
   "outputs": [
    {
     "name": "stdout",
     "output_type": "stream",
     "text": [
      "As expected, got TypeError(bar() got an unexpected keyword argument 'e').\n"
     ]
    }
   ],
   "source": [
    "with assert_raises(TypeError):\n",
    "    bar(1, e=44)"
   ]
  },
  {
   "cell_type": "code",
   "execution_count": 8,
   "metadata": {
    "ExecuteTime": {
     "end_time": "2020-12-09T04:07:01.139142Z",
     "start_time": "2020-12-09T04:07:01.100501Z"
    }
   },
   "outputs": [
    {
     "data": {
      "text/plain": [
       "False"
      ]
     },
     "execution_count": 8,
     "metadata": {},
     "output_type": "execute_result"
    }
   ],
   "source": [
    "hasattr(bar, '__signature__')"
   ]
  },
  {
   "cell_type": "code",
   "execution_count": 9,
   "metadata": {
    "ExecuteTime": {
     "end_time": "2020-12-09T04:07:02.167691Z",
     "start_time": "2020-12-09T04:07:02.134653Z"
    }
   },
   "outputs": [],
   "source": [
    "@add_kwargs(foo, required=True)\n",
    "def bar(q, d=16, **kwargs):\n",
    "    print('bar locals', locals())\n",
    "    foo(x, c, *foo_args, a=a, e=e, b=b, f=f, **foo_kwargs)\n",
    "    foo_kwargs['test'] = 'new_val'\n",
    "    return {'q': q, 'x': x, 'c': c, 'd': d, 'a': a, 'e': e, 'b': b, 'f': f}"
   ]
  },
  {
   "cell_type": "code",
   "execution_count": 13,
   "metadata": {
    "ExecuteTime": {
     "end_time": "2020-12-09T03:41:14.157816Z",
     "start_time": "2020-12-09T03:41:14.120815Z"
    }
   },
   "outputs": [
    {
     "data": {
      "text/plain": [
       "<Signature (q, x, c, d=16, foo_args=(), *, a=3, e=(11, 9), b=True, f=('a', 'b', 'c'), foo_kwargs={}, **kwargs)>"
      ]
     },
     "execution_count": 13,
     "metadata": {},
     "output_type": "execute_result"
    }
   ],
   "source": [
    "inspect.signature(bar)"
   ]
  },
  {
   "cell_type": "code",
   "execution_count": 11,
   "metadata": {
    "ExecuteTime": {
     "end_time": "2020-12-09T04:07:11.869904Z",
     "start_time": "2020-12-09T04:07:11.825740Z"
    }
   },
   "outputs": [
    {
     "name": "stdout",
     "output_type": "stream",
     "text": [
      "ctx manager globals\n",
      "bar locals {'q': 88, 'd': 16, 'kwargs': {'x': 'xx', 'c': 999, 'foo_args': (), 'a': 'a4', 'e': (11, 9), 'b': True, 'f': ('a', 'b', 'c'), 'foo_kwargs': {'j': 100, 'nnn': -1}}}\n",
      "foo args () foo kwargs {'j': 100, 'nnn': -1}\n"
     ]
    },
    {
     "data": {
      "text/plain": [
       "{'q': 88,\n",
       " 'x': 'xx',\n",
       " 'c': 999,\n",
       " 'd': 16,\n",
       " 'a': 'a4',\n",
       " 'e': (11, 9),\n",
       " 'b': True,\n",
       " 'f': ('a', 'b', 'c')}"
      ]
     },
     "execution_count": 11,
     "metadata": {},
     "output_type": "execute_result"
    }
   ],
   "source": [
    "bar(88, 'xx', 999, a='a4', foo_kwargs={'j': 100, 'nnn': -1})"
   ]
  },
  {
   "cell_type": "code",
   "execution_count": 16,
   "metadata": {
    "ExecuteTime": {
     "end_time": "2020-12-08T05:49:36.180503Z",
     "start_time": "2020-12-08T05:49:36.131616Z"
    }
   },
   "outputs": [
    {
     "name": "stdout",
     "output_type": "stream",
     "text": [
      "bar locals {'q': 98, 'd': 'dad', 'kwargs': {'x': 1, 'c': 2, 'foo_args': (), 'a': 3, 'e': (11, 9), 'b': True, 'f': ('a', 'b', 'c'), 'foo_kwargs': {}}}\n",
      "foo args () foo kwargs {}\n"
     ]
    },
    {
     "data": {
      "text/plain": [
       "{'q': 98,\n",
       " 'x': 1,\n",
       " 'c': 2,\n",
       " 'd': 'dad',\n",
       " 'a': 3,\n",
       " 'e': (11, 9),\n",
       " 'b': True,\n",
       " 'f': ('a', 'b', 'c')}"
      ]
     },
     "execution_count": 16,
     "metadata": {},
     "output_type": "execute_result"
    }
   ],
   "source": [
    "bar(q=98, x=1, c=2, d='dad')"
   ]
  },
  {
   "cell_type": "code",
   "execution_count": 17,
   "metadata": {
    "ExecuteTime": {
     "end_time": "2020-12-08T05:49:46.308649Z",
     "start_time": "2020-12-08T05:49:46.277168Z"
    }
   },
   "outputs": [],
   "source": [
    "def tri(n, z='z', x='xtri', c='ctri'):\n",
    "    print('In tri')\n",
    "    return n * (z+x+c)"
   ]
  },
  {
   "cell_type": "code",
   "execution_count": 18,
   "metadata": {
    "ExecuteTime": {
     "end_time": "2020-12-08T05:49:49.276660Z",
     "start_time": "2020-12-08T05:49:49.244490Z"
    }
   },
   "outputs": [],
   "source": [
    "# tri comes first. This means its x param should take priority over foo's. bar\n",
    "# always takes first priority so the c param remains positional.\n",
    "@add_kwargs(tri, foo, required=True)\n",
    "def bar(c, d=16, **kwargs):\n",
    "    print('bar locals:', locals())\n",
    "    return {'c': c, 'n': n, 'd': d, 'x': x, 'z': z, 'a': a, 'e': e, 'b': b, \n",
    "            'f': f}"
   ]
  },
  {
   "cell_type": "code",
   "execution_count": 19,
   "metadata": {
    "ExecuteTime": {
     "end_time": "2020-12-08T05:49:53.669714Z",
     "start_time": "2020-12-08T05:49:53.631347Z"
    }
   },
   "outputs": [
    {
     "data": {
      "text/plain": [
       "<Signature (c, n, d=16, x='xtri', foo_args=(), z='z', *, a=3, e=(11, 9), b=True, f=('a', 'b', 'c'), foo_kwargs={}, **kwargs)>"
      ]
     },
     "execution_count": 19,
     "metadata": {},
     "output_type": "execute_result"
    }
   ],
   "source": [
    "bar.__signature__"
   ]
  },
  {
   "cell_type": "code",
   "execution_count": 23,
   "metadata": {
    "ExecuteTime": {
     "end_time": "2020-12-08T05:50:27.918641Z",
     "start_time": "2020-12-08T05:50:27.879416Z"
    }
   },
   "outputs": [
    {
     "name": "stdout",
     "output_type": "stream",
     "text": [
      "bar locals: {'c': 1, 'd': 16, 'kwargs': {'x': 'xtri', 'foo_args': (), 'a': 3, 'e': (11, 9), 'b': True, 'f': ('a', 'b', 'c'), 'foo_kwargs': {}, 'n': 11, 'z': 'zzz'}}\n"
     ]
    }
   ],
   "source": [
    "n = 100\n",
    "bar(1, 11, z='zzz')\n",
    "assert n == 100"
   ]
  },
  {
   "cell_type": "code",
   "execution_count": 24,
   "metadata": {
    "ExecuteTime": {
     "end_time": "2020-12-08T05:50:34.305016Z",
     "start_time": "2020-12-08T05:50:34.239383Z"
    },
    "scrolled": true
   },
   "outputs": [
    {
     "name": "stdout",
     "output_type": "stream",
     "text": [
      "bar locals: {'c': 1, 'd': 16, 'kwargs': {'x': 'xtri', 'foo_args': (), 'a': 3, 'e': (11, 9), 'b': True, 'f': ('a', 'b', 'c'), 'foo_kwargs': {}, 'n': 14, 'z': 'zzz'}}\n"
     ]
    },
    {
     "data": {
      "text/plain": [
       "{'c': 1,\n",
       " 'n': 14,\n",
       " 'd': 16,\n",
       " 'x': 'xtri',\n",
       " 'z': 'zzz',\n",
       " 'a': 3,\n",
       " 'e': (11, 9),\n",
       " 'b': True,\n",
       " 'f': ('a', 'b', 'c')}"
      ]
     },
     "execution_count": 24,
     "metadata": {},
     "output_type": "execute_result"
    }
   ],
   "source": [
    "bar(1, n=14, z='zzz')"
   ]
  },
  {
   "cell_type": "code",
   "execution_count": 25,
   "metadata": {
    "ExecuteTime": {
     "end_time": "2020-12-08T05:50:58.880912Z",
     "start_time": "2020-12-08T05:50:58.843556Z"
    }
   },
   "outputs": [],
   "source": [
    "# Foo comes first. x should be positional now.\n",
    "@add_kwargs(foo, tri, required=True)\n",
    "def bar(c, d=16, **kwargs):\n",
    "    print('in bar')\n",
    "    print('locals', locals())\n",
    "    return {'c': c, 'n': n, 'd': d, 'x': x, 'z': z, 'a': a, 'e': e, 'b': b, \n",
    "            'f': f}"
   ]
  },
  {
   "cell_type": "code",
   "execution_count": 26,
   "metadata": {
    "ExecuteTime": {
     "end_time": "2020-12-08T05:50:59.405459Z",
     "start_time": "2020-12-08T05:50:59.373029Z"
    }
   },
   "outputs": [
    {
     "data": {
      "text/plain": [
       "<Signature (c, n, x, d=16, z='z', foo_args=(), *, a=3, e=(11, 9), b=True, f=('a', 'b', 'c'), foo_kwargs={}, **kwargs)>"
      ]
     },
     "execution_count": 26,
     "metadata": {},
     "output_type": "execute_result"
    }
   ],
   "source": [
    "bar.__signature__"
   ]
  },
  {
   "cell_type": "code",
   "execution_count": 27,
   "metadata": {
    "ExecuteTime": {
     "end_time": "2020-12-08T05:51:00.180309Z",
     "start_time": "2020-12-08T05:51:00.149364Z"
    }
   },
   "outputs": [],
   "source": [
    "n = 100"
   ]
  },
  {
   "cell_type": "code",
   "execution_count": 28,
   "metadata": {
    "ExecuteTime": {
     "end_time": "2020-12-08T05:51:00.623421Z",
     "start_time": "2020-12-08T05:51:00.582198Z"
    }
   },
   "outputs": [
    {
     "name": "stdout",
     "output_type": "stream",
     "text": [
      "in bar\n",
      "locals {'c': 1, 'd': 16, 'kwargs': {'n': 11, 'z': 'zzz', 'x': 222, 'foo_args': (), 'a': 3, 'e': (11, 9), 'b': True, 'f': ('a', 'b', 'c'), 'foo_kwargs': {}}}\n"
     ]
    },
    {
     "data": {
      "text/plain": [
       "{'c': 1,\n",
       " 'n': 11,\n",
       " 'd': 16,\n",
       " 'x': 222,\n",
       " 'z': 'zzz',\n",
       " 'a': 3,\n",
       " 'e': (11, 9),\n",
       " 'b': True,\n",
       " 'f': ('a', 'b', 'c')}"
      ]
     },
     "execution_count": 28,
     "metadata": {},
     "output_type": "execute_result"
    }
   ],
   "source": [
    "bar(1, 11, 222, z='zzz')"
   ]
  },
  {
   "cell_type": "code",
   "execution_count": 29,
   "metadata": {
    "ExecuteTime": {
     "end_time": "2020-12-08T05:51:01.833919Z",
     "start_time": "2020-12-08T05:51:01.793017Z"
    },
    "scrolled": true
   },
   "outputs": [
    {
     "name": "stdout",
     "output_type": "stream",
     "text": [
      "in bar\n",
      "locals {'c': 1, 'd': 16, 'kwargs': {'n': 14, 'z': 'zzz', 'x': 900, 'foo_args': (), 'a': 3, 'e': (11, 9), 'b': True, 'f': ('a', 'b', 'c'), 'foo_kwargs': {}}}\n"
     ]
    },
    {
     "data": {
      "text/plain": [
       "{'c': 1,\n",
       " 'n': 14,\n",
       " 'd': 16,\n",
       " 'x': 900,\n",
       " 'z': 'zzz',\n",
       " 'a': 3,\n",
       " 'e': (11, 9),\n",
       " 'b': True,\n",
       " 'f': ('a', 'b', 'c')}"
      ]
     },
     "execution_count": 29,
     "metadata": {},
     "output_type": "execute_result"
    }
   ],
   "source": [
    "bar(1, n=14, x=900, z='zzz')"
   ]
  },
  {
   "cell_type": "code",
   "execution_count": 30,
   "metadata": {
    "ExecuteTime": {
     "end_time": "2020-12-08T05:51:02.737215Z",
     "start_time": "2020-12-08T05:51:02.701441Z"
    }
   },
   "outputs": [
    {
     "data": {
      "text/plain": [
       "100"
      ]
     },
     "execution_count": 30,
     "metadata": {},
     "output_type": "execute_result"
    }
   ],
   "source": [
    "n"
   ]
  },
  {
   "cell_type": "code",
   "execution_count": 39,
   "metadata": {
    "ExecuteTime": {
     "end_time": "2020-12-08T06:12:06.628593Z",
     "start_time": "2020-12-08T06:12:06.588377Z"
    }
   },
   "outputs": [],
   "source": [
    "# Tri comes first but positional=False so no n. x should have defaults. c does\n",
    "# not because it's already in bar as positional.\n",
    "@add_kwargs(tri, foo, required=False)\n",
    "def bar(c, d=16, **kwargs):\n",
    "    print('bar locals', locals())\n",
    "    return {'c': c, 'n': n, 'd': d, 'x': x, 'z': z, 'a': a, 'e': e, 'b': b, \n",
    "            'f': f}"
   ]
  },
  {
   "cell_type": "code",
   "execution_count": 40,
   "metadata": {
    "ExecuteTime": {
     "end_time": "2020-12-08T06:12:06.860862Z",
     "start_time": "2020-12-08T06:12:06.822295Z"
    }
   },
   "outputs": [
    {
     "data": {
      "text/plain": [
       "<Signature (c, d=16, foo_args=(), z='z', x='xtri', *, a=3, e=(11, 9), b=True, f=('a', 'b', 'c'), foo_kwargs={}, **kwargs)>"
      ]
     },
     "execution_count": 40,
     "metadata": {},
     "output_type": "execute_result"
    }
   ],
   "source": [
    "bar.__signature__"
   ]
  },
  {
   "cell_type": "code",
   "execution_count": 34,
   "metadata": {
    "ExecuteTime": {
     "end_time": "2020-12-08T05:51:27.292238Z",
     "start_time": "2020-12-08T05:51:27.247731Z"
    }
   },
   "outputs": [
    {
     "name": "stdout",
     "output_type": "stream",
     "text": [
      "bar locals {'c': 1, 'd': 11, 'kwargs': {'foo_args': (), 'a': 3, 'e': (11, 9), 'b': True, 'f': ('a', 'b', 'c'), 'foo_kwargs': {}, 'z': 'zzz', 'x': 'xtri'}}\n"
     ]
    },
    {
     "data": {
      "text/plain": [
       "{'c': 1,\n",
       " 'n': 100,\n",
       " 'd': 11,\n",
       " 'x': 'xtri',\n",
       " 'z': 'zzz',\n",
       " 'a': 3,\n",
       " 'e': (11, 9),\n",
       " 'b': True,\n",
       " 'f': ('a', 'b', 'c')}"
      ]
     },
     "execution_count": 34,
     "metadata": {},
     "output_type": "execute_result"
    }
   ],
   "source": [
    "bar(1, 11, z='zzz')"
   ]
  },
  {
   "cell_type": "code",
   "execution_count": 35,
   "metadata": {
    "ExecuteTime": {
     "end_time": "2020-12-08T05:51:28.130507Z",
     "start_time": "2020-12-08T05:51:28.095227Z"
    }
   },
   "outputs": [
    {
     "data": {
      "text/plain": [
       "[<Signature (n, z='z', x='xtri', c='ctri')>,\n",
       " <Signature (x, c, *args, a=3, e=(11, 9), b=True, f=('a', 'b', 'c'), **kwargs)>]"
      ]
     },
     "execution_count": 35,
     "metadata": {},
     "output_type": "execute_result"
    }
   ],
   "source": [
    "lmap(inspect.signature, tri, foo)"
   ]
  },
  {
   "cell_type": "code",
   "execution_count": 38,
   "metadata": {
    "ExecuteTime": {
     "end_time": "2020-12-08T06:11:33.041136Z",
     "start_time": "2020-12-08T06:11:33.009386Z"
    }
   },
   "outputs": [
    {
     "data": {
      "text/plain": [
       "[{'n': <_ParameterKind.POSITIONAL_OR_KEYWORD: 1>,\n",
       "  'z': <_ParameterKind.POSITIONAL_OR_KEYWORD: 1>,\n",
       "  'x': <_ParameterKind.POSITIONAL_OR_KEYWORD: 1>,\n",
       "  'c': <_ParameterKind.POSITIONAL_OR_KEYWORD: 1>},\n",
       " {'x': <_ParameterKind.POSITIONAL_OR_KEYWORD: 1>,\n",
       "  'c': <_ParameterKind.POSITIONAL_OR_KEYWORD: 1>,\n",
       "  'args': <_ParameterKind.VAR_POSITIONAL: 2>,\n",
       "  'a': <_ParameterKind.KEYWORD_ONLY: 3>,\n",
       "  'e': <_ParameterKind.KEYWORD_ONLY: 3>,\n",
       "  'b': <_ParameterKind.KEYWORD_ONLY: 3>,\n",
       "  'f': <_ParameterKind.KEYWORD_ONLY: 3>,\n",
       "  'kwargs': <_ParameterKind.VAR_KEYWORD: 4>}]"
      ]
     },
     "execution_count": 38,
     "metadata": {},
     "output_type": "execute_result"
    }
   ],
   "source": [
    "lmap(lambda x: {k: v.kind for \n",
    "                k, v in inspect.signature(x).parameters.items()}, tri, foo)"
   ]
  },
  {
   "cell_type": "code",
   "execution_count": 36,
   "metadata": {
    "ExecuteTime": {
     "end_time": "2020-12-08T05:51:29.233189Z",
     "start_time": "2020-12-08T05:51:29.197656Z"
    }
   },
   "outputs": [],
   "source": [
    "# Foo comes first but pos=False, so tri still overrides and we get x w/\n",
    "# default val.\n",
    "@add_kwargs(foo, tri, required=False)\n",
    "def bar(c, d=16, **kwargs):\n",
    "    print('in bar')\n",
    "    print('locals', locals())\n",
    "    return {'c': c, 'n': n, 'd': d, 'x': x, 'z': z, 'a': a, 'e': e, 'b': b, \n",
    "            'f': f}"
   ]
  },
  {
   "cell_type": "code",
   "execution_count": 37,
   "metadata": {
    "ExecuteTime": {
     "end_time": "2020-12-08T05:51:34.113754Z",
     "start_time": "2020-12-08T05:51:34.074157Z"
    }
   },
   "outputs": [
    {
     "data": {
      "text/plain": [
       "<Signature (c, d=16, z='z', x='xtri', foo_args=(), *, a=3, e=(11, 9), b=True, f=('a', 'b', 'c'), foo_kwargs={}, **kwargs)>"
      ]
     },
     "execution_count": 37,
     "metadata": {},
     "output_type": "execute_result"
    }
   ],
   "source": [
    "bar.__signature__"
   ]
  },
  {
   "cell_type": "code",
   "execution_count": 1126,
   "metadata": {
    "ExecuteTime": {
     "end_time": "2020-12-02T05:42:52.510106Z",
     "start_time": "2020-12-02T05:42:52.478321Z"
    }
   },
   "outputs": [
    {
     "name": "stdout",
     "output_type": "stream",
     "text": [
      "in bar\n",
      "locals {'c': 1, 'd': 11, 'kwargs': {'z': 'zzz', 'x': 'xtri', 'foo_args': (), 'a': 3, 'e': (11, 9), 'b': True, 'f': ('a', 'b', 'c'), 'foo_kwargs': {}}}\n"
     ]
    },
    {
     "data": {
      "text/plain": [
       "{'c': 1,\n",
       " 'n': 100,\n",
       " 'd': 11,\n",
       " 'x': 'xtri',\n",
       " 'z': 'zzz',\n",
       " 'a': 3,\n",
       " 'e': (11, 9),\n",
       " 'b': True,\n",
       " 'f': ('a', 'b', 'c')}"
      ]
     },
     "execution_count": 1126,
     "metadata": {},
     "output_type": "execute_result"
    }
   ],
   "source": [
    "bar(1, 11, z='zzz')"
   ]
  },
  {
   "cell_type": "markdown",
   "metadata": {},
   "source": [
    "## More involved approach: construct a new function rather than messing with signature"
   ]
  },
  {
   "cell_type": "code",
   "execution_count": 1088,
   "metadata": {
    "ExecuteTime": {
     "end_time": "2020-12-02T05:37:47.947668Z",
     "start_time": "2020-12-02T05:37:47.921461Z"
    }
   },
   "outputs": [],
   "source": [
    "import ast\n",
    "from ast import FunctionDef, arguments, Return, Module\n",
    "from inspect import getsource\n",
    "import re\n",
    "from types import FunctionType"
   ]
  },
  {
   "cell_type": "code",
   "execution_count": 662,
   "metadata": {
    "ExecuteTime": {
     "end_time": "2020-11-27T18:06:57.479648Z",
     "start_time": "2020-11-27T18:06:57.441859Z"
    }
   },
   "outputs": [],
   "source": [
    "bar_txt = \"\"\"\n",
    "def bar(c, d=16):\n",
    "    def _inner_(test):\n",
    "        return test\n",
    "    print('in bar')\n",
    "    with assert_raises(Exception):\n",
    "        print(f'x={x}')\n",
    "    try:\n",
    "        print({'c': c, 'd': d, 'a': a, 'e': e, 'b': b, 'f': f})\n",
    "    except:\n",
    "        print('could not find c, d, a, e, b, f')\n",
    "\"\"\""
   ]
  },
  {
   "cell_type": "code",
   "execution_count": 663,
   "metadata": {
    "ExecuteTime": {
     "end_time": "2020-11-27T18:06:57.511626Z",
     "start_time": "2020-11-27T18:06:57.485282Z"
    }
   },
   "outputs": [
    {
     "name": "stdout",
     "output_type": "stream",
     "text": [
      "old {'x': <Parameter \"x='xtri'\">, 'c': <Parameter \"c='ctri'\">, 'a': <Parameter \"a=3\">, 'e': <Parameter \"e=(11, 9)\">, 'b': <Parameter \"b=True\">, 'f': <Parameter \"f=('a', 'b', 'c')\">, 'n': <Parameter \"n\">, 'z': <Parameter \"z='z'\">}\n",
      "ex [<Parameter \"x='xtri'\">, <Parameter \"a=3\">, <Parameter \"e=(11, 9)\">, <Parameter \"b=True\">, <Parameter \"f=('a', 'b', 'c')\">, <Parameter \"n\">, <Parameter \"z='z'\">]\n",
      "params [<Parameter \"c\">, <Parameter \"n\">, <Parameter \"d=16\">, <Parameter \"x='xtri'\">, <Parameter \"z='z'\">, <Parameter \"a=3\">, <Parameter \"e=(11, 9)\">, <Parameter \"b=True\">, <Parameter \"f=('a', 'b', 'c')\">]\n"
     ]
    }
   ],
   "source": [
    "@add_kwargs(tri, foo, positional=True)\n",
    "def bar(c, d=16):\n",
    "    print('in bar')\n",
    "    tri_res = tri(n, z, x, c)\n",
    "    return tri_res, c*d"
   ]
  },
  {
   "cell_type": "code",
   "execution_count": 664,
   "metadata": {
    "ExecuteTime": {
     "end_time": "2020-11-27T18:06:57.562112Z",
     "start_time": "2020-11-27T18:06:57.517938Z"
    }
   },
   "outputs": [
    {
     "name": "stderr",
     "output_type": "stream",
     "text": [
      "<>:3: DeprecationWarning: invalid escape sequence \\(\n",
      "<>:3: DeprecationWarning: invalid escape sequence \\(\n",
      "<>:3: DeprecationWarning: invalid escape sequence \\(\n",
      "<ipython-input-664-332bcc1012a5>:3: DeprecationWarning: invalid escape sequence \\(\n",
      "  old_sig = re.search('def [^(]+(\\(.*\\)):', func_str).group(1)\n"
     ]
    }
   ],
   "source": [
    "def func_str_from_signature(func, func_str=None):\n",
    "    func_str = func_str or getsource(func)\n",
    "    old_sig = re.search('def [^(]+(\\(.*\\)):', func_str).group(1)\n",
    "    return func_str.replace(old_sig, str(func.__signature__))"
   ]
  },
  {
   "cell_type": "code",
   "execution_count": 665,
   "metadata": {
    "ExecuteTime": {
     "end_time": "2020-11-27T18:06:57.597765Z",
     "start_time": "2020-11-27T18:06:57.563830Z"
    }
   },
   "outputs": [
    {
     "name": "stdout",
     "output_type": "stream",
     "text": [
      "@add_kwargs(tri, foo, positional=True)\n",
      "def bar(c, d=16):\n",
      "    print('in bar')\n",
      "    tri_res = tri(n, z, x, c)\n",
      "    return tri_res, c*d\n",
      "\n"
     ]
    }
   ],
   "source": [
    "print(getsource(bar))"
   ]
  },
  {
   "cell_type": "code",
   "execution_count": 666,
   "metadata": {
    "ExecuteTime": {
     "end_time": "2020-11-27T18:06:57.637742Z",
     "start_time": "2020-11-27T18:06:57.602355Z"
    }
   },
   "outputs": [
    {
     "data": {
      "text/plain": [
       "<Signature (c, n, d=16, x='xtri', z='z', *, a=3, e=(11, 9), b=True, f=('a', 'b', 'c'))>"
      ]
     },
     "execution_count": 666,
     "metadata": {},
     "output_type": "execute_result"
    }
   ],
   "source": [
    "bar.__signature__"
   ]
  },
  {
   "cell_type": "code",
   "execution_count": 667,
   "metadata": {
    "ExecuteTime": {
     "end_time": "2020-11-27T18:06:57.684134Z",
     "start_time": "2020-11-27T18:06:57.640418Z"
    }
   },
   "outputs": [
    {
     "ename": "NameError",
     "evalue": "name 'match_signature' is not defined",
     "output_type": "error",
     "traceback": [
      "\u001b[0;31m---------------------------------------------------------------------------\u001b[0m",
      "\u001b[0;31mNameError\u001b[0m                                 Traceback (most recent call last)",
      "\u001b[0;32m<ipython-input-667-6461e986757f>\u001b[0m in \u001b[0;36m<module>\u001b[0;34m\u001b[0m\n\u001b[0;32m----> 1\u001b[0;31m \u001b[0mprint\u001b[0m\u001b[0;34m(\u001b[0m\u001b[0mmatch_signature\u001b[0m\u001b[0;34m(\u001b[0m\u001b[0mbar\u001b[0m\u001b[0;34m)\u001b[0m\u001b[0;34m)\u001b[0m\u001b[0;34m\u001b[0m\u001b[0;34m\u001b[0m\u001b[0m\n\u001b[0m",
      "\u001b[0;31mNameError\u001b[0m: name 'match_signature' is not defined"
     ]
    }
   ],
   "source": [
    "print(match_signature(bar))"
   ]
  },
  {
   "cell_type": "code",
   "execution_count": 668,
   "metadata": {
    "ExecuteTime": {
     "end_time": "2020-11-27T18:06:57.738409Z",
     "start_time": "2020-11-27T18:06:57.688066Z"
    }
   },
   "outputs": [
    {
     "name": "stderr",
     "output_type": "stream",
     "text": [
      "<>:2: DeprecationWarning: invalid escape sequence \\(\n",
      "<>:2: DeprecationWarning: invalid escape sequence \\(\n",
      "<>:2: DeprecationWarning: invalid escape sequence \\(\n",
      "<ipython-input-668-dae797d36328>:2: DeprecationWarning: invalid escape sequence \\(\n",
      "  name = re.search('def ([^(]+)\\(.*\\):', func_str).group(1)\n"
     ]
    }
   ],
   "source": [
    "def function_from_string(func_str):\n",
    "    name = re.search('def ([^(]+)\\(.*\\):', func_str).group(1)\n",
    "    print('name', name)\n",
    "    print('pre tree')\n",
    "    tree = ast.parse(func_str, mode='exec')\n",
    "    print('pre code')\n",
    "    code = compile(tree, filename='<fname>', mode='exec')\n",
    "    print('pre exec')\n",
    "    exec(code, globals())\n",
    "    print('pre return')\n",
    "    return globals()[name]"
   ]
  },
  {
   "cell_type": "code",
   "execution_count": 669,
   "metadata": {
    "ExecuteTime": {
     "end_time": "2020-11-27T18:06:57.772617Z",
     "start_time": "2020-11-27T18:06:57.741017Z"
    }
   },
   "outputs": [],
   "source": [
    "four_txt = \"\"\"\n",
    "def four(c, d=16):\n",
    "    def _inner_(test):\n",
    "        return test\n",
    "    print('in four')\n",
    "    return c*d\n",
    "\"\"\""
   ]
  },
  {
   "cell_type": "code",
   "execution_count": 670,
   "metadata": {
    "ExecuteTime": {
     "end_time": "2020-11-27T18:06:57.810569Z",
     "start_time": "2020-11-27T18:06:57.776802Z"
    }
   },
   "outputs": [
    {
     "name": "stdout",
     "output_type": "stream",
     "text": [
      "name four\n",
      "pre tree\n",
      "pre code\n",
      "pre exec\n",
      "pre return\n"
     ]
    }
   ],
   "source": [
    "newfunc = function_from_string(four_txt)"
   ]
  },
  {
   "cell_type": "code",
   "execution_count": 671,
   "metadata": {
    "ExecuteTime": {
     "end_time": "2020-11-27T18:06:57.849549Z",
     "start_time": "2020-11-27T18:06:57.815875Z"
    }
   },
   "outputs": [
    {
     "name": "stdout",
     "output_type": "stream",
     "text": [
      "in four\n"
     ]
    },
    {
     "data": {
      "text/plain": [
       "48"
      ]
     },
     "execution_count": 671,
     "metadata": {},
     "output_type": "execute_result"
    }
   ],
   "source": [
    "newfunc(3)"
   ]
  },
  {
   "cell_type": "code",
   "execution_count": 672,
   "metadata": {
    "ExecuteTime": {
     "end_time": "2020-11-27T18:06:57.883783Z",
     "start_time": "2020-11-27T18:06:57.851394Z"
    }
   },
   "outputs": [
    {
     "data": {
      "text/plain": [
       "'four'"
      ]
     },
     "execution_count": 672,
     "metadata": {},
     "output_type": "execute_result"
    }
   ],
   "source": [
    "newfunc.__name__"
   ]
  },
  {
   "cell_type": "code",
   "execution_count": 673,
   "metadata": {
    "ExecuteTime": {
     "end_time": "2020-11-27T18:06:57.921046Z",
     "start_time": "2020-11-27T18:06:57.885354Z"
    }
   },
   "outputs": [
    {
     "name": "stdout",
     "output_type": "stream",
     "text": [
      "in four\n"
     ]
    },
    {
     "data": {
      "text/plain": [
       "32"
      ]
     },
     "execution_count": 673,
     "metadata": {},
     "output_type": "execute_result"
    }
   ],
   "source": [
    "four(2)"
   ]
  },
  {
   "cell_type": "code",
   "execution_count": 674,
   "metadata": {
    "ExecuteTime": {
     "end_time": "2020-11-27T18:06:57.959762Z",
     "start_time": "2020-11-27T18:06:57.923200Z"
    }
   },
   "outputs": [
    {
     "name": "stdout",
     "output_type": "stream",
     "text": [
      "old {'x': <Parameter \"x='xtri'\">, 'c': <Parameter \"c='ctri'\">, 'a': <Parameter \"a=3\">, 'e': <Parameter \"e=(11, 9)\">, 'b': <Parameter \"b=True\">, 'f': <Parameter \"f=('a', 'b', 'c')\">, 'n': <Parameter \"n\">, 'z': <Parameter \"z='z'\">}\n",
      "ex [<Parameter \"x='xtri'\">, <Parameter \"a=3\">, <Parameter \"e=(11, 9)\">, <Parameter \"b=True\">, <Parameter \"f=('a', 'b', 'c')\">, <Parameter \"n\">, <Parameter \"z='z'\">]\n",
      "params [<Parameter \"c\">, <Parameter \"n\">, <Parameter \"d=16\">, <Parameter \"x='xtri'\">, <Parameter \"z='z'\">, <Parameter \"a=3\">, <Parameter \"e=(11, 9)\">, <Parameter \"b=True\">, <Parameter \"f=('a', 'b', 'c')\">]\n"
     ]
    }
   ],
   "source": [
    "@add_kwargs(tri, foo, positional=True)\n",
    "def bar(c, d=16):\n",
    "    print('in bar')\n",
    "    tri_res = tri(n, z, x, c)\n",
    "    return tri_res, c*d"
   ]
  },
  {
   "cell_type": "code",
   "execution_count": 675,
   "metadata": {
    "ExecuteTime": {
     "end_time": "2020-11-27T18:06:58.054912Z",
     "start_time": "2020-11-27T18:06:57.962553Z"
    }
   },
   "outputs": [
    {
     "data": {
      "text/plain": [
       "<function __main__.bar(c, n, d=16, x='xtri', z='z', *, a=3, e=(11, 9), b=True, f=('a', 'b', 'c'))>"
      ]
     },
     "execution_count": 675,
     "metadata": {},
     "output_type": "execute_result"
    }
   ],
   "source": [
    "bar"
   ]
  },
  {
   "cell_type": "code",
   "execution_count": 676,
   "metadata": {
    "ExecuteTime": {
     "end_time": "2020-11-27T18:06:58.111628Z",
     "start_time": "2020-11-27T18:06:58.071792Z"
    }
   },
   "outputs": [
    {
     "ename": "NameError",
     "evalue": "name 'match_signature' is not defined",
     "output_type": "error",
     "traceback": [
      "\u001b[0;31m---------------------------------------------------------------------------\u001b[0m",
      "\u001b[0;31mNameError\u001b[0m                                 Traceback (most recent call last)",
      "\u001b[0;32m<ipython-input-676-82bd6f1065de>\u001b[0m in \u001b[0;36m<module>\u001b[0;34m\u001b[0m\n\u001b[0;32m----> 1\u001b[0;31m \u001b[0mbar_new\u001b[0m \u001b[0;34m=\u001b[0m \u001b[0mfunction_from_string\u001b[0m\u001b[0;34m(\u001b[0m\u001b[0mmatch_signature\u001b[0m\u001b[0;34m(\u001b[0m\u001b[0mbar\u001b[0m\u001b[0;34m)\u001b[0m\u001b[0;34m)\u001b[0m\u001b[0;34m\u001b[0m\u001b[0;34m\u001b[0m\u001b[0m\n\u001b[0m",
      "\u001b[0;31mNameError\u001b[0m: name 'match_signature' is not defined"
     ]
    }
   ],
   "source": [
    "bar_new = function_from_string(match_signature(bar))"
   ]
  },
  {
   "cell_type": "code",
   "execution_count": 677,
   "metadata": {
    "ExecuteTime": {
     "end_time": "2020-11-27T18:06:58.163292Z",
     "start_time": "2020-11-27T18:06:58.114074Z"
    }
   },
   "outputs": [
    {
     "ename": "NameError",
     "evalue": "name 'bar_new' is not defined",
     "output_type": "error",
     "traceback": [
      "\u001b[0;31m---------------------------------------------------------------------------\u001b[0m",
      "\u001b[0;31mNameError\u001b[0m                                 Traceback (most recent call last)",
      "\u001b[0;32m<ipython-input-677-d5b2be52920d>\u001b[0m in \u001b[0;36m<module>\u001b[0;34m\u001b[0m\n\u001b[0;32m----> 1\u001b[0;31m \u001b[0mbar_new\u001b[0m\u001b[0;34m.\u001b[0m\u001b[0m__signature__\u001b[0m\u001b[0;34m\u001b[0m\u001b[0;34m\u001b[0m\u001b[0m\n\u001b[0m",
      "\u001b[0;31mNameError\u001b[0m: name 'bar_new' is not defined"
     ]
    }
   ],
   "source": [
    "bar_new.__signature__"
   ]
  },
  {
   "cell_type": "code",
   "execution_count": 678,
   "metadata": {
    "ExecuteTime": {
     "end_time": "2020-11-27T18:06:58.223147Z",
     "start_time": "2020-11-27T18:06:58.165946Z"
    }
   },
   "outputs": [
    {
     "ename": "NameError",
     "evalue": "name 'bar_new' is not defined",
     "output_type": "error",
     "traceback": [
      "\u001b[0;31m---------------------------------------------------------------------------\u001b[0m",
      "\u001b[0;31mNameError\u001b[0m                                 Traceback (most recent call last)",
      "\u001b[0;32m<ipython-input-678-74a4726073c6>\u001b[0m in \u001b[0;36m<module>\u001b[0;34m\u001b[0m\n\u001b[0;32m----> 1\u001b[0;31m \u001b[0mbar_new\u001b[0m\u001b[0;34m.\u001b[0m\u001b[0m__module__\u001b[0m\u001b[0;34m\u001b[0m\u001b[0;34m\u001b[0m\u001b[0m\n\u001b[0m",
      "\u001b[0;31mNameError\u001b[0m: name 'bar_new' is not defined"
     ]
    }
   ],
   "source": [
    "bar_new.__module__"
   ]
  },
  {
   "cell_type": "code",
   "execution_count": 679,
   "metadata": {
    "ExecuteTime": {
     "end_time": "2020-11-27T18:06:58.294818Z",
     "start_time": "2020-11-27T18:06:58.236014Z"
    }
   },
   "outputs": [
    {
     "ename": "NameError",
     "evalue": "name 'bar_new' is not defined",
     "output_type": "error",
     "traceback": [
      "\u001b[0;31m---------------------------------------------------------------------------\u001b[0m",
      "\u001b[0;31mNameError\u001b[0m                                 Traceback (most recent call last)",
      "\u001b[0;32m<ipython-input-679-673ba8a8ddc3>\u001b[0m in \u001b[0;36m<module>\u001b[0;34m\u001b[0m\n\u001b[0;32m----> 1\u001b[0;31m \u001b[0mbar_new\u001b[0m\u001b[0;34m(\u001b[0m\u001b[0;34m'c4'\u001b[0m\u001b[0;34m,\u001b[0m \u001b[0;36m3\u001b[0m\u001b[0;34m,\u001b[0m \u001b[0mz\u001b[0m\u001b[0;34m=\u001b[0m\u001b[0;34m'z11'\u001b[0m\u001b[0;34m)\u001b[0m\u001b[0;34m\u001b[0m\u001b[0;34m\u001b[0m\u001b[0m\n\u001b[0m",
      "\u001b[0;31mNameError\u001b[0m: name 'bar_new' is not defined"
     ]
    }
   ],
   "source": [
    "bar_new('c4', 3, z='z11')"
   ]
  },
  {
   "cell_type": "markdown",
   "metadata": {},
   "source": [
    "### Issue\n",
    "\n",
    "`function_from_string` doesn't seem to work inside decorator. The eval line oddly calls `add_kwargs` again. On this second execution, inspect is unable to retrieve the source file for func."
   ]
  },
  {
   "cell_type": "code",
   "execution_count": 680,
   "metadata": {
    "ExecuteTime": {
     "end_time": "2020-11-27T18:06:58.395070Z",
     "start_time": "2020-11-27T18:06:58.326164Z"
    }
   },
   "outputs": [],
   "source": [
    "def add_kwargs(*fns, positional=False):\n",
    "    \"\"\"When multiple functions contain a parameter with the same name, \n",
    "    priority is determined by the order of `fns`.\n",
    "    \"\"\"\n",
    "    param_types = [Parameter.POSITIONAL_OR_KEYWORD, \n",
    "                   Parameter.POSITIONAL_ONLY,\n",
    "                   Parameter.KEYWORD_ONLY]\n",
    "    if not positional: param_types = param_types[-1:]\n",
    "    def _args(fn): \n",
    "        return {k: v for k, v in params(fn).items() if v.kind in param_types}\n",
    "    old_args = dict(ChainMap(*map(_args, fns)))\n",
    "    print('ADD_KWARGS')\n",
    "\n",
    "    def decorator(func):\n",
    "        sig = inspect.signature(func)\n",
    "        extras = [Parameter(k, v.kind, default=v.default) for k, v in \n",
    "                  select(old_args, drop=sig.parameters.keys()).items()]\n",
    "        parameters = sorted(\n",
    "            list(sig.parameters.values()) + extras, \n",
    "            key=lambda x: (x.kind, x.default != inspect._empty)\n",
    "        )\n",
    "        func.__signature__ = sig.replace(parameters=parameters)\n",
    "        print('DECO 0')\n",
    "        src = getsource(func)\n",
    "        print('DECO 1')\n",
    "        _func = func_str_from_signature(func, src)\n",
    "        print('DECO 2')\n",
    "        _func = function_from_string(_func)\n",
    "        print('DECO 3')\n",
    "        \n",
    "        @wraps(func)\n",
    "        def wrapper(*args, **kwargs):\n",
    "            print('CALL')\n",
    "            return func(*args, **kwargs)\n",
    "        return wrapper\n",
    "    return decorator"
   ]
  },
  {
   "cell_type": "code",
   "execution_count": 681,
   "metadata": {
    "ExecuteTime": {
     "end_time": "2020-11-27T18:06:58.461358Z",
     "start_time": "2020-11-27T18:06:58.397044Z"
    },
    "scrolled": true
   },
   "outputs": [
    {
     "name": "stdout",
     "output_type": "stream",
     "text": [
      "ADD_KWARGS\n",
      "DECO 0\n",
      "DECO 1\n",
      "DECO 2\n",
      "name bar\n",
      "pre tree\n",
      "pre code\n",
      "pre exec\n",
      "ADD_KWARGS\n",
      "DECO 0\n"
     ]
    },
    {
     "ename": "OSError",
     "evalue": "could not get source code",
     "output_type": "error",
     "traceback": [
      "\u001b[0;31m---------------------------------------------------------------------------\u001b[0m",
      "\u001b[0;31mOSError\u001b[0m                                   Traceback (most recent call last)",
      "\u001b[0;32m<ipython-input-681-688962f18aea>\u001b[0m in \u001b[0;36m<module>\u001b[0;34m\u001b[0m\n\u001b[1;32m      1\u001b[0m \u001b[0;34m@\u001b[0m\u001b[0madd_kwargs\u001b[0m\u001b[0;34m(\u001b[0m\u001b[0mtri\u001b[0m\u001b[0;34m,\u001b[0m \u001b[0mfoo\u001b[0m\u001b[0;34m,\u001b[0m \u001b[0mpositional\u001b[0m\u001b[0;34m=\u001b[0m\u001b[0;32mTrue\u001b[0m\u001b[0;34m)\u001b[0m\u001b[0;34m\u001b[0m\u001b[0;34m\u001b[0m\u001b[0m\n\u001b[0;32m----> 2\u001b[0;31m \u001b[0;32mdef\u001b[0m \u001b[0mbar\u001b[0m\u001b[0;34m(\u001b[0m\u001b[0mc\u001b[0m\u001b[0;34m,\u001b[0m \u001b[0md\u001b[0m\u001b[0;34m=\u001b[0m\u001b[0;36m16\u001b[0m\u001b[0;34m)\u001b[0m\u001b[0;34m:\u001b[0m\u001b[0;34m\u001b[0m\u001b[0;34m\u001b[0m\u001b[0m\n\u001b[0m\u001b[1;32m      3\u001b[0m     \u001b[0mprint\u001b[0m\u001b[0;34m(\u001b[0m\u001b[0;34m'in bar'\u001b[0m\u001b[0;34m)\u001b[0m\u001b[0;34m\u001b[0m\u001b[0;34m\u001b[0m\u001b[0m\n\u001b[1;32m      4\u001b[0m     \u001b[0mtri_res\u001b[0m \u001b[0;34m=\u001b[0m \u001b[0mtri\u001b[0m\u001b[0;34m(\u001b[0m\u001b[0mn\u001b[0m\u001b[0;34m,\u001b[0m \u001b[0mz\u001b[0m\u001b[0;34m,\u001b[0m \u001b[0mx\u001b[0m\u001b[0;34m,\u001b[0m \u001b[0mc\u001b[0m\u001b[0;34m)\u001b[0m\u001b[0;34m\u001b[0m\u001b[0;34m\u001b[0m\u001b[0m\n\u001b[1;32m      5\u001b[0m     \u001b[0;32mreturn\u001b[0m \u001b[0mtri_res\u001b[0m\u001b[0;34m,\u001b[0m \u001b[0mc\u001b[0m\u001b[0;34m*\u001b[0m\u001b[0md\u001b[0m\u001b[0;34m\u001b[0m\u001b[0;34m\u001b[0m\u001b[0m\n",
      "\u001b[0;32m<ipython-input-680-67f6547d518f>\u001b[0m in \u001b[0;36mdecorator\u001b[0;34m(func)\u001b[0m\n\u001b[1;32m     26\u001b[0m         \u001b[0m_func\u001b[0m \u001b[0;34m=\u001b[0m \u001b[0mfunc_str_from_signature\u001b[0m\u001b[0;34m(\u001b[0m\u001b[0mfunc\u001b[0m\u001b[0;34m,\u001b[0m \u001b[0msrc\u001b[0m\u001b[0;34m)\u001b[0m\u001b[0;34m\u001b[0m\u001b[0;34m\u001b[0m\u001b[0m\n\u001b[1;32m     27\u001b[0m         \u001b[0mprint\u001b[0m\u001b[0;34m(\u001b[0m\u001b[0;34m'DECO 2'\u001b[0m\u001b[0;34m)\u001b[0m\u001b[0;34m\u001b[0m\u001b[0;34m\u001b[0m\u001b[0m\n\u001b[0;32m---> 28\u001b[0;31m         \u001b[0m_func\u001b[0m \u001b[0;34m=\u001b[0m \u001b[0mfunction_from_string\u001b[0m\u001b[0;34m(\u001b[0m\u001b[0m_func\u001b[0m\u001b[0;34m)\u001b[0m\u001b[0;34m\u001b[0m\u001b[0;34m\u001b[0m\u001b[0m\n\u001b[0m\u001b[1;32m     29\u001b[0m         \u001b[0mprint\u001b[0m\u001b[0;34m(\u001b[0m\u001b[0;34m'DECO 3'\u001b[0m\u001b[0;34m)\u001b[0m\u001b[0;34m\u001b[0m\u001b[0;34m\u001b[0m\u001b[0m\n\u001b[1;32m     30\u001b[0m \u001b[0;34m\u001b[0m\u001b[0m\n",
      "\u001b[0;32m<ipython-input-668-dae797d36328>\u001b[0m in \u001b[0;36mfunction_from_string\u001b[0;34m(func_str)\u001b[0m\n\u001b[1;32m      7\u001b[0m     \u001b[0mcode\u001b[0m \u001b[0;34m=\u001b[0m \u001b[0mcompile\u001b[0m\u001b[0;34m(\u001b[0m\u001b[0mtree\u001b[0m\u001b[0;34m,\u001b[0m \u001b[0mfilename\u001b[0m\u001b[0;34m=\u001b[0m\u001b[0;34m'<fname>'\u001b[0m\u001b[0;34m,\u001b[0m \u001b[0mmode\u001b[0m\u001b[0;34m=\u001b[0m\u001b[0;34m'exec'\u001b[0m\u001b[0;34m)\u001b[0m\u001b[0;34m\u001b[0m\u001b[0;34m\u001b[0m\u001b[0m\n\u001b[1;32m      8\u001b[0m     \u001b[0mprint\u001b[0m\u001b[0;34m(\u001b[0m\u001b[0;34m'pre exec'\u001b[0m\u001b[0;34m)\u001b[0m\u001b[0;34m\u001b[0m\u001b[0;34m\u001b[0m\u001b[0m\n\u001b[0;32m----> 9\u001b[0;31m     \u001b[0mexec\u001b[0m\u001b[0;34m(\u001b[0m\u001b[0mcode\u001b[0m\u001b[0;34m,\u001b[0m \u001b[0mglobals\u001b[0m\u001b[0;34m(\u001b[0m\u001b[0;34m)\u001b[0m\u001b[0;34m)\u001b[0m\u001b[0;34m\u001b[0m\u001b[0;34m\u001b[0m\u001b[0m\n\u001b[0m\u001b[1;32m     10\u001b[0m     \u001b[0mprint\u001b[0m\u001b[0;34m(\u001b[0m\u001b[0;34m'pre return'\u001b[0m\u001b[0;34m)\u001b[0m\u001b[0;34m\u001b[0m\u001b[0;34m\u001b[0m\u001b[0m\n\u001b[1;32m     11\u001b[0m     \u001b[0;32mreturn\u001b[0m \u001b[0mglobals\u001b[0m\u001b[0;34m(\u001b[0m\u001b[0;34m)\u001b[0m\u001b[0;34m[\u001b[0m\u001b[0mname\u001b[0m\u001b[0;34m]\u001b[0m\u001b[0;34m\u001b[0m\u001b[0;34m\u001b[0m\u001b[0m\n",
      "\u001b[0;32m<fname>\u001b[0m in \u001b[0;36m<module>\u001b[0;34m\u001b[0m\n",
      "\u001b[0;32m<ipython-input-680-67f6547d518f>\u001b[0m in \u001b[0;36mdecorator\u001b[0;34m(func)\u001b[0m\n\u001b[1;32m     22\u001b[0m         \u001b[0mfunc\u001b[0m\u001b[0;34m.\u001b[0m\u001b[0m__signature__\u001b[0m \u001b[0;34m=\u001b[0m \u001b[0msig\u001b[0m\u001b[0;34m.\u001b[0m\u001b[0mreplace\u001b[0m\u001b[0;34m(\u001b[0m\u001b[0mparameters\u001b[0m\u001b[0;34m=\u001b[0m\u001b[0mparameters\u001b[0m\u001b[0;34m)\u001b[0m\u001b[0;34m\u001b[0m\u001b[0;34m\u001b[0m\u001b[0m\n\u001b[1;32m     23\u001b[0m         \u001b[0mprint\u001b[0m\u001b[0;34m(\u001b[0m\u001b[0;34m'DECO 0'\u001b[0m\u001b[0;34m)\u001b[0m\u001b[0;34m\u001b[0m\u001b[0;34m\u001b[0m\u001b[0m\n\u001b[0;32m---> 24\u001b[0;31m         \u001b[0msrc\u001b[0m \u001b[0;34m=\u001b[0m \u001b[0mgetsource\u001b[0m\u001b[0;34m(\u001b[0m\u001b[0mfunc\u001b[0m\u001b[0;34m)\u001b[0m\u001b[0;34m\u001b[0m\u001b[0;34m\u001b[0m\u001b[0m\n\u001b[0m\u001b[1;32m     25\u001b[0m         \u001b[0mprint\u001b[0m\u001b[0;34m(\u001b[0m\u001b[0;34m'DECO 1'\u001b[0m\u001b[0;34m)\u001b[0m\u001b[0;34m\u001b[0m\u001b[0;34m\u001b[0m\u001b[0m\n\u001b[1;32m     26\u001b[0m         \u001b[0m_func\u001b[0m \u001b[0;34m=\u001b[0m \u001b[0mfunc_str_from_signature\u001b[0m\u001b[0;34m(\u001b[0m\u001b[0mfunc\u001b[0m\u001b[0;34m,\u001b[0m \u001b[0msrc\u001b[0m\u001b[0;34m)\u001b[0m\u001b[0;34m\u001b[0m\u001b[0;34m\u001b[0m\u001b[0m\n",
      "\u001b[0;32m~/anaconda3/lib/python3.7/inspect.py\u001b[0m in \u001b[0;36mgetsource\u001b[0;34m(object)\u001b[0m\n\u001b[1;32m    971\u001b[0m     \u001b[0;32mor\u001b[0m \u001b[0mcode\u001b[0m \u001b[0mobject\u001b[0m\u001b[0;34m.\u001b[0m  \u001b[0mThe\u001b[0m \u001b[0msource\u001b[0m \u001b[0mcode\u001b[0m \u001b[0;32mis\u001b[0m \u001b[0mreturned\u001b[0m \u001b[0;32mas\u001b[0m \u001b[0ma\u001b[0m \u001b[0msingle\u001b[0m \u001b[0mstring\u001b[0m\u001b[0;34m.\u001b[0m  \u001b[0mAn\u001b[0m\u001b[0;34m\u001b[0m\u001b[0;34m\u001b[0m\u001b[0m\n\u001b[1;32m    972\u001b[0m     OSError is raised if the source code cannot be retrieved.\"\"\"\n\u001b[0;32m--> 973\u001b[0;31m     \u001b[0mlines\u001b[0m\u001b[0;34m,\u001b[0m \u001b[0mlnum\u001b[0m \u001b[0;34m=\u001b[0m \u001b[0mgetsourcelines\u001b[0m\u001b[0;34m(\u001b[0m\u001b[0mobject\u001b[0m\u001b[0;34m)\u001b[0m\u001b[0;34m\u001b[0m\u001b[0;34m\u001b[0m\u001b[0m\n\u001b[0m\u001b[1;32m    974\u001b[0m     \u001b[0;32mreturn\u001b[0m \u001b[0;34m''\u001b[0m\u001b[0;34m.\u001b[0m\u001b[0mjoin\u001b[0m\u001b[0;34m(\u001b[0m\u001b[0mlines\u001b[0m\u001b[0;34m)\u001b[0m\u001b[0;34m\u001b[0m\u001b[0;34m\u001b[0m\u001b[0m\n\u001b[1;32m    975\u001b[0m \u001b[0;34m\u001b[0m\u001b[0m\n",
      "\u001b[0;32m~/anaconda3/lib/python3.7/inspect.py\u001b[0m in \u001b[0;36mgetsourcelines\u001b[0;34m(object)\u001b[0m\n\u001b[1;32m    953\u001b[0m     raised if the source code cannot be retrieved.\"\"\"\n\u001b[1;32m    954\u001b[0m     \u001b[0mobject\u001b[0m \u001b[0;34m=\u001b[0m \u001b[0munwrap\u001b[0m\u001b[0;34m(\u001b[0m\u001b[0mobject\u001b[0m\u001b[0;34m)\u001b[0m\u001b[0;34m\u001b[0m\u001b[0;34m\u001b[0m\u001b[0m\n\u001b[0;32m--> 955\u001b[0;31m     \u001b[0mlines\u001b[0m\u001b[0;34m,\u001b[0m \u001b[0mlnum\u001b[0m \u001b[0;34m=\u001b[0m \u001b[0mfindsource\u001b[0m\u001b[0;34m(\u001b[0m\u001b[0mobject\u001b[0m\u001b[0;34m)\u001b[0m\u001b[0;34m\u001b[0m\u001b[0;34m\u001b[0m\u001b[0m\n\u001b[0m\u001b[1;32m    956\u001b[0m \u001b[0;34m\u001b[0m\u001b[0m\n\u001b[1;32m    957\u001b[0m     \u001b[0;32mif\u001b[0m \u001b[0mistraceback\u001b[0m\u001b[0;34m(\u001b[0m\u001b[0mobject\u001b[0m\u001b[0;34m)\u001b[0m\u001b[0;34m:\u001b[0m\u001b[0;34m\u001b[0m\u001b[0;34m\u001b[0m\u001b[0m\n",
      "\u001b[0;32m~/anaconda3/lib/python3.7/inspect.py\u001b[0m in \u001b[0;36mfindsource\u001b[0;34m(object)\u001b[0m\n\u001b[1;32m    784\u001b[0m         \u001b[0mlines\u001b[0m \u001b[0;34m=\u001b[0m \u001b[0mlinecache\u001b[0m\u001b[0;34m.\u001b[0m\u001b[0mgetlines\u001b[0m\u001b[0;34m(\u001b[0m\u001b[0mfile\u001b[0m\u001b[0;34m)\u001b[0m\u001b[0;34m\u001b[0m\u001b[0;34m\u001b[0m\u001b[0m\n\u001b[1;32m    785\u001b[0m     \u001b[0;32mif\u001b[0m \u001b[0;32mnot\u001b[0m \u001b[0mlines\u001b[0m\u001b[0;34m:\u001b[0m\u001b[0;34m\u001b[0m\u001b[0;34m\u001b[0m\u001b[0m\n\u001b[0;32m--> 786\u001b[0;31m         \u001b[0;32mraise\u001b[0m \u001b[0mOSError\u001b[0m\u001b[0;34m(\u001b[0m\u001b[0;34m'could not get source code'\u001b[0m\u001b[0;34m)\u001b[0m\u001b[0;34m\u001b[0m\u001b[0;34m\u001b[0m\u001b[0m\n\u001b[0m\u001b[1;32m    787\u001b[0m \u001b[0;34m\u001b[0m\u001b[0m\n\u001b[1;32m    788\u001b[0m     \u001b[0;32mif\u001b[0m \u001b[0mismodule\u001b[0m\u001b[0;34m(\u001b[0m\u001b[0mobject\u001b[0m\u001b[0;34m)\u001b[0m\u001b[0;34m:\u001b[0m\u001b[0;34m\u001b[0m\u001b[0;34m\u001b[0m\u001b[0m\n",
      "\u001b[0;31mOSError\u001b[0m: could not get source code"
     ]
    }
   ],
   "source": [
    "@add_kwargs(tri, foo, positional=True)\n",
    "def bar(c, d=16):\n",
    "    print('in bar')\n",
    "    tri_res = tri(n, z, x, c)\n",
    "    return tri_res, c*d"
   ]
  },
  {
   "cell_type": "code",
   "execution_count": 682,
   "metadata": {
    "ExecuteTime": {
     "end_time": "2020-11-27T18:06:58.498299Z",
     "start_time": "2020-11-27T18:06:58.470717Z"
    }
   },
   "outputs": [
    {
     "data": {
      "text/plain": [
       "\"@add_kwargs(tri, foo, positional=True)\\ndef bar(c, d=16):\\n    print('in bar')\\n    tri_res = tri(n, z, x, c)\\n    return tri_res, c*d\\n\""
      ]
     },
     "execution_count": 682,
     "metadata": {},
     "output_type": "execute_result"
    }
   ],
   "source": [
    "getsource(bar)"
   ]
  },
  {
   "cell_type": "code",
   "execution_count": 683,
   "metadata": {
    "ExecuteTime": {
     "end_time": "2020-11-27T18:06:58.555697Z",
     "start_time": "2020-11-27T18:06:58.501294Z"
    }
   },
   "outputs": [
    {
     "ename": "TypeError",
     "evalue": "missing a required argument: 'n'",
     "output_type": "error",
     "traceback": [
      "\u001b[0;31m---------------------------------------------------------------------------\u001b[0m",
      "\u001b[0;31mTypeError\u001b[0m                                 Traceback (most recent call last)",
      "\u001b[0;32m<ipython-input-683-0699623aa859>\u001b[0m in \u001b[0;36m<module>\u001b[0;34m\u001b[0m\n\u001b[0;32m----> 1\u001b[0;31m \u001b[0mbar\u001b[0m\u001b[0;34m(\u001b[0m\u001b[0;36m2\u001b[0m\u001b[0;34m)\u001b[0m\u001b[0;34m\u001b[0m\u001b[0;34m\u001b[0m\u001b[0m\n\u001b[0m",
      "\u001b[0;32m<ipython-input-619-1a68ecbd8707>\u001b[0m in \u001b[0;36mwrapper\u001b[0;34m(*args, **kwargs)\u001b[0m\n\u001b[1;32m     46\u001b[0m \u001b[0;34m\u001b[0m\u001b[0m\n\u001b[1;32m     47\u001b[0m             \u001b[0;31m# Experimenting: trying to account for positional args correctly.\u001b[0m\u001b[0;34m\u001b[0m\u001b[0;34m\u001b[0m\u001b[0;34m\u001b[0m\u001b[0m\n\u001b[0;32m---> 48\u001b[0;31m             \u001b[0mkwargs\u001b[0m \u001b[0;34m=\u001b[0m \u001b[0mdict\u001b[0m\u001b[0;34m(\u001b[0m\u001b[0mfunc\u001b[0m\u001b[0;34m.\u001b[0m\u001b[0m__signature__\u001b[0m\u001b[0;34m.\u001b[0m\u001b[0mbind\u001b[0m\u001b[0;34m(\u001b[0m\u001b[0;34m*\u001b[0m\u001b[0margs\u001b[0m\u001b[0;34m,\u001b[0m \u001b[0;34m**\u001b[0m\u001b[0mkwargs\u001b[0m\u001b[0;34m)\u001b[0m\u001b[0;34m.\u001b[0m\u001b[0marguments\u001b[0m\u001b[0;34m)\u001b[0m\u001b[0;34m\u001b[0m\u001b[0;34m\u001b[0m\u001b[0m\n\u001b[0m\u001b[1;32m     49\u001b[0m             \u001b[0mkwargs\u001b[0m \u001b[0;34m=\u001b[0m \u001b[0;34m{\u001b[0m\u001b[0;34m**\u001b[0m\u001b[0;34m{\u001b[0m\u001b[0mp\u001b[0m\u001b[0;34m.\u001b[0m\u001b[0mname\u001b[0m\u001b[0;34m:\u001b[0m \u001b[0mp\u001b[0m\u001b[0;34m.\u001b[0m\u001b[0mdefault\u001b[0m \u001b[0;32mfor\u001b[0m \u001b[0mp\u001b[0m \u001b[0;32min\u001b[0m \u001b[0mextras\u001b[0m\u001b[0;34m}\u001b[0m\u001b[0;34m,\u001b[0m \u001b[0;34m**\u001b[0m\u001b[0mkwargs\u001b[0m\u001b[0;34m}\u001b[0m\u001b[0;34m\u001b[0m\u001b[0;34m\u001b[0m\u001b[0m\n\u001b[1;32m     50\u001b[0m \u001b[0;31m#             print('args', args)\u001b[0m\u001b[0;34m\u001b[0m\u001b[0;34m\u001b[0m\u001b[0;34m\u001b[0m\u001b[0m\n",
      "\u001b[0;32m~/anaconda3/lib/python3.7/inspect.py\u001b[0m in \u001b[0;36mbind\u001b[0;34m(*args, **kwargs)\u001b[0m\n\u001b[1;32m   3013\u001b[0m         \u001b[0;32mif\u001b[0m \u001b[0mthe\u001b[0m \u001b[0mpassed\u001b[0m \u001b[0marguments\u001b[0m \u001b[0mcan\u001b[0m \u001b[0;32mnot\u001b[0m \u001b[0mbe\u001b[0m \u001b[0mbound\u001b[0m\u001b[0;34m.\u001b[0m\u001b[0;34m\u001b[0m\u001b[0;34m\u001b[0m\u001b[0m\n\u001b[1;32m   3014\u001b[0m         \"\"\"\n\u001b[0;32m-> 3015\u001b[0;31m         \u001b[0;32mreturn\u001b[0m \u001b[0margs\u001b[0m\u001b[0;34m[\u001b[0m\u001b[0;36m0\u001b[0m\u001b[0;34m]\u001b[0m\u001b[0;34m.\u001b[0m\u001b[0m_bind\u001b[0m\u001b[0;34m(\u001b[0m\u001b[0margs\u001b[0m\u001b[0;34m[\u001b[0m\u001b[0;36m1\u001b[0m\u001b[0;34m:\u001b[0m\u001b[0;34m]\u001b[0m\u001b[0;34m,\u001b[0m \u001b[0mkwargs\u001b[0m\u001b[0;34m)\u001b[0m\u001b[0;34m\u001b[0m\u001b[0;34m\u001b[0m\u001b[0m\n\u001b[0m\u001b[1;32m   3016\u001b[0m \u001b[0;34m\u001b[0m\u001b[0m\n\u001b[1;32m   3017\u001b[0m     \u001b[0;32mdef\u001b[0m \u001b[0mbind_partial\u001b[0m\u001b[0;34m(\u001b[0m\u001b[0;34m*\u001b[0m\u001b[0margs\u001b[0m\u001b[0;34m,\u001b[0m \u001b[0;34m**\u001b[0m\u001b[0mkwargs\u001b[0m\u001b[0;34m)\u001b[0m\u001b[0;34m:\u001b[0m\u001b[0;34m\u001b[0m\u001b[0;34m\u001b[0m\u001b[0m\n",
      "\u001b[0;32m~/anaconda3/lib/python3.7/inspect.py\u001b[0m in \u001b[0;36m_bind\u001b[0;34m(self, args, kwargs, partial)\u001b[0m\n\u001b[1;32m   2928\u001b[0m                             \u001b[0mmsg\u001b[0m \u001b[0;34m=\u001b[0m \u001b[0;34m'missing a required argument: {arg!r}'\u001b[0m\u001b[0;34m\u001b[0m\u001b[0;34m\u001b[0m\u001b[0m\n\u001b[1;32m   2929\u001b[0m                             \u001b[0mmsg\u001b[0m \u001b[0;34m=\u001b[0m \u001b[0mmsg\u001b[0m\u001b[0;34m.\u001b[0m\u001b[0mformat\u001b[0m\u001b[0;34m(\u001b[0m\u001b[0marg\u001b[0m\u001b[0;34m=\u001b[0m\u001b[0mparam\u001b[0m\u001b[0;34m.\u001b[0m\u001b[0mname\u001b[0m\u001b[0;34m)\u001b[0m\u001b[0;34m\u001b[0m\u001b[0;34m\u001b[0m\u001b[0m\n\u001b[0;32m-> 2930\u001b[0;31m                             \u001b[0;32mraise\u001b[0m \u001b[0mTypeError\u001b[0m\u001b[0;34m(\u001b[0m\u001b[0mmsg\u001b[0m\u001b[0;34m)\u001b[0m \u001b[0;32mfrom\u001b[0m \u001b[0;32mNone\u001b[0m\u001b[0;34m\u001b[0m\u001b[0;34m\u001b[0m\u001b[0m\n\u001b[0m\u001b[1;32m   2931\u001b[0m             \u001b[0;32melse\u001b[0m\u001b[0;34m:\u001b[0m\u001b[0;34m\u001b[0m\u001b[0;34m\u001b[0m\u001b[0m\n\u001b[1;32m   2932\u001b[0m                 \u001b[0;31m# We have a positional argument to process\u001b[0m\u001b[0;34m\u001b[0m\u001b[0;34m\u001b[0m\u001b[0;34m\u001b[0m\u001b[0m\n",
      "\u001b[0;31mTypeError\u001b[0m: missing a required argument: 'n'"
     ]
    }
   ],
   "source": [
    "bar(2)"
   ]
  },
  {
   "cell_type": "code",
   "execution_count": null,
   "metadata": {},
   "outputs": [],
   "source": []
  }
 ],
 "metadata": {
  "kernelspec": {
   "display_name": "Python 3",
   "language": "python",
   "name": "python3"
  },
  "language_info": {
   "codemirror_mode": {
    "name": "ipython",
    "version": 3
   },
   "file_extension": ".py",
   "mimetype": "text/x-python",
   "name": "python",
   "nbconvert_exporter": "python",
   "pygments_lexer": "ipython3",
   "version": "3.7.3"
  }
 },
 "nbformat": 4,
 "nbformat_minor": 2
}
